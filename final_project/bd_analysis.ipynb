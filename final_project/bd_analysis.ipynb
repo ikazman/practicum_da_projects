{
 "cells": [
  {
   "cell_type": "markdown",
   "id": "e1f598c1-3e43-4cbd-9a0d-6fb90c20de5f",
   "metadata": {},
   "source": [
    "# Анализ базы данных книжного магазина\n",
    "***"
   ]
  },
  {
   "cell_type": "markdown",
   "id": "d0214483-c1d6-429c-8694-1ff2c29c4999",
   "metadata": {},
   "source": [
    "# Описание задачи"
   ]
  },
  {
   "cell_type": "markdown",
   "id": "6fad721f-ac99-4f49-9ca1-ada95c933438",
   "metadata": {},
   "source": [
    "Задача — проанализировать базу данных недавно приобретенного крупного сервиса для чтения книг по подписке."
   ]
  },
  {
   "cell_type": "markdown",
   "id": "e7912bd5-2b13-456f-8964-9fe7214bbab9",
   "metadata": {},
   "source": [
    "### Краткое описание данных\n",
    "\n",
    "Таблица `books` - данные о книгах, `authors` - данные об авторах, `publishers` - данные об издательствах, `ratings` - данные о пользовательских оценках книг, `reviews` - данные о пользовательских обзорах на книги."
   ]
  },
  {
   "cell_type": "markdown",
   "id": "8f4e0177-685c-4f41-bed8-48259c4333c3",
   "metadata": {},
   "source": [
    "### Задания\n",
    "\n",
    "- Посчитайте, сколько книг вышло после 1 января 2000 года;\n",
    "- Для каждой книги посчитайте количество обзоров и среднюю оценку;\n",
    "- Определите издательство, которое выпустило наибольшее число книг толще 50 страниц — так вы исключите из анализа брошюры;\n",
    "- Определите автора с самой высокой средней оценкой книг — учитывайте только книги с 50 и более оценками;\n",
    "- Посчитайте среднее количество обзоров от пользователей, которые поставили больше 50 оценок."
   ]
  },
  {
   "cell_type": "markdown",
   "id": "88943953-9703-4c0b-a3a4-300c999d1068",
   "metadata": {},
   "source": [
    "# Исследование"
   ]
  },
  {
   "cell_type": "markdown",
   "id": "bd6259fe-1e3a-4efa-b3f7-ee988f8e3d39",
   "metadata": {},
   "source": [
    "## 1. Импортируем библиотеки"
   ]
  },
  {
   "cell_type": "code",
   "execution_count": 1,
   "id": "f2b0f171-745f-4d40-b672-92536ebcc267",
   "metadata": {},
   "outputs": [
    {
     "data": {
      "text/plain": [
       "True"
      ]
     },
     "execution_count": 1,
     "metadata": {},
     "output_type": "execute_result"
    }
   ],
   "source": [
    "import os\n",
    "\n",
    "import pandas as pd\n",
    "from dotenv import load_dotenv\n",
    "from sqlalchemy import create_engine\n",
    "\n",
    "load_dotenv(encoding='ascii')\n"
   ]
  },
  {
   "cell_type": "markdown",
   "id": "35be6d96-6646-4278-af08-02750bab9d90",
   "metadata": {},
   "source": [
    "## 2. Подключимся к базе данных"
   ]
  },
  {
   "cell_type": "markdown",
   "id": "a3f4b96b-71f2-4a34-915e-10e3e8e56f1d",
   "metadata": {},
   "source": [
    "Устанавливаем параметры:"
   ]
  },
  {
   "cell_type": "code",
   "execution_count": 2,
   "id": "67066750-ab5b-4229-a57e-13e434c88529",
   "metadata": {},
   "outputs": [],
   "source": [
    "db_config = {'user': os.environ.get('user'), # имя пользователя\n",
    "             'pwd': os.environ.get('pwd'), # пароль\n",
    "             'host': os.environ.get('host'),\n",
    "             'port': os.environ.get('port'), # порт подключения\n",
    "             'db': os.environ.get('db')} # название базы данных\n",
    "\n",
    "connection_string = 'postgresql://{}:{}@{}:{}/{}'.format(db_config['user'],\n",
    "                                                         db_config['pwd'],\n",
    "                                                         db_config['host'],\n",
    "                                                         db_config['port'],\n",
    "                                                         db_config['db'])"
   ]
  },
  {
   "cell_type": "markdown",
   "id": "080f4dd6-7afe-45aa-917e-07f5ce9d0d00",
   "metadata": {},
   "source": [
    "Сохраняем коннектор:"
   ]
  },
  {
   "cell_type": "code",
   "execution_count": 3,
   "id": "6b077584-784c-4401-bc3b-1bbbf4381cdb",
   "metadata": {},
   "outputs": [],
   "source": [
    "engine = create_engine(connection_string, connect_args={'sslmode':'require'})"
   ]
  },
  {
   "cell_type": "markdown",
   "id": "b45c7ac5-9b6a-4a1b-a398-a4bd9aa8835f",
   "metadata": {},
   "source": [
    "Зададим простую функцию для чтения данных:"
   ]
  },
  {
   "cell_type": "code",
   "execution_count": 4,
   "id": "105c74e3-43d4-4eeb-b5cb-c69bbb1eeb19",
   "metadata": {},
   "outputs": [],
   "source": [
    "def query_handler(query):\n",
    "    return pd.io.sql.read_sql(query, con=engine)"
   ]
  },
  {
   "cell_type": "markdown",
   "id": "13bff6aa-f3c5-44b7-818a-28f1bd844abb",
   "metadata": {},
   "source": [
    "## 3. Решение задач"
   ]
  },
  {
   "cell_type": "markdown",
   "id": "257428e3-540b-4cbb-8d47-a5257d09add3",
   "metadata": {},
   "source": [
    "Сначала выведем первые и последние строки главной таблицы:"
   ]
  },
  {
   "cell_type": "code",
   "execution_count": 5,
   "id": "7105ef5d-75d9-44a3-ad71-17476dfd5a51",
   "metadata": {},
   "outputs": [],
   "source": [
    "query = '''\n",
    "SELECT *\n",
    "FROM books;\n",
    "'''"
   ]
  },
  {
   "cell_type": "code",
   "execution_count": 6,
   "id": "22b08540-b2a5-410a-98af-684d2f644130",
   "metadata": {},
   "outputs": [
    {
     "data": {
      "text/html": [
       "<div>\n",
       "<style scoped>\n",
       "    .dataframe tbody tr th:only-of-type {\n",
       "        vertical-align: middle;\n",
       "    }\n",
       "\n",
       "    .dataframe tbody tr th {\n",
       "        vertical-align: top;\n",
       "    }\n",
       "\n",
       "    .dataframe thead th {\n",
       "        text-align: right;\n",
       "    }\n",
       "</style>\n",
       "<table border=\"1\" class=\"dataframe\">\n",
       "  <thead>\n",
       "    <tr style=\"text-align: right;\">\n",
       "      <th></th>\n",
       "      <th>book_id</th>\n",
       "      <th>author_id</th>\n",
       "      <th>title</th>\n",
       "      <th>num_pages</th>\n",
       "      <th>publication_date</th>\n",
       "      <th>publisher_id</th>\n",
       "    </tr>\n",
       "  </thead>\n",
       "  <tbody>\n",
       "    <tr>\n",
       "      <th>0</th>\n",
       "      <td>1</td>\n",
       "      <td>546</td>\n",
       "      <td>'Salem's Lot</td>\n",
       "      <td>594</td>\n",
       "      <td>2005-11-01</td>\n",
       "      <td>93</td>\n",
       "    </tr>\n",
       "    <tr>\n",
       "      <th>1</th>\n",
       "      <td>2</td>\n",
       "      <td>465</td>\n",
       "      <td>1 000 Places to See Before You Die</td>\n",
       "      <td>992</td>\n",
       "      <td>2003-05-22</td>\n",
       "      <td>336</td>\n",
       "    </tr>\n",
       "    <tr>\n",
       "      <th>2</th>\n",
       "      <td>3</td>\n",
       "      <td>407</td>\n",
       "      <td>13 Little Blue Envelopes (Little Blue Envelope...</td>\n",
       "      <td>322</td>\n",
       "      <td>2010-12-21</td>\n",
       "      <td>135</td>\n",
       "    </tr>\n",
       "    <tr>\n",
       "      <th>3</th>\n",
       "      <td>4</td>\n",
       "      <td>82</td>\n",
       "      <td>1491: New Revelations of the Americas Before C...</td>\n",
       "      <td>541</td>\n",
       "      <td>2006-10-10</td>\n",
       "      <td>309</td>\n",
       "    </tr>\n",
       "    <tr>\n",
       "      <th>4</th>\n",
       "      <td>5</td>\n",
       "      <td>125</td>\n",
       "      <td>1776</td>\n",
       "      <td>386</td>\n",
       "      <td>2006-07-04</td>\n",
       "      <td>268</td>\n",
       "    </tr>\n",
       "    <tr>\n",
       "      <th>...</th>\n",
       "      <td>...</td>\n",
       "      <td>...</td>\n",
       "      <td>...</td>\n",
       "      <td>...</td>\n",
       "      <td>...</td>\n",
       "      <td>...</td>\n",
       "    </tr>\n",
       "    <tr>\n",
       "      <th>995</th>\n",
       "      <td>996</td>\n",
       "      <td>571</td>\n",
       "      <td>Wyrd Sisters (Discworld  #6; Witches #2)</td>\n",
       "      <td>265</td>\n",
       "      <td>2001-02-06</td>\n",
       "      <td>147</td>\n",
       "    </tr>\n",
       "    <tr>\n",
       "      <th>996</th>\n",
       "      <td>997</td>\n",
       "      <td>454</td>\n",
       "      <td>Xenocide (Ender's Saga  #3)</td>\n",
       "      <td>592</td>\n",
       "      <td>1996-07-15</td>\n",
       "      <td>297</td>\n",
       "    </tr>\n",
       "    <tr>\n",
       "      <th>997</th>\n",
       "      <td>998</td>\n",
       "      <td>201</td>\n",
       "      <td>Year of Wonders</td>\n",
       "      <td>358</td>\n",
       "      <td>2002-04-30</td>\n",
       "      <td>212</td>\n",
       "    </tr>\n",
       "    <tr>\n",
       "      <th>998</th>\n",
       "      <td>999</td>\n",
       "      <td>94</td>\n",
       "      <td>You Suck (A Love Story  #2)</td>\n",
       "      <td>328</td>\n",
       "      <td>2007-01-16</td>\n",
       "      <td>331</td>\n",
       "    </tr>\n",
       "    <tr>\n",
       "      <th>999</th>\n",
       "      <td>1000</td>\n",
       "      <td>509</td>\n",
       "      <td>Zen and the Art of Motorcycle Maintenance: An ...</td>\n",
       "      <td>540</td>\n",
       "      <td>2006-04-25</td>\n",
       "      <td>143</td>\n",
       "    </tr>\n",
       "  </tbody>\n",
       "</table>\n",
       "<p>1000 rows × 6 columns</p>\n",
       "</div>"
      ],
      "text/plain": [
       "     book_id  author_id                                              title  \\\n",
       "0          1        546                                       'Salem's Lot   \n",
       "1          2        465                 1 000 Places to See Before You Die   \n",
       "2          3        407  13 Little Blue Envelopes (Little Blue Envelope...   \n",
       "3          4         82  1491: New Revelations of the Americas Before C...   \n",
       "4          5        125                                               1776   \n",
       "..       ...        ...                                                ...   \n",
       "995      996        571           Wyrd Sisters (Discworld  #6; Witches #2)   \n",
       "996      997        454                        Xenocide (Ender's Saga  #3)   \n",
       "997      998        201                                    Year of Wonders   \n",
       "998      999         94                        You Suck (A Love Story  #2)   \n",
       "999     1000        509  Zen and the Art of Motorcycle Maintenance: An ...   \n",
       "\n",
       "     num_pages publication_date  publisher_id  \n",
       "0          594       2005-11-01            93  \n",
       "1          992       2003-05-22           336  \n",
       "2          322       2010-12-21           135  \n",
       "3          541       2006-10-10           309  \n",
       "4          386       2006-07-04           268  \n",
       "..         ...              ...           ...  \n",
       "995        265       2001-02-06           147  \n",
       "996        592       1996-07-15           297  \n",
       "997        358       2002-04-30           212  \n",
       "998        328       2007-01-16           331  \n",
       "999        540       2006-04-25           143  \n",
       "\n",
       "[1000 rows x 6 columns]"
      ]
     },
     "execution_count": 6,
     "metadata": {},
     "output_type": "execute_result"
    }
   ],
   "source": [
    "query_handler(query)"
   ]
  },
  {
   "cell_type": "markdown",
   "id": "5917b408-d421-4dc4-a5ee-a3d2d62bd6f8",
   "metadata": {},
   "source": [
    "&#9889; **Вывод:** в базе данные о 1000 книг."
   ]
  },
  {
   "cell_type": "markdown",
   "id": "8dea58b1-54eb-46f6-8f47-f62530334da8",
   "metadata": {},
   "source": [
    "### - посчитайтем, сколько книг вышло после 1 января 2000 года"
   ]
  },
  {
   "cell_type": "code",
   "execution_count": 7,
   "id": "9f4f98d6-9a8f-473f-80c3-d242d06be953",
   "metadata": {},
   "outputs": [],
   "source": [
    "query = \"\"\"\n",
    "SELECT COUNT(books)\n",
    "FROM books\n",
    "WHERE publication_date > '2000-01-01';\n",
    "\"\"\""
   ]
  },
  {
   "cell_type": "code",
   "execution_count": 8,
   "id": "e5a3970e-a5b5-46a2-8f99-4be767264968",
   "metadata": {},
   "outputs": [
    {
     "data": {
      "text/html": [
       "<div>\n",
       "<style scoped>\n",
       "    .dataframe tbody tr th:only-of-type {\n",
       "        vertical-align: middle;\n",
       "    }\n",
       "\n",
       "    .dataframe tbody tr th {\n",
       "        vertical-align: top;\n",
       "    }\n",
       "\n",
       "    .dataframe thead th {\n",
       "        text-align: right;\n",
       "    }\n",
       "</style>\n",
       "<table border=\"1\" class=\"dataframe\">\n",
       "  <thead>\n",
       "    <tr style=\"text-align: right;\">\n",
       "      <th></th>\n",
       "      <th>count</th>\n",
       "    </tr>\n",
       "  </thead>\n",
       "  <tbody>\n",
       "    <tr>\n",
       "      <th>0</th>\n",
       "      <td>819</td>\n",
       "    </tr>\n",
       "  </tbody>\n",
       "</table>\n",
       "</div>"
      ],
      "text/plain": [
       "   count\n",
       "0    819"
      ]
     },
     "execution_count": 8,
     "metadata": {},
     "output_type": "execute_result"
    }
   ],
   "source": [
    "query_handler(query)"
   ]
  },
  {
   "cell_type": "markdown",
   "id": "c497e690-b964-4fa6-8191-8d0989a84f7a",
   "metadata": {},
   "source": [
    "&#9889; **Вывод:** после 1 января 2000 года вышло 819 книг."
   ]
  },
  {
   "cell_type": "markdown",
   "id": "d48b780b-1937-4e9e-996d-fcd68ff7630a",
   "metadata": {},
   "source": [
    "### - посчитайтем для каждой книги количество обзоров и среднюю оценку"
   ]
  },
  {
   "cell_type": "code",
   "execution_count": 9,
   "id": "4748dadf-7a9b-41a5-a9aa-dab0135fb854",
   "metadata": {},
   "outputs": [],
   "source": [
    "query = \"\"\"\n",
    "WITH mean_rating AS (\n",
    "    SELECT book_id,\n",
    "           ROUND(AVG(rating), 2) AS average_rating\n",
    "    FROM ratings\n",
    "    GROUP BY book_id),\n",
    "reviews_counter AS (\n",
    "    SELECT book_id,\n",
    "           COUNT(review_id) AS reviews_count\n",
    "    FROM reviews\n",
    "    GROUP BY book_id)\n",
    "SELECT books.book_id,\n",
    "       books.title,\n",
    "       mean_rating.average_rating,\n",
    "       reviews_counter.reviews_count\n",
    "FROM books\n",
    "LEFT OUTER JOIN mean_rating ON mean_rating.book_id = books.book_id\n",
    "LEFT OUTER JOIN reviews_counter ON reviews_counter.book_id = books.book_id\n",
    "ORDER BY average_rating DESC, reviews_count DESC;\n",
    "\"\"\""
   ]
  },
  {
   "cell_type": "code",
   "execution_count": 10,
   "id": "bba010ab-1f23-45ea-adae-07e7f35198da",
   "metadata": {},
   "outputs": [
    {
     "data": {
      "text/html": [
       "<div>\n",
       "<style scoped>\n",
       "    .dataframe tbody tr th:only-of-type {\n",
       "        vertical-align: middle;\n",
       "    }\n",
       "\n",
       "    .dataframe tbody tr th {\n",
       "        vertical-align: top;\n",
       "    }\n",
       "\n",
       "    .dataframe thead th {\n",
       "        text-align: right;\n",
       "    }\n",
       "</style>\n",
       "<table border=\"1\" class=\"dataframe\">\n",
       "  <thead>\n",
       "    <tr style=\"text-align: right;\">\n",
       "      <th></th>\n",
       "      <th>book_id</th>\n",
       "      <th>title</th>\n",
       "      <th>average_rating</th>\n",
       "      <th>reviews_count</th>\n",
       "    </tr>\n",
       "  </thead>\n",
       "  <tbody>\n",
       "    <tr>\n",
       "      <th>0</th>\n",
       "      <td>672</td>\n",
       "      <td>The Cat in the Hat and Other Dr. Seuss Favorites</td>\n",
       "      <td>5.00</td>\n",
       "      <td>NaN</td>\n",
       "    </tr>\n",
       "    <tr>\n",
       "      <th>1</th>\n",
       "      <td>17</td>\n",
       "      <td>A Dirty Job (Grim Reaper  #1)</td>\n",
       "      <td>5.00</td>\n",
       "      <td>4.0</td>\n",
       "    </tr>\n",
       "    <tr>\n",
       "      <th>2</th>\n",
       "      <td>553</td>\n",
       "      <td>School's Out—Forever (Maximum Ride  #2)</td>\n",
       "      <td>5.00</td>\n",
       "      <td>3.0</td>\n",
       "    </tr>\n",
       "    <tr>\n",
       "      <th>3</th>\n",
       "      <td>444</td>\n",
       "      <td>Moneyball: The Art of Winning an Unfair Game</td>\n",
       "      <td>5.00</td>\n",
       "      <td>3.0</td>\n",
       "    </tr>\n",
       "    <tr>\n",
       "      <th>4</th>\n",
       "      <td>516</td>\n",
       "      <td>Plum Island (John Corey  #1)</td>\n",
       "      <td>5.00</td>\n",
       "      <td>2.0</td>\n",
       "    </tr>\n",
       "    <tr>\n",
       "      <th>...</th>\n",
       "      <td>...</td>\n",
       "      <td>...</td>\n",
       "      <td>...</td>\n",
       "      <td>...</td>\n",
       "    </tr>\n",
       "    <tr>\n",
       "      <th>995</th>\n",
       "      <td>915</td>\n",
       "      <td>The World Is Flat: A Brief History of the Twen...</td>\n",
       "      <td>2.25</td>\n",
       "      <td>3.0</td>\n",
       "    </tr>\n",
       "    <tr>\n",
       "      <th>996</th>\n",
       "      <td>202</td>\n",
       "      <td>Drowning Ruth</td>\n",
       "      <td>2.00</td>\n",
       "      <td>3.0</td>\n",
       "    </tr>\n",
       "    <tr>\n",
       "      <th>997</th>\n",
       "      <td>371</td>\n",
       "      <td>Junky</td>\n",
       "      <td>2.00</td>\n",
       "      <td>2.0</td>\n",
       "    </tr>\n",
       "    <tr>\n",
       "      <th>998</th>\n",
       "      <td>316</td>\n",
       "      <td>His Excellency: George Washington</td>\n",
       "      <td>2.00</td>\n",
       "      <td>2.0</td>\n",
       "    </tr>\n",
       "    <tr>\n",
       "      <th>999</th>\n",
       "      <td>303</td>\n",
       "      <td>Harvesting the Heart</td>\n",
       "      <td>1.50</td>\n",
       "      <td>2.0</td>\n",
       "    </tr>\n",
       "  </tbody>\n",
       "</table>\n",
       "<p>1000 rows × 4 columns</p>\n",
       "</div>"
      ],
      "text/plain": [
       "     book_id                                              title  \\\n",
       "0        672   The Cat in the Hat and Other Dr. Seuss Favorites   \n",
       "1         17                      A Dirty Job (Grim Reaper  #1)   \n",
       "2        553            School's Out—Forever (Maximum Ride  #2)   \n",
       "3        444       Moneyball: The Art of Winning an Unfair Game   \n",
       "4        516                       Plum Island (John Corey  #1)   \n",
       "..       ...                                                ...   \n",
       "995      915  The World Is Flat: A Brief History of the Twen...   \n",
       "996      202                                      Drowning Ruth   \n",
       "997      371                                              Junky   \n",
       "998      316                  His Excellency: George Washington   \n",
       "999      303                               Harvesting the Heart   \n",
       "\n",
       "     average_rating  reviews_count  \n",
       "0              5.00            NaN  \n",
       "1              5.00            4.0  \n",
       "2              5.00            3.0  \n",
       "3              5.00            3.0  \n",
       "4              5.00            2.0  \n",
       "..              ...            ...  \n",
       "995            2.25            3.0  \n",
       "996            2.00            3.0  \n",
       "997            2.00            2.0  \n",
       "998            2.00            2.0  \n",
       "999            1.50            2.0  \n",
       "\n",
       "[1000 rows x 4 columns]"
      ]
     },
     "execution_count": 10,
     "metadata": {},
     "output_type": "execute_result"
    }
   ],
   "source": [
    "query_handler(query)"
   ]
  },
  {
   "cell_type": "markdown",
   "id": "c2b3379d-5ef4-4b5e-8d57-318be56d869c",
   "metadata": {},
   "source": [
    "&#9889; **Вывод:** Есть книги без ревью. Про первую строчку ничего не могу сказать, а вот Манибол читал - хороший :)"
   ]
  },
  {
   "cell_type": "markdown",
   "id": "a11baa8c-a148-43ae-9fca-f105abf4785a",
   "metadata": {
    "tags": []
   },
   "source": [
    "### - определим издательство, которое выпустило наибольшее число книг толще 50 страниц"
   ]
  },
  {
   "cell_type": "code",
   "execution_count": 11,
   "id": "d7c70823-046c-40fa-beca-4a07c2120f83",
   "metadata": {},
   "outputs": [],
   "source": [
    "query = \"\"\"\n",
    "SELECT publishers.publisher,\n",
    "       COUNT(book_id) AS published_books\n",
    "FROM books\n",
    "JOIN publishers ON books.publisher_id = publishers.publisher_id\n",
    "WHERE num_pages > 50\n",
    "GROUP BY publishers.publisher_id\n",
    "ORDER BY published_books DESC\n",
    "LIMIT 1;\n",
    "\"\"\""
   ]
  },
  {
   "cell_type": "code",
   "execution_count": 12,
   "id": "7cd8e7d2-207b-4ff4-97b8-a2c09afd39c9",
   "metadata": {},
   "outputs": [
    {
     "data": {
      "text/html": [
       "<div>\n",
       "<style scoped>\n",
       "    .dataframe tbody tr th:only-of-type {\n",
       "        vertical-align: middle;\n",
       "    }\n",
       "\n",
       "    .dataframe tbody tr th {\n",
       "        vertical-align: top;\n",
       "    }\n",
       "\n",
       "    .dataframe thead th {\n",
       "        text-align: right;\n",
       "    }\n",
       "</style>\n",
       "<table border=\"1\" class=\"dataframe\">\n",
       "  <thead>\n",
       "    <tr style=\"text-align: right;\">\n",
       "      <th></th>\n",
       "      <th>publisher</th>\n",
       "      <th>published_books</th>\n",
       "    </tr>\n",
       "  </thead>\n",
       "  <tbody>\n",
       "    <tr>\n",
       "      <th>0</th>\n",
       "      <td>Penguin Books</td>\n",
       "      <td>42</td>\n",
       "    </tr>\n",
       "  </tbody>\n",
       "</table>\n",
       "</div>"
      ],
      "text/plain": [
       "       publisher  published_books\n",
       "0  Penguin Books               42"
      ]
     },
     "execution_count": 12,
     "metadata": {},
     "output_type": "execute_result"
    }
   ],
   "source": [
    "query_handler(query)"
   ]
  },
  {
   "cell_type": "markdown",
   "id": "095fb5af-f8ff-4967-9874-4d4a0daa1b6a",
   "metadata": {},
   "source": [
    "&#9889; **Вывод:** издательство \"Пингвин\" выпустило больше всех книг толще 50 листов - 42 штуки."
   ]
  },
  {
   "cell_type": "markdown",
   "id": "94e4e24a-0181-4a45-9c65-308649fff40b",
   "metadata": {
    "tags": []
   },
   "source": [
    "### - определим автора с самой высокой средней оценкой книг — учтем только книги с 50 и более оценками"
   ]
  },
  {
   "cell_type": "code",
   "execution_count": 13,
   "id": "260a5b3a-ceb1-4da2-8c09-4d9794a54d49",
   "metadata": {},
   "outputs": [],
   "source": [
    "query = \"\"\"\n",
    "WITH rating_agg AS (SELECT book_id,\n",
    "                           ROUND(AVG(rating), 2) AS mean_rating,\n",
    "                           COUNT(rating_id)\n",
    "                    FROM ratings\n",
    "                    GROUP BY book_id\n",
    "                    HAVING COUNT(rating_id) > 50),\n",
    "authors_rating AS (SELECT author,\n",
    "                          rating_agg.mean_rating AS mean_author_rating\n",
    "                   FROM books\n",
    "                   JOIN rating_agg ON rating_agg.book_id = books.book_id\n",
    "                   JOIN authors ON authors.author_id = books.author_id)\n",
    "SELECT author, \n",
    "       AVG(mean_author_rating) AS mean_author_rating\n",
    "FROM authors_rating\n",
    "GROUP BY author\n",
    "ORDER BY mean_author_rating DESC\n",
    "LIMIT 1;\n",
    "\"\"\""
   ]
  },
  {
   "cell_type": "code",
   "execution_count": 14,
   "id": "abbf26f7-6ab0-4078-89db-29a179d4d10f",
   "metadata": {},
   "outputs": [
    {
     "data": {
      "text/html": [
       "<div>\n",
       "<style scoped>\n",
       "    .dataframe tbody tr th:only-of-type {\n",
       "        vertical-align: middle;\n",
       "    }\n",
       "\n",
       "    .dataframe tbody tr th {\n",
       "        vertical-align: top;\n",
       "    }\n",
       "\n",
       "    .dataframe thead th {\n",
       "        text-align: right;\n",
       "    }\n",
       "</style>\n",
       "<table border=\"1\" class=\"dataframe\">\n",
       "  <thead>\n",
       "    <tr style=\"text-align: right;\">\n",
       "      <th></th>\n",
       "      <th>author</th>\n",
       "      <th>mean_author_rating</th>\n",
       "    </tr>\n",
       "  </thead>\n",
       "  <tbody>\n",
       "    <tr>\n",
       "      <th>0</th>\n",
       "      <td>J.K. Rowling/Mary GrandPré</td>\n",
       "      <td>4.285</td>\n",
       "    </tr>\n",
       "  </tbody>\n",
       "</table>\n",
       "</div>"
      ],
      "text/plain": [
       "                       author  mean_author_rating\n",
       "0  J.K. Rowling/Mary GrandPré               4.285"
      ]
     },
     "execution_count": 14,
     "metadata": {},
     "output_type": "execute_result"
    }
   ],
   "source": [
    "query_handler(query)"
   ]
  },
  {
   "cell_type": "markdown",
   "id": "e74da885-ef22-46b5-a7b5-58df36cbcca0",
   "metadata": {},
   "source": [
    "&#9889; **Вывод:** Джоан Роулинг и иллюстратор книг о Гарри Поттере Мэри Гранпрэ занимают первое место со средней оценкой 4.28 из 5. Молодчинки."
   ]
  },
  {
   "cell_type": "markdown",
   "id": "983abdcc-9e17-475f-a222-6e20b4fa2aa3",
   "metadata": {
    "tags": []
   },
   "source": [
    "### - посчитаем среднее количество обзоров от пользователей, которые поставили больше 50 оценок"
   ]
  },
  {
   "cell_type": "code",
   "execution_count": 15,
   "id": "fa710f3a-bb5e-4c67-b1c0-878e61ef1fe9",
   "metadata": {
    "tags": []
   },
   "outputs": [],
   "source": [
    "query = \"\"\"\n",
    "WITH most_active_users AS (SELECT ratings.username,\n",
    "                                  COUNT(ratings.rating_id)\n",
    "                           FROM ratings\n",
    "                           GROUP BY ratings.username\n",
    "                           HAVING COUNT(rating_id) > 50),\n",
    "count_of_reviews AS (SELECT reviews.username,\n",
    "                            COUNT(review_id) AS cnt\n",
    "                     FROM reviews\n",
    "                     JOIN most_active_users ON most_active_users.username = reviews.username\n",
    "                     GROUP BY reviews.username)\n",
    "SELECT AVG(count_of_reviews.cnt)\n",
    "FROM count_of_reviews\n",
    "\"\"\""
   ]
  },
  {
   "cell_type": "code",
   "execution_count": 16,
   "id": "86f35376-fcad-4ae5-a39b-8aa5a062e837",
   "metadata": {},
   "outputs": [
    {
     "data": {
      "text/html": [
       "<div>\n",
       "<style scoped>\n",
       "    .dataframe tbody tr th:only-of-type {\n",
       "        vertical-align: middle;\n",
       "    }\n",
       "\n",
       "    .dataframe tbody tr th {\n",
       "        vertical-align: top;\n",
       "    }\n",
       "\n",
       "    .dataframe thead th {\n",
       "        text-align: right;\n",
       "    }\n",
       "</style>\n",
       "<table border=\"1\" class=\"dataframe\">\n",
       "  <thead>\n",
       "    <tr style=\"text-align: right;\">\n",
       "      <th></th>\n",
       "      <th>avg</th>\n",
       "    </tr>\n",
       "  </thead>\n",
       "  <tbody>\n",
       "    <tr>\n",
       "      <th>0</th>\n",
       "      <td>24.333333</td>\n",
       "    </tr>\n",
       "  </tbody>\n",
       "</table>\n",
       "</div>"
      ],
      "text/plain": [
       "         avg\n",
       "0  24.333333"
      ]
     },
     "execution_count": 16,
     "metadata": {},
     "output_type": "execute_result"
    }
   ],
   "source": [
    "query_handler(query)"
   ]
  },
  {
   "cell_type": "markdown",
   "id": "e5f6a148-b7de-40a0-8230-38eb34188912",
   "metadata": {},
   "source": [
    "&#9889; **Вывод:** среднее количество обзоров для активных пользователей - 24."
   ]
  },
  {
   "cell_type": "markdown",
   "id": "107f8d53",
   "metadata": {},
   "source": [
    "## Вывод"
   ]
  },
  {
   "cell_type": "markdown",
   "id": "910851af",
   "metadata": {},
   "source": [
    "1. В базе данных содержится 1000 наблюдений о книгах: информация о книгах, издательствах, авторах, пользовательские обзоры и рейтинги книг. \n",
    "2. Исходя из представленных данных, после после 1 января 2000 года вышло 819 книг, при этом издательство \"Пингвин\" выпустило больше всех книг толще 50 листов - 42 штуки. В принципе, лидерство издательства \"Пингвин\" не особо удивительно - тем и знамениты.\n",
    "3. У Джоан Роулинг и иллюстратора книг о Гарри Поттере Мэри Гранпрэ - самая высокая средняя оценка книг - 4.28 из 5.  \n",
    "4. Среднее количество обзоров для активных пользователей - 24, однако их активности не хватает на всех - некоторые книги не удостаиваются ревью.\n",
    "5. Принимая во внимание, что по описанию задачи база даных принадлежит крупному сервису для чтения книг по подписке - 1000 наименований представляется весьма скромным (для сравнения, Букмейт утверждает, что у них в каталоге 850 000 книг на 12 языках) и кого-то, возможно, крупно обманули. Впрочем, мало не значит плохо, предлагаю оседлать всеобщую тенденцию: \"Книга - роскошь для взыскательных и солидных господ - только лучшее, тщательно отобранный базовый цивилизационный мимнимум для ваших пытливых умов, мои дорогие богатеи, прямиком в ваших айпэдах. Ждите этой осенью\"."
   ]
  }
 ],
 "metadata": {
  "ExecuteTimeLog": [
   {
    "duration": 565,
    "start_time": "2022-07-14T12:16:16.577Z"
   },
   {
    "duration": 9,
    "start_time": "2022-07-14T12:16:17.144Z"
   },
   {
    "duration": 10228,
    "start_time": "2022-07-14T12:16:17.155Z"
   },
   {
    "duration": 3,
    "start_time": "2022-07-14T12:16:27.385Z"
   },
   {
    "duration": 9,
    "start_time": "2022-07-14T12:16:27.390Z"
   },
   {
    "duration": 319,
    "start_time": "2022-07-14T12:16:27.400Z"
   },
   {
    "duration": 3,
    "start_time": "2022-07-14T12:16:27.721Z"
   },
   {
    "duration": 88,
    "start_time": "2022-07-14T12:16:27.726Z"
   },
   {
    "duration": 3,
    "start_time": "2022-07-14T12:16:27.816Z"
   },
   {
    "duration": 106,
    "start_time": "2022-07-14T12:16:27.822Z"
   },
   {
    "duration": 2,
    "start_time": "2022-07-14T12:16:27.930Z"
   },
   {
    "duration": 84,
    "start_time": "2022-07-14T12:16:27.933Z"
   },
   {
    "duration": 3,
    "start_time": "2022-07-14T12:16:28.018Z"
   },
   {
    "duration": 94,
    "start_time": "2022-07-14T12:16:28.022Z"
   },
   {
    "duration": 3,
    "start_time": "2022-07-14T12:16:28.118Z"
   },
   {
    "duration": 81,
    "start_time": "2022-07-14T12:16:28.123Z"
   },
   {
    "duration": 454,
    "start_time": "2022-07-15T08:02:00.382Z"
   },
   {
    "duration": 3,
    "start_time": "2022-07-15T08:02:01.041Z"
   },
   {
    "duration": 9071,
    "start_time": "2022-07-15T08:02:01.584Z"
   },
   {
    "duration": 3,
    "start_time": "2022-07-15T08:02:10.657Z"
   },
   {
    "duration": 7,
    "start_time": "2022-07-15T08:02:10.661Z"
   },
   {
    "duration": 281,
    "start_time": "2022-07-15T08:02:10.670Z"
   },
   {
    "duration": 2,
    "start_time": "2022-07-15T08:02:10.953Z"
   },
   {
    "duration": 77,
    "start_time": "2022-07-15T08:02:10.956Z"
   },
   {
    "duration": 3,
    "start_time": "2022-07-15T08:02:11.034Z"
   },
   {
    "duration": 86,
    "start_time": "2022-07-15T08:02:11.038Z"
   },
   {
    "duration": 2,
    "start_time": "2022-07-15T08:02:11.126Z"
   },
   {
    "duration": 80,
    "start_time": "2022-07-15T08:02:11.130Z"
   },
   {
    "duration": 3,
    "start_time": "2022-07-15T08:02:11.248Z"
   },
   {
    "duration": 77,
    "start_time": "2022-07-15T08:02:11.984Z"
   },
   {
    "duration": 2,
    "start_time": "2022-07-15T08:02:37.585Z"
   },
   {
    "duration": 80,
    "start_time": "2022-07-15T08:02:37.786Z"
   }
  ],
  "kernelspec": {
   "display_name": "venv",
   "language": "python",
   "name": "venv"
  },
  "language_info": {
   "codemirror_mode": {
    "name": "ipython",
    "version": 3
   },
   "file_extension": ".py",
   "mimetype": "text/x-python",
   "name": "python",
   "nbconvert_exporter": "python",
   "pygments_lexer": "ipython3",
   "version": "3.7.9"
  },
  "toc": {
   "base_numbering": 1,
   "nav_menu": {},
   "number_sections": false,
   "sideBar": true,
   "skip_h1_title": true,
   "title_cell": "Table of Contents",
   "title_sidebar": "Contents",
   "toc_cell": false,
   "toc_position": {},
   "toc_section_display": true,
   "toc_window_display": false
  }
 },
 "nbformat": 4,
 "nbformat_minor": 5
}

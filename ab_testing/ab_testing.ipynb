{
 "cells": [
  {
   "cell_type": "markdown",
   "id": "ba61c5ea-5197-4248-a61b-0df81e199a46",
   "metadata": {},
   "source": [
    "# A/B тестирование\n",
    "***"
   ]
  },
  {
   "cell_type": "markdown",
   "id": "6e0aed89-c634-4512-b633-689c26e2ce2a",
   "metadata": {},
   "source": [
    "# Описание проекта"
   ]
  },
  {
   "cell_type": "markdown",
   "id": "f13e4d63-0703-491a-b349-d50cdb32136c",
   "metadata": {},
   "source": [
    "Приоритизация гипотез, запуск A/B-теста и анализ результатов."
   ]
  },
  {
   "cell_type": "markdown",
   "id": "633025fb-8d50-4734-944e-3d1ecf60bab0",
   "metadata": {},
   "source": [
    "# Оглавление<a class='anchor' id='TOC'></a>"
   ]
  },
  {
   "cell_type": "markdown",
   "id": "87315986-b116-45ce-a975-382b8d1f58d9",
   "metadata": {},
   "source": [
    "* **[I. Подготовка к анализу](#1)**\n",
    "    - [1) Импортируем библиотеки, объявим классы HypoPrioritize и Reporter для анализа](#1_1)\n",
    "    - [Вывод](#1_conclusion)\n",
    "<br></br>\n",
    "* **[II. Приоритизация гипотез](#2)**\n",
    "    - [1) Применим фреймворки ICE и RICE](#2_1)\n",
    "    - [2) Проверим гипотезы по методу ICE](#2_2)\n",
    "    - [2) Проверим гипотезы по методу RICE](#2_3)\n",
    "    - [Выводы по итогам приоритезации](#2_conclusion)\n",
    "<br></br> \n",
    "* **[III. Анализ A/B-теста](#3)**\n",
    "    - [1) Проверим окупаемость рекламы](#3_1)\n",
    "    - [2) Проверим характеристики пользователей](#3_2)\n",
    "        - [страна первого посещения пользователей](#3_2_1)\n",
    "        - [источник привлечения пользователей](#3_2_2)\n",
    "        - [проверим связь пользователей из США и канал привлечения](#3_2_3)\n",
    "        - [проверим каналы привлечения на окупаемость](#3_2_4)\n",
    "        - [устройство пользователей](#3_2_5)\n",
    "        - [устройство пользователей и европейский рынок](#3_2_6)\n",
    "    - [3) Проверим конверсию](#3_3)\n",
    "        - [посчитаем общую конверсию](#3_3_1)\n",
    "        - [посчитаем конверсию по регионам](#3_3_2)\n",
    "        - [посчитаем конверсию по каналам](#3_3_3)\n",
    "        - [посчитаем конверсию по устройствам](#3_3_4)\n",
    "        - [посчитаем длительность пользовательской сесии](#3_3_5)\n",
    "        - [проверим, различаются ли средняя длительность сессии в зависимости от устройства](#3_3_6)\n",
    "        - [проверим, различаются ли средняя длительность сессии для платящих и не платящих пользователей](#3_3_7)\n",
    "        - [проверим, различаются ли средняя длительность сессии в зависимости от статуса пользователя](#3_3_8)\n",
    "    - [4) Проверим удержание](#3_4)\n",
    "        - [посчитаем общее удержание](#3_4_1)\n",
    "        - [посчитаем удержание по регионам](#3_4_2)\n",
    "        - [посчитаем удержание по каналам](#3_4_3)\n",
    "        - [посчитаем удержание по устройствам](#3_4_4)\n",
    "    - [Выводы по итогам маркетингового анализа](#3_conclusion)\n",
    "<br></br>"
   ]
  },
  {
   "cell_type": "markdown",
   "id": "85f4b560-4b8d-4fed-8902-ddfe0296fd45",
   "metadata": {
    "tags": []
   },
   "source": [
    "# I. Подготовка к анализу<a class='anchor' id='1'></a>"
   ]
  },
  {
   "cell_type": "markdown",
   "id": "14ea28bf-250f-4dee-8966-1635f0485dad",
   "metadata": {},
   "source": [
    "## 1) Импортируем библиотеки, объявим классы HypoPrioritize и Reporter для анализа<a class=\"anchor\" id=\"1_1\"></a>"
   ]
  },
  {
   "cell_type": "code",
   "execution_count": 1,
   "id": "65205680-7bb2-49e4-801e-632d886a9793",
   "metadata": {},
   "outputs": [],
   "source": [
    "import pandas as pd\n",
    "\n",
    "from solver.hypo import HypoPrioritization\n",
    "\n",
    "pd.options.display.max_colwidth = 150\n",
    "pd.set_option('display.precision', 2)\n",
    "pd.set_option('display.float_format',  '{:.2f}'.format)"
   ]
  },
  {
   "cell_type": "markdown",
   "id": "eca05577-2da1-424e-a3d2-e66244885054",
   "metadata": {},
   "source": [
    "[В оглавление](#TOC)"
   ]
  },
  {
   "cell_type": "markdown",
   "id": "bb24fd94-5f72-46c9-b333-5c7db1443dd6",
   "metadata": {},
   "source": [
    "# II. Приоритизация гипотез<a class='anchor' id='2'></a>"
   ]
  },
  {
   "cell_type": "markdown",
   "id": "86b397fa-0f0f-44eb-b1ec-052c60c32bd3",
   "metadata": {},
   "source": [
    "## 1) Применим фреймворки ICE и RICE<a class=\"anchor\" id=\"2_1\"></a>"
   ]
  },
  {
   "cell_type": "code",
   "execution_count": 2,
   "id": "71ba454e-b829-4b81-8a5a-bb3f56069986",
   "metadata": {},
   "outputs": [],
   "source": [
    "prioritization = HypoPrioritization('datasets/hypothesis.csv')"
   ]
  },
  {
   "cell_type": "code",
   "execution_count": 3,
   "id": "ddc38b8b-9df2-4e32-b425-e335104caaf6",
   "metadata": {},
   "outputs": [],
   "source": [
    "scores = prioritization.get_priority()"
   ]
  },
  {
   "cell_type": "markdown",
   "id": "45866b5a-2515-4ff0-aa18-92593bec852b",
   "metadata": {},
   "source": [
    "&#9889; **Вывод:** девять гипотез, в отношении каждой посчитали приоритет по методам ICE и RICE."
   ]
  },
  {
   "cell_type": "markdown",
   "id": "f20496fb-d3a3-476e-9b23-bce875ce54c7",
   "metadata": {},
   "source": [
    "## 2) Проверим гипотезы по методу ICE<a class=\"anchor\" id=\"2_2\"></a>"
   ]
  },
  {
   "cell_type": "code",
   "execution_count": 8,
   "id": "1e136404-4ddb-4bcc-ad61-109d6671c16f",
   "metadata": {},
   "outputs": [
    {
     "data": {
      "text/html": [
       "<style type=\"text/css\">\n",
       "#T_c1cfb_row0_col5 {\n",
       "  background-color: #00441b;\n",
       "  color: #f1f1f1;\n",
       "}\n",
       "#T_c1cfb_row1_col5 {\n",
       "  background-color: #127c39;\n",
       "  color: #f1f1f1;\n",
       "}\n",
       "#T_c1cfb_row2_col5 {\n",
       "  background-color: #36a164;\n",
       "  color: #f1f1f1;\n",
       "}\n",
       "#T_c1cfb_row3_col5 {\n",
       "  background-color: #77c9b0;\n",
       "  color: #000000;\n",
       "}\n",
       "#T_c1cfb_row4_col5 {\n",
       "  background-color: #90d4c3;\n",
       "  color: #000000;\n",
       "}\n",
       "#T_c1cfb_row5_col5 {\n",
       "  background-color: #eef8fb;\n",
       "  color: #000000;\n",
       "}\n",
       "#T_c1cfb_row6_col5 {\n",
       "  background-color: #f4fbfc;\n",
       "  color: #000000;\n",
       "}\n",
       "#T_c1cfb_row7_col5 {\n",
       "  background-color: #f6fcfd;\n",
       "  color: #000000;\n",
       "}\n",
       "#T_c1cfb_row8_col5 {\n",
       "  background-color: #f7fcfd;\n",
       "  color: #000000;\n",
       "}\n",
       "</style>\n",
       "<table id=\"T_c1cfb_\">\n",
       "  <thead>\n",
       "    <tr>\n",
       "      <th class=\"blank level0\" >&nbsp;</th>\n",
       "      <th class=\"col_heading level0 col0\" >Hypothesis</th>\n",
       "      <th class=\"col_heading level0 col1\" >Reach</th>\n",
       "      <th class=\"col_heading level0 col2\" >Impact</th>\n",
       "      <th class=\"col_heading level0 col3\" >Confidence</th>\n",
       "      <th class=\"col_heading level0 col4\" >Efforts</th>\n",
       "      <th class=\"col_heading level0 col5\" >ICE</th>\n",
       "      <th class=\"col_heading level0 col6\" >RICE</th>\n",
       "    </tr>\n",
       "  </thead>\n",
       "  <tbody>\n",
       "    <tr>\n",
       "      <th id=\"T_c1cfb_level0_row0\" class=\"row_heading level0 row0\" >8</th>\n",
       "      <td id=\"T_c1cfb_row0_col0\" class=\"data row0 col0\" >Запустить акцию, дающую скидку на товар в день рождения</td>\n",
       "      <td id=\"T_c1cfb_row0_col1\" class=\"data row0 col1\" >1</td>\n",
       "      <td id=\"T_c1cfb_row0_col2\" class=\"data row0 col2\" >9</td>\n",
       "      <td id=\"T_c1cfb_row0_col3\" class=\"data row0 col3\" >9</td>\n",
       "      <td id=\"T_c1cfb_row0_col4\" class=\"data row0 col4\" >5</td>\n",
       "      <td id=\"T_c1cfb_row0_col5\" class=\"data row0 col5\" >16.20</td>\n",
       "      <td id=\"T_c1cfb_row0_col6\" class=\"data row0 col6\" >16.20</td>\n",
       "    </tr>\n",
       "    <tr>\n",
       "      <th id=\"T_c1cfb_level0_row1\" class=\"row_heading level0 row1\" >0</th>\n",
       "      <td id=\"T_c1cfb_row1_col0\" class=\"data row1 col0\" >Добавить два новых канала привлечения трафика, что позволит привлекать на 30% больше пользователей</td>\n",
       "      <td id=\"T_c1cfb_row1_col1\" class=\"data row1 col1\" >3</td>\n",
       "      <td id=\"T_c1cfb_row1_col2\" class=\"data row1 col2\" >10</td>\n",
       "      <td id=\"T_c1cfb_row1_col3\" class=\"data row1 col3\" >8</td>\n",
       "      <td id=\"T_c1cfb_row1_col4\" class=\"data row1 col4\" >6</td>\n",
       "      <td id=\"T_c1cfb_row1_col5\" class=\"data row1 col5\" >13.33</td>\n",
       "      <td id=\"T_c1cfb_row1_col6\" class=\"data row1 col6\" >40.00</td>\n",
       "    </tr>\n",
       "    <tr>\n",
       "      <th id=\"T_c1cfb_level0_row2\" class=\"row_heading level0 row2\" >7</th>\n",
       "      <td id=\"T_c1cfb_row2_col0\" class=\"data row2 col0\" >Добавить форму подписки на все основные страницы, чтобы собрать базу клиентов для email-рассылок</td>\n",
       "      <td id=\"T_c1cfb_row2_col1\" class=\"data row2 col1\" >10</td>\n",
       "      <td id=\"T_c1cfb_row2_col2\" class=\"data row2 col2\" >7</td>\n",
       "      <td id=\"T_c1cfb_row2_col3\" class=\"data row2 col3\" >8</td>\n",
       "      <td id=\"T_c1cfb_row2_col4\" class=\"data row2 col4\" >5</td>\n",
       "      <td id=\"T_c1cfb_row2_col5\" class=\"data row2 col5\" >11.20</td>\n",
       "      <td id=\"T_c1cfb_row2_col6\" class=\"data row2 col6\" >112.00</td>\n",
       "    </tr>\n",
       "    <tr>\n",
       "      <th id=\"T_c1cfb_level0_row3\" class=\"row_heading level0 row3\" >6</th>\n",
       "      <td id=\"T_c1cfb_row3_col0\" class=\"data row3 col0\" >Показать на главной странице баннеры с актуальными акциями и распродажами, чтобы увеличить конверсию</td>\n",
       "      <td id=\"T_c1cfb_row3_col1\" class=\"data row3 col1\" >5</td>\n",
       "      <td id=\"T_c1cfb_row3_col2\" class=\"data row3 col2\" >3</td>\n",
       "      <td id=\"T_c1cfb_row3_col3\" class=\"data row3 col3\" >8</td>\n",
       "      <td id=\"T_c1cfb_row3_col4\" class=\"data row3 col4\" >3</td>\n",
       "      <td id=\"T_c1cfb_row3_col5\" class=\"data row3 col5\" >8.00</td>\n",
       "      <td id=\"T_c1cfb_row3_col6\" class=\"data row3 col6\" >40.00</td>\n",
       "    </tr>\n",
       "    <tr>\n",
       "      <th id=\"T_c1cfb_level0_row4\" class=\"row_heading level0 row4\" >2</th>\n",
       "      <td id=\"T_c1cfb_row4_col0\" class=\"data row4 col0\" >Добавить блоки рекомендаций товаров на сайт интернет магазина, чтобы повысить конверсию и средний чек заказа</td>\n",
       "      <td id=\"T_c1cfb_row4_col1\" class=\"data row4 col1\" >8</td>\n",
       "      <td id=\"T_c1cfb_row4_col2\" class=\"data row4 col2\" >3</td>\n",
       "      <td id=\"T_c1cfb_row4_col3\" class=\"data row4 col3\" >7</td>\n",
       "      <td id=\"T_c1cfb_row4_col4\" class=\"data row4 col4\" >3</td>\n",
       "      <td id=\"T_c1cfb_row4_col5\" class=\"data row4 col5\" >7.00</td>\n",
       "      <td id=\"T_c1cfb_row4_col6\" class=\"data row4 col6\" >56.00</td>\n",
       "    </tr>\n",
       "    <tr>\n",
       "      <th id=\"T_c1cfb_level0_row5\" class=\"row_heading level0 row5\" >1</th>\n",
       "      <td id=\"T_c1cfb_row5_col0\" class=\"data row5 col0\" >Запустить собственную службу доставки, что сократит срок доставки заказов</td>\n",
       "      <td id=\"T_c1cfb_row5_col1\" class=\"data row5 col1\" >2</td>\n",
       "      <td id=\"T_c1cfb_row5_col2\" class=\"data row5 col2\" >5</td>\n",
       "      <td id=\"T_c1cfb_row5_col3\" class=\"data row5 col3\" >4</td>\n",
       "      <td id=\"T_c1cfb_row5_col4\" class=\"data row5 col4\" >10</td>\n",
       "      <td id=\"T_c1cfb_row5_col5\" class=\"data row5 col5\" >2.00</td>\n",
       "      <td id=\"T_c1cfb_row5_col6\" class=\"data row5 col6\" >4.00</td>\n",
       "    </tr>\n",
       "    <tr>\n",
       "      <th id=\"T_c1cfb_level0_row6\" class=\"row_heading level0 row6\" >5</th>\n",
       "      <td id=\"T_c1cfb_row6_col0\" class=\"data row6 col0\" >Добавить страницу отзывов клиентов о магазине, что позволит увеличить количество заказов</td>\n",
       "      <td id=\"T_c1cfb_row6_col1\" class=\"data row6 col1\" >3</td>\n",
       "      <td id=\"T_c1cfb_row6_col2\" class=\"data row6 col2\" >2</td>\n",
       "      <td id=\"T_c1cfb_row6_col3\" class=\"data row6 col3\" >2</td>\n",
       "      <td id=\"T_c1cfb_row6_col4\" class=\"data row6 col4\" >3</td>\n",
       "      <td id=\"T_c1cfb_row6_col5\" class=\"data row6 col5\" >1.33</td>\n",
       "      <td id=\"T_c1cfb_row6_col6\" class=\"data row6 col6\" >4.00</td>\n",
       "    </tr>\n",
       "    <tr>\n",
       "      <th id=\"T_c1cfb_level0_row7\" class=\"row_heading level0 row7\" >3</th>\n",
       "      <td id=\"T_c1cfb_row7_col0\" class=\"data row7 col0\" >Изменить структура категорий, что увеличит конверсию, т.к. пользователи быстрее найдут нужный товар</td>\n",
       "      <td id=\"T_c1cfb_row7_col1\" class=\"data row7 col1\" >8</td>\n",
       "      <td id=\"T_c1cfb_row7_col2\" class=\"data row7 col2\" >3</td>\n",
       "      <td id=\"T_c1cfb_row7_col3\" class=\"data row7 col3\" >3</td>\n",
       "      <td id=\"T_c1cfb_row7_col4\" class=\"data row7 col4\" >8</td>\n",
       "      <td id=\"T_c1cfb_row7_col5\" class=\"data row7 col5\" >1.12</td>\n",
       "      <td id=\"T_c1cfb_row7_col6\" class=\"data row7 col6\" >9.00</td>\n",
       "    </tr>\n",
       "    <tr>\n",
       "      <th id=\"T_c1cfb_level0_row8\" class=\"row_heading level0 row8\" >4</th>\n",
       "      <td id=\"T_c1cfb_row8_col0\" class=\"data row8 col0\" >Изменить цвет фона главной страницы, чтобы увеличить вовлеченность пользователей</td>\n",
       "      <td id=\"T_c1cfb_row8_col1\" class=\"data row8 col1\" >3</td>\n",
       "      <td id=\"T_c1cfb_row8_col2\" class=\"data row8 col2\" >1</td>\n",
       "      <td id=\"T_c1cfb_row8_col3\" class=\"data row8 col3\" >1</td>\n",
       "      <td id=\"T_c1cfb_row8_col4\" class=\"data row8 col4\" >1</td>\n",
       "      <td id=\"T_c1cfb_row8_col5\" class=\"data row8 col5\" >1.00</td>\n",
       "      <td id=\"T_c1cfb_row8_col6\" class=\"data row8 col6\" >3.00</td>\n",
       "    </tr>\n",
       "  </tbody>\n",
       "</table>\n"
      ],
      "text/plain": [
       "<pandas.io.formats.style.Styler at 0x17ea0b07588>"
      ]
     },
     "execution_count": 8,
     "metadata": {},
     "output_type": "execute_result"
    }
   ],
   "source": [
    "scores.sort_values(by='ICE', ascending=False).style.background_gradient(cmap=\"BuGn\", subset=['ICE'])"
   ]
  },
  {
   "cell_type": "markdown",
   "id": "2b9a68c7-e3ba-4d73-bfcb-b01a7d80b0bc",
   "metadata": {},
   "source": [
    "&#9889; **Выводы**\n",
    "\n",
    "По методу ICE наиболее перспективные гипотезы:\n",
    "- \"Запустить акцию, дающую скидку на товар в день рождения\" (№ 8, 16.20), \n",
    "- \"Добавить два новых канала привлечения трафика, что позволит привлекать на 30% больше пользователей\" (№ 0, 13.33)\n",
    "- \"Добавить форму подписки на все основные страницы, чтобы собрать базу клиентов для email-рассылок\" (№ 7, 11.20)"
   ]
  },
  {
   "cell_type": "markdown",
   "id": "b39c8efb-e02d-4028-830f-c8c91b636ddb",
   "metadata": {},
   "source": [
    "## 3) Проверим гипотезы по методу RICE<a class=\"anchor\" id=\"2_3\"></a>"
   ]
  },
  {
   "cell_type": "code",
   "execution_count": 15,
   "id": "d1235fd6-3d17-446f-8fe8-52c39f76f068",
   "metadata": {},
   "outputs": [
    {
     "data": {
      "text/html": [
       "<style type=\"text/css\">\n",
       "#T_6902f_row0_col6 {\n",
       "  background-color: #00441b;\n",
       "  color: #f1f1f1;\n",
       "}\n",
       "#T_6902f_row1_col6 {\n",
       "  background-color: #6cc4a8;\n",
       "  color: #000000;\n",
       "}\n",
       "#T_6902f_row2_col6, #T_6902f_row3_col6 {\n",
       "  background-color: #a8ded2;\n",
       "  color: #000000;\n",
       "}\n",
       "#T_6902f_row4_col6 {\n",
       "  background-color: #e5f5f9;\n",
       "  color: #000000;\n",
       "}\n",
       "#T_6902f_row5_col6 {\n",
       "  background-color: #eff9fb;\n",
       "  color: #000000;\n",
       "}\n",
       "#T_6902f_row6_col6, #T_6902f_row7_col6 {\n",
       "  background-color: #f6fcfd;\n",
       "  color: #000000;\n",
       "}\n",
       "#T_6902f_row8_col6 {\n",
       "  background-color: #f7fcfd;\n",
       "  color: #000000;\n",
       "}\n",
       "</style>\n",
       "<table id=\"T_6902f_\">\n",
       "  <thead>\n",
       "    <tr>\n",
       "      <th class=\"blank level0\" >&nbsp;</th>\n",
       "      <th class=\"col_heading level0 col0\" >Hypothesis</th>\n",
       "      <th class=\"col_heading level0 col1\" >Reach</th>\n",
       "      <th class=\"col_heading level0 col2\" >Impact</th>\n",
       "      <th class=\"col_heading level0 col3\" >Confidence</th>\n",
       "      <th class=\"col_heading level0 col4\" >Efforts</th>\n",
       "      <th class=\"col_heading level0 col5\" >ICE</th>\n",
       "      <th class=\"col_heading level0 col6\" >RICE</th>\n",
       "    </tr>\n",
       "  </thead>\n",
       "  <tbody>\n",
       "    <tr>\n",
       "      <th id=\"T_6902f_level0_row0\" class=\"row_heading level0 row0\" >7</th>\n",
       "      <td id=\"T_6902f_row0_col0\" class=\"data row0 col0\" >Добавить форму подписки на все основные страницы, чтобы собрать базу клиентов для email-рассылок</td>\n",
       "      <td id=\"T_6902f_row0_col1\" class=\"data row0 col1\" >10</td>\n",
       "      <td id=\"T_6902f_row0_col2\" class=\"data row0 col2\" >7</td>\n",
       "      <td id=\"T_6902f_row0_col3\" class=\"data row0 col3\" >8</td>\n",
       "      <td id=\"T_6902f_row0_col4\" class=\"data row0 col4\" >5</td>\n",
       "      <td id=\"T_6902f_row0_col5\" class=\"data row0 col5\" >11.20</td>\n",
       "      <td id=\"T_6902f_row0_col6\" class=\"data row0 col6\" >112.00</td>\n",
       "    </tr>\n",
       "    <tr>\n",
       "      <th id=\"T_6902f_level0_row1\" class=\"row_heading level0 row1\" >2</th>\n",
       "      <td id=\"T_6902f_row1_col0\" class=\"data row1 col0\" >Добавить блоки рекомендаций товаров на сайт интернет магазина, чтобы повысить конверсию и средний чек заказа</td>\n",
       "      <td id=\"T_6902f_row1_col1\" class=\"data row1 col1\" >8</td>\n",
       "      <td id=\"T_6902f_row1_col2\" class=\"data row1 col2\" >3</td>\n",
       "      <td id=\"T_6902f_row1_col3\" class=\"data row1 col3\" >7</td>\n",
       "      <td id=\"T_6902f_row1_col4\" class=\"data row1 col4\" >3</td>\n",
       "      <td id=\"T_6902f_row1_col5\" class=\"data row1 col5\" >7.00</td>\n",
       "      <td id=\"T_6902f_row1_col6\" class=\"data row1 col6\" >56.00</td>\n",
       "    </tr>\n",
       "    <tr>\n",
       "      <th id=\"T_6902f_level0_row2\" class=\"row_heading level0 row2\" >0</th>\n",
       "      <td id=\"T_6902f_row2_col0\" class=\"data row2 col0\" >Добавить два новых канала привлечения трафика, что позволит привлекать на 30% больше пользователей</td>\n",
       "      <td id=\"T_6902f_row2_col1\" class=\"data row2 col1\" >3</td>\n",
       "      <td id=\"T_6902f_row2_col2\" class=\"data row2 col2\" >10</td>\n",
       "      <td id=\"T_6902f_row2_col3\" class=\"data row2 col3\" >8</td>\n",
       "      <td id=\"T_6902f_row2_col4\" class=\"data row2 col4\" >6</td>\n",
       "      <td id=\"T_6902f_row2_col5\" class=\"data row2 col5\" >13.33</td>\n",
       "      <td id=\"T_6902f_row2_col6\" class=\"data row2 col6\" >40.00</td>\n",
       "    </tr>\n",
       "    <tr>\n",
       "      <th id=\"T_6902f_level0_row3\" class=\"row_heading level0 row3\" >6</th>\n",
       "      <td id=\"T_6902f_row3_col0\" class=\"data row3 col0\" >Показать на главной странице баннеры с актуальными акциями и распродажами, чтобы увеличить конверсию</td>\n",
       "      <td id=\"T_6902f_row3_col1\" class=\"data row3 col1\" >5</td>\n",
       "      <td id=\"T_6902f_row3_col2\" class=\"data row3 col2\" >3</td>\n",
       "      <td id=\"T_6902f_row3_col3\" class=\"data row3 col3\" >8</td>\n",
       "      <td id=\"T_6902f_row3_col4\" class=\"data row3 col4\" >3</td>\n",
       "      <td id=\"T_6902f_row3_col5\" class=\"data row3 col5\" >8.00</td>\n",
       "      <td id=\"T_6902f_row3_col6\" class=\"data row3 col6\" >40.00</td>\n",
       "    </tr>\n",
       "    <tr>\n",
       "      <th id=\"T_6902f_level0_row4\" class=\"row_heading level0 row4\" >8</th>\n",
       "      <td id=\"T_6902f_row4_col0\" class=\"data row4 col0\" >Запустить акцию, дающую скидку на товар в день рождения</td>\n",
       "      <td id=\"T_6902f_row4_col1\" class=\"data row4 col1\" >1</td>\n",
       "      <td id=\"T_6902f_row4_col2\" class=\"data row4 col2\" >9</td>\n",
       "      <td id=\"T_6902f_row4_col3\" class=\"data row4 col3\" >9</td>\n",
       "      <td id=\"T_6902f_row4_col4\" class=\"data row4 col4\" >5</td>\n",
       "      <td id=\"T_6902f_row4_col5\" class=\"data row4 col5\" >16.20</td>\n",
       "      <td id=\"T_6902f_row4_col6\" class=\"data row4 col6\" >16.20</td>\n",
       "    </tr>\n",
       "    <tr>\n",
       "      <th id=\"T_6902f_level0_row5\" class=\"row_heading level0 row5\" >3</th>\n",
       "      <td id=\"T_6902f_row5_col0\" class=\"data row5 col0\" >Изменить структура категорий, что увеличит конверсию, т.к. пользователи быстрее найдут нужный товар</td>\n",
       "      <td id=\"T_6902f_row5_col1\" class=\"data row5 col1\" >8</td>\n",
       "      <td id=\"T_6902f_row5_col2\" class=\"data row5 col2\" >3</td>\n",
       "      <td id=\"T_6902f_row5_col3\" class=\"data row5 col3\" >3</td>\n",
       "      <td id=\"T_6902f_row5_col4\" class=\"data row5 col4\" >8</td>\n",
       "      <td id=\"T_6902f_row5_col5\" class=\"data row5 col5\" >1.12</td>\n",
       "      <td id=\"T_6902f_row5_col6\" class=\"data row5 col6\" >9.00</td>\n",
       "    </tr>\n",
       "    <tr>\n",
       "      <th id=\"T_6902f_level0_row6\" class=\"row_heading level0 row6\" >1</th>\n",
       "      <td id=\"T_6902f_row6_col0\" class=\"data row6 col0\" >Запустить собственную службу доставки, что сократит срок доставки заказов</td>\n",
       "      <td id=\"T_6902f_row6_col1\" class=\"data row6 col1\" >2</td>\n",
       "      <td id=\"T_6902f_row6_col2\" class=\"data row6 col2\" >5</td>\n",
       "      <td id=\"T_6902f_row6_col3\" class=\"data row6 col3\" >4</td>\n",
       "      <td id=\"T_6902f_row6_col4\" class=\"data row6 col4\" >10</td>\n",
       "      <td id=\"T_6902f_row6_col5\" class=\"data row6 col5\" >2.00</td>\n",
       "      <td id=\"T_6902f_row6_col6\" class=\"data row6 col6\" >4.00</td>\n",
       "    </tr>\n",
       "    <tr>\n",
       "      <th id=\"T_6902f_level0_row7\" class=\"row_heading level0 row7\" >5</th>\n",
       "      <td id=\"T_6902f_row7_col0\" class=\"data row7 col0\" >Добавить страницу отзывов клиентов о магазине, что позволит увеличить количество заказов</td>\n",
       "      <td id=\"T_6902f_row7_col1\" class=\"data row7 col1\" >3</td>\n",
       "      <td id=\"T_6902f_row7_col2\" class=\"data row7 col2\" >2</td>\n",
       "      <td id=\"T_6902f_row7_col3\" class=\"data row7 col3\" >2</td>\n",
       "      <td id=\"T_6902f_row7_col4\" class=\"data row7 col4\" >3</td>\n",
       "      <td id=\"T_6902f_row7_col5\" class=\"data row7 col5\" >1.33</td>\n",
       "      <td id=\"T_6902f_row7_col6\" class=\"data row7 col6\" >4.00</td>\n",
       "    </tr>\n",
       "    <tr>\n",
       "      <th id=\"T_6902f_level0_row8\" class=\"row_heading level0 row8\" >4</th>\n",
       "      <td id=\"T_6902f_row8_col0\" class=\"data row8 col0\" >Изменить цвет фона главной страницы, чтобы увеличить вовлеченность пользователей</td>\n",
       "      <td id=\"T_6902f_row8_col1\" class=\"data row8 col1\" >3</td>\n",
       "      <td id=\"T_6902f_row8_col2\" class=\"data row8 col2\" >1</td>\n",
       "      <td id=\"T_6902f_row8_col3\" class=\"data row8 col3\" >1</td>\n",
       "      <td id=\"T_6902f_row8_col4\" class=\"data row8 col4\" >1</td>\n",
       "      <td id=\"T_6902f_row8_col5\" class=\"data row8 col5\" >1.00</td>\n",
       "      <td id=\"T_6902f_row8_col6\" class=\"data row8 col6\" >3.00</td>\n",
       "    </tr>\n",
       "  </tbody>\n",
       "</table>\n"
      ],
      "text/plain": [
       "<pandas.io.formats.style.Styler at 0x17ea0dfa0c8>"
      ]
     },
     "execution_count": 15,
     "metadata": {},
     "output_type": "execute_result"
    }
   ],
   "source": [
    "scores.sort_values(by='RICE', ascending=False).style.background_gradient(cmap=\"BuGn\", subset=['RICE'])"
   ]
  },
  {
   "cell_type": "markdown",
   "id": "8e470bf0-5011-4363-970a-058ca0698c20",
   "metadata": {},
   "source": [
    "&#9889; **Выводы**\n",
    "\n",
    "По методу RICE наиболее перспективные гипотезы:\n",
    "- \"Добавить форму подписки на все основные страницы, чтобы собрать базу клиентов для email-рассылок\" (№ 7, 112.00), \n",
    "- \"Добавить блоки рекомендаций товаров на сайт интернет магазина, чтобы повысить конверсию и средний чек заказа\" (№ 2, 56.00)\n",
    "- \"Добавить два новых канала привлечения трафика, что позволит привлекать на 30% больше пользователей\" (№ 0, 40.00)\n",
    "- \"Показать на главной странице баннеры с актуальными акциями и распродажами, чтобы увеличить конверсию\" (№ 6, 40.00)"
   ]
  },
  {
   "cell_type": "markdown",
   "id": "babac753-428a-41eb-8693-d312b821b1ac",
   "metadata": {
    "tags": []
   },
   "source": [
    "## Выводы по итогам приоритезации<a class=\"anchor\" id=\"2_conclusion\"></a>"
   ]
  },
  {
   "cell_type": "markdown",
   "id": "3025f973-0a4b-410a-9313-27ee9cb4061a",
   "metadata": {},
   "source": [
    "1. Охват пользователей (Reach) повлиял на приоритизацию гипотез при применении RICE вместо ICE:\n",
    "    - две (№ 7, 0) из трех самых прироритетных гипотез по методу ICE вошли в тройку после пересчета по методу RICE - гипотеза о добавлении формы подпсики и добавлении двух каналов; гипотеза о запуске акции, дающей скидку на день рождения переместилась с вершины списка в середину (одинаковое число баллов по RICE и ICE - 16.20),\n",
    "    - гипотеза № 7 - \"Добавить форму подписки на все основные страницы, чтобы собрать базу клиентов для email-рассылок\"  - получила наибольшую оценку по методу RICE- 112 баллов (ICE - 11.20),\n",
    "    - гипотеза № 2 - \"Добавить блоки рекомендаций товаров на сайт интернет магазина, чтобы повысить конверсию и средний чек заказа\" получила вдвое меньше баллов по методу RICE, чем гипотеза о форме подписок (56 против 112).\n",
    "2. Неизвестно как именно сформирована шкала охвата пользователей, поэтому, исходя из представленных данных, до уточнения информации о шкале охвата, с осторожностью можно утверждать, что гипотеза № 7 о добавлении формы подиски является приоритетной, поскольку получила и максимальную оценку по RICE (112), и достаточно высокую по ICE (11.20 из 16.20 - вошла в тройку, на 3.2 балла выше следующей)."
   ]
  },
  {
   "cell_type": "markdown",
   "id": "a45a9e9f-bc60-4375-a0fc-b59658c75960",
   "metadata": {
    "tags": []
   },
   "source": [
    "[В оглавление](#TOC)"
   ]
  },
  {
   "cell_type": "markdown",
   "id": "7e55c6c0-d504-4932-a3fe-2dc7945ae384",
   "metadata": {
    "tags": []
   },
   "source": [
    "# III. Анализ A/B-теста<a class='anchor' id='3'></a>"
   ]
  },
  {
   "cell_type": "markdown",
   "id": "ee6946ba-7d74-4aa9-8a5f-9d2e3f737ee6",
   "metadata": {},
   "source": [
    "[В оглавление](#TOC)"
   ]
  }
 ],
 "metadata": {
  "kernelspec": {
   "display_name": "venv",
   "language": "python",
   "name": "venv"
  },
  "language_info": {
   "codemirror_mode": {
    "name": "ipython",
    "version": 3
   },
   "file_extension": ".py",
   "mimetype": "text/x-python",
   "name": "python",
   "nbconvert_exporter": "python",
   "pygments_lexer": "ipython3",
   "version": "3.8.8"
  }
 },
 "nbformat": 4,
 "nbformat_minor": 5
}

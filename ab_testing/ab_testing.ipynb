{
 "cells": [
  {
   "cell_type": "markdown",
   "id": "ba61c5ea-5197-4248-a61b-0df81e199a46",
   "metadata": {},
   "source": [
    "# A/B тестирование\n",
    "***"
   ]
  },
  {
   "cell_type": "markdown",
   "id": "6e0aed89-c634-4512-b633-689c26e2ce2a",
   "metadata": {},
   "source": [
    "# Описание проекта"
   ]
  },
  {
   "cell_type": "markdown",
   "id": "f13e4d63-0703-491a-b349-d50cdb32136c",
   "metadata": {},
   "source": [
    "Приоритизация гипотез, запуск A/B-теста и анализ результатов."
   ]
  },
  {
   "cell_type": "markdown",
   "id": "633025fb-8d50-4734-944e-3d1ecf60bab0",
   "metadata": {},
   "source": [
    "# Оглавление<a class='anchor' id='TOC'></a>"
   ]
  },
  {
   "cell_type": "markdown",
   "id": "87315986-b116-45ce-a975-382b8d1f58d9",
   "metadata": {},
   "source": [
    "* **[I. Подготовка к анализу](#1)**\n",
    "    - [1) Импортируем библиотеки, объявим классы HypoPrioritize, ABReporter, MannWhitneyU для анализа](#1_1)\n",
    "    - [Вывод](#1_conclusion)\n",
    "<br></br>\n",
    "* **[II. Приоритизация гипотез](#2)**\n",
    "    - [1) Применим фреймворки ICE и RICE](#2_1)\n",
    "    - [2) Проверим гипотезы по методу ICE](#2_2)\n",
    "    - [2) Проверим гипотезы по методу RICE](#2_3)\n",
    "    - [Выводы по итогам приоритезации](#2_conclusion)\n",
    "<br></br> \n",
    "* **[III. Анализ A/B-теста](#3)**\n",
    "    - [1) Исследуем данные](#3_1)\n",
    "    - [2) Построим графики кумулятивных метрик](#3_2)\n",
    "    - [3) Исследуем количество заказов на пользователя и стоимости заказов](#3_3)\n",
    "    - [4) Проведем статистические тесты](#3_4)\n",
    "    - [Выводы по итогам анализ А/В-теста](#3_conclusion)\n",
    "<br></br>\n",
    "* **[Чек-лист](#checklist)**"
   ]
  },
  {
   "cell_type": "markdown",
   "id": "85f4b560-4b8d-4fed-8902-ddfe0296fd45",
   "metadata": {
    "tags": []
   },
   "source": [
    "# I. Подготовка к анализу<a class='anchor' id='1'></a>"
   ]
  },
  {
   "cell_type": "markdown",
   "id": "14ea28bf-250f-4dee-8966-1635f0485dad",
   "metadata": {},
   "source": [
    "## 1) Импортируем библиотеки, объявим классы HypoPrioritize, ABReporter, MannWhitneyU для анализа<a class=\"anchor\" id=\"1_1\"></a>"
   ]
  },
  {
   "cell_type": "code",
   "execution_count": null,
   "id": "65205680-7bb2-49e4-801e-632d886a9793",
   "metadata": {},
   "outputs": [],
   "source": [
    "import pandas as pd\n",
    "\n",
    "from solver.hypo import HypoPrioritization\n",
    "from solver.ab_reporter import ABReporter\n",
    "from solver.stat_tests import MannWhitneyU"
   ]
  },
  {
   "cell_type": "markdown",
   "id": "eca05577-2da1-424e-a3d2-e66244885054",
   "metadata": {},
   "source": [
    "[В оглавление](#TOC)"
   ]
  },
  {
   "cell_type": "markdown",
   "id": "bb24fd94-5f72-46c9-b333-5c7db1443dd6",
   "metadata": {},
   "source": [
    "# II. Приоритизация гипотез<a class='anchor' id='2'></a>"
   ]
  },
  {
   "cell_type": "markdown",
   "id": "86b397fa-0f0f-44eb-b1ec-052c60c32bd3",
   "metadata": {},
   "source": [
    "## 1) Применим фреймворки ICE и RICE<a class=\"anchor\" id=\"2_1\"></a>"
   ]
  },
  {
   "cell_type": "code",
   "execution_count": null,
   "id": "71ba454e-b829-4b81-8a5a-bb3f56069986",
   "metadata": {},
   "outputs": [],
   "source": [
    "prioritization = HypoPrioritization('datasets/hypothesis.csv')"
   ]
  },
  {
   "cell_type": "code",
   "execution_count": null,
   "id": "ddc38b8b-9df2-4e32-b425-e335104caaf6",
   "metadata": {},
   "outputs": [],
   "source": [
    "scores = prioritization.get_priority()\n",
    "scores"
   ]
  },
  {
   "cell_type": "markdown",
   "id": "45866b5a-2515-4ff0-aa18-92593bec852b",
   "metadata": {},
   "source": [
    "&#9889; **Вывод:** девять гипотез, в отношении каждой посчитали приоритет по методам ICE и RICE."
   ]
  },
  {
   "cell_type": "markdown",
   "id": "f20496fb-d3a3-476e-9b23-bce875ce54c7",
   "metadata": {},
   "source": [
    "## 2) Проверим гипотезы по методу ICE<a class=\"anchor\" id=\"2_2\"></a>"
   ]
  },
  {
   "cell_type": "code",
   "execution_count": null,
   "id": "1e136404-4ddb-4bcc-ad61-109d6671c16f",
   "metadata": {},
   "outputs": [],
   "source": [
    "(scores.sort_values(by='ICE', ascending=False)\n",
    "       .style\n",
    "       .set_properties(**{'text-align': 'left'})\n",
    "       .set_table_styles([{'selector': 'th',\n",
    "                           'props': [('text-align','left')]}])\n",
    "       .background_gradient(cmap=\"BuGn\", subset=['ICE'])\n",
    "       .format({'ICE': \"{:.2f}\", 'RICE': \"{:.2f}\"}))"
   ]
  },
  {
   "cell_type": "markdown",
   "id": "2b9a68c7-e3ba-4d73-bfcb-b01a7d80b0bc",
   "metadata": {},
   "source": [
    "&#9889; **Выводы**\n",
    "\n",
    "По методу ICE наиболее перспективные гипотезы:\n",
    "- \"Запустить акцию, дающую скидку на товар в день рождения\" (№ 8, 16.20), \n",
    "- \"Добавить два новых канала привлечения трафика, что позволит привлекать на 30% больше пользователей\" (№ 0, 13.33)\n",
    "- \"Добавить форму подписки на все основные страницы, чтобы собрать базу клиентов для email-рассылок\" (№ 7, 11.20)"
   ]
  },
  {
   "cell_type": "markdown",
   "id": "b39c8efb-e02d-4028-830f-c8c91b636ddb",
   "metadata": {},
   "source": [
    "## 3) Проверим гипотезы по методу RICE<a class=\"anchor\" id=\"2_3\"></a>"
   ]
  },
  {
   "cell_type": "code",
   "execution_count": null,
   "id": "d1235fd6-3d17-446f-8fe8-52c39f76f068",
   "metadata": {},
   "outputs": [],
   "source": [
    "(scores.sort_values(by='RICE', ascending=False)\n",
    "       .style\n",
    "       .set_properties(**{'text-align': 'left'})\n",
    "       .set_table_styles([{'selector': 'th',\n",
    "                           'props': [('text-align','left')]}])\n",
    "       .background_gradient(cmap=\"BuGn\", subset=['RICE'])\n",
    "       .format({'ICE': \"{:.2f}\", 'RICE': \"{:.2f}\"}))"
   ]
  },
  {
   "cell_type": "markdown",
   "id": "8e470bf0-5011-4363-970a-058ca0698c20",
   "metadata": {},
   "source": [
    "&#9889; **Выводы**\n",
    "\n",
    "По методу RICE наиболее перспективные гипотезы:\n",
    "- \"Добавить форму подписки на все основные страницы, чтобы собрать базу клиентов для email-рассылок\" (№ 7, 112.00), \n",
    "- \"Добавить блоки рекомендаций товаров на сайт интернет магазина, чтобы повысить конверсию и средний чек заказа\" (№ 2, 56.00)\n",
    "- \"Добавить два новых канала привлечения трафика, что позволит привлекать на 30% больше пользователей\" (№ 0, 40.00)\n",
    "- \"Показать на главной странице баннеры с актуальными акциями и распродажами, чтобы увеличить конверсию\" (№ 6, 40.00)"
   ]
  },
  {
   "cell_type": "markdown",
   "id": "babac753-428a-41eb-8693-d312b821b1ac",
   "metadata": {
    "tags": []
   },
   "source": [
    "## Выводы по итогам приоритезации<a class=\"anchor\" id=\"2_conclusion\"></a>"
   ]
  },
  {
   "cell_type": "markdown",
   "id": "3025f973-0a4b-410a-9313-27ee9cb4061a",
   "metadata": {},
   "source": [
    "1. Охват пользователей (Reach) повлиял на приоритизацию гипотез при применении RICE вместо ICE:\n",
    "    - две (№ 7, 0) из трех самых прироритетных гипотез по методу ICE вошли в тройку после пересчета по методу RICE - гипотеза о добавлении формы подпсики и добавлении двух каналов; гипотеза о запуске акции, дающей скидку на день рождения переместилась с вершины списка в середину (одинаковое число баллов по RICE и ICE - 16.20),\n",
    "    - гипотеза № 7 - \"Добавить форму подписки на все основные страницы, чтобы собрать базу клиентов для email-рассылок\"  - получила наибольшую оценку по методу RICE- 112 баллов (ICE - 11.20),\n",
    "    - гипотеза № 2 - \"Добавить блоки рекомендаций товаров на сайт интернет магазина, чтобы повысить конверсию и средний чек заказа\" получила вдвое меньше баллов по методу RICE, чем гипотеза о форме подписок (56 против 112).\n",
    "2. Неизвестно как именно сформирована шкала охвата пользователей, поэтому, исходя из представленных данных, до уточнения информации о шкале охвата, с осторожностью можно утверждать, что гипотеза № 7 о добавлении формы подиски является приоритетной, поскольку получила и максимальную оценку по RICE (112), и достаточно высокую по ICE (11.20 из 16.20 - вошла в тройку, на 3.2 балла выше следующей)."
   ]
  },
  {
   "cell_type": "markdown",
   "id": "a45a9e9f-bc60-4375-a0fc-b59658c75960",
   "metadata": {
    "tags": []
   },
   "source": [
    "[В оглавление](#TOC)"
   ]
  },
  {
   "cell_type": "markdown",
   "id": "7e55c6c0-d504-4932-a3fe-2dc7945ae384",
   "metadata": {
    "tags": []
   },
   "source": [
    "# III. Анализ A/B-теста<a class='anchor' id='3'></a>"
   ]
  },
  {
   "cell_type": "markdown",
   "id": "212a1ee4-f7b3-49c3-ad78-b6fe9fcf824f",
   "metadata": {},
   "source": [
    "## 1) Исследуем данные<a class=\"anchor\" id=\"3_1\"></a>"
   ]
  },
  {
   "cell_type": "markdown",
   "id": "ea61a03e-7150-40df-b0be-07698e835134",
   "metadata": {
    "tags": []
   },
   "source": [
    "### - инициализируем класс для анализа"
   ]
  },
  {
   "cell_type": "code",
   "execution_count": 6,
   "id": "97cbff0a-d61b-4bcf-87a3-1cfa10fe67e5",
   "metadata": {},
   "outputs": [],
   "source": [
    "reporter = ABReporter('datasets/visitors.csv', 'datasets/orders.csv')"
   ]
  },
  {
   "cell_type": "markdown",
   "id": "94f101e5-0586-49c6-8fa5-a86950cf9877",
   "metadata": {},
   "source": [
    "### - выведем первые пять первых и последних строк таблицы с посетителями, общую информацию, статитстику"
   ]
  },
  {
   "cell_type": "code",
   "execution_count": 7,
   "id": "ba81477e-4ce9-4d0a-9427-9a6527fac98a",
   "metadata": {},
   "outputs": [
    {
     "name": "stdout",
     "output_type": "stream",
     "text": [
      "<class 'pandas.core.frame.DataFrame'>\n",
      "RangeIndex: 62 entries, 0 to 61\n",
      "Data columns (total 3 columns):\n",
      " #   Column    Non-Null Count  Dtype         \n",
      "---  ------    --------------  -----         \n",
      " 0   date      62 non-null     datetime64[ns]\n",
      " 1   group     62 non-null     object        \n",
      " 2   visitors  62 non-null     int64         \n",
      "dtypes: datetime64[ns](1), int64(1), object(1)\n",
      "memory usage: 1.6+ KB\n"
     ]
    },
    {
     "data": {
      "text/html": [
       "<div>\n",
       "<style scoped>\n",
       "    .dataframe tbody tr th:only-of-type {\n",
       "        vertical-align: middle;\n",
       "    }\n",
       "\n",
       "    .dataframe tbody tr th {\n",
       "        vertical-align: top;\n",
       "    }\n",
       "\n",
       "    .dataframe thead th {\n",
       "        text-align: right;\n",
       "    }\n",
       "</style>\n",
       "<table border=\"1\" class=\"dataframe\">\n",
       "  <thead>\n",
       "    <tr style=\"text-align: right;\">\n",
       "      <th></th>\n",
       "      <th>date</th>\n",
       "      <th>group</th>\n",
       "      <th>visitors</th>\n",
       "    </tr>\n",
       "  </thead>\n",
       "  <tbody>\n",
       "    <tr>\n",
       "      <th>0</th>\n",
       "      <td>2019-08-01</td>\n",
       "      <td>A</td>\n",
       "      <td>719</td>\n",
       "    </tr>\n",
       "    <tr>\n",
       "      <th>1</th>\n",
       "      <td>2019-08-02</td>\n",
       "      <td>A</td>\n",
       "      <td>619</td>\n",
       "    </tr>\n",
       "    <tr>\n",
       "      <th>2</th>\n",
       "      <td>2019-08-03</td>\n",
       "      <td>A</td>\n",
       "      <td>507</td>\n",
       "    </tr>\n",
       "    <tr>\n",
       "      <th>3</th>\n",
       "      <td>2019-08-04</td>\n",
       "      <td>A</td>\n",
       "      <td>717</td>\n",
       "    </tr>\n",
       "    <tr>\n",
       "      <th>4</th>\n",
       "      <td>2019-08-05</td>\n",
       "      <td>A</td>\n",
       "      <td>756</td>\n",
       "    </tr>\n",
       "    <tr>\n",
       "      <th>...</th>\n",
       "      <td>...</td>\n",
       "      <td>...</td>\n",
       "      <td>...</td>\n",
       "    </tr>\n",
       "    <tr>\n",
       "      <th>57</th>\n",
       "      <td>2019-08-27</td>\n",
       "      <td>B</td>\n",
       "      <td>720</td>\n",
       "    </tr>\n",
       "    <tr>\n",
       "      <th>58</th>\n",
       "      <td>2019-08-28</td>\n",
       "      <td>B</td>\n",
       "      <td>654</td>\n",
       "    </tr>\n",
       "    <tr>\n",
       "      <th>59</th>\n",
       "      <td>2019-08-29</td>\n",
       "      <td>B</td>\n",
       "      <td>531</td>\n",
       "    </tr>\n",
       "    <tr>\n",
       "      <th>60</th>\n",
       "      <td>2019-08-30</td>\n",
       "      <td>B</td>\n",
       "      <td>490</td>\n",
       "    </tr>\n",
       "    <tr>\n",
       "      <th>61</th>\n",
       "      <td>2019-08-31</td>\n",
       "      <td>B</td>\n",
       "      <td>718</td>\n",
       "    </tr>\n",
       "  </tbody>\n",
       "</table>\n",
       "<p>62 rows × 3 columns</p>\n",
       "</div>"
      ],
      "text/plain": [
       "         date group  visitors\n",
       "0  2019-08-01     A       719\n",
       "1  2019-08-02     A       619\n",
       "2  2019-08-03     A       507\n",
       "3  2019-08-04     A       717\n",
       "4  2019-08-05     A       756\n",
       "..        ...   ...       ...\n",
       "57 2019-08-27     B       720\n",
       "58 2019-08-28     B       654\n",
       "59 2019-08-29     B       531\n",
       "60 2019-08-30     B       490\n",
       "61 2019-08-31     B       718\n",
       "\n",
       "[62 rows x 3 columns]"
      ]
     },
     "metadata": {},
     "output_type": "display_data"
    },
    {
     "data": {
      "text/plain": [
       "None"
      ]
     },
     "metadata": {},
     "output_type": "display_data"
    },
    {
     "data": {
      "text/html": [
       "<div>\n",
       "<style scoped>\n",
       "    .dataframe tbody tr th:only-of-type {\n",
       "        vertical-align: middle;\n",
       "    }\n",
       "\n",
       "    .dataframe tbody tr th {\n",
       "        vertical-align: top;\n",
       "    }\n",
       "\n",
       "    .dataframe thead th {\n",
       "        text-align: right;\n",
       "    }\n",
       "</style>\n",
       "<table border=\"1\" class=\"dataframe\">\n",
       "  <thead>\n",
       "    <tr style=\"text-align: right;\">\n",
       "      <th></th>\n",
       "      <th>count</th>\n",
       "      <th>mean</th>\n",
       "      <th>std</th>\n",
       "      <th>min</th>\n",
       "      <th>25%</th>\n",
       "      <th>50%</th>\n",
       "      <th>75%</th>\n",
       "      <th>max</th>\n",
       "    </tr>\n",
       "  </thead>\n",
       "  <tbody>\n",
       "    <tr>\n",
       "      <th>visitors</th>\n",
       "      <td>62.0</td>\n",
       "      <td>607.290323</td>\n",
       "      <td>114.40056</td>\n",
       "      <td>361.0</td>\n",
       "      <td>534.0</td>\n",
       "      <td>624.5</td>\n",
       "      <td>710.5</td>\n",
       "      <td>770.0</td>\n",
       "    </tr>\n",
       "  </tbody>\n",
       "</table>\n",
       "</div>"
      ],
      "text/plain": [
       "          count        mean        std    min    25%    50%    75%    max\n",
       "visitors   62.0  607.290323  114.40056  361.0  534.0  624.5  710.5  770.0"
      ]
     },
     "metadata": {},
     "output_type": "display_data"
    }
   ],
   "source": [
    "display(reporter.visitors, reporter.visitors.info(), reporter.visitors.describe().T)"
   ]
  },
  {
   "cell_type": "markdown",
   "id": "858a5dd3-ab9d-459d-88a7-2fdce7c23d76",
   "metadata": {
    "tags": []
   },
   "source": [
    "### - посчитаем полные дубликаты в данных о посещениях"
   ]
  },
  {
   "cell_type": "code",
   "execution_count": 18,
   "id": "250e3800-2e4a-408d-90eb-6eabae471345",
   "metadata": {},
   "outputs": [
    {
     "data": {
      "text/plain": [
       "0"
      ]
     },
     "execution_count": 18,
     "metadata": {},
     "output_type": "execute_result"
    }
   ],
   "source": [
    "(reporter.visitors.duplicated() == True).sum()"
   ]
  },
  {
   "cell_type": "markdown",
   "id": "2158fe5b-c07a-4023-b02f-b2d898c7dbc0",
   "metadata": {},
   "source": [
    "&#9889; **Выводы**\n",
    "\n",
    "1. В датасете с информацией о посещениях шестьдесят два наблюдения, без пропусков, без проблем с типами данных.\n",
    "2. Минимальное число посетителей - 361, максимальное - 770. Среднее число посетителей - 607, при медианном значении в 625 посетителей, минимальное число оказало давление на среднее: были провалы в посещении.\n",
    "3. Полных дубликатов нет."
   ]
  },
  {
   "cell_type": "markdown",
   "id": "70acef7e-1a3f-4f62-9d82-cb0444552754",
   "metadata": {},
   "source": [
    "### - выведем первые пять первых и последних строк таблицы с заказами, общую информацию, статитстику"
   ]
  },
  {
   "cell_type": "code",
   "execution_count": 10,
   "id": "f73e864c-55c2-4269-a9ea-eacd273f9668",
   "metadata": {},
   "outputs": [
    {
     "name": "stdout",
     "output_type": "stream",
     "text": [
      "<class 'pandas.core.frame.DataFrame'>\n",
      "RangeIndex: 1197 entries, 0 to 1196\n",
      "Data columns (total 5 columns):\n",
      " #   Column         Non-Null Count  Dtype         \n",
      "---  ------         --------------  -----         \n",
      " 0   transactionId  1197 non-null   int64         \n",
      " 1   visitorId      1197 non-null   int64         \n",
      " 2   date           1197 non-null   datetime64[ns]\n",
      " 3   revenue        1197 non-null   int64         \n",
      " 4   group          1197 non-null   object        \n",
      "dtypes: datetime64[ns](1), int64(3), object(1)\n",
      "memory usage: 46.9+ KB\n"
     ]
    },
    {
     "data": {
      "text/html": [
       "<div>\n",
       "<style scoped>\n",
       "    .dataframe tbody tr th:only-of-type {\n",
       "        vertical-align: middle;\n",
       "    }\n",
       "\n",
       "    .dataframe tbody tr th {\n",
       "        vertical-align: top;\n",
       "    }\n",
       "\n",
       "    .dataframe thead th {\n",
       "        text-align: right;\n",
       "    }\n",
       "</style>\n",
       "<table border=\"1\" class=\"dataframe\">\n",
       "  <thead>\n",
       "    <tr style=\"text-align: right;\">\n",
       "      <th></th>\n",
       "      <th>transactionId</th>\n",
       "      <th>visitorId</th>\n",
       "      <th>date</th>\n",
       "      <th>revenue</th>\n",
       "      <th>group</th>\n",
       "    </tr>\n",
       "  </thead>\n",
       "  <tbody>\n",
       "    <tr>\n",
       "      <th>0</th>\n",
       "      <td>3667963787</td>\n",
       "      <td>3312258926</td>\n",
       "      <td>2019-08-15</td>\n",
       "      <td>1650</td>\n",
       "      <td>B</td>\n",
       "    </tr>\n",
       "    <tr>\n",
       "      <th>1</th>\n",
       "      <td>2804400009</td>\n",
       "      <td>3642806036</td>\n",
       "      <td>2019-08-15</td>\n",
       "      <td>730</td>\n",
       "      <td>B</td>\n",
       "    </tr>\n",
       "    <tr>\n",
       "      <th>2</th>\n",
       "      <td>2961555356</td>\n",
       "      <td>4069496402</td>\n",
       "      <td>2019-08-15</td>\n",
       "      <td>400</td>\n",
       "      <td>A</td>\n",
       "    </tr>\n",
       "    <tr>\n",
       "      <th>3</th>\n",
       "      <td>3797467345</td>\n",
       "      <td>1196621759</td>\n",
       "      <td>2019-08-15</td>\n",
       "      <td>9759</td>\n",
       "      <td>B</td>\n",
       "    </tr>\n",
       "    <tr>\n",
       "      <th>4</th>\n",
       "      <td>2282983706</td>\n",
       "      <td>2322279887</td>\n",
       "      <td>2019-08-15</td>\n",
       "      <td>2308</td>\n",
       "      <td>B</td>\n",
       "    </tr>\n",
       "    <tr>\n",
       "      <th>...</th>\n",
       "      <td>...</td>\n",
       "      <td>...</td>\n",
       "      <td>...</td>\n",
       "      <td>...</td>\n",
       "      <td>...</td>\n",
       "    </tr>\n",
       "    <tr>\n",
       "      <th>1192</th>\n",
       "      <td>2662137336</td>\n",
       "      <td>3733762160</td>\n",
       "      <td>2019-08-14</td>\n",
       "      <td>6490</td>\n",
       "      <td>B</td>\n",
       "    </tr>\n",
       "    <tr>\n",
       "      <th>1193</th>\n",
       "      <td>2203539145</td>\n",
       "      <td>370388673</td>\n",
       "      <td>2019-08-14</td>\n",
       "      <td>3190</td>\n",
       "      <td>A</td>\n",
       "    </tr>\n",
       "    <tr>\n",
       "      <th>1194</th>\n",
       "      <td>1807773912</td>\n",
       "      <td>573423106</td>\n",
       "      <td>2019-08-14</td>\n",
       "      <td>10550</td>\n",
       "      <td>A</td>\n",
       "    </tr>\n",
       "    <tr>\n",
       "      <th>1195</th>\n",
       "      <td>1947021204</td>\n",
       "      <td>1614305549</td>\n",
       "      <td>2019-08-14</td>\n",
       "      <td>100</td>\n",
       "      <td>A</td>\n",
       "    </tr>\n",
       "    <tr>\n",
       "      <th>1196</th>\n",
       "      <td>3936777065</td>\n",
       "      <td>2108080724</td>\n",
       "      <td>2019-08-15</td>\n",
       "      <td>202740</td>\n",
       "      <td>B</td>\n",
       "    </tr>\n",
       "  </tbody>\n",
       "</table>\n",
       "<p>1197 rows × 5 columns</p>\n",
       "</div>"
      ],
      "text/plain": [
       "      transactionId   visitorId       date  revenue group\n",
       "0        3667963787  3312258926 2019-08-15     1650     B\n",
       "1        2804400009  3642806036 2019-08-15      730     B\n",
       "2        2961555356  4069496402 2019-08-15      400     A\n",
       "3        3797467345  1196621759 2019-08-15     9759     B\n",
       "4        2282983706  2322279887 2019-08-15     2308     B\n",
       "...             ...         ...        ...      ...   ...\n",
       "1192     2662137336  3733762160 2019-08-14     6490     B\n",
       "1193     2203539145   370388673 2019-08-14     3190     A\n",
       "1194     1807773912   573423106 2019-08-14    10550     A\n",
       "1195     1947021204  1614305549 2019-08-14      100     A\n",
       "1196     3936777065  2108080724 2019-08-15   202740     B\n",
       "\n",
       "[1197 rows x 5 columns]"
      ]
     },
     "metadata": {},
     "output_type": "display_data"
    },
    {
     "data": {
      "text/plain": [
       "None"
      ]
     },
     "metadata": {},
     "output_type": "display_data"
    },
    {
     "data": {
      "text/html": [
       "<div>\n",
       "<style scoped>\n",
       "    .dataframe tbody tr th:only-of-type {\n",
       "        vertical-align: middle;\n",
       "    }\n",
       "\n",
       "    .dataframe tbody tr th {\n",
       "        vertical-align: top;\n",
       "    }\n",
       "\n",
       "    .dataframe thead th {\n",
       "        text-align: right;\n",
       "    }\n",
       "</style>\n",
       "<table border=\"1\" class=\"dataframe\">\n",
       "  <thead>\n",
       "    <tr style=\"text-align: right;\">\n",
       "      <th></th>\n",
       "      <th>count</th>\n",
       "      <th>mean</th>\n",
       "      <th>std</th>\n",
       "      <th>min</th>\n",
       "      <th>25%</th>\n",
       "      <th>50%</th>\n",
       "      <th>75%</th>\n",
       "      <th>max</th>\n",
       "    </tr>\n",
       "  </thead>\n",
       "  <tbody>\n",
       "    <tr>\n",
       "      <th>revenue</th>\n",
       "      <td>1197.0</td>\n",
       "      <td>8348.005848</td>\n",
       "      <td>39191.131774</td>\n",
       "      <td>50.0</td>\n",
       "      <td>1220.0</td>\n",
       "      <td>2978.0</td>\n",
       "      <td>8290.0</td>\n",
       "      <td>1294500.0</td>\n",
       "    </tr>\n",
       "  </tbody>\n",
       "</table>\n",
       "</div>"
      ],
      "text/plain": [
       "          count         mean           std   min     25%     50%     75%  \\\n",
       "revenue  1197.0  8348.005848  39191.131774  50.0  1220.0  2978.0  8290.0   \n",
       "\n",
       "               max  \n",
       "revenue  1294500.0  "
      ]
     },
     "metadata": {},
     "output_type": "display_data"
    }
   ],
   "source": [
    "display(reporter.orders, reporter.orders.info(), reporter.orders[['revenue']].describe().T)"
   ]
  },
  {
   "cell_type": "markdown",
   "id": "bad70c56-035f-42bf-94a1-a66f72135a20",
   "metadata": {},
   "source": [
    "### - посчитаем полные дубликаты в данных о заказах"
   ]
  },
  {
   "cell_type": "code",
   "execution_count": 17,
   "id": "8a222b7d-bc4c-4de7-8902-9c26e5a25ab5",
   "metadata": {},
   "outputs": [
    {
     "data": {
      "text/plain": [
       "0"
      ]
     },
     "execution_count": 17,
     "metadata": {},
     "output_type": "execute_result"
    }
   ],
   "source": [
    "(reporter.orders.duplicated() == True).sum()"
   ]
  },
  {
   "cell_type": "markdown",
   "id": "5c207129-bba3-42a8-93e7-284aef8a7fb1",
   "metadata": {},
   "source": [
    "&#9889; **Выводы**\n",
    "\n",
    "1. В датасете с информацией о посещениях шестьдесят два наблюдения, без пропусков, без проблем с типами данных.\n",
    "2. Минимальное число посетителей - 361, максимальное - 770. Среднее число посетителей - 607, при медианном значении в 625 посетителей, минимальное число оказало давление на среднее: были провалы в посещении.\n",
    "3. Полных дубликатов нет."
   ]
  },
  {
   "cell_type": "markdown",
   "id": "0cf9cd03-f78d-424a-a495-a33ab2583d32",
   "metadata": {},
   "source": [
    "### - проверим корректно ли разделены группы"
   ]
  },
  {
   "cell_type": "markdown",
   "id": "29b0afbe-4cdd-4185-823b-a471c5e32d3c",
   "metadata": {},
   "source": [
    "Проверим пересечения между группами, сохраним id пользователей в отдельный список"
   ]
  },
  {
   "cell_type": "code",
   "execution_count": 21,
   "id": "3068ed70-107b-44a3-95eb-bed35bf967dc",
   "metadata": {},
   "outputs": [
    {
     "data": {
      "text/plain": [
       "58"
      ]
     },
     "execution_count": 21,
     "metadata": {},
     "output_type": "execute_result"
    }
   ],
   "source": [
    "intersections = reporter.get_intersections()\n",
    "len(intersections)"
   ]
  },
  {
   "cell_type": "markdown",
   "id": "c04f9282-d0c1-4216-86d1-ee3ce154f882",
   "metadata": {},
   "source": [
    "Пятьдесят восемь пользователей попало в обе группы. Посчитаем какой процент от всех уникальных пользователей в данных составляет пересечение."
   ]
  },
  {
   "cell_type": "code",
   "execution_count": 25,
   "id": "810a51d2-a7ca-4603-84b0-b8dcf3c57709",
   "metadata": {},
   "outputs": [
    {
     "data": {
      "text/plain": [
       "5.625606207565471"
      ]
     },
     "execution_count": 25,
     "metadata": {},
     "output_type": "execute_result"
    }
   ],
   "source": [
    "len(intersections) / reporter.orders['visitorId'].nunique() * 100"
   ]
  },
  {
   "cell_type": "markdown",
   "id": "c73c6684-c883-4598-8492-15d130aba6ba",
   "metadata": {},
   "source": [
    "Пятьдесят восемь пользователей - 5.6% от общего числа уникальных пользователей попали в обе группы. Сохраним данные об этих пользователя в отдельную таблицу, выведем ее."
   ]
  },
  {
   "cell_type": "code",
   "execution_count": 27,
   "id": "911b1589-7729-411c-bffb-d94b73c7b47f",
   "metadata": {},
   "outputs": [
    {
     "data": {
      "text/html": [
       "<div>\n",
       "<style scoped>\n",
       "    .dataframe tbody tr th:only-of-type {\n",
       "        vertical-align: middle;\n",
       "    }\n",
       "\n",
       "    .dataframe tbody tr th {\n",
       "        vertical-align: top;\n",
       "    }\n",
       "\n",
       "    .dataframe thead th {\n",
       "        text-align: right;\n",
       "    }\n",
       "</style>\n",
       "<table border=\"1\" class=\"dataframe\">\n",
       "  <thead>\n",
       "    <tr style=\"text-align: right;\">\n",
       "      <th></th>\n",
       "      <th>transactionId</th>\n",
       "      <th>visitorId</th>\n",
       "      <th>date</th>\n",
       "      <th>revenue</th>\n",
       "      <th>group</th>\n",
       "    </tr>\n",
       "  </thead>\n",
       "  <tbody>\n",
       "    <tr>\n",
       "      <th>2</th>\n",
       "      <td>2961555356</td>\n",
       "      <td>4069496402</td>\n",
       "      <td>2019-08-15</td>\n",
       "      <td>400</td>\n",
       "      <td>A</td>\n",
       "    </tr>\n",
       "    <tr>\n",
       "      <th>20</th>\n",
       "      <td>2904772834</td>\n",
       "      <td>963407295</td>\n",
       "      <td>2019-08-15</td>\n",
       "      <td>300</td>\n",
       "      <td>B</td>\n",
       "    </tr>\n",
       "    <tr>\n",
       "      <th>23</th>\n",
       "      <td>4252514150</td>\n",
       "      <td>351125977</td>\n",
       "      <td>2019-08-15</td>\n",
       "      <td>15185</td>\n",
       "      <td>B</td>\n",
       "    </tr>\n",
       "    <tr>\n",
       "      <th>24</th>\n",
       "      <td>1162046357</td>\n",
       "      <td>3234906277</td>\n",
       "      <td>2019-08-15</td>\n",
       "      <td>7555</td>\n",
       "      <td>B</td>\n",
       "    </tr>\n",
       "    <tr>\n",
       "      <th>26</th>\n",
       "      <td>2223239646</td>\n",
       "      <td>199603092</td>\n",
       "      <td>2019-08-15</td>\n",
       "      <td>3488</td>\n",
       "      <td>A</td>\n",
       "    </tr>\n",
       "    <tr>\n",
       "      <th>...</th>\n",
       "      <td>...</td>\n",
       "      <td>...</td>\n",
       "      <td>...</td>\n",
       "      <td>...</td>\n",
       "      <td>...</td>\n",
       "    </tr>\n",
       "    <tr>\n",
       "      <th>1182</th>\n",
       "      <td>2682156369</td>\n",
       "      <td>1668030113</td>\n",
       "      <td>2019-08-14</td>\n",
       "      <td>1290</td>\n",
       "      <td>B</td>\n",
       "    </tr>\n",
       "    <tr>\n",
       "      <th>1183</th>\n",
       "      <td>1458356232</td>\n",
       "      <td>963407295</td>\n",
       "      <td>2019-08-14</td>\n",
       "      <td>4940</td>\n",
       "      <td>A</td>\n",
       "    </tr>\n",
       "    <tr>\n",
       "      <th>1184</th>\n",
       "      <td>1329499668</td>\n",
       "      <td>2949041841</td>\n",
       "      <td>2019-08-14</td>\n",
       "      <td>10380</td>\n",
       "      <td>B</td>\n",
       "    </tr>\n",
       "    <tr>\n",
       "      <th>1189</th>\n",
       "      <td>4082620617</td>\n",
       "      <td>393266494</td>\n",
       "      <td>2019-08-14</td>\n",
       "      <td>31550</td>\n",
       "      <td>B</td>\n",
       "    </tr>\n",
       "    <tr>\n",
       "      <th>1195</th>\n",
       "      <td>1947021204</td>\n",
       "      <td>1614305549</td>\n",
       "      <td>2019-08-14</td>\n",
       "      <td>100</td>\n",
       "      <td>A</td>\n",
       "    </tr>\n",
       "  </tbody>\n",
       "</table>\n",
       "<p>181 rows × 5 columns</p>\n",
       "</div>"
      ],
      "text/plain": [
       "      transactionId   visitorId       date  revenue group\n",
       "2        2961555356  4069496402 2019-08-15      400     A\n",
       "20       2904772834   963407295 2019-08-15      300     B\n",
       "23       4252514150   351125977 2019-08-15    15185     B\n",
       "24       1162046357  3234906277 2019-08-15     7555     B\n",
       "26       2223239646   199603092 2019-08-15     3488     A\n",
       "...             ...         ...        ...      ...   ...\n",
       "1182     2682156369  1668030113 2019-08-14     1290     B\n",
       "1183     1458356232   963407295 2019-08-14     4940     A\n",
       "1184     1329499668  2949041841 2019-08-14    10380     B\n",
       "1189     4082620617   393266494 2019-08-14    31550     B\n",
       "1195     1947021204  1614305549 2019-08-14      100     A\n",
       "\n",
       "[181 rows x 5 columns]"
      ]
     },
     "execution_count": 27,
     "metadata": {},
     "output_type": "execute_result"
    }
   ],
   "source": [
    "intersected_users = reporter.orders.query('visitorId in @intersections')\n",
    "intersected_users"
   ]
  },
  {
   "cell_type": "code",
   "execution_count": 32,
   "id": "6368fdc3-eeae-47ef-8061-96a7b1bf6567",
   "metadata": {},
   "outputs": [
    {
     "data": {
      "text/html": [
       "<div>\n",
       "<style scoped>\n",
       "    .dataframe tbody tr th:only-of-type {\n",
       "        vertical-align: middle;\n",
       "    }\n",
       "\n",
       "    .dataframe tbody tr th {\n",
       "        vertical-align: top;\n",
       "    }\n",
       "\n",
       "    .dataframe thead th {\n",
       "        text-align: right;\n",
       "    }\n",
       "</style>\n",
       "<table border=\"1\" class=\"dataframe\">\n",
       "  <thead>\n",
       "    <tr style=\"text-align: right;\">\n",
       "      <th></th>\n",
       "      <th>count</th>\n",
       "      <th>mean</th>\n",
       "      <th>std</th>\n",
       "      <th>min</th>\n",
       "      <th>25%</th>\n",
       "      <th>50%</th>\n",
       "      <th>75%</th>\n",
       "      <th>max</th>\n",
       "    </tr>\n",
       "  </thead>\n",
       "  <tbody>\n",
       "    <tr>\n",
       "      <th>revenue</th>\n",
       "      <td>181.0</td>\n",
       "      <td>8612.900552</td>\n",
       "      <td>14161.550845</td>\n",
       "      <td>50.0</td>\n",
       "      <td>1530.0</td>\n",
       "      <td>3460.0</td>\n",
       "      <td>8439.0</td>\n",
       "      <td>93940.0</td>\n",
       "    </tr>\n",
       "  </tbody>\n",
       "</table>\n",
       "</div>"
      ],
      "text/plain": [
       "         count         mean           std   min     25%     50%     75%  \\\n",
       "revenue  181.0  8612.900552  14161.550845  50.0  1530.0  3460.0  8439.0   \n",
       "\n",
       "             max  \n",
       "revenue  93940.0  "
      ]
     },
     "execution_count": 32,
     "metadata": {},
     "output_type": "execute_result"
    }
   ],
   "source": [
    "intersected_users[['revenue']].describe().T"
   ]
  },
  {
   "cell_type": "markdown",
   "id": "9120a08e-98ee-4c55-8d66-cf731928d850",
   "metadata": {},
   "source": [
    "В пересечениях 181 наблюдение из 1197 - 15%. Представляется, что это довольно много, чтобы обратить внимание на инструмент разделения пользователей при будущих тестах."
   ]
  },
  {
   "cell_type": "markdown",
   "id": "aedb11a2-5682-41f7-ba1e-60be0f5c0419",
   "metadata": {},
   "source": [
    "&#9889; **Выводы**\n",
    "\n",
    "1. В обе группы попали 5.6% (58) от уникальных пользователей (1031), 15% (181) от всех наблюдений о поведении пользователей (1197).\n",
    "2. Возможно, инструмент разделения пользователей дает систематическую ошибку при разделении, которая не была выявлена при А/А тестировании. Это повод перепроверить способ разделения перед следующим тестом.\n",
    "3. Поскольку 58 пользоватлей попали в обе группы - неизвестно, какая именно версия повлияла на их решения. Как следствие, данные об этих пользователях будут влиять на возможную интерпретацию тестов.\n",
    "4. Принимая во внимание число пользователей, попавших в обе группы, учитвая затруднительность в интерпретации поведения данных пользователей и достаточность данных для проведения анализа - принято решение исключить их из дальнейшего анализа.\n",
    "5. Как следствие, при расчете кумулятивных метрик, проведении статиститческих тестов, не будут участовавать 181 наблюдение (15%) о 58 (5.6%) уникальных пользователях."
   ]
  },
  {
   "cell_type": "markdown",
   "id": "ee6946ba-7d74-4aa9-8a5f-9d2e3f737ee6",
   "metadata": {},
   "source": [
    "[В оглавление](#TOC)"
   ]
  },
  {
   "cell_type": "markdown",
   "id": "d4605018-3aa2-40cb-8a16-b4b5add5309a",
   "metadata": {
    "tags": []
   },
   "source": [
    "## 2) Построим графики кумулятивных метрик<a class=\"anchor\" id=\"3_2\"></a>"
   ]
  },
  {
   "cell_type": "markdown",
   "id": "e3656674-176f-4259-9754-69a1dc116c1a",
   "metadata": {
    "tags": []
   },
   "source": [
    "### - исключим пользователей, попавших в обе группы и посчитаем кумулятивные метрики"
   ]
  },
  {
   "cell_type": "code",
   "execution_count": 15,
   "id": "66449835-d9f7-4bee-9172-959f0ae00102",
   "metadata": {},
   "outputs": [],
   "source": [
    "cumulated = reporter.grouped_summary(check_intersections=True)"
   ]
  },
  {
   "cell_type": "code",
   "execution_count": 16,
   "id": "677631a7-fc40-4e4e-ac1f-d492a27ea182",
   "metadata": {},
   "outputs": [
    {
     "data": {
      "text/html": [
       "<div>\n",
       "<style scoped>\n",
       "    .dataframe tbody tr th:only-of-type {\n",
       "        vertical-align: middle;\n",
       "    }\n",
       "\n",
       "    .dataframe tbody tr th {\n",
       "        vertical-align: top;\n",
       "    }\n",
       "\n",
       "    .dataframe thead th {\n",
       "        text-align: right;\n",
       "    }\n",
       "</style>\n",
       "<table border=\"1\" class=\"dataframe\">\n",
       "  <thead>\n",
       "    <tr style=\"text-align: right;\">\n",
       "      <th></th>\n",
       "      <th>date</th>\n",
       "      <th>group</th>\n",
       "      <th>orders</th>\n",
       "      <th>buyers</th>\n",
       "      <th>revenue</th>\n",
       "      <th>revenue_cm</th>\n",
       "      <th>orders_cm</th>\n",
       "      <th>buyers_cm</th>\n",
       "      <th>visitors</th>\n",
       "      <th>visitors_cm</th>\n",
       "      <th>conversion_cm</th>\n",
       "    </tr>\n",
       "  </thead>\n",
       "  <tbody>\n",
       "    <tr>\n",
       "      <th>0</th>\n",
       "      <td>2019-08-01</td>\n",
       "      <td>A</td>\n",
       "      <td>23</td>\n",
       "      <td>19</td>\n",
       "      <td>142779</td>\n",
       "      <td>142779</td>\n",
       "      <td>23</td>\n",
       "      <td>19</td>\n",
       "      <td>719</td>\n",
       "      <td>719</td>\n",
       "      <td>0.031989</td>\n",
       "    </tr>\n",
       "    <tr>\n",
       "      <th>1</th>\n",
       "      <td>2019-08-01</td>\n",
       "      <td>B</td>\n",
       "      <td>17</td>\n",
       "      <td>17</td>\n",
       "      <td>59758</td>\n",
       "      <td>59758</td>\n",
       "      <td>17</td>\n",
       "      <td>17</td>\n",
       "      <td>713</td>\n",
       "      <td>713</td>\n",
       "      <td>0.023843</td>\n",
       "    </tr>\n",
       "    <tr>\n",
       "      <th>2</th>\n",
       "      <td>2019-08-02</td>\n",
       "      <td>A</td>\n",
       "      <td>19</td>\n",
       "      <td>18</td>\n",
       "      <td>91602</td>\n",
       "      <td>234381</td>\n",
       "      <td>42</td>\n",
       "      <td>37</td>\n",
       "      <td>619</td>\n",
       "      <td>1338</td>\n",
       "      <td>0.031390</td>\n",
       "    </tr>\n",
       "    <tr>\n",
       "      <th>3</th>\n",
       "      <td>2019-08-02</td>\n",
       "      <td>B</td>\n",
       "      <td>23</td>\n",
       "      <td>22</td>\n",
       "      <td>162043</td>\n",
       "      <td>221801</td>\n",
       "      <td>40</td>\n",
       "      <td>39</td>\n",
       "      <td>581</td>\n",
       "      <td>1294</td>\n",
       "      <td>0.030912</td>\n",
       "    </tr>\n",
       "    <tr>\n",
       "      <th>4</th>\n",
       "      <td>2019-08-03</td>\n",
       "      <td>A</td>\n",
       "      <td>24</td>\n",
       "      <td>24</td>\n",
       "      <td>112473</td>\n",
       "      <td>346854</td>\n",
       "      <td>66</td>\n",
       "      <td>61</td>\n",
       "      <td>507</td>\n",
       "      <td>1845</td>\n",
       "      <td>0.035772</td>\n",
       "    </tr>\n",
       "    <tr>\n",
       "      <th>...</th>\n",
       "      <td>...</td>\n",
       "      <td>...</td>\n",
       "      <td>...</td>\n",
       "      <td>...</td>\n",
       "      <td>...</td>\n",
       "      <td>...</td>\n",
       "      <td>...</td>\n",
       "      <td>...</td>\n",
       "      <td>...</td>\n",
       "      <td>...</td>\n",
       "      <td>...</td>\n",
       "    </tr>\n",
       "    <tr>\n",
       "      <th>57</th>\n",
       "      <td>2019-08-29</td>\n",
       "      <td>B</td>\n",
       "      <td>15</td>\n",
       "      <td>15</td>\n",
       "      <td>106100</td>\n",
       "      <td>4746610</td>\n",
       "      <td>510</td>\n",
       "      <td>506</td>\n",
       "      <td>531</td>\n",
       "      <td>17708</td>\n",
       "      <td>0.028801</td>\n",
       "    </tr>\n",
       "    <tr>\n",
       "      <th>58</th>\n",
       "      <td>2019-08-30</td>\n",
       "      <td>A</td>\n",
       "      <td>9</td>\n",
       "      <td>8</td>\n",
       "      <td>78180</td>\n",
       "      <td>3311413</td>\n",
       "      <td>460</td>\n",
       "      <td>449</td>\n",
       "      <td>490</td>\n",
       "      <td>18037</td>\n",
       "      <td>0.025503</td>\n",
       "    </tr>\n",
       "    <tr>\n",
       "      <th>59</th>\n",
       "      <td>2019-08-30</td>\n",
       "      <td>B</td>\n",
       "      <td>21</td>\n",
       "      <td>21</td>\n",
       "      <td>209223</td>\n",
       "      <td>4955833</td>\n",
       "      <td>531</td>\n",
       "      <td>527</td>\n",
       "      <td>490</td>\n",
       "      <td>18198</td>\n",
       "      <td>0.029179</td>\n",
       "    </tr>\n",
       "    <tr>\n",
       "      <th>60</th>\n",
       "      <td>2019-08-31</td>\n",
       "      <td>A</td>\n",
       "      <td>8</td>\n",
       "      <td>8</td>\n",
       "      <td>53243</td>\n",
       "      <td>3364656</td>\n",
       "      <td>468</td>\n",
       "      <td>457</td>\n",
       "      <td>699</td>\n",
       "      <td>18736</td>\n",
       "      <td>0.024979</td>\n",
       "    </tr>\n",
       "    <tr>\n",
       "      <th>61</th>\n",
       "      <td>2019-08-31</td>\n",
       "      <td>B</td>\n",
       "      <td>17</td>\n",
       "      <td>17</td>\n",
       "      <td>113139</td>\n",
       "      <td>5068972</td>\n",
       "      <td>548</td>\n",
       "      <td>544</td>\n",
       "      <td>718</td>\n",
       "      <td>18916</td>\n",
       "      <td>0.028970</td>\n",
       "    </tr>\n",
       "  </tbody>\n",
       "</table>\n",
       "<p>62 rows × 11 columns</p>\n",
       "</div>"
      ],
      "text/plain": [
       "         date group  orders  buyers  revenue  revenue_cm  orders_cm  \\\n",
       "0  2019-08-01     A      23      19   142779      142779         23   \n",
       "1  2019-08-01     B      17      17    59758       59758         17   \n",
       "2  2019-08-02     A      19      18    91602      234381         42   \n",
       "3  2019-08-02     B      23      22   162043      221801         40   \n",
       "4  2019-08-03     A      24      24   112473      346854         66   \n",
       "..        ...   ...     ...     ...      ...         ...        ...   \n",
       "57 2019-08-29     B      15      15   106100     4746610        510   \n",
       "58 2019-08-30     A       9       8    78180     3311413        460   \n",
       "59 2019-08-30     B      21      21   209223     4955833        531   \n",
       "60 2019-08-31     A       8       8    53243     3364656        468   \n",
       "61 2019-08-31     B      17      17   113139     5068972        548   \n",
       "\n",
       "    buyers_cm  visitors  visitors_cm  conversion_cm  \n",
       "0          19       719          719       0.031989  \n",
       "1          17       713          713       0.023843  \n",
       "2          37       619         1338       0.031390  \n",
       "3          39       581         1294       0.030912  \n",
       "4          61       507         1845       0.035772  \n",
       "..        ...       ...          ...            ...  \n",
       "57        506       531        17708       0.028801  \n",
       "58        449       490        18037       0.025503  \n",
       "59        527       490        18198       0.029179  \n",
       "60        457       699        18736       0.024979  \n",
       "61        544       718        18916       0.028970  \n",
       "\n",
       "[62 rows x 11 columns]"
      ]
     },
     "execution_count": 16,
     "metadata": {},
     "output_type": "execute_result"
    }
   ],
   "source": [
    "cumulated"
   ]
  },
  {
   "cell_type": "markdown",
   "id": "b793576e-5014-41c5-9b1b-5c23eb9c647c",
   "metadata": {},
   "source": [
    "&#9889; **Выводы**\n",
    "\n",
    "Получили датасет с изначальными и кумулятивными метриками (столбцы c _cm) на каждую дату, по каждой группе."
   ]
  },
  {
   "cell_type": "markdown",
   "id": "6a8d4c79-a196-4377-8b8a-69397644316f",
   "metadata": {
    "tags": []
   },
   "source": [
    "### - построим графики"
   ]
  },
  {
   "cell_type": "code",
   "execution_count": 17,
   "id": "d0835541-01f1-4025-80bb-6c3cb75b90d6",
   "metadata": {},
   "outputs": [
    {
     "data": {
      "image/png": "[encoded data removed]",
      "text/plain": [
       "<Figure size 1800x720 with 5 Axes>"
      ]
     },
     "metadata": {
      "needs_background": "light"
     },
     "output_type": "display_data"
    }
   ],
   "source": [
    "reporter.plot_cumulative_metrics()"
   ]
  },
  {
   "cell_type": "markdown",
   "id": "a377a74e-952b-4e3e-b233-0469ca6b7ffa",
   "metadata": {},
   "source": [
    "&#9889; **Выводы**\n",
    "\n",
    "1. В середине третей недели кумулятивная выручка и средний чек группы В показал резкий рост, график относительного различия для среднего чека между группами также показывает значительные колебания: вероятно, на метрики оказывают влияние выбросы - крупные заказы.\n",
    "2. До середины первой недели конвертация обоих групп колебалась, при лучшей конвертации группы А. К концу первой недели теста конверсии групп стабилизировались, после чего конверсия группы В показала заметный рост и на протяжении теста превышала конверсию группы А.\n",
    "3. График  прироста конверсии группы В относительно группа А также демонстирирует лидерство группы В по конверсии: с конца с первой недели метрика растет, к началу второй недели взрывной рост прекратился и, несмотря на колебания, к концу теста стабилизировалась c приростом в районе 10% относительно группы А.\n"
   ]
  },
  {
   "cell_type": "markdown",
   "id": "73d33b1a-ab54-4482-a366-3b9af187b644",
   "metadata": {},
   "source": [
    "[В оглавление](#TOC)"
   ]
  },
  {
   "cell_type": "markdown",
   "id": "11420342-82f0-4581-83f7-7ccbeb3bdf70",
   "metadata": {},
   "source": [
    "## 3) Исследуем количество заказов на пользователя и стоимости заказов<a class=\"anchor\" id=\"3_3\"></a>"
   ]
  },
  {
   "cell_type": "markdown",
   "id": "41f15bc5-147c-4650-a2f9-2e280f01237f",
   "metadata": {
    "tags": []
   },
   "source": [
    "### - количество заказов на пользователя"
   ]
  },
  {
   "cell_type": "markdown",
   "id": "8f416c28-b140-45b4-a712-4d0f121acb2c",
   "metadata": {},
   "source": [
    "Сформируем таблицу для анализа, выведем результат"
   ]
  },
  {
   "cell_type": "code",
   "execution_count": null,
   "id": "9ca80def-d6a2-44f6-8298-91d33850b40f",
   "metadata": {},
   "outputs": [],
   "source": [
    "orders_by_users = reporter.orders.groupby('visitorId', as_index=False).agg({'transactionId': 'nunique'})\n",
    "orders_by_users.columns = ['visitor_id', 'orders']\n",
    "orders_by_users.sort_values(by='orders', ascending=False)"
   ]
  },
  {
   "cell_type": "markdown",
   "id": "de411993-a1fa-4b74-961b-04437958861e",
   "metadata": {},
   "source": [
    "Минимальное число заказов, ожидаемо, 1, максимальное количество заказов - 11. Посмтроим графики."
   ]
  },
  {
   "cell_type": "markdown",
   "id": "acfb6e42-8028-405e-8cf1-0eeb7f5c78de",
   "metadata": {
    "tags": []
   },
   "source": [
    "### - визуализируем количество заказов на пользователя"
   ]
  },
  {
   "cell_type": "code",
   "execution_count": null,
   "id": "b4c0a13f-e083-4dca-9279-92f83b7d9e8a",
   "metadata": {},
   "outputs": [],
   "source": [
    "reporter.plotter(orders_by_users, 'orders', 'Количество заказов')"
   ]
  },
  {
   "cell_type": "markdown",
   "id": "a0fc1c25-6536-4b9d-ba89-1c2ffabf393a",
   "metadata": {},
   "source": [
    "Принимая во внимание, как разнесены среднее и медиана на гистограмме - выбросы оказывают сильное влияние. Девяносто девять процентов пользоватлей заказало от 1 до 4 раз. Это же подтверждает и диаграмма рассеивания - несколько крупных точек доминируют над графиком - и диаграмма размаха - ящик вытянулся в линию. Визуально - выбросов не так много. Проверим числовые значения."
   ]
  },
  {
   "cell_type": "markdown",
   "id": "0d343b37-afd5-49d6-8282-af22ed5dcfe5",
   "metadata": {
    "tags": []
   },
   "source": [
    "### - получим базовую статистику о количестве заказов на пользователя"
   ]
  },
  {
   "cell_type": "code",
   "execution_count": null,
   "id": "b3d4cc5c-719f-460a-8cba-ffd0595b669a",
   "metadata": {},
   "outputs": [],
   "source": [
    "orders_by_users[['orders']].describe(percentiles=[.25, .5, .75, .95, .99]).T"
   ]
  },
  {
   "cell_type": "markdown",
   "id": "a1fb3180-e827-4ef0-abf2-6537f5792e61",
   "metadata": {},
   "source": [
    "Всего пять процентов пользователей заказывают более двух раз (95-й перцентиль), и всего более процента - более 4 (99-й перцентиль)."
   ]
  },
  {
   "cell_type": "markdown",
   "id": "42f3f9c0-ae10-4e29-84f3-62f547a5edfc",
   "metadata": {},
   "source": [
    "&#9889; **Выводы**\n",
    "\n",
    "1. В заказах есть выбросы, которые влияют на среднее.\n",
    "2. Минимальное число заказов -1 , максимальное число заказов - 11.\n",
    "3. Принимая во внимание имеющиеся данные - разумно выбрать 2 заказа на одного пользователя за верхню границу числа заказов."
   ]
  },
  {
   "cell_type": "markdown",
   "id": "58b10b4b-32a9-427d-bfd8-b97c66abd347",
   "metadata": {},
   "source": [
    "[В оглавление](#TOC)"
   ]
  },
  {
   "cell_type": "markdown",
   "id": "b04e1227-9e87-4e6f-8399-54d93caa73be",
   "metadata": {
    "tags": []
   },
   "source": [
    "### - визуализируем стоимости заказов"
   ]
  },
  {
   "cell_type": "code",
   "execution_count": null,
   "id": "91020076-48de-4204-90d7-7b5e6c8eb41b",
   "metadata": {},
   "outputs": [],
   "source": [
    "reporter.plotter(reporter.orders, 'revenue', 'Выручка')"
   ]
  },
  {
   "cell_type": "markdown",
   "id": "6c220926-8a0d-4d9a-9efd-9971c33f7d60",
   "metadata": {},
   "source": [
    "В данных о выручке есть сверхдорогой заказ, который хорошо виден на диаграмме рассеивания и диаграмме размаха. Выброс оказывает сильное влияние на среднее. В целом, визуально выбросов немного. Проверим числовые значения."
   ]
  },
  {
   "cell_type": "markdown",
   "id": "c154ad13-c212-42a5-9e56-6e796d51d7dd",
   "metadata": {
    "tags": []
   },
   "source": [
    "### - получим базовую статистику о стоиомости заказов"
   ]
  },
  {
   "cell_type": "code",
   "execution_count": null,
   "id": "d8aeff14-6fcf-4698-986a-a4913351a53d",
   "metadata": {},
   "outputs": [],
   "source": [
    "reporter.orders[['revenue']].describe(percentiles=[.25, .5, .75, .95, .99]).T"
   ]
  },
  {
   "cell_type": "markdown",
   "id": "0ae340d7-1a70-4f90-8514-1fb4fc153e7d",
   "metadata": {},
   "source": [
    "Почти все пользователи уложились в диапазон стоимости заказов от 50 до 58 233 рублей, со средним - 8 348 рублей. Девяносто пять процентов всех пользоватлей уложились в диапазон от 50 до 28 000 рублей (95-й перцентиль). Один процент заказал на сумму свыше 58 233 рублей (99-й перцентиль), кто-то заказал на 1 294 500 рублей. Избавимся от заказов дороже 28000 (95-й перцентиль) и снова построим графики."
   ]
  },
  {
   "cell_type": "code",
   "execution_count": null,
   "id": "05ef36e3-f91d-449b-a3dc-5a817409ac3e",
   "metadata": {},
   "outputs": [],
   "source": [
    "reporter.plotter(reporter.orders.query('revenue < 28001'), 'revenue', 'Выручка')"
   ]
  },
  {
   "cell_type": "markdown",
   "id": "478f7030-7050-4a57-a236-4a236a7171b3",
   "metadata": {},
   "source": [
    "Среднее и медиана все еще заметно разнесены, но диаграмма рассеивания и размаха показывают куда более равномерное распределение стоимости заказов. Учитывая, что данных не слишком много - дальнейшее сокращение выборки окажет негативное влияние на возможность сделать вывод."
   ]
  },
  {
   "cell_type": "markdown",
   "id": "198b0bf7-6cb6-459e-83ca-7d870ea8edec",
   "metadata": {},
   "source": [
    "&#9889; **Выводы**\n",
    "\n",
    "1. В выручке есть выбросы, которые влияют на среднее. Выбросов немного.\n",
    "2. Минимальная сумма заказа - 50 рублей , максимальная 1 294 500 рублей.\n",
    "3. Принимая во внимание имеющиеся данные - разумно выбрать 28 000 рублей (95-й перцентиль) за верхню границу стоимости заказа."
   ]
  },
  {
   "cell_type": "markdown",
   "id": "207ce235-14bf-4b24-9928-39627b5eee45",
   "metadata": {},
   "source": [
    "[В оглавление](#TOC)"
   ]
  },
  {
   "cell_type": "markdown",
   "id": "843fbdb1-df5b-4e84-84f1-2bf4d81dbeca",
   "metadata": {},
   "source": [
    "## 4) Проведем статистические тесты<a class=\"anchor\" id=\"3_4\"></a>"
   ]
  },
  {
   "cell_type": "markdown",
   "id": "ae37ebfe-6c90-48f8-b81c-897e571131b6",
   "metadata": {},
   "source": [
    "1. Тест будет проведен по полным и сокращенным данным (без выбросов).\n",
    "<br></br>    \n",
    "2. Перед проведением тестов из полных данных исключены выбросы:\n",
    "     - из выборок о заказах верхняя граница установлена на 95-ом перцентиле (2 заказа), \n",
    "     - из выборок о выручке верхняя граница установлена на 95-ом перцентиле (28 000 рублей).\n",
    "<br></br>        \n",
    "3. К полученным выборкам будет применен статистический критерий Манна-Уитни.\n",
    "<br></br>    \n",
    "4. Для полных и сокращенных данных конверсии проверим гипотезу \"Конверсии группы А и В одинаковые\":\n",
    "     - нулевую гипотезу, которую проверяет тест, сформулируем так: \"В конверсии между группами нет различий\",\n",
    "     - альтернативную гипотезу, соответственно, сформулируем так: \"В конверсии между группами есть различия\",\n",
    "     - примем уровень значимости в 5%.\n",
    "<br></br>     \n",
    "4. Для полных и сокращенных данных среднего чека проверим гипотезу \"Средние чеки группы А и В одинаковые\":\n",
    "     - нулевую гипотезу, которую проверяет тест, сформулируем так: \"Отличий в среднем чеке между группами нет\",\n",
    "     - альтернативную гипотезу, соответственно, сформулируем так: \"Отличия в среднем чеке между группами есть\",\n",
    "     - примем уровень значимости в 5%.     "
   ]
  },
  {
   "cell_type": "code",
   "execution_count": null,
   "id": "8472ad89-9f8f-4aa5-ba23-0ba6b787ebe4",
   "metadata": {},
   "outputs": [],
   "source": [
    "tests_result = MannWhitneyU(reporter.visitors, reporter.orders, cumulated).mannwhitneyu()\n",
    "(tests_result.style\n",
    "             .set_properties(**{'text-align': 'left'})\n",
    "             .set_table_styles([{'selector': 'th',\n",
    "                                 'props': [('text-align','left')]}])\n",
    "             .format({'alpha': \"{:.2f}\", 'p-value < alpha': bool}))"
   ]
  },
  {
   "cell_type": "markdown",
   "id": "acca7b65-0ee6-489d-be1b-0edec623a0c8",
   "metadata": {},
   "source": [
    "&#9889; **Выводы**\n",
    "\n",
    "\n",
    "1. В отношении различий конверсии между группами А и В (и по полным, и по очищенным от аномалий выборкам), исходя из представленных данных, на уровне значимости 5% - есть основания отвергнуть нулевую гипотезу в пользу альтернативы: конверсии групп В и А имеют статистически значимые различия.\n",
    "2. В отношении разности среднего чека между группами А и В (и по полным, и по очищенным от аномалий выборкам), исходя из представленных данных, на уровне значимости 5% - нет оснований отвергнуть нулевую гипотезу в пользу альтернативы: нет статистически значимого различия по среднему чеку между группами."
   ]
  },
  {
   "cell_type": "markdown",
   "id": "5cb51810-1a9a-4850-b051-3d01c221cea1",
   "metadata": {},
   "source": [
    "[В оглавление](#TOC)"
   ]
  },
  {
   "cell_type": "markdown",
   "id": "b4a731bc-3680-4398-9126-4fc884ad9fea",
   "metadata": {
    "tags": []
   },
   "source": [
    "## Выводы по итогам анализ А/В-теста<a class=\"anchor\" id=\"3_conclusion\"></a>"
   ]
  },
  {
   "cell_type": "markdown",
   "id": "39f9637f-651a-4de0-984d-38bbb38043a0",
   "metadata": {},
   "source": [
    "1. Есть статистически значимое различие по конверсии между группами как по полным, сырым, данным, так и после фильтрации аномалий.\n",
    "2. По полным, сырым, данным и после фильтрации аномалий нет статистически значимого различия по среднему чеку между группами. \n",
    "3. Из график различия конверсии между группами следует, что результаты группы B лучше группы A: имеют тенденцию к росту, либо зафиксировались около среднего значения. График различия среднего чека колеблется, сделать из этого графика определённые выводы нельзя.\n",
    "5. На основании представленных данных, рекомендовано остановить тест, признать его успешным и перейти к проверке следующей гипотезы."
   ]
  },
  {
   "cell_type": "markdown",
   "id": "cc73870a-2a17-4e63-9d6b-b342b65390fa",
   "metadata": {
    "tags": []
   },
   "source": [
    "# Чек-лист<a class='anchor' id='checklist'></a>"
   ]
  },
  {
   "cell_type": "markdown",
   "id": "cd90bd1a-ee05-400a-b590-b5d0aeeb0f75",
   "metadata": {},
   "source": [
    "Часть 1. Приоритизация гипотез.\n",
    "- [X] Примените фреймворк ICE для приоритизации гипотез. Отсортируйте их по убыванию приоритета.\n",
    "- [X] Примените фреймворк RICE для приоритизации гипотез. Отсортируйте их по убыванию приоритета.\n",
    "- [X] Укажите, как изменилась приоритизация гипотез при применении RICE вместо ICE. Объясните, почему так произошло.\n",
    "\n",
    "Часть 2. Анализ A/B-теста\n",
    "- [x] Постройте график кумулятивной выручки по группам.\n",
    "- [x] Постройте график кумулятивного среднего чека по группам.\n",
    "- [x] Постройте график относительного изменения кумулятивного среднего чека группы B к группе A.\n",
    "- [x] Постройте график кумулятивной конверсии по группам.\n",
    "- [x] Постройте график относительного изменения кумулятивной конверсии группы B к группе A.\n",
    "- [x] Сделайте выводы и предположения.\n",
    "<br></br>\n",
    "- [x] Постройте точечный график количества заказов по пользователям.\n",
    "- [x] Посчитайте 95-й и 99-й перцентили количества заказов на пользователя.\n",
    "- [x] Выберите границу для определения аномальных пользователей.\n",
    "- [x] Постройте точечный график стоимостей заказов.\n",
    "- [x] Посчитайте 95-й и 99-й перцентили стоимости заказов.\n",
    "- [x] Выберите границу для определения аномальных заказов.\n",
    "- [x] Сделайте выводы и предположения.\n",
    "<br></br>\n",
    "- [x] Посчитайте статистическую значимость различий в конверсии между группами по «сырым» данным.\n",
    "- [x] Посчитайте статистическую значимость различий в среднем чеке заказа между группами по «сырым» данным.\n",
    "- [x] Посчитайте статистическую значимость различий в конверсии между группами по «очищенным» данным.\n",
    "- [x] Посчитайте статистическую значимость различий в среднем чеке заказа между группами по «очищенным» данным.\n",
    "- [x] Сделайте выводы и предположения.\n",
    "<br></br>\n",
    "- [x] Примите решение по результатам теста и объясните его."
   ]
  },
  {
   "cell_type": "markdown",
   "id": "a986110c-d202-4a6b-aa37-b0f46f0675c0",
   "metadata": {},
   "source": [
    "[В оглавление](#TOC)"
   ]
  }
 ],
 "metadata": {
  "kernelspec": {
   "display_name": "venv",
   "language": "python",
   "name": "venv"
  },
  "language_info": {
   "codemirror_mode": {
    "name": "ipython",
    "version": 3
   },
   "file_extension": ".py",
   "mimetype": "text/x-python",
   "name": "python",
   "nbconvert_exporter": "python",
   "pygments_lexer": "ipython3",
   "version": "3.8.8"
  }
 },
 "nbformat": 4,
 "nbformat_minor": 5
}

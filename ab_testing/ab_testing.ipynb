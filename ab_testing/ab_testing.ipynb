{
 "cells": [
  {
   "cell_type": "markdown",
   "id": "ba61c5ea-5197-4248-a61b-0df81e199a46",
   "metadata": {},
   "source": [
    "# A/B тестирование\n",
    "***"
   ]
  },
  {
   "cell_type": "markdown",
   "id": "6e0aed89-c634-4512-b633-689c26e2ce2a",
   "metadata": {},
   "source": [
    "# Описание проекта"
   ]
  },
  {
   "cell_type": "markdown",
   "id": "59c10adf-adfc-4f15-a266-3ad45a672dfd",
   "metadata": {},
   "source": [
    "Аналитика для крупного интернет-магазина: вместе с отделом маркетинга подготовлен список гипотез для увеличения выручки.\n",
    "Требуется приоритизировать гипотезы, запуститть A/B-тест и проанализировать результаты."
   ]
  },
  {
   "cell_type": "markdown",
   "id": "a299f83b-0bae-469c-a5d0-abafd7c75147",
   "metadata": {},
   "source": [
    "#### Данные для приритезации гипотез\n",
    "\n",
    "- Hypothesis — краткое описание гипотезы;\n",
    "- Reach — охват пользователей по 10-балльной шкале;\n",
    "- Impact — влияние на пользователей по 10-балльной шкале;\n",
    "- Confidence — уверенность в гипотезе по 10-балльной шкале;\n",
    "- Efforts — затраты ресурсов на проверку гипотезы по 10-балльной шкале. Чем больше значение Efforts, тем дороже проверка гипотезы.\n",
    "\n",
    "#### Данные для анализа А/В теста\n",
    "\n",
    "Сведения о заказах\n",
    "-  transactionId — идентификатор заказа;\n",
    "-  visitorId — идентификатор пользователя, совершившего заказ;\n",
    "-  date — дата, когда был совершён заказ;\n",
    "-  revenue — выручка заказа;\n",
    "-  group — группа A/B-теста, в которую попал заказ.\n",
    "\n",
    "\n",
    "Сведения о посещениях\n",
    "-  date — дата;\n",
    "-  group — группа A/B-теста;\n",
    "-  visitors — количество пользователей в указанную дату в указанной группе A/B-теста"
   ]
  },
  {
   "cell_type": "markdown",
   "id": "633025fb-8d50-4734-944e-3d1ecf60bab0",
   "metadata": {},
   "source": [
    "# Оглавление<a class='anchor' id='TOC'></a>"
   ]
  },
  {
   "cell_type": "markdown",
   "id": "87315986-b116-45ce-a975-382b8d1f58d9",
   "metadata": {},
   "source": [
    "* **[I. Подготовка к анализу](#1)**\n",
    "    - [1) Импортируем библиотеки, объявим классы HypoPrioritize, ABReporter, MannWhitneyU для анализа](#1_1)\n",
    "    - [Вывод](#1_conclusion)\n",
    "<br></br>\n",
    "* **[II. Приоритизация гипотез](#2)**\n",
    "    - [1) Применим фреймворки ICE и RICE](#2_1)\n",
    "    - [2) Проверим гипотезы по методу ICE](#2_2)\n",
    "    - [2) Проверим гипотезы по методу RICE](#2_3)\n",
    "    - [Выводы по итогам приоритезации](#2_conclusion)\n",
    "<br></br> \n",
    "* **[III. Анализ A/B-теста](#3)**\n",
    "    - [1) Исследуем данные](#3_1)\n",
    "    - [2) Построим графики кумулятивных метрик](#3_2)\n",
    "    - [3) Исследуем количество заказов на пользователя и стоимости заказов](#3_3)\n",
    "    - [4) Проведем статистические тесты](#3_4)\n",
    "    - [Выводы по итогам анализ А/В-теста](#3_conclusion)\n",
    "<br></br>\n",
    "* **[Чек-лист](#checklist)**"
   ]
  },
  {
   "cell_type": "markdown",
   "id": "85f4b560-4b8d-4fed-8902-ddfe0296fd45",
   "metadata": {
    "tags": []
   },
   "source": [
    "# I. Подготовка к анализу<a class='anchor' id='1'></a>"
   ]
  },
  {
   "cell_type": "markdown",
   "id": "14ea28bf-250f-4dee-8966-1635f0485dad",
   "metadata": {},
   "source": [
    "## 1) Импортируем библиотеки, объявим классы HypoPrioritize, ABReporter, MannWhitneyU для анализа<a class=\"anchor\" id=\"1_1\"></a>"
   ]
  },
  {
   "cell_type": "code",
   "execution_count": 1,
   "id": "65205680-7bb2-49e4-801e-632d886a9793",
   "metadata": {},
   "outputs": [],
   "source": [
    "import pandas as pd\n",
    "\n",
    "from solver.hypo import HypoPrioritization\n",
    "from solver.ab_reporter import ABReporter\n",
    "from solver.stat_tests import MannWhitneyU"
   ]
  },
  {
   "cell_type": "markdown",
   "id": "eca05577-2da1-424e-a3d2-e66244885054",
   "metadata": {},
   "source": [
    "[В оглавление](#TOC)"
   ]
  },
  {
   "cell_type": "markdown",
   "id": "bb24fd94-5f72-46c9-b333-5c7db1443dd6",
   "metadata": {},
   "source": [
    "# II. Приоритизация гипотез<a class='anchor' id='2'></a>"
   ]
  },
  {
   "cell_type": "markdown",
   "id": "86b397fa-0f0f-44eb-b1ec-052c60c32bd3",
   "metadata": {},
   "source": [
    "## 1) Применим фреймворки ICE и RICE<a class=\"anchor\" id=\"2_1\"></a>"
   ]
  },
  {
   "cell_type": "code",
   "execution_count": 2,
   "id": "71ba454e-b829-4b81-8a5a-bb3f56069986",
   "metadata": {},
   "outputs": [],
   "source": [
    "prioritization = HypoPrioritization('datasets/hypothesis.csv')"
   ]
  },
  {
   "cell_type": "code",
   "execution_count": 3,
   "id": "ddc38b8b-9df2-4e32-b425-e335104caaf6",
   "metadata": {},
   "outputs": [
    {
     "data": {
      "text/html": [
       "<div>\n",
       "<style scoped>\n",
       "    .dataframe tbody tr th:only-of-type {\n",
       "        vertical-align: middle;\n",
       "    }\n",
       "\n",
       "    .dataframe tbody tr th {\n",
       "        vertical-align: top;\n",
       "    }\n",
       "\n",
       "    .dataframe thead th {\n",
       "        text-align: right;\n",
       "    }\n",
       "</style>\n",
       "<table border=\"1\" class=\"dataframe\">\n",
       "  <thead>\n",
       "    <tr style=\"text-align: right;\">\n",
       "      <th></th>\n",
       "      <th>Hypothesis</th>\n",
       "      <th>Reach</th>\n",
       "      <th>Impact</th>\n",
       "      <th>Confidence</th>\n",
       "      <th>Efforts</th>\n",
       "      <th>ICE</th>\n",
       "      <th>RICE</th>\n",
       "    </tr>\n",
       "  </thead>\n",
       "  <tbody>\n",
       "    <tr>\n",
       "      <th>0</th>\n",
       "      <td>Добавить два новых канала привлечения трафика,...</td>\n",
       "      <td>3</td>\n",
       "      <td>10</td>\n",
       "      <td>8</td>\n",
       "      <td>6</td>\n",
       "      <td>13.33</td>\n",
       "      <td>40.0</td>\n",
       "    </tr>\n",
       "    <tr>\n",
       "      <th>1</th>\n",
       "      <td>Запустить собственную службу доставки, что сок...</td>\n",
       "      <td>2</td>\n",
       "      <td>5</td>\n",
       "      <td>4</td>\n",
       "      <td>10</td>\n",
       "      <td>2.00</td>\n",
       "      <td>4.0</td>\n",
       "    </tr>\n",
       "    <tr>\n",
       "      <th>2</th>\n",
       "      <td>Добавить блоки рекомендаций товаров на сайт ин...</td>\n",
       "      <td>8</td>\n",
       "      <td>3</td>\n",
       "      <td>7</td>\n",
       "      <td>3</td>\n",
       "      <td>7.00</td>\n",
       "      <td>56.0</td>\n",
       "    </tr>\n",
       "    <tr>\n",
       "      <th>3</th>\n",
       "      <td>Изменить структура категорий, что увеличит кон...</td>\n",
       "      <td>8</td>\n",
       "      <td>3</td>\n",
       "      <td>3</td>\n",
       "      <td>8</td>\n",
       "      <td>1.12</td>\n",
       "      <td>9.0</td>\n",
       "    </tr>\n",
       "    <tr>\n",
       "      <th>4</th>\n",
       "      <td>Изменить цвет фона главной страницы, чтобы уве...</td>\n",
       "      <td>3</td>\n",
       "      <td>1</td>\n",
       "      <td>1</td>\n",
       "      <td>1</td>\n",
       "      <td>1.00</td>\n",
       "      <td>3.0</td>\n",
       "    </tr>\n",
       "    <tr>\n",
       "      <th>5</th>\n",
       "      <td>Добавить страницу отзывов клиентов о магазине,...</td>\n",
       "      <td>3</td>\n",
       "      <td>2</td>\n",
       "      <td>2</td>\n",
       "      <td>3</td>\n",
       "      <td>1.33</td>\n",
       "      <td>4.0</td>\n",
       "    </tr>\n",
       "    <tr>\n",
       "      <th>6</th>\n",
       "      <td>Показать на главной странице баннеры с актуаль...</td>\n",
       "      <td>5</td>\n",
       "      <td>3</td>\n",
       "      <td>8</td>\n",
       "      <td>3</td>\n",
       "      <td>8.00</td>\n",
       "      <td>40.0</td>\n",
       "    </tr>\n",
       "    <tr>\n",
       "      <th>7</th>\n",
       "      <td>Добавить форму подписки на все основные страни...</td>\n",
       "      <td>10</td>\n",
       "      <td>7</td>\n",
       "      <td>8</td>\n",
       "      <td>5</td>\n",
       "      <td>11.20</td>\n",
       "      <td>112.0</td>\n",
       "    </tr>\n",
       "    <tr>\n",
       "      <th>8</th>\n",
       "      <td>Запустить акцию, дающую скидку на товар в день...</td>\n",
       "      <td>1</td>\n",
       "      <td>9</td>\n",
       "      <td>9</td>\n",
       "      <td>5</td>\n",
       "      <td>16.20</td>\n",
       "      <td>16.2</td>\n",
       "    </tr>\n",
       "  </tbody>\n",
       "</table>\n",
       "</div>"
      ],
      "text/plain": [
       "                                          Hypothesis  Reach  Impact  \\\n",
       "0  Добавить два новых канала привлечения трафика,...      3      10   \n",
       "1  Запустить собственную службу доставки, что сок...      2       5   \n",
       "2  Добавить блоки рекомендаций товаров на сайт ин...      8       3   \n",
       "3  Изменить структура категорий, что увеличит кон...      8       3   \n",
       "4  Изменить цвет фона главной страницы, чтобы уве...      3       1   \n",
       "5  Добавить страницу отзывов клиентов о магазине,...      3       2   \n",
       "6  Показать на главной странице баннеры с актуаль...      5       3   \n",
       "7  Добавить форму подписки на все основные страни...     10       7   \n",
       "8  Запустить акцию, дающую скидку на товар в день...      1       9   \n",
       "\n",
       "   Confidence  Efforts    ICE   RICE  \n",
       "0           8        6  13.33   40.0  \n",
       "1           4       10   2.00    4.0  \n",
       "2           7        3   7.00   56.0  \n",
       "3           3        8   1.12    9.0  \n",
       "4           1        1   1.00    3.0  \n",
       "5           2        3   1.33    4.0  \n",
       "6           8        3   8.00   40.0  \n",
       "7           8        5  11.20  112.0  \n",
       "8           9        5  16.20   16.2  "
      ]
     },
     "execution_count": 3,
     "metadata": {},
     "output_type": "execute_result"
    }
   ],
   "source": [
    "scores = prioritization.get_priority()\n",
    "scores"
   ]
  },
  {
   "cell_type": "markdown",
   "id": "45866b5a-2515-4ff0-aa18-92593bec852b",
   "metadata": {},
   "source": [
    "&#9889; **Вывод:** девять гипотез, в отношении каждой посчитали приоритет по методам ICE и RICE."
   ]
  },
  {
   "cell_type": "markdown",
   "id": "f20496fb-d3a3-476e-9b23-bce875ce54c7",
   "metadata": {},
   "source": [
    "## 2) Проверим гипотезы по методу ICE<a class=\"anchor\" id=\"2_2\"></a>"
   ]
  },
  {
   "cell_type": "code",
   "execution_count": 4,
   "id": "1e136404-4ddb-4bcc-ad61-109d6671c16f",
   "metadata": {},
   "outputs": [
    {
     "data": {
      "text/html": [
       "<style type=\"text/css\">\n",
       "#T_bb55a_ th {\n",
       "  text-align: left;\n",
       "}\n",
       "#T_bb55a_row0_col0, #T_bb55a_row0_col1, #T_bb55a_row0_col2, #T_bb55a_row0_col3, #T_bb55a_row0_col4, #T_bb55a_row0_col6, #T_bb55a_row1_col0, #T_bb55a_row1_col1, #T_bb55a_row1_col2, #T_bb55a_row1_col3, #T_bb55a_row1_col4, #T_bb55a_row1_col6, #T_bb55a_row2_col0, #T_bb55a_row2_col1, #T_bb55a_row2_col2, #T_bb55a_row2_col3, #T_bb55a_row2_col4, #T_bb55a_row2_col6, #T_bb55a_row3_col0, #T_bb55a_row3_col1, #T_bb55a_row3_col2, #T_bb55a_row3_col3, #T_bb55a_row3_col4, #T_bb55a_row3_col6, #T_bb55a_row4_col0, #T_bb55a_row4_col1, #T_bb55a_row4_col2, #T_bb55a_row4_col3, #T_bb55a_row4_col4, #T_bb55a_row4_col6, #T_bb55a_row5_col0, #T_bb55a_row5_col1, #T_bb55a_row5_col2, #T_bb55a_row5_col3, #T_bb55a_row5_col4, #T_bb55a_row5_col6, #T_bb55a_row6_col0, #T_bb55a_row6_col1, #T_bb55a_row6_col2, #T_bb55a_row6_col3, #T_bb55a_row6_col4, #T_bb55a_row6_col6, #T_bb55a_row7_col0, #T_bb55a_row7_col1, #T_bb55a_row7_col2, #T_bb55a_row7_col3, #T_bb55a_row7_col4, #T_bb55a_row7_col6, #T_bb55a_row8_col0, #T_bb55a_row8_col1, #T_bb55a_row8_col2, #T_bb55a_row8_col3, #T_bb55a_row8_col4, #T_bb55a_row8_col6 {\n",
       "  text-align: left;\n",
       "}\n",
       "#T_bb55a_row0_col5 {\n",
       "  text-align: left;\n",
       "  background-color: #00441b;\n",
       "  color: #f1f1f1;\n",
       "}\n",
       "#T_bb55a_row1_col5 {\n",
       "  text-align: left;\n",
       "  background-color: #127c39;\n",
       "  color: #f1f1f1;\n",
       "}\n",
       "#T_bb55a_row2_col5 {\n",
       "  text-align: left;\n",
       "  background-color: #36a164;\n",
       "  color: #f1f1f1;\n",
       "}\n",
       "#T_bb55a_row3_col5 {\n",
       "  text-align: left;\n",
       "  background-color: #77c9b0;\n",
       "  color: #000000;\n",
       "}\n",
       "#T_bb55a_row4_col5 {\n",
       "  text-align: left;\n",
       "  background-color: #90d4c3;\n",
       "  color: #000000;\n",
       "}\n",
       "#T_bb55a_row5_col5 {\n",
       "  text-align: left;\n",
       "  background-color: #eef8fb;\n",
       "  color: #000000;\n",
       "}\n",
       "#T_bb55a_row6_col5 {\n",
       "  text-align: left;\n",
       "  background-color: #f4fbfc;\n",
       "  color: #000000;\n",
       "}\n",
       "#T_bb55a_row7_col5 {\n",
       "  text-align: left;\n",
       "  background-color: #f6fcfd;\n",
       "  color: #000000;\n",
       "}\n",
       "#T_bb55a_row8_col5 {\n",
       "  text-align: left;\n",
       "  background-color: #f7fcfd;\n",
       "  color: #000000;\n",
       "}\n",
       "</style>\n",
       "<table id=\"T_bb55a_\">\n",
       "  <thead>\n",
       "    <tr>\n",
       "      <th class=\"blank level0\" >&nbsp;</th>\n",
       "      <th class=\"col_heading level0 col0\" >Hypothesis</th>\n",
       "      <th class=\"col_heading level0 col1\" >Reach</th>\n",
       "      <th class=\"col_heading level0 col2\" >Impact</th>\n",
       "      <th class=\"col_heading level0 col3\" >Confidence</th>\n",
       "      <th class=\"col_heading level0 col4\" >Efforts</th>\n",
       "      <th class=\"col_heading level0 col5\" >ICE</th>\n",
       "      <th class=\"col_heading level0 col6\" >RICE</th>\n",
       "    </tr>\n",
       "  </thead>\n",
       "  <tbody>\n",
       "    <tr>\n",
       "      <th id=\"T_bb55a_level0_row0\" class=\"row_heading level0 row0\" >8</th>\n",
       "      <td id=\"T_bb55a_row0_col0\" class=\"data row0 col0\" >Запустить акцию, дающую скидку на товар в день рождения</td>\n",
       "      <td id=\"T_bb55a_row0_col1\" class=\"data row0 col1\" >1</td>\n",
       "      <td id=\"T_bb55a_row0_col2\" class=\"data row0 col2\" >9</td>\n",
       "      <td id=\"T_bb55a_row0_col3\" class=\"data row0 col3\" >9</td>\n",
       "      <td id=\"T_bb55a_row0_col4\" class=\"data row0 col4\" >5</td>\n",
       "      <td id=\"T_bb55a_row0_col5\" class=\"data row0 col5\" >16.20</td>\n",
       "      <td id=\"T_bb55a_row0_col6\" class=\"data row0 col6\" >16.20</td>\n",
       "    </tr>\n",
       "    <tr>\n",
       "      <th id=\"T_bb55a_level0_row1\" class=\"row_heading level0 row1\" >0</th>\n",
       "      <td id=\"T_bb55a_row1_col0\" class=\"data row1 col0\" >Добавить два новых канала привлечения трафика, что позволит привлекать на 30% больше пользователей</td>\n",
       "      <td id=\"T_bb55a_row1_col1\" class=\"data row1 col1\" >3</td>\n",
       "      <td id=\"T_bb55a_row1_col2\" class=\"data row1 col2\" >10</td>\n",
       "      <td id=\"T_bb55a_row1_col3\" class=\"data row1 col3\" >8</td>\n",
       "      <td id=\"T_bb55a_row1_col4\" class=\"data row1 col4\" >6</td>\n",
       "      <td id=\"T_bb55a_row1_col5\" class=\"data row1 col5\" >13.33</td>\n",
       "      <td id=\"T_bb55a_row1_col6\" class=\"data row1 col6\" >40.00</td>\n",
       "    </tr>\n",
       "    <tr>\n",
       "      <th id=\"T_bb55a_level0_row2\" class=\"row_heading level0 row2\" >7</th>\n",
       "      <td id=\"T_bb55a_row2_col0\" class=\"data row2 col0\" >Добавить форму подписки на все основные страницы, чтобы собрать базу клиентов для email-рассылок</td>\n",
       "      <td id=\"T_bb55a_row2_col1\" class=\"data row2 col1\" >10</td>\n",
       "      <td id=\"T_bb55a_row2_col2\" class=\"data row2 col2\" >7</td>\n",
       "      <td id=\"T_bb55a_row2_col3\" class=\"data row2 col3\" >8</td>\n",
       "      <td id=\"T_bb55a_row2_col4\" class=\"data row2 col4\" >5</td>\n",
       "      <td id=\"T_bb55a_row2_col5\" class=\"data row2 col5\" >11.20</td>\n",
       "      <td id=\"T_bb55a_row2_col6\" class=\"data row2 col6\" >112.00</td>\n",
       "    </tr>\n",
       "    <tr>\n",
       "      <th id=\"T_bb55a_level0_row3\" class=\"row_heading level0 row3\" >6</th>\n",
       "      <td id=\"T_bb55a_row3_col0\" class=\"data row3 col0\" >Показать на главной странице баннеры с актуальными акциями и распродажами, чтобы увеличить конверсию</td>\n",
       "      <td id=\"T_bb55a_row3_col1\" class=\"data row3 col1\" >5</td>\n",
       "      <td id=\"T_bb55a_row3_col2\" class=\"data row3 col2\" >3</td>\n",
       "      <td id=\"T_bb55a_row3_col3\" class=\"data row3 col3\" >8</td>\n",
       "      <td id=\"T_bb55a_row3_col4\" class=\"data row3 col4\" >3</td>\n",
       "      <td id=\"T_bb55a_row3_col5\" class=\"data row3 col5\" >8.00</td>\n",
       "      <td id=\"T_bb55a_row3_col6\" class=\"data row3 col6\" >40.00</td>\n",
       "    </tr>\n",
       "    <tr>\n",
       "      <th id=\"T_bb55a_level0_row4\" class=\"row_heading level0 row4\" >2</th>\n",
       "      <td id=\"T_bb55a_row4_col0\" class=\"data row4 col0\" >Добавить блоки рекомендаций товаров на сайт интернет магазина, чтобы повысить конверсию и средний чек заказа</td>\n",
       "      <td id=\"T_bb55a_row4_col1\" class=\"data row4 col1\" >8</td>\n",
       "      <td id=\"T_bb55a_row4_col2\" class=\"data row4 col2\" >3</td>\n",
       "      <td id=\"T_bb55a_row4_col3\" class=\"data row4 col3\" >7</td>\n",
       "      <td id=\"T_bb55a_row4_col4\" class=\"data row4 col4\" >3</td>\n",
       "      <td id=\"T_bb55a_row4_col5\" class=\"data row4 col5\" >7.00</td>\n",
       "      <td id=\"T_bb55a_row4_col6\" class=\"data row4 col6\" >56.00</td>\n",
       "    </tr>\n",
       "    <tr>\n",
       "      <th id=\"T_bb55a_level0_row5\" class=\"row_heading level0 row5\" >1</th>\n",
       "      <td id=\"T_bb55a_row5_col0\" class=\"data row5 col0\" >Запустить собственную службу доставки, что сократит срок доставки заказов</td>\n",
       "      <td id=\"T_bb55a_row5_col1\" class=\"data row5 col1\" >2</td>\n",
       "      <td id=\"T_bb55a_row5_col2\" class=\"data row5 col2\" >5</td>\n",
       "      <td id=\"T_bb55a_row5_col3\" class=\"data row5 col3\" >4</td>\n",
       "      <td id=\"T_bb55a_row5_col4\" class=\"data row5 col4\" >10</td>\n",
       "      <td id=\"T_bb55a_row5_col5\" class=\"data row5 col5\" >2.00</td>\n",
       "      <td id=\"T_bb55a_row5_col6\" class=\"data row5 col6\" >4.00</td>\n",
       "    </tr>\n",
       "    <tr>\n",
       "      <th id=\"T_bb55a_level0_row6\" class=\"row_heading level0 row6\" >5</th>\n",
       "      <td id=\"T_bb55a_row6_col0\" class=\"data row6 col0\" >Добавить страницу отзывов клиентов о магазине, что позволит увеличить количество заказов</td>\n",
       "      <td id=\"T_bb55a_row6_col1\" class=\"data row6 col1\" >3</td>\n",
       "      <td id=\"T_bb55a_row6_col2\" class=\"data row6 col2\" >2</td>\n",
       "      <td id=\"T_bb55a_row6_col3\" class=\"data row6 col3\" >2</td>\n",
       "      <td id=\"T_bb55a_row6_col4\" class=\"data row6 col4\" >3</td>\n",
       "      <td id=\"T_bb55a_row6_col5\" class=\"data row6 col5\" >1.33</td>\n",
       "      <td id=\"T_bb55a_row6_col6\" class=\"data row6 col6\" >4.00</td>\n",
       "    </tr>\n",
       "    <tr>\n",
       "      <th id=\"T_bb55a_level0_row7\" class=\"row_heading level0 row7\" >3</th>\n",
       "      <td id=\"T_bb55a_row7_col0\" class=\"data row7 col0\" >Изменить структура категорий, что увеличит конверсию, т.к. пользователи быстрее найдут нужный товар</td>\n",
       "      <td id=\"T_bb55a_row7_col1\" class=\"data row7 col1\" >8</td>\n",
       "      <td id=\"T_bb55a_row7_col2\" class=\"data row7 col2\" >3</td>\n",
       "      <td id=\"T_bb55a_row7_col3\" class=\"data row7 col3\" >3</td>\n",
       "      <td id=\"T_bb55a_row7_col4\" class=\"data row7 col4\" >8</td>\n",
       "      <td id=\"T_bb55a_row7_col5\" class=\"data row7 col5\" >1.12</td>\n",
       "      <td id=\"T_bb55a_row7_col6\" class=\"data row7 col6\" >9.00</td>\n",
       "    </tr>\n",
       "    <tr>\n",
       "      <th id=\"T_bb55a_level0_row8\" class=\"row_heading level0 row8\" >4</th>\n",
       "      <td id=\"T_bb55a_row8_col0\" class=\"data row8 col0\" >Изменить цвет фона главной страницы, чтобы увеличить вовлеченность пользователей</td>\n",
       "      <td id=\"T_bb55a_row8_col1\" class=\"data row8 col1\" >3</td>\n",
       "      <td id=\"T_bb55a_row8_col2\" class=\"data row8 col2\" >1</td>\n",
       "      <td id=\"T_bb55a_row8_col3\" class=\"data row8 col3\" >1</td>\n",
       "      <td id=\"T_bb55a_row8_col4\" class=\"data row8 col4\" >1</td>\n",
       "      <td id=\"T_bb55a_row8_col5\" class=\"data row8 col5\" >1.00</td>\n",
       "      <td id=\"T_bb55a_row8_col6\" class=\"data row8 col6\" >3.00</td>\n",
       "    </tr>\n",
       "  </tbody>\n",
       "</table>\n"
      ],
      "text/plain": [
       "<pandas.io.formats.style.Styler at 0x17a22428c08>"
      ]
     },
     "execution_count": 4,
     "metadata": {},
     "output_type": "execute_result"
    }
   ],
   "source": [
    "(scores.sort_values(by='ICE', ascending=False)\n",
    "       .style\n",
    "       .set_properties(**{'text-align': 'left'})\n",
    "       .set_table_styles([{'selector': 'th',\n",
    "                           'props': [('text-align','left')]}])\n",
    "       .background_gradient(cmap=\"BuGn\", subset=['ICE'])\n",
    "       .format({'ICE': \"{:.2f}\", 'RICE': \"{:.2f}\"}))"
   ]
  },
  {
   "cell_type": "markdown",
   "id": "2b9a68c7-e3ba-4d73-bfcb-b01a7d80b0bc",
   "metadata": {},
   "source": [
    "&#9889; **Выводы**\n",
    "\n",
    "По методу ICE наиболее перспективные гипотезы:\n",
    "- \"Запустить акцию, дающую скидку на товар в день рождения\" (№ 8, 16.20), \n",
    "- \"Добавить два новых канала привлечения трафика, что позволит привлекать на 30% больше пользователей\" (№ 0, 13.33)\n",
    "- \"Добавить форму подписки на все основные страницы, чтобы собрать базу клиентов для email-рассылок\" (№ 7, 11.20)"
   ]
  },
  {
   "cell_type": "markdown",
   "id": "b39c8efb-e02d-4028-830f-c8c91b636ddb",
   "metadata": {},
   "source": [
    "## 3) Проверим гипотезы по методу RICE<a class=\"anchor\" id=\"2_3\"></a>"
   ]
  },
  {
   "cell_type": "code",
   "execution_count": 5,
   "id": "d1235fd6-3d17-446f-8fe8-52c39f76f068",
   "metadata": {},
   "outputs": [
    {
     "data": {
      "text/html": [
       "<style type=\"text/css\">\n",
       "#T_feb65_ th {\n",
       "  text-align: left;\n",
       "}\n",
       "#T_feb65_row0_col0, #T_feb65_row0_col1, #T_feb65_row0_col2, #T_feb65_row0_col3, #T_feb65_row0_col4, #T_feb65_row0_col5, #T_feb65_row1_col0, #T_feb65_row1_col1, #T_feb65_row1_col2, #T_feb65_row1_col3, #T_feb65_row1_col4, #T_feb65_row1_col5, #T_feb65_row2_col0, #T_feb65_row2_col1, #T_feb65_row2_col2, #T_feb65_row2_col3, #T_feb65_row2_col4, #T_feb65_row2_col5, #T_feb65_row3_col0, #T_feb65_row3_col1, #T_feb65_row3_col2, #T_feb65_row3_col3, #T_feb65_row3_col4, #T_feb65_row3_col5, #T_feb65_row4_col0, #T_feb65_row4_col1, #T_feb65_row4_col2, #T_feb65_row4_col3, #T_feb65_row4_col4, #T_feb65_row4_col5, #T_feb65_row5_col0, #T_feb65_row5_col1, #T_feb65_row5_col2, #T_feb65_row5_col3, #T_feb65_row5_col4, #T_feb65_row5_col5, #T_feb65_row6_col0, #T_feb65_row6_col1, #T_feb65_row6_col2, #T_feb65_row6_col3, #T_feb65_row6_col4, #T_feb65_row6_col5, #T_feb65_row7_col0, #T_feb65_row7_col1, #T_feb65_row7_col2, #T_feb65_row7_col3, #T_feb65_row7_col4, #T_feb65_row7_col5, #T_feb65_row8_col0, #T_feb65_row8_col1, #T_feb65_row8_col2, #T_feb65_row8_col3, #T_feb65_row8_col4, #T_feb65_row8_col5 {\n",
       "  text-align: left;\n",
       "}\n",
       "#T_feb65_row0_col6 {\n",
       "  text-align: left;\n",
       "  background-color: #00441b;\n",
       "  color: #f1f1f1;\n",
       "}\n",
       "#T_feb65_row1_col6 {\n",
       "  text-align: left;\n",
       "  background-color: #6cc4a8;\n",
       "  color: #000000;\n",
       "}\n",
       "#T_feb65_row2_col6, #T_feb65_row3_col6 {\n",
       "  text-align: left;\n",
       "  background-color: #a8ded2;\n",
       "  color: #000000;\n",
       "}\n",
       "#T_feb65_row4_col6 {\n",
       "  text-align: left;\n",
       "  background-color: #e5f5f9;\n",
       "  color: #000000;\n",
       "}\n",
       "#T_feb65_row5_col6 {\n",
       "  text-align: left;\n",
       "  background-color: #eff9fb;\n",
       "  color: #000000;\n",
       "}\n",
       "#T_feb65_row6_col6, #T_feb65_row7_col6 {\n",
       "  text-align: left;\n",
       "  background-color: #f6fcfd;\n",
       "  color: #000000;\n",
       "}\n",
       "#T_feb65_row8_col6 {\n",
       "  text-align: left;\n",
       "  background-color: #f7fcfd;\n",
       "  color: #000000;\n",
       "}\n",
       "</style>\n",
       "<table id=\"T_feb65_\">\n",
       "  <thead>\n",
       "    <tr>\n",
       "      <th class=\"blank level0\" >&nbsp;</th>\n",
       "      <th class=\"col_heading level0 col0\" >Hypothesis</th>\n",
       "      <th class=\"col_heading level0 col1\" >Reach</th>\n",
       "      <th class=\"col_heading level0 col2\" >Impact</th>\n",
       "      <th class=\"col_heading level0 col3\" >Confidence</th>\n",
       "      <th class=\"col_heading level0 col4\" >Efforts</th>\n",
       "      <th class=\"col_heading level0 col5\" >ICE</th>\n",
       "      <th class=\"col_heading level0 col6\" >RICE</th>\n",
       "    </tr>\n",
       "  </thead>\n",
       "  <tbody>\n",
       "    <tr>\n",
       "      <th id=\"T_feb65_level0_row0\" class=\"row_heading level0 row0\" >7</th>\n",
       "      <td id=\"T_feb65_row0_col0\" class=\"data row0 col0\" >Добавить форму подписки на все основные страницы, чтобы собрать базу клиентов для email-рассылок</td>\n",
       "      <td id=\"T_feb65_row0_col1\" class=\"data row0 col1\" >10</td>\n",
       "      <td id=\"T_feb65_row0_col2\" class=\"data row0 col2\" >7</td>\n",
       "      <td id=\"T_feb65_row0_col3\" class=\"data row0 col3\" >8</td>\n",
       "      <td id=\"T_feb65_row0_col4\" class=\"data row0 col4\" >5</td>\n",
       "      <td id=\"T_feb65_row0_col5\" class=\"data row0 col5\" >11.20</td>\n",
       "      <td id=\"T_feb65_row0_col6\" class=\"data row0 col6\" >112.00</td>\n",
       "    </tr>\n",
       "    <tr>\n",
       "      <th id=\"T_feb65_level0_row1\" class=\"row_heading level0 row1\" >2</th>\n",
       "      <td id=\"T_feb65_row1_col0\" class=\"data row1 col0\" >Добавить блоки рекомендаций товаров на сайт интернет магазина, чтобы повысить конверсию и средний чек заказа</td>\n",
       "      <td id=\"T_feb65_row1_col1\" class=\"data row1 col1\" >8</td>\n",
       "      <td id=\"T_feb65_row1_col2\" class=\"data row1 col2\" >3</td>\n",
       "      <td id=\"T_feb65_row1_col3\" class=\"data row1 col3\" >7</td>\n",
       "      <td id=\"T_feb65_row1_col4\" class=\"data row1 col4\" >3</td>\n",
       "      <td id=\"T_feb65_row1_col5\" class=\"data row1 col5\" >7.00</td>\n",
       "      <td id=\"T_feb65_row1_col6\" class=\"data row1 col6\" >56.00</td>\n",
       "    </tr>\n",
       "    <tr>\n",
       "      <th id=\"T_feb65_level0_row2\" class=\"row_heading level0 row2\" >0</th>\n",
       "      <td id=\"T_feb65_row2_col0\" class=\"data row2 col0\" >Добавить два новых канала привлечения трафика, что позволит привлекать на 30% больше пользователей</td>\n",
       "      <td id=\"T_feb65_row2_col1\" class=\"data row2 col1\" >3</td>\n",
       "      <td id=\"T_feb65_row2_col2\" class=\"data row2 col2\" >10</td>\n",
       "      <td id=\"T_feb65_row2_col3\" class=\"data row2 col3\" >8</td>\n",
       "      <td id=\"T_feb65_row2_col4\" class=\"data row2 col4\" >6</td>\n",
       "      <td id=\"T_feb65_row2_col5\" class=\"data row2 col5\" >13.33</td>\n",
       "      <td id=\"T_feb65_row2_col6\" class=\"data row2 col6\" >40.00</td>\n",
       "    </tr>\n",
       "    <tr>\n",
       "      <th id=\"T_feb65_level0_row3\" class=\"row_heading level0 row3\" >6</th>\n",
       "      <td id=\"T_feb65_row3_col0\" class=\"data row3 col0\" >Показать на главной странице баннеры с актуальными акциями и распродажами, чтобы увеличить конверсию</td>\n",
       "      <td id=\"T_feb65_row3_col1\" class=\"data row3 col1\" >5</td>\n",
       "      <td id=\"T_feb65_row3_col2\" class=\"data row3 col2\" >3</td>\n",
       "      <td id=\"T_feb65_row3_col3\" class=\"data row3 col3\" >8</td>\n",
       "      <td id=\"T_feb65_row3_col4\" class=\"data row3 col4\" >3</td>\n",
       "      <td id=\"T_feb65_row3_col5\" class=\"data row3 col5\" >8.00</td>\n",
       "      <td id=\"T_feb65_row3_col6\" class=\"data row3 col6\" >40.00</td>\n",
       "    </tr>\n",
       "    <tr>\n",
       "      <th id=\"T_feb65_level0_row4\" class=\"row_heading level0 row4\" >8</th>\n",
       "      <td id=\"T_feb65_row4_col0\" class=\"data row4 col0\" >Запустить акцию, дающую скидку на товар в день рождения</td>\n",
       "      <td id=\"T_feb65_row4_col1\" class=\"data row4 col1\" >1</td>\n",
       "      <td id=\"T_feb65_row4_col2\" class=\"data row4 col2\" >9</td>\n",
       "      <td id=\"T_feb65_row4_col3\" class=\"data row4 col3\" >9</td>\n",
       "      <td id=\"T_feb65_row4_col4\" class=\"data row4 col4\" >5</td>\n",
       "      <td id=\"T_feb65_row4_col5\" class=\"data row4 col5\" >16.20</td>\n",
       "      <td id=\"T_feb65_row4_col6\" class=\"data row4 col6\" >16.20</td>\n",
       "    </tr>\n",
       "    <tr>\n",
       "      <th id=\"T_feb65_level0_row5\" class=\"row_heading level0 row5\" >3</th>\n",
       "      <td id=\"T_feb65_row5_col0\" class=\"data row5 col0\" >Изменить структура категорий, что увеличит конверсию, т.к. пользователи быстрее найдут нужный товар</td>\n",
       "      <td id=\"T_feb65_row5_col1\" class=\"data row5 col1\" >8</td>\n",
       "      <td id=\"T_feb65_row5_col2\" class=\"data row5 col2\" >3</td>\n",
       "      <td id=\"T_feb65_row5_col3\" class=\"data row5 col3\" >3</td>\n",
       "      <td id=\"T_feb65_row5_col4\" class=\"data row5 col4\" >8</td>\n",
       "      <td id=\"T_feb65_row5_col5\" class=\"data row5 col5\" >1.12</td>\n",
       "      <td id=\"T_feb65_row5_col6\" class=\"data row5 col6\" >9.00</td>\n",
       "    </tr>\n",
       "    <tr>\n",
       "      <th id=\"T_feb65_level0_row6\" class=\"row_heading level0 row6\" >1</th>\n",
       "      <td id=\"T_feb65_row6_col0\" class=\"data row6 col0\" >Запустить собственную службу доставки, что сократит срок доставки заказов</td>\n",
       "      <td id=\"T_feb65_row6_col1\" class=\"data row6 col1\" >2</td>\n",
       "      <td id=\"T_feb65_row6_col2\" class=\"data row6 col2\" >5</td>\n",
       "      <td id=\"T_feb65_row6_col3\" class=\"data row6 col3\" >4</td>\n",
       "      <td id=\"T_feb65_row6_col4\" class=\"data row6 col4\" >10</td>\n",
       "      <td id=\"T_feb65_row6_col5\" class=\"data row6 col5\" >2.00</td>\n",
       "      <td id=\"T_feb65_row6_col6\" class=\"data row6 col6\" >4.00</td>\n",
       "    </tr>\n",
       "    <tr>\n",
       "      <th id=\"T_feb65_level0_row7\" class=\"row_heading level0 row7\" >5</th>\n",
       "      <td id=\"T_feb65_row7_col0\" class=\"data row7 col0\" >Добавить страницу отзывов клиентов о магазине, что позволит увеличить количество заказов</td>\n",
       "      <td id=\"T_feb65_row7_col1\" class=\"data row7 col1\" >3</td>\n",
       "      <td id=\"T_feb65_row7_col2\" class=\"data row7 col2\" >2</td>\n",
       "      <td id=\"T_feb65_row7_col3\" class=\"data row7 col3\" >2</td>\n",
       "      <td id=\"T_feb65_row7_col4\" class=\"data row7 col4\" >3</td>\n",
       "      <td id=\"T_feb65_row7_col5\" class=\"data row7 col5\" >1.33</td>\n",
       "      <td id=\"T_feb65_row7_col6\" class=\"data row7 col6\" >4.00</td>\n",
       "    </tr>\n",
       "    <tr>\n",
       "      <th id=\"T_feb65_level0_row8\" class=\"row_heading level0 row8\" >4</th>\n",
       "      <td id=\"T_feb65_row8_col0\" class=\"data row8 col0\" >Изменить цвет фона главной страницы, чтобы увеличить вовлеченность пользователей</td>\n",
       "      <td id=\"T_feb65_row8_col1\" class=\"data row8 col1\" >3</td>\n",
       "      <td id=\"T_feb65_row8_col2\" class=\"data row8 col2\" >1</td>\n",
       "      <td id=\"T_feb65_row8_col3\" class=\"data row8 col3\" >1</td>\n",
       "      <td id=\"T_feb65_row8_col4\" class=\"data row8 col4\" >1</td>\n",
       "      <td id=\"T_feb65_row8_col5\" class=\"data row8 col5\" >1.00</td>\n",
       "      <td id=\"T_feb65_row8_col6\" class=\"data row8 col6\" >3.00</td>\n",
       "    </tr>\n",
       "  </tbody>\n",
       "</table>\n"
      ],
      "text/plain": [
       "<pandas.io.formats.style.Styler at 0x17a225f6408>"
      ]
     },
     "execution_count": 5,
     "metadata": {},
     "output_type": "execute_result"
    }
   ],
   "source": [
    "(scores.sort_values(by='RICE', ascending=False)\n",
    "       .style\n",
    "       .set_properties(**{'text-align': 'left'})\n",
    "       .set_table_styles([{'selector': 'th',\n",
    "                           'props': [('text-align','left')]}])\n",
    "       .background_gradient(cmap=\"BuGn\", subset=['RICE'])\n",
    "       .format({'ICE': \"{:.2f}\", 'RICE': \"{:.2f}\"}))"
   ]
  },
  {
   "cell_type": "markdown",
   "id": "8e470bf0-5011-4363-970a-058ca0698c20",
   "metadata": {},
   "source": [
    "&#9889; **Выводы**\n",
    "\n",
    "По методу RICE наиболее перспективные гипотезы:\n",
    "- \"Добавить форму подписки на все основные страницы, чтобы собрать базу клиентов для email-рассылок\" (№ 7, 112.00), \n",
    "- \"Добавить блоки рекомендаций товаров на сайт интернет магазина, чтобы повысить конверсию и средний чек заказа\" (№ 2, 56.00)\n",
    "- \"Добавить два новых канала привлечения трафика, что позволит привлекать на 30% больше пользователей\" (№ 0, 40.00)\n",
    "- \"Показать на главной странице баннеры с актуальными акциями и распродажами, чтобы увеличить конверсию\" (№ 6, 40.00)"
   ]
  },
  {
   "cell_type": "markdown",
   "id": "babac753-428a-41eb-8693-d312b821b1ac",
   "metadata": {
    "tags": []
   },
   "source": [
    "## Выводы по итогам приоритезации<a class=\"anchor\" id=\"2_conclusion\"></a>"
   ]
  },
  {
   "cell_type": "markdown",
   "id": "3025f973-0a4b-410a-9313-27ee9cb4061a",
   "metadata": {},
   "source": [
    "1. Охват пользователей (Reach) повлиял на приоритизацию гипотез при применении RICE вместо ICE:\n",
    "    - две (№ 7, 0) из трех самых прироритетных гипотез по методу ICE вошли в тройку после пересчета по методу RICE - гипотеза о добавлении формы подпсики и добавлении двух каналов; гипотеза о запуске акции, дающей скидку на день рождения переместилась с вершины списка в середину (одинаковое число баллов по RICE и ICE - 16.20),\n",
    "    - гипотеза № 7 - \"Добавить форму подписки на все основные страницы, чтобы собрать базу клиентов для email-рассылок\"  - получила наибольшую оценку по методу RICE- 112 баллов (ICE - 11.20),\n",
    "    - гипотеза № 2 - \"Добавить блоки рекомендаций товаров на сайт интернет магазина, чтобы повысить конверсию и средний чек заказа\" получила вдвое меньше баллов по методу RICE, чем гипотеза о форме подписок (56 против 112).\n",
    "2. Неизвестно как именно сформирована шкала охвата пользователей, поэтому, исходя из представленных данных, до уточнения информации о шкале охвата, с осторожностью можно утверждать, что гипотеза № 7 о добавлении формы подиски является приоритетной, поскольку получила и максимальную оценку по RICE (112), и достаточно высокую по ICE (11.20 из 16.20 - вошла в тройку, на 3.2 балла выше следующей)."
   ]
  },
  {
   "cell_type": "markdown",
   "id": "a45a9e9f-bc60-4375-a0fc-b59658c75960",
   "metadata": {
    "tags": []
   },
   "source": [
    "[В оглавление](#TOC)"
   ]
  },
  {
   "cell_type": "markdown",
   "id": "7e55c6c0-d504-4932-a3fe-2dc7945ae384",
   "metadata": {
    "tags": []
   },
   "source": [
    "# III. Анализ A/B-теста<a class='anchor' id='3'></a>"
   ]
  },
  {
   "cell_type": "markdown",
   "id": "212a1ee4-f7b3-49c3-ad78-b6fe9fcf824f",
   "metadata": {},
   "source": [
    "## 1) Исследуем данные<a class=\"anchor\" id=\"3_1\"></a>"
   ]
  },
  {
   "cell_type": "markdown",
   "id": "ea61a03e-7150-40df-b0be-07698e835134",
   "metadata": {
    "tags": []
   },
   "source": [
    "### - инициализируем класс для анализа"
   ]
  },
  {
   "cell_type": "code",
   "execution_count": 6,
   "id": "97cbff0a-d61b-4bcf-87a3-1cfa10fe67e5",
   "metadata": {},
   "outputs": [],
   "source": [
    "reporter = ABReporter('datasets/visitors.csv', 'datasets/orders.csv')"
   ]
  },
  {
   "cell_type": "markdown",
   "id": "94f101e5-0586-49c6-8fa5-a86950cf9877",
   "metadata": {},
   "source": [
    "### - выведем первые пять первых и последних строк таблицы с посетителями, общую информацию, статиcтику"
   ]
  },
  {
   "cell_type": "code",
   "execution_count": 7,
   "id": "ba81477e-4ce9-4d0a-9427-9a6527fac98a",
   "metadata": {},
   "outputs": [
    {
     "name": "stdout",
     "output_type": "stream",
     "text": [
      "<class 'pandas.core.frame.DataFrame'>\n",
      "RangeIndex: 62 entries, 0 to 61\n",
      "Data columns (total 3 columns):\n",
      " #   Column    Non-Null Count  Dtype         \n",
      "---  ------    --------------  -----         \n",
      " 0   date      62 non-null     datetime64[ns]\n",
      " 1   group     62 non-null     object        \n",
      " 2   visitors  62 non-null     int64         \n",
      "dtypes: datetime64[ns](1), int64(1), object(1)\n",
      "memory usage: 1.6+ KB\n"
     ]
    },
    {
     "data": {
      "text/html": [
       "<div>\n",
       "<style scoped>\n",
       "    .dataframe tbody tr th:only-of-type {\n",
       "        vertical-align: middle;\n",
       "    }\n",
       "\n",
       "    .dataframe tbody tr th {\n",
       "        vertical-align: top;\n",
       "    }\n",
       "\n",
       "    .dataframe thead th {\n",
       "        text-align: right;\n",
       "    }\n",
       "</style>\n",
       "<table border=\"1\" class=\"dataframe\">\n",
       "  <thead>\n",
       "    <tr style=\"text-align: right;\">\n",
       "      <th></th>\n",
       "      <th>date</th>\n",
       "      <th>group</th>\n",
       "      <th>visitors</th>\n",
       "    </tr>\n",
       "  </thead>\n",
       "  <tbody>\n",
       "    <tr>\n",
       "      <th>0</th>\n",
       "      <td>2019-08-01</td>\n",
       "      <td>A</td>\n",
       "      <td>719</td>\n",
       "    </tr>\n",
       "    <tr>\n",
       "      <th>1</th>\n",
       "      <td>2019-08-02</td>\n",
       "      <td>A</td>\n",
       "      <td>619</td>\n",
       "    </tr>\n",
       "    <tr>\n",
       "      <th>2</th>\n",
       "      <td>2019-08-03</td>\n",
       "      <td>A</td>\n",
       "      <td>507</td>\n",
       "    </tr>\n",
       "    <tr>\n",
       "      <th>3</th>\n",
       "      <td>2019-08-04</td>\n",
       "      <td>A</td>\n",
       "      <td>717</td>\n",
       "    </tr>\n",
       "    <tr>\n",
       "      <th>4</th>\n",
       "      <td>2019-08-05</td>\n",
       "      <td>A</td>\n",
       "      <td>756</td>\n",
       "    </tr>\n",
       "    <tr>\n",
       "      <th>...</th>\n",
       "      <td>...</td>\n",
       "      <td>...</td>\n",
       "      <td>...</td>\n",
       "    </tr>\n",
       "    <tr>\n",
       "      <th>57</th>\n",
       "      <td>2019-08-27</td>\n",
       "      <td>B</td>\n",
       "      <td>720</td>\n",
       "    </tr>\n",
       "    <tr>\n",
       "      <th>58</th>\n",
       "      <td>2019-08-28</td>\n",
       "      <td>B</td>\n",
       "      <td>654</td>\n",
       "    </tr>\n",
       "    <tr>\n",
       "      <th>59</th>\n",
       "      <td>2019-08-29</td>\n",
       "      <td>B</td>\n",
       "      <td>531</td>\n",
       "    </tr>\n",
       "    <tr>\n",
       "      <th>60</th>\n",
       "      <td>2019-08-30</td>\n",
       "      <td>B</td>\n",
       "      <td>490</td>\n",
       "    </tr>\n",
       "    <tr>\n",
       "      <th>61</th>\n",
       "      <td>2019-08-31</td>\n",
       "      <td>B</td>\n",
       "      <td>718</td>\n",
       "    </tr>\n",
       "  </tbody>\n",
       "</table>\n",
       "<p>62 rows × 3 columns</p>\n",
       "</div>"
      ],
      "text/plain": [
       "         date group  visitors\n",
       "0  2019-08-01     A       719\n",
       "1  2019-08-02     A       619\n",
       "2  2019-08-03     A       507\n",
       "3  2019-08-04     A       717\n",
       "4  2019-08-05     A       756\n",
       "..        ...   ...       ...\n",
       "57 2019-08-27     B       720\n",
       "58 2019-08-28     B       654\n",
       "59 2019-08-29     B       531\n",
       "60 2019-08-30     B       490\n",
       "61 2019-08-31     B       718\n",
       "\n",
       "[62 rows x 3 columns]"
      ]
     },
     "metadata": {},
     "output_type": "display_data"
    },
    {
     "data": {
      "text/plain": [
       "None"
      ]
     },
     "metadata": {},
     "output_type": "display_data"
    },
    {
     "data": {
      "text/html": [
       "<div>\n",
       "<style scoped>\n",
       "    .dataframe tbody tr th:only-of-type {\n",
       "        vertical-align: middle;\n",
       "    }\n",
       "\n",
       "    .dataframe tbody tr th {\n",
       "        vertical-align: top;\n",
       "    }\n",
       "\n",
       "    .dataframe thead th {\n",
       "        text-align: right;\n",
       "    }\n",
       "</style>\n",
       "<table border=\"1\" class=\"dataframe\">\n",
       "  <thead>\n",
       "    <tr style=\"text-align: right;\">\n",
       "      <th></th>\n",
       "      <th>count</th>\n",
       "      <th>mean</th>\n",
       "      <th>std</th>\n",
       "      <th>min</th>\n",
       "      <th>25%</th>\n",
       "      <th>50%</th>\n",
       "      <th>75%</th>\n",
       "      <th>max</th>\n",
       "    </tr>\n",
       "  </thead>\n",
       "  <tbody>\n",
       "    <tr>\n",
       "      <th>visitors</th>\n",
       "      <td>62.0</td>\n",
       "      <td>607.290323</td>\n",
       "      <td>114.40056</td>\n",
       "      <td>361.0</td>\n",
       "      <td>534.0</td>\n",
       "      <td>624.5</td>\n",
       "      <td>710.5</td>\n",
       "      <td>770.0</td>\n",
       "    </tr>\n",
       "  </tbody>\n",
       "</table>\n",
       "</div>"
      ],
      "text/plain": [
       "          count        mean        std    min    25%    50%    75%    max\n",
       "visitors   62.0  607.290323  114.40056  361.0  534.0  624.5  710.5  770.0"
      ]
     },
     "metadata": {},
     "output_type": "display_data"
    }
   ],
   "source": [
    "display(reporter.visitors, reporter.visitors.info(), reporter.visitors.describe().T)"
   ]
  },
  {
   "cell_type": "markdown",
   "id": "858a5dd3-ab9d-459d-88a7-2fdce7c23d76",
   "metadata": {
    "tags": []
   },
   "source": [
    "### - посчитаем полные дубликаты в данных о посещениях"
   ]
  },
  {
   "cell_type": "code",
   "execution_count": 8,
   "id": "250e3800-2e4a-408d-90eb-6eabae471345",
   "metadata": {},
   "outputs": [
    {
     "data": {
      "text/plain": [
       "0"
      ]
     },
     "execution_count": 8,
     "metadata": {},
     "output_type": "execute_result"
    }
   ],
   "source": [
    "(reporter.visitors.duplicated() == True).sum()"
   ]
  },
  {
   "cell_type": "markdown",
   "id": "2158fe5b-c07a-4023-b02f-b2d898c7dbc0",
   "metadata": {},
   "source": [
    "&#9889; **Выводы**\n",
    "\n",
    "1. В датасете с информацией о посещениях шестьдесят два наблюдения, без пропусков, без проблем с типами данных.\n",
    "2. Минимальное число посетителей - 361, максимальное - 770. Среднее число посетителей - 607, при медианном значении в 625 посетителей, минимальное число оказало давление на среднее: были провалы в посещении.\n",
    "3. Полных дубликатов нет."
   ]
  },
  {
   "cell_type": "markdown",
   "id": "70acef7e-1a3f-4f62-9d82-cb0444552754",
   "metadata": {},
   "source": [
    "### - выведем первые пять первых и последних строк таблицы с заказами, общую информацию, статиcтику"
   ]
  },
  {
   "cell_type": "code",
   "execution_count": 9,
   "id": "f73e864c-55c2-4269-a9ea-eacd273f9668",
   "metadata": {},
   "outputs": [
    {
     "name": "stdout",
     "output_type": "stream",
     "text": [
      "<class 'pandas.core.frame.DataFrame'>\n",
      "RangeIndex: 1197 entries, 0 to 1196\n",
      "Data columns (total 5 columns):\n",
      " #   Column         Non-Null Count  Dtype         \n",
      "---  ------         --------------  -----         \n",
      " 0   transactionId  1197 non-null   int64         \n",
      " 1   visitorId      1197 non-null   int64         \n",
      " 2   date           1197 non-null   datetime64[ns]\n",
      " 3   revenue        1197 non-null   int64         \n",
      " 4   group          1197 non-null   object        \n",
      "dtypes: datetime64[ns](1), int64(3), object(1)\n",
      "memory usage: 46.9+ KB\n"
     ]
    },
    {
     "data": {
      "text/html": [
       "<div>\n",
       "<style scoped>\n",
       "    .dataframe tbody tr th:only-of-type {\n",
       "        vertical-align: middle;\n",
       "    }\n",
       "\n",
       "    .dataframe tbody tr th {\n",
       "        vertical-align: top;\n",
       "    }\n",
       "\n",
       "    .dataframe thead th {\n",
       "        text-align: right;\n",
       "    }\n",
       "</style>\n",
       "<table border=\"1\" class=\"dataframe\">\n",
       "  <thead>\n",
       "    <tr style=\"text-align: right;\">\n",
       "      <th></th>\n",
       "      <th>transactionId</th>\n",
       "      <th>visitorId</th>\n",
       "      <th>date</th>\n",
       "      <th>revenue</th>\n",
       "      <th>group</th>\n",
       "    </tr>\n",
       "  </thead>\n",
       "  <tbody>\n",
       "    <tr>\n",
       "      <th>0</th>\n",
       "      <td>3667963787</td>\n",
       "      <td>3312258926</td>\n",
       "      <td>2019-08-15</td>\n",
       "      <td>1650</td>\n",
       "      <td>B</td>\n",
       "    </tr>\n",
       "    <tr>\n",
       "      <th>1</th>\n",
       "      <td>2804400009</td>\n",
       "      <td>3642806036</td>\n",
       "      <td>2019-08-15</td>\n",
       "      <td>730</td>\n",
       "      <td>B</td>\n",
       "    </tr>\n",
       "    <tr>\n",
       "      <th>2</th>\n",
       "      <td>2961555356</td>\n",
       "      <td>4069496402</td>\n",
       "      <td>2019-08-15</td>\n",
       "      <td>400</td>\n",
       "      <td>A</td>\n",
       "    </tr>\n",
       "    <tr>\n",
       "      <th>3</th>\n",
       "      <td>3797467345</td>\n",
       "      <td>1196621759</td>\n",
       "      <td>2019-08-15</td>\n",
       "      <td>9759</td>\n",
       "      <td>B</td>\n",
       "    </tr>\n",
       "    <tr>\n",
       "      <th>4</th>\n",
       "      <td>2282983706</td>\n",
       "      <td>2322279887</td>\n",
       "      <td>2019-08-15</td>\n",
       "      <td>2308</td>\n",
       "      <td>B</td>\n",
       "    </tr>\n",
       "    <tr>\n",
       "      <th>...</th>\n",
       "      <td>...</td>\n",
       "      <td>...</td>\n",
       "      <td>...</td>\n",
       "      <td>...</td>\n",
       "      <td>...</td>\n",
       "    </tr>\n",
       "    <tr>\n",
       "      <th>1192</th>\n",
       "      <td>2662137336</td>\n",
       "      <td>3733762160</td>\n",
       "      <td>2019-08-14</td>\n",
       "      <td>6490</td>\n",
       "      <td>B</td>\n",
       "    </tr>\n",
       "    <tr>\n",
       "      <th>1193</th>\n",
       "      <td>2203539145</td>\n",
       "      <td>370388673</td>\n",
       "      <td>2019-08-14</td>\n",
       "      <td>3190</td>\n",
       "      <td>A</td>\n",
       "    </tr>\n",
       "    <tr>\n",
       "      <th>1194</th>\n",
       "      <td>1807773912</td>\n",
       "      <td>573423106</td>\n",
       "      <td>2019-08-14</td>\n",
       "      <td>10550</td>\n",
       "      <td>A</td>\n",
       "    </tr>\n",
       "    <tr>\n",
       "      <th>1195</th>\n",
       "      <td>1947021204</td>\n",
       "      <td>1614305549</td>\n",
       "      <td>2019-08-14</td>\n",
       "      <td>100</td>\n",
       "      <td>A</td>\n",
       "    </tr>\n",
       "    <tr>\n",
       "      <th>1196</th>\n",
       "      <td>3936777065</td>\n",
       "      <td>2108080724</td>\n",
       "      <td>2019-08-15</td>\n",
       "      <td>202740</td>\n",
       "      <td>B</td>\n",
       "    </tr>\n",
       "  </tbody>\n",
       "</table>\n",
       "<p>1197 rows × 5 columns</p>\n",
       "</div>"
      ],
      "text/plain": [
       "      transactionId   visitorId       date  revenue group\n",
       "0        3667963787  3312258926 2019-08-15     1650     B\n",
       "1        2804400009  3642806036 2019-08-15      730     B\n",
       "2        2961555356  4069496402 2019-08-15      400     A\n",
       "3        3797467345  1196621759 2019-08-15     9759     B\n",
       "4        2282983706  2322279887 2019-08-15     2308     B\n",
       "...             ...         ...        ...      ...   ...\n",
       "1192     2662137336  3733762160 2019-08-14     6490     B\n",
       "1193     2203539145   370388673 2019-08-14     3190     A\n",
       "1194     1807773912   573423106 2019-08-14    10550     A\n",
       "1195     1947021204  1614305549 2019-08-14      100     A\n",
       "1196     3936777065  2108080724 2019-08-15   202740     B\n",
       "\n",
       "[1197 rows x 5 columns]"
      ]
     },
     "metadata": {},
     "output_type": "display_data"
    },
    {
     "data": {
      "text/plain": [
       "None"
      ]
     },
     "metadata": {},
     "output_type": "display_data"
    },
    {
     "data": {
      "text/html": [
       "<div>\n",
       "<style scoped>\n",
       "    .dataframe tbody tr th:only-of-type {\n",
       "        vertical-align: middle;\n",
       "    }\n",
       "\n",
       "    .dataframe tbody tr th {\n",
       "        vertical-align: top;\n",
       "    }\n",
       "\n",
       "    .dataframe thead th {\n",
       "        text-align: right;\n",
       "    }\n",
       "</style>\n",
       "<table border=\"1\" class=\"dataframe\">\n",
       "  <thead>\n",
       "    <tr style=\"text-align: right;\">\n",
       "      <th></th>\n",
       "      <th>count</th>\n",
       "      <th>mean</th>\n",
       "      <th>std</th>\n",
       "      <th>min</th>\n",
       "      <th>25%</th>\n",
       "      <th>50%</th>\n",
       "      <th>75%</th>\n",
       "      <th>max</th>\n",
       "    </tr>\n",
       "  </thead>\n",
       "  <tbody>\n",
       "    <tr>\n",
       "      <th>revenue</th>\n",
       "      <td>1197.0</td>\n",
       "      <td>8348.005848</td>\n",
       "      <td>39191.131774</td>\n",
       "      <td>50.0</td>\n",
       "      <td>1220.0</td>\n",
       "      <td>2978.0</td>\n",
       "      <td>8290.0</td>\n",
       "      <td>1294500.0</td>\n",
       "    </tr>\n",
       "  </tbody>\n",
       "</table>\n",
       "</div>"
      ],
      "text/plain": [
       "          count         mean           std   min     25%     50%     75%  \\\n",
       "revenue  1197.0  8348.005848  39191.131774  50.0  1220.0  2978.0  8290.0   \n",
       "\n",
       "               max  \n",
       "revenue  1294500.0  "
      ]
     },
     "metadata": {},
     "output_type": "display_data"
    }
   ],
   "source": [
    "display(reporter.orders, reporter.orders.info(), reporter.orders[['revenue']].describe().T)"
   ]
  },
  {
   "cell_type": "markdown",
   "id": "bad70c56-035f-42bf-94a1-a66f72135a20",
   "metadata": {},
   "source": [
    "### - посчитаем полные дубликаты в данных о заказах"
   ]
  },
  {
   "cell_type": "code",
   "execution_count": 10,
   "id": "8a222b7d-bc4c-4de7-8902-9c26e5a25ab5",
   "metadata": {},
   "outputs": [
    {
     "data": {
      "text/plain": [
       "0"
      ]
     },
     "execution_count": 10,
     "metadata": {},
     "output_type": "execute_result"
    }
   ],
   "source": [
    "(reporter.orders.duplicated() == True).sum()"
   ]
  },
  {
   "cell_type": "markdown",
   "id": "5c207129-bba3-42a8-93e7-284aef8a7fb1",
   "metadata": {},
   "source": [
    "&#9889; **Выводы**\n",
    "\n",
    "1. В датасете с информацией о заказах - 1197 наблюдений, без пропусков и проблем с данными.\n",
    "2. Минимальная сумма заказа - 50 рублей, средняя - 8 348 рублей, при медианной в 2 978 рублей. Максимальная сумма заказа 1 294 500 рублей. Выбросы оказывают давление на среднее.\n",
    "3. Полных дубликатов нет."
   ]
  },
  {
   "cell_type": "markdown",
   "id": "0cf9cd03-f78d-424a-a495-a33ab2583d32",
   "metadata": {},
   "source": [
    "### - проверим корректно ли разделены группы"
   ]
  },
  {
   "cell_type": "markdown",
   "id": "29b0afbe-4cdd-4185-823b-a471c5e32d3c",
   "metadata": {},
   "source": [
    "Проверим пересечения между группами, сохраним id пользователей в отдельный список"
   ]
  },
  {
   "cell_type": "code",
   "execution_count": 11,
   "id": "3068ed70-107b-44a3-95eb-bed35bf967dc",
   "metadata": {},
   "outputs": [
    {
     "data": {
      "text/plain": [
       "58"
      ]
     },
     "execution_count": 11,
     "metadata": {},
     "output_type": "execute_result"
    }
   ],
   "source": [
    "intersections = reporter.get_intersections()\n",
    "len(intersections)"
   ]
  },
  {
   "cell_type": "markdown",
   "id": "c04f9282-d0c1-4216-86d1-ee3ce154f882",
   "metadata": {},
   "source": [
    "Пятьдесят восемь пользователей попало в обе группы. Посчитаем какой процент от всех уникальных пользователей в данных составляет пересечение."
   ]
  },
  {
   "cell_type": "code",
   "execution_count": 12,
   "id": "810a51d2-a7ca-4603-84b0-b8dcf3c57709",
   "metadata": {},
   "outputs": [
    {
     "data": {
      "text/plain": [
       "5.625606207565471"
      ]
     },
     "execution_count": 12,
     "metadata": {},
     "output_type": "execute_result"
    }
   ],
   "source": [
    "len(intersections) / reporter.orders['visitorId'].nunique() * 100"
   ]
  },
  {
   "cell_type": "markdown",
   "id": "c73c6684-c883-4598-8492-15d130aba6ba",
   "metadata": {},
   "source": [
    "Пятьдесят восемь пользователей - 5.6% от общего числа уникальных пользователей попали в обе группы. Сохраним данные об этих пользователя в отдельную таблицу, выведем ее."
   ]
  },
  {
   "cell_type": "code",
   "execution_count": 13,
   "id": "911b1589-7729-411c-bffb-d94b73c7b47f",
   "metadata": {},
   "outputs": [
    {
     "data": {
      "text/html": [
       "<div>\n",
       "<style scoped>\n",
       "    .dataframe tbody tr th:only-of-type {\n",
       "        vertical-align: middle;\n",
       "    }\n",
       "\n",
       "    .dataframe tbody tr th {\n",
       "        vertical-align: top;\n",
       "    }\n",
       "\n",
       "    .dataframe thead th {\n",
       "        text-align: right;\n",
       "    }\n",
       "</style>\n",
       "<table border=\"1\" class=\"dataframe\">\n",
       "  <thead>\n",
       "    <tr style=\"text-align: right;\">\n",
       "      <th></th>\n",
       "      <th>transactionId</th>\n",
       "      <th>visitorId</th>\n",
       "      <th>date</th>\n",
       "      <th>revenue</th>\n",
       "      <th>group</th>\n",
       "    </tr>\n",
       "  </thead>\n",
       "  <tbody>\n",
       "    <tr>\n",
       "      <th>2</th>\n",
       "      <td>2961555356</td>\n",
       "      <td>4069496402</td>\n",
       "      <td>2019-08-15</td>\n",
       "      <td>400</td>\n",
       "      <td>A</td>\n",
       "    </tr>\n",
       "    <tr>\n",
       "      <th>20</th>\n",
       "      <td>2904772834</td>\n",
       "      <td>963407295</td>\n",
       "      <td>2019-08-15</td>\n",
       "      <td>300</td>\n",
       "      <td>B</td>\n",
       "    </tr>\n",
       "    <tr>\n",
       "      <th>23</th>\n",
       "      <td>4252514150</td>\n",
       "      <td>351125977</td>\n",
       "      <td>2019-08-15</td>\n",
       "      <td>15185</td>\n",
       "      <td>B</td>\n",
       "    </tr>\n",
       "    <tr>\n",
       "      <th>24</th>\n",
       "      <td>1162046357</td>\n",
       "      <td>3234906277</td>\n",
       "      <td>2019-08-15</td>\n",
       "      <td>7555</td>\n",
       "      <td>B</td>\n",
       "    </tr>\n",
       "    <tr>\n",
       "      <th>26</th>\n",
       "      <td>2223239646</td>\n",
       "      <td>199603092</td>\n",
       "      <td>2019-08-15</td>\n",
       "      <td>3488</td>\n",
       "      <td>A</td>\n",
       "    </tr>\n",
       "    <tr>\n",
       "      <th>...</th>\n",
       "      <td>...</td>\n",
       "      <td>...</td>\n",
       "      <td>...</td>\n",
       "      <td>...</td>\n",
       "      <td>...</td>\n",
       "    </tr>\n",
       "    <tr>\n",
       "      <th>1182</th>\n",
       "      <td>2682156369</td>\n",
       "      <td>1668030113</td>\n",
       "      <td>2019-08-14</td>\n",
       "      <td>1290</td>\n",
       "      <td>B</td>\n",
       "    </tr>\n",
       "    <tr>\n",
       "      <th>1183</th>\n",
       "      <td>1458356232</td>\n",
       "      <td>963407295</td>\n",
       "      <td>2019-08-14</td>\n",
       "      <td>4940</td>\n",
       "      <td>A</td>\n",
       "    </tr>\n",
       "    <tr>\n",
       "      <th>1184</th>\n",
       "      <td>1329499668</td>\n",
       "      <td>2949041841</td>\n",
       "      <td>2019-08-14</td>\n",
       "      <td>10380</td>\n",
       "      <td>B</td>\n",
       "    </tr>\n",
       "    <tr>\n",
       "      <th>1189</th>\n",
       "      <td>4082620617</td>\n",
       "      <td>393266494</td>\n",
       "      <td>2019-08-14</td>\n",
       "      <td>31550</td>\n",
       "      <td>B</td>\n",
       "    </tr>\n",
       "    <tr>\n",
       "      <th>1195</th>\n",
       "      <td>1947021204</td>\n",
       "      <td>1614305549</td>\n",
       "      <td>2019-08-14</td>\n",
       "      <td>100</td>\n",
       "      <td>A</td>\n",
       "    </tr>\n",
       "  </tbody>\n",
       "</table>\n",
       "<p>181 rows × 5 columns</p>\n",
       "</div>"
      ],
      "text/plain": [
       "      transactionId   visitorId       date  revenue group\n",
       "2        2961555356  4069496402 2019-08-15      400     A\n",
       "20       2904772834   963407295 2019-08-15      300     B\n",
       "23       4252514150   351125977 2019-08-15    15185     B\n",
       "24       1162046357  3234906277 2019-08-15     7555     B\n",
       "26       2223239646   199603092 2019-08-15     3488     A\n",
       "...             ...         ...        ...      ...   ...\n",
       "1182     2682156369  1668030113 2019-08-14     1290     B\n",
       "1183     1458356232   963407295 2019-08-14     4940     A\n",
       "1184     1329499668  2949041841 2019-08-14    10380     B\n",
       "1189     4082620617   393266494 2019-08-14    31550     B\n",
       "1195     1947021204  1614305549 2019-08-14      100     A\n",
       "\n",
       "[181 rows x 5 columns]"
      ]
     },
     "execution_count": 13,
     "metadata": {},
     "output_type": "execute_result"
    }
   ],
   "source": [
    "intersected_users = reporter.orders.query('visitorId in @intersections')\n",
    "intersected_users"
   ]
  },
  {
   "cell_type": "code",
   "execution_count": 14,
   "id": "6368fdc3-eeae-47ef-8061-96a7b1bf6567",
   "metadata": {},
   "outputs": [
    {
     "data": {
      "text/html": [
       "<div>\n",
       "<style scoped>\n",
       "    .dataframe tbody tr th:only-of-type {\n",
       "        vertical-align: middle;\n",
       "    }\n",
       "\n",
       "    .dataframe tbody tr th {\n",
       "        vertical-align: top;\n",
       "    }\n",
       "\n",
       "    .dataframe thead th {\n",
       "        text-align: right;\n",
       "    }\n",
       "</style>\n",
       "<table border=\"1\" class=\"dataframe\">\n",
       "  <thead>\n",
       "    <tr style=\"text-align: right;\">\n",
       "      <th></th>\n",
       "      <th>count</th>\n",
       "      <th>mean</th>\n",
       "      <th>std</th>\n",
       "      <th>min</th>\n",
       "      <th>25%</th>\n",
       "      <th>50%</th>\n",
       "      <th>75%</th>\n",
       "      <th>max</th>\n",
       "    </tr>\n",
       "  </thead>\n",
       "  <tbody>\n",
       "    <tr>\n",
       "      <th>revenue</th>\n",
       "      <td>181.0</td>\n",
       "      <td>8612.900552</td>\n",
       "      <td>14161.550845</td>\n",
       "      <td>50.0</td>\n",
       "      <td>1530.0</td>\n",
       "      <td>3460.0</td>\n",
       "      <td>8439.0</td>\n",
       "      <td>93940.0</td>\n",
       "    </tr>\n",
       "  </tbody>\n",
       "</table>\n",
       "</div>"
      ],
      "text/plain": [
       "         count         mean           std   min     25%     50%     75%  \\\n",
       "revenue  181.0  8612.900552  14161.550845  50.0  1530.0  3460.0  8439.0   \n",
       "\n",
       "             max  \n",
       "revenue  93940.0  "
      ]
     },
     "execution_count": 14,
     "metadata": {},
     "output_type": "execute_result"
    }
   ],
   "source": [
    "intersected_users[['revenue']].describe().T"
   ]
  },
  {
   "cell_type": "markdown",
   "id": "9120a08e-98ee-4c55-8d66-cf731928d850",
   "metadata": {},
   "source": [
    "В пересечениях 181 наблюдение из 1197 - 15%. Представляется, что это довольно много, чтобы обратить внимание на инструмент разделения пользователей при будущих тестах."
   ]
  },
  {
   "cell_type": "markdown",
   "id": "aedb11a2-5682-41f7-ba1e-60be0f5c0419",
   "metadata": {},
   "source": [
    "&#9889; **Выводы**\n",
    "\n",
    "1. В обе группы попали 5.6% (58) от уникальных пользователей (1031), 15% (181) от всех наблюдений о поведении пользователей (1197).\n",
    "2. Возможно, инструмент разделения пользователей дает систематическую ошибку при разделении, которая не была выявлена при А/А тестировании. Это повод перепроверить способ разделения перед следующим тестом.\n",
    "3. Поскольку 58 пользователей попали в обе группы - неизвестно, какая именно версия повлияла на их решения. Как следствие, данные об этих пользователях будут влиять на возможную интерпретацию тестов.\n",
    "4. Принимая во внимание число пользователей, попавших в обе группы, учитвая затруднительность в интерпретации поведения данных пользователей и достаточность данных для проведения анализа - принято решение исключить их из дальнейшего анализа.\n",
    "5. Как следствие, при расчете кумулятивных метрик, проведении статиститческих тестов, не будут участовавать 181 наблюдение (15%) о 58 (5.6%) уникальных пользователях."
   ]
  },
  {
   "cell_type": "markdown",
   "id": "ee6946ba-7d74-4aa9-8a5f-9d2e3f737ee6",
   "metadata": {},
   "source": [
    "[В оглавление](#TOC)"
   ]
  },
  {
   "cell_type": "markdown",
   "id": "d4605018-3aa2-40cb-8a16-b4b5add5309a",
   "metadata": {
    "tags": []
   },
   "source": [
    "## 2) Построим графики кумулятивных метрик<a class=\"anchor\" id=\"3_2\"></a>"
   ]
  },
  {
   "cell_type": "markdown",
   "id": "e3656674-176f-4259-9754-69a1dc116c1a",
   "metadata": {
    "tags": []
   },
   "source": [
    "### - исключим пользователей, попавших в обе группы и посчитаем кумулятивные метрики"
   ]
  },
  {
   "cell_type": "code",
   "execution_count": 15,
   "id": "66449835-d9f7-4bee-9172-959f0ae00102",
   "metadata": {},
   "outputs": [],
   "source": [
    "cumulated = reporter.grouped_summary(check_intersections=True)"
   ]
  },
  {
   "cell_type": "code",
   "execution_count": 16,
   "id": "677631a7-fc40-4e4e-ac1f-d492a27ea182",
   "metadata": {},
   "outputs": [
    {
     "data": {
      "text/html": [
       "<div>\n",
       "<style scoped>\n",
       "    .dataframe tbody tr th:only-of-type {\n",
       "        vertical-align: middle;\n",
       "    }\n",
       "\n",
       "    .dataframe tbody tr th {\n",
       "        vertical-align: top;\n",
       "    }\n",
       "\n",
       "    .dataframe thead th {\n",
       "        text-align: right;\n",
       "    }\n",
       "</style>\n",
       "<table border=\"1\" class=\"dataframe\">\n",
       "  <thead>\n",
       "    <tr style=\"text-align: right;\">\n",
       "      <th></th>\n",
       "      <th>date</th>\n",
       "      <th>group</th>\n",
       "      <th>orders</th>\n",
       "      <th>buyers</th>\n",
       "      <th>revenue</th>\n",
       "      <th>revenue_cm</th>\n",
       "      <th>orders_cm</th>\n",
       "      <th>buyers_cm</th>\n",
       "      <th>visitors</th>\n",
       "      <th>visitors_cm</th>\n",
       "      <th>conversion_cm</th>\n",
       "    </tr>\n",
       "  </thead>\n",
       "  <tbody>\n",
       "    <tr>\n",
       "      <th>0</th>\n",
       "      <td>2019-08-01</td>\n",
       "      <td>A</td>\n",
       "      <td>23</td>\n",
       "      <td>19</td>\n",
       "      <td>142779</td>\n",
       "      <td>142779</td>\n",
       "      <td>23</td>\n",
       "      <td>19</td>\n",
       "      <td>719</td>\n",
       "      <td>719</td>\n",
       "      <td>0.031989</td>\n",
       "    </tr>\n",
       "    <tr>\n",
       "      <th>1</th>\n",
       "      <td>2019-08-01</td>\n",
       "      <td>B</td>\n",
       "      <td>17</td>\n",
       "      <td>17</td>\n",
       "      <td>59758</td>\n",
       "      <td>59758</td>\n",
       "      <td>17</td>\n",
       "      <td>17</td>\n",
       "      <td>713</td>\n",
       "      <td>713</td>\n",
       "      <td>0.023843</td>\n",
       "    </tr>\n",
       "    <tr>\n",
       "      <th>2</th>\n",
       "      <td>2019-08-02</td>\n",
       "      <td>A</td>\n",
       "      <td>19</td>\n",
       "      <td>18</td>\n",
       "      <td>91602</td>\n",
       "      <td>234381</td>\n",
       "      <td>42</td>\n",
       "      <td>37</td>\n",
       "      <td>619</td>\n",
       "      <td>1338</td>\n",
       "      <td>0.031390</td>\n",
       "    </tr>\n",
       "    <tr>\n",
       "      <th>3</th>\n",
       "      <td>2019-08-02</td>\n",
       "      <td>B</td>\n",
       "      <td>23</td>\n",
       "      <td>22</td>\n",
       "      <td>162043</td>\n",
       "      <td>221801</td>\n",
       "      <td>40</td>\n",
       "      <td>39</td>\n",
       "      <td>581</td>\n",
       "      <td>1294</td>\n",
       "      <td>0.030912</td>\n",
       "    </tr>\n",
       "    <tr>\n",
       "      <th>4</th>\n",
       "      <td>2019-08-03</td>\n",
       "      <td>A</td>\n",
       "      <td>24</td>\n",
       "      <td>24</td>\n",
       "      <td>112473</td>\n",
       "      <td>346854</td>\n",
       "      <td>66</td>\n",
       "      <td>61</td>\n",
       "      <td>507</td>\n",
       "      <td>1845</td>\n",
       "      <td>0.035772</td>\n",
       "    </tr>\n",
       "    <tr>\n",
       "      <th>...</th>\n",
       "      <td>...</td>\n",
       "      <td>...</td>\n",
       "      <td>...</td>\n",
       "      <td>...</td>\n",
       "      <td>...</td>\n",
       "      <td>...</td>\n",
       "      <td>...</td>\n",
       "      <td>...</td>\n",
       "      <td>...</td>\n",
       "      <td>...</td>\n",
       "      <td>...</td>\n",
       "    </tr>\n",
       "    <tr>\n",
       "      <th>57</th>\n",
       "      <td>2019-08-29</td>\n",
       "      <td>B</td>\n",
       "      <td>15</td>\n",
       "      <td>15</td>\n",
       "      <td>106100</td>\n",
       "      <td>4746610</td>\n",
       "      <td>510</td>\n",
       "      <td>506</td>\n",
       "      <td>531</td>\n",
       "      <td>17708</td>\n",
       "      <td>0.028801</td>\n",
       "    </tr>\n",
       "    <tr>\n",
       "      <th>58</th>\n",
       "      <td>2019-08-30</td>\n",
       "      <td>A</td>\n",
       "      <td>9</td>\n",
       "      <td>8</td>\n",
       "      <td>78180</td>\n",
       "      <td>3311413</td>\n",
       "      <td>460</td>\n",
       "      <td>449</td>\n",
       "      <td>490</td>\n",
       "      <td>18037</td>\n",
       "      <td>0.025503</td>\n",
       "    </tr>\n",
       "    <tr>\n",
       "      <th>59</th>\n",
       "      <td>2019-08-30</td>\n",
       "      <td>B</td>\n",
       "      <td>21</td>\n",
       "      <td>21</td>\n",
       "      <td>209223</td>\n",
       "      <td>4955833</td>\n",
       "      <td>531</td>\n",
       "      <td>527</td>\n",
       "      <td>490</td>\n",
       "      <td>18198</td>\n",
       "      <td>0.029179</td>\n",
       "    </tr>\n",
       "    <tr>\n",
       "      <th>60</th>\n",
       "      <td>2019-08-31</td>\n",
       "      <td>A</td>\n",
       "      <td>8</td>\n",
       "      <td>8</td>\n",
       "      <td>53243</td>\n",
       "      <td>3364656</td>\n",
       "      <td>468</td>\n",
       "      <td>457</td>\n",
       "      <td>699</td>\n",
       "      <td>18736</td>\n",
       "      <td>0.024979</td>\n",
       "    </tr>\n",
       "    <tr>\n",
       "      <th>61</th>\n",
       "      <td>2019-08-31</td>\n",
       "      <td>B</td>\n",
       "      <td>17</td>\n",
       "      <td>17</td>\n",
       "      <td>113139</td>\n",
       "      <td>5068972</td>\n",
       "      <td>548</td>\n",
       "      <td>544</td>\n",
       "      <td>718</td>\n",
       "      <td>18916</td>\n",
       "      <td>0.028970</td>\n",
       "    </tr>\n",
       "  </tbody>\n",
       "</table>\n",
       "<p>62 rows × 11 columns</p>\n",
       "</div>"
      ],
      "text/plain": [
       "         date group  orders  buyers  revenue  revenue_cm  orders_cm  \\\n",
       "0  2019-08-01     A      23      19   142779      142779         23   \n",
       "1  2019-08-01     B      17      17    59758       59758         17   \n",
       "2  2019-08-02     A      19      18    91602      234381         42   \n",
       "3  2019-08-02     B      23      22   162043      221801         40   \n",
       "4  2019-08-03     A      24      24   112473      346854         66   \n",
       "..        ...   ...     ...     ...      ...         ...        ...   \n",
       "57 2019-08-29     B      15      15   106100     4746610        510   \n",
       "58 2019-08-30     A       9       8    78180     3311413        460   \n",
       "59 2019-08-30     B      21      21   209223     4955833        531   \n",
       "60 2019-08-31     A       8       8    53243     3364656        468   \n",
       "61 2019-08-31     B      17      17   113139     5068972        548   \n",
       "\n",
       "    buyers_cm  visitors  visitors_cm  conversion_cm  \n",
       "0          19       719          719       0.031989  \n",
       "1          17       713          713       0.023843  \n",
       "2          37       619         1338       0.031390  \n",
       "3          39       581         1294       0.030912  \n",
       "4          61       507         1845       0.035772  \n",
       "..        ...       ...          ...            ...  \n",
       "57        506       531        17708       0.028801  \n",
       "58        449       490        18037       0.025503  \n",
       "59        527       490        18198       0.029179  \n",
       "60        457       699        18736       0.024979  \n",
       "61        544       718        18916       0.028970  \n",
       "\n",
       "[62 rows x 11 columns]"
      ]
     },
     "execution_count": 16,
     "metadata": {},
     "output_type": "execute_result"
    }
   ],
   "source": [
    "cumulated"
   ]
  },
  {
   "cell_type": "markdown",
   "id": "b793576e-5014-41c5-9b1b-5c23eb9c647c",
   "metadata": {},
   "source": [
    "&#9889; **Выводы**\n",
    "\n",
    "Получили датасет с изначальными и кумулятивными метриками (столбцы c _cm) на каждую дату, по каждой группе."
   ]
  },
  {
   "cell_type": "markdown",
   "id": "6a8d4c79-a196-4377-8b8a-69397644316f",
   "metadata": {
    "tags": []
   },
   "source": [
    "### - построим графики"
   ]
  },
  {
   "cell_type": "code",
   "execution_count": 17,
   "id": "d0835541-01f1-4025-80bb-6c3cb75b90d6",
   "metadata": {},
   "outputs": [
    {
     "data": {
      "image/png": "[encoded data removed]",
      "text/plain": [
       "<Figure size 1800x720 with 5 Axes>"
      ]
     },
     "metadata": {
      "needs_background": "light"
     },
     "output_type": "display_data"
    }
   ],
   "source": [
    "reporter.plot_cumulative_metrics()"
   ]
  },
  {
   "cell_type": "markdown",
   "id": "a377a74e-952b-4e3e-b233-0469ca6b7ffa",
   "metadata": {},
   "source": [
    "&#9889; **Выводы**\n",
    "\n",
    "1. В середине третей недели кумулятивная выручка и средний чек группы В показал резкий рост, график относительного различия для среднего чека между группами также показывает значительные колебания: вероятно, на метрики оказывают влияние выбросы - крупные заказы.\n",
    "2. До середины первой недели конвертация обоих групп колебалась, при лучшей конвертации группы А. К концу первой недели теста конверсии групп стабилизировались, после чего конверсия группы В показала заметный рост и на протяжении теста превышала конверсию группы А.\n",
    "3. График  прироста конверсии группы В относительно группа А также демонстирирует лидерство группы В по конверсии: с конца с первой недели метрика растет, к началу второй недели взрывной рост прекратился и, несмотря на колебания, к концу теста стабилизировалась c приростом в районе 10% относительно группы А.\n"
   ]
  },
  {
   "cell_type": "markdown",
   "id": "73d33b1a-ab54-4482-a366-3b9af187b644",
   "metadata": {},
   "source": [
    "[В оглавление](#TOC)"
   ]
  },
  {
   "cell_type": "markdown",
   "id": "db482173-6e9f-45c2-90b1-1c67e40498ca",
   "metadata": {},
   "source": [
    "## 3) Исследуем количество заказов на пользователя и стоимости заказов<a class=\"anchor\" id=\"3_3\"></a>"
   ]
  },
  {
   "cell_type": "markdown",
   "id": "50a68a5f-0281-4760-8f77-5869bd9e3a99",
   "metadata": {
    "tags": []
   },
   "source": [
    "### - количество заказов на пользователя"
   ]
  },
  {
   "cell_type": "markdown",
   "id": "0e26d105-7336-490b-a0bb-6fc25e7011c1",
   "metadata": {},
   "source": [
    "Сформируем таблицу для анализа, выведем результат"
   ]
  },
  {
   "cell_type": "code",
   "execution_count": 18,
   "id": "28cb8458-ff3b-44b7-89a2-869b1e22fbac",
   "metadata": {},
   "outputs": [
    {
     "data": {
      "text/html": [
       "<div>\n",
       "<style scoped>\n",
       "    .dataframe tbody tr th:only-of-type {\n",
       "        vertical-align: middle;\n",
       "    }\n",
       "\n",
       "    .dataframe tbody tr th {\n",
       "        vertical-align: top;\n",
       "    }\n",
       "\n",
       "    .dataframe thead th {\n",
       "        text-align: right;\n",
       "    }\n",
       "</style>\n",
       "<table border=\"1\" class=\"dataframe\">\n",
       "  <thead>\n",
       "    <tr style=\"text-align: right;\">\n",
       "      <th></th>\n",
       "      <th>visitor_id</th>\n",
       "      <th>orders</th>\n",
       "    </tr>\n",
       "  </thead>\n",
       "  <tbody>\n",
       "    <tr>\n",
       "      <th>908</th>\n",
       "      <td>3967698036</td>\n",
       "      <td>3</td>\n",
       "    </tr>\n",
       "    <tr>\n",
       "      <th>55</th>\n",
       "      <td>249864742</td>\n",
       "      <td>3</td>\n",
       "    </tr>\n",
       "    <tr>\n",
       "      <th>478</th>\n",
       "      <td>2108163459</td>\n",
       "      <td>3</td>\n",
       "    </tr>\n",
       "    <tr>\n",
       "      <th>687</th>\n",
       "      <td>2988190573</td>\n",
       "      <td>3</td>\n",
       "    </tr>\n",
       "    <tr>\n",
       "      <th>890</th>\n",
       "      <td>3908431265</td>\n",
       "      <td>3</td>\n",
       "    </tr>\n",
       "    <tr>\n",
       "      <th>...</th>\n",
       "      <td>...</td>\n",
       "      <td>...</td>\n",
       "    </tr>\n",
       "    <tr>\n",
       "      <th>331</th>\n",
       "      <td>1438226485</td>\n",
       "      <td>1</td>\n",
       "    </tr>\n",
       "    <tr>\n",
       "      <th>332</th>\n",
       "      <td>1452540367</td>\n",
       "      <td>1</td>\n",
       "    </tr>\n",
       "    <tr>\n",
       "      <th>333</th>\n",
       "      <td>1455323168</td>\n",
       "      <td>1</td>\n",
       "    </tr>\n",
       "    <tr>\n",
       "      <th>334</th>\n",
       "      <td>1455861274</td>\n",
       "      <td>1</td>\n",
       "    </tr>\n",
       "    <tr>\n",
       "      <th>972</th>\n",
       "      <td>4283872382</td>\n",
       "      <td>1</td>\n",
       "    </tr>\n",
       "  </tbody>\n",
       "</table>\n",
       "<p>973 rows × 2 columns</p>\n",
       "</div>"
      ],
      "text/plain": [
       "     visitor_id  orders\n",
       "908  3967698036       3\n",
       "55    249864742       3\n",
       "478  2108163459       3\n",
       "687  2988190573       3\n",
       "890  3908431265       3\n",
       "..          ...     ...\n",
       "331  1438226485       1\n",
       "332  1452540367       1\n",
       "333  1455323168       1\n",
       "334  1455861274       1\n",
       "972  4283872382       1\n",
       "\n",
       "[973 rows x 2 columns]"
      ]
     },
     "execution_count": 18,
     "metadata": {},
     "output_type": "execute_result"
    }
   ],
   "source": [
    "orders_by_users = reporter.orders.groupby('visitorId', as_index=False).agg({'transactionId': 'nunique'})\n",
    "orders_by_users.columns = ['visitor_id', 'orders']\n",
    "orders_by_users.sort_values(by='orders', ascending=False)"
   ]
  },
  {
   "cell_type": "markdown",
   "id": "d276d121-bf03-4dd8-8487-6900dc1f0704",
   "metadata": {},
   "source": [
    "Минимальное число заказов, ожидаемо, 1, максимальное количество заказов - 3. Посмтроим графики."
   ]
  },
  {
   "cell_type": "markdown",
   "id": "5a4838b6-4975-4852-87a6-9e88ad076c15",
   "metadata": {
    "tags": []
   },
   "source": [
    "### - визуализируем количество заказов на пользователя"
   ]
  },
  {
   "cell_type": "code",
   "execution_count": 19,
   "id": "3f649ba2-a1f3-4c9c-b0b2-e58a90020c6c",
   "metadata": {},
   "outputs": [
    {
     "data": {
      "image/png": "[encoded data removed]",
      "text/plain": [
       "<Figure size 1800x360 with 3 Axes>"
      ]
     },
     "metadata": {},
     "output_type": "display_data"
    }
   ],
   "source": [
    "reporter.plotter(orders_by_users, 'orders', 'Количество заказов')"
   ]
  },
  {
   "cell_type": "markdown",
   "id": "a4fcb394-7a5a-4bcb-9734-c4c2ca2975a8",
   "metadata": {},
   "source": [
    "Принимая во внимание, как разнесены среднее и медиана на гистограмме - выбросы оказывают влияние. Девяносто девять процентов пользоватлей заказало от 1 до 2 раз. Это же подтверждает и диаграмма рассеивания - несколько крупных точек доминируют над графиком - и диаграмма размаха - ящик вытянулся в линию. Визуально - выбросов не так много. Проверим числовые значения."
   ]
  },
  {
   "cell_type": "markdown",
   "id": "c1bb1575-a483-4254-879e-6899f24c3d81",
   "metadata": {
    "tags": []
   },
   "source": [
    "### - получим базовую статистику о количестве заказов на пользователя"
   ]
  },
  {
   "cell_type": "code",
   "execution_count": 20,
   "id": "74177a2a-4e61-45b4-b903-de9a6eca46e4",
   "metadata": {},
   "outputs": [
    {
     "data": {
      "text/html": [
       "<div>\n",
       "<style scoped>\n",
       "    .dataframe tbody tr th:only-of-type {\n",
       "        vertical-align: middle;\n",
       "    }\n",
       "\n",
       "    .dataframe tbody tr th {\n",
       "        vertical-align: top;\n",
       "    }\n",
       "\n",
       "    .dataframe thead th {\n",
       "        text-align: right;\n",
       "    }\n",
       "</style>\n",
       "<table border=\"1\" class=\"dataframe\">\n",
       "  <thead>\n",
       "    <tr style=\"text-align: right;\">\n",
       "      <th></th>\n",
       "      <th>count</th>\n",
       "      <th>mean</th>\n",
       "      <th>std</th>\n",
       "      <th>min</th>\n",
       "      <th>25%</th>\n",
       "      <th>50%</th>\n",
       "      <th>75%</th>\n",
       "      <th>95%</th>\n",
       "      <th>99%</th>\n",
       "      <th>max</th>\n",
       "    </tr>\n",
       "  </thead>\n",
       "  <tbody>\n",
       "    <tr>\n",
       "      <th>orders</th>\n",
       "      <td>973.0</td>\n",
       "      <td>1.044193</td>\n",
       "      <td>0.23809</td>\n",
       "      <td>1.0</td>\n",
       "      <td>1.0</td>\n",
       "      <td>1.0</td>\n",
       "      <td>1.0</td>\n",
       "      <td>1.0</td>\n",
       "      <td>2.0</td>\n",
       "      <td>3.0</td>\n",
       "    </tr>\n",
       "  </tbody>\n",
       "</table>\n",
       "</div>"
      ],
      "text/plain": [
       "        count      mean      std  min  25%  50%  75%  95%  99%  max\n",
       "orders  973.0  1.044193  0.23809  1.0  1.0  1.0  1.0  1.0  2.0  3.0"
      ]
     },
     "execution_count": 20,
     "metadata": {},
     "output_type": "execute_result"
    }
   ],
   "source": [
    "orders_by_users[['orders']].describe(percentiles=[.25, .5, .75, .95, .99]).T"
   ]
  },
  {
   "cell_type": "markdown",
   "id": "aad38f36-703a-46b3-9ee6-c1a140a228e6",
   "metadata": {},
   "source": [
    "Всего один процент пользователей заказывают более двух раз (99-й перцентиль)."
   ]
  },
  {
   "cell_type": "markdown",
   "id": "40224969-1df9-4e04-a7ef-d8b170110edb",
   "metadata": {},
   "source": [
    "&#9889; **Выводы**\n",
    "\n",
    "1. В заказах есть выбросы, которые влияют на среднее.\n",
    "2. Минимальное число заказов - 1 , максимальное число заказов - 3.\n",
    "3. Принимая во внимание имеющиеся данные - разумно выбрать 1 заказ на одного пользователя за верхню границу числа заказов."
   ]
  },
  {
   "cell_type": "markdown",
   "id": "9dbfc066-69cd-454f-b96d-9fe17485215b",
   "metadata": {},
   "source": [
    "[В оглавление](#TOC)"
   ]
  },
  {
   "cell_type": "markdown",
   "id": "6727ed78-37a5-4668-8f11-303d822a8522",
   "metadata": {
    "tags": []
   },
   "source": [
    "### - визуализируем стоимости заказов"
   ]
  },
  {
   "cell_type": "code",
   "execution_count": 21,
   "id": "19f0da1e-773f-487a-bde8-da60ac306917",
   "metadata": {},
   "outputs": [
    {
     "data": {
      "image/png": "[encoded data removed]",
      "text/plain": [
       "<Figure size 1800x360 with 3 Axes>"
      ]
     },
     "metadata": {},
     "output_type": "display_data"
    }
   ],
   "source": [
    "reporter.plotter(reporter.orders, 'revenue', 'Выручка')"
   ]
  },
  {
   "cell_type": "markdown",
   "id": "4fd84da7-a61a-454f-9303-ca188c9ff85b",
   "metadata": {},
   "source": [
    "В данных о выручке есть сверхдорогой заказ, который хорошо виден на диаграмме рассеивания и диаграмме размаха. Выброс оказывает сильное влияние на среднее. В целом, визуально выбросов немного. Проверим числовые значения."
   ]
  },
  {
   "cell_type": "markdown",
   "id": "a2c18f15-4a14-49dc-a5c2-829943d8b902",
   "metadata": {
    "tags": []
   },
   "source": [
    "### - получим базовую статистику о стоиомости заказов"
   ]
  },
  {
   "cell_type": "code",
   "execution_count": 22,
   "id": "4b217772-2cbf-49e5-8e5c-839ed3ca7ada",
   "metadata": {},
   "outputs": [
    {
     "data": {
      "text/html": [
       "<div>\n",
       "<style scoped>\n",
       "    .dataframe tbody tr th:only-of-type {\n",
       "        vertical-align: middle;\n",
       "    }\n",
       "\n",
       "    .dataframe tbody tr th {\n",
       "        vertical-align: top;\n",
       "    }\n",
       "\n",
       "    .dataframe thead th {\n",
       "        text-align: right;\n",
       "    }\n",
       "</style>\n",
       "<table border=\"1\" class=\"dataframe\">\n",
       "  <thead>\n",
       "    <tr style=\"text-align: right;\">\n",
       "      <th></th>\n",
       "      <th>count</th>\n",
       "      <th>mean</th>\n",
       "      <th>std</th>\n",
       "      <th>min</th>\n",
       "      <th>25%</th>\n",
       "      <th>50%</th>\n",
       "      <th>75%</th>\n",
       "      <th>95%</th>\n",
       "      <th>99%</th>\n",
       "      <th>max</th>\n",
       "    </tr>\n",
       "  </thead>\n",
       "  <tbody>\n",
       "    <tr>\n",
       "      <th>revenue</th>\n",
       "      <td>1016.0</td>\n",
       "      <td>8300.814961</td>\n",
       "      <td>42121.991672</td>\n",
       "      <td>50.0</td>\n",
       "      <td>1190.0</td>\n",
       "      <td>2955.0</td>\n",
       "      <td>8134.25</td>\n",
       "      <td>26785.0</td>\n",
       "      <td>53904.0</td>\n",
       "      <td>1294500.0</td>\n",
       "    </tr>\n",
       "  </tbody>\n",
       "</table>\n",
       "</div>"
      ],
      "text/plain": [
       "          count         mean           std   min     25%     50%      75%  \\\n",
       "revenue  1016.0  8300.814961  42121.991672  50.0  1190.0  2955.0  8134.25   \n",
       "\n",
       "             95%      99%        max  \n",
       "revenue  26785.0  53904.0  1294500.0  "
      ]
     },
     "execution_count": 22,
     "metadata": {},
     "output_type": "execute_result"
    }
   ],
   "source": [
    "reporter.orders[['revenue']].describe(percentiles=[.25, .5, .75, .95, .99]).T"
   ]
  },
  {
   "cell_type": "markdown",
   "id": "e8acb343-1e45-4559-ab7e-d0e42cf90e9d",
   "metadata": {},
   "source": [
    "Почти все пользователи уложились в диапазон стоимости заказов от 50 до 53 904 рубля, со средним - 8 300 рублей. Девяносто пять процентов всех пользователей уложились в диапазон от 50 до 26 785 рублей (95-й перцентиль). Один процент заказал на сумму свыше 53 904 рублей (99-й перцентиль), кто-то заказал на 1 294 500 рублей. Избавимся от заказов дороже 26 785 (95-й перцентиль) и снова построим графики."
   ]
  },
  {
   "cell_type": "code",
   "execution_count": 23,
   "id": "60e48242-d53e-480d-b09f-32900ced601a",
   "metadata": {},
   "outputs": [
    {
     "data": {
      "image/png": "[encoded data removed]",
      "text/plain": [
       "<Figure size 1800x360 with 3 Axes>"
      ]
     },
     "metadata": {},
     "output_type": "display_data"
    }
   ],
   "source": [
    "reporter.plotter(reporter.orders.query('revenue < 26786'), 'revenue', 'Выручка')"
   ]
  },
  {
   "cell_type": "markdown",
   "id": "34cb5d95-a22c-4cd6-b9b7-2cc02939b402",
   "metadata": {},
   "source": [
    "Среднее и медиана все еще заметно разнесены, но диаграмма рассеивания и размаха показывают куда более равномерное распределение стоимости заказов. Учитывая, что данных не слишком много - дальнейшее сокращение выборки окажет негативное влияние на возможность сделать вывод."
   ]
  },
  {
   "cell_type": "markdown",
   "id": "775dccb8-1a29-4503-b064-381a2c8023a6",
   "metadata": {},
   "source": [
    "&#9889; **Выводы**\n",
    "\n",
    "1. В выручке есть выбросы, которые влияют на среднее. Выбросов немного.\n",
    "2. Минимальная сумма заказа - 50 рублей , максимальная 1 294 500 рублей.\n",
    "3. Принимая во внимание имеющиеся данные - разумно выбрать 26 785 рублей (95-й перцентиль) за верхнюю границу стоимости заказа."
   ]
  },
  {
   "cell_type": "markdown",
   "id": "2a6c6e68-d3f4-49db-9c0b-5d80eae8626a",
   "metadata": {},
   "source": [
    "[В оглавление](#TOC)"
   ]
  },
  {
   "cell_type": "markdown",
   "id": "34084e6b-9e09-4fd8-8a3a-05e94f30ff8c",
   "metadata": {},
   "source": [
    "## 4) Проведем статистические тесты<a class=\"anchor\" id=\"3_4\"></a>"
   ]
  },
  {
   "cell_type": "markdown",
   "id": "36fa5d00-b851-4cb5-892d-5362b09d2819",
   "metadata": {},
   "source": [
    "1. Тест будет проведен по полным и сокращенным данным (без выбросов).\n",
    "<br></br>    \n",
    "2. Перед проведением тестов из полных данных исключены выбросы:\n",
    "     - из выборок о заказах верхняя граница установлена на 95-ом перцентиле (2 заказа), \n",
    "     - из выборок о выручке верхняя граница установлена на 95-ом перцентиле (28 000 рублей).\n",
    "<br></br>        \n",
    "3. К полученным выборкам будет применен статистический критерий Манна-Уитни.\n",
    "<br></br>    \n",
    "4. Для полных и сокращенных данных конверсии проверим гипотезу \"Конверсии группы А и В одинаковые\":\n",
    "     - нулевую гипотезу, которую проверяет тест, сформулируем так: \"В конверсии между группами нет различий\",\n",
    "     - альтернативную гипотезу, соответственно, сформулируем так: \"В конверсии между группами есть различия\",\n",
    "     - примем уровень значимости в 5%.\n",
    "<br></br>     \n",
    "4. Для полных и сокращенных данных среднего чека проверим гипотезу \"Средние чеки группы А и В одинаковые\":\n",
    "     - нулевую гипотезу, которую проверяет тест, сформулируем так: \"Отличий в среднем чеке между группами нет\",\n",
    "     - альтернативную гипотезу, соответственно, сформулируем так: \"Отличия в среднем чеке между группами есть\",\n",
    "     - примем уровень значимости в 5%.     "
   ]
  },
  {
   "cell_type": "code",
   "execution_count": 24,
   "id": "707bcf25-12f8-4757-8c23-4db6e088344d",
   "metadata": {},
   "outputs": [
    {
     "data": {
      "text/html": [
       "<style type=\"text/css\">\n",
       "#T_50798_ th {\n",
       "  text-align: left;\n",
       "}\n",
       "#T_50798_row0_col0, #T_50798_row0_col1, #T_50798_row0_col2, #T_50798_row0_col3, #T_50798_row0_col4, #T_50798_row0_col5, #T_50798_row0_col6, #T_50798_row1_col0, #T_50798_row1_col1, #T_50798_row1_col2, #T_50798_row1_col3, #T_50798_row1_col4, #T_50798_row1_col5, #T_50798_row1_col6, #T_50798_row2_col0, #T_50798_row2_col1, #T_50798_row2_col2, #T_50798_row2_col3, #T_50798_row2_col4, #T_50798_row2_col5, #T_50798_row2_col6, #T_50798_row3_col0, #T_50798_row3_col1, #T_50798_row3_col2, #T_50798_row3_col3, #T_50798_row3_col4, #T_50798_row3_col5, #T_50798_row3_col6 {\n",
       "  text-align: left;\n",
       "}\n",
       "</style>\n",
       "<table id=\"T_50798_\">\n",
       "  <thead>\n",
       "    <tr>\n",
       "      <th class=\"blank level0\" >&nbsp;</th>\n",
       "      <th class=\"col_heading level0 col0\" >Выборка</th>\n",
       "      <th class=\"col_heading level0 col1\" >Нулевая гипотеза (Н0)</th>\n",
       "      <th class=\"col_heading level0 col2\" >Альтернативная гипотеза (Н1)</th>\n",
       "      <th class=\"col_heading level0 col3\" >alpha</th>\n",
       "      <th class=\"col_heading level0 col4\" >p-value</th>\n",
       "      <th class=\"col_heading level0 col5\" >p-value < alpha</th>\n",
       "      <th class=\"col_heading level0 col6\" >Н0/Н1</th>\n",
       "    </tr>\n",
       "  </thead>\n",
       "  <tbody>\n",
       "    <tr>\n",
       "      <th id=\"T_50798_level0_row0\" class=\"row_heading level0 row0\" >0</th>\n",
       "      <td id=\"T_50798_row0_col0\" class=\"data row0 col0\" >Конверсия по сырым</td>\n",
       "      <td id=\"T_50798_row0_col1\" class=\"data row0 col1\" >В конверсии между группами нет различий</td>\n",
       "      <td id=\"T_50798_row0_col2\" class=\"data row0 col2\" >В конверсии между группами есть различия</td>\n",
       "      <td id=\"T_50798_row0_col3\" class=\"data row0 col3\" >0.05</td>\n",
       "      <td id=\"T_50798_row0_col4\" class=\"data row0 col4\" >0.011018</td>\n",
       "      <td id=\"T_50798_row0_col5\" class=\"data row0 col5\" >True</td>\n",
       "      <td id=\"T_50798_row0_col6\" class=\"data row0 col6\" >Н1</td>\n",
       "    </tr>\n",
       "    <tr>\n",
       "      <th id=\"T_50798_level0_row1\" class=\"row_heading level0 row1\" >1</th>\n",
       "      <td id=\"T_50798_row1_col0\" class=\"data row1 col0\" >Средний чек по сырым</td>\n",
       "      <td id=\"T_50798_row1_col1\" class=\"data row1 col1\" >Отличий в среднем чеке между группами нет</td>\n",
       "      <td id=\"T_50798_row1_col2\" class=\"data row1 col2\" >Отличия в среднем чеке между группами есть</td>\n",
       "      <td id=\"T_50798_row1_col3\" class=\"data row1 col3\" >0.05</td>\n",
       "      <td id=\"T_50798_row1_col4\" class=\"data row1 col4\" >0.829491</td>\n",
       "      <td id=\"T_50798_row1_col5\" class=\"data row1 col5\" >False</td>\n",
       "      <td id=\"T_50798_row1_col6\" class=\"data row1 col6\" >Н0</td>\n",
       "    </tr>\n",
       "    <tr>\n",
       "      <th id=\"T_50798_level0_row2\" class=\"row_heading level0 row2\" >2</th>\n",
       "      <td id=\"T_50798_row2_col0\" class=\"data row2 col0\" >Конверсия по очищенным</td>\n",
       "      <td id=\"T_50798_row2_col1\" class=\"data row2 col1\" >В конверсии между группами нет различий</td>\n",
       "      <td id=\"T_50798_row2_col2\" class=\"data row2 col2\" >В конверсии между группами есть различия</td>\n",
       "      <td id=\"T_50798_row2_col3\" class=\"data row2 col3\" >0.05</td>\n",
       "      <td id=\"T_50798_row2_col4\" class=\"data row2 col4\" >0.015930</td>\n",
       "      <td id=\"T_50798_row2_col5\" class=\"data row2 col5\" >True</td>\n",
       "      <td id=\"T_50798_row2_col6\" class=\"data row2 col6\" >Н1</td>\n",
       "    </tr>\n",
       "    <tr>\n",
       "      <th id=\"T_50798_level0_row3\" class=\"row_heading level0 row3\" >3</th>\n",
       "      <td id=\"T_50798_row3_col0\" class=\"data row3 col0\" >Средний чек по очищенным</td>\n",
       "      <td id=\"T_50798_row3_col1\" class=\"data row3 col1\" >Отличий в среднем чеке между группами нет</td>\n",
       "      <td id=\"T_50798_row3_col2\" class=\"data row3 col2\" >Отличия в среднем чеке между группами есть</td>\n",
       "      <td id=\"T_50798_row3_col3\" class=\"data row3 col3\" >0.05</td>\n",
       "      <td id=\"T_50798_row3_col4\" class=\"data row3 col4\" >0.727129</td>\n",
       "      <td id=\"T_50798_row3_col5\" class=\"data row3 col5\" >False</td>\n",
       "      <td id=\"T_50798_row3_col6\" class=\"data row3 col6\" >Н0</td>\n",
       "    </tr>\n",
       "  </tbody>\n",
       "</table>\n"
      ],
      "text/plain": [
       "<pandas.io.formats.style.Styler at 0x17a2557e6c8>"
      ]
     },
     "execution_count": 24,
     "metadata": {},
     "output_type": "execute_result"
    }
   ],
   "source": [
    "tests_result = MannWhitneyU(reporter.visitors,\n",
    "                            reporter.orders,\n",
    "                            cumulated, orders_limit=1,\n",
    "                            rev_limit=26785).mannwhitneyu()\n",
    "(tests_result.style\n",
    "             .set_properties(**{'text-align': 'left'})\n",
    "             .set_table_styles([{'selector': 'th',\n",
    "                                 'props': [('text-align','left')]}])\n",
    "             .format({'alpha': \"{:.2f}\", 'p-value < alpha': bool}))"
   ]
  },
  {
   "cell_type": "markdown",
   "id": "7a26c734-a336-43d5-b425-083497e9dd44",
   "metadata": {},
   "source": [
    "&#9889; **Выводы**\n",
    "\n",
    "\n",
    "1. В отношении различий конверсии между группами А и В (и по полным, и по очищенным от аномалий выборкам), исходя из представленных данных, на уровне значимости 5% - есть основания отвергнуть нулевую гипотезу в пользу альтернативы: конверсии групп В и А имеют статистически значимые различия.\n",
    "2. В отношении разности среднего чека между группами А и В (и по полным, и по очищенным от аномалий выборкам), исходя из представленных данных, на уровне значимости 5% - нет оснований отвергнуть нулевую гипотезу в пользу альтернативы: нет статистически значимого различия по среднему чеку между группами."
   ]
  },
  {
   "cell_type": "markdown",
   "id": "4e5da33a-3264-4d9e-88d4-5085d45a2709",
   "metadata": {},
   "source": [
    "[В оглавление](#TOC)"
   ]
  },
  {
   "cell_type": "markdown",
   "id": "16e78ac3-b6f1-4e82-bf66-80eaa096e168",
   "metadata": {
    "tags": []
   },
   "source": [
    "## Выводы по итогам анализ А/В-теста<a class=\"anchor\" id=\"3_conclusion\"></a>"
   ]
  },
  {
   "cell_type": "markdown",
   "id": "a52acb20-7d0a-4cfd-b11a-661670c8899d",
   "metadata": {},
   "source": [
    "1. Есть статистически значимое различие по конверсии между группами как по полным, сырым, данным, так и после фильтрации аномалий.\n",
    "2. По полным, сырым, данным и после фильтрации аномалий нет статистически значимого различия по среднему чеку между группами. \n",
    "3. Из график различия конверсии между группами следует, что результаты группы B лучше группы A: имеют тенденцию к росту, либо зафиксировались около среднего значения. График различия среднего чека колеблется, сделать из этого графика определённые выводы нельзя.\n",
    "5. Исходя из описания задачи не представляется возможным достоврено установить, для чего проверяли гипотезы - что является приоритетным: выручка или конверсия (исходя из буквального содержания - оговорка об увеличении выручки как цели относится только к части приоретизации).\n",
    "6. В отсутствии возможности уточнить у заказчика приоритеты, на основании представленных данных, следует отметить, что тест можно признать успешным только по конверсии, статитстически значимой разницы по среднему чеку нет.\n",
    "7. Представляется, что нет возможности продолжить тест, поскольку данные о тесте уже были проанализированы, поэтому при прочих равных, рекомендовано остановить тест, признать его успешным по конверсии, неуспешным по выручке и перейти к проверке следующей гипотезы."
   ]
  },
  {
   "cell_type": "markdown",
   "id": "874a21c7-74e4-4d98-b318-357746386864",
   "metadata": {
    "tags": []
   },
   "source": [
    "# Чек-лист<a class='anchor' id='checklist'></a>"
   ]
  },
  {
   "cell_type": "markdown",
   "id": "5cc23d7a-a832-4ac2-ba99-1366ecf2b13e",
   "metadata": {},
   "source": [
    "Часть 1. Приоритизация гипотез.\n",
    "- [X] Примените фреймворк ICE для приоритизации гипотез. Отсортируйте их по убыванию приоритета.\n",
    "- [X] Примените фреймворк RICE для приоритизации гипотез. Отсортируйте их по убыванию приоритета.\n",
    "- [X] Укажите, как изменилась приоритизация гипотез при применении RICE вместо ICE. Объясните, почему так произошло.\n",
    "\n",
    "Часть 2. Анализ A/B-теста\n",
    "- [x] Постройте график кумулятивной выручки по группам.\n",
    "- [x] Постройте график кумулятивного среднего чека по группам.\n",
    "- [x] Постройте график относительного изменения кумулятивного среднего чека группы B к группе A.\n",
    "- [x] Постройте график кумулятивной конверсии по группам.\n",
    "- [x] Постройте график относительного изменения кумулятивной конверсии группы B к группе A.\n",
    "- [x] Сделайте выводы и предположения.\n",
    "<br></br>\n",
    "- [x] Постройте точечный график количества заказов по пользователям.\n",
    "- [x] Посчитайте 95-й и 99-й перцентили количества заказов на пользователя.\n",
    "- [x] Выберите границу для определения аномальных пользователей.\n",
    "- [x] Постройте точечный график стоимостей заказов.\n",
    "- [x] Посчитайте 95-й и 99-й перцентили стоимости заказов.\n",
    "- [x] Выберите границу для определения аномальных заказов.\n",
    "- [x] Сделайте выводы и предположения.\n",
    "<br></br>\n",
    "- [x] Посчитайте статистическую значимость различий в конверсии между группами по «сырым» данным.\n",
    "- [x] Посчитайте статистическую значимость различий в среднем чеке заказа между группами по «сырым» данным.\n",
    "- [x] Посчитайте статистическую значимость различий в конверсии между группами по «очищенным» данным.\n",
    "- [x] Посчитайте статистическую значимость различий в среднем чеке заказа между группами по «очищенным» данным.\n",
    "- [x] Сделайте выводы и предположения.\n",
    "<br></br>\n",
    "- [x] Примите решение по результатам теста и объясните его."
   ]
  },
  {
   "cell_type": "markdown",
   "id": "671ffdee-73cf-4918-a643-e44cc3e47292",
   "metadata": {},
   "source": [
    "[В оглавление](#TOC)"
   ]
  },
  {
   "cell_type": "markdown",
   "id": "5cc0d457-b32e-4d31-89f1-1557acd04ee4",
   "metadata": {},
   "source": [
    "<div style=\"border:solid black 2px; padding: 20px\">\n",
    "  \n",
    "    \n",
    "  <b>Чек-лист доработок</b>\n",
    "    \n",
    "  📃 Добавить краткое описание проекта.\n",
    "    \n",
    "  📃 Проверить корректность разбиения пользователей на группы.\n",
    "    \n",
    "  📃 Пересмотреть выбросы по количеству и стоимости заказов.\n",
    "    \n",
    "  📃 Откорректировать общий вывод.\n",
    "    \n",
    "  \n",
    "Жду твой проект на повторное ревью. Не стесняйся оставлять комментарии и задавать вопросы. Удачи! Все получится.\n",
    "</div>"
   ]
  }
 ],
 "metadata": {
  "kernelspec": {
   "display_name": "venv",
   "language": "python",
   "name": "venv"
  },
  "language_info": {
   "codemirror_mode": {
    "name": "ipython",
    "version": 3
   },
   "file_extension": ".py",
   "mimetype": "text/x-python",
   "name": "python",
   "nbconvert_exporter": "python",
   "pygments_lexer": "ipython3",
   "version": "3.7.9"
  }
 },
 "nbformat": 4,
 "nbformat_minor": 5
}

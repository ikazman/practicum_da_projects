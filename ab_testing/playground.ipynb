{
 "cells": [
  {
   "cell_type": "markdown",
   "id": "60884d1a-adc6-4162-bc0d-ffa6bfc617bc",
   "metadata": {},
   "source": [
    "Прочтём данные из файлов с результатами A/B-тестирования:"
   ]
  },
  {
   "cell_type": "code",
   "execution_count": 1,
   "id": "ac5f37e9-03b5-4c01-ad89-3c93329f9b2c",
   "metadata": {},
   "outputs": [],
   "source": [
    "import pandas as pd"
   ]
  },
  {
   "cell_type": "code",
   "execution_count": 2,
   "id": "4a7afece-6a42-4a99-bcf1-a6ba5d9ef109",
   "metadata": {},
   "outputs": [],
   "source": [
    "orders = pd.read_csv('datasets/orders.csv', parse_dates=['date'])"
   ]
  },
  {
   "cell_type": "code",
   "execution_count": 3,
   "id": "6de10c3e-8af2-4943-997f-d968698ffe50",
   "metadata": {},
   "outputs": [],
   "source": [
    "visitors = pd.read_csv('datasets/visitors.csv', parse_dates=['date'])"
   ]
  },
  {
   "cell_type": "code",
   "execution_count": 4,
   "id": "fec4e8b6-e82f-4a55-90ca-76169c9011eb",
   "metadata": {},
   "outputs": [
    {
     "data": {
      "text/html": [
       "<div>\n",
       "<style scoped>\n",
       "    .dataframe tbody tr th:only-of-type {\n",
       "        vertical-align: middle;\n",
       "    }\n",
       "\n",
       "    .dataframe tbody tr th {\n",
       "        vertical-align: top;\n",
       "    }\n",
       "\n",
       "    .dataframe thead th {\n",
       "        text-align: right;\n",
       "    }\n",
       "</style>\n",
       "<table border=\"1\" class=\"dataframe\">\n",
       "  <thead>\n",
       "    <tr style=\"text-align: right;\">\n",
       "      <th></th>\n",
       "      <th>transactionId</th>\n",
       "      <th>visitorId</th>\n",
       "      <th>date</th>\n",
       "      <th>revenue</th>\n",
       "      <th>group</th>\n",
       "    </tr>\n",
       "  </thead>\n",
       "  <tbody>\n",
       "    <tr>\n",
       "      <th>0</th>\n",
       "      <td>3667963787</td>\n",
       "      <td>3312258926</td>\n",
       "      <td>2019-08-15</td>\n",
       "      <td>1650</td>\n",
       "      <td>B</td>\n",
       "    </tr>\n",
       "    <tr>\n",
       "      <th>1</th>\n",
       "      <td>2804400009</td>\n",
       "      <td>3642806036</td>\n",
       "      <td>2019-08-15</td>\n",
       "      <td>730</td>\n",
       "      <td>B</td>\n",
       "    </tr>\n",
       "    <tr>\n",
       "      <th>2</th>\n",
       "      <td>2961555356</td>\n",
       "      <td>4069496402</td>\n",
       "      <td>2019-08-15</td>\n",
       "      <td>400</td>\n",
       "      <td>A</td>\n",
       "    </tr>\n",
       "    <tr>\n",
       "      <th>3</th>\n",
       "      <td>3797467345</td>\n",
       "      <td>1196621759</td>\n",
       "      <td>2019-08-15</td>\n",
       "      <td>9759</td>\n",
       "      <td>B</td>\n",
       "    </tr>\n",
       "    <tr>\n",
       "      <th>4</th>\n",
       "      <td>2282983706</td>\n",
       "      <td>2322279887</td>\n",
       "      <td>2019-08-15</td>\n",
       "      <td>2308</td>\n",
       "      <td>B</td>\n",
       "    </tr>\n",
       "    <tr>\n",
       "      <th>...</th>\n",
       "      <td>...</td>\n",
       "      <td>...</td>\n",
       "      <td>...</td>\n",
       "      <td>...</td>\n",
       "      <td>...</td>\n",
       "    </tr>\n",
       "    <tr>\n",
       "      <th>1192</th>\n",
       "      <td>2662137336</td>\n",
       "      <td>3733762160</td>\n",
       "      <td>2019-08-14</td>\n",
       "      <td>6490</td>\n",
       "      <td>B</td>\n",
       "    </tr>\n",
       "    <tr>\n",
       "      <th>1193</th>\n",
       "      <td>2203539145</td>\n",
       "      <td>370388673</td>\n",
       "      <td>2019-08-14</td>\n",
       "      <td>3190</td>\n",
       "      <td>A</td>\n",
       "    </tr>\n",
       "    <tr>\n",
       "      <th>1194</th>\n",
       "      <td>1807773912</td>\n",
       "      <td>573423106</td>\n",
       "      <td>2019-08-14</td>\n",
       "      <td>10550</td>\n",
       "      <td>A</td>\n",
       "    </tr>\n",
       "    <tr>\n",
       "      <th>1195</th>\n",
       "      <td>1947021204</td>\n",
       "      <td>1614305549</td>\n",
       "      <td>2019-08-14</td>\n",
       "      <td>100</td>\n",
       "      <td>A</td>\n",
       "    </tr>\n",
       "    <tr>\n",
       "      <th>1196</th>\n",
       "      <td>3936777065</td>\n",
       "      <td>2108080724</td>\n",
       "      <td>2019-08-15</td>\n",
       "      <td>202740</td>\n",
       "      <td>B</td>\n",
       "    </tr>\n",
       "  </tbody>\n",
       "</table>\n",
       "<p>1197 rows × 5 columns</p>\n",
       "</div>"
      ],
      "text/plain": [
       "      transactionId   visitorId       date  revenue group\n",
       "0        3667963787  3312258926 2019-08-15     1650     B\n",
       "1        2804400009  3642806036 2019-08-15      730     B\n",
       "2        2961555356  4069496402 2019-08-15      400     A\n",
       "3        3797467345  1196621759 2019-08-15     9759     B\n",
       "4        2282983706  2322279887 2019-08-15     2308     B\n",
       "...             ...         ...        ...      ...   ...\n",
       "1192     2662137336  3733762160 2019-08-14     6490     B\n",
       "1193     2203539145   370388673 2019-08-14     3190     A\n",
       "1194     1807773912   573423106 2019-08-14    10550     A\n",
       "1195     1947021204  1614305549 2019-08-14      100     A\n",
       "1196     3936777065  2108080724 2019-08-15   202740     B\n",
       "\n",
       "[1197 rows x 5 columns]"
      ]
     },
     "execution_count": 4,
     "metadata": {},
     "output_type": "execute_result"
    }
   ],
   "source": [
    "orders"
   ]
  },
  {
   "cell_type": "code",
   "execution_count": 5,
   "id": "f64ef185-3cb9-49f6-8953-19c046ef83c6",
   "metadata": {},
   "outputs": [
    {
     "data": {
      "text/html": [
       "<div>\n",
       "<style scoped>\n",
       "    .dataframe tbody tr th:only-of-type {\n",
       "        vertical-align: middle;\n",
       "    }\n",
       "\n",
       "    .dataframe tbody tr th {\n",
       "        vertical-align: top;\n",
       "    }\n",
       "\n",
       "    .dataframe thead th {\n",
       "        text-align: right;\n",
       "    }\n",
       "</style>\n",
       "<table border=\"1\" class=\"dataframe\">\n",
       "  <thead>\n",
       "    <tr style=\"text-align: right;\">\n",
       "      <th></th>\n",
       "      <th>date</th>\n",
       "      <th>group</th>\n",
       "      <th>visitors</th>\n",
       "    </tr>\n",
       "  </thead>\n",
       "  <tbody>\n",
       "    <tr>\n",
       "      <th>0</th>\n",
       "      <td>2019-08-01</td>\n",
       "      <td>A</td>\n",
       "      <td>719</td>\n",
       "    </tr>\n",
       "    <tr>\n",
       "      <th>1</th>\n",
       "      <td>2019-08-02</td>\n",
       "      <td>A</td>\n",
       "      <td>619</td>\n",
       "    </tr>\n",
       "    <tr>\n",
       "      <th>2</th>\n",
       "      <td>2019-08-03</td>\n",
       "      <td>A</td>\n",
       "      <td>507</td>\n",
       "    </tr>\n",
       "    <tr>\n",
       "      <th>3</th>\n",
       "      <td>2019-08-04</td>\n",
       "      <td>A</td>\n",
       "      <td>717</td>\n",
       "    </tr>\n",
       "    <tr>\n",
       "      <th>4</th>\n",
       "      <td>2019-08-05</td>\n",
       "      <td>A</td>\n",
       "      <td>756</td>\n",
       "    </tr>\n",
       "    <tr>\n",
       "      <th>...</th>\n",
       "      <td>...</td>\n",
       "      <td>...</td>\n",
       "      <td>...</td>\n",
       "    </tr>\n",
       "    <tr>\n",
       "      <th>57</th>\n",
       "      <td>2019-08-27</td>\n",
       "      <td>B</td>\n",
       "      <td>720</td>\n",
       "    </tr>\n",
       "    <tr>\n",
       "      <th>58</th>\n",
       "      <td>2019-08-28</td>\n",
       "      <td>B</td>\n",
       "      <td>654</td>\n",
       "    </tr>\n",
       "    <tr>\n",
       "      <th>59</th>\n",
       "      <td>2019-08-29</td>\n",
       "      <td>B</td>\n",
       "      <td>531</td>\n",
       "    </tr>\n",
       "    <tr>\n",
       "      <th>60</th>\n",
       "      <td>2019-08-30</td>\n",
       "      <td>B</td>\n",
       "      <td>490</td>\n",
       "    </tr>\n",
       "    <tr>\n",
       "      <th>61</th>\n",
       "      <td>2019-08-31</td>\n",
       "      <td>B</td>\n",
       "      <td>718</td>\n",
       "    </tr>\n",
       "  </tbody>\n",
       "</table>\n",
       "<p>62 rows × 3 columns</p>\n",
       "</div>"
      ],
      "text/plain": [
       "         date group  visitors\n",
       "0  2019-08-01     A       719\n",
       "1  2019-08-02     A       619\n",
       "2  2019-08-03     A       507\n",
       "3  2019-08-04     A       717\n",
       "4  2019-08-05     A       756\n",
       "..        ...   ...       ...\n",
       "57 2019-08-27     B       720\n",
       "58 2019-08-28     B       654\n",
       "59 2019-08-29     B       531\n",
       "60 2019-08-30     B       490\n",
       "61 2019-08-31     B       718\n",
       "\n",
       "[62 rows x 3 columns]"
      ]
     },
     "execution_count": 5,
     "metadata": {},
     "output_type": "execute_result"
    }
   ],
   "source": [
    "visitors"
   ]
  },
  {
   "cell_type": "code",
   "execution_count": 6,
   "id": "ff2f8a2a-00ba-4355-8b90-6c68f0b86e1e",
   "metadata": {
    "tags": []
   },
   "outputs": [],
   "source": [
    "from solver.ab_reporter import ABReporter"
   ]
  },
  {
   "cell_type": "code",
   "execution_count": 7,
   "id": "27952739-61cc-4f24-a5d8-cc126b21a48a",
   "metadata": {},
   "outputs": [],
   "source": [
    "example = ABReporter('datasets/visitors.csv', 'datasets/orders.csv')"
   ]
  },
  {
   "cell_type": "code",
   "execution_count": 8,
   "id": "88d2391b-e58f-4e81-a9b5-dfd965d2d461",
   "metadata": {},
   "outputs": [],
   "source": [
    "cumulated = example.grouped_summary()"
   ]
  },
  {
   "cell_type": "code",
   "execution_count": 9,
   "id": "d935d298-dbcb-46bf-80f6-9771c71a0593",
   "metadata": {},
   "outputs": [
    {
     "name": "stdout",
     "output_type": "stream",
     "text": [
      "<class 'pandas.core.frame.DataFrame'>\n",
      "Int64Index: 62 entries, 0 to 61\n",
      "Data columns (total 11 columns):\n",
      " #   Column         Non-Null Count  Dtype         \n",
      "---  ------         --------------  -----         \n",
      " 0   date           62 non-null     datetime64[ns]\n",
      " 1   group          62 non-null     object        \n",
      " 2   orders         62 non-null     int64         \n",
      " 3   buyers         62 non-null     int64         \n",
      " 4   revenue        62 non-null     int64         \n",
      " 5   revenue_cm     62 non-null     int64         \n",
      " 6   orders_cm      62 non-null     int64         \n",
      " 7   buyers_cm      62 non-null     int64         \n",
      " 8   visitors       62 non-null     int64         \n",
      " 9   visitors_cm    62 non-null     int64         \n",
      " 10  conversion_cm  62 non-null     float64       \n",
      "dtypes: datetime64[ns](1), float64(1), int64(8), object(1)\n",
      "memory usage: 5.8+ KB\n"
     ]
    }
   ],
   "source": [
    "cumulated.info()"
   ]
  },
  {
   "cell_type": "code",
   "execution_count": 10,
   "id": "cd4e873d-2967-422f-831a-feec42d6a669",
   "metadata": {},
   "outputs": [],
   "source": [
    "df = example.mannwhitneyu()"
   ]
  },
  {
   "cell_type": "code",
   "execution_count": 11,
   "id": "0035a605-1074-4317-84c3-31c1f2c6004e",
   "metadata": {},
   "outputs": [
    {
     "data": {
      "text/html": [
       "<div>\n",
       "<style scoped>\n",
       "    .dataframe tbody tr th:only-of-type {\n",
       "        vertical-align: middle;\n",
       "    }\n",
       "\n",
       "    .dataframe tbody tr th {\n",
       "        vertical-align: top;\n",
       "    }\n",
       "\n",
       "    .dataframe thead th {\n",
       "        text-align: right;\n",
       "    }\n",
       "</style>\n",
       "<table border=\"1\" class=\"dataframe\">\n",
       "  <thead>\n",
       "    <tr style=\"text-align: right;\">\n",
       "      <th></th>\n",
       "      <th>0</th>\n",
       "      <th>1</th>\n",
       "    </tr>\n",
       "  </thead>\n",
       "  <tbody>\n",
       "    <tr>\n",
       "      <th>0</th>\n",
       "      <td>Конверсия по сырым</td>\n",
       "      <td>0.016792</td>\n",
       "    </tr>\n",
       "    <tr>\n",
       "      <th>1</th>\n",
       "      <td>Средний чек по сырым</td>\n",
       "      <td>0.729291</td>\n",
       "    </tr>\n",
       "    <tr>\n",
       "      <th>2</th>\n",
       "      <td>Конверсия по очищенным</td>\n",
       "      <td>0.013043</td>\n",
       "    </tr>\n",
       "    <tr>\n",
       "      <th>3</th>\n",
       "      <td>Средний чек по очищенным</td>\n",
       "      <td>0.738482</td>\n",
       "    </tr>\n",
       "  </tbody>\n",
       "</table>\n",
       "</div>"
      ],
      "text/plain": [
       "                          0         1\n",
       "0        Конверсия по сырым  0.016792\n",
       "1      Средний чек по сырым  0.729291\n",
       "2    Конверсия по очищенным  0.013043\n",
       "3  Средний чек по очищенным  0.738482"
      ]
     },
     "execution_count": 11,
     "metadata": {},
     "output_type": "execute_result"
    }
   ],
   "source": [
    "df"
   ]
  },
  {
   "cell_type": "code",
   "execution_count": null,
   "id": "0850fd91-d818-4097-ab42-a27688ca6d19",
   "metadata": {},
   "outputs": [],
   "source": []
  },
  {
   "cell_type": "code",
   "execution_count": null,
   "id": "b7f53d1f-6c75-4b99-8561-e77b0a7e87cd",
   "metadata": {},
   "outputs": [],
   "source": []
  },
  {
   "cell_type": "code",
   "execution_count": null,
   "id": "9057a513-2da1-40e5-b68f-884b5c4281be",
   "metadata": {},
   "outputs": [],
   "source": []
  },
  {
   "cell_type": "code",
   "execution_count": null,
   "id": "bf7b058f-e443-4b86-b363-87367ad5010b",
   "metadata": {},
   "outputs": [],
   "source": [
    "visitors_a = visitors.query('group == \"A\"').groupby(['date'], as_index=False).agg({'date' : 'max',\n",
    "                                                                     'group' : 'max',\n",
    "                                                                     'visitors' : 'sum'}, axis=1)\n",
    "visitors_a['visitors'] = visitors_a['visitors'].cumsum()"
   ]
  },
  {
   "cell_type": "code",
   "execution_count": null,
   "id": "7405b9aa-0817-4134-a1fe-0f78cb00d14e",
   "metadata": {},
   "outputs": [],
   "source": [
    "visitors_a"
   ]
  },
  {
   "cell_type": "code",
   "execution_count": null,
   "id": "9d491e7f-5c7e-4bb6-9bf8-7f1d7afbf20a",
   "metadata": {},
   "outputs": [],
   "source": [
    "orders_aggregated = orders.groupby(['date','group'], as_index=False).agg({'date' : 'max',\n",
    "                                                                          'group' : 'max',\n",
    "                                                                          'transactionId' : 'nunique',\n",
    "                                                                          'visitorId' : 'nunique',\n",
    "                                                                          'revenue' : 'sum'}, axis=1)"
   ]
  },
  {
   "cell_type": "code",
   "execution_count": null,
   "id": "7c8cd5f2-7c7c-4ef7-9219-7281ce50268a",
   "metadata": {},
   "outputs": [],
   "source": [
    "visitors_a"
   ]
  },
  {
   "cell_type": "code",
   "execution_count": null,
   "id": "3adc08be-99f1-4282-8e82-738eca971629",
   "metadata": {},
   "outputs": [],
   "source": [
    "visitors_a_aggregated = visitors.query('group == \"A\"').groupby(['date'], as_index=False).agg({'date' : 'max',\n",
    "                                                                                             'group' : 'max',\n",
    "                                                                                             'visitors' : 'sum'}, axis=1)"
   ]
  },
  {
   "cell_type": "code",
   "execution_count": null,
   "id": "8483806b-4f13-4201-80be-7a0a18e2f82f",
   "metadata": {},
   "outputs": [],
   "source": [
    "def cumulate_column(df, column):\n",
    "    grouped_by_a = df[df['group'] == 'A'][column].cumsum()\n",
    "    grouped_by_b = df[df['group'] == 'B'][column].cumsum()\n",
    "    cumulated = pd.concat([grouped_by_a, grouped_by_b]).reset_index()\n",
    "    cumulated.sort_values(by='index', inplace=True)\n",
    "    return cumulated.set_index('index')"
   ]
  },
  {
   "cell_type": "code",
   "execution_count": null,
   "id": "094e2719-fa70-4654-a9e7-a62a132a7e25",
   "metadata": {},
   "outputs": [],
   "source": [
    "visitors_aggregated = visitors.groupby(['date','group'], as_index=False).agg({'date' : 'max',\n",
    "                                                                              'group' : 'max',\n",
    "                                                                              'visitors' : 'sum'}, axis=1)"
   ]
  },
  {
   "cell_type": "code",
   "execution_count": null,
   "id": "01d9600b-b443-4689-8e04-9391935060ad",
   "metadata": {},
   "outputs": [],
   "source": [
    "orders_aggregated = orders.groupby(['date','group'], as_index=False).agg({'date' : 'max',\n",
    "                                                                          'group' : 'max',\n",
    "                                                                          'transactionId' : 'nunique',\n",
    "                                                                          'visitorId' : 'nunique',\n",
    "                                                                          'revenue' : 'sum'}, axis=1)"
   ]
  },
  {
   "cell_type": "code",
   "execution_count": null,
   "id": "25d334ef-34c9-48eb-9be5-1ae3243aaa3f",
   "metadata": {},
   "outputs": [],
   "source": [
    "visitors_aggregated"
   ]
  },
  {
   "cell_type": "code",
   "execution_count": null,
   "id": "e383b26e-ed84-451c-bd18-1fe208c3f92f",
   "metadata": {},
   "outputs": [],
   "source": [
    "orders_aggregated"
   ]
  },
  {
   "cell_type": "code",
   "execution_count": null,
   "id": "a4d4c384-c92f-4f4d-b912-f950dd9b3528",
   "metadata": {},
   "outputs": [],
   "source": [
    "cumulate_column(visitors_aggregated, 'visitors')"
   ]
  },
  {
   "cell_type": "code",
   "execution_count": null,
   "id": "19af4bbd-1d68-4daa-ab87-b4233e16d620",
   "metadata": {},
   "outputs": [],
   "source": [
    "cumulate_column(orders_aggregated, 'revenue')"
   ]
  },
  {
   "cell_type": "code",
   "execution_count": null,
   "id": "f6cea5ec-6edd-49d4-b285-3e77b43dd3fb",
   "metadata": {},
   "outputs": [],
   "source": [
    "visitors_aggregated['visitors'] = cumulate_column(visitors_aggregated, 'visitors')\n",
    "orders_aggregated['transactionId'] = cumulate_column(orders_aggregated, 'transactionId')\n",
    "orders_aggregated['visitorId'] = cumulate_column(orders_aggregated, 'visitorId')"
   ]
  },
  {
   "cell_type": "code",
   "execution_count": null,
   "id": "10de2bb5-97a7-4b33-ab9a-865ff2507bf5",
   "metadata": {},
   "outputs": [],
   "source": [
    "visitors_aggregated"
   ]
  },
  {
   "cell_type": "code",
   "execution_count": null,
   "id": "50c0f150-812a-45cd-ba7a-313b28262bf3",
   "metadata": {},
   "outputs": [],
   "source": [
    "orders_aggregated"
   ]
  },
  {
   "cell_type": "code",
   "execution_count": null,
   "id": "ef88fef2-4260-4116-a010-298fe9051b2c",
   "metadata": {},
   "outputs": [],
   "source": [
    "cumulativeData = orders_aggregated.merge(visitors_aggregated, left_on=['date', 'group'], right_on=['date', 'group'])\n",
    "cumulativeData.columns = ['date', 'group', 'orders', 'buyers', 'revenue', 'visitors']\n",
    "\n",
    "cumulativeData.head(11)"
   ]
  },
  {
   "cell_type": "code",
   "execution_count": null,
   "id": "56d2c871-5fca-4146-a923-1b3bcac10662",
   "metadata": {},
   "outputs": [],
   "source": [
    "cumulativeData = orders_aggregated.merge(visitors_aggregated)\n",
    "cumulativeData.columns = ['date', 'group', 'orders', 'buyers', 'revenue', 'visitors']\n",
    "\n",
    "cumulativeData"
   ]
  },
  {
   "cell_type": "code",
   "execution_count": null,
   "id": "3b31c563-8b22-49c4-ab82-af1ed5bb370e",
   "metadata": {},
   "outputs": [],
   "source": [
    "visitors[visitors['date'] == '2019-08-05']"
   ]
  },
  {
   "cell_type": "code",
   "execution_count": null,
   "id": "7c8a3b7c-072f-4b37-9f5f-1a9ab6fb5d1d",
   "metadata": {},
   "outputs": [],
   "source": [
    "orders[orders['date'] == '2019-08-05'].count()"
   ]
  },
  {
   "cell_type": "code",
   "execution_count": null,
   "id": "c4554d6d-1059-456b-aa65-ead307abcbe8",
   "metadata": {},
   "outputs": [],
   "source": [
    "temp = orders[orders['date'] == '2019-08-05']"
   ]
  },
  {
   "cell_type": "code",
   "execution_count": null,
   "id": "2d136c11-d6ea-4233-a101-eda0d44316d4",
   "metadata": {},
   "outputs": [],
   "source": [
    "temp.groupby(['date'], as_index=False).agg({'date' : 'max',\n",
    "                                            'group' : 'max',\n",
    "                                            'transactionId' : 'nunique',\n",
    "                                            'visitorId' : 'nunique',\n",
    "                                            'revenue' : 'sum'}, axis=1)"
   ]
  },
  {
   "cell_type": "code",
   "execution_count": null,
   "id": "db25173f-692d-4c0d-a714-4f5dc28c3ed1",
   "metadata": {},
   "outputs": [],
   "source": [
    "import matplotlib.pyplot as plt\n",
    "\n",
    "# датафрейм с кумулятивным количеством заказов и кумулятивной выручкой по дням в группе А\n",
    "cumulativeRevenueA = cumulativeData[cumulativeData['group']=='A'][['date','revenue', 'orders']]\n",
    "\n",
    "# датафрейм с кумулятивным количеством заказов и кумулятивной выручкой по дням в группе B\n",
    "cumulativeRevenueB = cumulativeData[cumulativeData['group']=='B'][['date','revenue', 'orders']]\n",
    "\n",
    "# Строим график выручки группы А\n",
    "plt.plot(cumulativeRevenueA['date'], cumulativeRevenueA['revenue'], label='A')\n",
    "\n",
    "# Строим график выручки группы B\n",
    "plt.plot(cumulativeRevenueB['date'], cumulativeRevenueB['revenue'], label='B')\n",
    "\n",
    "plt.legend()"
   ]
  },
  {
   "cell_type": "code",
   "execution_count": null,
   "id": "1c86e9ab-2439-48c9-bd67-28c24710d12e",
   "metadata": {
    "tags": []
   },
   "outputs": [],
   "source": [
    "from solver.ab_reporter import ABReporter"
   ]
  },
  {
   "cell_type": "code",
   "execution_count": null,
   "id": "1241fcf9-5121-4085-86c7-25d027afe347",
   "metadata": {},
   "outputs": [],
   "source": [
    "example = ABReporter('datasets/visitors.csv', 'datasets/orders.csv')"
   ]
  },
  {
   "cell_type": "code",
   "execution_count": null,
   "id": "53b1824c-2160-430e-869c-ac45369252d9",
   "metadata": {},
   "outputs": [],
   "source": [
    "cumulated = example.grouped_summary()"
   ]
  },
  {
   "cell_type": "code",
   "execution_count": null,
   "id": "24d0533a-9021-4dbc-bd3f-c583c02298f8",
   "metadata": {},
   "outputs": [],
   "source": [
    "cumulated.info()"
   ]
  },
  {
   "cell_type": "code",
   "execution_count": null,
   "id": "de2cbf93-1765-4dba-886c-207d053eb282",
   "metadata": {},
   "outputs": [],
   "source": [
    "example.mannwhitneyu()"
   ]
  },
  {
   "cell_type": "code",
   "execution_count": null,
   "id": "521cd0fd-d9a4-44fb-87b8-6fd06ede2c40",
   "metadata": {},
   "outputs": [],
   "source": []
  },
  {
   "cell_type": "code",
   "execution_count": null,
   "id": "3b48409e-4200-4351-bcea-7d635e32a59d",
   "metadata": {},
   "outputs": [],
   "source": []
  },
  {
   "cell_type": "code",
   "execution_count": null,
   "id": "177ec670-6667-4d1d-ad41-1d1a70e99ec6",
   "metadata": {},
   "outputs": [],
   "source": []
  },
  {
   "cell_type": "code",
   "execution_count": null,
   "id": "72ed732b-3871-43bb-987b-72164d4c9da3",
   "metadata": {},
   "outputs": [],
   "source": [
    "    cumulated_copy = cumulated.copy()\n",
    "    # cumulated_copy['date'] = cumulated_copy['date'].dt.date"
   ]
  },
  {
   "cell_type": "code",
   "execution_count": null,
   "id": "0c217738-9993-4617-9927-925d56270e94",
   "metadata": {},
   "outputs": [],
   "source": [
    "cumulated_copy['date'] = cumulated_copy['date'].dt.date"
   ]
  },
  {
   "cell_type": "code",
   "execution_count": null,
   "id": "341b7959-9380-4f39-8dd2-751154766a07",
   "metadata": {},
   "outputs": [],
   "source": [
    "cumulated_copy.info()"
   ]
  },
  {
   "cell_type": "code",
   "execution_count": null,
   "id": "a4f22c4a-4674-4356-832c-525bdd5c7eb5",
   "metadata": {},
   "outputs": [],
   "source": [
    "def plot_cumulative_metrics():\n",
    "    \"\"\"Функция для визуализации кумулятивных метрик.\"\"\"\n",
    "    plt.figure(figsize=(25, 10))\n",
    "    plt.style.use('seaborn-darkgrid')\n",
    "    \n",
    "    columns_to_pick = ['date','revenue', 'orders', 'conversion']\n",
    "    cumulated_copy = cumulated.copy()\n",
    "    cumulated_copy['date'] = cumulated_copy['date'].dt.date\n",
    "    revenue_a = cumulated_copy.query('group == \"A\"')[columns_to_pick]\n",
    "    revenue_b = cumulated_copy.query('group == \"B\"')[columns_to_pick]\n",
    "    merged_revenues = revenue_a.merge(revenue_b, left_on='date', right_on='date', how='left', suffixes=['A', 'B'])\n",
    "    \n",
    "\n",
    "    # кривые удержания платящих пользователей\n",
    "    ax1 = plt.subplot(2, 3, 1)\n",
    "    plt.plot(revenue_a['date'], revenue_a['revenue'], label='группа A')\n",
    "    plt.plot(revenue_b['date'], revenue_b['revenue'], label='группа B')\n",
    "    ax1.set_xticks(revenue_a['date'][::7])\n",
    "    ax1.set_xticklabels(revenue_a['date'][::7])\n",
    "    plt.legend()\n",
    "    plt.ylabel('Выручка')\n",
    "    plt.xlabel('Лайфтайм')\n",
    "    plt.title('Графики кумулятивной выручки по дням и группам')\n",
    "    \n",
    "    ax2 = plt.subplot(2, 3, 2, sharex=ax1)    \n",
    "    plt.plot(revenue_a['date'], revenue_a['revenue']/revenue_a['orders'], label='A')\n",
    "    plt.plot(revenue_b['date'], revenue_b['revenue']/revenue_b['orders'], label='B')\n",
    "    plt.legend()\n",
    "    plt.ylabel('Средняя сумма чека')\n",
    "    plt.xlabel('Лайфтайм')\n",
    "    plt.title('Графики среднего чека по группам')\n",
    "              \n",
    "    ax3 = plt.subplot(2, 3, 3, sharex=ax1)   \n",
    "    plt.plot(merged_revenues['date'], (merged_revenues['revenueB']/merged_revenues['ordersB'])/(merged_revenues['revenueA']/merged_revenues['ordersA'])-1)\n",
    "    plt.axhline(y=0, color='black', linestyle='--')\n",
    "    plt.ylabel('Отношение средних чеков')\n",
    "    plt.xlabel('Лайфтайм')\n",
    "    plt.title('График относительного различия для среднего чека')\n",
    "\n",
    "\n",
    "    ax4 = plt.subplot(2, 3, 4, sharex=ax1)\n",
    "    plt.plot(revenue_a['date'], revenue_a['conversion'], label='A')\n",
    "    plt.plot(revenue_b['date'], revenue_b['conversion'], label='B')\n",
    "    plt.legend()\n",
    "    plt.ylabel('Конверсия')\n",
    "    plt.xlabel('Лайфтайм')\n",
    "    plt.title('График кумулятивной конверсии')\n",
    "    \n",
    "    ax5 = plt.subplot(2, 3, 5, sharex=ax1)\n",
    "    plt.plot(merged_revenues['date'], merged_revenues['conversionB']/merged_revenues['conversionA']-1)\n",
    "    plt.axhline(y=0, color='black', linestyle='--')\n",
    "    plt.axhline(y=-0.1, color='grey', linestyle='--')\n",
    "    plt.title('Относительный прирост конверсии группы B относительно группы A')\n",
    "    plt.tight_layout()\n",
    "    plt.show()"
   ]
  },
  {
   "cell_type": "code",
   "execution_count": null,
   "id": "f33236f9-e31f-4f0f-a933-0ef8666b3200",
   "metadata": {},
   "outputs": [],
   "source": [
    "plot_cumulative_metrics()"
   ]
  },
  {
   "cell_type": "code",
   "execution_count": null,
   "id": "63ae67a2-2201-41de-86ab-76faeed90fd0",
   "metadata": {},
   "outputs": [],
   "source": [
    "cumulated.groupby(['group', 'date'])['revenue'].sum().plot()"
   ]
  },
  {
   "cell_type": "code",
   "execution_count": null,
   "id": "04137b1c-9a88-4c53-bd4b-62be1384cad5",
   "metadata": {},
   "outputs": [],
   "source": [
    "example.plot_cumulative_metrics()"
   ]
  },
  {
   "cell_type": "code",
   "execution_count": null,
   "id": "6b24cb7a-4af3-4a6a-ac87-89078b2e77cd",
   "metadata": {},
   "outputs": [],
   "source": [
    "columns_to_pick = ['date','revenue', 'orders']\n",
    "conversion_hist = cumulated[columns_to_pick]"
   ]
  },
  {
   "cell_type": "code",
   "execution_count": null,
   "id": "927368a1-ba9e-4775-a766-8cf0980212ea",
   "metadata": {},
   "outputs": [],
   "source": [
    "cumulated"
   ]
  },
  {
   "cell_type": "code",
   "execution_count": null,
   "id": "6139602b-cd0e-4243-ab18-220eea541205",
   "metadata": {},
   "outputs": [],
   "source": [
    "cumulated[['revenue']].plot()"
   ]
  },
  {
   "cell_type": "code",
   "execution_count": null,
   "id": "29f10719-ff00-4ca5-9b78-7d88008788c4",
   "metadata": {},
   "outputs": [],
   "source": [
    "columns = [name for name in conversion_hist.index.names\n",
    "           if name not in ['date']]\n",
    "filtered_data = conversion_hist.pivot_table(\n",
    "    index='date')"
   ]
  },
  {
   "cell_type": "code",
   "execution_count": null,
   "id": "c6bf6221-aaf6-4450-bc6e-47931b39e934",
   "metadata": {},
   "outputs": [],
   "source": [
    "filtered_data"
   ]
  },
  {
   "cell_type": "code",
   "execution_count": null,
   "id": "763ceb75-3f55-4cb3-bd77-188e13746dc4",
   "metadata": {},
   "outputs": [],
   "source": []
  },
  {
   "cell_type": "code",
   "execution_count": null,
   "id": "9b02abcb-e22e-41ba-adcb-c34698ff4438",
   "metadata": {},
   "outputs": [],
   "source": []
  },
  {
   "cell_type": "markdown",
   "id": "b5f52cfb-7fbe-4509-a465-f1e87952a28a",
   "metadata": {},
   "source": [
    "Аналогично получим агрегированные кумулятивные по дням данные о посетителях интернет-магазина:\n"
   ]
  },
  {
   "cell_type": "code",
   "execution_count": null,
   "id": "95402316-5584-4947-8101-b7dd9b7ef78e",
   "metadata": {},
   "outputs": [],
   "source": []
  },
  {
   "cell_type": "code",
   "execution_count": null,
   "id": "fce423dc-6573-48be-9020-2713b41a1fcc",
   "metadata": {},
   "outputs": [],
   "source": [
    "df = visitors.groupby(['date','group'], as_index=False).agg({'date' : 'max',\n",
    "                                                        'group' : 'max',\n",
    "                                                        'visitors' : 'sum'}, axis=1).sort_values(by=['date','group'])"
   ]
  },
  {
   "cell_type": "code",
   "execution_count": null,
   "id": "c81b4ed6-2c7a-4498-ab9e-5b06549c1cd7",
   "metadata": {},
   "outputs": [],
   "source": []
  },
  {
   "cell_type": "code",
   "execution_count": null,
   "id": "b5ebdc73-a676-41c8-9b1d-beed4f868d05",
   "metadata": {},
   "outputs": [],
   "source": [
    "orders.boxplot('revenue')\n",
    "plt.xlimit=2000"
   ]
  },
  {
   "cell_type": "code",
   "execution_count": null,
   "id": "5888aa8a-5049-428b-ade8-06830648164b",
   "metadata": {},
   "outputs": [],
   "source": [
    "import seaborn as sns"
   ]
  },
  {
   "cell_type": "code",
   "execution_count": null,
   "id": "4ee7355d-dc3a-4107-b63f-2af1cfcbe274",
   "metadata": {},
   "outputs": [],
   "source": [
    "plt.figure(figsize=(25, 5))\n",
    "x_values = pd.Series(range(0, len(orders['revenue'])))\n",
    "ax1 = plt.subplot(1, 3, 1)\n",
    "sns.histplot(data=orders, x='revenue')\n",
    "ax1.axvline(orders['revenue'].median(),linestyle = '--', color = '#FF1493', label = 'median')\n",
    "ax1.axvline(orders['revenue'].mean(),linestyle = '--', color = 'orange', label = 'mean')\n",
    "ax1.axvline(orders['revenue'].quantile(0.1),linestyle = '--', color = 'yellow', label = '1%')\n",
    "ax1.axvline(orders['revenue'].quantile(0.99),linestyle = '--', color = 'yellow', label = '99%')\n",
    "plt.ylabel('Число пользователей')\n",
    "plt.xlabel('Сумма')\n",
    "plt.title('Распределение выручки')\n",
    "\n",
    "ax2 = plt.subplot(1, 3, 2)\n",
    "sns.scatterplot(ax=ax2, x=x_values, y=orders['revenue'], hue=orders['revenue'], size=orders['revenue'], sizes=(1, 200), linewidth=0, data=orders)\n",
    "plt.legend()\n",
    "plt.ylabel('Сумма выручки')\n",
    "plt.xlabel('Пользователи')\n",
    "plt.title('Диаграмма рассеивания для выручки')\n",
    "\n",
    "ax = plt.subplot(1, 3, 3)\n",
    "sns.boxplot(x=orders['revenue'])\n",
    "plt.xlabel('Выручка')\n",
    "plt.title('Диаграмма размаха для выручки')"
   ]
  },
  {
   "cell_type": "code",
   "execution_count": null,
   "id": "7f815a7a-7234-4bdd-b345-a485a55eb06c",
   "metadata": {},
   "outputs": [],
   "source": [
    "def plotter(data, column):\n",
    "    plt.figure(figsize=(25, 5))\n",
    "\n",
    "    ax1 = plt.subplot(1, 3, 1)\n",
    "    sns.histplot(data=data, x=column)\n",
    "    ax1.axvline(data[column].median(),linestyle = '--', color = '#FF1493', label = 'median')\n",
    "    ax1.axvline(data[column].mean(),linestyle = '--', color = 'orange', label = 'mean')\n",
    "    ax1.axvline(data[column].quantile(0.1),linestyle = '--', color = 'yellow', label = '1%')\n",
    "    ax1.axvline(data[column].quantile(0.99),linestyle = '--', color = 'yellow', label = '99%')\n",
    "    plt.ylabel('Число пользователей')\n",
    "    plt.xlabel('Сумма')\n",
    "    plt.title('Распределение выручки')\n",
    "\n",
    "    ax2 = plt.subplot(1, 3, 2)\n",
    "    sns.scatterplot(ax=ax2, x=x_values, y=data[column], hue=data[column], size=data[column], sizes=(1, 200), linewidth=0, data=data)\n",
    "    plt.legend()\n",
    "    plt.ylabel('Сумма выручки')\n",
    "    plt.xlabel('Пользователи')\n",
    "    plt.title('Диаграмма рассеивания для выручки')\n",
    "\n",
    "    ax = plt.subplot(1, 3, 3)\n",
    "    sns.boxplot(x=data[column])\n",
    "    plt.xlabel('Выручка')\n",
    "    plt.title('Диаграмма размаха для выручки')\n",
    "    plt.tight_layout()\n",
    "    plt.show()"
   ]
  },
  {
   "cell_type": "code",
   "execution_count": null,
   "id": "5b06e937-84b6-4965-accd-6049e1e7d633",
   "metadata": {},
   "outputs": [],
   "source": [
    "plotter(orders, 'revenue')"
   ]
  },
  {
   "cell_type": "code",
   "execution_count": null,
   "id": "6e6760a2-14db-4bc7-83c9-fc83eaebc38e",
   "metadata": {},
   "outputs": [],
   "source": [
    "plotter(orders.query('revenue < 700'), 'revenue')"
   ]
  },
  {
   "cell_type": "code",
   "execution_count": null,
   "id": "b93feae1-a6fe-4ada-960a-ba5a7c9313ca",
   "metadata": {},
   "outputs": [],
   "source": [
    "orders"
   ]
  },
  {
   "cell_type": "code",
   "execution_count": null,
   "id": "8ab1ddb7-a981-4570-b67f-4197bf2a70cb",
   "metadata": {},
   "outputs": [],
   "source": [
    "ordersByUsers = (\n",
    "    orders.groupby('visitorId', as_index=False)\n",
    "    .agg({'transactionId': 'nunique'})\n",
    ")\n",
    "\n",
    "ordersByUsers.columns = ['userId', 'orders']\n",
    "\n",
    "print(ordersByUsers.sort_values(by='orders', ascending=False).head(10)) "
   ]
  },
  {
   "cell_type": "code",
   "execution_count": null,
   "id": "fcb141b4-9906-4375-abfd-37a08fa33154",
   "metadata": {},
   "outputs": [],
   "source": [
    "ordersByUsers"
   ]
  },
  {
   "cell_type": "code",
   "execution_count": null,
   "id": "756f9bbb-a64e-49d2-8158-1e224ae014e6",
   "metadata": {},
   "outputs": [],
   "source": [
    "plotter(ordersByUsers, 'orders')"
   ]
  },
  {
   "cell_type": "code",
   "execution_count": null,
   "id": "9bb4c492-13b5-43da-bd9c-931cbb374943",
   "metadata": {},
   "outputs": [],
   "source": [
    "import pandas as pd\n",
    "import scipy.stats as stats\n",
    "import datetime as dt\n",
    "import numpy as np\n",
    "\n",
    "visitors = pd.read_csv('datasets/visitors.csv')\n",
    "\n",
    "orders = pd.read_csv('datasets/orders.csv')\n",
    "\n",
    "visitorsADaily = visitors[visitors['group'] == 'A'][['date', 'visitors']]\n",
    "visitorsADaily.columns = ['date', 'visitorsPerDateA']\n",
    "\n",
    "visitorsACummulative = visitorsADaily.apply(\n",
    "    lambda x: visitorsADaily[visitorsADaily['date'] <= x['date']].agg(\n",
    "        {'date': 'max', 'visitorsPerDateA': 'sum'}\n",
    "    ),\n",
    "    axis=1,\n",
    ")\n",
    "visitorsACummulative.columns = ['date', 'visitorsCummulativeA']\n",
    "\n",
    "visitorsBDaily = visitors[visitors['group'] == 'B'][['date', 'visitors']]\n",
    "visitorsBDaily.columns = ['date', 'visitorsPerDateB']\n",
    "\n",
    "visitorsBCummulative = visitorsBDaily.apply(\n",
    "    lambda x: visitorsBDaily[visitorsBDaily['date'] <= x['date']].agg(\n",
    "        {'date': 'max', 'visitorsPerDateB': 'sum'}\n",
    "    ),\n",
    "    axis=1,\n",
    ")\n",
    "visitorsBCummulative.columns = ['date', 'visitorsCummulativeB']\n",
    "\n",
    "ordersADaily = (\n",
    "    orders[orders['group'] == 'A'][['date', 'transactionId', 'visitorId', 'revenue']]\n",
    "    .groupby('date', as_index=False)\n",
    "    .agg({'transactionId': pd.Series.nunique, 'revenue': 'sum'})\n",
    ")\n",
    "ordersADaily.columns = ['date', 'ordersPerDateA', 'revenuePerDateA']\n",
    "\n",
    "ordersACummulative = ordersADaily.apply(\n",
    "    lambda x: ordersADaily[ordersADaily['date'] <= x['date']].agg(\n",
    "        {'date': 'max', 'ordersPerDateA': 'sum', 'revenuePerDateA': 'sum'}\n",
    "    ),\n",
    "    axis=1,\n",
    ").sort_values(by=['date'])\n",
    "ordersACummulative.columns = [\n",
    "    'date',\n",
    "    'ordersCummulativeA',\n",
    "    'revenueCummulativeA',\n",
    "]\n",
    "\n",
    "ordersBDaily = (\n",
    "    orders[orders['group'] == 'B'][['date', 'transactionId', 'visitorId', 'revenue']]\n",
    "    .groupby('date', as_index=False)\n",
    "    .agg({'transactionId': pd.Series.nunique, 'revenue': 'sum'})\n",
    ")\n",
    "ordersBDaily.columns = ['date', 'ordersPerDateB', 'revenuePerDateB']\n",
    "\n",
    "ordersBCummulative = ordersBDaily.apply(\n",
    "    lambda x: ordersBDaily[ordersBDaily['date'] <= x['date']].agg(\n",
    "        {'date': 'max', 'ordersPerDateB': 'sum', 'revenuePerDateB': 'sum'}\n",
    "    ),\n",
    "    axis=1,\n",
    ").sort_values(by=['date'])\n",
    "ordersBCummulative.columns = [\n",
    "    'date',\n",
    "    'ordersCummulativeB',\n",
    "    'revenueCummulativeB',\n",
    "]\n",
    "\n",
    "data = (\n",
    "    ordersADaily.merge(\n",
    "        ordersBDaily, left_on='date', right_on='date', how='left'\n",
    "    )\n",
    "    .merge(ordersACummulative, left_on='date', right_on='date', how='left')\n",
    "    .merge(ordersBCummulative, left_on='date', right_on='date', how='left')\n",
    "    .merge(visitorsADaily, left_on='date', right_on='date', how='left')\n",
    "    .merge(visitorsBDaily, left_on='date', right_on='date', how='left')\n",
    "    .merge(visitorsACummulative, left_on='date', right_on='date', how='left')\n",
    "    .merge(visitorsBCummulative, left_on='date', right_on='date', how='left')\n",
    ")\n",
    "\n",
    "print(data.head(5))\n",
    "\n",
    "ordersByUsersA = (\n",
    "    orders[orders['group'] == 'A']\n",
    "    .groupby('visitorId', as_index=False)\n",
    "    .agg({'transactionId': pd.Series.nunique})\n",
    ")\n",
    "ordersByUsersA.columns = ['userId', 'orders']\n",
    "\n",
    "ordersByUsersB = (\n",
    "    orders[orders['group'] == 'B']\n",
    "    .groupby('visitorId', as_index=False)\n",
    "    .agg({'transactionId': pd.Series.nunique})\n",
    ")\n",
    "ordersByUsersB.columns = ['userId', 'orders']\n",
    "\n",
    "sampleA = pd.concat([ordersByUsersA['orders'],pd.Series(0,index=np.arange(data['visitorsPerDateA'].sum() - len(ordersByUsersA['orders'])),name='orders'),],axis=0,)\n",
    "\n",
    "sampleB = pd.concat(\n",
    "    [\n",
    "        ordersByUsersB['orders'],\n",
    "        pd.Series(\n",
    "            0,\n",
    "            index=np.arange(\n",
    "                data['visitorsPerDateB'].sum() - len(ordersByUsersB['orders'])\n",
    "            ),\n",
    "            name='orders',\n",
    "        ),\n",
    "    ],\n",
    "    axis=0,\n",
    ")\n",
    "print(\"{0:.5f}\".format(stats.mannwhitneyu(sampleA, sampleB)[1]))\n",
    "print(\"{0:.3f}\".format((data['ordersPerDateB'].sum()/data['visitorsPerDateB'].sum())/(data['ordersPerDateA'].sum()/data['visitorsPerDateA'].sum())-1))\n"
   ]
  },
  {
   "cell_type": "code",
   "execution_count": null,
   "id": "955f4966-9988-4bac-a6b1-287ec508470a",
   "metadata": {},
   "outputs": [],
   "source": [
    "df"
   ]
  },
  {
   "cell_type": "code",
   "execution_count": null,
   "id": "095b8456-bc9f-408b-98ca-e69c6dbe8a41",
   "metadata": {},
   "outputs": [],
   "source": [
    "sampleA"
   ]
  },
  {
   "cell_type": "code",
   "execution_count": null,
   "id": "16ea804b-3dc2-41da-b9a3-c4dfed612bad",
   "metadata": {},
   "outputs": [],
   "source": [
    "data"
   ]
  },
  {
   "cell_type": "code",
   "execution_count": null,
   "id": "6a87c9c4-137e-4ab7-b110-964aa9b49aff",
   "metadata": {},
   "outputs": [],
   "source": [
    "cumulated"
   ]
  },
  {
   "cell_type": "code",
   "execution_count": null,
   "id": "641effdc-dd5a-4aab-bdc3-fc3f2d834d69",
   "metadata": {},
   "outputs": [],
   "source": [
    "ordersByUsersA = (\n",
    "    orders[orders['group'] == 'A']\n",
    "    .groupby('visitorId', as_index=False)\n",
    "    .agg({'transactionId': pd.Series.nunique})\n",
    ")\n",
    "ordersByUsersA.columns = ['userId', 'orders']\n",
    "\n",
    "ordersByUsersB = (\n",
    "    orders[orders['group'] == 'B']\n",
    "    .groupby('visitorId', as_index=False)\n",
    "    .agg({'transactionId': pd.Series.nunique})\n",
    ")\n",
    "ordersByUsersB.columns = ['userId', 'orders']"
   ]
  },
  {
   "cell_type": "code",
   "execution_count": null,
   "id": "ba73b81e-5500-4d2c-8dc8-5d08d35b65d6",
   "metadata": {},
   "outputs": [],
   "source": [
    "ordersByUsersA"
   ]
  },
  {
   "cell_type": "code",
   "execution_count": null,
   "id": "5e7247ef-c158-4998-a7cb-3871f1262cb2",
   "metadata": {},
   "outputs": [],
   "source": [
    "ordersByUsersB"
   ]
  },
  {
   "cell_type": "code",
   "execution_count": null,
   "id": "9a619c5d-e476-4a1c-a6e7-86b8745a1838",
   "metadata": {},
   "outputs": [],
   "source": [
    "pd.Series(0, index=np.arange(data['visitorsPerDateA'].sum() - len(ordersByUsersA['orders'])))"
   ]
  },
  {
   "cell_type": "code",
   "execution_count": null,
   "id": "879722d5-adcc-44cd-8b7b-4c0f4db7d2bf",
   "metadata": {},
   "outputs": [],
   "source": [
    "list_of_shit = pd.Series(0, index=np.arange(data['visitorsPerDateA'].sum() - len(ordersByUsersA['orders'])))"
   ]
  },
  {
   "cell_type": "code",
   "execution_count": null,
   "id": "26b6f3a2-c002-4b6f-9ac0-d24eb94fc94c",
   "metadata": {},
   "outputs": [],
   "source": [
    "pd.concat([ordersByUsersA['orders'], list_of_shit])[499]"
   ]
  },
  {
   "cell_type": "code",
   "execution_count": null,
   "id": "dd8be7d2-4200-4a9e-ab11-9ede49c1a8e7",
   "metadata": {},
   "outputs": [],
   "source": [
    "orders.query('group == \"B\"')"
   ]
  },
  {
   "cell_type": "code",
   "execution_count": null,
   "id": "3d489439-4ad4-471f-b702-1ed952418409",
   "metadata": {},
   "outputs": [],
   "source": [
    "np.arange(data['visitorsPerDateB'].sum() - len(ordersByUsersB['orders']))"
   ]
  },
  {
   "cell_type": "code",
   "execution_count": null,
   "id": "704edbc2-4175-4910-89bc-26b5c41677ad",
   "metadata": {},
   "outputs": [],
   "source": [
    "import pandas as pd\n",
    "import scipy.stats as stats\n",
    "import datetime as dt\n",
    "import numpy as np"
   ]
  },
  {
   "cell_type": "code",
   "execution_count": null,
   "id": "16747cd6-9f16-4cd0-a63f-866282f6cfb4",
   "metadata": {},
   "outputs": [],
   "source": [
    "sampleA = pd.concat([ordersByUsersA['orders'],pd.Series(0,index=np.arange(data['visitorsPerDateA'].sum() - len(ordersByUsersA['orders'])),name='orders'),],axis=0,)\n",
    "\n",
    "sampleB = pd.concat([ordersByUsersB['orders'], pd.Series(0,index=np.arange(data['visitorsPerDateB'].sum() - len(ordersByUsersB['orders'])), name='orders', ),], axis=0,\n",
    ")"
   ]
  },
  {
   "cell_type": "code",
   "execution_count": null,
   "id": "e24f0050-a59e-4119-aaee-87cbe589b74c",
   "metadata": {},
   "outputs": [],
   "source": [
    "orders.query('group == \"A\"').groupby('visitorId', as_index=False).agg({'transactionId': 'count'})"
   ]
  },
  {
   "cell_type": "code",
   "execution_count": null,
   "id": "4200aec1-a11b-427f-bd54-87d88c03325c",
   "metadata": {},
   "outputs": [],
   "source": [
    "def mannwhitneyu():\n",
    "    columns = ['userId', 'orders']\n",
    "    orders_by_a = (orders.query('group == \"A\"').groupby('visitorId', as_index=False).agg({'transactionId': pd.Series.nunique}))\n",
    "    orders_by_b = (orders.query('group == \"B\"').groupby('visitorId', as_index=False).agg({'transactionId': pd.Series.nunique}))\n",
    "    \n",
    "    result = stats.mannwhitneyu(sampleA, sampleB)\n",
    "    ratio = (data['ordersPerDateB'].sum()/data['visitorsPerDateB'].sum())/(data['ordersPerDateA'].sum()/data['visitorsPerDateA'].sum())-1\n",
    "    print(f'{result[1]:.5f}')\n",
    "    print(f'{ratio:.3f}')"
   ]
  },
  {
   "cell_type": "code",
   "execution_count": null,
   "id": "61d11a18-ed33-4e42-91e0-a47de2eba93c",
   "metadata": {},
   "outputs": [],
   "source": [
    "mannwhitneyu()"
   ]
  },
  {
   "cell_type": "code",
   "execution_count": null,
   "id": "88785300-1ff5-4eb0-aa7f-4a0d39315b32",
   "metadata": {},
   "outputs": [],
   "source": [
    "sampleA = pd.concat([ordersByUsersA['orders'],pd.Series(0,index=np.arange(data['visitorsPerDateA'].sum() - len(ordersByUsersA['orders'])),name='orders'),],axis=0,)\n",
    "\n",
    "sampleB = pd.concat([ordersByUsersB['orders'], pd.Series(0,index=np.arange(data['visitorsPerDateB'].sum() - len(ordersByUsersB['orders'])), name='orders',),], axis=0,)\n",
    "print(\"{0:.5f}\".format(stats.mannwhitneyu(sampleA, sampleB)[1]))\n",
    "print(\"{0:.3f}\".format((data['ordersPerDateB'].sum()/data['visitorsPerDateB'].sum())/(data['ordersPerDateA'].sum()/data['visitorsPerDateA'].sum())-1))\n"
   ]
  },
  {
   "cell_type": "code",
   "execution_count": null,
   "id": "52c8bd0e-b7b9-4758-9ccd-4b9076deb462",
   "metadata": {},
   "outputs": [],
   "source": [
    "ordersByUsersA['orders']"
   ]
  },
  {
   "cell_type": "code",
   "execution_count": null,
   "id": "b99320a8-1612-48de-a8dc-d53419c0f903",
   "metadata": {},
   "outputs": [],
   "source": [
    "print('{0:.3f}'.format(stats.mannwhitneyu(orders[orders['group']=='A']['revenue'], orders[orders['group']=='B']['revenue'])[1]))\n",
    "print('{0:.3f}'.format(orders[orders['group']=='B']['revenue'].mean()/orders[orders['group']=='A']['revenue'].mean()-1))"
   ]
  },
  {
   "cell_type": "code",
   "execution_count": null,
   "id": "8be787d5-b70d-4343-8742-e66be4e71f6c",
   "metadata": {},
   "outputs": [],
   "source": [
    "ouliers_a = "
   ]
  },
  {
   "cell_type": "code",
   "execution_count": null,
   "id": "65ca9ddc-e6a1-42bb-b800-a10304d517c0",
   "metadata": {},
   "outputs": [],
   "source": [
    "usersWithManyOrders = pd.concat([ordersByUsersA[ordersByUsersA['orders'] > 2]['userId'], ordersByUsersB[ordersByUsersB['orders'] > 2]['userId'],],axis=0,)\n",
    "usersWithExpensiveOrders = orders[orders['revenue'] > 28000]['visitorId']\n",
    "abnormalUsers = (pd.concat([usersWithManyOrders, usersWithExpensiveOrders], axis=0).drop_duplicates().sort_values())\n",
    "\n",
    "sampleAFiltered = pd.concat([ordersByUsersA[np.logical_not(ordersByUsersA['userId'].isin(abnormalUsers))]['orders'], pd.Series(0,index=np.arange(data['visitorsPerDateA'].sum() - len(ordersByUsersA['orders'])),name='orders',),],axis=0,)\n",
    "\n",
    "sampleBFiltered = pd.concat([ordersByUsersB[np.logical_not(ordersByUsersB['userId'].isin(abnormalUsers))]['orders'],pd.Series(0,index=np.arange(data['visitorsPerDateB'].sum() - len(ordersByUsersB['orders'])),name='orders',),],axis=0,)\n",
    "\n",
    "print('{0:.5f}'.format(stats.mannwhitneyu(sampleAFiltered, sampleBFiltered)[1]))\n",
    "print('{0:.3f}'.format(sampleBFiltered.mean()/sampleAFiltered.mean()-1))"
   ]
  },
  {
   "cell_type": "code",
   "execution_count": null,
   "id": "c932776f-383b-4df6-9f3a-1bbfa73f6a7b",
   "metadata": {},
   "outputs": [],
   "source": [
    "print(\n",
    "    '{0:.3f}'.format(\n",
    "        stats.mannwhitneyu(orders[np.logical_and(orders['group'] == 'A',np.logical_not(orders['visitorId'].isin(abnormalUsers)),)]['revenue'],orders[np.logical_and(orders['group'] == 'B',np.logical_not(orders['visitorId'].isin(abnormalUsers)),)]['revenue'],)[1]\n",
    "    )\n",
    ")\n",
    "\n",
    "print(\n",
    "    \"{0:.3f}\".format(\n",
    "        orders[\n",
    "            np.logical_and(\n",
    "                orders['group'] == 'B',\n",
    "                np.logical_not(orders['visitorId'].isin(abnormalUsers)),\n",
    "            )\n",
    "        ]['revenue'].mean()\n",
    "        / orders[\n",
    "            np.logical_and(\n",
    "                orders['group'] == 'A',\n",
    "                np.logical_not(orders['visitorId'].isin(abnormalUsers)),\n",
    "            )\n",
    "        ]['revenue'].mean()\n",
    "        - 1\n",
    "    )\n",
    ")"
   ]
  },
  {
   "cell_type": "code",
   "execution_count": null,
   "id": "0e164ccd-7496-46aa-a50c-0a4aebeff61a",
   "metadata": {},
   "outputs": [],
   "source": []
  },
  {
   "cell_type": "code",
   "execution_count": null,
   "id": "911dd045-f28f-4e51-814a-7b2be2f7c033",
   "metadata": {},
   "outputs": [],
   "source": [
    "sampleAFiltered = ordersByUsersA[np.logical_not(ordersByUsersA['userId'].isin(abnormalUsers))]['orders']\n",
    "sampleBFiltered = ordersByUsersB[np.logical_not(ordersByUsersA['userId'].isin(abnormalUsers))]['orders']"
   ]
  },
  {
   "cell_type": "code",
   "execution_count": null,
   "id": "cab1c883-a48e-4733-a098-9cc58482df70",
   "metadata": {},
   "outputs": [],
   "source": [
    "usersWithManyOrders = pd.concat(\n",
    "    [\n",
    "        ordersByUsersA[ordersByUsersA['orders'] > 2]['userId'],\n",
    "        ordersByUsersB[ordersByUsersB['orders'] > 2]['userId'],\n",
    "    ],\n",
    "    axis=0,\n",
    ")\n",
    "usersWithExpensiveOrders = orders[orders['revenue'] > 28000]['visitorId']\n",
    "abnormalUsers = (\n",
    "    pd.concat([usersWithManyOrders, usersWithExpensiveOrders], axis=0)\n",
    "    .drop_duplicates()\n",
    "    .sort_values()\n",
    ")\n",
    "\n",
    "sampleAFiltered = pd.concat(\n",
    "    [\n",
    "        ordersByUsersA[\n",
    "            np.logical_not(ordersByUsersA['userId'].isin(abnormalUsers))\n",
    "        ]['orders'],\n",
    "        pd.Series(\n",
    "            0,\n",
    "            index=np.arange(\n",
    "                data['visitorsPerDateA'].sum() - len(ordersByUsersA['orders'])\n",
    "            ),\n",
    "            name='orders',\n",
    "        ),\n",
    "    ],\n",
    "    axis=0,\n",
    ")\n",
    "\n",
    "sampleBFiltered = pd.concat(\n",
    "    [\n",
    "        ordersByUsersB[\n",
    "            np.logical_not(ordersByUsersB['userId'].isin(abnormalUsers))\n",
    "        ]['orders'],\n",
    "        pd.Series(\n",
    "            0,\n",
    "            index=np.arange(\n",
    "                data['visitorsPerDateB'].sum() - len(ordersByUsersB['orders'])\n",
    "            ),\n",
    "            name='orders',\n",
    "        ),\n",
    "    ],\n",
    "    axis=0,\n",
    ")\n",
    "\n",
    "print('{0:.5f}'.format(stats.mannwhitneyu(sampleAFiltered, sampleBFiltered)[1]))\n",
    "print('{0:.3f}'.format(sampleBFiltered.mean()/sampleAFiltered.mean()-1))"
   ]
  },
  {
   "cell_type": "code",
   "execution_count": null,
   "id": "6649ae55-0c2d-470d-ae46-ae1fa378f032",
   "metadata": {},
   "outputs": [],
   "source": [
    "sampleAFiltered"
   ]
  },
  {
   "cell_type": "code",
   "execution_count": null,
   "id": "2cc33d8a-5639-40af-bf94-109ba23d9490",
   "metadata": {},
   "outputs": [],
   "source": [
    "sampleBFiltered"
   ]
  },
  {
   "cell_type": "code",
   "execution_count": null,
   "id": "ba9c2c6e-6a17-4c59-9e53-429799435bce",
   "metadata": {},
   "outputs": [],
   "source": [
    "sampleAFiltered = ordersByUsersA[np.logical_not(ordersByUsersA['userId'].isin(abnormalUsers))]['orders']\n",
    "sampleBFiltered = ordersByUsersB[np.logical_not(ordersByUsersB['userId'].isin(abnormalUsers))]['orders']"
   ]
  },
  {
   "cell_type": "code",
   "execution_count": null,
   "id": "ec01d462-62f8-482a-bcc3-4f16a30e0ec1",
   "metadata": {},
   "outputs": [],
   "source": [
    "print('{0:.5f}'.format(stats.mannwhitneyu(sampleAFiltered, sampleBFiltered)[1]))\n",
    "print('{0:.3f}'.format(sampleBFiltered.mean()/sampleAFiltered.mean()-1))"
   ]
  },
  {
   "cell_type": "code",
   "execution_count": null,
   "id": "15056349-0259-43c1-8826-2a3cc6c4a18a",
   "metadata": {},
   "outputs": [],
   "source": []
  },
  {
   "cell_type": "code",
   "execution_count": null,
   "id": "eccceffe-e8be-4934-8d12-02661012e5fe",
   "metadata": {},
   "outputs": [],
   "source": [
    "reporter.orders"
   ]
  },
  {
   "cell_type": "markdown",
   "id": "c35c3749-b689-42d4-a7d2-026cec552fc6",
   "metadata": {},
   "source": [
    "Посчитайте статистическую значимость различий в конверсии между группами по «сырым» данным. Сделайте выводы и предположения.\n",
    "Посчитайте статистическую значимость различий в среднем чеке заказа между группами по «сырым» данным. Сделайте выводы и предположения.\n",
    "Посчитайте статистическую значимость различий в конверсии между группами по «очищенным» данным. Сделайте выводы и предположения.\n",
    "Посчитайте статистическую значимость различий в среднем чеке заказа между группами по «очищенным» данным. Сделайте выводы и предположения."
   ]
  },
  {
   "cell_type": "code",
   "execution_count": null,
   "id": "34fbd8ec-dbda-46ea-85ec-8954ec86b5ee",
   "metadata": {},
   "outputs": [],
   "source": [
    "def get_placeholders(data):\n",
    "    full_length = cumulated.query('group == \"A\"')['visitors'].sum()\n",
    "    index = np.arange(full_length - len(data), name='orders')\n",
    "    placeholders = pd.Series(0, index=index)\n",
    "    return placeholders    "
   ]
  },
  {
   "cell_type": "code",
   "execution_count": null,
   "id": "23b302df-89b1-42b0-9c0a-2ee1f01c063d",
   "metadata": {},
   "outputs": [],
   "source": [
    "def prepare_data_for_stat():\n",
    "    orders_by_a = (orders.query('group == \"A\"').groupby('visitorId', as_index=False).agg({'transactionId': 'nunique'}))\n",
    "    orders_by_b = (orders.query('group == \"B\"').groupby('visitorId', as_index=False).agg({'transactionId': 'nunique'}))\n",
    "    \n",
    "    sample_raw_a = pd.concat([orders_by_a['orders'], get_placeholders(orders_by_a)], axis=0)\n",
    "    sample_raw_b = pd.concat([orders_by_b['orders'], get_placeholders(orders_by_b)], axis=0)\n",
    "        \n",
    "    outliers_orders_a = orders_by_a.query('orders > 2')['visitorId']\n",
    "    outliers_orders_b = orders_by_b.query('orders > 2')['visitorId']\n",
    "    outliers_orders = pd.concat([outliers_orders_a, outliers_orders_b], axis=0)\n",
    "    \n",
    "    outliers_revenue = order.query('revenue > 28000')['visitorId']\n",
    "    \n",
    "    anomalies = (pd.concat([outliers_orders, outliers_revenue], axis=0).drop_duplicates().sort_values())\n",
    "    \n",
    "    revenue_a = orders.query('group ==\"A\"')['revenue']\n",
    "    revenue_b = orders.query('group ==\"B\"')['revenue']\n",
    "    \n",
    "    clean_revenue_a = orders.query('group == \"A\" and visitorId not in @anomalies')['revenue']\n",
    "    clean_revenue_b = orders.query('group == \"B\" and visitorId not in @anomalies')['revenue']\n",
    "    \n",
    "    cleaned_by_a = orders_by_a.query('visitorId not in @anomalies')['orders']\n",
    "    cleaned_by_b = orders_by_b.query('visitorId not in @anomalies')['orders']\n",
    "    \n",
    "    sample_clean_a = pd.concat([cleaned_by_a, get_placeholders(orders_by_a)])\n",
    "    sample_clean_b = pd.concat([cleaned_by_b, get_placeholders(orders_by_b)])\n",
    "    \n",
    "    prepared_data = {'sample_raw_a': sample_raw_a,\n",
    "                     'sample_raw_b': sample_raw_b,\n",
    "                     'revenue_a': revenue_a,\n",
    "                     'revenue_b': revenue_b,\n",
    "                     'clean_revenue_a': clean_revenue_a,\n",
    "                     'clean_revenue_b': clean_revenue_b,\n",
    "                     'sample_clean_a': sample_clean_a,\n",
    "                     'sample_clean_b': sample_clean_b}\n",
    "    \n",
    "    return prepared_data\n",
    "    \n"
   ]
  },
  {
   "cell_type": "code",
   "execution_count": null,
   "id": "c091f858-754f-4b43-9765-bf80959332d4",
   "metadata": {},
   "outputs": [],
   "source": [
    "def mannwhitneyu():\n",
    "    result = []\n",
    "    \n",
    "    # Подготовим данные\n",
    "    prepared_data = prepare_data_for_stat()\n",
    "    \n",
    "    # Считаем статистическую значимость различий в конверсии между группами по «сырым» данным\n",
    "    raw_conv_result = stats.mannwhitneyu(prepared_data['sample_raw_a'], prepared_data['sample_raw_b'])[1]\n",
    "    result.append(raw_conv_result)\n",
    "    \n",
    "    # Считаем статистическую значимость различий в среднем чеке заказа между группами по «сырым» данным\n",
    "    raw_revenue_result = stats.mannwhitneyu(prepared_data['revenue_a'], prepared_data['revenue_b'])[1]\n",
    "    result.append(raw_revenue_result)\n",
    "    \n",
    "    # Считаем статистическую значимость различий в конверсии между группами по «очищенным» данным\n",
    "    clean_conv_result = stats.mannwhitneyu(prepared_data['sample_clean_a'], prepared_data['sample_clean_b'])[1]\n",
    "    result.append(clean_conv_result)\n",
    "    \n",
    "    # Считаем статистическую значимость различий в среднем чеке заказа между группами по «очищенным» данным\n",
    "    clean_revenue_result = stats.mannwhitneyu(prepared_data['clean_revenue_a'], prepared_data['clean_revenue_b'])[1]\n",
    "    result.append(clean_revenue_result)\n",
    "\n",
    "    result = pd.DataFrame(result)"
   ]
  },
  {
   "cell_type": "code",
   "execution_count": null,
   "id": "f830174e-fd77-41b8-922e-31992f60dcd7",
   "metadata": {},
   "outputs": [],
   "source": [
    "orders.query('group == \"A\" and visitorId not in @anomalies')['revenue']"
   ]
  },
  {
   "cell_type": "code",
   "execution_count": null,
   "id": "9e2e778c-4ef6-46f6-b91a-0efb9b65cb7f",
   "metadata": {},
   "outputs": [],
   "source": [
    "orders[np.logical_and(orders['group'] == 'A',np.logical_not(orders['visitorId'].isin(abnormalUsers)),)]['revenue'],orders[np.logical_and(orders['group'] == 'B',np.logical_not(orders['visitorId'].isin(abnormalUsers)),)"
   ]
  },
  {
   "cell_type": "code",
   "execution_count": null,
   "id": "8634274d-0c94-4b67-be41-ff8b14b71288",
   "metadata": {},
   "outputs": [],
   "source": [
    "def mannwhitneyu():\n",
    "    result = []\n",
    "    \n",
    "    # Подготовим данные\n",
    "    orders_by_a = (orders.query('group == \"A\"').groupby('visitorId', as_index=False).agg({'transactionId': 'nunique'}))\n",
    "    orders_by_b = (orders.query('group == \"B\"').groupby('visitorId', as_index=False).agg({'transactionId': 'nunique'}))\n",
    "    \n",
    "    \n",
    "    usersWithManyOrders = pd.concat([ordersByUsersA[ordersByUsersA['orders'] > 2]['userId'], ordersByUsersB[ordersByUsersB['orders'] > 2]['userId'],],axis=0,)\n",
    "    usersWithExpensiveOrders = orders[orders['revenue'] > 28000]['visitorId']\n",
    "    abnormalUsers = (pd.concat([usersWithManyOrders, usersWithExpensiveOrders], axis=0).drop_duplicates().sort_values())\n",
    "\n",
    "    sampleAFiltered = pd.concat([ordersByUsersA[np.logical_not(ordersByUsersA['userId'].isin(abnormalUsers))]['orders'], pd.Series(0,index=np.arange(data['visitorsPerDateA'].sum() - len(ordersByUsersA['orders'])),name='orders',),],axis=0,)\n",
    "\n",
    "    sampleBFiltered = pd.concat([ordersByUsersB[np.logical_not(ordersByUsersB['userId'].isin(abnormalUsers))]['orders'],pd.Series(0,index=np.arange(data['visitorsPerDateB'].sum() - len(ordersByUsersB['orders'])),name='orders',),],axis=0,)\n",
    "    \n",
    "    # Считаем статистическую значимость различий в конверсии между группами по «сырым» данным\n",
    "    sample_a = pd.concat([orders_by_a['orders'],pd.Series(0,index=np.arange(data['visitorsPerDateA'].sum() - len(ordersByUsersA['orders'])),name='orders'),],axis=0,)\n",
    "    sample_b = pd.concat([orders_by_b['orders'], pd.Series(0,index=np.arange(data['visitorsPerDateB'].sum() - len(ordersByUsersB['orders'])), name='orders',),], axis=0,)\n",
    "    result.append(stats.mannwhitneyu(sampleA, sampleB))\n",
    "    \n",
    "    # Считаем статистическую значимость различий в среднем чеке заказа между группами по «сырым» данным\n",
    "    revenue_a = orders.query('group ==\"A\"')['revenue']\n",
    "    revenue_b = orders.query('group ==\"B\"')['revenue']\n",
    "    result.append(stats.mannwhitneyu(revenue_a, revenue_b))\n",
    "    \n",
    "    # Считаем статистическую значимость различий в конверсии между группами по «очищенным» данным\n",
    "    stats.mannwhitneyu(sampleAFiltered, sampleBFiltered)[1]\n",
    "    \n",
    "    # Считаем статистическую значимость различий в среднем чеке заказа между группами по «очищенным» данным\n",
    "    stats.mannwhitneyu(orders[np.logical_and(orders['group'] == 'A',np.logical_not(orders['visitorId'].isin(abnormalUsers)),)]['revenue'],orders[np.logical_and(orders['group'] == 'B',np.logical_not(orders['visitorId'].isin(abnormalUsers)),)]['revenue'],)[1]"
   ]
  }
 ],
 "metadata": {
  "kernelspec": {
   "display_name": "venv",
   "language": "python",
   "name": "venv"
  },
  "language_info": {
   "codemirror_mode": {
    "name": "ipython",
    "version": 3
   },
   "file_extension": ".py",
   "mimetype": "text/x-python",
   "name": "python",
   "nbconvert_exporter": "python",
   "pygments_lexer": "ipython3",
   "version": "3.7.9"
  }
 },
 "nbformat": 4,
 "nbformat_minor": 5
}

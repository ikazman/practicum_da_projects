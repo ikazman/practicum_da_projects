{
 "cells": [
  {
   "cell_type": "markdown",
   "id": "60884d1a-adc6-4162-bc0d-ffa6bfc617bc",
   "metadata": {},
   "source": [
    "Прочтём данные из файлов с результатами A/B-тестирования:"
   ]
  },
  {
   "cell_type": "code",
   "execution_count": null,
   "id": "ac5f37e9-03b5-4c01-ad89-3c93329f9b2c",
   "metadata": {},
   "outputs": [],
   "source": [
    "import pandas as pd"
   ]
  },
  {
   "cell_type": "code",
   "execution_count": null,
   "id": "4a7afece-6a42-4a99-bcf1-a6ba5d9ef109",
   "metadata": {},
   "outputs": [],
   "source": [
    "orders = pd.read_csv('datasets/orders.csv', parse_dates=['date'])"
   ]
  },
  {
   "cell_type": "code",
   "execution_count": null,
   "id": "6de10c3e-8af2-4943-997f-d968698ffe50",
   "metadata": {},
   "outputs": [],
   "source": [
    "visitors = pd.read_csv('datasets/visitors.csv', parse_dates=['date'])"
   ]
  },
  {
   "cell_type": "code",
   "execution_count": null,
   "id": "fec4e8b6-e82f-4a55-90ca-76169c9011eb",
   "metadata": {},
   "outputs": [],
   "source": [
    "orders"
   ]
  },
  {
   "cell_type": "code",
   "execution_count": null,
   "id": "f64ef185-3cb9-49f6-8953-19c046ef83c6",
   "metadata": {},
   "outputs": [],
   "source": [
    "visitors"
   ]
  },
  {
   "cell_type": "code",
   "execution_count": null,
   "id": "8483806b-4f13-4201-80be-7a0a18e2f82f",
   "metadata": {},
   "outputs": [],
   "source": [
    "def cumulate_column(df, column):\n",
    "    grouped_by_a = df[df['group'] == 'A'][column].cumsum()\n",
    "    grouped_by_b = df[df['group'] == 'B'][column].cumsum()\n",
    "    cumulated = pd.concat([grouped_by_a, grouped_by_b]).reset_index()\n",
    "    cumulated.sort_values(by='index', inplace=True)\n",
    "    return cumulated.set_index('index')"
   ]
  },
  {
   "cell_type": "code",
   "execution_count": null,
   "id": "094e2719-fa70-4654-a9e7-a62a132a7e25",
   "metadata": {},
   "outputs": [],
   "source": [
    "visitors_aggregated = visitors.groupby(['date','group'], as_index=False).agg({'date' : 'max',\n",
    "                                                                              'group' : 'max',\n",
    "                                                                              'visitors' : 'sum'}, axis=1)"
   ]
  },
  {
   "cell_type": "code",
   "execution_count": null,
   "id": "01d9600b-b443-4689-8e04-9391935060ad",
   "metadata": {},
   "outputs": [],
   "source": [
    "orders_aggregated = orders.groupby(['date','group'], as_index=False).agg({'date' : 'max',\n",
    "                                                                          'group' : 'max',\n",
    "                                                                          'transactionId' : 'nunique',\n",
    "                                                                          'visitorId' : 'nunique',\n",
    "                                                                          'revenue' : 'sum'}, axis=1)"
   ]
  },
  {
   "cell_type": "code",
   "execution_count": null,
   "id": "25d334ef-34c9-48eb-9be5-1ae3243aaa3f",
   "metadata": {},
   "outputs": [],
   "source": [
    "visitors_aggregated"
   ]
  },
  {
   "cell_type": "code",
   "execution_count": null,
   "id": "e383b26e-ed84-451c-bd18-1fe208c3f92f",
   "metadata": {},
   "outputs": [],
   "source": [
    "orders_aggregated"
   ]
  },
  {
   "cell_type": "code",
   "execution_count": null,
   "id": "a4d4c384-c92f-4f4d-b912-f950dd9b3528",
   "metadata": {},
   "outputs": [],
   "source": [
    "cumulate_column(visitors_aggregated, 'visitors')"
   ]
  },
  {
   "cell_type": "code",
   "execution_count": null,
   "id": "19af4bbd-1d68-4daa-ab87-b4233e16d620",
   "metadata": {},
   "outputs": [],
   "source": [
    "cumulate_column(orders_aggregated, 'revenue')"
   ]
  },
  {
   "cell_type": "code",
   "execution_count": null,
   "id": "f6cea5ec-6edd-49d4-b285-3e77b43dd3fb",
   "metadata": {},
   "outputs": [],
   "source": [
    "visitors_aggregated['visitors'] = cumulate_column(visitors_aggregated, 'visitors')\n",
    "orders_aggregated['transactionId'] = cumulate_column(orders_aggregated, 'transactionId')\n",
    "orders_aggregated['visitorId'] = cumulate_column(orders_aggregated, 'visitorId')"
   ]
  },
  {
   "cell_type": "code",
   "execution_count": null,
   "id": "10de2bb5-97a7-4b33-ab9a-865ff2507bf5",
   "metadata": {},
   "outputs": [],
   "source": [
    "visitors_aggregated"
   ]
  },
  {
   "cell_type": "code",
   "execution_count": null,
   "id": "50c0f150-812a-45cd-ba7a-313b28262bf3",
   "metadata": {},
   "outputs": [],
   "source": [
    "orders_aggregated"
   ]
  },
  {
   "cell_type": "code",
   "execution_count": null,
   "id": "ef88fef2-4260-4116-a010-298fe9051b2c",
   "metadata": {},
   "outputs": [],
   "source": [
    "cumulativeData = orders_aggregated.merge(visitors_aggregated, left_on=['date', 'group'], right_on=['date', 'group'])\n",
    "cumulativeData.columns = ['date', 'group', 'orders', 'buyers', 'revenue', 'visitors']\n",
    "\n",
    "cumulativeData.head(11)"
   ]
  },
  {
   "cell_type": "code",
   "execution_count": null,
   "id": "56d2c871-5fca-4146-a923-1b3bcac10662",
   "metadata": {},
   "outputs": [],
   "source": [
    "cumulativeData = orders_aggregated.merge(visitors_aggregated)\n",
    "cumulativeData.columns = ['date', 'group', 'orders', 'buyers', 'revenue', 'visitors']\n",
    "\n",
    "cumulativeData"
   ]
  },
  {
   "cell_type": "code",
   "execution_count": null,
   "id": "3b31c563-8b22-49c4-ab82-af1ed5bb370e",
   "metadata": {},
   "outputs": [],
   "source": [
    "visitors[visitors['date'] == '2019-08-05']"
   ]
  },
  {
   "cell_type": "code",
   "execution_count": null,
   "id": "7c8a3b7c-072f-4b37-9f5f-1a9ab6fb5d1d",
   "metadata": {},
   "outputs": [],
   "source": [
    "orders[orders['date'] == '2019-08-05'].count()"
   ]
  },
  {
   "cell_type": "code",
   "execution_count": null,
   "id": "c4554d6d-1059-456b-aa65-ead307abcbe8",
   "metadata": {},
   "outputs": [],
   "source": [
    "temp = orders[orders['date'] == '2019-08-05']"
   ]
  },
  {
   "cell_type": "code",
   "execution_count": null,
   "id": "2d136c11-d6ea-4233-a101-eda0d44316d4",
   "metadata": {},
   "outputs": [],
   "source": [
    "temp.groupby(['date'], as_index=False).agg({'date' : 'max',\n",
    "                                            'group' : 'max',\n",
    "                                            'transactionId' : 'nunique',\n",
    "                                            'visitorId' : 'nunique',\n",
    "                                            'revenue' : 'sum'}, axis=1)"
   ]
  },
  {
   "cell_type": "code",
   "execution_count": null,
   "id": "db25173f-692d-4c0d-a714-4f5dc28c3ed1",
   "metadata": {},
   "outputs": [],
   "source": [
    "import matplotlib.pyplot as plt\n",
    "\n",
    "# датафрейм с кумулятивным количеством заказов и кумулятивной выручкой по дням в группе А\n",
    "cumulativeRevenueA = cumulativeData[cumulativeData['group']=='A'][['date','revenue', 'orders']]\n",
    "\n",
    "# датафрейм с кумулятивным количеством заказов и кумулятивной выручкой по дням в группе B\n",
    "cumulativeRevenueB = cumulativeData[cumulativeData['group']=='B'][['date','revenue', 'orders']]\n",
    "\n",
    "# Строим график выручки группы А\n",
    "plt.plot(cumulativeRevenueA['date'], cumulativeRevenueA['revenue'], label='A')\n",
    "\n",
    "# Строим график выручки группы B\n",
    "plt.plot(cumulativeRevenueB['date'], cumulativeRevenueB['revenue'], label='B')\n",
    "\n",
    "plt.legend()"
   ]
  },
  {
   "cell_type": "code",
   "execution_count": null,
   "id": "1c86e9ab-2439-48c9-bd67-28c24710d12e",
   "metadata": {},
   "outputs": [],
   "source": [
    "from solver.ab_reporter import ABReporter"
   ]
  },
  {
   "cell_type": "code",
   "execution_count": null,
   "id": "1241fcf9-5121-4085-86c7-25d027afe347",
   "metadata": {},
   "outputs": [],
   "source": [
    "example = ABReporter('datasets/visitors.csv', 'datasets/orders.csv')"
   ]
  },
  {
   "cell_type": "code",
   "execution_count": null,
   "id": "53b1824c-2160-430e-869c-ac45369252d9",
   "metadata": {},
   "outputs": [],
   "source": [
    "example.grouped_summary()"
   ]
  },
  {
   "cell_type": "code",
   "execution_count": null,
   "id": "a4f22c4a-4674-4356-832c-525bdd5c7eb5",
   "metadata": {},
   "outputs": [],
   "source": []
  },
  {
   "cell_type": "code",
   "execution_count": null,
   "id": "29f10719-ff00-4ca5-9b78-7d88008788c4",
   "metadata": {},
   "outputs": [],
   "source": []
  },
  {
   "cell_type": "code",
   "execution_count": null,
   "id": "c6bf6221-aaf6-4450-bc6e-47931b39e934",
   "metadata": {},
   "outputs": [],
   "source": []
  },
  {
   "cell_type": "code",
   "execution_count": null,
   "id": "763ceb75-3f55-4cb3-bd77-188e13746dc4",
   "metadata": {},
   "outputs": [],
   "source": []
  },
  {
   "cell_type": "code",
   "execution_count": null,
   "id": "9b02abcb-e22e-41ba-adcb-c34698ff4438",
   "metadata": {},
   "outputs": [],
   "source": []
  },
  {
   "cell_type": "markdown",
   "id": "b5f52cfb-7fbe-4509-a465-f1e87952a28a",
   "metadata": {},
   "source": [
    "Аналогично получим агрегированные кумулятивные по дням данные о посетителях интернет-магазина:\n"
   ]
  },
  {
   "cell_type": "code",
   "execution_count": null,
   "id": "95402316-5584-4947-8101-b7dd9b7ef78e",
   "metadata": {},
   "outputs": [],
   "source": []
  },
  {
   "cell_type": "code",
   "execution_count": null,
   "id": "fce423dc-6573-48be-9020-2713b41a1fcc",
   "metadata": {},
   "outputs": [],
   "source": [
    "df = visitors.groupby(['date','group'], as_index=False).agg({'date' : 'max',\n",
    "                                                        'group' : 'max',\n",
    "                                                        'visitors' : 'sum'}, axis=1).sort_values(by=['date','group'])"
   ]
  },
  {
   "cell_type": "code",
   "execution_count": null,
   "id": "4fe97c83-b041-4d38-a89c-403a3216ad38",
   "metadata": {},
   "outputs": [],
   "source": [
    "# создаем массив уникальных пар значений дат и групп теста\n",
    "datesGroups = orders[['date','group']].drop_duplicates()\n",
    "\n",
    "# получаем агрегированные кумулятивные по дням данные о заказах \n",
    "ordersAggregated = datesGroups.apply(lambda x: orders[np.logical_and(orders['date'] <= x['date'], orders['group'] == x['group'])].agg({'date' : 'max', 'group' : 'max', 'transactionId' : 'nunique', 'visitorId' : 'nunique', 'revenue' : 'sum'}), axis=1).sort_values(by=['date','group'])\n",
    "\n",
    "# получаем агрегированные кумулятивные по дням данные о посетителях интернет-магазина \n",
    "visitorsAggregated = datesGroups.apply(lambda x: visitors[np.logical_and(visitors['date'] <= x['date'], visitors['group'] == x['group'])].agg({'date' : 'max', 'group' : 'max', 'visitors' : 'sum'}), axis=1).sort_values(by=['date','group'])\n",
    "\n",
    "# объединяем кумулятивные данные в одной таблице и присваиваем ее столбцам понятные названия\n",
    "cumulativeData = ordersAggregated.merge(visitorsAggregated, left_on=['date', 'group'], right_on=['date', 'group'])\n",
    "cumulativeData.columns = ['date', 'group', 'orders', 'buyers', 'revenue', 'visitors']\n",
    "\n",
    "print(cumulativeData.head(5))"
   ]
  },
  {
   "cell_type": "code",
   "execution_count": null,
   "id": "c81b4ed6-2c7a-4498-ab9e-5b06549c1cd7",
   "metadata": {},
   "outputs": [],
   "source": []
  }
 ],
 "metadata": {
  "kernelspec": {
   "display_name": "venv",
   "language": "python",
   "name": "venv"
  },
  "language_info": {
   "codemirror_mode": {
    "name": "ipython",
    "version": 3
   },
   "file_extension": ".py",
   "mimetype": "text/x-python",
   "name": "python",
   "nbconvert_exporter": "python",
   "pygments_lexer": "ipython3",
   "version": "3.7.9"
  }
 },
 "nbformat": 4,
 "nbformat_minor": 5
}

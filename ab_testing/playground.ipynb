{
 "cells": [
  {
   "cell_type": "markdown",
   "id": "60884d1a-adc6-4162-bc0d-ffa6bfc617bc",
   "metadata": {},
   "source": [
    "Прочтём данные из файлов с результатами A/B-тестирования:"
   ]
  },
  {
   "cell_type": "code",
   "execution_count": 1,
   "id": "ac5f37e9-03b5-4c01-ad89-3c93329f9b2c",
   "metadata": {},
   "outputs": [],
   "source": [
    "import pandas as pd"
   ]
  },
  {
   "cell_type": "code",
   "execution_count": 2,
   "id": "4a7afece-6a42-4a99-bcf1-a6ba5d9ef109",
   "metadata": {},
   "outputs": [],
   "source": [
    "orders = pd.read_csv('datasets/orders.csv', parse_dates=['date'])"
   ]
  },
  {
   "cell_type": "code",
   "execution_count": 3,
   "id": "6de10c3e-8af2-4943-997f-d968698ffe50",
   "metadata": {},
   "outputs": [],
   "source": [
    "visitors = pd.read_csv('datasets/visitors.csv', parse_dates=['date'])"
   ]
  },
  {
   "cell_type": "code",
   "execution_count": 4,
   "id": "fec4e8b6-e82f-4a55-90ca-76169c9011eb",
   "metadata": {},
   "outputs": [
    {
     "data": {
      "text/html": [
       "<div>\n",
       "<style scoped>\n",
       "    .dataframe tbody tr th:only-of-type {\n",
       "        vertical-align: middle;\n",
       "    }\n",
       "\n",
       "    .dataframe tbody tr th {\n",
       "        vertical-align: top;\n",
       "    }\n",
       "\n",
       "    .dataframe thead th {\n",
       "        text-align: right;\n",
       "    }\n",
       "</style>\n",
       "<table border=\"1\" class=\"dataframe\">\n",
       "  <thead>\n",
       "    <tr style=\"text-align: right;\">\n",
       "      <th></th>\n",
       "      <th>transactionId</th>\n",
       "      <th>visitorId</th>\n",
       "      <th>date</th>\n",
       "      <th>revenue</th>\n",
       "      <th>group</th>\n",
       "    </tr>\n",
       "  </thead>\n",
       "  <tbody>\n",
       "    <tr>\n",
       "      <th>0</th>\n",
       "      <td>3667963787</td>\n",
       "      <td>3312258926</td>\n",
       "      <td>2019-08-15</td>\n",
       "      <td>1650</td>\n",
       "      <td>B</td>\n",
       "    </tr>\n",
       "    <tr>\n",
       "      <th>1</th>\n",
       "      <td>2804400009</td>\n",
       "      <td>3642806036</td>\n",
       "      <td>2019-08-15</td>\n",
       "      <td>730</td>\n",
       "      <td>B</td>\n",
       "    </tr>\n",
       "    <tr>\n",
       "      <th>2</th>\n",
       "      <td>2961555356</td>\n",
       "      <td>4069496402</td>\n",
       "      <td>2019-08-15</td>\n",
       "      <td>400</td>\n",
       "      <td>A</td>\n",
       "    </tr>\n",
       "    <tr>\n",
       "      <th>3</th>\n",
       "      <td>3797467345</td>\n",
       "      <td>1196621759</td>\n",
       "      <td>2019-08-15</td>\n",
       "      <td>9759</td>\n",
       "      <td>B</td>\n",
       "    </tr>\n",
       "    <tr>\n",
       "      <th>4</th>\n",
       "      <td>2282983706</td>\n",
       "      <td>2322279887</td>\n",
       "      <td>2019-08-15</td>\n",
       "      <td>2308</td>\n",
       "      <td>B</td>\n",
       "    </tr>\n",
       "    <tr>\n",
       "      <th>...</th>\n",
       "      <td>...</td>\n",
       "      <td>...</td>\n",
       "      <td>...</td>\n",
       "      <td>...</td>\n",
       "      <td>...</td>\n",
       "    </tr>\n",
       "    <tr>\n",
       "      <th>1192</th>\n",
       "      <td>2662137336</td>\n",
       "      <td>3733762160</td>\n",
       "      <td>2019-08-14</td>\n",
       "      <td>6490</td>\n",
       "      <td>B</td>\n",
       "    </tr>\n",
       "    <tr>\n",
       "      <th>1193</th>\n",
       "      <td>2203539145</td>\n",
       "      <td>370388673</td>\n",
       "      <td>2019-08-14</td>\n",
       "      <td>3190</td>\n",
       "      <td>A</td>\n",
       "    </tr>\n",
       "    <tr>\n",
       "      <th>1194</th>\n",
       "      <td>1807773912</td>\n",
       "      <td>573423106</td>\n",
       "      <td>2019-08-14</td>\n",
       "      <td>10550</td>\n",
       "      <td>A</td>\n",
       "    </tr>\n",
       "    <tr>\n",
       "      <th>1195</th>\n",
       "      <td>1947021204</td>\n",
       "      <td>1614305549</td>\n",
       "      <td>2019-08-14</td>\n",
       "      <td>100</td>\n",
       "      <td>A</td>\n",
       "    </tr>\n",
       "    <tr>\n",
       "      <th>1196</th>\n",
       "      <td>3936777065</td>\n",
       "      <td>2108080724</td>\n",
       "      <td>2019-08-15</td>\n",
       "      <td>202740</td>\n",
       "      <td>B</td>\n",
       "    </tr>\n",
       "  </tbody>\n",
       "</table>\n",
       "<p>1197 rows × 5 columns</p>\n",
       "</div>"
      ],
      "text/plain": [
       "      transactionId   visitorId       date  revenue group\n",
       "0        3667963787  3312258926 2019-08-15     1650     B\n",
       "1        2804400009  3642806036 2019-08-15      730     B\n",
       "2        2961555356  4069496402 2019-08-15      400     A\n",
       "3        3797467345  1196621759 2019-08-15     9759     B\n",
       "4        2282983706  2322279887 2019-08-15     2308     B\n",
       "...             ...         ...        ...      ...   ...\n",
       "1192     2662137336  3733762160 2019-08-14     6490     B\n",
       "1193     2203539145   370388673 2019-08-14     3190     A\n",
       "1194     1807773912   573423106 2019-08-14    10550     A\n",
       "1195     1947021204  1614305549 2019-08-14      100     A\n",
       "1196     3936777065  2108080724 2019-08-15   202740     B\n",
       "\n",
       "[1197 rows x 5 columns]"
      ]
     },
     "execution_count": 16,
     "metadata": {},
     "output_type": "execute_result"
    }
   ],
   "source": [
    "orders"
   ]
  },
  {
   "cell_type": "code",
   "execution_count": 5,
   "id": "f64ef185-3cb9-49f6-8953-19c046ef83c6",
   "metadata": {},
   "outputs": [
    {
     "data": {
      "text/html": [
       "<div>\n",
       "<style scoped>\n",
       "    .dataframe tbody tr th:only-of-type {\n",
       "        vertical-align: middle;\n",
       "    }\n",
       "\n",
       "    .dataframe tbody tr th {\n",
       "        vertical-align: top;\n",
       "    }\n",
       "\n",
       "    .dataframe thead th {\n",
       "        text-align: right;\n",
       "    }\n",
       "</style>\n",
       "<table border=\"1\" class=\"dataframe\">\n",
       "  <thead>\n",
       "    <tr style=\"text-align: right;\">\n",
       "      <th></th>\n",
       "      <th>date</th>\n",
       "      <th>group</th>\n",
       "      <th>visitors</th>\n",
       "    </tr>\n",
       "  </thead>\n",
       "  <tbody>\n",
       "    <tr>\n",
       "      <th>0</th>\n",
       "      <td>2019-08-01</td>\n",
       "      <td>A</td>\n",
       "      <td>719</td>\n",
       "    </tr>\n",
       "    <tr>\n",
       "      <th>1</th>\n",
       "      <td>2019-08-02</td>\n",
       "      <td>A</td>\n",
       "      <td>619</td>\n",
       "    </tr>\n",
       "    <tr>\n",
       "      <th>2</th>\n",
       "      <td>2019-08-03</td>\n",
       "      <td>A</td>\n",
       "      <td>507</td>\n",
       "    </tr>\n",
       "    <tr>\n",
       "      <th>3</th>\n",
       "      <td>2019-08-04</td>\n",
       "      <td>A</td>\n",
       "      <td>717</td>\n",
       "    </tr>\n",
       "    <tr>\n",
       "      <th>4</th>\n",
       "      <td>2019-08-05</td>\n",
       "      <td>A</td>\n",
       "      <td>756</td>\n",
       "    </tr>\n",
       "    <tr>\n",
       "      <th>...</th>\n",
       "      <td>...</td>\n",
       "      <td>...</td>\n",
       "      <td>...</td>\n",
       "    </tr>\n",
       "    <tr>\n",
       "      <th>57</th>\n",
       "      <td>2019-08-27</td>\n",
       "      <td>B</td>\n",
       "      <td>720</td>\n",
       "    </tr>\n",
       "    <tr>\n",
       "      <th>58</th>\n",
       "      <td>2019-08-28</td>\n",
       "      <td>B</td>\n",
       "      <td>654</td>\n",
       "    </tr>\n",
       "    <tr>\n",
       "      <th>59</th>\n",
       "      <td>2019-08-29</td>\n",
       "      <td>B</td>\n",
       "      <td>531</td>\n",
       "    </tr>\n",
       "    <tr>\n",
       "      <th>60</th>\n",
       "      <td>2019-08-30</td>\n",
       "      <td>B</td>\n",
       "      <td>490</td>\n",
       "    </tr>\n",
       "    <tr>\n",
       "      <th>61</th>\n",
       "      <td>2019-08-31</td>\n",
       "      <td>B</td>\n",
       "      <td>718</td>\n",
       "    </tr>\n",
       "  </tbody>\n",
       "</table>\n",
       "<p>62 rows × 3 columns</p>\n",
       "</div>"
      ],
      "text/plain": [
       "         date group  visitors\n",
       "0  2019-08-01     A       719\n",
       "1  2019-08-02     A       619\n",
       "2  2019-08-03     A       507\n",
       "3  2019-08-04     A       717\n",
       "4  2019-08-05     A       756\n",
       "..        ...   ...       ...\n",
       "57 2019-08-27     B       720\n",
       "58 2019-08-28     B       654\n",
       "59 2019-08-29     B       531\n",
       "60 2019-08-30     B       490\n",
       "61 2019-08-31     B       718\n",
       "\n",
       "[62 rows x 3 columns]"
      ]
     },
     "execution_count": 17,
     "metadata": {},
     "output_type": "execute_result"
    }
   ],
   "source": [
    "visitors"
   ]
  },
  {
   "cell_type": "code",
   "execution_count": 24,
   "id": "bf7b058f-e443-4b86-b363-87367ad5010b",
   "metadata": {},
   "outputs": [],
   "source": [
    "visitors_a = visitors.query('group == \"A\"').groupby(['date'], as_index=False).agg({'date' : 'max',\n",
    "                                                                     'group' : 'max',\n",
    "                                                                     'visitors' : 'sum'}, axis=1)\n",
    "visitors_a['visitors'] = visitors_a['visitors'].cumsum()"
   ]
  },
  {
   "cell_type": "code",
   "execution_count": 25,
   "id": "7405b9aa-0817-4134-a1fe-0f78cb00d14e",
   "metadata": {},
   "outputs": [
    {
     "data": {
      "text/html": [
       "<div>\n",
       "<style scoped>\n",
       "    .dataframe tbody tr th:only-of-type {\n",
       "        vertical-align: middle;\n",
       "    }\n",
       "\n",
       "    .dataframe tbody tr th {\n",
       "        vertical-align: top;\n",
       "    }\n",
       "\n",
       "    .dataframe thead th {\n",
       "        text-align: right;\n",
       "    }\n",
       "</style>\n",
       "<table border=\"1\" class=\"dataframe\">\n",
       "  <thead>\n",
       "    <tr style=\"text-align: right;\">\n",
       "      <th></th>\n",
       "      <th>date</th>\n",
       "      <th>group</th>\n",
       "      <th>visitors</th>\n",
       "    </tr>\n",
       "  </thead>\n",
       "  <tbody>\n",
       "    <tr>\n",
       "      <th>0</th>\n",
       "      <td>2019-08-01</td>\n",
       "      <td>A</td>\n",
       "      <td>719</td>\n",
       "    </tr>\n",
       "    <tr>\n",
       "      <th>1</th>\n",
       "      <td>2019-08-02</td>\n",
       "      <td>A</td>\n",
       "      <td>1338</td>\n",
       "    </tr>\n",
       "    <tr>\n",
       "      <th>2</th>\n",
       "      <td>2019-08-03</td>\n",
       "      <td>A</td>\n",
       "      <td>1845</td>\n",
       "    </tr>\n",
       "    <tr>\n",
       "      <th>3</th>\n",
       "      <td>2019-08-04</td>\n",
       "      <td>A</td>\n",
       "      <td>2562</td>\n",
       "    </tr>\n",
       "    <tr>\n",
       "      <th>4</th>\n",
       "      <td>2019-08-05</td>\n",
       "      <td>A</td>\n",
       "      <td>3318</td>\n",
       "    </tr>\n",
       "    <tr>\n",
       "      <th>5</th>\n",
       "      <td>2019-08-06</td>\n",
       "      <td>A</td>\n",
       "      <td>3985</td>\n",
       "    </tr>\n",
       "    <tr>\n",
       "      <th>6</th>\n",
       "      <td>2019-08-07</td>\n",
       "      <td>A</td>\n",
       "      <td>4629</td>\n",
       "    </tr>\n",
       "    <tr>\n",
       "      <th>7</th>\n",
       "      <td>2019-08-08</td>\n",
       "      <td>A</td>\n",
       "      <td>5239</td>\n",
       "    </tr>\n",
       "    <tr>\n",
       "      <th>8</th>\n",
       "      <td>2019-08-09</td>\n",
       "      <td>A</td>\n",
       "      <td>5856</td>\n",
       "    </tr>\n",
       "    <tr>\n",
       "      <th>9</th>\n",
       "      <td>2019-08-10</td>\n",
       "      <td>A</td>\n",
       "      <td>6262</td>\n",
       "    </tr>\n",
       "    <tr>\n",
       "      <th>10</th>\n",
       "      <td>2019-08-11</td>\n",
       "      <td>A</td>\n",
       "      <td>6980</td>\n",
       "    </tr>\n",
       "    <tr>\n",
       "      <th>11</th>\n",
       "      <td>2019-08-12</td>\n",
       "      <td>A</td>\n",
       "      <td>7575</td>\n",
       "    </tr>\n",
       "    <tr>\n",
       "      <th>12</th>\n",
       "      <td>2019-08-13</td>\n",
       "      <td>A</td>\n",
       "      <td>8323</td>\n",
       "    </tr>\n",
       "    <tr>\n",
       "      <th>13</th>\n",
       "      <td>2019-08-14</td>\n",
       "      <td>A</td>\n",
       "      <td>9058</td>\n",
       "    </tr>\n",
       "    <tr>\n",
       "      <th>14</th>\n",
       "      <td>2019-08-15</td>\n",
       "      <td>A</td>\n",
       "      <td>9686</td>\n",
       "    </tr>\n",
       "    <tr>\n",
       "      <th>15</th>\n",
       "      <td>2019-08-16</td>\n",
       "      <td>A</td>\n",
       "      <td>10047</td>\n",
       "    </tr>\n",
       "    <tr>\n",
       "      <th>16</th>\n",
       "      <td>2019-08-17</td>\n",
       "      <td>A</td>\n",
       "      <td>10459</td>\n",
       "    </tr>\n",
       "    <tr>\n",
       "      <th>17</th>\n",
       "      <td>2019-08-18</td>\n",
       "      <td>A</td>\n",
       "      <td>11127</td>\n",
       "    </tr>\n",
       "    <tr>\n",
       "      <th>18</th>\n",
       "      <td>2019-08-19</td>\n",
       "      <td>A</td>\n",
       "      <td>11629</td>\n",
       "    </tr>\n",
       "    <tr>\n",
       "      <th>19</th>\n",
       "      <td>2019-08-20</td>\n",
       "      <td>A</td>\n",
       "      <td>12204</td>\n",
       "    </tr>\n",
       "    <tr>\n",
       "      <th>20</th>\n",
       "      <td>2019-08-21</td>\n",
       "      <td>A</td>\n",
       "      <td>12850</td>\n",
       "    </tr>\n",
       "    <tr>\n",
       "      <th>21</th>\n",
       "      <td>2019-08-22</td>\n",
       "      <td>A</td>\n",
       "      <td>13459</td>\n",
       "    </tr>\n",
       "    <tr>\n",
       "      <th>22</th>\n",
       "      <td>2019-08-23</td>\n",
       "      <td>A</td>\n",
       "      <td>13927</td>\n",
       "    </tr>\n",
       "    <tr>\n",
       "      <th>23</th>\n",
       "      <td>2019-08-24</td>\n",
       "      <td>A</td>\n",
       "      <td>14322</td>\n",
       "    </tr>\n",
       "    <tr>\n",
       "      <th>24</th>\n",
       "      <td>2019-08-25</td>\n",
       "      <td>A</td>\n",
       "      <td>14943</td>\n",
       "    </tr>\n",
       "    <tr>\n",
       "      <th>25</th>\n",
       "      <td>2019-08-26</td>\n",
       "      <td>A</td>\n",
       "      <td>15665</td>\n",
       "    </tr>\n",
       "    <tr>\n",
       "      <th>26</th>\n",
       "      <td>2019-08-27</td>\n",
       "      <td>A</td>\n",
       "      <td>16376</td>\n",
       "    </tr>\n",
       "    <tr>\n",
       "      <th>27</th>\n",
       "      <td>2019-08-28</td>\n",
       "      <td>A</td>\n",
       "      <td>16970</td>\n",
       "    </tr>\n",
       "    <tr>\n",
       "      <th>28</th>\n",
       "      <td>2019-08-29</td>\n",
       "      <td>A</td>\n",
       "      <td>17547</td>\n",
       "    </tr>\n",
       "    <tr>\n",
       "      <th>29</th>\n",
       "      <td>2019-08-30</td>\n",
       "      <td>A</td>\n",
       "      <td>18037</td>\n",
       "    </tr>\n",
       "    <tr>\n",
       "      <th>30</th>\n",
       "      <td>2019-08-31</td>\n",
       "      <td>A</td>\n",
       "      <td>18736</td>\n",
       "    </tr>\n",
       "  </tbody>\n",
       "</table>\n",
       "</div>"
      ],
      "text/plain": [
       "         date group  visitors\n",
       "0  2019-08-01     A       719\n",
       "1  2019-08-02     A      1338\n",
       "2  2019-08-03     A      1845\n",
       "3  2019-08-04     A      2562\n",
       "4  2019-08-05     A      3318\n",
       "5  2019-08-06     A      3985\n",
       "6  2019-08-07     A      4629\n",
       "7  2019-08-08     A      5239\n",
       "8  2019-08-09     A      5856\n",
       "9  2019-08-10     A      6262\n",
       "10 2019-08-11     A      6980\n",
       "11 2019-08-12     A      7575\n",
       "12 2019-08-13     A      8323\n",
       "13 2019-08-14     A      9058\n",
       "14 2019-08-15     A      9686\n",
       "15 2019-08-16     A     10047\n",
       "16 2019-08-17     A     10459\n",
       "17 2019-08-18     A     11127\n",
       "18 2019-08-19     A     11629\n",
       "19 2019-08-20     A     12204\n",
       "20 2019-08-21     A     12850\n",
       "21 2019-08-22     A     13459\n",
       "22 2019-08-23     A     13927\n",
       "23 2019-08-24     A     14322\n",
       "24 2019-08-25     A     14943\n",
       "25 2019-08-26     A     15665\n",
       "26 2019-08-27     A     16376\n",
       "27 2019-08-28     A     16970\n",
       "28 2019-08-29     A     17547\n",
       "29 2019-08-30     A     18037\n",
       "30 2019-08-31     A     18736"
      ]
     },
     "execution_count": 25,
     "metadata": {},
     "output_type": "execute_result"
    }
   ],
   "source": [
    "visitors_a"
   ]
  },
  {
   "cell_type": "code",
   "execution_count": null,
   "id": "9d491e7f-5c7e-4bb6-9bf8-7f1d7afbf20a",
   "metadata": {},
   "outputs": [],
   "source": [
    "orders_aggregated = orders.groupby(['date','group'], as_index=False).agg({'date' : 'max',\n",
    "                                                                          'group' : 'max',\n",
    "                                                                          'transactionId' : 'nunique',\n",
    "                                                                          'visitorId' : 'nunique',\n",
    "                                                                          'revenue' : 'sum'}, axis=1)"
   ]
  },
  {
   "cell_type": "code",
   "execution_count": null,
   "id": "7c8cd5f2-7c7c-4ef7-9219-7281ce50268a",
   "metadata": {},
   "outputs": [],
   "source": [
    "visitors_a"
   ]
  },
  {
   "cell_type": "code",
   "execution_count": 26,
   "id": "3adc08be-99f1-4282-8e82-738eca971629",
   "metadata": {},
   "outputs": [],
   "source": [
    "visitors_a_aggregated = visitors.query('group == \"A\"').groupby(['date'], as_index=False).agg({'date' : 'max',\n",
    "                                                                                             'group' : 'max',\n",
    "                                                                                             'visitors' : 'sum'}, axis=1)"
   ]
  },
  {
   "cell_type": "code",
   "execution_count": null,
   "id": "8483806b-4f13-4201-80be-7a0a18e2f82f",
   "metadata": {},
   "outputs": [],
   "source": [
    "def cumulate_column(df, column):\n",
    "    grouped_by_a = df[df['group'] == 'A'][column].cumsum()\n",
    "    grouped_by_b = df[df['group'] == 'B'][column].cumsum()\n",
    "    cumulated = pd.concat([grouped_by_a, grouped_by_b]).reset_index()\n",
    "    cumulated.sort_values(by='index', inplace=True)\n",
    "    return cumulated.set_index('index')"
   ]
  },
  {
   "cell_type": "code",
   "execution_count": null,
   "id": "094e2719-fa70-4654-a9e7-a62a132a7e25",
   "metadata": {},
   "outputs": [],
   "source": [
    "visitors_aggregated = visitors.groupby(['date','group'], as_index=False).agg({'date' : 'max',\n",
    "                                                                              'group' : 'max',\n",
    "                                                                              'visitors' : 'sum'}, axis=1)"
   ]
  },
  {
   "cell_type": "code",
   "execution_count": null,
   "id": "01d9600b-b443-4689-8e04-9391935060ad",
   "metadata": {},
   "outputs": [],
   "source": [
    "orders_aggregated = orders.groupby(['date','group'], as_index=False).agg({'date' : 'max',\n",
    "                                                                          'group' : 'max',\n",
    "                                                                          'transactionId' : 'nunique',\n",
    "                                                                          'visitorId' : 'nunique',\n",
    "                                                                          'revenue' : 'sum'}, axis=1)"
   ]
  },
  {
   "cell_type": "code",
   "execution_count": null,
   "id": "25d334ef-34c9-48eb-9be5-1ae3243aaa3f",
   "metadata": {},
   "outputs": [],
   "source": [
    "visitors_aggregated"
   ]
  },
  {
   "cell_type": "code",
   "execution_count": null,
   "id": "e383b26e-ed84-451c-bd18-1fe208c3f92f",
   "metadata": {},
   "outputs": [],
   "source": [
    "orders_aggregated"
   ]
  },
  {
   "cell_type": "code",
   "execution_count": null,
   "id": "a4d4c384-c92f-4f4d-b912-f950dd9b3528",
   "metadata": {},
   "outputs": [],
   "source": [
    "cumulate_column(visitors_aggregated, 'visitors')"
   ]
  },
  {
   "cell_type": "code",
   "execution_count": null,
   "id": "19af4bbd-1d68-4daa-ab87-b4233e16d620",
   "metadata": {},
   "outputs": [],
   "source": [
    "cumulate_column(orders_aggregated, 'revenue')"
   ]
  },
  {
   "cell_type": "code",
   "execution_count": null,
   "id": "f6cea5ec-6edd-49d4-b285-3e77b43dd3fb",
   "metadata": {},
   "outputs": [],
   "source": [
    "visitors_aggregated['visitors'] = cumulate_column(visitors_aggregated, 'visitors')\n",
    "orders_aggregated['transactionId'] = cumulate_column(orders_aggregated, 'transactionId')\n",
    "orders_aggregated['visitorId'] = cumulate_column(orders_aggregated, 'visitorId')"
   ]
  },
  {
   "cell_type": "code",
   "execution_count": null,
   "id": "10de2bb5-97a7-4b33-ab9a-865ff2507bf5",
   "metadata": {},
   "outputs": [],
   "source": [
    "visitors_aggregated"
   ]
  },
  {
   "cell_type": "code",
   "execution_count": null,
   "id": "50c0f150-812a-45cd-ba7a-313b28262bf3",
   "metadata": {},
   "outputs": [],
   "source": [
    "orders_aggregated"
   ]
  },
  {
   "cell_type": "code",
   "execution_count": null,
   "id": "ef88fef2-4260-4116-a010-298fe9051b2c",
   "metadata": {},
   "outputs": [],
   "source": [
    "cumulativeData = orders_aggregated.merge(visitors_aggregated, left_on=['date', 'group'], right_on=['date', 'group'])\n",
    "cumulativeData.columns = ['date', 'group', 'orders', 'buyers', 'revenue', 'visitors']\n",
    "\n",
    "cumulativeData.head(11)"
   ]
  },
  {
   "cell_type": "code",
   "execution_count": null,
   "id": "56d2c871-5fca-4146-a923-1b3bcac10662",
   "metadata": {},
   "outputs": [],
   "source": [
    "cumulativeData = orders_aggregated.merge(visitors_aggregated)\n",
    "cumulativeData.columns = ['date', 'group', 'orders', 'buyers', 'revenue', 'visitors']\n",
    "\n",
    "cumulativeData"
   ]
  },
  {
   "cell_type": "code",
   "execution_count": null,
   "id": "3b31c563-8b22-49c4-ab82-af1ed5bb370e",
   "metadata": {},
   "outputs": [],
   "source": [
    "visitors[visitors['date'] == '2019-08-05']"
   ]
  },
  {
   "cell_type": "code",
   "execution_count": null,
   "id": "7c8a3b7c-072f-4b37-9f5f-1a9ab6fb5d1d",
   "metadata": {},
   "outputs": [],
   "source": [
    "orders[orders['date'] == '2019-08-05'].count()"
   ]
  },
  {
   "cell_type": "code",
   "execution_count": null,
   "id": "c4554d6d-1059-456b-aa65-ead307abcbe8",
   "metadata": {},
   "outputs": [],
   "source": [
    "temp = orders[orders['date'] == '2019-08-05']"
   ]
  },
  {
   "cell_type": "code",
   "execution_count": null,
   "id": "2d136c11-d6ea-4233-a101-eda0d44316d4",
   "metadata": {},
   "outputs": [],
   "source": [
    "temp.groupby(['date'], as_index=False).agg({'date' : 'max',\n",
    "                                            'group' : 'max',\n",
    "                                            'transactionId' : 'nunique',\n",
    "                                            'visitorId' : 'nunique',\n",
    "                                            'revenue' : 'sum'}, axis=1)"
   ]
  },
  {
   "cell_type": "code",
   "execution_count": null,
   "id": "db25173f-692d-4c0d-a714-4f5dc28c3ed1",
   "metadata": {},
   "outputs": [],
   "source": [
    "import matplotlib.pyplot as plt\n",
    "\n",
    "# датафрейм с кумулятивным количеством заказов и кумулятивной выручкой по дням в группе А\n",
    "cumulativeRevenueA = cumulativeData[cumulativeData['group']=='A'][['date','revenue', 'orders']]\n",
    "\n",
    "# датафрейм с кумулятивным количеством заказов и кумулятивной выручкой по дням в группе B\n",
    "cumulativeRevenueB = cumulativeData[cumulativeData['group']=='B'][['date','revenue', 'orders']]\n",
    "\n",
    "# Строим график выручки группы А\n",
    "plt.plot(cumulativeRevenueA['date'], cumulativeRevenueA['revenue'], label='A')\n",
    "\n",
    "# Строим график выручки группы B\n",
    "plt.plot(cumulativeRevenueB['date'], cumulativeRevenueB['revenue'], label='B')\n",
    "\n",
    "plt.legend()"
   ]
  },
  {
   "cell_type": "code",
   "execution_count": null,
   "id": "1c86e9ab-2439-48c9-bd67-28c24710d12e",
   "metadata": {},
   "outputs": [],
   "source": [
    "from solver.ab_reporter import ABReporter"
   ]
  },
  {
   "cell_type": "code",
   "execution_count": null,
   "id": "1241fcf9-5121-4085-86c7-25d027afe347",
   "metadata": {},
   "outputs": [],
   "source": [
    "example = ABReporter('datasets/visitors.csv', 'datasets/orders.csv')"
   ]
  },
  {
   "cell_type": "code",
   "execution_count": null,
   "id": "53b1824c-2160-430e-869c-ac45369252d9",
   "metadata": {},
   "outputs": [],
   "source": [
    "cumulated = example.grouped_summary()"
   ]
  },
  {
   "cell_type": "code",
   "execution_count": null,
   "id": "24d0533a-9021-4dbc-bd3f-c583c02298f8",
   "metadata": {},
   "outputs": [],
   "source": [
    "cumulated.info()"
   ]
  },
  {
   "cell_type": "code",
   "execution_count": null,
   "id": "72ed732b-3871-43bb-987b-72164d4c9da3",
   "metadata": {},
   "outputs": [],
   "source": [
    "    cumulated_copy = cumulated.copy()\n",
    "    # cumulated_copy['date'] = cumulated_copy['date'].dt.date"
   ]
  },
  {
   "cell_type": "code",
   "execution_count": null,
   "id": "0c217738-9993-4617-9927-925d56270e94",
   "metadata": {},
   "outputs": [],
   "source": [
    "cumulated_copy['date'] = cumulated_copy['date'].dt.date"
   ]
  },
  {
   "cell_type": "code",
   "execution_count": null,
   "id": "341b7959-9380-4f39-8dd2-751154766a07",
   "metadata": {},
   "outputs": [],
   "source": [
    "cumulated_copy.info()"
   ]
  },
  {
   "cell_type": "code",
   "execution_count": null,
   "id": "a4f22c4a-4674-4356-832c-525bdd5c7eb5",
   "metadata": {},
   "outputs": [],
   "source": [
    "def plot_cumulative_metrics():\n",
    "    \"\"\"Функция для визуализации кумулятивных метрик.\"\"\"\n",
    "    plt.figure(figsize=(25, 10))\n",
    "    plt.style.use('seaborn-darkgrid')\n",
    "    \n",
    "    columns_to_pick = ['date','revenue', 'orders', 'conversion']\n",
    "    cumulated_copy = cumulated.copy()\n",
    "    cumulated_copy['date'] = cumulated_copy['date'].dt.date\n",
    "    revenue_a = cumulated_copy.query('group == \"A\"')[columns_to_pick]\n",
    "    revenue_b = cumulated_copy.query('group == \"B\"')[columns_to_pick]\n",
    "    merged_revenues = revenue_a.merge(revenue_b, left_on='date', right_on='date', how='left', suffixes=['A', 'B'])\n",
    "    \n",
    "\n",
    "    # кривые удержания платящих пользователей\n",
    "    ax1 = plt.subplot(2, 3, 1)\n",
    "    plt.plot(revenue_a['date'], revenue_a['revenue'], label='группа A')\n",
    "    plt.plot(revenue_b['date'], revenue_b['revenue'], label='группа B')\n",
    "    ax1.set_xticks(revenue_a['date'][::7])\n",
    "    ax1.set_xticklabels(revenue_a['date'][::7])\n",
    "    plt.legend()\n",
    "    plt.ylabel('Выручка')\n",
    "    plt.xlabel('Лайфтайм')\n",
    "    plt.title('Графики кумулятивной выручки по дням и группам')\n",
    "    \n",
    "    ax2 = plt.subplot(2, 3, 2, sharex=ax1)    \n",
    "    plt.plot(revenue_a['date'], revenue_a['revenue']/revenue_a['orders'], label='A')\n",
    "    plt.plot(revenue_b['date'], revenue_b['revenue']/revenue_b['orders'], label='B')\n",
    "    plt.legend()\n",
    "    plt.ylabel('Средняя сумма чека')\n",
    "    plt.xlabel('Лайфтайм')\n",
    "    plt.title('Графики среднего чека по группам')\n",
    "              \n",
    "    ax3 = plt.subplot(2, 3, 3, sharex=ax1)   \n",
    "    plt.plot(merged_revenues['date'], (merged_revenues['revenueB']/merged_revenues['ordersB'])/(merged_revenues['revenueA']/merged_revenues['ordersA'])-1)\n",
    "    plt.axhline(y=0, color='black', linestyle='--')\n",
    "    plt.ylabel('Отношение средних чеков')\n",
    "    plt.xlabel('Лайфтайм')\n",
    "    plt.title('График относительного различия для среднего чека')\n",
    "\n",
    "\n",
    "    ax4 = plt.subplot(2, 3, 4, sharex=ax1)\n",
    "    plt.plot(revenue_a['date'], revenue_a['conversion'], label='A')\n",
    "    plt.plot(revenue_b['date'], revenue_b['conversion'], label='B')\n",
    "    plt.legend()\n",
    "    plt.ylabel('Конверсия')\n",
    "    plt.xlabel('Лайфтайм')\n",
    "    plt.title('График кумулятивной конверсии')\n",
    "    \n",
    "    ax5 = plt.subplot(2, 3, 5, sharex=ax1)\n",
    "    plt.plot(merged_revenues['date'], merged_revenues['conversionB']/merged_revenues['conversionA']-1)\n",
    "    plt.axhline(y=0, color='black', linestyle='--')\n",
    "    plt.axhline(y=-0.1, color='grey', linestyle='--')\n",
    "    plt.title('Относительный прирост конверсии группы B относительно группы A')\n",
    "    plt.tight_layout()\n",
    "    plt.show()"
   ]
  },
  {
   "cell_type": "code",
   "execution_count": null,
   "id": "f33236f9-e31f-4f0f-a933-0ef8666b3200",
   "metadata": {},
   "outputs": [],
   "source": [
    "plot_cumulative_metrics()"
   ]
  },
  {
   "cell_type": "code",
   "execution_count": null,
   "id": "63ae67a2-2201-41de-86ab-76faeed90fd0",
   "metadata": {},
   "outputs": [],
   "source": [
    "cumulated.groupby(['group', 'date'])['revenue'].sum().plot()"
   ]
  },
  {
   "cell_type": "code",
   "execution_count": null,
   "id": "04137b1c-9a88-4c53-bd4b-62be1384cad5",
   "metadata": {},
   "outputs": [],
   "source": [
    "example.plot_cumulative_metrics()"
   ]
  },
  {
   "cell_type": "code",
   "execution_count": null,
   "id": "6b24cb7a-4af3-4a6a-ac87-89078b2e77cd",
   "metadata": {},
   "outputs": [],
   "source": [
    "columns_to_pick = ['date','revenue', 'orders']\n",
    "conversion_hist = cumulated[columns_to_pick]"
   ]
  },
  {
   "cell_type": "code",
   "execution_count": null,
   "id": "927368a1-ba9e-4775-a766-8cf0980212ea",
   "metadata": {},
   "outputs": [],
   "source": [
    "cumulated"
   ]
  },
  {
   "cell_type": "code",
   "execution_count": null,
   "id": "6139602b-cd0e-4243-ab18-220eea541205",
   "metadata": {},
   "outputs": [],
   "source": [
    "cumulated[['revenue']].plot()"
   ]
  },
  {
   "cell_type": "code",
   "execution_count": null,
   "id": "29f10719-ff00-4ca5-9b78-7d88008788c4",
   "metadata": {},
   "outputs": [],
   "source": [
    "columns = [name for name in conversion_hist.index.names\n",
    "           if name not in ['date']]\n",
    "filtered_data = conversion_hist.pivot_table(\n",
    "    index='date')"
   ]
  },
  {
   "cell_type": "code",
   "execution_count": null,
   "id": "c6bf6221-aaf6-4450-bc6e-47931b39e934",
   "metadata": {},
   "outputs": [],
   "source": [
    "filtered_data"
   ]
  },
  {
   "cell_type": "code",
   "execution_count": null,
   "id": "763ceb75-3f55-4cb3-bd77-188e13746dc4",
   "metadata": {},
   "outputs": [],
   "source": []
  },
  {
   "cell_type": "code",
   "execution_count": null,
   "id": "9b02abcb-e22e-41ba-adcb-c34698ff4438",
   "metadata": {},
   "outputs": [],
   "source": []
  },
  {
   "cell_type": "markdown",
   "id": "b5f52cfb-7fbe-4509-a465-f1e87952a28a",
   "metadata": {},
   "source": [
    "Аналогично получим агрегированные кумулятивные по дням данные о посетителях интернет-магазина:\n"
   ]
  },
  {
   "cell_type": "code",
   "execution_count": null,
   "id": "95402316-5584-4947-8101-b7dd9b7ef78e",
   "metadata": {},
   "outputs": [],
   "source": []
  },
  {
   "cell_type": "code",
   "execution_count": null,
   "id": "fce423dc-6573-48be-9020-2713b41a1fcc",
   "metadata": {},
   "outputs": [],
   "source": [
    "df = visitors.groupby(['date','group'], as_index=False).agg({'date' : 'max',\n",
    "                                                        'group' : 'max',\n",
    "                                                        'visitors' : 'sum'}, axis=1).sort_values(by=['date','group'])"
   ]
  },
  {
   "cell_type": "code",
   "execution_count": null,
   "id": "4fe97c83-b041-4d38-a89c-403a3216ad38",
   "metadata": {},
   "outputs": [],
   "source": [
    "# создаем массив уникальных пар значений дат и групп теста\n",
    "datesGroups = orders[['date','group']].drop_duplicates()\n",
    "\n",
    "# получаем агрегированные кумулятивные по дням данные о заказах \n",
    "ordersAggregated = datesGroups.apply(lambda x: orders[np.logical_and(orders['date'] <= x['date'], orders['group'] == x['group'])].agg({'date' : 'max', 'group' : 'max', 'transactionId' : 'nunique', 'visitorId' : 'nunique', 'revenue' : 'sum'}), axis=1).sort_values(by=['date','group'])\n",
    "\n",
    "# получаем агрегированные кумулятивные по дням данные о посетителях интернет-магазина \n",
    "visitorsAggregated = datesGroups.apply(lambda x: visitors[np.logical_and(visitors['date'] <= x['date'], visitors['group'] == x['group'])].agg({'date' : 'max', 'group' : 'max', 'visitors' : 'sum'}), axis=1).sort_values(by=['date','group'])\n",
    "\n",
    "# объединяем кумулятивные данные в одной таблице и присваиваем ее столбцам понятные названия\n",
    "cumulativeData = ordersAggregated.merge(visitorsAggregated, left_on=['date', 'group'], right_on=['date', 'group'])\n",
    "cumulativeData.columns = ['date', 'group', 'orders', 'buyers', 'revenue', 'visitors']\n",
    "\n",
    "print(cumulativeData.head(5))"
   ]
  },
  {
   "cell_type": "code",
   "execution_count": null,
   "id": "c81b4ed6-2c7a-4498-ab9e-5b06549c1cd7",
   "metadata": {},
   "outputs": [],
   "source": []
  }
 ],
 "metadata": {
  "kernelspec": {
   "display_name": "venv",
   "language": "python",
   "name": "venv"
  },
  "language_info": {
   "codemirror_mode": {
    "name": "ipython",
    "version": 3
   },
   "file_extension": ".py",
   "mimetype": "text/x-python",
   "name": "python",
   "nbconvert_exporter": "python",
   "pygments_lexer": "ipython3",
   "version": "3.7.9"
  }
 },
 "nbformat": 4,
 "nbformat_minor": 5
}

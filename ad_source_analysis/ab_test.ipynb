{
 "cells": [
  {
   "cell_type": "markdown",
   "id": "00db2abe-cf22-4ad2-ac56-277e143dbb6e",
   "metadata": {
    "tags": []
   },
   "source": [
    "# A/B тестирование\n",
    "***"
   ]
  },
  {
   "cell_type": "markdown",
   "id": "846a70f8-c741-4e0d-9a56-bf09e1c08492",
   "metadata": {},
   "source": [
    "### Задача\n",
    "\n",
    "Необходимо провести оценку результатов A/B-теста."
   ]
  },
  {
   "cell_type": "markdown",
   "id": "1bd1c3ef-7758-4f54-8566-9afe77701fa5",
   "metadata": {},
   "source": [
    "### Техническое задание\n",
    "\n",
    "- Название теста: `recommender_system_test`;\n",
    "- группы: А — контрольная, B — новая платёжная воронка;\n",
    "- дата запуска: 2020-12-07;\n",
    "- дата остановки набора новых пользователей: 2020-12-21;\n",
    "- дата остановки: 2021-01-04;\n",
    "- аудитория: 15% новых пользователей из региона EU;\n",
    "- назначение теста: тестирование изменений, связанных с внедрением улучшенной рекомендательной системы;\n",
    "- ожидаемое количество участников теста: 6000.\n",
    "- ожидаемый эффект: за 14 дней с момента регистрации пользователи покажут улучшение каждой метрики не менее, чем на 10%:\n",
    "    - конверсии в просмотр карточек товаров — событие `product_page`,\n",
    "    - просмотры корзины — `product_cart`,\n",
    "    - покупки — `purchase`."
   ]
  },
  {
   "cell_type": "markdown",
   "id": "14200c6e-31a1-4a29-8884-395983b1cc15",
   "metadata": {},
   "source": [
    "### Краткое описание данных\n",
    "\n",
    "- `ab_project_marketing_events.csv` — календарь маркетинговых событий на 2020 год, \n",
    "- `final_ab_new_users.csv` — пользователи, зарегистрировавшиеся с 7 по 21 декабря 2020 года, \n",
    "- `final_ab_events.csv` — действия новых пользователей в период с 7 декабря 2020 по 4 января 2021 года, \n",
    "- `final_ab_participants.csv` — таблица участников тестов."
   ]
  },
  {
   "cell_type": "markdown",
   "id": "a9a362df-437a-4106-b735-fe4d993b2f71",
   "metadata": {
    "tags": []
   },
   "source": [
    "# Оглавление<a class='anchor' id='TOC'></a>"
   ]
  },
  {
   "cell_type": "markdown",
   "id": "b9d24659-17d2-4d31-9e86-5e92949e5ce7",
   "metadata": {},
   "source": [
    "* **[I. Подготовка к анализу](#1)**\n",
    "    - [1) Импортируем библиотеки, прочитаем данные](#1_1)\n",
    "* **[II. Анализ данных](#2)**\n",
    "    - [1) Первичное ознакомление с данными](#2_1)\n",
    "    - [2) Анализ соответствия данных техническому заданию](#2_2)\n",
    "    - [3) Исследовательский анализ данных](#2_3)\n",
    "    - [4) Воронка событий](#2_4)\n",
    "* **[III. Анализ A/B-теста](#3)**\n",
    "    - [1) Подготовимся к анализу](#3_1)\n",
    "    - [2) Посчитаем метрики](#3_2)\n",
    "    - [3) Проведем статистические тесты](#3_3)\n",
    "* **[Выводы](#conclusions)**\n",
    "<br></br>"
   ]
  },
  {
   "cell_type": "markdown",
   "id": "efe71992-1188-476e-8293-b216d62effca",
   "metadata": {
    "tags": []
   },
   "source": [
    "# I. Подготовка к анализу<a class='anchor' id='1'></a>"
   ]
  },
  {
   "cell_type": "markdown",
   "id": "1d90e65d-7f0a-4821-a4ac-27a04bdc5be0",
   "metadata": {},
   "source": [
    "## 1) Импортируем библиотеки, прочитаем данные<a class=\"anchor\" id=\"1_1\"></a>"
   ]
  },
  {
   "cell_type": "code",
   "execution_count": 1,
   "id": "1d633a2c-2c06-427f-8815-8ebc02f4d1fc",
   "metadata": {},
   "outputs": [],
   "source": [
    "import datetime\n",
    "import os\n",
    "import warnings\n",
    "\n",
    "import matplotlib.pyplot as plt\n",
    "import numpy as np\n",
    "import pandas as pd\n",
    "import plotly.graph_objects as go\n",
    "import plotly.io as pio\n",
    "import seaborn as sns\n",
    "from statsmodels.stats.proportion import proportions_ztest\n",
    "\n",
    "pio.renderers.default = 'iframe'\n",
    "\n",
    "warnings.filterwarnings('ignore')"
   ]
  },
  {
   "cell_type": "markdown",
   "id": "b0450cc7-1183-45a4-b2da-32d26004a8d2",
   "metadata": {
    "tags": []
   },
   "source": [
    "### - прочитаем данные"
   ]
  },
  {
   "cell_type": "code",
   "execution_count": 2,
   "id": "d2700715-8940-4c8e-9f43-1969b0e2cf4a",
   "metadata": {},
   "outputs": [],
   "source": [
    "def reader(path):\n",
    "    \"\"\"Открываем файлы, присваиваем имена, добавляем в словарь, выводим отчет.\"\"\"\n",
    "    \n",
    "    dates_columns = {'events': ['event_dt'], \n",
    "                     'marketing_events': ['start_dt', 'finish_dt'], \n",
    "                     'new_users': ['first_date'], \n",
    "                     'participants': []}\n",
    "    \n",
    "    df_dict = {}\n",
    "    report = pd.DataFrame(columns=['variable', 'file_name'])\n",
    "    files = os.listdir(path)\n",
    "\n",
    "    for file in files:\n",
    "        file_path = path + file\n",
    "        if file in ['ab_project_marketing_events.csv', 'final_ab_new_users.csv', \n",
    "                    'final_ab_events.csv', 'final_ab_participants.csv', 'final_ab_marketing_events.csv']:\n",
    "            if file == 'ab_project_marketing_events.csv':\n",
    "                df_name = 'marketing_events'\n",
    "            else:\n",
    "                df_name = file.split('final_ab_')[1].split('.')[0]\n",
    "            print(df_name)\n",
    "            dates = dates_columns[df_name]\n",
    "            df_dict[df_name] = pd.read_csv(file_path, parse_dates=dates)\n",
    "            row_to_report = pd.DataFrame({'variable': [df_name],\n",
    "                                          'file_name': [file]})\n",
    "            report = pd.concat([report, row_to_report], ignore_index=True)\n",
    "    \n",
    "    print(f'Прочитано и добавлено в словарь {len(report)} файла.')\n",
    "    return df_dict, report"
   ]
  },
  {
   "cell_type": "code",
   "execution_count": 3,
   "id": "672b2690-bfea-4790-8b5c-76292047eec5",
   "metadata": {},
   "outputs": [
    {
     "name": "stdout",
     "output_type": "stream",
     "text": [
      "participants\n",
      "new_users\n",
      "events\n",
      "marketing_events\n",
      "Прочитано и добавлено в словарь 4 файла.\n"
     ]
    }
   ],
   "source": [
    "datasets, report = reader('/datasets/')"
   ]
  },
  {
   "cell_type": "code",
   "execution_count": 4,
   "id": "0ed4335f-eee8-4daf-ab30-036da1defb8a",
   "metadata": {},
   "outputs": [
    {
     "data": {
      "text/html": [
       "<div>\n",
       "<style scoped>\n",
       "    .dataframe tbody tr th:only-of-type {\n",
       "        vertical-align: middle;\n",
       "    }\n",
       "\n",
       "    .dataframe tbody tr th {\n",
       "        vertical-align: top;\n",
       "    }\n",
       "\n",
       "    .dataframe thead th {\n",
       "        text-align: right;\n",
       "    }\n",
       "</style>\n",
       "<table border=\"1\" class=\"dataframe\">\n",
       "  <thead>\n",
       "    <tr style=\"text-align: right;\">\n",
       "      <th></th>\n",
       "      <th>variable</th>\n",
       "      <th>file_name</th>\n",
       "    </tr>\n",
       "  </thead>\n",
       "  <tbody>\n",
       "    <tr>\n",
       "      <th>0</th>\n",
       "      <td>participants</td>\n",
       "      <td>final_ab_participants.csv</td>\n",
       "    </tr>\n",
       "    <tr>\n",
       "      <th>1</th>\n",
       "      <td>new_users</td>\n",
       "      <td>final_ab_new_users.csv</td>\n",
       "    </tr>\n",
       "    <tr>\n",
       "      <th>2</th>\n",
       "      <td>events</td>\n",
       "      <td>final_ab_events.csv</td>\n",
       "    </tr>\n",
       "    <tr>\n",
       "      <th>3</th>\n",
       "      <td>marketing_events</td>\n",
       "      <td>ab_project_marketing_events.csv</td>\n",
       "    </tr>\n",
       "  </tbody>\n",
       "</table>\n",
       "</div>"
      ],
      "text/plain": [
       "           variable                        file_name\n",
       "0      participants        final_ab_participants.csv\n",
       "1         new_users           final_ab_new_users.csv\n",
       "2            events              final_ab_events.csv\n",
       "3  marketing_events  ab_project_marketing_events.csv"
      ]
     },
     "execution_count": 4,
     "metadata": {},
     "output_type": "execute_result"
    }
   ],
   "source": [
    "report"
   ]
  },
  {
   "cell_type": "markdown",
   "id": "eabb9edb-68ae-45ef-b899-57fc7527e71c",
   "metadata": {},
   "source": [
    "[В оглавление](#TOC)"
   ]
  },
  {
   "cell_type": "markdown",
   "id": "85d208be-7f79-4ceb-90fc-4f7ee56c1378",
   "metadata": {
    "tags": []
   },
   "source": [
    "# II. Анализ данных<a class='anchor' id='2'></a>"
   ]
  },
  {
   "cell_type": "markdown",
   "id": "90ea4a81-d487-4cb7-8262-8c41850ec28b",
   "metadata": {},
   "source": [
    "## 1) Первичное ознакомление с данными<a class=\"anchor\" id=\"2_1\"></a>"
   ]
  },
  {
   "cell_type": "markdown",
   "id": "e53902e1-c24f-489f-b285-eaca022b39b3",
   "metadata": {
    "tags": []
   },
   "source": [
    "### - инициализируем класс для анализа"
   ]
  },
  {
   "cell_type": "code",
   "execution_count": 5,
   "id": "b792961a-e082-4dfa-a0a2-9ce03f48b863",
   "metadata": {},
   "outputs": [],
   "source": [
    "class BasicInfo:\n",
    "    \"\"\"Выводим базовую информацию о датасете.\"\"\"\n",
    "\n",
    "    def __init__(self):\n",
    "        self.data = None\n",
    "\n",
    "    def get_info(self):\n",
    "        \"\"\"Получаем базовую информацию о таблице.\"\"\"\n",
    "\n",
    "        length = len(self.data)\n",
    "        # Получаем типы данных и считаем пропуски\n",
    "        types = pd.DataFrame(self.data.dtypes)\n",
    "        nulls = pd.DataFrame(self.data.count())\n",
    "\n",
    "        # Объединяем типы и пропуски, переименовываем колонки\n",
    "        info = pd.concat([types, nulls], axis=1).reset_index()\n",
    "        info.columns = ['Column', 'Dtype', 'Non-Null Count']\n",
    "\n",
    "        # Считаем процент пропусков\n",
    "        info['% of nulls'] = (100 -\n",
    "                              round(info['Non-Null Count'] / length * 100, 2))\n",
    "\n",
    "        return info\n",
    "\n",
    "    def get_describe(self, numeric=False):\n",
    "        \"\"\"Считаем описательную статистику.\"\"\"\n",
    "        describes = None\n",
    "        # Если нет числовых значений\n",
    "        if not numeric:\n",
    "            describes = self.data.describe(exclude=[np.number]).fillna('---').T\n",
    "            top_percent = round((describes['freq'] * 100 /\n",
    "                                 describes['count']).astype(float), 2)\n",
    "            describes.insert(4, '% of tops freq', top_percent)\n",
    "            return describes.sort_values(by='freq')\n",
    "        return describes\n",
    "\n",
    "    def basic_info_printer(self, data):\n",
    "        \"\"\"Выводим первые и пооследние пять строк, \n",
    "        базовую информацию, статистику.\"\"\"\n",
    "        \n",
    "        self.data = data\n",
    "\n",
    "        # Получаем базовую информацию\n",
    "        info = self.get_info()\n",
    "\n",
    "        # Получаем базовую статистику\n",
    "        describes = self.get_describe()\n",
    "\n",
    "        display('Пять первых и последних строк', self.data.head(), self.data.tail(),\n",
    "                'Общая информация о датасете', info,\n",
    "                'Описательная статистика', describes)\n"
   ]
  },
  {
   "cell_type": "code",
   "execution_count": 6,
   "id": "89428744-edd0-47c1-8311-cfdcc86ccfcb",
   "metadata": {},
   "outputs": [],
   "source": [
    "def simple_grouper(data, grouper, agg_dict={'user_id': 'count'}):\n",
    "    \"\"\"Группируем данные, считаем процентное отношение.\"\"\"\n",
    "    data = data.groupby(grouper).agg(agg_dict).reset_index()\n",
    "    if 'user_id' in agg_dict.keys():\n",
    "        data['percent'] = round(data['user_id'] * 100 / data['user_id'].sum(), 2)\n",
    "        data = data.sort_values(by='user_id', ascending=False)\n",
    "    return data\n"
   ]
  },
  {
   "cell_type": "code",
   "execution_count": 7,
   "id": "d68aeba5-8234-4963-a829-448edacda433",
   "metadata": {},
   "outputs": [],
   "source": [
    "info_printer = BasicInfo()"
   ]
  },
  {
   "cell_type": "markdown",
   "id": "bcd450a9-25e6-45dd-935a-8e960a9ffeae",
   "metadata": {},
   "source": [
    "[В оглавление](#TOC)"
   ]
  },
  {
   "cell_type": "markdown",
   "id": "6bd3eaa0-0b59-45e9-b212-b5aa441f34f9",
   "metadata": {},
   "source": [
    "### - проверим полные дубликаты в данных"
   ]
  },
  {
   "cell_type": "code",
   "execution_count": 8,
   "id": "1bc6d2ba-b3d4-4515-8bb3-47945e7e457b",
   "metadata": {},
   "outputs": [
    {
     "name": "stdout",
     "output_type": "stream",
     "text": [
      "0\n"
     ]
    }
   ],
   "source": [
    "duplicated_sum = 0\n",
    "for key, dataset in datasets.items():\n",
    "    duplicated_sum += (dataset.duplicated() == True).sum()\n",
    "print(duplicated_sum)"
   ]
  },
  {
   "cell_type": "markdown",
   "id": "58928a2f-0410-426e-bd23-63ce1c915608",
   "metadata": {},
   "source": [
    "&#9889; **Выводы**\n",
    "\n",
    "Полных дубликатов в данных нет."
   ]
  },
  {
   "cell_type": "markdown",
   "id": "e5ea2c7b-c59a-4017-b040-5396f1c93071",
   "metadata": {},
   "source": [
    "[В оглавление](#TOC)"
   ]
  },
  {
   "cell_type": "markdown",
   "id": "00badcd4-3d59-46a8-9f17-69233694f303",
   "metadata": {},
   "source": [
    "### - выведем первые пять первых и последних строк таблицы с участниками, общую информацию, статиcтику"
   ]
  },
  {
   "cell_type": "code",
   "execution_count": 9,
   "id": "a822887f-2c00-49c7-81d9-c1aab5b201ee",
   "metadata": {},
   "outputs": [
    {
     "data": {
      "text/plain": [
       "'Пять первых и последних строк'"
      ]
     },
     "metadata": {},
     "output_type": "display_data"
    },
    {
     "data": {
      "text/html": [
       "<div>\n",
       "<style scoped>\n",
       "    .dataframe tbody tr th:only-of-type {\n",
       "        vertical-align: middle;\n",
       "    }\n",
       "\n",
       "    .dataframe tbody tr th {\n",
       "        vertical-align: top;\n",
       "    }\n",
       "\n",
       "    .dataframe thead th {\n",
       "        text-align: right;\n",
       "    }\n",
       "</style>\n",
       "<table border=\"1\" class=\"dataframe\">\n",
       "  <thead>\n",
       "    <tr style=\"text-align: right;\">\n",
       "      <th></th>\n",
       "      <th>user_id</th>\n",
       "      <th>group</th>\n",
       "      <th>ab_test</th>\n",
       "    </tr>\n",
       "  </thead>\n",
       "  <tbody>\n",
       "    <tr>\n",
       "      <th>0</th>\n",
       "      <td>D1ABA3E2887B6A73</td>\n",
       "      <td>A</td>\n",
       "      <td>recommender_system_test</td>\n",
       "    </tr>\n",
       "    <tr>\n",
       "      <th>1</th>\n",
       "      <td>A7A3664BD6242119</td>\n",
       "      <td>A</td>\n",
       "      <td>recommender_system_test</td>\n",
       "    </tr>\n",
       "    <tr>\n",
       "      <th>2</th>\n",
       "      <td>DABC14FDDFADD29E</td>\n",
       "      <td>A</td>\n",
       "      <td>recommender_system_test</td>\n",
       "    </tr>\n",
       "    <tr>\n",
       "      <th>3</th>\n",
       "      <td>04988C5DF189632E</td>\n",
       "      <td>A</td>\n",
       "      <td>recommender_system_test</td>\n",
       "    </tr>\n",
       "    <tr>\n",
       "      <th>4</th>\n",
       "      <td>482F14783456D21B</td>\n",
       "      <td>B</td>\n",
       "      <td>recommender_system_test</td>\n",
       "    </tr>\n",
       "  </tbody>\n",
       "</table>\n",
       "</div>"
      ],
      "text/plain": [
       "            user_id group                  ab_test\n",
       "0  D1ABA3E2887B6A73     A  recommender_system_test\n",
       "1  A7A3664BD6242119     A  recommender_system_test\n",
       "2  DABC14FDDFADD29E     A  recommender_system_test\n",
       "3  04988C5DF189632E     A  recommender_system_test\n",
       "4  482F14783456D21B     B  recommender_system_test"
      ]
     },
     "metadata": {},
     "output_type": "display_data"
    },
    {
     "data": {
      "text/html": [
       "<div>\n",
       "<style scoped>\n",
       "    .dataframe tbody tr th:only-of-type {\n",
       "        vertical-align: middle;\n",
       "    }\n",
       "\n",
       "    .dataframe tbody tr th {\n",
       "        vertical-align: top;\n",
       "    }\n",
       "\n",
       "    .dataframe thead th {\n",
       "        text-align: right;\n",
       "    }\n",
       "</style>\n",
       "<table border=\"1\" class=\"dataframe\">\n",
       "  <thead>\n",
       "    <tr style=\"text-align: right;\">\n",
       "      <th></th>\n",
       "      <th>user_id</th>\n",
       "      <th>group</th>\n",
       "      <th>ab_test</th>\n",
       "    </tr>\n",
       "  </thead>\n",
       "  <tbody>\n",
       "    <tr>\n",
       "      <th>18263</th>\n",
       "      <td>1D302F8688B91781</td>\n",
       "      <td>B</td>\n",
       "      <td>interface_eu_test</td>\n",
       "    </tr>\n",
       "    <tr>\n",
       "      <th>18264</th>\n",
       "      <td>3DE51B726983B657</td>\n",
       "      <td>A</td>\n",
       "      <td>interface_eu_test</td>\n",
       "    </tr>\n",
       "    <tr>\n",
       "      <th>18265</th>\n",
       "      <td>F501F79D332BE86C</td>\n",
       "      <td>A</td>\n",
       "      <td>interface_eu_test</td>\n",
       "    </tr>\n",
       "    <tr>\n",
       "      <th>18266</th>\n",
       "      <td>63FBE257B05F2245</td>\n",
       "      <td>A</td>\n",
       "      <td>interface_eu_test</td>\n",
       "    </tr>\n",
       "    <tr>\n",
       "      <th>18267</th>\n",
       "      <td>79F9ABFB029CF724</td>\n",
       "      <td>B</td>\n",
       "      <td>interface_eu_test</td>\n",
       "    </tr>\n",
       "  </tbody>\n",
       "</table>\n",
       "</div>"
      ],
      "text/plain": [
       "                user_id group            ab_test\n",
       "18263  1D302F8688B91781     B  interface_eu_test\n",
       "18264  3DE51B726983B657     A  interface_eu_test\n",
       "18265  F501F79D332BE86C     A  interface_eu_test\n",
       "18266  63FBE257B05F2245     A  interface_eu_test\n",
       "18267  79F9ABFB029CF724     B  interface_eu_test"
      ]
     },
     "metadata": {},
     "output_type": "display_data"
    },
    {
     "data": {
      "text/plain": [
       "'Общая информация о датасете'"
      ]
     },
     "metadata": {},
     "output_type": "display_data"
    },
    {
     "data": {
      "text/html": [
       "<div>\n",
       "<style scoped>\n",
       "    .dataframe tbody tr th:only-of-type {\n",
       "        vertical-align: middle;\n",
       "    }\n",
       "\n",
       "    .dataframe tbody tr th {\n",
       "        vertical-align: top;\n",
       "    }\n",
       "\n",
       "    .dataframe thead th {\n",
       "        text-align: right;\n",
       "    }\n",
       "</style>\n",
       "<table border=\"1\" class=\"dataframe\">\n",
       "  <thead>\n",
       "    <tr style=\"text-align: right;\">\n",
       "      <th></th>\n",
       "      <th>Column</th>\n",
       "      <th>Dtype</th>\n",
       "      <th>Non-Null Count</th>\n",
       "      <th>% of nulls</th>\n",
       "    </tr>\n",
       "  </thead>\n",
       "  <tbody>\n",
       "    <tr>\n",
       "      <th>0</th>\n",
       "      <td>user_id</td>\n",
       "      <td>object</td>\n",
       "      <td>18268</td>\n",
       "      <td>0.0</td>\n",
       "    </tr>\n",
       "    <tr>\n",
       "      <th>1</th>\n",
       "      <td>group</td>\n",
       "      <td>object</td>\n",
       "      <td>18268</td>\n",
       "      <td>0.0</td>\n",
       "    </tr>\n",
       "    <tr>\n",
       "      <th>2</th>\n",
       "      <td>ab_test</td>\n",
       "      <td>object</td>\n",
       "      <td>18268</td>\n",
       "      <td>0.0</td>\n",
       "    </tr>\n",
       "  </tbody>\n",
       "</table>\n",
       "</div>"
      ],
      "text/plain": [
       "    Column   Dtype  Non-Null Count  % of nulls\n",
       "0  user_id  object           18268         0.0\n",
       "1    group  object           18268         0.0\n",
       "2  ab_test  object           18268         0.0"
      ]
     },
     "metadata": {},
     "output_type": "display_data"
    },
    {
     "data": {
      "text/plain": [
       "'Описательная статистика'"
      ]
     },
     "metadata": {},
     "output_type": "display_data"
    },
    {
     "data": {
      "text/html": [
       "<div>\n",
       "<style scoped>\n",
       "    .dataframe tbody tr th:only-of-type {\n",
       "        vertical-align: middle;\n",
       "    }\n",
       "\n",
       "    .dataframe tbody tr th {\n",
       "        vertical-align: top;\n",
       "    }\n",
       "\n",
       "    .dataframe thead th {\n",
       "        text-align: right;\n",
       "    }\n",
       "</style>\n",
       "<table border=\"1\" class=\"dataframe\">\n",
       "  <thead>\n",
       "    <tr style=\"text-align: right;\">\n",
       "      <th></th>\n",
       "      <th>count</th>\n",
       "      <th>unique</th>\n",
       "      <th>top</th>\n",
       "      <th>freq</th>\n",
       "      <th>% of tops freq</th>\n",
       "    </tr>\n",
       "  </thead>\n",
       "  <tbody>\n",
       "    <tr>\n",
       "      <th>user_id</th>\n",
       "      <td>18268</td>\n",
       "      <td>16666</td>\n",
       "      <td>455184E9E3948A22</td>\n",
       "      <td>2</td>\n",
       "      <td>0.01</td>\n",
       "    </tr>\n",
       "    <tr>\n",
       "      <th>group</th>\n",
       "      <td>18268</td>\n",
       "      <td>2</td>\n",
       "      <td>A</td>\n",
       "      <td>9655</td>\n",
       "      <td>52.85</td>\n",
       "    </tr>\n",
       "    <tr>\n",
       "      <th>ab_test</th>\n",
       "      <td>18268</td>\n",
       "      <td>2</td>\n",
       "      <td>interface_eu_test</td>\n",
       "      <td>11567</td>\n",
       "      <td>63.32</td>\n",
       "    </tr>\n",
       "  </tbody>\n",
       "</table>\n",
       "</div>"
      ],
      "text/plain": [
       "         count unique                top   freq  % of tops freq\n",
       "user_id  18268  16666   455184E9E3948A22      2            0.01\n",
       "group    18268      2                  A   9655           52.85\n",
       "ab_test  18268      2  interface_eu_test  11567           63.32"
      ]
     },
     "metadata": {},
     "output_type": "display_data"
    }
   ],
   "source": [
    "info_printer.basic_info_printer(datasets['participants'])"
   ]
  },
  {
   "cell_type": "markdown",
   "id": "f6e6eca8-e484-40e6-a540-691b5e8856c3",
   "metadata": {},
   "source": [
    "&#9889; **Выводы**\n",
    "\n",
    "1. В датасете с информацией об участниках тестов нет пропусков, нет проблем с типами данных.\n",
    "2. Представлены данные об участниках двух различных тестов - recommender_system_test, interface_eu_test.\n",
    "3. Полных дубликатов нет, однако из 18 268 пользователей уникальных - 16 666, то есть 1602 участника участвовали в обоих тестах. \n",
    "4. По данному датасету потребуется фильтровать участников из данных для статистических тестов, как следствие, предварительно потребутся отобрать только тех пользователей и события, которые относятся к interface_eu_test."
   ]
  },
  {
   "cell_type": "markdown",
   "id": "d065bbb6-c345-491f-b0be-1f8711795134",
   "metadata": {},
   "source": [
    "[В оглавление](#TOC)"
   ]
  },
  {
   "cell_type": "markdown",
   "id": "71997cb6-a9ab-4d5c-b7bd-e28a00324316",
   "metadata": {},
   "source": [
    "### - выведем первые пять первых и последних строк таблицы с новыми пользователями, общую информацию, статиcтику"
   ]
  },
  {
   "cell_type": "code",
   "execution_count": 10,
   "id": "e13fc4c6-9cfa-4e48-bb80-4e359ae72642",
   "metadata": {},
   "outputs": [
    {
     "data": {
      "text/plain": [
       "'Пять первых и последних строк'"
      ]
     },
     "metadata": {},
     "output_type": "display_data"
    },
    {
     "data": {
      "text/html": [
       "<div>\n",
       "<style scoped>\n",
       "    .dataframe tbody tr th:only-of-type {\n",
       "        vertical-align: middle;\n",
       "    }\n",
       "\n",
       "    .dataframe tbody tr th {\n",
       "        vertical-align: top;\n",
       "    }\n",
       "\n",
       "    .dataframe thead th {\n",
       "        text-align: right;\n",
       "    }\n",
       "</style>\n",
       "<table border=\"1\" class=\"dataframe\">\n",
       "  <thead>\n",
       "    <tr style=\"text-align: right;\">\n",
       "      <th></th>\n",
       "      <th>user_id</th>\n",
       "      <th>first_date</th>\n",
       "      <th>region</th>\n",
       "      <th>device</th>\n",
       "    </tr>\n",
       "  </thead>\n",
       "  <tbody>\n",
       "    <tr>\n",
       "      <th>0</th>\n",
       "      <td>D72A72121175D8BE</td>\n",
       "      <td>2020-12-07</td>\n",
       "      <td>EU</td>\n",
       "      <td>PC</td>\n",
       "    </tr>\n",
       "    <tr>\n",
       "      <th>1</th>\n",
       "      <td>F1C668619DFE6E65</td>\n",
       "      <td>2020-12-07</td>\n",
       "      <td>N.America</td>\n",
       "      <td>Android</td>\n",
       "    </tr>\n",
       "    <tr>\n",
       "      <th>2</th>\n",
       "      <td>2E1BF1D4C37EA01F</td>\n",
       "      <td>2020-12-07</td>\n",
       "      <td>EU</td>\n",
       "      <td>PC</td>\n",
       "    </tr>\n",
       "    <tr>\n",
       "      <th>3</th>\n",
       "      <td>50734A22C0C63768</td>\n",
       "      <td>2020-12-07</td>\n",
       "      <td>EU</td>\n",
       "      <td>iPhone</td>\n",
       "    </tr>\n",
       "    <tr>\n",
       "      <th>4</th>\n",
       "      <td>E1BDDCE0DAFA2679</td>\n",
       "      <td>2020-12-07</td>\n",
       "      <td>N.America</td>\n",
       "      <td>iPhone</td>\n",
       "    </tr>\n",
       "  </tbody>\n",
       "</table>\n",
       "</div>"
      ],
      "text/plain": [
       "            user_id first_date     region   device\n",
       "0  D72A72121175D8BE 2020-12-07         EU       PC\n",
       "1  F1C668619DFE6E65 2020-12-07  N.America  Android\n",
       "2  2E1BF1D4C37EA01F 2020-12-07         EU       PC\n",
       "3  50734A22C0C63768 2020-12-07         EU   iPhone\n",
       "4  E1BDDCE0DAFA2679 2020-12-07  N.America   iPhone"
      ]
     },
     "metadata": {},
     "output_type": "display_data"
    },
    {
     "data": {
      "text/html": [
       "<div>\n",
       "<style scoped>\n",
       "    .dataframe tbody tr th:only-of-type {\n",
       "        vertical-align: middle;\n",
       "    }\n",
       "\n",
       "    .dataframe tbody tr th {\n",
       "        vertical-align: top;\n",
       "    }\n",
       "\n",
       "    .dataframe thead th {\n",
       "        text-align: right;\n",
       "    }\n",
       "</style>\n",
       "<table border=\"1\" class=\"dataframe\">\n",
       "  <thead>\n",
       "    <tr style=\"text-align: right;\">\n",
       "      <th></th>\n",
       "      <th>user_id</th>\n",
       "      <th>first_date</th>\n",
       "      <th>region</th>\n",
       "      <th>device</th>\n",
       "    </tr>\n",
       "  </thead>\n",
       "  <tbody>\n",
       "    <tr>\n",
       "      <th>61728</th>\n",
       "      <td>1DB53B933257165D</td>\n",
       "      <td>2020-12-20</td>\n",
       "      <td>EU</td>\n",
       "      <td>Android</td>\n",
       "    </tr>\n",
       "    <tr>\n",
       "      <th>61729</th>\n",
       "      <td>538643EB4527ED03</td>\n",
       "      <td>2020-12-20</td>\n",
       "      <td>EU</td>\n",
       "      <td>Mac</td>\n",
       "    </tr>\n",
       "    <tr>\n",
       "      <th>61730</th>\n",
       "      <td>7ADEE837D5D8CBBD</td>\n",
       "      <td>2020-12-20</td>\n",
       "      <td>EU</td>\n",
       "      <td>PC</td>\n",
       "    </tr>\n",
       "    <tr>\n",
       "      <th>61731</th>\n",
       "      <td>1C7D23927835213F</td>\n",
       "      <td>2020-12-20</td>\n",
       "      <td>EU</td>\n",
       "      <td>iPhone</td>\n",
       "    </tr>\n",
       "    <tr>\n",
       "      <th>61732</th>\n",
       "      <td>8F04273BB2860229</td>\n",
       "      <td>2020-12-20</td>\n",
       "      <td>EU</td>\n",
       "      <td>Android</td>\n",
       "    </tr>\n",
       "  </tbody>\n",
       "</table>\n",
       "</div>"
      ],
      "text/plain": [
       "                user_id first_date region   device\n",
       "61728  1DB53B933257165D 2020-12-20     EU  Android\n",
       "61729  538643EB4527ED03 2020-12-20     EU      Mac\n",
       "61730  7ADEE837D5D8CBBD 2020-12-20     EU       PC\n",
       "61731  1C7D23927835213F 2020-12-20     EU   iPhone\n",
       "61732  8F04273BB2860229 2020-12-20     EU  Android"
      ]
     },
     "metadata": {},
     "output_type": "display_data"
    },
    {
     "data": {
      "text/plain": [
       "'Общая информация о датасете'"
      ]
     },
     "metadata": {},
     "output_type": "display_data"
    },
    {
     "data": {
      "text/html": [
       "<div>\n",
       "<style scoped>\n",
       "    .dataframe tbody tr th:only-of-type {\n",
       "        vertical-align: middle;\n",
       "    }\n",
       "\n",
       "    .dataframe tbody tr th {\n",
       "        vertical-align: top;\n",
       "    }\n",
       "\n",
       "    .dataframe thead th {\n",
       "        text-align: right;\n",
       "    }\n",
       "</style>\n",
       "<table border=\"1\" class=\"dataframe\">\n",
       "  <thead>\n",
       "    <tr style=\"text-align: right;\">\n",
       "      <th></th>\n",
       "      <th>Column</th>\n",
       "      <th>Dtype</th>\n",
       "      <th>Non-Null Count</th>\n",
       "      <th>% of nulls</th>\n",
       "    </tr>\n",
       "  </thead>\n",
       "  <tbody>\n",
       "    <tr>\n",
       "      <th>0</th>\n",
       "      <td>user_id</td>\n",
       "      <td>object</td>\n",
       "      <td>61733</td>\n",
       "      <td>0.0</td>\n",
       "    </tr>\n",
       "    <tr>\n",
       "      <th>1</th>\n",
       "      <td>first_date</td>\n",
       "      <td>datetime64[ns]</td>\n",
       "      <td>61733</td>\n",
       "      <td>0.0</td>\n",
       "    </tr>\n",
       "    <tr>\n",
       "      <th>2</th>\n",
       "      <td>region</td>\n",
       "      <td>object</td>\n",
       "      <td>61733</td>\n",
       "      <td>0.0</td>\n",
       "    </tr>\n",
       "    <tr>\n",
       "      <th>3</th>\n",
       "      <td>device</td>\n",
       "      <td>object</td>\n",
       "      <td>61733</td>\n",
       "      <td>0.0</td>\n",
       "    </tr>\n",
       "  </tbody>\n",
       "</table>\n",
       "</div>"
      ],
      "text/plain": [
       "       Column           Dtype  Non-Null Count  % of nulls\n",
       "0     user_id          object           61733         0.0\n",
       "1  first_date  datetime64[ns]           61733         0.0\n",
       "2      region          object           61733         0.0\n",
       "3      device          object           61733         0.0"
      ]
     },
     "metadata": {},
     "output_type": "display_data"
    },
    {
     "data": {
      "text/plain": [
       "'Описательная статистика'"
      ]
     },
     "metadata": {},
     "output_type": "display_data"
    },
    {
     "data": {
      "text/html": [
       "<div>\n",
       "<style scoped>\n",
       "    .dataframe tbody tr th:only-of-type {\n",
       "        vertical-align: middle;\n",
       "    }\n",
       "\n",
       "    .dataframe tbody tr th {\n",
       "        vertical-align: top;\n",
       "    }\n",
       "\n",
       "    .dataframe thead th {\n",
       "        text-align: right;\n",
       "    }\n",
       "</style>\n",
       "<table border=\"1\" class=\"dataframe\">\n",
       "  <thead>\n",
       "    <tr style=\"text-align: right;\">\n",
       "      <th></th>\n",
       "      <th>count</th>\n",
       "      <th>unique</th>\n",
       "      <th>top</th>\n",
       "      <th>freq</th>\n",
       "      <th>% of tops freq</th>\n",
       "      <th>first</th>\n",
       "      <th>last</th>\n",
       "    </tr>\n",
       "  </thead>\n",
       "  <tbody>\n",
       "    <tr>\n",
       "      <th>user_id</th>\n",
       "      <td>61733</td>\n",
       "      <td>61733</td>\n",
       "      <td>AD51737C9FA396F1</td>\n",
       "      <td>1</td>\n",
       "      <td>0.00</td>\n",
       "      <td>---</td>\n",
       "      <td>---</td>\n",
       "    </tr>\n",
       "    <tr>\n",
       "      <th>first_date</th>\n",
       "      <td>61733</td>\n",
       "      <td>17</td>\n",
       "      <td>2020-12-21 00:00:00</td>\n",
       "      <td>6290</td>\n",
       "      <td>10.19</td>\n",
       "      <td>2020-12-07 00:00:00</td>\n",
       "      <td>2020-12-23 00:00:00</td>\n",
       "    </tr>\n",
       "    <tr>\n",
       "      <th>device</th>\n",
       "      <td>61733</td>\n",
       "      <td>4</td>\n",
       "      <td>Android</td>\n",
       "      <td>27520</td>\n",
       "      <td>44.58</td>\n",
       "      <td>---</td>\n",
       "      <td>---</td>\n",
       "    </tr>\n",
       "    <tr>\n",
       "      <th>region</th>\n",
       "      <td>61733</td>\n",
       "      <td>4</td>\n",
       "      <td>EU</td>\n",
       "      <td>46270</td>\n",
       "      <td>74.95</td>\n",
       "      <td>---</td>\n",
       "      <td>---</td>\n",
       "    </tr>\n",
       "  </tbody>\n",
       "</table>\n",
       "</div>"
      ],
      "text/plain": [
       "            count unique                  top   freq  % of tops freq  \\\n",
       "user_id     61733  61733     AD51737C9FA396F1      1            0.00   \n",
       "first_date  61733     17  2020-12-21 00:00:00   6290           10.19   \n",
       "device      61733      4              Android  27520           44.58   \n",
       "region      61733      4                   EU  46270           74.95   \n",
       "\n",
       "                          first                 last  \n",
       "user_id                     ---                  ---  \n",
       "first_date  2020-12-07 00:00:00  2020-12-23 00:00:00  \n",
       "device                      ---                  ---  \n",
       "region                      ---                  ---  "
      ]
     },
     "metadata": {},
     "output_type": "display_data"
    }
   ],
   "source": [
    "info_printer.basic_info_printer(datasets['new_users'])"
   ]
  },
  {
   "cell_type": "markdown",
   "id": "9100ea11-ed0d-4e72-bf9c-581fa0aecb40",
   "metadata": {},
   "source": [
    "&#9889; **Выводы**\n",
    "\n",
    "1. В датасете с информацией о новых пользователях нет пропусков, нет проблем с типами данных.\n",
    "2. Всего представлены данные о 61 733 пользователях из четырех регионов, четырех видах устройства.\n",
    "3. В данных наблюдения за 17 дней, больше всего наблюдений (6290 из 61773, 10.19%) о 21.12.2020 года.\n",
    "4. Из 61 733 наблюдений - в 27 520 (44.58%) зафикисировано устройство на андройде, 46 270 (74.95%) регион - EU."
   ]
  },
  {
   "cell_type": "markdown",
   "id": "64d92697-19c5-4a9d-b5d5-ef0185d91333",
   "metadata": {},
   "source": [
    "[В оглавление](#TOC)"
   ]
  },
  {
   "cell_type": "markdown",
   "id": "57691c88-1f89-4c33-8954-a029bb62aa7e",
   "metadata": {},
   "source": [
    "### - выведем первые пять первых и последних строк таблицы с событиями, общую информацию, статиcтику"
   ]
  },
  {
   "cell_type": "code",
   "execution_count": 11,
   "id": "652ef143-2ca0-4780-96ce-d60213b71799",
   "metadata": {},
   "outputs": [
    {
     "data": {
      "text/plain": [
       "'Пять первых и последних строк'"
      ]
     },
     "metadata": {},
     "output_type": "display_data"
    },
    {
     "data": {
      "text/html": [
       "<div>\n",
       "<style scoped>\n",
       "    .dataframe tbody tr th:only-of-type {\n",
       "        vertical-align: middle;\n",
       "    }\n",
       "\n",
       "    .dataframe tbody tr th {\n",
       "        vertical-align: top;\n",
       "    }\n",
       "\n",
       "    .dataframe thead th {\n",
       "        text-align: right;\n",
       "    }\n",
       "</style>\n",
       "<table border=\"1\" class=\"dataframe\">\n",
       "  <thead>\n",
       "    <tr style=\"text-align: right;\">\n",
       "      <th></th>\n",
       "      <th>user_id</th>\n",
       "      <th>event_dt</th>\n",
       "      <th>event_name</th>\n",
       "      <th>details</th>\n",
       "    </tr>\n",
       "  </thead>\n",
       "  <tbody>\n",
       "    <tr>\n",
       "      <th>0</th>\n",
       "      <td>E1BDDCE0DAFA2679</td>\n",
       "      <td>2020-12-07 20:22:03</td>\n",
       "      <td>purchase</td>\n",
       "      <td>99.99</td>\n",
       "    </tr>\n",
       "    <tr>\n",
       "      <th>1</th>\n",
       "      <td>7B6452F081F49504</td>\n",
       "      <td>2020-12-07 09:22:53</td>\n",
       "      <td>purchase</td>\n",
       "      <td>9.99</td>\n",
       "    </tr>\n",
       "    <tr>\n",
       "      <th>2</th>\n",
       "      <td>9CD9F34546DF254C</td>\n",
       "      <td>2020-12-07 12:59:29</td>\n",
       "      <td>purchase</td>\n",
       "      <td>4.99</td>\n",
       "    </tr>\n",
       "    <tr>\n",
       "      <th>3</th>\n",
       "      <td>96F27A054B191457</td>\n",
       "      <td>2020-12-07 04:02:40</td>\n",
       "      <td>purchase</td>\n",
       "      <td>4.99</td>\n",
       "    </tr>\n",
       "    <tr>\n",
       "      <th>4</th>\n",
       "      <td>1FD7660FDF94CA1F</td>\n",
       "      <td>2020-12-07 10:15:09</td>\n",
       "      <td>purchase</td>\n",
       "      <td>4.99</td>\n",
       "    </tr>\n",
       "  </tbody>\n",
       "</table>\n",
       "</div>"
      ],
      "text/plain": [
       "            user_id            event_dt event_name  details\n",
       "0  E1BDDCE0DAFA2679 2020-12-07 20:22:03   purchase    99.99\n",
       "1  7B6452F081F49504 2020-12-07 09:22:53   purchase     9.99\n",
       "2  9CD9F34546DF254C 2020-12-07 12:59:29   purchase     4.99\n",
       "3  96F27A054B191457 2020-12-07 04:02:40   purchase     4.99\n",
       "4  1FD7660FDF94CA1F 2020-12-07 10:15:09   purchase     4.99"
      ]
     },
     "metadata": {},
     "output_type": "display_data"
    },
    {
     "data": {
      "text/html": [
       "<div>\n",
       "<style scoped>\n",
       "    .dataframe tbody tr th:only-of-type {\n",
       "        vertical-align: middle;\n",
       "    }\n",
       "\n",
       "    .dataframe tbody tr th {\n",
       "        vertical-align: top;\n",
       "    }\n",
       "\n",
       "    .dataframe thead th {\n",
       "        text-align: right;\n",
       "    }\n",
       "</style>\n",
       "<table border=\"1\" class=\"dataframe\">\n",
       "  <thead>\n",
       "    <tr style=\"text-align: right;\">\n",
       "      <th></th>\n",
       "      <th>user_id</th>\n",
       "      <th>event_dt</th>\n",
       "      <th>event_name</th>\n",
       "      <th>details</th>\n",
       "    </tr>\n",
       "  </thead>\n",
       "  <tbody>\n",
       "    <tr>\n",
       "      <th>440312</th>\n",
       "      <td>245E85F65C358E08</td>\n",
       "      <td>2020-12-30 19:35:55</td>\n",
       "      <td>login</td>\n",
       "      <td>NaN</td>\n",
       "    </tr>\n",
       "    <tr>\n",
       "      <th>440313</th>\n",
       "      <td>9385A108F5A0A7A7</td>\n",
       "      <td>2020-12-30 10:54:15</td>\n",
       "      <td>login</td>\n",
       "      <td>NaN</td>\n",
       "    </tr>\n",
       "    <tr>\n",
       "      <th>440314</th>\n",
       "      <td>DB650B7559AC6EAC</td>\n",
       "      <td>2020-12-30 10:59:09</td>\n",
       "      <td>login</td>\n",
       "      <td>NaN</td>\n",
       "    </tr>\n",
       "    <tr>\n",
       "      <th>440315</th>\n",
       "      <td>F80C9BDDEA02E53C</td>\n",
       "      <td>2020-12-30 09:53:39</td>\n",
       "      <td>login</td>\n",
       "      <td>NaN</td>\n",
       "    </tr>\n",
       "    <tr>\n",
       "      <th>440316</th>\n",
       "      <td>7AEC61159B672CC5</td>\n",
       "      <td>2020-12-30 11:36:13</td>\n",
       "      <td>login</td>\n",
       "      <td>NaN</td>\n",
       "    </tr>\n",
       "  </tbody>\n",
       "</table>\n",
       "</div>"
      ],
      "text/plain": [
       "                 user_id            event_dt event_name  details\n",
       "440312  245E85F65C358E08 2020-12-30 19:35:55      login      NaN\n",
       "440313  9385A108F5A0A7A7 2020-12-30 10:54:15      login      NaN\n",
       "440314  DB650B7559AC6EAC 2020-12-30 10:59:09      login      NaN\n",
       "440315  F80C9BDDEA02E53C 2020-12-30 09:53:39      login      NaN\n",
       "440316  7AEC61159B672CC5 2020-12-30 11:36:13      login      NaN"
      ]
     },
     "metadata": {},
     "output_type": "display_data"
    },
    {
     "data": {
      "text/plain": [
       "'Общая информация о датасете'"
      ]
     },
     "metadata": {},
     "output_type": "display_data"
    },
    {
     "data": {
      "text/html": [
       "<div>\n",
       "<style scoped>\n",
       "    .dataframe tbody tr th:only-of-type {\n",
       "        vertical-align: middle;\n",
       "    }\n",
       "\n",
       "    .dataframe tbody tr th {\n",
       "        vertical-align: top;\n",
       "    }\n",
       "\n",
       "    .dataframe thead th {\n",
       "        text-align: right;\n",
       "    }\n",
       "</style>\n",
       "<table border=\"1\" class=\"dataframe\">\n",
       "  <thead>\n",
       "    <tr style=\"text-align: right;\">\n",
       "      <th></th>\n",
       "      <th>Column</th>\n",
       "      <th>Dtype</th>\n",
       "      <th>Non-Null Count</th>\n",
       "      <th>% of nulls</th>\n",
       "    </tr>\n",
       "  </thead>\n",
       "  <tbody>\n",
       "    <tr>\n",
       "      <th>0</th>\n",
       "      <td>user_id</td>\n",
       "      <td>object</td>\n",
       "      <td>440317</td>\n",
       "      <td>0.00</td>\n",
       "    </tr>\n",
       "    <tr>\n",
       "      <th>1</th>\n",
       "      <td>event_dt</td>\n",
       "      <td>datetime64[ns]</td>\n",
       "      <td>440317</td>\n",
       "      <td>0.00</td>\n",
       "    </tr>\n",
       "    <tr>\n",
       "      <th>2</th>\n",
       "      <td>event_name</td>\n",
       "      <td>object</td>\n",
       "      <td>440317</td>\n",
       "      <td>0.00</td>\n",
       "    </tr>\n",
       "    <tr>\n",
       "      <th>3</th>\n",
       "      <td>details</td>\n",
       "      <td>float64</td>\n",
       "      <td>62740</td>\n",
       "      <td>85.75</td>\n",
       "    </tr>\n",
       "  </tbody>\n",
       "</table>\n",
       "</div>"
      ],
      "text/plain": [
       "       Column           Dtype  Non-Null Count  % of nulls\n",
       "0     user_id          object          440317        0.00\n",
       "1    event_dt  datetime64[ns]          440317        0.00\n",
       "2  event_name          object          440317        0.00\n",
       "3     details         float64           62740       85.75"
      ]
     },
     "metadata": {},
     "output_type": "display_data"
    },
    {
     "data": {
      "text/plain": [
       "'Описательная статистика'"
      ]
     },
     "metadata": {},
     "output_type": "display_data"
    },
    {
     "data": {
      "text/html": [
       "<div>\n",
       "<style scoped>\n",
       "    .dataframe tbody tr th:only-of-type {\n",
       "        vertical-align: middle;\n",
       "    }\n",
       "\n",
       "    .dataframe tbody tr th {\n",
       "        vertical-align: top;\n",
       "    }\n",
       "\n",
       "    .dataframe thead th {\n",
       "        text-align: right;\n",
       "    }\n",
       "</style>\n",
       "<table border=\"1\" class=\"dataframe\">\n",
       "  <thead>\n",
       "    <tr style=\"text-align: right;\">\n",
       "      <th></th>\n",
       "      <th>count</th>\n",
       "      <th>unique</th>\n",
       "      <th>top</th>\n",
       "      <th>freq</th>\n",
       "      <th>% of tops freq</th>\n",
       "      <th>first</th>\n",
       "      <th>last</th>\n",
       "    </tr>\n",
       "  </thead>\n",
       "  <tbody>\n",
       "    <tr>\n",
       "      <th>event_dt</th>\n",
       "      <td>440317</td>\n",
       "      <td>267268</td>\n",
       "      <td>2020-12-14 18:54:55</td>\n",
       "      <td>10</td>\n",
       "      <td>0.00</td>\n",
       "      <td>2020-12-07 00:00:33</td>\n",
       "      <td>2020-12-30 23:36:33</td>\n",
       "    </tr>\n",
       "    <tr>\n",
       "      <th>user_id</th>\n",
       "      <td>440317</td>\n",
       "      <td>58703</td>\n",
       "      <td>A3917F81482141F2</td>\n",
       "      <td>36</td>\n",
       "      <td>0.01</td>\n",
       "      <td>---</td>\n",
       "      <td>---</td>\n",
       "    </tr>\n",
       "    <tr>\n",
       "      <th>event_name</th>\n",
       "      <td>440317</td>\n",
       "      <td>4</td>\n",
       "      <td>login</td>\n",
       "      <td>189552</td>\n",
       "      <td>43.05</td>\n",
       "      <td>---</td>\n",
       "      <td>---</td>\n",
       "    </tr>\n",
       "  </tbody>\n",
       "</table>\n",
       "</div>"
      ],
      "text/plain": [
       "             count  unique                  top    freq  % of tops freq  \\\n",
       "event_dt    440317  267268  2020-12-14 18:54:55      10            0.00   \n",
       "user_id     440317   58703     A3917F81482141F2      36            0.01   \n",
       "event_name  440317       4                login  189552           43.05   \n",
       "\n",
       "                          first                 last  \n",
       "event_dt    2020-12-07 00:00:33  2020-12-30 23:36:33  \n",
       "user_id                     ---                  ---  \n",
       "event_name                  ---                  ---  "
      ]
     },
     "metadata": {},
     "output_type": "display_data"
    }
   ],
   "source": [
    "info_printer.basic_info_printer(datasets['events'])"
   ]
  },
  {
   "cell_type": "markdown",
   "id": "25959037-dd6c-47fa-847c-12be438d369c",
   "metadata": {},
   "source": [
    "&#9889; **Выводы**\n",
    "\n",
    "1. В датасете с информацией о событиях нет проблем с типами данных, есть пропуски в стобце details — дополнительные данные есть только о 62 740 наблюдениях из 440 317: 85.75% пропусков. Пропуски носят смысловой характер - о некоторых событиях нет и не может быть дополнительных данных.\n",
    "2. Из 440 317 наблюдений о событиях - 189 552 наблюдения (43.05%) это авторизация.\n",
    "3. Период наблюдений в данных не соответсвует периоду проведения теста - вместо 14 дней представлены данные за 10 дней."
   ]
  },
  {
   "cell_type": "markdown",
   "id": "41034f65-5cb4-45be-89fe-4ecae04068bd",
   "metadata": {},
   "source": [
    "[В оглавление](#TOC)"
   ]
  },
  {
   "cell_type": "markdown",
   "id": "8bf9bc0c-a537-41b8-9dc8-159c983b9169",
   "metadata": {},
   "source": [
    "### - выведем первые пять первых и последних строк таблицы с маркетинговыми акциями, общую информацию, статиcтику"
   ]
  },
  {
   "cell_type": "code",
   "execution_count": 12,
   "id": "cc5ea146-78d5-409b-973b-7703fe4103db",
   "metadata": {},
   "outputs": [
    {
     "data": {
      "text/plain": [
       "'Пять первых и последних строк'"
      ]
     },
     "metadata": {},
     "output_type": "display_data"
    },
    {
     "data": {
      "text/html": [
       "<div>\n",
       "<style scoped>\n",
       "    .dataframe tbody tr th:only-of-type {\n",
       "        vertical-align: middle;\n",
       "    }\n",
       "\n",
       "    .dataframe tbody tr th {\n",
       "        vertical-align: top;\n",
       "    }\n",
       "\n",
       "    .dataframe thead th {\n",
       "        text-align: right;\n",
       "    }\n",
       "</style>\n",
       "<table border=\"1\" class=\"dataframe\">\n",
       "  <thead>\n",
       "    <tr style=\"text-align: right;\">\n",
       "      <th></th>\n",
       "      <th>name</th>\n",
       "      <th>regions</th>\n",
       "      <th>start_dt</th>\n",
       "      <th>finish_dt</th>\n",
       "    </tr>\n",
       "  </thead>\n",
       "  <tbody>\n",
       "    <tr>\n",
       "      <th>0</th>\n",
       "      <td>Christmas&amp;New Year Promo</td>\n",
       "      <td>EU, N.America</td>\n",
       "      <td>2020-12-25</td>\n",
       "      <td>2021-01-03</td>\n",
       "    </tr>\n",
       "    <tr>\n",
       "      <th>1</th>\n",
       "      <td>St. Valentine's Day Giveaway</td>\n",
       "      <td>EU, CIS, APAC, N.America</td>\n",
       "      <td>2020-02-14</td>\n",
       "      <td>2020-02-16</td>\n",
       "    </tr>\n",
       "    <tr>\n",
       "      <th>2</th>\n",
       "      <td>St. Patric's Day Promo</td>\n",
       "      <td>EU, N.America</td>\n",
       "      <td>2020-03-17</td>\n",
       "      <td>2020-03-19</td>\n",
       "    </tr>\n",
       "    <tr>\n",
       "      <th>3</th>\n",
       "      <td>Easter Promo</td>\n",
       "      <td>EU, CIS, APAC, N.America</td>\n",
       "      <td>2020-04-12</td>\n",
       "      <td>2020-04-19</td>\n",
       "    </tr>\n",
       "    <tr>\n",
       "      <th>4</th>\n",
       "      <td>4th of July Promo</td>\n",
       "      <td>N.America</td>\n",
       "      <td>2020-07-04</td>\n",
       "      <td>2020-07-11</td>\n",
       "    </tr>\n",
       "  </tbody>\n",
       "</table>\n",
       "</div>"
      ],
      "text/plain": [
       "                           name                   regions   start_dt  \\\n",
       "0      Christmas&New Year Promo             EU, N.America 2020-12-25   \n",
       "1  St. Valentine's Day Giveaway  EU, CIS, APAC, N.America 2020-02-14   \n",
       "2        St. Patric's Day Promo             EU, N.America 2020-03-17   \n",
       "3                  Easter Promo  EU, CIS, APAC, N.America 2020-04-12   \n",
       "4             4th of July Promo                 N.America 2020-07-04   \n",
       "\n",
       "   finish_dt  \n",
       "0 2021-01-03  \n",
       "1 2020-02-16  \n",
       "2 2020-03-19  \n",
       "3 2020-04-19  \n",
       "4 2020-07-11  "
      ]
     },
     "metadata": {},
     "output_type": "display_data"
    },
    {
     "data": {
      "text/html": [
       "<div>\n",
       "<style scoped>\n",
       "    .dataframe tbody tr th:only-of-type {\n",
       "        vertical-align: middle;\n",
       "    }\n",
       "\n",
       "    .dataframe tbody tr th {\n",
       "        vertical-align: top;\n",
       "    }\n",
       "\n",
       "    .dataframe thead th {\n",
       "        text-align: right;\n",
       "    }\n",
       "</style>\n",
       "<table border=\"1\" class=\"dataframe\">\n",
       "  <thead>\n",
       "    <tr style=\"text-align: right;\">\n",
       "      <th></th>\n",
       "      <th>name</th>\n",
       "      <th>regions</th>\n",
       "      <th>start_dt</th>\n",
       "      <th>finish_dt</th>\n",
       "    </tr>\n",
       "  </thead>\n",
       "  <tbody>\n",
       "    <tr>\n",
       "      <th>9</th>\n",
       "      <td>Victory Day CIS (May 9th) Event</td>\n",
       "      <td>CIS</td>\n",
       "      <td>2020-05-09</td>\n",
       "      <td>2020-05-11</td>\n",
       "    </tr>\n",
       "    <tr>\n",
       "      <th>10</th>\n",
       "      <td>CIS New Year Gift Lottery</td>\n",
       "      <td>CIS</td>\n",
       "      <td>2020-12-30</td>\n",
       "      <td>2021-01-07</td>\n",
       "    </tr>\n",
       "    <tr>\n",
       "      <th>11</th>\n",
       "      <td>Dragon Boat Festival Giveaway</td>\n",
       "      <td>APAC</td>\n",
       "      <td>2020-06-25</td>\n",
       "      <td>2020-07-01</td>\n",
       "    </tr>\n",
       "    <tr>\n",
       "      <th>12</th>\n",
       "      <td>Single's Day Gift Promo</td>\n",
       "      <td>APAC</td>\n",
       "      <td>2020-11-11</td>\n",
       "      <td>2020-11-12</td>\n",
       "    </tr>\n",
       "    <tr>\n",
       "      <th>13</th>\n",
       "      <td>Chinese Moon Festival</td>\n",
       "      <td>APAC</td>\n",
       "      <td>2020-10-01</td>\n",
       "      <td>2020-10-07</td>\n",
       "    </tr>\n",
       "  </tbody>\n",
       "</table>\n",
       "</div>"
      ],
      "text/plain": [
       "                               name regions   start_dt  finish_dt\n",
       "9   Victory Day CIS (May 9th) Event     CIS 2020-05-09 2020-05-11\n",
       "10        CIS New Year Gift Lottery     CIS 2020-12-30 2021-01-07\n",
       "11    Dragon Boat Festival Giveaway    APAC 2020-06-25 2020-07-01\n",
       "12          Single's Day Gift Promo    APAC 2020-11-11 2020-11-12\n",
       "13            Chinese Moon Festival    APAC 2020-10-01 2020-10-07"
      ]
     },
     "metadata": {},
     "output_type": "display_data"
    },
    {
     "data": {
      "text/plain": [
       "'Общая информация о датасете'"
      ]
     },
     "metadata": {},
     "output_type": "display_data"
    },
    {
     "data": {
      "text/html": [
       "<div>\n",
       "<style scoped>\n",
       "    .dataframe tbody tr th:only-of-type {\n",
       "        vertical-align: middle;\n",
       "    }\n",
       "\n",
       "    .dataframe tbody tr th {\n",
       "        vertical-align: top;\n",
       "    }\n",
       "\n",
       "    .dataframe thead th {\n",
       "        text-align: right;\n",
       "    }\n",
       "</style>\n",
       "<table border=\"1\" class=\"dataframe\">\n",
       "  <thead>\n",
       "    <tr style=\"text-align: right;\">\n",
       "      <th></th>\n",
       "      <th>Column</th>\n",
       "      <th>Dtype</th>\n",
       "      <th>Non-Null Count</th>\n",
       "      <th>% of nulls</th>\n",
       "    </tr>\n",
       "  </thead>\n",
       "  <tbody>\n",
       "    <tr>\n",
       "      <th>0</th>\n",
       "      <td>name</td>\n",
       "      <td>object</td>\n",
       "      <td>14</td>\n",
       "      <td>0.0</td>\n",
       "    </tr>\n",
       "    <tr>\n",
       "      <th>1</th>\n",
       "      <td>regions</td>\n",
       "      <td>object</td>\n",
       "      <td>14</td>\n",
       "      <td>0.0</td>\n",
       "    </tr>\n",
       "    <tr>\n",
       "      <th>2</th>\n",
       "      <td>start_dt</td>\n",
       "      <td>datetime64[ns]</td>\n",
       "      <td>14</td>\n",
       "      <td>0.0</td>\n",
       "    </tr>\n",
       "    <tr>\n",
       "      <th>3</th>\n",
       "      <td>finish_dt</td>\n",
       "      <td>datetime64[ns]</td>\n",
       "      <td>14</td>\n",
       "      <td>0.0</td>\n",
       "    </tr>\n",
       "  </tbody>\n",
       "</table>\n",
       "</div>"
      ],
      "text/plain": [
       "      Column           Dtype  Non-Null Count  % of nulls\n",
       "0       name          object              14         0.0\n",
       "1    regions          object              14         0.0\n",
       "2   start_dt  datetime64[ns]              14         0.0\n",
       "3  finish_dt  datetime64[ns]              14         0.0"
      ]
     },
     "metadata": {},
     "output_type": "display_data"
    },
    {
     "data": {
      "text/plain": [
       "'Описательная статистика'"
      ]
     },
     "metadata": {},
     "output_type": "display_data"
    },
    {
     "data": {
      "text/html": [
       "<div>\n",
       "<style scoped>\n",
       "    .dataframe tbody tr th:only-of-type {\n",
       "        vertical-align: middle;\n",
       "    }\n",
       "\n",
       "    .dataframe tbody tr th {\n",
       "        vertical-align: top;\n",
       "    }\n",
       "\n",
       "    .dataframe thead th {\n",
       "        text-align: right;\n",
       "    }\n",
       "</style>\n",
       "<table border=\"1\" class=\"dataframe\">\n",
       "  <thead>\n",
       "    <tr style=\"text-align: right;\">\n",
       "      <th></th>\n",
       "      <th>count</th>\n",
       "      <th>unique</th>\n",
       "      <th>top</th>\n",
       "      <th>freq</th>\n",
       "      <th>% of tops freq</th>\n",
       "      <th>first</th>\n",
       "      <th>last</th>\n",
       "    </tr>\n",
       "  </thead>\n",
       "  <tbody>\n",
       "    <tr>\n",
       "      <th>name</th>\n",
       "      <td>14</td>\n",
       "      <td>14</td>\n",
       "      <td>Single's Day Gift Promo</td>\n",
       "      <td>1</td>\n",
       "      <td>7.14</td>\n",
       "      <td>---</td>\n",
       "      <td>---</td>\n",
       "    </tr>\n",
       "    <tr>\n",
       "      <th>start_dt</th>\n",
       "      <td>14</td>\n",
       "      <td>14</td>\n",
       "      <td>2020-07-04 00:00:00</td>\n",
       "      <td>1</td>\n",
       "      <td>7.14</td>\n",
       "      <td>2020-01-25 00:00:00</td>\n",
       "      <td>2020-12-30 00:00:00</td>\n",
       "    </tr>\n",
       "    <tr>\n",
       "      <th>finish_dt</th>\n",
       "      <td>14</td>\n",
       "      <td>14</td>\n",
       "      <td>2020-03-10 00:00:00</td>\n",
       "      <td>1</td>\n",
       "      <td>7.14</td>\n",
       "      <td>2020-02-07 00:00:00</td>\n",
       "      <td>2021-01-07 00:00:00</td>\n",
       "    </tr>\n",
       "    <tr>\n",
       "      <th>regions</th>\n",
       "      <td>14</td>\n",
       "      <td>6</td>\n",
       "      <td>APAC</td>\n",
       "      <td>4</td>\n",
       "      <td>28.57</td>\n",
       "      <td>---</td>\n",
       "      <td>---</td>\n",
       "    </tr>\n",
       "  </tbody>\n",
       "</table>\n",
       "</div>"
      ],
      "text/plain": [
       "          count unique                      top freq  % of tops freq  \\\n",
       "name         14     14  Single's Day Gift Promo    1            7.14   \n",
       "start_dt     14     14      2020-07-04 00:00:00    1            7.14   \n",
       "finish_dt    14     14      2020-03-10 00:00:00    1            7.14   \n",
       "regions      14      6                     APAC    4           28.57   \n",
       "\n",
       "                         first                 last  \n",
       "name                       ---                  ---  \n",
       "start_dt   2020-01-25 00:00:00  2020-12-30 00:00:00  \n",
       "finish_dt  2020-02-07 00:00:00  2021-01-07 00:00:00  \n",
       "regions                    ---                  ---  "
      ]
     },
     "metadata": {},
     "output_type": "display_data"
    }
   ],
   "source": [
    "info_printer.basic_info_printer(datasets['marketing_events'])"
   ]
  },
  {
   "cell_type": "markdown",
   "id": "ad41ed12-52c6-4c8a-8a4b-972439e0a29f",
   "metadata": {},
   "source": [
    "&#9889; **Выводы**\n",
    "\n",
    "1. В датасете с информацией о марктинговых акциях нет проблем с типами данных, не пропусков.\n",
    "2. Всего представлены данные о 14 маркетинговых акциях за период от 25 января 2020 года до 07 января 2021 года."
   ]
  },
  {
   "cell_type": "markdown",
   "id": "1f1f6b60-79b6-4c96-bd08-c9af1c20b01c",
   "metadata": {},
   "source": [
    "[В оглавление](#TOC)"
   ]
  },
  {
   "cell_type": "markdown",
   "id": "aaf2739f-fbb9-41aa-8e87-e3c651229018",
   "metadata": {
    "tags": []
   },
   "source": [
    "### - проверим последовательно ли идут события"
   ]
  },
  {
   "cell_type": "markdown",
   "id": "e6f2bbcc-5437-4ef2-bd53-31987e578d22",
   "metadata": {},
   "source": [
    "Убедимся в том, что события представлены последовательно во времени:"
   ]
  },
  {
   "cell_type": "code",
   "execution_count": 13,
   "id": "b9ab7fd1-3b86-487d-9891-27a2acde04bf",
   "metadata": {},
   "outputs": [
    {
     "data": {
      "text/plain": [
       "False"
      ]
     },
     "execution_count": 13,
     "metadata": {},
     "output_type": "execute_result"
    }
   ],
   "source": [
    "datasets['events']['event_dt'].is_monotonic"
   ]
  },
  {
   "cell_type": "markdown",
   "id": "1c7686cc-19d9-43b5-b1e8-79f36c85df92",
   "metadata": {},
   "source": [
    "&#9889; **Выводы**\n",
    "\n",
    "В таблице события представлены непоследовательно, потребуется отсорировать данные по столбцу со временем - в том числе, с точки зрения конверсии, для правильной последовательности событий."
   ]
  },
  {
   "cell_type": "markdown",
   "id": "bea7f476-be44-48d3-b990-53c1f3d79d7b",
   "metadata": {},
   "source": [
    "[В оглавление](#TOC)"
   ]
  },
  {
   "cell_type": "markdown",
   "id": "44605f79-486b-4ab1-b63a-11ae052d267c",
   "metadata": {},
   "source": [
    "## 2) Анализ соответствия данных техническому заданию<a class=\"anchor\" id=\"2_2\"></a>"
   ]
  },
  {
   "cell_type": "markdown",
   "id": "e0e46015-e74d-44ed-bba1-91cfce4f8b7b",
   "metadata": {},
   "source": [
    "Зададим функцию для проверки пересечений пользователей:"
   ]
  },
  {
   "cell_type": "code",
   "execution_count": 14,
   "id": "32c80545-7330-47fc-a48e-a4224f8932ff",
   "metadata": {},
   "outputs": [],
   "source": [
    "def get_intersections(data, query_mask={}):\n",
    "    \"\"\"Проверяем, что пользователи из двух групп изолированы.\"\"\"\n",
    "    first_query = 'group == \"A\"'\n",
    "    second_query = 'group == \"B\"'\n",
    "    \n",
    "    if query_mask:\n",
    "        first_query = query_mask['first_query']\n",
    "        second_query = query_mask['second_query']\n",
    "    \n",
    "    # отбираем группы из данных с заказами\n",
    "    group_a = data.query(first_query)\n",
    "    group_b = data.query(second_query)\n",
    "\n",
    "    # получаем пользователей, попавших в обе группы\n",
    "    group_intersections = list(np.intersect1d(group_a['user_id'],\n",
    "                                              group_b['user_id']))\n",
    "\n",
    "    return group_intersections"
   ]
  },
  {
   "cell_type": "markdown",
   "id": "9a4d041b-3a70-4995-ad4c-11473099dd3a",
   "metadata": {
    "tags": []
   },
   "source": [
    "### - проверим наличие пересечений пользователей в конкурирующих тестах"
   ]
  },
  {
   "cell_type": "markdown",
   "id": "5aff958f-d486-4794-982d-5276a9407d01",
   "metadata": {},
   "source": [
    "Данные об участниках теста содержаться в датасете participants. После первичного ознакомления с данными было установлено, что 1602 пользователя участвовали в двух конкурирующих тестах - рекомендательной системы и, с некоторой осторожостью, интерфейса. Проверим еще раз пересечения и, на всякий случай, сохраним список пользователей, принявших участие в обоих тестах:"
   ]
  },
  {
   "cell_type": "code",
   "execution_count": 15,
   "id": "c0705a6a-4d0f-4a77-b1f6-b19f0b14aaa7",
   "metadata": {},
   "outputs": [],
   "source": [
    "query_mask = {'first_query': 'ab_test == \"recommender_system_test\"',\n",
    "              'second_query': 'ab_test == \"interface_eu_test\"'}"
   ]
  },
  {
   "cell_type": "code",
   "execution_count": 16,
   "id": "b0ba3887-0cbc-4c6a-9883-eaa7a63303f0",
   "metadata": {},
   "outputs": [
    {
     "data": {
      "text/plain": [
       "1602"
      ]
     },
     "execution_count": 16,
     "metadata": {},
     "output_type": "execute_result"
    }
   ],
   "source": [
    "tests_intersections = get_intersections(datasets['participants'], query_mask)\n",
    "len(tests_intersections)"
   ]
  },
  {
   "cell_type": "markdown",
   "id": "cdb926c7-029c-45aa-81b5-1e92fdcda457",
   "metadata": {},
   "source": [
    "&#9889; **Выводы**\n",
    "\n",
    "С учетом того, что у нас нет данных о времени проведения теста интерфейса - мы не можем сделать с разумной степенью достоверности выводов из факта пересечения, но это повод уточнить сведения о втором тесте у поставщика данных. В любом случае, 1602 пользователя участовало в обоих тестах, проверим не входят ли какие-то из них в группа А конкурирующего теста - в этом случае мы сможем сохранить их в выборке."
   ]
  },
  {
   "cell_type": "markdown",
   "id": "ad4e32c3-ed0a-446d-b009-48fd1186282f",
   "metadata": {},
   "source": [
    "[В оглавление](#TOC)"
   ]
  },
  {
   "cell_type": "markdown",
   "id": "dea2a435-8900-4783-a496-6ece124a18b7",
   "metadata": {
    "tags": []
   },
   "source": [
    "### - проверим, входят ли пользователи из выявленных 1602 пользователей в группу А конкурирующего теста"
   ]
  },
  {
   "cell_type": "markdown",
   "id": "7e001fcd-86ea-475f-b06f-41846c673ede",
   "metadata": {},
   "source": [
    "С целью сохранения данных, ели пользователи входят только в группу А конкурирующего теста - то есть, тех пользователей, которые не видели изменений - мы можем оставить их. Сделаем копию датасета с участниками:"
   ]
  },
  {
   "cell_type": "code",
   "execution_count": 17,
   "id": "d912a312-d783-43f2-81c8-5ea2dfa5f644",
   "metadata": {},
   "outputs": [
    {
     "data": {
      "text/html": [
       "<div>\n",
       "<style scoped>\n",
       "    .dataframe tbody tr th:only-of-type {\n",
       "        vertical-align: middle;\n",
       "    }\n",
       "\n",
       "    .dataframe tbody tr th {\n",
       "        vertical-align: top;\n",
       "    }\n",
       "\n",
       "    .dataframe thead th {\n",
       "        text-align: right;\n",
       "    }\n",
       "</style>\n",
       "<table border=\"1\" class=\"dataframe\">\n",
       "  <thead>\n",
       "    <tr style=\"text-align: right;\">\n",
       "      <th></th>\n",
       "      <th>user_id</th>\n",
       "      <th>group</th>\n",
       "      <th>ab_test</th>\n",
       "    </tr>\n",
       "  </thead>\n",
       "  <tbody>\n",
       "    <tr>\n",
       "      <th>0</th>\n",
       "      <td>D1ABA3E2887B6A73</td>\n",
       "      <td>A</td>\n",
       "      <td>recommender_system_test</td>\n",
       "    </tr>\n",
       "    <tr>\n",
       "      <th>1</th>\n",
       "      <td>A7A3664BD6242119</td>\n",
       "      <td>A</td>\n",
       "      <td>recommender_system_test</td>\n",
       "    </tr>\n",
       "    <tr>\n",
       "      <th>2</th>\n",
       "      <td>DABC14FDDFADD29E</td>\n",
       "      <td>A</td>\n",
       "      <td>recommender_system_test</td>\n",
       "    </tr>\n",
       "    <tr>\n",
       "      <th>3</th>\n",
       "      <td>04988C5DF189632E</td>\n",
       "      <td>A</td>\n",
       "      <td>recommender_system_test</td>\n",
       "    </tr>\n",
       "    <tr>\n",
       "      <th>4</th>\n",
       "      <td>482F14783456D21B</td>\n",
       "      <td>B</td>\n",
       "      <td>recommender_system_test</td>\n",
       "    </tr>\n",
       "    <tr>\n",
       "      <th>...</th>\n",
       "      <td>...</td>\n",
       "      <td>...</td>\n",
       "      <td>...</td>\n",
       "    </tr>\n",
       "    <tr>\n",
       "      <th>18263</th>\n",
       "      <td>1D302F8688B91781</td>\n",
       "      <td>B</td>\n",
       "      <td>interface_eu_test</td>\n",
       "    </tr>\n",
       "    <tr>\n",
       "      <th>18264</th>\n",
       "      <td>3DE51B726983B657</td>\n",
       "      <td>A</td>\n",
       "      <td>interface_eu_test</td>\n",
       "    </tr>\n",
       "    <tr>\n",
       "      <th>18265</th>\n",
       "      <td>F501F79D332BE86C</td>\n",
       "      <td>A</td>\n",
       "      <td>interface_eu_test</td>\n",
       "    </tr>\n",
       "    <tr>\n",
       "      <th>18266</th>\n",
       "      <td>63FBE257B05F2245</td>\n",
       "      <td>A</td>\n",
       "      <td>interface_eu_test</td>\n",
       "    </tr>\n",
       "    <tr>\n",
       "      <th>18267</th>\n",
       "      <td>79F9ABFB029CF724</td>\n",
       "      <td>B</td>\n",
       "      <td>interface_eu_test</td>\n",
       "    </tr>\n",
       "  </tbody>\n",
       "</table>\n",
       "<p>18268 rows × 3 columns</p>\n",
       "</div>"
      ],
      "text/plain": [
       "                user_id group                  ab_test\n",
       "0      D1ABA3E2887B6A73     A  recommender_system_test\n",
       "1      A7A3664BD6242119     A  recommender_system_test\n",
       "2      DABC14FDDFADD29E     A  recommender_system_test\n",
       "3      04988C5DF189632E     A  recommender_system_test\n",
       "4      482F14783456D21B     B  recommender_system_test\n",
       "...                 ...   ...                      ...\n",
       "18263  1D302F8688B91781     B        interface_eu_test\n",
       "18264  3DE51B726983B657     A        interface_eu_test\n",
       "18265  F501F79D332BE86C     A        interface_eu_test\n",
       "18266  63FBE257B05F2245     A        interface_eu_test\n",
       "18267  79F9ABFB029CF724     B        interface_eu_test\n",
       "\n",
       "[18268 rows x 3 columns]"
      ]
     },
     "execution_count": 17,
     "metadata": {},
     "output_type": "execute_result"
    }
   ],
   "source": [
    "test_participants = datasets['participants'].copy()\n",
    "test_participants"
   ]
  },
  {
   "cell_type": "markdown",
   "id": "71454b6f-3dd1-45ec-a018-0b3f0c68e48c",
   "metadata": {},
   "source": [
    "Сделаем выборку по участникам из группы А и тестом \"interface_eu_test\":"
   ]
  },
  {
   "cell_type": "code",
   "execution_count": 18,
   "id": "546000af-543c-4b88-b8e1-390e4c2e0afe",
   "metadata": {},
   "outputs": [
    {
     "data": {
      "text/plain": [
       "819"
      ]
     },
     "execution_count": 18,
     "metadata": {},
     "output_type": "execute_result"
    }
   ],
   "source": [
    "group_a_interface_test = test_participants.query('group == \"A\" and ab_test == \"interface_eu_test\"')\n",
    "valid_user_intersections = list(np.intersect1d(group_a_interface_test['user_id'], tests_intersections))\n",
    "len(valid_user_intersections)"
   ]
  },
  {
   "cell_type": "markdown",
   "id": "4897802e-524a-4648-b397-6b4dbfc3708d",
   "metadata": {},
   "source": [
    "Из 1602 пользователей, принявших участие в обоих теста, 819 пользователей попали в группу А конкурирующего теста - сохраним их, остальных исключим. Для этого обновим маску с tests_intersections, исключив 819 наблюдений:"
   ]
  },
  {
   "cell_type": "code",
   "execution_count": 19,
   "id": "12a079b4-da48-412d-ba16-d3fd50f89249",
   "metadata": {},
   "outputs": [
    {
     "data": {
      "text/plain": [
       "783"
      ]
     },
     "execution_count": 19,
     "metadata": {},
     "output_type": "execute_result"
    }
   ],
   "source": [
    "tests_intersections = np.array(tests_intersections) # векторизируем изначальный список с пересечениями\n",
    "valid_user_intersections = np.array(valid_user_intersections) # векторизируем список с допустимыми пересечениями\n",
    "tests_intersections = np.setdiff1d(tests_intersections, valid_user_intersections) # исключим допустимые пересечения из недопустимых\n",
    "len(tests_intersections)"
   ]
  },
  {
   "cell_type": "markdown",
   "id": "1bd364e4-cedb-4f63-aefd-d5a92fdd4b9d",
   "metadata": {},
   "source": [
    "&#9889; **Выводы**\n",
    "\n",
    "После проверки 1602 пользователя участовавших в обоих тестах, выяснили, что 819 из них входят в группу А конкурирующего теста - решили сохранить их в выборке, исключили из числа недопустимых пересечений, которых осталось 783 (1602 - 819)."
   ]
  },
  {
   "cell_type": "markdown",
   "id": "d7f64e74-a6e8-4657-82b5-d96a3ff484cf",
   "metadata": {
    "tags": []
   },
   "source": [
    "### - проверим наличие пересечений в группах"
   ]
  },
  {
   "cell_type": "markdown",
   "id": "320d5cbf-c069-48a6-9083-47aaa9450c5d",
   "metadata": {},
   "source": [
    "Отберем только тех участников, которые участововали в тесте рекомендательной системы:"
   ]
  },
  {
   "cell_type": "code",
   "execution_count": 20,
   "id": "35f2c30b-8a45-4f08-98d2-7525f130aa78",
   "metadata": {},
   "outputs": [
    {
     "data": {
      "text/html": [
       "<div>\n",
       "<style scoped>\n",
       "    .dataframe tbody tr th:only-of-type {\n",
       "        vertical-align: middle;\n",
       "    }\n",
       "\n",
       "    .dataframe tbody tr th {\n",
       "        vertical-align: top;\n",
       "    }\n",
       "\n",
       "    .dataframe thead th {\n",
       "        text-align: right;\n",
       "    }\n",
       "</style>\n",
       "<table border=\"1\" class=\"dataframe\">\n",
       "  <thead>\n",
       "    <tr style=\"text-align: right;\">\n",
       "      <th></th>\n",
       "      <th>user_id</th>\n",
       "      <th>group</th>\n",
       "      <th>ab_test</th>\n",
       "    </tr>\n",
       "  </thead>\n",
       "  <tbody>\n",
       "    <tr>\n",
       "      <th>0</th>\n",
       "      <td>D1ABA3E2887B6A73</td>\n",
       "      <td>A</td>\n",
       "      <td>recommender_system_test</td>\n",
       "    </tr>\n",
       "    <tr>\n",
       "      <th>1</th>\n",
       "      <td>A7A3664BD6242119</td>\n",
       "      <td>A</td>\n",
       "      <td>recommender_system_test</td>\n",
       "    </tr>\n",
       "    <tr>\n",
       "      <th>2</th>\n",
       "      <td>DABC14FDDFADD29E</td>\n",
       "      <td>A</td>\n",
       "      <td>recommender_system_test</td>\n",
       "    </tr>\n",
       "    <tr>\n",
       "      <th>3</th>\n",
       "      <td>04988C5DF189632E</td>\n",
       "      <td>A</td>\n",
       "      <td>recommender_system_test</td>\n",
       "    </tr>\n",
       "    <tr>\n",
       "      <th>4</th>\n",
       "      <td>482F14783456D21B</td>\n",
       "      <td>B</td>\n",
       "      <td>recommender_system_test</td>\n",
       "    </tr>\n",
       "    <tr>\n",
       "      <th>...</th>\n",
       "      <td>...</td>\n",
       "      <td>...</td>\n",
       "      <td>...</td>\n",
       "    </tr>\n",
       "    <tr>\n",
       "      <th>6696</th>\n",
       "      <td>053FB26D6D49EDDC</td>\n",
       "      <td>A</td>\n",
       "      <td>recommender_system_test</td>\n",
       "    </tr>\n",
       "    <tr>\n",
       "      <th>6697</th>\n",
       "      <td>9D263B8EF15CF188</td>\n",
       "      <td>B</td>\n",
       "      <td>recommender_system_test</td>\n",
       "    </tr>\n",
       "    <tr>\n",
       "      <th>6698</th>\n",
       "      <td>F2FBBA33F37DEC46</td>\n",
       "      <td>A</td>\n",
       "      <td>recommender_system_test</td>\n",
       "    </tr>\n",
       "    <tr>\n",
       "      <th>6699</th>\n",
       "      <td>29C92313A98B1176</td>\n",
       "      <td>B</td>\n",
       "      <td>recommender_system_test</td>\n",
       "    </tr>\n",
       "    <tr>\n",
       "      <th>6700</th>\n",
       "      <td>6715343AFBA285AE</td>\n",
       "      <td>B</td>\n",
       "      <td>recommender_system_test</td>\n",
       "    </tr>\n",
       "  </tbody>\n",
       "</table>\n",
       "<p>6701 rows × 3 columns</p>\n",
       "</div>"
      ],
      "text/plain": [
       "               user_id group                  ab_test\n",
       "0     D1ABA3E2887B6A73     A  recommender_system_test\n",
       "1     A7A3664BD6242119     A  recommender_system_test\n",
       "2     DABC14FDDFADD29E     A  recommender_system_test\n",
       "3     04988C5DF189632E     A  recommender_system_test\n",
       "4     482F14783456D21B     B  recommender_system_test\n",
       "...                ...   ...                      ...\n",
       "6696  053FB26D6D49EDDC     A  recommender_system_test\n",
       "6697  9D263B8EF15CF188     B  recommender_system_test\n",
       "6698  F2FBBA33F37DEC46     A  recommender_system_test\n",
       "6699  29C92313A98B1176     B  recommender_system_test\n",
       "6700  6715343AFBA285AE     B  recommender_system_test\n",
       "\n",
       "[6701 rows x 3 columns]"
      ]
     },
     "execution_count": 20,
     "metadata": {},
     "output_type": "execute_result"
    }
   ],
   "source": [
    "test_participants = datasets['participants'].query('ab_test == \"recommender_system_test\"')\n",
    "test_participants"
   ]
  },
  {
   "cell_type": "markdown",
   "id": "b95613be-8847-42b7-8284-3b232ce77911",
   "metadata": {},
   "source": [
    "Исключим из выборки пользователей, участвовавших в обоих тестах и которые попали в группу В конкурирующего теста:"
   ]
  },
  {
   "cell_type": "code",
   "execution_count": 21,
   "id": "df0b4561-3323-48ba-8b8f-82fafa4fbe7a",
   "metadata": {},
   "outputs": [
    {
     "data": {
      "text/html": [
       "<div>\n",
       "<style scoped>\n",
       "    .dataframe tbody tr th:only-of-type {\n",
       "        vertical-align: middle;\n",
       "    }\n",
       "\n",
       "    .dataframe tbody tr th {\n",
       "        vertical-align: top;\n",
       "    }\n",
       "\n",
       "    .dataframe thead th {\n",
       "        text-align: right;\n",
       "    }\n",
       "</style>\n",
       "<table border=\"1\" class=\"dataframe\">\n",
       "  <thead>\n",
       "    <tr style=\"text-align: right;\">\n",
       "      <th></th>\n",
       "      <th>user_id</th>\n",
       "      <th>group</th>\n",
       "      <th>ab_test</th>\n",
       "    </tr>\n",
       "  </thead>\n",
       "  <tbody>\n",
       "    <tr>\n",
       "      <th>0</th>\n",
       "      <td>D1ABA3E2887B6A73</td>\n",
       "      <td>A</td>\n",
       "      <td>recommender_system_test</td>\n",
       "    </tr>\n",
       "    <tr>\n",
       "      <th>1</th>\n",
       "      <td>A7A3664BD6242119</td>\n",
       "      <td>A</td>\n",
       "      <td>recommender_system_test</td>\n",
       "    </tr>\n",
       "    <tr>\n",
       "      <th>2</th>\n",
       "      <td>DABC14FDDFADD29E</td>\n",
       "      <td>A</td>\n",
       "      <td>recommender_system_test</td>\n",
       "    </tr>\n",
       "    <tr>\n",
       "      <th>3</th>\n",
       "      <td>04988C5DF189632E</td>\n",
       "      <td>A</td>\n",
       "      <td>recommender_system_test</td>\n",
       "    </tr>\n",
       "    <tr>\n",
       "      <th>4</th>\n",
       "      <td>482F14783456D21B</td>\n",
       "      <td>B</td>\n",
       "      <td>recommender_system_test</td>\n",
       "    </tr>\n",
       "    <tr>\n",
       "      <th>...</th>\n",
       "      <td>...</td>\n",
       "      <td>...</td>\n",
       "      <td>...</td>\n",
       "    </tr>\n",
       "    <tr>\n",
       "      <th>6696</th>\n",
       "      <td>053FB26D6D49EDDC</td>\n",
       "      <td>A</td>\n",
       "      <td>recommender_system_test</td>\n",
       "    </tr>\n",
       "    <tr>\n",
       "      <th>6697</th>\n",
       "      <td>9D263B8EF15CF188</td>\n",
       "      <td>B</td>\n",
       "      <td>recommender_system_test</td>\n",
       "    </tr>\n",
       "    <tr>\n",
       "      <th>6698</th>\n",
       "      <td>F2FBBA33F37DEC46</td>\n",
       "      <td>A</td>\n",
       "      <td>recommender_system_test</td>\n",
       "    </tr>\n",
       "    <tr>\n",
       "      <th>6699</th>\n",
       "      <td>29C92313A98B1176</td>\n",
       "      <td>B</td>\n",
       "      <td>recommender_system_test</td>\n",
       "    </tr>\n",
       "    <tr>\n",
       "      <th>6700</th>\n",
       "      <td>6715343AFBA285AE</td>\n",
       "      <td>B</td>\n",
       "      <td>recommender_system_test</td>\n",
       "    </tr>\n",
       "  </tbody>\n",
       "</table>\n",
       "<p>5918 rows × 3 columns</p>\n",
       "</div>"
      ],
      "text/plain": [
       "               user_id group                  ab_test\n",
       "0     D1ABA3E2887B6A73     A  recommender_system_test\n",
       "1     A7A3664BD6242119     A  recommender_system_test\n",
       "2     DABC14FDDFADD29E     A  recommender_system_test\n",
       "3     04988C5DF189632E     A  recommender_system_test\n",
       "4     482F14783456D21B     B  recommender_system_test\n",
       "...                ...   ...                      ...\n",
       "6696  053FB26D6D49EDDC     A  recommender_system_test\n",
       "6697  9D263B8EF15CF188     B  recommender_system_test\n",
       "6698  F2FBBA33F37DEC46     A  recommender_system_test\n",
       "6699  29C92313A98B1176     B  recommender_system_test\n",
       "6700  6715343AFBA285AE     B  recommender_system_test\n",
       "\n",
       "[5918 rows x 3 columns]"
      ]
     },
     "execution_count": 21,
     "metadata": {},
     "output_type": "execute_result"
    }
   ],
   "source": [
    "test_participants = test_participants.query('user_id not in @tests_intersections')\n",
    "test_participants"
   ]
  },
  {
   "cell_type": "markdown",
   "id": "64cda6dd-47b1-4646-9cbd-90a25a551bbb",
   "metadata": {},
   "source": [
    "Получили выборку из 5918 пользователей. Проверим пересечения в полученной выборке:"
   ]
  },
  {
   "cell_type": "code",
   "execution_count": 22,
   "id": "b5c9f87c-91cc-4703-bcb4-dbccb4e26cd8",
   "metadata": {},
   "outputs": [
    {
     "data": {
      "text/plain": [
       "0"
      ]
     },
     "execution_count": 22,
     "metadata": {},
     "output_type": "execute_result"
    }
   ],
   "source": [
    "len(get_intersections(test_participants))"
   ]
  },
  {
   "cell_type": "markdown",
   "id": "ecefcd94-b823-466e-afcb-b44bf727227d",
   "metadata": {},
   "source": [
    "&#9889; **Выводы**\n",
    "\n",
    "Пользователи группы А и В изолированы друг от друга."
   ]
  },
  {
   "cell_type": "markdown",
   "id": "56c39fe4-1dd4-4b12-acd5-5c013f2378f8",
   "metadata": {},
   "source": [
    "[В оглавление](#TOC)"
   ]
  },
  {
   "cell_type": "markdown",
   "id": "74d6e80f-14ab-4706-9346-7346fe3a6cb9",
   "metadata": {
    "tags": []
   },
   "source": [
    "### - убедимся, что все участники - новые пользователи"
   ]
  },
  {
   "cell_type": "markdown",
   "id": "88cbe95b-4a12-49c2-857a-0db9ba3abbbd",
   "metadata": {},
   "source": [
    "В соответствии с техническим заданием в тесте должны участвовать новые пользователи из региона EU, зарегистрированные в период от 07.12.2020 года до 21.12.2020 года. "
   ]
  },
  {
   "cell_type": "code",
   "execution_count": 23,
   "id": "42192faa-24c8-4bd2-8bb8-4381d6ecf676",
   "metadata": {},
   "outputs": [
    {
     "data": {
      "text/html": [
       "<div>\n",
       "<style scoped>\n",
       "    .dataframe tbody tr th:only-of-type {\n",
       "        vertical-align: middle;\n",
       "    }\n",
       "\n",
       "    .dataframe tbody tr th {\n",
       "        vertical-align: top;\n",
       "    }\n",
       "\n",
       "    .dataframe thead th {\n",
       "        text-align: right;\n",
       "    }\n",
       "</style>\n",
       "<table border=\"1\" class=\"dataframe\">\n",
       "  <thead>\n",
       "    <tr style=\"text-align: right;\">\n",
       "      <th></th>\n",
       "      <th>user_id</th>\n",
       "      <th>first_date</th>\n",
       "      <th>region</th>\n",
       "      <th>device</th>\n",
       "    </tr>\n",
       "  </thead>\n",
       "  <tbody>\n",
       "    <tr>\n",
       "      <th>0</th>\n",
       "      <td>D72A72121175D8BE</td>\n",
       "      <td>2020-12-07</td>\n",
       "      <td>EU</td>\n",
       "      <td>PC</td>\n",
       "    </tr>\n",
       "    <tr>\n",
       "      <th>20</th>\n",
       "      <td>DD4352CDCF8C3D57</td>\n",
       "      <td>2020-12-07</td>\n",
       "      <td>EU</td>\n",
       "      <td>Android</td>\n",
       "    </tr>\n",
       "    <tr>\n",
       "      <th>23</th>\n",
       "      <td>831887FE7F2D6CBA</td>\n",
       "      <td>2020-12-07</td>\n",
       "      <td>EU</td>\n",
       "      <td>Android</td>\n",
       "    </tr>\n",
       "    <tr>\n",
       "      <th>39</th>\n",
       "      <td>4CB179C7F847320B</td>\n",
       "      <td>2020-12-07</td>\n",
       "      <td>EU</td>\n",
       "      <td>iPhone</td>\n",
       "    </tr>\n",
       "    <tr>\n",
       "      <th>40</th>\n",
       "      <td>29C92313A98B1176</td>\n",
       "      <td>2020-12-07</td>\n",
       "      <td>APAC</td>\n",
       "      <td>Android</td>\n",
       "    </tr>\n",
       "    <tr>\n",
       "      <th>...</th>\n",
       "      <td>...</td>\n",
       "      <td>...</td>\n",
       "      <td>...</td>\n",
       "      <td>...</td>\n",
       "    </tr>\n",
       "    <tr>\n",
       "      <th>61681</th>\n",
       "      <td>3CA972F86411CF13</td>\n",
       "      <td>2020-12-20</td>\n",
       "      <td>EU</td>\n",
       "      <td>PC</td>\n",
       "    </tr>\n",
       "    <tr>\n",
       "      <th>61693</th>\n",
       "      <td>0F7D49FC184EDCDE</td>\n",
       "      <td>2020-12-20</td>\n",
       "      <td>EU</td>\n",
       "      <td>PC</td>\n",
       "    </tr>\n",
       "    <tr>\n",
       "      <th>61709</th>\n",
       "      <td>574ACBC674BC385D</td>\n",
       "      <td>2020-12-20</td>\n",
       "      <td>EU</td>\n",
       "      <td>Mac</td>\n",
       "    </tr>\n",
       "    <tr>\n",
       "      <th>61710</th>\n",
       "      <td>0416B34D35C8C8B8</td>\n",
       "      <td>2020-12-20</td>\n",
       "      <td>EU</td>\n",
       "      <td>Android</td>\n",
       "    </tr>\n",
       "    <tr>\n",
       "      <th>61715</th>\n",
       "      <td>89CB0BFBC3F35126</td>\n",
       "      <td>2020-12-20</td>\n",
       "      <td>EU</td>\n",
       "      <td>PC</td>\n",
       "    </tr>\n",
       "  </tbody>\n",
       "</table>\n",
       "<p>5918 rows × 4 columns</p>\n",
       "</div>"
      ],
      "text/plain": [
       "                user_id first_date region   device\n",
       "0      D72A72121175D8BE 2020-12-07     EU       PC\n",
       "20     DD4352CDCF8C3D57 2020-12-07     EU  Android\n",
       "23     831887FE7F2D6CBA 2020-12-07     EU  Android\n",
       "39     4CB179C7F847320B 2020-12-07     EU   iPhone\n",
       "40     29C92313A98B1176 2020-12-07   APAC  Android\n",
       "...                 ...        ...    ...      ...\n",
       "61681  3CA972F86411CF13 2020-12-20     EU       PC\n",
       "61693  0F7D49FC184EDCDE 2020-12-20     EU       PC\n",
       "61709  574ACBC674BC385D 2020-12-20     EU      Mac\n",
       "61710  0416B34D35C8C8B8 2020-12-20     EU  Android\n",
       "61715  89CB0BFBC3F35126 2020-12-20     EU       PC\n",
       "\n",
       "[5918 rows x 4 columns]"
      ]
     },
     "execution_count": 23,
     "metadata": {},
     "output_type": "execute_result"
    }
   ],
   "source": [
    "check_is_newby = datasets['new_users'].query('user_id in @test_participants.user_id')\n",
    "check_is_newby"
   ]
  },
  {
   "cell_type": "markdown",
   "id": "a67853f8-b410-4ab5-81fd-ceed6863967d",
   "metadata": {},
   "source": [
    "&#9889; **Выводы**\n",
    "\n",
    "Все участники - 5918 - представлены в таблице с новыми пользователями. "
   ]
  },
  {
   "cell_type": "markdown",
   "id": "303ec580-b9db-4abb-b33b-bea41df2591b",
   "metadata": {},
   "source": [
    "[В оглавление](#TOC)"
   ]
  },
  {
   "cell_type": "markdown",
   "id": "63c60461-3945-4437-a98c-eafb8f9d0160",
   "metadata": {
    "tags": []
   },
   "source": [
    "### - убедимся, что все участники из Европы"
   ]
  },
  {
   "cell_type": "code",
   "execution_count": 24,
   "id": "42d8e40a-6a86-4d0a-a17b-e960f91220c8",
   "metadata": {},
   "outputs": [
    {
     "data": {
      "text/html": [
       "<div>\n",
       "<style scoped>\n",
       "    .dataframe tbody tr th:only-of-type {\n",
       "        vertical-align: middle;\n",
       "    }\n",
       "\n",
       "    .dataframe tbody tr th {\n",
       "        vertical-align: top;\n",
       "    }\n",
       "\n",
       "    .dataframe thead th {\n",
       "        text-align: right;\n",
       "    }\n",
       "</style>\n",
       "<table border=\"1\" class=\"dataframe\">\n",
       "  <thead>\n",
       "    <tr style=\"text-align: right;\">\n",
       "      <th></th>\n",
       "      <th>count</th>\n",
       "      <th>unique</th>\n",
       "      <th>top</th>\n",
       "      <th>freq</th>\n",
       "      <th>first</th>\n",
       "      <th>last</th>\n",
       "    </tr>\n",
       "  </thead>\n",
       "  <tbody>\n",
       "    <tr>\n",
       "      <th>user_id</th>\n",
       "      <td>5918</td>\n",
       "      <td>5918</td>\n",
       "      <td>21EA4E846C63EEA2</td>\n",
       "      <td>1</td>\n",
       "      <td>NaT</td>\n",
       "      <td>NaT</td>\n",
       "    </tr>\n",
       "    <tr>\n",
       "      <th>first_date</th>\n",
       "      <td>5918</td>\n",
       "      <td>15</td>\n",
       "      <td>2020-12-21 00:00:00</td>\n",
       "      <td>639</td>\n",
       "      <td>2020-12-07</td>\n",
       "      <td>2020-12-21</td>\n",
       "    </tr>\n",
       "    <tr>\n",
       "      <th>region</th>\n",
       "      <td>5918</td>\n",
       "      <td>4</td>\n",
       "      <td>EU</td>\n",
       "      <td>5568</td>\n",
       "      <td>NaT</td>\n",
       "      <td>NaT</td>\n",
       "    </tr>\n",
       "    <tr>\n",
       "      <th>device</th>\n",
       "      <td>5918</td>\n",
       "      <td>4</td>\n",
       "      <td>Android</td>\n",
       "      <td>2656</td>\n",
       "      <td>NaT</td>\n",
       "      <td>NaT</td>\n",
       "    </tr>\n",
       "  </tbody>\n",
       "</table>\n",
       "</div>"
      ],
      "text/plain": [
       "           count unique                  top  freq      first       last\n",
       "user_id     5918   5918     21EA4E846C63EEA2     1        NaT        NaT\n",
       "first_date  5918     15  2020-12-21 00:00:00   639 2020-12-07 2020-12-21\n",
       "region      5918      4                   EU  5568        NaT        NaT\n",
       "device      5918      4              Android  2656        NaT        NaT"
      ]
     },
     "execution_count": 24,
     "metadata": {},
     "output_type": "execute_result"
    }
   ],
   "source": [
    "check_is_newby.describe().T"
   ]
  },
  {
   "cell_type": "code",
   "execution_count": 25,
   "id": "9002080b-c95d-4670-ae33-87d2b5019170",
   "metadata": {},
   "outputs": [
    {
     "data": {
      "text/plain": [
       "array(['EU', 'APAC', 'CIS', 'N.America'], dtype=object)"
      ]
     },
     "execution_count": 25,
     "metadata": {},
     "output_type": "execute_result"
    }
   ],
   "source": [
    "check_is_newby.region.unique()"
   ]
  },
  {
   "cell_type": "markdown",
   "id": "9f6428ba-f94e-4f76-bd00-37eac66a2a10",
   "metadata": {},
   "source": [
    "В тестовые группы попали 350 участников (5 %) из других регионов - Азиатско-Тихоокеанский регион, СНГ и Северной Америки. Исключим участников из других регионов:"
   ]
  },
  {
   "cell_type": "code",
   "execution_count": 26,
   "id": "44f9f52b-9302-4168-81e1-7fa7001b393d",
   "metadata": {},
   "outputs": [
    {
     "data": {
      "text/plain": [
       "5568"
      ]
     },
     "execution_count": 26,
     "metadata": {},
     "output_type": "execute_result"
    }
   ],
   "source": [
    "only_eu_participants = check_is_newby.query('region == \"EU\"').copy()\n",
    "len(only_eu_participants)"
   ]
  },
  {
   "cell_type": "markdown",
   "id": "2cb3eaf1-3fda-4461-a9f3-7832259ec28a",
   "metadata": {},
   "source": [
    "Учтем это в выборке участников:"
   ]
  },
  {
   "cell_type": "code",
   "execution_count": 27,
   "id": "0b70d080-651a-4449-bbc0-e8537ae33ca7",
   "metadata": {},
   "outputs": [
    {
     "data": {
      "text/html": [
       "<div>\n",
       "<style scoped>\n",
       "    .dataframe tbody tr th:only-of-type {\n",
       "        vertical-align: middle;\n",
       "    }\n",
       "\n",
       "    .dataframe tbody tr th {\n",
       "        vertical-align: top;\n",
       "    }\n",
       "\n",
       "    .dataframe thead th {\n",
       "        text-align: right;\n",
       "    }\n",
       "</style>\n",
       "<table border=\"1\" class=\"dataframe\">\n",
       "  <thead>\n",
       "    <tr style=\"text-align: right;\">\n",
       "      <th></th>\n",
       "      <th>user_id</th>\n",
       "      <th>group</th>\n",
       "      <th>ab_test</th>\n",
       "    </tr>\n",
       "  </thead>\n",
       "  <tbody>\n",
       "    <tr>\n",
       "      <th>0</th>\n",
       "      <td>D1ABA3E2887B6A73</td>\n",
       "      <td>A</td>\n",
       "      <td>recommender_system_test</td>\n",
       "    </tr>\n",
       "    <tr>\n",
       "      <th>1</th>\n",
       "      <td>A7A3664BD6242119</td>\n",
       "      <td>A</td>\n",
       "      <td>recommender_system_test</td>\n",
       "    </tr>\n",
       "    <tr>\n",
       "      <th>2</th>\n",
       "      <td>DABC14FDDFADD29E</td>\n",
       "      <td>A</td>\n",
       "      <td>recommender_system_test</td>\n",
       "    </tr>\n",
       "    <tr>\n",
       "      <th>3</th>\n",
       "      <td>04988C5DF189632E</td>\n",
       "      <td>A</td>\n",
       "      <td>recommender_system_test</td>\n",
       "    </tr>\n",
       "    <tr>\n",
       "      <th>4</th>\n",
       "      <td>482F14783456D21B</td>\n",
       "      <td>B</td>\n",
       "      <td>recommender_system_test</td>\n",
       "    </tr>\n",
       "    <tr>\n",
       "      <th>...</th>\n",
       "      <td>...</td>\n",
       "      <td>...</td>\n",
       "      <td>...</td>\n",
       "    </tr>\n",
       "    <tr>\n",
       "      <th>6346</th>\n",
       "      <td>7C5C12FA1B5AB710</td>\n",
       "      <td>A</td>\n",
       "      <td>recommender_system_test</td>\n",
       "    </tr>\n",
       "    <tr>\n",
       "      <th>6347</th>\n",
       "      <td>91C3969B8A72B908</td>\n",
       "      <td>B</td>\n",
       "      <td>recommender_system_test</td>\n",
       "    </tr>\n",
       "    <tr>\n",
       "      <th>6348</th>\n",
       "      <td>E26F13A65CEAC6EA</td>\n",
       "      <td>A</td>\n",
       "      <td>recommender_system_test</td>\n",
       "    </tr>\n",
       "    <tr>\n",
       "      <th>6349</th>\n",
       "      <td>95401934D6D6D4FC</td>\n",
       "      <td>B</td>\n",
       "      <td>recommender_system_test</td>\n",
       "    </tr>\n",
       "    <tr>\n",
       "      <th>6350</th>\n",
       "      <td>80712ED4EA1B52A5</td>\n",
       "      <td>A</td>\n",
       "      <td>recommender_system_test</td>\n",
       "    </tr>\n",
       "  </tbody>\n",
       "</table>\n",
       "<p>5568 rows × 3 columns</p>\n",
       "</div>"
      ],
      "text/plain": [
       "               user_id group                  ab_test\n",
       "0     D1ABA3E2887B6A73     A  recommender_system_test\n",
       "1     A7A3664BD6242119     A  recommender_system_test\n",
       "2     DABC14FDDFADD29E     A  recommender_system_test\n",
       "3     04988C5DF189632E     A  recommender_system_test\n",
       "4     482F14783456D21B     B  recommender_system_test\n",
       "...                ...   ...                      ...\n",
       "6346  7C5C12FA1B5AB710     A  recommender_system_test\n",
       "6347  91C3969B8A72B908     B  recommender_system_test\n",
       "6348  E26F13A65CEAC6EA     A  recommender_system_test\n",
       "6349  95401934D6D6D4FC     B  recommender_system_test\n",
       "6350  80712ED4EA1B52A5     A  recommender_system_test\n",
       "\n",
       "[5568 rows x 3 columns]"
      ]
     },
     "execution_count": 27,
     "metadata": {},
     "output_type": "execute_result"
    }
   ],
   "source": [
    "test_participants = test_participants.query('user_id in @only_eu_participants.user_id')\n",
    "test_participants"
   ]
  },
  {
   "cell_type": "markdown",
   "id": "dab132b9-764e-4d89-8e03-5de60b91604f",
   "metadata": {},
   "source": [
    "&#9889; **Выводы**\n",
    "\n",
    "1. Данные не соответсвуют требованиям технического задания: в тестовые группы попали пользователи из неевропейских регионов: 350 участников (5 %) из Азиатско-Тихоокеанского региона, СНГ и Северной Америки.\n",
    "2. Все участники - новые пользователи, с периодом регистрации от 7 до 21 декабря 2020 года (было установлено при первичном ознакомлении с данными).\n",
    "3. Исключили участников из других регионов, получили датасет с 5568 наблюдениями.\n"
   ]
  },
  {
   "cell_type": "markdown",
   "id": "0b5a9879-126f-4c99-be27-0225df12a202",
   "metadata": {},
   "source": [
    "[В оглавление](#TOC)"
   ]
  },
  {
   "cell_type": "markdown",
   "id": "6607958b-420f-4b25-9304-909a130cba60",
   "metadata": {
    "tags": []
   },
   "source": [
    "### - проверим сколько событий совершают пользователи за каждый день из 14"
   ]
  },
  {
   "cell_type": "markdown",
   "id": "4cbf596d-c9b4-45f9-8b45-e83b594c1162",
   "metadata": {},
   "source": [
    "Расчитаем сколько дней проходит у пользователя между первым и последним действием:"
   ]
  },
  {
   "cell_type": "code",
   "execution_count": 28,
   "id": "f890653a-7a07-42fc-8b46-53791ba86c8e",
   "metadata": {},
   "outputs": [],
   "source": [
    "events = datasets['events'].copy()"
   ]
  },
  {
   "cell_type": "code",
   "execution_count": 29,
   "id": "ca10692a-cc43-40d7-bf2b-b5aa6cb0545f",
   "metadata": {},
   "outputs": [
    {
     "data": {
      "text/html": [
       "<div>\n",
       "<style scoped>\n",
       "    .dataframe tbody tr th:only-of-type {\n",
       "        vertical-align: middle;\n",
       "    }\n",
       "\n",
       "    .dataframe tbody tr th {\n",
       "        vertical-align: top;\n",
       "    }\n",
       "\n",
       "    .dataframe thead th {\n",
       "        text-align: right;\n",
       "    }\n",
       "</style>\n",
       "<table border=\"1\" class=\"dataframe\">\n",
       "  <thead>\n",
       "    <tr style=\"text-align: right;\">\n",
       "      <th></th>\n",
       "      <th>user_id</th>\n",
       "      <th>first_ts</th>\n",
       "      <th>first_event</th>\n",
       "      <th>last_event</th>\n",
       "      <th>last_ts</th>\n",
       "      <th>delta_in_days</th>\n",
       "    </tr>\n",
       "  </thead>\n",
       "  <tbody>\n",
       "    <tr>\n",
       "      <th>0</th>\n",
       "      <td>0001710F4DDB1D1B</td>\n",
       "      <td>2020-12-14 20:20:40</td>\n",
       "      <td>login</td>\n",
       "      <td>product_cart</td>\n",
       "      <td>2020-12-15 17:34:25</td>\n",
       "      <td>0.88</td>\n",
       "    </tr>\n",
       "    <tr>\n",
       "      <th>1</th>\n",
       "      <td>000199F1887AE5E6</td>\n",
       "      <td>2020-12-14 09:56:09</td>\n",
       "      <td>purchase</td>\n",
       "      <td>product_page</td>\n",
       "      <td>2020-12-21 02:11:24</td>\n",
       "      <td>6.68</td>\n",
       "    </tr>\n",
       "    <tr>\n",
       "      <th>2</th>\n",
       "      <td>0002499E372175C7</td>\n",
       "      <td>2020-12-22 03:49:52</td>\n",
       "      <td>purchase</td>\n",
       "      <td>login</td>\n",
       "      <td>2020-12-26 04:53:03</td>\n",
       "      <td>4.04</td>\n",
       "    </tr>\n",
       "    <tr>\n",
       "      <th>3</th>\n",
       "      <td>0002CE61FF2C4011</td>\n",
       "      <td>2020-12-07 04:37:36</td>\n",
       "      <td>login</td>\n",
       "      <td>product_page</td>\n",
       "      <td>2020-12-15 12:47:05</td>\n",
       "      <td>8.34</td>\n",
       "    </tr>\n",
       "    <tr>\n",
       "      <th>4</th>\n",
       "      <td>000456437D0EFFE1</td>\n",
       "      <td>2020-12-15 11:25:03</td>\n",
       "      <td>login</td>\n",
       "      <td>product_page</td>\n",
       "      <td>2020-12-26 21:15:16</td>\n",
       "      <td>11.41</td>\n",
       "    </tr>\n",
       "    <tr>\n",
       "      <th>...</th>\n",
       "      <td>...</td>\n",
       "      <td>...</td>\n",
       "      <td>...</td>\n",
       "      <td>...</td>\n",
       "      <td>...</td>\n",
       "      <td>...</td>\n",
       "    </tr>\n",
       "    <tr>\n",
       "      <th>58698</th>\n",
       "      <td>FFF7A7BAF44FE9B4</td>\n",
       "      <td>2020-12-19 11:10:03</td>\n",
       "      <td>login</td>\n",
       "      <td>login</td>\n",
       "      <td>2020-12-22 11:24:18</td>\n",
       "      <td>3.01</td>\n",
       "    </tr>\n",
       "    <tr>\n",
       "      <th>58699</th>\n",
       "      <td>FFF8FDBE2FE99C91</td>\n",
       "      <td>2020-12-20 04:53:50</td>\n",
       "      <td>purchase</td>\n",
       "      <td>login</td>\n",
       "      <td>2020-12-23 02:40:19</td>\n",
       "      <td>2.91</td>\n",
       "    </tr>\n",
       "    <tr>\n",
       "      <th>58700</th>\n",
       "      <td>FFF91B6C5431F375</td>\n",
       "      <td>2020-12-14 22:12:04</td>\n",
       "      <td>product_cart</td>\n",
       "      <td>product_cart</td>\n",
       "      <td>2020-12-25 07:12:52</td>\n",
       "      <td>10.38</td>\n",
       "    </tr>\n",
       "    <tr>\n",
       "      <th>58701</th>\n",
       "      <td>FFFAB034A09DCC28</td>\n",
       "      <td>2020-12-18 12:00:53</td>\n",
       "      <td>login</td>\n",
       "      <td>product_page</td>\n",
       "      <td>2020-12-21 01:46:45</td>\n",
       "      <td>2.57</td>\n",
       "    </tr>\n",
       "    <tr>\n",
       "      <th>58702</th>\n",
       "      <td>FFFFE36C0F6E92DF</td>\n",
       "      <td>2020-12-22 11:38:57</td>\n",
       "      <td>product_cart</td>\n",
       "      <td>product_page</td>\n",
       "      <td>2020-12-26 09:25:04</td>\n",
       "      <td>3.91</td>\n",
       "    </tr>\n",
       "  </tbody>\n",
       "</table>\n",
       "<p>58703 rows × 6 columns</p>\n",
       "</div>"
      ],
      "text/plain": [
       "                user_id            first_ts   first_event    last_event  \\\n",
       "0      0001710F4DDB1D1B 2020-12-14 20:20:40         login  product_cart   \n",
       "1      000199F1887AE5E6 2020-12-14 09:56:09      purchase  product_page   \n",
       "2      0002499E372175C7 2020-12-22 03:49:52      purchase         login   \n",
       "3      0002CE61FF2C4011 2020-12-07 04:37:36         login  product_page   \n",
       "4      000456437D0EFFE1 2020-12-15 11:25:03         login  product_page   \n",
       "...                 ...                 ...           ...           ...   \n",
       "58698  FFF7A7BAF44FE9B4 2020-12-19 11:10:03         login         login   \n",
       "58699  FFF8FDBE2FE99C91 2020-12-20 04:53:50      purchase         login   \n",
       "58700  FFF91B6C5431F375 2020-12-14 22:12:04  product_cart  product_cart   \n",
       "58701  FFFAB034A09DCC28 2020-12-18 12:00:53         login  product_page   \n",
       "58702  FFFFE36C0F6E92DF 2020-12-22 11:38:57  product_cart  product_page   \n",
       "\n",
       "                  last_ts  delta_in_days  \n",
       "0     2020-12-15 17:34:25           0.88  \n",
       "1     2020-12-21 02:11:24           6.68  \n",
       "2     2020-12-26 04:53:03           4.04  \n",
       "3     2020-12-15 12:47:05           8.34  \n",
       "4     2020-12-26 21:15:16          11.41  \n",
       "...                   ...            ...  \n",
       "58698 2020-12-22 11:24:18           3.01  \n",
       "58699 2020-12-23 02:40:19           2.91  \n",
       "58700 2020-12-25 07:12:52          10.38  \n",
       "58701 2020-12-21 01:46:45           2.57  \n",
       "58702 2020-12-26 09:25:04           3.91  \n",
       "\n",
       "[58703 rows x 6 columns]"
      ]
     },
     "execution_count": 29,
     "metadata": {},
     "output_type": "execute_result"
    }
   ],
   "source": [
    "# вычислим первое событие \n",
    "users_events = (events\n",
    "                .sort_values(by=['user_id', 'event_dt'])\n",
    "                .groupby('user_id').agg({'event_dt': 'first',\n",
    "                                         'event_name': 'first'})\n",
    "                .rename(columns={'event_dt': 'first_ts',\n",
    "                                 'event_name': 'first_event'})\n",
    "                .reset_index())\n",
    "\n",
    "# вычислим последнее событие \n",
    "last_event = (events.groupby(['user_id', 'event_dt'])\n",
    "              .last()\n",
    "              .reset_index()\n",
    "              .drop_duplicates(subset=['user_id'], keep='last')\n",
    "              [['user_id', 'event_name', 'event_dt']])\n",
    "last_event.columns = ['user_id', 'last_event', 'last_ts']\n",
    "\n",
    "# объединим таблицы, посчитаем период в днях\n",
    "users_events = users_events.merge(last_event)\n",
    "users_events['delta_in_days'] = round((users_events['last_ts'] - users_events['first_ts']).dt.total_seconds() / 3600 / 24, 2)\n",
    "users_events"
   ]
  },
  {
   "cell_type": "markdown",
   "id": "2fa6bdd1-0f8f-4184-af76-406e349de29e",
   "metadata": {},
   "source": [
    "Проверим общую статистику:"
   ]
  },
  {
   "cell_type": "code",
   "execution_count": 30,
   "id": "1a2ba180-12cb-4503-88e2-9ef9e35f5093",
   "metadata": {},
   "outputs": [
    {
     "data": {
      "text/html": [
       "<div>\n",
       "<style scoped>\n",
       "    .dataframe tbody tr th:only-of-type {\n",
       "        vertical-align: middle;\n",
       "    }\n",
       "\n",
       "    .dataframe tbody tr th {\n",
       "        vertical-align: top;\n",
       "    }\n",
       "\n",
       "    .dataframe thead th {\n",
       "        text-align: right;\n",
       "    }\n",
       "</style>\n",
       "<table border=\"1\" class=\"dataframe\">\n",
       "  <thead>\n",
       "    <tr style=\"text-align: right;\">\n",
       "      <th></th>\n",
       "      <th>count</th>\n",
       "      <th>mean</th>\n",
       "      <th>std</th>\n",
       "      <th>min</th>\n",
       "      <th>25%</th>\n",
       "      <th>50%</th>\n",
       "      <th>75%</th>\n",
       "      <th>95%</th>\n",
       "      <th>99%</th>\n",
       "      <th>max</th>\n",
       "    </tr>\n",
       "  </thead>\n",
       "  <tbody>\n",
       "    <tr>\n",
       "      <th>delta_in_days</th>\n",
       "      <td>58703.0</td>\n",
       "      <td>6.903668</td>\n",
       "      <td>5.156794</td>\n",
       "      <td>0.0</td>\n",
       "      <td>2.75</td>\n",
       "      <td>6.05</td>\n",
       "      <td>10.13</td>\n",
       "      <td>16.839</td>\n",
       "      <td>20.53</td>\n",
       "      <td>23.83</td>\n",
       "    </tr>\n",
       "  </tbody>\n",
       "</table>\n",
       "</div>"
      ],
      "text/plain": [
       "                 count      mean       std  min   25%   50%    75%     95%  \\\n",
       "delta_in_days  58703.0  6.903668  5.156794  0.0  2.75  6.05  10.13  16.839   \n",
       "\n",
       "                 99%    max  \n",
       "delta_in_days  20.53  23.83  "
      ]
     },
     "execution_count": 30,
     "metadata": {},
     "output_type": "execute_result"
    }
   ],
   "source": [
    "users_events.describe(percentiles=[.25, .5, .75, .95, .99]).T"
   ]
  },
  {
   "cell_type": "markdown",
   "id": "cc0d03ed-037e-4469-b9bf-2814b8cff23c",
   "metadata": {},
   "source": [
    "В среднем у пользователя от первого до последнего действия проходит около 7 дней, почти все пользователи уложились в 20 дней (99-ый перцентиль) при том, что 95% всех пользователей уложилось в 16 дней. Посчитаем статистику только для тех пользователей, у которых зафикисировано хотя бы одно из целевых действий - 'product_page', 'product_cart', 'purchase'."
   ]
  },
  {
   "cell_type": "code",
   "execution_count": 31,
   "id": "97b0b0ba-ffae-449e-94a8-060def79fea7",
   "metadata": {},
   "outputs": [
    {
     "data": {
      "text/html": [
       "<div>\n",
       "<style scoped>\n",
       "    .dataframe tbody tr th:only-of-type {\n",
       "        vertical-align: middle;\n",
       "    }\n",
       "\n",
       "    .dataframe tbody tr th {\n",
       "        vertical-align: top;\n",
       "    }\n",
       "\n",
       "    .dataframe thead th {\n",
       "        text-align: right;\n",
       "    }\n",
       "</style>\n",
       "<table border=\"1\" class=\"dataframe\">\n",
       "  <thead>\n",
       "    <tr style=\"text-align: right;\">\n",
       "      <th></th>\n",
       "      <th>count</th>\n",
       "      <th>mean</th>\n",
       "      <th>std</th>\n",
       "      <th>min</th>\n",
       "      <th>25%</th>\n",
       "      <th>50%</th>\n",
       "      <th>75%</th>\n",
       "      <th>95%</th>\n",
       "      <th>99%</th>\n",
       "      <th>max</th>\n",
       "    </tr>\n",
       "  </thead>\n",
       "  <tbody>\n",
       "    <tr>\n",
       "      <th>delta_in_days</th>\n",
       "      <td>43808.0</td>\n",
       "      <td>6.79005</td>\n",
       "      <td>5.169814</td>\n",
       "      <td>0.0</td>\n",
       "      <td>2.6075</td>\n",
       "      <td>5.94</td>\n",
       "      <td>10.0</td>\n",
       "      <td>16.78</td>\n",
       "      <td>20.4793</td>\n",
       "      <td>23.83</td>\n",
       "    </tr>\n",
       "  </tbody>\n",
       "</table>\n",
       "</div>"
      ],
      "text/plain": [
       "                 count     mean       std  min     25%   50%   75%    95%  \\\n",
       "delta_in_days  43808.0  6.79005  5.169814  0.0  2.6075  5.94  10.0  16.78   \n",
       "\n",
       "                   99%    max  \n",
       "delta_in_days  20.4793  23.83  "
      ]
     },
     "execution_count": 31,
     "metadata": {},
     "output_type": "execute_result"
    }
   ],
   "source": [
    "target_events = ['product_page', 'product_cart', 'purchase']\n",
    "user_target_events = users_events.query('first_event in @target_events or last_event in @target_events')\n",
    "user_target_events.describe(percentiles=[.25, .5, .75, .95, .99]).T"
   ]
  },
  {
   "cell_type": "markdown",
   "id": "e06d26f5-239d-4d46-8029-39ef9957fcb3",
   "metadata": {},
   "source": [
    "Сопоставимая статистика. Учтем группы пользователей:"
   ]
  },
  {
   "cell_type": "code",
   "execution_count": 32,
   "id": "31e1b520-73cd-4601-816b-c6b8204b21b7",
   "metadata": {},
   "outputs": [],
   "source": [
    "events_of_test_participants = user_target_events.merge(test_participants)\n",
    "group_a = events_of_test_participants.query('group == \"A\"')\n",
    "group_b = events_of_test_participants.query('group == \"B\"')"
   ]
  },
  {
   "cell_type": "markdown",
   "id": "ce61fe9f-f83c-4a45-ad69-f0bc4aaf64f0",
   "metadata": {},
   "source": [
    "Статистика групп А и В:"
   ]
  },
  {
   "cell_type": "code",
   "execution_count": 33,
   "id": "9c83dbc7-ceb6-4b83-9c54-2eca4769b7b1",
   "metadata": {},
   "outputs": [
    {
     "data": {
      "text/html": [
       "<div>\n",
       "<style scoped>\n",
       "    .dataframe tbody tr th:only-of-type {\n",
       "        vertical-align: middle;\n",
       "    }\n",
       "\n",
       "    .dataframe tbody tr th {\n",
       "        vertical-align: top;\n",
       "    }\n",
       "\n",
       "    .dataframe thead th {\n",
       "        text-align: right;\n",
       "    }\n",
       "</style>\n",
       "<table border=\"1\" class=\"dataframe\">\n",
       "  <thead>\n",
       "    <tr style=\"text-align: right;\">\n",
       "      <th></th>\n",
       "      <th>count</th>\n",
       "      <th>mean</th>\n",
       "      <th>std</th>\n",
       "      <th>min</th>\n",
       "      <th>25%</th>\n",
       "      <th>50%</th>\n",
       "      <th>75%</th>\n",
       "      <th>95%</th>\n",
       "      <th>99%</th>\n",
       "      <th>max</th>\n",
       "    </tr>\n",
       "  </thead>\n",
       "  <tbody>\n",
       "    <tr>\n",
       "      <th>delta_in_days</th>\n",
       "      <td>1633.0</td>\n",
       "      <td>6.240018</td>\n",
       "      <td>4.586752</td>\n",
       "      <td>0.0</td>\n",
       "      <td>2.41</td>\n",
       "      <td>5.83</td>\n",
       "      <td>9.05</td>\n",
       "      <td>14.702</td>\n",
       "      <td>19.0364</td>\n",
       "      <td>22.16</td>\n",
       "    </tr>\n",
       "  </tbody>\n",
       "</table>\n",
       "</div>"
      ],
      "text/plain": [
       "                count      mean       std  min   25%   50%   75%     95%  \\\n",
       "delta_in_days  1633.0  6.240018  4.586752  0.0  2.41  5.83  9.05  14.702   \n",
       "\n",
       "                   99%    max  \n",
       "delta_in_days  19.0364  22.16  "
      ]
     },
     "execution_count": 33,
     "metadata": {},
     "output_type": "execute_result"
    }
   ],
   "source": [
    "group_a.describe(percentiles=[.25, .5, .75, .95, .99]).T"
   ]
  },
  {
   "cell_type": "code",
   "execution_count": 34,
   "id": "2a182b8e-12c8-4b00-bbe7-e0d293be71f7",
   "metadata": {},
   "outputs": [
    {
     "data": {
      "text/html": [
       "<div>\n",
       "<style scoped>\n",
       "    .dataframe tbody tr th:only-of-type {\n",
       "        vertical-align: middle;\n",
       "    }\n",
       "\n",
       "    .dataframe tbody tr th {\n",
       "        vertical-align: top;\n",
       "    }\n",
       "\n",
       "    .dataframe thead th {\n",
       "        text-align: right;\n",
       "    }\n",
       "</style>\n",
       "<table border=\"1\" class=\"dataframe\">\n",
       "  <thead>\n",
       "    <tr style=\"text-align: right;\">\n",
       "      <th></th>\n",
       "      <th>count</th>\n",
       "      <th>mean</th>\n",
       "      <th>std</th>\n",
       "      <th>min</th>\n",
       "      <th>25%</th>\n",
       "      <th>50%</th>\n",
       "      <th>75%</th>\n",
       "      <th>95%</th>\n",
       "      <th>99%</th>\n",
       "      <th>max</th>\n",
       "    </tr>\n",
       "  </thead>\n",
       "  <tbody>\n",
       "    <tr>\n",
       "      <th>delta_in_days</th>\n",
       "      <td>530.0</td>\n",
       "      <td>6.197528</td>\n",
       "      <td>5.893677</td>\n",
       "      <td>0.0</td>\n",
       "      <td>1.08</td>\n",
       "      <td>4.615</td>\n",
       "      <td>9.52</td>\n",
       "      <td>18.669</td>\n",
       "      <td>21.4209</td>\n",
       "      <td>22.88</td>\n",
       "    </tr>\n",
       "  </tbody>\n",
       "</table>\n",
       "</div>"
      ],
      "text/plain": [
       "               count      mean       std  min   25%    50%   75%     95%  \\\n",
       "delta_in_days  530.0  6.197528  5.893677  0.0  1.08  4.615  9.52  18.669   \n",
       "\n",
       "                   99%    max  \n",
       "delta_in_days  21.4209  22.88  "
      ]
     },
     "execution_count": 34,
     "metadata": {},
     "output_type": "execute_result"
    }
   ],
   "source": [
    "group_b.describe(percentiles=[.25, .5, .75, .95, .99]).T"
   ]
  },
  {
   "cell_type": "markdown",
   "id": "c9fc1ef2-6d03-40c7-bf7d-50bca24ab58f",
   "metadata": {},
   "source": [
    "И снова близкие значения. Визуализируем распределение:"
   ]
  },
  {
   "cell_type": "code",
   "execution_count": 35,
   "id": "bbce58c3-9ae7-415a-ab4c-78988aa14541",
   "metadata": {},
   "outputs": [],
   "source": [
    "def overlaid_histogram(data1, data2, labels=None, n_bins=0):\n",
    "    \"\"\"Строим соотносимые гистограммы для двух выборок\"\"\"  \n",
    "    \n",
    "    # если не переданы подписи\n",
    "    if not labels:\n",
    "        labels = {'data1_name': '',\n",
    "                  'data2_name': '',\n",
    "                  'xlabel': '', \n",
    "                  'ylabel': '',\n",
    "                  'title': ''}\n",
    "            \n",
    "    # Устанавливаем границы для корзин так чтобы оба \n",
    "    # распределения на графике были соотносимы\n",
    "    max_nbins = 10\n",
    "    data_range = [min(min(data1), min(data2)), max(max(data1), max(data2))]\n",
    "    binwidth = (data_range[1] - data_range[0]) / max_nbins\n",
    "\n",
    "\n",
    "    if n_bins == 0:\n",
    "        bins = np.arange(data_range[0], data_range[1] + binwidth, binwidth)\n",
    "    else: \n",
    "        bins = n_bins\n",
    "\n",
    "    # рисуем графики\n",
    "    sns.set_style('whitegrid')\n",
    "    \n",
    "    plt.figure(figsize=(10, 8))\n",
    "\n",
    "    plt.hist(data1, bins=bins, color='red',\n",
    "            alpha=0.65, label=labels['data1_name'])\n",
    "    plt.hist(data2, bins=bins, color='royalblue',\n",
    "            alpha=0.65, label=labels['data2_name'])\n",
    "    \n",
    "    # добавляем средние  \n",
    "    plt.axvline(data1.mean(), linestyle='--',\n",
    "               color='lime', label=f'Среднее \"{labels[\"data1_name\"]}\"')\n",
    "\n",
    "    plt.axvline(data2.mean(), linestyle='--',\n",
    "               color='coral', label=f'Среднее \"{labels[\"data2_name\"]}\"')\n",
    "    \n",
    "    # спрячем сетку\n",
    "    plt.grid(False)\n",
    "    \n",
    "    # спрячем лишние границы\n",
    "    sns.despine(left=True, bottom=True)\n",
    "\n",
    "    # подписываем график и оси \n",
    "    plt.xlabel(labels['xlabel'], labelpad=30)\n",
    "    plt.ylabel(labels['ylabel'])\n",
    "    plt.title(labels['title'], loc='left', pad=30,\n",
    "              fontsize=12, fontweight='bold')\n",
    "    plt.legend(loc=0)\n",
    "    plt.tight_layout()\n"
   ]
  },
  {
   "cell_type": "markdown",
   "id": "dc901a36-1061-433e-a31b-57721d5b8e65",
   "metadata": {},
   "source": [
    "Зададим подписи для графика:"
   ]
  },
  {
   "cell_type": "code",
   "execution_count": 36,
   "id": "881a86d0-944e-4f0c-b7b1-ccd6e723dbec",
   "metadata": {},
   "outputs": [],
   "source": [
    "labels = {'data1_name': 'Пользователи группы А',\n",
    "          'data2_name': 'Пользователи группы В',\n",
    "          'xlabel': 'Дни между первым и последним действием', \n",
    "          'ylabel': 'Количество пользователей',\n",
    "          'title': 'Распределение дней между первым и последним действием пользователей (по группам)'}"
   ]
  },
  {
   "cell_type": "code",
   "execution_count": 37,
   "id": "ad5970a6-b084-4835-87db-6ff634aafacb",
   "metadata": {},
   "outputs": [
    {
     "data": {
      "image/png": "[encoded data removed]",
      "text/plain": [
       "<Figure size 720x576 with 1 Axes>"
      ]
     },
     "metadata": {},
     "output_type": "display_data"
    }
   ],
   "source": [
    "overlaid_histogram(group_a['delta_in_days'],\n",
    "                   group_b['delta_in_days'],\n",
    "                   labels, n_bins=80)"
   ]
  },
  {
   "cell_type": "markdown",
   "id": "fa0e1a54-9376-4cb0-b4b0-e9cf9e37ac9d",
   "metadata": {},
   "source": [
    "&#9889; **Выводы**\n",
    "\n",
    "В среднем у пользователя от первого до последнего действия проходит около 7 дней, почти все пользователи уложились в 20 дней (99-ый перцентиль) при том, что 95% всех пользователей уложилось в 16 дней. В разрезе по группам, с учетом целевых действий существенного различия в статистике нет. Визуально заметно, что пользователей, которым необходимо более двух недель - не очень много."
   ]
  },
  {
   "cell_type": "markdown",
   "id": "ec32fa33-5573-4ac1-aee9-b815981222ca",
   "metadata": {
    "tags": []
   },
   "source": [
    "### - посчитаем процент пользователей, которым требуется более 14 дней"
   ]
  },
  {
   "cell_type": "markdown",
   "id": "04130518-cdbc-46d4-8176-4d7e9814cc07",
   "metadata": {},
   "source": [
    "В соответствии с техническим заданием дата остановки теста 04.01.2021 года, улучшение каждой метрики должно быть зафиксировано за 14 дней. Как было установлено при ознакомлении с данными в датасете с событиями наблюдения только до 30.12.2020 года. Посчитаем число пользователей, которые не уложились в 14 дней:"
   ]
  },
  {
   "cell_type": "code",
   "execution_count": 38,
   "id": "89d23bcc-481e-42fa-9801-608a6688750b",
   "metadata": {},
   "outputs": [
    {
     "data": {
      "text/plain": [
       "168"
      ]
     },
     "execution_count": 38,
     "metadata": {},
     "output_type": "execute_result"
    }
   ],
   "source": [
    "more_than_two_weeks = events_of_test_participants.query('delta_in_days > 14')\n",
    "len(more_than_two_weeks)"
   ]
  },
  {
   "cell_type": "markdown",
   "id": "6ceca67b-ffd4-4060-bab5-ac19ee4c5b46",
   "metadata": {},
   "source": [
    "Всего 168 пользователей:"
   ]
  },
  {
   "cell_type": "code",
   "execution_count": 39,
   "id": "4d2b42cd-1df4-427d-a03f-bc291896c785",
   "metadata": {},
   "outputs": [
    {
     "data": {
      "text/plain": [
       "0.07766990291262135"
      ]
     },
     "execution_count": 39,
     "metadata": {},
     "output_type": "execute_result"
    }
   ],
   "source": [
    "len(more_than_two_weeks) / len(events_of_test_participants)"
   ]
  },
  {
   "cell_type": "markdown",
   "id": "977cf0c7-6f08-49f3-be30-c7cffae098f7",
   "metadata": {},
   "source": [
    "Примерно 8% от числа участников. Исключим их:"
   ]
  },
  {
   "cell_type": "code",
   "execution_count": 40,
   "id": "2a2cfbc1-1160-4a81-809b-42049c76c0a7",
   "metadata": {},
   "outputs": [
    {
     "data": {
      "text/html": [
       "<div>\n",
       "<style scoped>\n",
       "    .dataframe tbody tr th:only-of-type {\n",
       "        vertical-align: middle;\n",
       "    }\n",
       "\n",
       "    .dataframe tbody tr th {\n",
       "        vertical-align: top;\n",
       "    }\n",
       "\n",
       "    .dataframe thead th {\n",
       "        text-align: right;\n",
       "    }\n",
       "</style>\n",
       "<table border=\"1\" class=\"dataframe\">\n",
       "  <thead>\n",
       "    <tr style=\"text-align: right;\">\n",
       "      <th></th>\n",
       "      <th>user_id</th>\n",
       "      <th>group</th>\n",
       "      <th>ab_test</th>\n",
       "    </tr>\n",
       "  </thead>\n",
       "  <tbody>\n",
       "    <tr>\n",
       "      <th>0</th>\n",
       "      <td>D1ABA3E2887B6A73</td>\n",
       "      <td>A</td>\n",
       "      <td>recommender_system_test</td>\n",
       "    </tr>\n",
       "    <tr>\n",
       "      <th>1</th>\n",
       "      <td>A7A3664BD6242119</td>\n",
       "      <td>A</td>\n",
       "      <td>recommender_system_test</td>\n",
       "    </tr>\n",
       "    <tr>\n",
       "      <th>2</th>\n",
       "      <td>DABC14FDDFADD29E</td>\n",
       "      <td>A</td>\n",
       "      <td>recommender_system_test</td>\n",
       "    </tr>\n",
       "    <tr>\n",
       "      <th>3</th>\n",
       "      <td>04988C5DF189632E</td>\n",
       "      <td>A</td>\n",
       "      <td>recommender_system_test</td>\n",
       "    </tr>\n",
       "    <tr>\n",
       "      <th>4</th>\n",
       "      <td>482F14783456D21B</td>\n",
       "      <td>B</td>\n",
       "      <td>recommender_system_test</td>\n",
       "    </tr>\n",
       "    <tr>\n",
       "      <th>...</th>\n",
       "      <td>...</td>\n",
       "      <td>...</td>\n",
       "      <td>...</td>\n",
       "    </tr>\n",
       "    <tr>\n",
       "      <th>6346</th>\n",
       "      <td>7C5C12FA1B5AB710</td>\n",
       "      <td>A</td>\n",
       "      <td>recommender_system_test</td>\n",
       "    </tr>\n",
       "    <tr>\n",
       "      <th>6347</th>\n",
       "      <td>91C3969B8A72B908</td>\n",
       "      <td>B</td>\n",
       "      <td>recommender_system_test</td>\n",
       "    </tr>\n",
       "    <tr>\n",
       "      <th>6348</th>\n",
       "      <td>E26F13A65CEAC6EA</td>\n",
       "      <td>A</td>\n",
       "      <td>recommender_system_test</td>\n",
       "    </tr>\n",
       "    <tr>\n",
       "      <th>6349</th>\n",
       "      <td>95401934D6D6D4FC</td>\n",
       "      <td>B</td>\n",
       "      <td>recommender_system_test</td>\n",
       "    </tr>\n",
       "    <tr>\n",
       "      <th>6350</th>\n",
       "      <td>80712ED4EA1B52A5</td>\n",
       "      <td>A</td>\n",
       "      <td>recommender_system_test</td>\n",
       "    </tr>\n",
       "  </tbody>\n",
       "</table>\n",
       "<p>5568 rows × 3 columns</p>\n",
       "</div>"
      ],
      "text/plain": [
       "               user_id group                  ab_test\n",
       "0     D1ABA3E2887B6A73     A  recommender_system_test\n",
       "1     A7A3664BD6242119     A  recommender_system_test\n",
       "2     DABC14FDDFADD29E     A  recommender_system_test\n",
       "3     04988C5DF189632E     A  recommender_system_test\n",
       "4     482F14783456D21B     B  recommender_system_test\n",
       "...                ...   ...                      ...\n",
       "6346  7C5C12FA1B5AB710     A  recommender_system_test\n",
       "6347  91C3969B8A72B908     B  recommender_system_test\n",
       "6348  E26F13A65CEAC6EA     A  recommender_system_test\n",
       "6349  95401934D6D6D4FC     B  recommender_system_test\n",
       "6350  80712ED4EA1B52A5     A  recommender_system_test\n",
       "\n",
       "[5568 rows x 3 columns]"
      ]
     },
     "execution_count": 40,
     "metadata": {},
     "output_type": "execute_result"
    }
   ],
   "source": [
    "test_participants = test_participants.query('user_id not in @more_than_two_weeks').copy()\n",
    "test_participants"
   ]
  },
  {
   "cell_type": "markdown",
   "id": "087e8aee-1c83-452f-b977-5cbd2305fa63",
   "metadata": {},
   "source": [
    "&#9889; **Выводы**\n",
    "\n",
    "В результате получили 5568 наблюдений."
   ]
  },
  {
   "cell_type": "markdown",
   "id": "ad2a1418-0706-4457-bacc-cb866abe9a21",
   "metadata": {},
   "source": [
    "[В оглавление](#TOC)"
   ]
  },
  {
   "cell_type": "markdown",
   "id": "4651521b-66aa-43db-93c0-b50839e578e3",
   "metadata": {
    "tags": []
   },
   "source": [
    "### - убедимся, что размер выборки составляет 15% от новых пользвателей из Европы "
   ]
  },
  {
   "cell_type": "markdown",
   "id": "5b18beda-a09f-4971-a87f-93b800a84c0a",
   "metadata": {},
   "source": [
    "Сначала посчитаем процент финальной сокращенной выборки:"
   ]
  },
  {
   "cell_type": "code",
   "execution_count": 41,
   "id": "d3b90436-35a4-4b80-a909-27820102ad36",
   "metadata": {},
   "outputs": [
    {
     "data": {
      "text/plain": [
       "12.03"
      ]
     },
     "execution_count": 41,
     "metadata": {},
     "output_type": "execute_result"
    }
   ],
   "source": [
    "round(len(test_participants) / len(datasets['new_users'].query('region == \"EU\"')) * 100, 2)"
   ]
  },
  {
   "cell_type": "markdown",
   "id": "2d027868-5305-4b5c-93cf-da6c8b111daf",
   "metadata": {},
   "source": [
    "Всего 12.03% от новых пользователей из Европы: по техническому заданияю предполагается 15% от размера по техническому заданию."
   ]
  },
  {
   "cell_type": "markdown",
   "id": "5ec51837-e516-401f-a96c-c6a8a661b6c4",
   "metadata": {},
   "source": [
    "&#9889; **Выводы**\n",
    "\n",
    "Сокращенная выборка, с поправкой на пересечене, из 5568 пользователей составляет 12.03% от новых пользователей из Европы - вдвое меньше предполагаемого размера."
   ]
  },
  {
   "cell_type": "markdown",
   "id": "73a6609a-6621-41db-b97e-52fbb21e2b5c",
   "metadata": {},
   "source": [
    "[В оглавление](#TOC)"
   ]
  },
  {
   "cell_type": "markdown",
   "id": "9f0834c0-390e-4367-b327-2647eb332c15",
   "metadata": {},
   "source": [
    "### - проверим, что время проведения теста не совпадает с маркетинговыми и другими активностями"
   ]
  },
  {
   "cell_type": "markdown",
   "id": "ae61cb42-e130-4569-bb17-efb8e0b0dc54",
   "metadata": {},
   "source": [
    "Период проведений теста - 7 декабря 2020 года - 4 января 2021 года. Данные о маркетиноговых событиях представлены в таблице marketing_events:"
   ]
  },
  {
   "cell_type": "code",
   "execution_count": 42,
   "id": "56f0e046-e353-448b-86e7-53a463d56683",
   "metadata": {},
   "outputs": [
    {
     "data": {
      "text/html": [
       "<div>\n",
       "<style scoped>\n",
       "    .dataframe tbody tr th:only-of-type {\n",
       "        vertical-align: middle;\n",
       "    }\n",
       "\n",
       "    .dataframe tbody tr th {\n",
       "        vertical-align: top;\n",
       "    }\n",
       "\n",
       "    .dataframe thead th {\n",
       "        text-align: right;\n",
       "    }\n",
       "</style>\n",
       "<table border=\"1\" class=\"dataframe\">\n",
       "  <thead>\n",
       "    <tr style=\"text-align: right;\">\n",
       "      <th></th>\n",
       "      <th>name</th>\n",
       "      <th>regions</th>\n",
       "      <th>start_dt</th>\n",
       "      <th>finish_dt</th>\n",
       "    </tr>\n",
       "  </thead>\n",
       "  <tbody>\n",
       "    <tr>\n",
       "      <th>0</th>\n",
       "      <td>Christmas&amp;New Year Promo</td>\n",
       "      <td>EU, N.America</td>\n",
       "      <td>2020-12-25</td>\n",
       "      <td>2021-01-03</td>\n",
       "    </tr>\n",
       "    <tr>\n",
       "      <th>1</th>\n",
       "      <td>St. Valentine's Day Giveaway</td>\n",
       "      <td>EU, CIS, APAC, N.America</td>\n",
       "      <td>2020-02-14</td>\n",
       "      <td>2020-02-16</td>\n",
       "    </tr>\n",
       "    <tr>\n",
       "      <th>2</th>\n",
       "      <td>St. Patric's Day Promo</td>\n",
       "      <td>EU, N.America</td>\n",
       "      <td>2020-03-17</td>\n",
       "      <td>2020-03-19</td>\n",
       "    </tr>\n",
       "    <tr>\n",
       "      <th>3</th>\n",
       "      <td>Easter Promo</td>\n",
       "      <td>EU, CIS, APAC, N.America</td>\n",
       "      <td>2020-04-12</td>\n",
       "      <td>2020-04-19</td>\n",
       "    </tr>\n",
       "    <tr>\n",
       "      <th>4</th>\n",
       "      <td>4th of July Promo</td>\n",
       "      <td>N.America</td>\n",
       "      <td>2020-07-04</td>\n",
       "      <td>2020-07-11</td>\n",
       "    </tr>\n",
       "    <tr>\n",
       "      <th>5</th>\n",
       "      <td>Black Friday Ads Campaign</td>\n",
       "      <td>EU, CIS, APAC, N.America</td>\n",
       "      <td>2020-11-26</td>\n",
       "      <td>2020-12-01</td>\n",
       "    </tr>\n",
       "    <tr>\n",
       "      <th>6</th>\n",
       "      <td>Chinese New Year Promo</td>\n",
       "      <td>APAC</td>\n",
       "      <td>2020-01-25</td>\n",
       "      <td>2020-02-07</td>\n",
       "    </tr>\n",
       "    <tr>\n",
       "      <th>7</th>\n",
       "      <td>Labor day (May 1st) Ads Campaign</td>\n",
       "      <td>EU, CIS, APAC</td>\n",
       "      <td>2020-05-01</td>\n",
       "      <td>2020-05-03</td>\n",
       "    </tr>\n",
       "    <tr>\n",
       "      <th>8</th>\n",
       "      <td>International Women's Day Promo</td>\n",
       "      <td>EU, CIS, APAC</td>\n",
       "      <td>2020-03-08</td>\n",
       "      <td>2020-03-10</td>\n",
       "    </tr>\n",
       "    <tr>\n",
       "      <th>9</th>\n",
       "      <td>Victory Day CIS (May 9th) Event</td>\n",
       "      <td>CIS</td>\n",
       "      <td>2020-05-09</td>\n",
       "      <td>2020-05-11</td>\n",
       "    </tr>\n",
       "    <tr>\n",
       "      <th>10</th>\n",
       "      <td>CIS New Year Gift Lottery</td>\n",
       "      <td>CIS</td>\n",
       "      <td>2020-12-30</td>\n",
       "      <td>2021-01-07</td>\n",
       "    </tr>\n",
       "    <tr>\n",
       "      <th>11</th>\n",
       "      <td>Dragon Boat Festival Giveaway</td>\n",
       "      <td>APAC</td>\n",
       "      <td>2020-06-25</td>\n",
       "      <td>2020-07-01</td>\n",
       "    </tr>\n",
       "    <tr>\n",
       "      <th>12</th>\n",
       "      <td>Single's Day Gift Promo</td>\n",
       "      <td>APAC</td>\n",
       "      <td>2020-11-11</td>\n",
       "      <td>2020-11-12</td>\n",
       "    </tr>\n",
       "    <tr>\n",
       "      <th>13</th>\n",
       "      <td>Chinese Moon Festival</td>\n",
       "      <td>APAC</td>\n",
       "      <td>2020-10-01</td>\n",
       "      <td>2020-10-07</td>\n",
       "    </tr>\n",
       "  </tbody>\n",
       "</table>\n",
       "</div>"
      ],
      "text/plain": [
       "                                name                   regions   start_dt  \\\n",
       "0           Christmas&New Year Promo             EU, N.America 2020-12-25   \n",
       "1       St. Valentine's Day Giveaway  EU, CIS, APAC, N.America 2020-02-14   \n",
       "2             St. Patric's Day Promo             EU, N.America 2020-03-17   \n",
       "3                       Easter Promo  EU, CIS, APAC, N.America 2020-04-12   \n",
       "4                  4th of July Promo                 N.America 2020-07-04   \n",
       "5          Black Friday Ads Campaign  EU, CIS, APAC, N.America 2020-11-26   \n",
       "6             Chinese New Year Promo                      APAC 2020-01-25   \n",
       "7   Labor day (May 1st) Ads Campaign             EU, CIS, APAC 2020-05-01   \n",
       "8    International Women's Day Promo             EU, CIS, APAC 2020-03-08   \n",
       "9    Victory Day CIS (May 9th) Event                       CIS 2020-05-09   \n",
       "10         CIS New Year Gift Lottery                       CIS 2020-12-30   \n",
       "11     Dragon Boat Festival Giveaway                      APAC 2020-06-25   \n",
       "12           Single's Day Gift Promo                      APAC 2020-11-11   \n",
       "13             Chinese Moon Festival                      APAC 2020-10-01   \n",
       "\n",
       "    finish_dt  \n",
       "0  2021-01-03  \n",
       "1  2020-02-16  \n",
       "2  2020-03-19  \n",
       "3  2020-04-19  \n",
       "4  2020-07-11  \n",
       "5  2020-12-01  \n",
       "6  2020-02-07  \n",
       "7  2020-05-03  \n",
       "8  2020-03-10  \n",
       "9  2020-05-11  \n",
       "10 2021-01-07  \n",
       "11 2020-07-01  \n",
       "12 2020-11-12  \n",
       "13 2020-10-07  "
      ]
     },
     "execution_count": 42,
     "metadata": {},
     "output_type": "execute_result"
    }
   ],
   "source": [
    "marketing_events = datasets['marketing_events'].copy()\n",
    "marketing_events"
   ]
  },
  {
   "cell_type": "markdown",
   "id": "08982116-82e5-4bf8-819f-b72bd5018d88",
   "metadata": {},
   "source": [
    "Отберем события в Европе, которые пересекаются с временем проведения теста:"
   ]
  },
  {
   "cell_type": "code",
   "execution_count": 43,
   "id": "72c15d0c-97e8-4581-9dd3-3ecc2d6d59d3",
   "metadata": {},
   "outputs": [],
   "source": [
    "def marketing_intersections_picker(row):\n",
    "    \"\"\"Отбираем маркетинговые события, совпавшие с тестом.\"\"\"\n",
    "    regions = row['regions'].split(',')\n",
    "    start_date = datetime.datetime(2020, 12, 7)\n",
    "    end_date = datetime.datetime(2021, 1, 4)\n",
    "    if 'EU' in regions:\n",
    "        if row['finish_dt'] > start_date and row['start_dt'] < end_date:\n",
    "            return True\n",
    "    return False"
   ]
  },
  {
   "cell_type": "code",
   "execution_count": 44,
   "id": "b729820c-a4f7-46e6-8e16-5bf3bdad346e",
   "metadata": {},
   "outputs": [
    {
     "data": {
      "text/html": [
       "<div>\n",
       "<style scoped>\n",
       "    .dataframe tbody tr th:only-of-type {\n",
       "        vertical-align: middle;\n",
       "    }\n",
       "\n",
       "    .dataframe tbody tr th {\n",
       "        vertical-align: top;\n",
       "    }\n",
       "\n",
       "    .dataframe thead th {\n",
       "        text-align: right;\n",
       "    }\n",
       "</style>\n",
       "<table border=\"1\" class=\"dataframe\">\n",
       "  <thead>\n",
       "    <tr style=\"text-align: right;\">\n",
       "      <th></th>\n",
       "      <th>name</th>\n",
       "      <th>regions</th>\n",
       "      <th>start_dt</th>\n",
       "      <th>finish_dt</th>\n",
       "      <th>intersected</th>\n",
       "    </tr>\n",
       "  </thead>\n",
       "  <tbody>\n",
       "    <tr>\n",
       "      <th>0</th>\n",
       "      <td>Christmas&amp;New Year Promo</td>\n",
       "      <td>EU, N.America</td>\n",
       "      <td>2020-12-25</td>\n",
       "      <td>2021-01-03</td>\n",
       "      <td>True</td>\n",
       "    </tr>\n",
       "  </tbody>\n",
       "</table>\n",
       "</div>"
      ],
      "text/plain": [
       "                       name        regions   start_dt  finish_dt  intersected\n",
       "0  Christmas&New Year Promo  EU, N.America 2020-12-25 2021-01-03         True"
      ]
     },
     "execution_count": 44,
     "metadata": {},
     "output_type": "execute_result"
    }
   ],
   "source": [
    "marketing_events['intersected'] = marketing_events.apply(marketing_intersections_picker, axis=1)\n",
    "marketing_events.query('intersected == True')"
   ]
  },
  {
   "cell_type": "markdown",
   "id": "f9b01d33-0802-4af0-ae62-e87c52399d25",
   "metadata": {},
   "source": [
    "&#9889; **Выводы**\n",
    "\n",
    "1. Рождственское и Новогоднее промо частично совпадает с проведением теста - в период от 25.12.2020 до 01.03.2021 года.\n",
    "2. Учитывая, что маркетинговые акции оказывают самостоятельное влияние на поведение пользователей - необходимо исключить из тестовой группы пользователей, у которых с момента регистрации не прошло 14 дней к 25.12.2020 году."
   ]
  },
  {
   "cell_type": "markdown",
   "id": "3140d916-ba0a-42bd-912b-d752dd49827e",
   "metadata": {},
   "source": [
    "[В оглавление](#TOC)"
   ]
  },
  {
   "cell_type": "markdown",
   "id": "de26ea53-adb5-4994-b8aa-744b6157ce52",
   "metadata": {},
   "source": [
    "### - проверим активность пользователей во времени"
   ]
  },
  {
   "cell_type": "code",
   "execution_count": 45,
   "id": "eed009c0-ca37-4e78-8b0b-74c0abc075c2",
   "metadata": {},
   "outputs": [],
   "source": [
    "group_a['date'] = group_a.last_ts.dt.date\n",
    "group_b['date'] = group_b.last_ts.dt.date"
   ]
  },
  {
   "cell_type": "code",
   "execution_count": 46,
   "id": "457ad753-2713-4195-9070-4641e5064339",
   "metadata": {},
   "outputs": [],
   "source": [
    "count_by_date_a = group_a.groupby('date').agg({'last_event': 'count'}).reset_index()\n",
    "count_by_date_b = group_b.groupby('date').agg({'last_event': 'count'}).reset_index()"
   ]
  },
  {
   "cell_type": "code",
   "execution_count": 47,
   "id": "9caa65d9-2f42-4840-8644-42917c5d9cdc",
   "metadata": {},
   "outputs": [
    {
     "data": {
      "image/png": "[encoded data removed]",
      "text/plain": [
       "<Figure size 1080x504 with 1 Axes>"
      ]
     },
     "metadata": {},
     "output_type": "display_data"
    }
   ],
   "source": [
    "plt.figure(figsize=(15, 7))\n",
    "\n",
    "plt.plot(count_by_date_a['date'], count_by_date_a['last_event'], label='Группа А')\n",
    "plt.plot(count_by_date_b['date'], count_by_date_b['last_event'], label='Группа B')\n",
    "\n",
    "# спрячем сетку\n",
    "plt.grid(False)\n",
    "\n",
    "# повернем засечки, подпишем оси\n",
    "plt.xticks(rotation=45, ha=\"right\")\n",
    "\n",
    "# добавим легкие горизонтальные линии\n",
    "plt.grid(axis='y', alpha=0.15)\n",
    "plt.grid(axis='x', alpha=0)\n",
    "\n",
    "# нанесем на график линию \n",
    "plt.axvline(datetime.datetime(2020, 12, 25), linestyle='--', \n",
    "            color='orange', label='Начало промокампании')\n",
    "\n",
    "# спрячем лишние границы\n",
    "sns.despine(left=True, bottom=True)\n",
    "\n",
    "# подпишем график, выведем легенду,\n",
    "plt.xlabel('Дата', labelpad=30)\n",
    "plt.ylabel('Количество событий')\n",
    "plt.title('Динамика количества событий по дням и группам', loc='left', pad=30,\n",
    "          fontsize=12, fontweight='bold')\n",
    "plt.legend(loc=0)\n",
    "plt.show();"
   ]
  },
  {
   "cell_type": "markdown",
   "id": "d449a0f4-e94d-4075-b938-c894f3e501b7",
   "metadata": {},
   "source": [
    "&#9889; **Выводы**\n",
    "\n",
    "В целом схожая динамика, с поправкой на количество пользователей в группах: группа А многочисленнее. После 25 декабря в обоих группах наблюдается рост активности, который, впрочем идет на спад к 30 декабря. Полгаю, можно исходить из того, что промо примерно одинаково влияло на обе группы, так что проигнорируем пересечение с Christmas&New Year Promo."
   ]
  },
  {
   "cell_type": "markdown",
   "id": "f2510c7f-eb67-4965-ae08-0eea0be887d8",
   "metadata": {},
   "source": [
    "[В оглавление](#TOC)"
   ]
  },
  {
   "cell_type": "markdown",
   "id": "0824e884-9247-4f90-82b4-65794673aa9d",
   "metadata": {},
   "source": [
    "### - проверим итоговое число пользователей"
   ]
  },
  {
   "cell_type": "markdown",
   "id": "06d3e315-0071-48a6-9081-c52117b99657",
   "metadata": {},
   "source": [
    "Сделаем специальную копию таблицы с событиями, отфильтруем их по пользователям, обогатим информацией о группах."
   ]
  },
  {
   "cell_type": "code",
   "execution_count": 48,
   "id": "bf901634-b93e-43f8-b61d-cc42098eff4f",
   "metadata": {},
   "outputs": [
    {
     "data": {
      "text/plain": [
       "5568"
      ]
     },
     "execution_count": 48,
     "metadata": {},
     "output_type": "execute_result"
    }
   ],
   "source": [
    "len(test_participants)"
   ]
  },
  {
   "cell_type": "code",
   "execution_count": 49,
   "id": "0f74ca76-f96a-4209-9207-72a3e833dc23",
   "metadata": {},
   "outputs": [
    {
     "data": {
      "text/html": [
       "<div>\n",
       "<style scoped>\n",
       "    .dataframe tbody tr th:only-of-type {\n",
       "        vertical-align: middle;\n",
       "    }\n",
       "\n",
       "    .dataframe tbody tr th {\n",
       "        vertical-align: top;\n",
       "    }\n",
       "\n",
       "    .dataframe thead th {\n",
       "        text-align: right;\n",
       "    }\n",
       "</style>\n",
       "<table border=\"1\" class=\"dataframe\">\n",
       "  <thead>\n",
       "    <tr style=\"text-align: right;\">\n",
       "      <th></th>\n",
       "      <th>user_id</th>\n",
       "      <th>event_dt</th>\n",
       "      <th>event_name</th>\n",
       "      <th>details</th>\n",
       "      <th>group</th>\n",
       "      <th>ab_test</th>\n",
       "      <th>dt</th>\n",
       "    </tr>\n",
       "  </thead>\n",
       "  <tbody>\n",
       "    <tr>\n",
       "      <th>0</th>\n",
       "      <td>831887FE7F2D6CBA</td>\n",
       "      <td>2020-12-07 06:50:29</td>\n",
       "      <td>purchase</td>\n",
       "      <td>4.99</td>\n",
       "      <td>A</td>\n",
       "      <td>recommender_system_test</td>\n",
       "      <td>2020-12-07</td>\n",
       "    </tr>\n",
       "    <tr>\n",
       "      <th>1</th>\n",
       "      <td>831887FE7F2D6CBA</td>\n",
       "      <td>2020-12-09 02:19:17</td>\n",
       "      <td>purchase</td>\n",
       "      <td>99.99</td>\n",
       "      <td>A</td>\n",
       "      <td>recommender_system_test</td>\n",
       "      <td>2020-12-09</td>\n",
       "    </tr>\n",
       "    <tr>\n",
       "      <th>2</th>\n",
       "      <td>831887FE7F2D6CBA</td>\n",
       "      <td>2020-12-07 06:50:30</td>\n",
       "      <td>product_cart</td>\n",
       "      <td>NaN</td>\n",
       "      <td>A</td>\n",
       "      <td>recommender_system_test</td>\n",
       "      <td>2020-12-07</td>\n",
       "    </tr>\n",
       "    <tr>\n",
       "      <th>3</th>\n",
       "      <td>831887FE7F2D6CBA</td>\n",
       "      <td>2020-12-08 10:52:27</td>\n",
       "      <td>product_cart</td>\n",
       "      <td>NaN</td>\n",
       "      <td>A</td>\n",
       "      <td>recommender_system_test</td>\n",
       "      <td>2020-12-08</td>\n",
       "    </tr>\n",
       "    <tr>\n",
       "      <th>4</th>\n",
       "      <td>831887FE7F2D6CBA</td>\n",
       "      <td>2020-12-09 02:19:17</td>\n",
       "      <td>product_cart</td>\n",
       "      <td>NaN</td>\n",
       "      <td>A</td>\n",
       "      <td>recommender_system_test</td>\n",
       "      <td>2020-12-09</td>\n",
       "    </tr>\n",
       "  </tbody>\n",
       "</table>\n",
       "</div>"
      ],
      "text/plain": [
       "            user_id            event_dt    event_name  details group  \\\n",
       "0  831887FE7F2D6CBA 2020-12-07 06:50:29      purchase     4.99     A   \n",
       "1  831887FE7F2D6CBA 2020-12-09 02:19:17      purchase    99.99     A   \n",
       "2  831887FE7F2D6CBA 2020-12-07 06:50:30  product_cart      NaN     A   \n",
       "3  831887FE7F2D6CBA 2020-12-08 10:52:27  product_cart      NaN     A   \n",
       "4  831887FE7F2D6CBA 2020-12-09 02:19:17  product_cart      NaN     A   \n",
       "\n",
       "                   ab_test          dt  \n",
       "0  recommender_system_test  2020-12-07  \n",
       "1  recommender_system_test  2020-12-09  \n",
       "2  recommender_system_test  2020-12-07  \n",
       "3  recommender_system_test  2020-12-08  \n",
       "4  recommender_system_test  2020-12-09  "
      ]
     },
     "execution_count": 49,
     "metadata": {},
     "output_type": "execute_result"
    }
   ],
   "source": [
    "events = datasets['events'].copy()\n",
    "events = events.query('user_id in @test_participants.user_id')\n",
    "events = events.merge(test_participants, on='user_id')\n",
    "events['dt'] = events['event_dt'].dt.date\n",
    "events.head()\n"
   ]
  },
  {
   "cell_type": "code",
   "execution_count": 50,
   "id": "796e8810-ad69-4a65-9a40-c387e1db89a6",
   "metadata": {},
   "outputs": [
    {
     "data": {
      "text/plain": [
       "20564"
      ]
     },
     "execution_count": 50,
     "metadata": {},
     "output_type": "execute_result"
    }
   ],
   "source": [
    "len(events)"
   ]
  },
  {
   "cell_type": "markdown",
   "id": "a1557a3d-ac7a-4b6c-b446-47f67aace527",
   "metadata": {},
   "source": [
    "&#9889; **Выводы**\n",
    "\n",
    "Получили выборку из 5568 пользователей, с 20 564 наблюдениями."
   ]
  },
  {
   "cell_type": "markdown",
   "id": "e6f1ff1e-cfab-4ca7-9bb5-eca7ee742f5b",
   "metadata": {},
   "source": [
    "## 3) Исследовательский анализ данных<a class=\"anchor\" id=\"2_3\"></a>"
   ]
  },
  {
   "cell_type": "markdown",
   "id": "f5f40a49-97d0-44e2-80be-c5613ec945bb",
   "metadata": {},
   "source": [
    "### - отсортируем данные по столбцу с датой, проверим, что после сортировки события идут последовательно"
   ]
  },
  {
   "cell_type": "code",
   "execution_count": 51,
   "id": "6d647325-aff3-4950-a6e5-3dc573f26a8e",
   "metadata": {},
   "outputs": [
    {
     "data": {
      "text/plain": [
       "True"
      ]
     },
     "execution_count": 51,
     "metadata": {},
     "output_type": "execute_result"
    }
   ],
   "source": [
    "events.sort_values(by='event_dt', inplace=True)\n",
    "events['event_dt'].is_monotonic"
   ]
  },
  {
   "cell_type": "markdown",
   "id": "6e00be95-7c2f-4c50-9d2d-50d981a29c40",
   "metadata": {},
   "source": [
    "Получили датасет с полседовательными событиями."
   ]
  },
  {
   "cell_type": "markdown",
   "id": "00b2aaf4-0451-442b-a9ae-b77d1f5bf488",
   "metadata": {},
   "source": [
    "[В оглавление](#TOC)"
   ]
  },
  {
   "cell_type": "markdown",
   "id": "bfa5c272-d91a-4a53-9ee9-c8973fcc2df6",
   "metadata": {
    "tags": []
   },
   "source": [
    "### - соберем профили пользователей:"
   ]
  },
  {
   "cell_type": "code",
   "execution_count": 52,
   "id": "5601ba11-0340-4fc3-a6cb-4385ecd1d12c",
   "metadata": {},
   "outputs": [],
   "source": [
    "def get_profiles(data):\n",
    "    \"\"\"Cоздаем пользовательские профили.\"\"\"\n",
    "\n",
    "    # Находим параметры первых посещений\n",
    "    profiles = (data\n",
    "                .sort_values(by=['user_id', 'event_dt'])\n",
    "                .groupby('user_id').agg({'event_dt': 'first',\n",
    "                                         'event_name': 'first',\n",
    "                                         'group': 'first'})\n",
    "                .rename(columns={'event_dt': 'first_ts',\n",
    "                                 'event_name': 'first_event'})\n",
    "                .reset_index())\n",
    "\n",
    "    # Для когортного анализа определяем дату первого посещения\n",
    "    # и первый день месяца, в который это посещение произошло\n",
    "    profiles['dt'] = profiles['first_ts'].dt.date\n",
    "\n",
    "    # Добавим в профиль сведения о последнем событии для каждого пользователя\n",
    "    last_event = (events.groupby(['user_id', 'event_dt'])\n",
    "                  .last()\n",
    "                  .reset_index()\n",
    "                  .drop_duplicates(subset=['user_id'], keep='last')\n",
    "                  [['user_id', 'event_name', 'event_dt']])\n",
    "    last_event.columns = ['user_id', 'last_event', 'last_ts']\n",
    "    profiles = profiles.merge(last_event)\n",
    "    profiles['delta_in_days'] = (round((profiles['last_ts'] - profiles['first_ts'])\n",
    "                                       .dt\n",
    "                                       .total_seconds() / 3600 / 24, 2))\n",
    "\n",
    "    # Отбираем заплативших пользователей\n",
    "    orders = data.query('event_name == \"purchase\"')\n",
    "\n",
    "    # Добавляем признак платящих пользователей\n",
    "    profiles['payer'] = profiles['user_id'].isin(orders['user_id'].unique())\n",
    "\n",
    "    return profiles\n"
   ]
  },
  {
   "cell_type": "code",
   "execution_count": 53,
   "id": "1d5f7030-f558-449a-ac87-235f8a133ad4",
   "metadata": {},
   "outputs": [
    {
     "data": {
      "text/html": [
       "<div>\n",
       "<style scoped>\n",
       "    .dataframe tbody tr th:only-of-type {\n",
       "        vertical-align: middle;\n",
       "    }\n",
       "\n",
       "    .dataframe tbody tr th {\n",
       "        vertical-align: top;\n",
       "    }\n",
       "\n",
       "    .dataframe thead th {\n",
       "        text-align: right;\n",
       "    }\n",
       "</style>\n",
       "<table border=\"1\" class=\"dataframe\">\n",
       "  <thead>\n",
       "    <tr style=\"text-align: right;\">\n",
       "      <th></th>\n",
       "      <th>user_id</th>\n",
       "      <th>first_ts</th>\n",
       "      <th>first_event</th>\n",
       "      <th>group</th>\n",
       "      <th>dt</th>\n",
       "      <th>last_event</th>\n",
       "      <th>last_ts</th>\n",
       "      <th>delta_in_days</th>\n",
       "      <th>payer</th>\n",
       "    </tr>\n",
       "  </thead>\n",
       "  <tbody>\n",
       "    <tr>\n",
       "      <th>0</th>\n",
       "      <td>0010A1C096941592</td>\n",
       "      <td>2020-12-17 21:07:27</td>\n",
       "      <td>purchase</td>\n",
       "      <td>A</td>\n",
       "      <td>2020-12-17</td>\n",
       "      <td>product_page</td>\n",
       "      <td>2020-12-23 11:52:10</td>\n",
       "      <td>5.61</td>\n",
       "      <td>True</td>\n",
       "    </tr>\n",
       "    <tr>\n",
       "      <th>1</th>\n",
       "      <td>00341D8401F0F665</td>\n",
       "      <td>2020-12-21 11:14:50</td>\n",
       "      <td>login</td>\n",
       "      <td>A</td>\n",
       "      <td>2020-12-21</td>\n",
       "      <td>login</td>\n",
       "      <td>2020-12-24 12:16:01</td>\n",
       "      <td>3.04</td>\n",
       "      <td>False</td>\n",
       "    </tr>\n",
       "    <tr>\n",
       "      <th>2</th>\n",
       "      <td>003DF44D7589BBD4</td>\n",
       "      <td>2020-12-17 06:17:49</td>\n",
       "      <td>product_page</td>\n",
       "      <td>A</td>\n",
       "      <td>2020-12-17</td>\n",
       "      <td>product_cart</td>\n",
       "      <td>2020-12-26 12:27:28</td>\n",
       "      <td>9.26</td>\n",
       "      <td>False</td>\n",
       "    </tr>\n",
       "    <tr>\n",
       "      <th>3</th>\n",
       "      <td>00505E15A9D81546</td>\n",
       "      <td>2020-12-14 17:28:32</td>\n",
       "      <td>login</td>\n",
       "      <td>A</td>\n",
       "      <td>2020-12-14</td>\n",
       "      <td>login</td>\n",
       "      <td>2020-12-22 06:12:31</td>\n",
       "      <td>7.53</td>\n",
       "      <td>False</td>\n",
       "    </tr>\n",
       "    <tr>\n",
       "      <th>4</th>\n",
       "      <td>005E096DBD379BCF</td>\n",
       "      <td>2020-12-21 07:20:39</td>\n",
       "      <td>login</td>\n",
       "      <td>B</td>\n",
       "      <td>2020-12-21</td>\n",
       "      <td>purchase</td>\n",
       "      <td>2020-12-27 09:40:30</td>\n",
       "      <td>6.10</td>\n",
       "      <td>True</td>\n",
       "    </tr>\n",
       "    <tr>\n",
       "      <th>...</th>\n",
       "      <td>...</td>\n",
       "      <td>...</td>\n",
       "      <td>...</td>\n",
       "      <td>...</td>\n",
       "      <td>...</td>\n",
       "      <td>...</td>\n",
       "      <td>...</td>\n",
       "      <td>...</td>\n",
       "      <td>...</td>\n",
       "    </tr>\n",
       "    <tr>\n",
       "      <th>3045</th>\n",
       "      <td>FF5B24BCE4387F86</td>\n",
       "      <td>2020-12-21 08:46:48</td>\n",
       "      <td>login</td>\n",
       "      <td>A</td>\n",
       "      <td>2020-12-21</td>\n",
       "      <td>purchase</td>\n",
       "      <td>2020-12-29 09:31:46</td>\n",
       "      <td>8.03</td>\n",
       "      <td>True</td>\n",
       "    </tr>\n",
       "    <tr>\n",
       "      <th>3046</th>\n",
       "      <td>FF825C1D791989B5</td>\n",
       "      <td>2020-12-19 19:29:18</td>\n",
       "      <td>login</td>\n",
       "      <td>A</td>\n",
       "      <td>2020-12-19</td>\n",
       "      <td>product_cart</td>\n",
       "      <td>2020-12-27 02:48:26</td>\n",
       "      <td>7.30</td>\n",
       "      <td>False</td>\n",
       "    </tr>\n",
       "    <tr>\n",
       "      <th>3047</th>\n",
       "      <td>FF8CF7057415EB29</td>\n",
       "      <td>2020-12-21 16:09:41</td>\n",
       "      <td>product_page</td>\n",
       "      <td>B</td>\n",
       "      <td>2020-12-21</td>\n",
       "      <td>product_page</td>\n",
       "      <td>2020-12-25 20:55:52</td>\n",
       "      <td>4.20</td>\n",
       "      <td>False</td>\n",
       "    </tr>\n",
       "    <tr>\n",
       "      <th>3048</th>\n",
       "      <td>FFAE9489C76F352B</td>\n",
       "      <td>2020-12-13 18:46:05</td>\n",
       "      <td>login</td>\n",
       "      <td>A</td>\n",
       "      <td>2020-12-13</td>\n",
       "      <td>product_page</td>\n",
       "      <td>2020-12-19 11:32:51</td>\n",
       "      <td>5.70</td>\n",
       "      <td>False</td>\n",
       "    </tr>\n",
       "    <tr>\n",
       "      <th>3049</th>\n",
       "      <td>FFF28D02B1EACBE1</td>\n",
       "      <td>2020-12-16 08:24:56</td>\n",
       "      <td>login</td>\n",
       "      <td>B</td>\n",
       "      <td>2020-12-16</td>\n",
       "      <td>product_page</td>\n",
       "      <td>2020-12-24 00:51:06</td>\n",
       "      <td>7.68</td>\n",
       "      <td>False</td>\n",
       "    </tr>\n",
       "  </tbody>\n",
       "</table>\n",
       "<p>3050 rows × 9 columns</p>\n",
       "</div>"
      ],
      "text/plain": [
       "               user_id            first_ts   first_event group          dt  \\\n",
       "0     0010A1C096941592 2020-12-17 21:07:27      purchase     A  2020-12-17   \n",
       "1     00341D8401F0F665 2020-12-21 11:14:50         login     A  2020-12-21   \n",
       "2     003DF44D7589BBD4 2020-12-17 06:17:49  product_page     A  2020-12-17   \n",
       "3     00505E15A9D81546 2020-12-14 17:28:32         login     A  2020-12-14   \n",
       "4     005E096DBD379BCF 2020-12-21 07:20:39         login     B  2020-12-21   \n",
       "...                ...                 ...           ...   ...         ...   \n",
       "3045  FF5B24BCE4387F86 2020-12-21 08:46:48         login     A  2020-12-21   \n",
       "3046  FF825C1D791989B5 2020-12-19 19:29:18         login     A  2020-12-19   \n",
       "3047  FF8CF7057415EB29 2020-12-21 16:09:41  product_page     B  2020-12-21   \n",
       "3048  FFAE9489C76F352B 2020-12-13 18:46:05         login     A  2020-12-13   \n",
       "3049  FFF28D02B1EACBE1 2020-12-16 08:24:56         login     B  2020-12-16   \n",
       "\n",
       "        last_event             last_ts  delta_in_days  payer  \n",
       "0     product_page 2020-12-23 11:52:10           5.61   True  \n",
       "1            login 2020-12-24 12:16:01           3.04  False  \n",
       "2     product_cart 2020-12-26 12:27:28           9.26  False  \n",
       "3            login 2020-12-22 06:12:31           7.53  False  \n",
       "4         purchase 2020-12-27 09:40:30           6.10   True  \n",
       "...            ...                 ...            ...    ...  \n",
       "3045      purchase 2020-12-29 09:31:46           8.03   True  \n",
       "3046  product_cart 2020-12-27 02:48:26           7.30  False  \n",
       "3047  product_page 2020-12-25 20:55:52           4.20  False  \n",
       "3048  product_page 2020-12-19 11:32:51           5.70  False  \n",
       "3049  product_page 2020-12-24 00:51:06           7.68  False  \n",
       "\n",
       "[3050 rows x 9 columns]"
      ]
     },
     "execution_count": 53,
     "metadata": {},
     "output_type": "execute_result"
    }
   ],
   "source": [
    "profiles = get_profiles(events)\n",
    "profiles"
   ]
  },
  {
   "cell_type": "markdown",
   "id": "4dcd373e-8176-47d3-be65-9efbf8406fab",
   "metadata": {},
   "source": [
    "Проверим численность групп:"
   ]
  },
  {
   "cell_type": "code",
   "execution_count": 54,
   "id": "093054ea-0281-45f7-8685-3c6b4577ad6c",
   "metadata": {},
   "outputs": [
    {
     "data": {
      "text/html": [
       "<div>\n",
       "<style scoped>\n",
       "    .dataframe tbody tr th:only-of-type {\n",
       "        vertical-align: middle;\n",
       "    }\n",
       "\n",
       "    .dataframe tbody tr th {\n",
       "        vertical-align: top;\n",
       "    }\n",
       "\n",
       "    .dataframe thead th {\n",
       "        text-align: right;\n",
       "    }\n",
       "</style>\n",
       "<table border=\"1\" class=\"dataframe\">\n",
       "  <thead>\n",
       "    <tr style=\"text-align: right;\">\n",
       "      <th></th>\n",
       "      <th>group</th>\n",
       "      <th>user_id</th>\n",
       "    </tr>\n",
       "  </thead>\n",
       "  <tbody>\n",
       "    <tr>\n",
       "      <th>0</th>\n",
       "      <td>A</td>\n",
       "      <td>2279</td>\n",
       "    </tr>\n",
       "    <tr>\n",
       "      <th>1</th>\n",
       "      <td>B</td>\n",
       "      <td>771</td>\n",
       "    </tr>\n",
       "  </tbody>\n",
       "</table>\n",
       "</div>"
      ],
      "text/plain": [
       "  group  user_id\n",
       "0     A     2279\n",
       "1     B      771"
      ]
     },
     "execution_count": 54,
     "metadata": {},
     "output_type": "execute_result"
    }
   ],
   "source": [
    "profiles.groupby('group').agg({'user_id': 'count'}).reset_index()"
   ]
  },
  {
   "cell_type": "markdown",
   "id": "77981c26-c876-4012-9c1e-1e0c79efaa26",
   "metadata": {},
   "source": [
    "&#9889; **Выводы**\n",
    "\n",
    "Численность группы А почти в три раза (2.95) больше численности группы В."
   ]
  },
  {
   "cell_type": "markdown",
   "id": "393bed06-0566-4fb0-b84b-d41c1aa22d10",
   "metadata": {},
   "source": [
    "[В оглавление](#TOC)"
   ]
  },
  {
   "cell_type": "markdown",
   "id": "2d81769f-90ce-4b58-80e0-cba1c39489f7",
   "metadata": {},
   "source": [
    "### - cколько в среднем событий приходится на пользователя"
   ]
  },
  {
   "cell_type": "markdown",
   "id": "02ead5d3-2988-41eb-8414-86aeca6863d5",
   "metadata": {},
   "source": [
    "Чтобы посчитать сколько в среднем событый приходится на пользователя воспользуемся группировкой:"
   ]
  },
  {
   "cell_type": "code",
   "execution_count": 55,
   "id": "990124a2-cc5c-4eb1-bb69-119bd1c0a39e",
   "metadata": {},
   "outputs": [
    {
     "data": {
      "text/html": [
       "<div>\n",
       "<style scoped>\n",
       "    .dataframe tbody tr th:only-of-type {\n",
       "        vertical-align: middle;\n",
       "    }\n",
       "\n",
       "    .dataframe tbody tr th {\n",
       "        vertical-align: top;\n",
       "    }\n",
       "\n",
       "    .dataframe thead th {\n",
       "        text-align: right;\n",
       "    }\n",
       "</style>\n",
       "<table border=\"1\" class=\"dataframe\">\n",
       "  <thead>\n",
       "    <tr style=\"text-align: right;\">\n",
       "      <th></th>\n",
       "      <th>event_name</th>\n",
       "      <th>mean_all_users</th>\n",
       "      <th>group_a_mean</th>\n",
       "      <th>group_b_mean</th>\n",
       "    </tr>\n",
       "  </thead>\n",
       "  <tbody>\n",
       "    <tr>\n",
       "      <th>0</th>\n",
       "      <td>login</td>\n",
       "      <td>3.051148</td>\n",
       "      <td>3.141729</td>\n",
       "      <td>2.783398</td>\n",
       "    </tr>\n",
       "    <tr>\n",
       "      <th>1</th>\n",
       "      <td>product_cart</td>\n",
       "      <td>3.015556</td>\n",
       "      <td>3.131195</td>\n",
       "      <td>2.644860</td>\n",
       "    </tr>\n",
       "    <tr>\n",
       "      <th>2</th>\n",
       "      <td>product_page</td>\n",
       "      <td>3.013123</td>\n",
       "      <td>3.120596</td>\n",
       "      <td>2.643357</td>\n",
       "    </tr>\n",
       "    <tr>\n",
       "      <th>3</th>\n",
       "      <td>purchase</td>\n",
       "      <td>2.942288</td>\n",
       "      <td>3.051771</td>\n",
       "      <td>2.575342</td>\n",
       "    </tr>\n",
       "  </tbody>\n",
       "</table>\n",
       "</div>"
      ],
      "text/plain": [
       "     event_name  mean_all_users  group_a_mean  group_b_mean\n",
       "0         login        3.051148      3.141729      2.783398\n",
       "1  product_cart        3.015556      3.131195      2.644860\n",
       "2  product_page        3.013123      3.120596      2.643357\n",
       "3      purchase        2.942288      3.051771      2.575342"
      ]
     },
     "execution_count": 55,
     "metadata": {},
     "output_type": "execute_result"
    }
   ],
   "source": [
    "# Посчитам сколько из каждого вида событый у каждого пользоватлей\n",
    "count_events = events.groupby(['event_name', 'user_id'],\n",
    "                              as_index=False).agg({'event_dt': 'count'})\n",
    "\n",
    "# Сгруппируем результат по событию и посчитаем среднее\n",
    "mean_events = count_events.groupby('event_name', \n",
    "                                   as_index=False).agg({'event_dt': 'mean'})\n",
    "\n",
    "# Переименуем колонку со средним\n",
    "mean_events.rename(columns={'event_dt': 'mean_all_users'}, inplace=True)\n",
    "\n",
    "# Отсортируем результат\n",
    "mean_events.sort_values(by='mean_all_users', ascending=False, inplace=True)\n",
    "\n",
    "# Посчитаем в разрезе по группам\n",
    "group_a_events = events.query('group == \"A\"').groupby(['event_name', 'user_id'],\n",
    "                              as_index=False).agg({'event_dt': 'count'})\n",
    "group_a_events = group_a_events.groupby('event_name',\n",
    "                                        as_index=False).agg({'event_dt': 'mean'})\n",
    "\n",
    "group_a_events.rename(columns={'event_dt': 'group_a_mean'}, inplace=True)\n",
    "\n",
    "group_b_events = events.query('group == \"B\"').groupby(['event_name', 'user_id'],\n",
    "                              as_index=False).agg({'event_dt': 'count'})\n",
    "group_b_events = group_b_events.groupby('event_name',\n",
    "                                        as_index=False).agg({'event_dt': 'mean'})\n",
    "group_b_events.rename(columns={'event_dt': 'group_b_mean'}, inplace=True)\n",
    "\n",
    "# Добавим среднее на пользователя по событяим в совокупности\n",
    "# result_row = pd.Series(['All events',\n",
    "#                         len(events) / events['user_id'].nunique()],\n",
    "#                        index=mean_events.columns)\n",
    "# mean_events = mean_events.append(result_row, ignore_index=True)\n",
    "mean_events = mean_events.merge(group_a_events)\n",
    "mean_events = mean_events.merge(group_b_events)\n",
    "mean_events"
   ]
  },
  {
   "cell_type": "markdown",
   "id": "9b87c679-da4b-4208-8758-1738f24c289b",
   "metadata": {},
   "source": [
    "Проверим сколько событий, в среднем приходится на всех пользователе:"
   ]
  },
  {
   "cell_type": "code",
   "execution_count": 56,
   "id": "3cde1eb0-5ebb-49f3-a4c4-29f5b442291f",
   "metadata": {},
   "outputs": [
    {
     "data": {
      "text/plain": [
       "3.0055284923089225"
      ]
     },
     "execution_count": 56,
     "metadata": {},
     "output_type": "execute_result"
    }
   ],
   "source": [
    "mean_events.mean_all_users.mean()"
   ]
  },
  {
   "cell_type": "markdown",
   "id": "0eb39df3-0ed4-4267-9551-6f8c1788cf60",
   "metadata": {},
   "source": [
    "Проверим сколько событий, в среднем приходится на пользователя группы В:"
   ]
  },
  {
   "cell_type": "code",
   "execution_count": 57,
   "id": "ea25802d-6b16-408e-843b-a4c982f6d38d",
   "metadata": {},
   "outputs": [
    {
     "data": {
      "text/plain": [
       "2.6617392765926433"
      ]
     },
     "execution_count": 57,
     "metadata": {},
     "output_type": "execute_result"
    }
   ],
   "source": [
    "mean_events.group_b_mean.mean()"
   ]
  },
  {
   "cell_type": "markdown",
   "id": "564ca906-d746-4a68-b391-ae87e48f3103",
   "metadata": {},
   "source": [
    "Проверим сколько событий, в среднем приходится на пользователя группы А:"
   ]
  },
  {
   "cell_type": "code",
   "execution_count": 58,
   "id": "a0c5f90e-22f3-47da-ba54-7791bf03ae9e",
   "metadata": {},
   "outputs": [
    {
     "data": {
      "text/plain": [
       "3.111322871709691"
      ]
     },
     "execution_count": 58,
     "metadata": {},
     "output_type": "execute_result"
    }
   ],
   "source": [
    "mean_events.group_a_mean.mean()"
   ]
  },
  {
   "cell_type": "markdown",
   "id": "2d1fde4a-3f76-4325-86cc-bda3524617a0",
   "metadata": {
    "tags": []
   },
   "source": [
    "&#9889; **Выводы**\n",
    "\n",
    "1. В среднем, на пользователя приходится 3 события.\n",
    "2. Из четырех событий в представленных данных на пользователя группы А, в среднем, приходится:\n",
    "    - 3 посещения корзины,\n",
    "    - 3 посещения страницы авторизации,\n",
    "    - 3 посещенйя страницы с товаром,\n",
    "    - 3 платежа.\n",
    "2. Из четырех событий в представленных данных на пользователя группы В, в среднем, приходится меньше, чем на пользователей группы В:\n",
    "    - 2.64 посещения корзины,\n",
    "    - 2.78 посещения страницы авторизации,\n",
    "    - 2.64 посещенйя страницы с товаром,\n",
    "    - 2.57 платежа."
   ]
  },
  {
   "cell_type": "markdown",
   "id": "0fd68dac-6213-497e-b9a5-b7b1abf214b2",
   "metadata": {},
   "source": [
    "[В оглавление](#TOC)"
   ]
  },
  {
   "cell_type": "markdown",
   "id": "8c405836-60d4-473f-946c-87663035aa0b",
   "metadata": {},
   "source": [
    "### - выявим шаг с наибольшей потерей, посчитаем долю пользователей прошедших от первого события до оплаты"
   ]
  },
  {
   "cell_type": "markdown",
   "id": "6b08855a-f1e7-4161-be2b-338fa6c7aef2",
   "metadata": {},
   "source": [
    "Для группы А:"
   ]
  },
  {
   "cell_type": "code",
   "execution_count": 59,
   "id": "79a88c11-0152-40be-871a-2ce5c4aa70f4",
   "metadata": {},
   "outputs": [],
   "source": [
    "def loss_counter(group):\n",
    "    \"\"\"Считаем шаг с наибольшей потерей.\"\"\"\n",
    "\n",
    "    # Отберем группу\n",
    "    events_group = events.query(f'group == \"{group}\"')\n",
    "\n",
    "    # Сохраним в переменную число уникальных пользователей\n",
    "    total_users_in_group = events_group['user_id'].nunique()\n",
    "\n",
    "    # Сгруппируем таблицу по событиям, посчитаем число уникальных пользователей на каждом\n",
    "    events_group = events_group.groupby('event_name', as_index=False).agg({'user_id': 'nunique'})\n",
    "    \n",
    "    # Зафиксируем последовательность событий\n",
    "    events_group = events_group.set_index('event_name').reindex(['login', 'product_page', \n",
    "                                                                 'product_cart', 'purchase']).reset_index()\n",
    "\n",
    "    # Посчитаем конверсию\n",
    "    events_group['percent'] = round(events_group['user_id'] * 100 / \n",
    "                                    total_users_in_group, 2)\n",
    "\n",
    "    # Переименуем колонку с id для ясности\n",
    "    events_group.rename(columns={'user_id': 'unique_users'}, inplace=True)\n",
    "\n",
    "    # Посчитаем долю пользователей от шага к шагу:\n",
    "    events_group['diff'] = abs(events_group['unique_users'].diff())\n",
    "    events_group['% diff next step'] = abs(1 + round(events_group['unique_users']\n",
    "                                                     .pct_change(), 2) * 100)\n",
    "    events_group.fillna('---', inplace=True)\n",
    "    events_group.drop('percent', axis=1, inplace=True)\n",
    "\n",
    "    return events_group"
   ]
  },
  {
   "cell_type": "code",
   "execution_count": 60,
   "id": "28fd64e2-404f-4465-9098-a4d3e7e87b28",
   "metadata": {},
   "outputs": [
    {
     "data": {
      "text/html": [
       "<div>\n",
       "<style scoped>\n",
       "    .dataframe tbody tr th:only-of-type {\n",
       "        vertical-align: middle;\n",
       "    }\n",
       "\n",
       "    .dataframe tbody tr th {\n",
       "        vertical-align: top;\n",
       "    }\n",
       "\n",
       "    .dataframe thead th {\n",
       "        text-align: right;\n",
       "    }\n",
       "</style>\n",
       "<table border=\"1\" class=\"dataframe\">\n",
       "  <thead>\n",
       "    <tr style=\"text-align: right;\">\n",
       "      <th></th>\n",
       "      <th>event_name</th>\n",
       "      <th>unique_users</th>\n",
       "      <th>diff</th>\n",
       "      <th>% diff next step</th>\n",
       "    </tr>\n",
       "  </thead>\n",
       "  <tbody>\n",
       "    <tr>\n",
       "      <th>0</th>\n",
       "      <td>login</td>\n",
       "      <td>2279</td>\n",
       "      <td>---</td>\n",
       "      <td>---</td>\n",
       "    </tr>\n",
       "    <tr>\n",
       "      <th>1</th>\n",
       "      <td>product_page</td>\n",
       "      <td>1476</td>\n",
       "      <td>803.0</td>\n",
       "      <td>34.0</td>\n",
       "    </tr>\n",
       "    <tr>\n",
       "      <th>2</th>\n",
       "      <td>product_cart</td>\n",
       "      <td>686</td>\n",
       "      <td>790.0</td>\n",
       "      <td>53.0</td>\n",
       "    </tr>\n",
       "    <tr>\n",
       "      <th>3</th>\n",
       "      <td>purchase</td>\n",
       "      <td>734</td>\n",
       "      <td>48.0</td>\n",
       "      <td>8.0</td>\n",
       "    </tr>\n",
       "  </tbody>\n",
       "</table>\n",
       "</div>"
      ],
      "text/plain": [
       "     event_name  unique_users   diff % diff next step\n",
       "0         login          2279    ---              ---\n",
       "1  product_page          1476  803.0             34.0\n",
       "2  product_cart           686  790.0             53.0\n",
       "3      purchase           734   48.0              8.0"
      ]
     },
     "execution_count": 60,
     "metadata": {},
     "output_type": "execute_result"
    }
   ],
   "source": [
    "loss_counter('A')"
   ]
  },
  {
   "cell_type": "markdown",
   "id": "eff1d949-2a57-41fe-ae7d-da420f27afd7",
   "metadata": {},
   "source": [
    "Для группы В:"
   ]
  },
  {
   "cell_type": "code",
   "execution_count": 61,
   "id": "41dfb65a-2b1a-4a82-a32a-fcb30807be51",
   "metadata": {},
   "outputs": [
    {
     "data": {
      "text/html": [
       "<div>\n",
       "<style scoped>\n",
       "    .dataframe tbody tr th:only-of-type {\n",
       "        vertical-align: middle;\n",
       "    }\n",
       "\n",
       "    .dataframe tbody tr th {\n",
       "        vertical-align: top;\n",
       "    }\n",
       "\n",
       "    .dataframe thead th {\n",
       "        text-align: right;\n",
       "    }\n",
       "</style>\n",
       "<table border=\"1\" class=\"dataframe\">\n",
       "  <thead>\n",
       "    <tr style=\"text-align: right;\">\n",
       "      <th></th>\n",
       "      <th>event_name</th>\n",
       "      <th>unique_users</th>\n",
       "      <th>diff</th>\n",
       "      <th>% diff next step</th>\n",
       "    </tr>\n",
       "  </thead>\n",
       "  <tbody>\n",
       "    <tr>\n",
       "      <th>0</th>\n",
       "      <td>login</td>\n",
       "      <td>771</td>\n",
       "      <td>---</td>\n",
       "      <td>---</td>\n",
       "    </tr>\n",
       "    <tr>\n",
       "      <th>1</th>\n",
       "      <td>product_page</td>\n",
       "      <td>429</td>\n",
       "      <td>342.0</td>\n",
       "      <td>43.0</td>\n",
       "    </tr>\n",
       "    <tr>\n",
       "      <th>2</th>\n",
       "      <td>product_cart</td>\n",
       "      <td>214</td>\n",
       "      <td>215.0</td>\n",
       "      <td>49.0</td>\n",
       "    </tr>\n",
       "    <tr>\n",
       "      <th>3</th>\n",
       "      <td>purchase</td>\n",
       "      <td>219</td>\n",
       "      <td>5.0</td>\n",
       "      <td>3.0</td>\n",
       "    </tr>\n",
       "  </tbody>\n",
       "</table>\n",
       "</div>"
      ],
      "text/plain": [
       "     event_name  unique_users   diff % diff next step\n",
       "0         login           771    ---              ---\n",
       "1  product_page           429  342.0             43.0\n",
       "2  product_cart           214  215.0             49.0\n",
       "3      purchase           219    5.0              3.0"
      ]
     },
     "execution_count": 61,
     "metadata": {},
     "output_type": "execute_result"
    }
   ],
   "source": [
    "loss_counter('B')"
   ]
  },
  {
   "cell_type": "markdown",
   "id": "c764ee0c-6503-4400-98ea-1bd28dacae8a",
   "metadata": {
    "tags": []
   },
   "source": [
    "&#9889; **Выводы**\n",
    "\n",
    "Наибольшая потеря происходит при переходе на экран с корзиной: для группы А - потеря 53% от предыдущего шага, для группы В - 49%."
   ]
  },
  {
   "cell_type": "markdown",
   "id": "ad1517d6-b7a7-4df6-bfed-a3ba1469a0a3",
   "metadata": {},
   "source": [
    "[В оглавление](#TOC)"
   ]
  },
  {
   "cell_type": "markdown",
   "id": "86ff18c4-5842-4828-b946-9cbc374281de",
   "metadata": {},
   "source": [
    "### - построим гистограмму по дате и времени"
   ]
  },
  {
   "cell_type": "code",
   "execution_count": 62,
   "id": "63a98b36-8c4e-47a0-a036-00c5c93deb93",
   "metadata": {},
   "outputs": [],
   "source": [
    "group_a = events.query(f'group == \"A\"')\n",
    "group_b = events.query(f'group == \"B\"')"
   ]
  },
  {
   "cell_type": "code",
   "execution_count": 63,
   "id": "ad698d60-87be-409c-9b3e-52af062b3c34",
   "metadata": {},
   "outputs": [],
   "source": [
    "labels = {'data1_name': 'Пользователи группы А',\n",
    "          'data2_name': 'Пользователи группы В',\n",
    "          'xlabel': 'Дата', \n",
    "          'ylabel': 'Количество событий',\n",
    "          'title': 'Распределение событий по дате (с учетом группы)'}"
   ]
  },
  {
   "cell_type": "code",
   "execution_count": 64,
   "id": "d7babce9-f0d9-435d-9811-1a244b27277a",
   "metadata": {},
   "outputs": [
    {
     "data": {
      "image/png": "[encoded data removed]",
      "text/plain": [
       "<Figure size 720x576 with 1 Axes>"
      ]
     },
     "metadata": {},
     "output_type": "display_data"
    }
   ],
   "source": [
    "overlaid_histogram(group_a['event_dt'],\n",
    "                   group_b['event_dt'],\n",
    "                   labels, n_bins=80)"
   ]
  },
  {
   "cell_type": "markdown",
   "id": "210c3a86-b06e-46a9-aea8-86ed50e6c2ac",
   "metadata": {
    "tags": []
   },
   "source": [
    "&#9889; **Выводы**\n",
    "\n",
    "В середине декабря у группы А резкий рост и подъем по числу событий, затем, чем ближе к новому году, тем меньше активности. У группы В тоже есть подьемы и спады примерно в те же периоды, что и группы А, но менее выраженные, автивность также снижается ближе к новому году."
   ]
  },
  {
   "cell_type": "markdown",
   "id": "28fbdbf6-253c-44fb-a9dd-5e9b567c3698",
   "metadata": {},
   "source": [
    "### - оценим полноту данных"
   ]
  },
  {
   "cell_type": "markdown",
   "id": "7a96f00d-d387-4de8-a186-4bbf407b4d00",
   "metadata": {},
   "source": [
    "Сгруппируем данные по дате и посчитаем количество наблюдений по каждому дню."
   ]
  },
  {
   "cell_type": "code",
   "execution_count": 65,
   "id": "470a2dda-5cec-40cd-906f-41b4e1f9a766",
   "metadata": {},
   "outputs": [
    {
     "data": {
      "text/html": [
       "<div>\n",
       "<style scoped>\n",
       "    .dataframe tbody tr th:only-of-type {\n",
       "        vertical-align: middle;\n",
       "    }\n",
       "\n",
       "    .dataframe tbody tr th {\n",
       "        vertical-align: top;\n",
       "    }\n",
       "\n",
       "    .dataframe thead th {\n",
       "        text-align: right;\n",
       "    }\n",
       "</style>\n",
       "<table border=\"1\" class=\"dataframe\">\n",
       "  <thead>\n",
       "    <tr style=\"text-align: right;\">\n",
       "      <th></th>\n",
       "      <th>dt</th>\n",
       "      <th>user_id</th>\n",
       "    </tr>\n",
       "  </thead>\n",
       "  <tbody>\n",
       "    <tr>\n",
       "      <th>14</th>\n",
       "      <td>2020-12-21</td>\n",
       "      <td>2048</td>\n",
       "    </tr>\n",
       "    <tr>\n",
       "      <th>13</th>\n",
       "      <td>2020-12-20</td>\n",
       "      <td>1571</td>\n",
       "    </tr>\n",
       "    <tr>\n",
       "      <th>12</th>\n",
       "      <td>2020-12-19</td>\n",
       "      <td>1497</td>\n",
       "    </tr>\n",
       "    <tr>\n",
       "      <th>11</th>\n",
       "      <td>2020-12-18</td>\n",
       "      <td>1309</td>\n",
       "    </tr>\n",
       "    <tr>\n",
       "      <th>10</th>\n",
       "      <td>2020-12-17</td>\n",
       "      <td>1276</td>\n",
       "    </tr>\n",
       "    <tr>\n",
       "      <th>15</th>\n",
       "      <td>2020-12-22</td>\n",
       "      <td>1272</td>\n",
       "    </tr>\n",
       "    <tr>\n",
       "      <th>9</th>\n",
       "      <td>2020-12-16</td>\n",
       "      <td>1192</td>\n",
       "    </tr>\n",
       "    <tr>\n",
       "      <th>7</th>\n",
       "      <td>2020-12-14</td>\n",
       "      <td>1107</td>\n",
       "    </tr>\n",
       "    <tr>\n",
       "      <th>8</th>\n",
       "      <td>2020-12-15</td>\n",
       "      <td>1102</td>\n",
       "    </tr>\n",
       "    <tr>\n",
       "      <th>16</th>\n",
       "      <td>2020-12-23</td>\n",
       "      <td>1004</td>\n",
       "    </tr>\n",
       "    <tr>\n",
       "      <th>17</th>\n",
       "      <td>2020-12-24</td>\n",
       "      <td>878</td>\n",
       "    </tr>\n",
       "    <tr>\n",
       "      <th>18</th>\n",
       "      <td>2020-12-25</td>\n",
       "      <td>662</td>\n",
       "    </tr>\n",
       "    <tr>\n",
       "      <th>2</th>\n",
       "      <td>2020-12-09</td>\n",
       "      <td>620</td>\n",
       "    </tr>\n",
       "    <tr>\n",
       "      <th>19</th>\n",
       "      <td>2020-12-26</td>\n",
       "      <td>597</td>\n",
       "    </tr>\n",
       "    <tr>\n",
       "      <th>20</th>\n",
       "      <td>2020-12-27</td>\n",
       "      <td>589</td>\n",
       "    </tr>\n",
       "    <tr>\n",
       "      <th>0</th>\n",
       "      <td>2020-12-07</td>\n",
       "      <td>578</td>\n",
       "    </tr>\n",
       "    <tr>\n",
       "      <th>3</th>\n",
       "      <td>2020-12-10</td>\n",
       "      <td>512</td>\n",
       "    </tr>\n",
       "    <tr>\n",
       "      <th>21</th>\n",
       "      <td>2020-12-28</td>\n",
       "      <td>495</td>\n",
       "    </tr>\n",
       "    <tr>\n",
       "      <th>1</th>\n",
       "      <td>2020-12-08</td>\n",
       "      <td>490</td>\n",
       "    </tr>\n",
       "    <tr>\n",
       "      <th>5</th>\n",
       "      <td>2020-12-12</td>\n",
       "      <td>488</td>\n",
       "    </tr>\n",
       "    <tr>\n",
       "      <th>4</th>\n",
       "      <td>2020-12-11</td>\n",
       "      <td>446</td>\n",
       "    </tr>\n",
       "    <tr>\n",
       "      <th>22</th>\n",
       "      <td>2020-12-29</td>\n",
       "      <td>432</td>\n",
       "    </tr>\n",
       "    <tr>\n",
       "      <th>6</th>\n",
       "      <td>2020-12-13</td>\n",
       "      <td>395</td>\n",
       "    </tr>\n",
       "    <tr>\n",
       "      <th>23</th>\n",
       "      <td>2020-12-30</td>\n",
       "      <td>4</td>\n",
       "    </tr>\n",
       "  </tbody>\n",
       "</table>\n",
       "</div>"
      ],
      "text/plain": [
       "            dt  user_id\n",
       "14  2020-12-21     2048\n",
       "13  2020-12-20     1571\n",
       "12  2020-12-19     1497\n",
       "11  2020-12-18     1309\n",
       "10  2020-12-17     1276\n",
       "15  2020-12-22     1272\n",
       "9   2020-12-16     1192\n",
       "7   2020-12-14     1107\n",
       "8   2020-12-15     1102\n",
       "16  2020-12-23     1004\n",
       "17  2020-12-24      878\n",
       "18  2020-12-25      662\n",
       "2   2020-12-09      620\n",
       "19  2020-12-26      597\n",
       "20  2020-12-27      589\n",
       "0   2020-12-07      578\n",
       "3   2020-12-10      512\n",
       "21  2020-12-28      495\n",
       "1   2020-12-08      490\n",
       "5   2020-12-12      488\n",
       "4   2020-12-11      446\n",
       "22  2020-12-29      432\n",
       "6   2020-12-13      395\n",
       "23  2020-12-30        4"
      ]
     },
     "execution_count": 65,
     "metadata": {},
     "output_type": "execute_result"
    }
   ],
   "source": [
    "grouped_by_date = simple_grouper(events, 'dt')\n",
    "grouped_by_date.drop('percent', axis=1)"
   ]
  },
  {
   "cell_type": "markdown",
   "id": "b97b19c6-2e15-45fd-9279-09aeab86ffba",
   "metadata": {
    "tags": []
   },
   "source": [
    "&#9889; **Выводы**\n",
    "\n",
    "Табличные данные подтверждают тенденцию к снижению активности: с каждым днем все меньше и меньше пользователей что-то делают в магазине."
   ]
  },
  {
   "cell_type": "markdown",
   "id": "de620e61-5bfd-4932-a33b-7d4c77e7a2df",
   "metadata": {},
   "source": [
    "[В оглавление](#TOC)"
   ]
  },
  {
   "cell_type": "markdown",
   "id": "821daec7-7222-4b0b-947d-21139041c9db",
   "metadata": {
    "tags": []
   },
   "source": [
    "## 4) Воронка событий <a class=\"anchor\" id=\"2_4\"></a>"
   ]
  },
  {
   "cell_type": "markdown",
   "id": "d542dff7-0b9b-4a26-8990-fc57cd68b349",
   "metadata": {},
   "source": [
    "### - подготовим данные"
   ]
  },
  {
   "cell_type": "markdown",
   "id": "678de276-2dde-4fbd-91e3-852e1d04e645",
   "metadata": {},
   "source": [
    "Для воронки со всеми уникальными пользователями:"
   ]
  },
  {
   "cell_type": "code",
   "execution_count": 66,
   "id": "caa20bba-8458-4e26-90cb-e1706e28917e",
   "metadata": {},
   "outputs": [
    {
     "data": {
      "text/html": [
       "<div>\n",
       "<style scoped>\n",
       "    .dataframe tbody tr th:only-of-type {\n",
       "        vertical-align: middle;\n",
       "    }\n",
       "\n",
       "    .dataframe tbody tr th {\n",
       "        vertical-align: top;\n",
       "    }\n",
       "\n",
       "    .dataframe thead th {\n",
       "        text-align: right;\n",
       "    }\n",
       "</style>\n",
       "<table border=\"1\" class=\"dataframe\">\n",
       "  <thead>\n",
       "    <tr style=\"text-align: right;\">\n",
       "      <th></th>\n",
       "      <th>event_name</th>\n",
       "      <th>unique_users</th>\n",
       "      <th>total_users</th>\n",
       "      <th>percent</th>\n",
       "    </tr>\n",
       "  </thead>\n",
       "  <tbody>\n",
       "    <tr>\n",
       "      <th>0</th>\n",
       "      <td>login</td>\n",
       "      <td>3050</td>\n",
       "      <td>3050</td>\n",
       "      <td>100.00</td>\n",
       "    </tr>\n",
       "    <tr>\n",
       "      <th>1</th>\n",
       "      <td>product_page</td>\n",
       "      <td>1905</td>\n",
       "      <td>3050</td>\n",
       "      <td>62.46</td>\n",
       "    </tr>\n",
       "    <tr>\n",
       "      <th>2</th>\n",
       "      <td>product_cart</td>\n",
       "      <td>900</td>\n",
       "      <td>3050</td>\n",
       "      <td>29.51</td>\n",
       "    </tr>\n",
       "    <tr>\n",
       "      <th>3</th>\n",
       "      <td>purchase</td>\n",
       "      <td>953</td>\n",
       "      <td>3050</td>\n",
       "      <td>31.25</td>\n",
       "    </tr>\n",
       "  </tbody>\n",
       "</table>\n",
       "</div>"
      ],
      "text/plain": [
       "     event_name  unique_users  total_users  percent\n",
       "0         login          3050         3050   100.00\n",
       "1  product_page          1905         3050    62.46\n",
       "2  product_cart           900         3050    29.51\n",
       "3      purchase           953         3050    31.25"
      ]
     },
     "execution_count": 66,
     "metadata": {},
     "output_type": "execute_result"
    }
   ],
   "source": [
    "events_and_users = events.groupby('event_name', as_index=False).agg({'user_id': 'nunique'})\n",
    "\n",
    "# Считаем общее число уникальных пользователей\n",
    "events_and_users['total_users'] = events['user_id'].nunique()\n",
    "\n",
    "# Считаем долю пользователей для каждого события\n",
    "events_and_users['percent'] = round(events_and_users['user_id'] * 100 / \n",
    "                                    events_and_users['total_users'], 2)\n",
    "\n",
    "# Переименовываем и сортируем результат\n",
    "events_and_users.rename(columns={'user_id': 'unique_users'}, inplace=True)\n",
    "events_and_users = events_and_users.set_index('event_name').reindex(['login', 'product_page',\n",
    "                                                                     'product_cart', 'purchase']).reset_index()\n",
    "events_and_users"
   ]
  },
  {
   "cell_type": "markdown",
   "id": "a776c43d-bdb3-4e90-973a-b8f8be94ae06",
   "metadata": {},
   "source": [
    "Кроме того, нас интересуют как проходили воронку пользователи из разных групп. Соберем данные вместе:"
   ]
  },
  {
   "cell_type": "code",
   "execution_count": 67,
   "id": "c6888a5e-b7e7-4246-86d6-2c6e3a1fdfcf",
   "metadata": {},
   "outputs": [
    {
     "data": {
      "text/html": [
       "<div>\n",
       "<style scoped>\n",
       "    .dataframe tbody tr th:only-of-type {\n",
       "        vertical-align: middle;\n",
       "    }\n",
       "\n",
       "    .dataframe tbody tr th {\n",
       "        vertical-align: top;\n",
       "    }\n",
       "\n",
       "    .dataframe thead th {\n",
       "        text-align: right;\n",
       "    }\n",
       "</style>\n",
       "<table border=\"1\" class=\"dataframe\">\n",
       "  <thead>\n",
       "    <tr style=\"text-align: right;\">\n",
       "      <th></th>\n",
       "      <th>event_name</th>\n",
       "      <th>group</th>\n",
       "      <th>user_id</th>\n",
       "    </tr>\n",
       "  </thead>\n",
       "  <tbody>\n",
       "    <tr>\n",
       "      <th>0</th>\n",
       "      <td>login</td>\n",
       "      <td>A</td>\n",
       "      <td>2279</td>\n",
       "    </tr>\n",
       "    <tr>\n",
       "      <th>1</th>\n",
       "      <td>login</td>\n",
       "      <td>B</td>\n",
       "      <td>771</td>\n",
       "    </tr>\n",
       "    <tr>\n",
       "      <th>2</th>\n",
       "      <td>product_cart</td>\n",
       "      <td>A</td>\n",
       "      <td>686</td>\n",
       "    </tr>\n",
       "    <tr>\n",
       "      <th>3</th>\n",
       "      <td>product_cart</td>\n",
       "      <td>B</td>\n",
       "      <td>214</td>\n",
       "    </tr>\n",
       "    <tr>\n",
       "      <th>4</th>\n",
       "      <td>product_page</td>\n",
       "      <td>A</td>\n",
       "      <td>1476</td>\n",
       "    </tr>\n",
       "    <tr>\n",
       "      <th>5</th>\n",
       "      <td>product_page</td>\n",
       "      <td>B</td>\n",
       "      <td>429</td>\n",
       "    </tr>\n",
       "    <tr>\n",
       "      <th>6</th>\n",
       "      <td>purchase</td>\n",
       "      <td>A</td>\n",
       "      <td>734</td>\n",
       "    </tr>\n",
       "    <tr>\n",
       "      <th>7</th>\n",
       "      <td>purchase</td>\n",
       "      <td>B</td>\n",
       "      <td>219</td>\n",
       "    </tr>\n",
       "  </tbody>\n",
       "</table>\n",
       "</div>"
      ],
      "text/plain": [
       "     event_name group  user_id\n",
       "0         login     A     2279\n",
       "1         login     B      771\n",
       "2  product_cart     A      686\n",
       "3  product_cart     B      214\n",
       "4  product_page     A     1476\n",
       "5  product_page     B      429\n",
       "6      purchase     A      734\n",
       "7      purchase     B      219"
      ]
     },
     "execution_count": 67,
     "metadata": {},
     "output_type": "execute_result"
    }
   ],
   "source": [
    "events.groupby(['event_name', 'group']).agg({'user_id': 'nunique'}).reset_index()"
   ]
  },
  {
   "cell_type": "code",
   "execution_count": 68,
   "id": "05f7f2cb-a7d3-45f0-a8b3-93cf1925182b",
   "metadata": {},
   "outputs": [],
   "source": [
    "def events_order(row):\n",
    "    if row['event_name'] == 'login':\n",
    "        return 1\n",
    "    if row['event_name'] == 'product_page':\n",
    "        return 2\n",
    "    if row['event_name'] == 'product_cart':\n",
    "        return 3  \n",
    "    if row['event_name'] == 'purchase':\n",
    "        return 4      "
   ]
  },
  {
   "cell_type": "code",
   "execution_count": 69,
   "id": "7f7ed359-9021-4a10-b5a3-1b2b59695980",
   "metadata": {},
   "outputs": [],
   "source": [
    "# Сгруппируем логи по событиям и группам, посчитаем уникальных пользователей\n",
    "groups = events.groupby(['event_name', 'group']).agg({'user_id': 'nunique'}).reset_index()\n",
    "\n",
    "# Объединим две таблицы и выведем результат\n",
    "groups = groups.merge(events_and_users)\n",
    "groups['order'] = groups.apply(events_order, axis=1)\n",
    "groups = groups.sort_values(by='order')"
   ]
  },
  {
   "cell_type": "markdown",
   "id": "238fbb83-4994-4ec7-b3cf-6fab47070bb6",
   "metadata": {},
   "source": [
    "Получили таблицу где к каждому событию привязано число пользователей из каждой группы, учтена последовательность событий. "
   ]
  },
  {
   "cell_type": "code",
   "execution_count": 70,
   "id": "e52142d1-dafb-40bf-987b-646b5b700988",
   "metadata": {},
   "outputs": [
    {
     "data": {
      "text/html": [
       "<div>\n",
       "<style scoped>\n",
       "    .dataframe tbody tr th:only-of-type {\n",
       "        vertical-align: middle;\n",
       "    }\n",
       "\n",
       "    .dataframe tbody tr th {\n",
       "        vertical-align: top;\n",
       "    }\n",
       "\n",
       "    .dataframe thead th {\n",
       "        text-align: right;\n",
       "    }\n",
       "</style>\n",
       "<table border=\"1\" class=\"dataframe\">\n",
       "  <thead>\n",
       "    <tr style=\"text-align: right;\">\n",
       "      <th></th>\n",
       "      <th>event_name</th>\n",
       "      <th>group</th>\n",
       "      <th>user_id</th>\n",
       "      <th>unique_users</th>\n",
       "      <th>total_users</th>\n",
       "      <th>percent</th>\n",
       "      <th>order</th>\n",
       "    </tr>\n",
       "  </thead>\n",
       "  <tbody>\n",
       "    <tr>\n",
       "      <th>0</th>\n",
       "      <td>login</td>\n",
       "      <td>A</td>\n",
       "      <td>2279</td>\n",
       "      <td>3050</td>\n",
       "      <td>3050</td>\n",
       "      <td>100.00</td>\n",
       "      <td>1</td>\n",
       "    </tr>\n",
       "    <tr>\n",
       "      <th>1</th>\n",
       "      <td>login</td>\n",
       "      <td>B</td>\n",
       "      <td>771</td>\n",
       "      <td>3050</td>\n",
       "      <td>3050</td>\n",
       "      <td>100.00</td>\n",
       "      <td>1</td>\n",
       "    </tr>\n",
       "    <tr>\n",
       "      <th>4</th>\n",
       "      <td>product_page</td>\n",
       "      <td>A</td>\n",
       "      <td>1476</td>\n",
       "      <td>1905</td>\n",
       "      <td>3050</td>\n",
       "      <td>62.46</td>\n",
       "      <td>2</td>\n",
       "    </tr>\n",
       "    <tr>\n",
       "      <th>5</th>\n",
       "      <td>product_page</td>\n",
       "      <td>B</td>\n",
       "      <td>429</td>\n",
       "      <td>1905</td>\n",
       "      <td>3050</td>\n",
       "      <td>62.46</td>\n",
       "      <td>2</td>\n",
       "    </tr>\n",
       "    <tr>\n",
       "      <th>2</th>\n",
       "      <td>product_cart</td>\n",
       "      <td>A</td>\n",
       "      <td>686</td>\n",
       "      <td>900</td>\n",
       "      <td>3050</td>\n",
       "      <td>29.51</td>\n",
       "      <td>3</td>\n",
       "    </tr>\n",
       "    <tr>\n",
       "      <th>3</th>\n",
       "      <td>product_cart</td>\n",
       "      <td>B</td>\n",
       "      <td>214</td>\n",
       "      <td>900</td>\n",
       "      <td>3050</td>\n",
       "      <td>29.51</td>\n",
       "      <td>3</td>\n",
       "    </tr>\n",
       "    <tr>\n",
       "      <th>6</th>\n",
       "      <td>purchase</td>\n",
       "      <td>A</td>\n",
       "      <td>734</td>\n",
       "      <td>953</td>\n",
       "      <td>3050</td>\n",
       "      <td>31.25</td>\n",
       "      <td>4</td>\n",
       "    </tr>\n",
       "    <tr>\n",
       "      <th>7</th>\n",
       "      <td>purchase</td>\n",
       "      <td>B</td>\n",
       "      <td>219</td>\n",
       "      <td>953</td>\n",
       "      <td>3050</td>\n",
       "      <td>31.25</td>\n",
       "      <td>4</td>\n",
       "    </tr>\n",
       "  </tbody>\n",
       "</table>\n",
       "</div>"
      ],
      "text/plain": [
       "     event_name group  user_id  unique_users  total_users  percent  order\n",
       "0         login     A     2279          3050         3050   100.00      1\n",
       "1         login     B      771          3050         3050   100.00      1\n",
       "4  product_page     A     1476          1905         3050    62.46      2\n",
       "5  product_page     B      429          1905         3050    62.46      2\n",
       "2  product_cart     A      686           900         3050    29.51      3\n",
       "3  product_cart     B      214           900         3050    29.51      3\n",
       "6      purchase     A      734           953         3050    31.25      4\n",
       "7      purchase     B      219           953         3050    31.25      4"
      ]
     },
     "execution_count": 70,
     "metadata": {},
     "output_type": "execute_result"
    }
   ],
   "source": [
    "groups"
   ]
  },
  {
   "cell_type": "markdown",
   "id": "ff94ed45-89b2-4698-b42e-2c489ca73e08",
   "metadata": {},
   "source": [
    "[В оглавление](#TOC)"
   ]
  },
  {
   "cell_type": "markdown",
   "id": "c00b5efc-586f-4ea6-a768-48ee75423edf",
   "metadata": {},
   "source": [
    "### - визуализируем продуктовую воронку"
   ]
  },
  {
   "cell_type": "markdown",
   "id": "588dcc40-acb9-4a5f-b766-ae6c70826197",
   "metadata": {},
   "source": [
    "Подготовим функцию для визуализации"
   ]
  },
  {
   "cell_type": "code",
   "execution_count": 71,
   "id": "34c9894a-9e6e-475e-9c4b-6482b01056f6",
   "metadata": {},
   "outputs": [],
   "source": [
    "def funnel_plot(data, groups_labels=None,\n",
    "                x='user_id', y='event_name',\n",
    "                title='', *args, **kwargs):\n",
    "    fig = go.Figure()\n",
    "    \n",
    "    # Если переданы маркеры групп\n",
    "    if groups_labels:\n",
    "        for group in groups_labels:\n",
    "            sample = data.query(f'group == \"{group}\"')\n",
    "            fig.add_trace(go.Funnel(\n",
    "                name=group,\n",
    "                y=sample[y],\n",
    "                x=sample[x], *args, **kwargs))\n",
    "\n",
    "    else: # Строим по всем данным\n",
    "        fig.add_trace(go.Funnel(name='Все пользователи',\n",
    "                                y=data[y],\n",
    "                                x=data[x], *args, **kwargs))\n",
    "\n",
    "    # Изменим размер, фон, добавим заголовок\n",
    "    fig.update_layout(autosize=False,\n",
    "                      width=700,\n",
    "                      height=500,\n",
    "                      paper_bgcolor='rgba(0,0,0,0)',\n",
    "                      plot_bgcolor='rgba(0,0,0,0)',\n",
    "                      title=title)\n",
    "    fig.show()"
   ]
  },
  {
   "cell_type": "markdown",
   "id": "bfb6ec91-fd7b-42a8-821e-4ad0bedfa289",
   "metadata": {},
   "source": [
    "Сначала по всем пользователям:"
   ]
  },
  {
   "cell_type": "code",
   "execution_count": 72,
   "id": "2b7ae192-a05d-4cec-a719-e3eea8b16771",
   "metadata": {},
   "outputs": [
    {
     "data": {
      "text/html": [
       "<iframe\n",
       "    scrolling=\"no\"\n",
       "    width=\"720px\"\n",
       "    height=\"520\"\n",
       "    src=\"iframe_figures/figure_72.html\"\n",
       "    frameborder=\"0\"\n",
       "    allowfullscreen\n",
       "></iframe>\n"
      ]
     },
     "metadata": {},
     "output_type": "display_data"
    }
   ],
   "source": [
    "funnel_plot(data=events_and_users, \n",
    "            groups_labels=[], \n",
    "            title='Воронка событий по всем пользователям',\n",
    "            x='unique_users')"
   ]
  },
  {
   "cell_type": "markdown",
   "id": "09c060b6-ea26-4401-866e-c3208cd94f04",
   "metadata": {},
   "source": [
    "Теперь примем во внимание группы пользователей:"
   ]
  },
  {
   "cell_type": "code",
   "execution_count": 73,
   "id": "b257dd35-4082-49a6-921d-da9979b3140e",
   "metadata": {},
   "outputs": [
    {
     "data": {
      "text/html": [
       "<iframe\n",
       "    scrolling=\"no\"\n",
       "    width=\"720px\"\n",
       "    height=\"520\"\n",
       "    src=\"iframe_figures/figure_73.html\"\n",
       "    frameborder=\"0\"\n",
       "    allowfullscreen\n",
       "></iframe>\n"
      ]
     },
     "metadata": {},
     "output_type": "display_data"
    }
   ],
   "source": [
    "funnel_plot(data=groups, \n",
    "            groups_labels=['A', 'B'], \n",
    "            title='Воронка событий по группам')"
   ]
  },
  {
   "cell_type": "markdown",
   "id": "620022f4-6d6e-4fae-8eeb-b4f1686a7e3c",
   "metadata": {},
   "source": [
    "&#9889; **Выводы:**\n",
    "\n",
    "1. С некоторой осторожностью, можно предположить, что конкурирующий тест интерфейса все таки проводился одновременно: возможно, внедрялась система оплаты минуя корзину.\n",
    "2. Воронка для обеих групп по конверсии пользователей похожи."
   ]
  },
  {
   "cell_type": "markdown",
   "id": "3b02ba31-f413-49bf-a617-5fe806938ed7",
   "metadata": {},
   "source": [
    "[В оглавление](#TOC)"
   ]
  },
  {
   "cell_type": "markdown",
   "id": "c58b02dc-e49c-4832-9303-bb0a701d765c",
   "metadata": {
    "tags": []
   },
   "source": [
    "# III. Анализ A/B-теста<a class='anchor' id='3'></a>"
   ]
  },
  {
   "cell_type": "markdown",
   "id": "00b8309a-c0b7-4808-a8cf-df87ad98008b",
   "metadata": {
    "tags": []
   },
   "source": [
    "## 1) Подготовимся к анализу<a class='anchor' id='3_1'></a>"
   ]
  },
  {
   "cell_type": "markdown",
   "id": "86fff5d2-492d-4d8c-b484-5082bc3bdf33",
   "metadata": {},
   "source": [
    "Создадим класс для статистических тестов, подготовим несколько полезных функций:"
   ]
  },
  {
   "cell_type": "code",
   "execution_count": 74,
   "id": "9e08178f-4438-4cac-a56d-e51b08fb9c0a",
   "metadata": {},
   "outputs": [],
   "source": [
    "class StatTest:\n",
    "    \"\"\"Класс для проведения статистических тестов и сборов результатов.\"\"\"\n",
    "\n",
    "    def __init__(self, data):\n",
    "        self.data = data.copy()\n",
    "        self.result = self.df_constructor()\n",
    "        self.groups_total = (self.data.groupby('group')\n",
    "                                      .agg({'user_id': 'nunique'})\n",
    "                                      .reset_index())\n",
    "        self.agg_groups = self.group_constructor()\n",
    "        self.group_a = self.agg_groups.query('group == \"A\"')\n",
    "        self.group_b = self.agg_groups.query('group == \"B\"')\n",
    "        \n",
    "    def df_constructor(self):\n",
    "        df = pd.DataFrame(columns=['Выборка',\n",
    "                                   'Нулевая гипотеза (Н0)',\n",
    "                                   'Альтернативная гипотеза (Н1)',\n",
    "                                   'alpha', 'p-value',\n",
    "                                   'p-value < alpha',\n",
    "                                   'Н0/Н1'])\n",
    "        return df\n",
    "    \n",
    "    def group_constructor(self):\n",
    "        \"\"\"Собираем аггрегированные данные по группам.\"\"\"\n",
    "        \n",
    "        # Зафикисируем порядок и исключим обучение\n",
    "        order = self.data.drop_duplicates('event_name')[['event_name']]\n",
    "\n",
    "        # Сгруппируем логи по событиям и группам, посчитаем уникальных пользователей\n",
    "        groups = self.data.groupby(['event_name', 'group']).agg({'user_id': 'nunique'}).reset_index()\n",
    "\n",
    "        for i in groups.group.unique():\n",
    "            sum_of = int(self.groups_total.query(f'group == \"{i}\"')['user_id'])\n",
    "            groups.loc[groups.group == f'{i}', 'total'] = sum_of\n",
    "\n",
    "        return groups\n",
    "        \n",
    "    def event_picker(self, event):\n",
    "        \"\"\"Выбираем группы из данных.\"\"\"\n",
    "        \n",
    "        group_a = self.group_a.query(f'event_name == \"{event}\"')\n",
    "        group_b = self.group_b.query(f'event_name == \"{event}\"')\n",
    "\n",
    "        return (group_a, group_b)\n",
    "\n",
    "    def z_test(self, samples):\n",
    "        \"\"\"Проводим двухвыборочный Z-критерий.\"\"\"\n",
    "\n",
    "        group_a = samples[0]\n",
    "        group_b = samples[1]\n",
    "\n",
    "        # Фиксируем число попыток\n",
    "        count = np.array([group_a['user_id'], group_b['user_id']])\n",
    "        \n",
    "        #  Пропорции от общего\n",
    "        nobs = np.array([group_a['total'], group_b['total']])\n",
    "            \n",
    "        # Считаем статистику      \n",
    "        _, p_value = proportions_ztest(count, nobs)\n",
    "        return p_value[0]\n",
    "    \n",
    "    def test_designer(self, params):\n",
    "        \"\"\"Проводим статистические тесты, собираем результаты.\"\"\"\n",
    "\n",
    "        # Получаем данные для теста\n",
    "        sample_name = params['sample_name']\n",
    "        alpha = params['alpha']\n",
    "        zero_hypothesis = params['zero_hypothesis']\n",
    "        alt_hypothesis = params['alt_hypothesis']\n",
    "        p_value = self.z_test(params['samples'])\n",
    "\n",
    "        pvalue_alpha_comparsion = p_value < alpha\n",
    "        hypo_check = 'Н1' if pvalue_alpha_comparsion else 'Н0'\n",
    "        row = pd.Series([sample_name, zero_hypothesis,\n",
    "                        alt_hypothesis, alpha, p_value,\n",
    "                        pvalue_alpha_comparsion, hypo_check],\n",
    "                        index=self.result.columns)\n",
    "\n",
    "        self.result = self.result.append(row, ignore_index=True)\n",
    "\n",
    "    def test_routine(self, sample_name):\n",
    "        \"\"\"Проводим множественные тесты.\"\"\"\n",
    "        for event in list(self.agg_groups.event_name.unique()):\n",
    "            if event == 'login':\n",
    "                continue\n",
    "            # Делаем выборки\n",
    "            groups_to_test = self.event_picker(event)\n",
    "            params_of_test['samples'] = [*groups_to_test]\n",
    "            # Передаем имя\n",
    "            params_of_test['sample_name'] = f'{sample_name}: {event}'\n",
    "            tests.test_designer(params_of_test)\n",
    "\n",
    "\n",
    "def report_styler(report):\n",
    "    \"\"\"Выводим таблицу с заданным форматом.\"\"\"\n",
    "    display(report.style\n",
    "                  .set_properties(**{'text-align': 'left'})\n",
    "                  .set_table_styles([{'selector': 'th',\n",
    "                                      'props': [('text-align', 'left')]}])\n",
    "                  .format({'alpha': \"{:.2f}\", 'p-value < alpha': bool}))\n"
   ]
  },
  {
   "cell_type": "markdown",
   "id": "ad66b50c-ae1d-4008-b59a-77263828ae0e",
   "metadata": {},
   "source": [
    "Инициализируем класс:"
   ]
  },
  {
   "cell_type": "code",
   "execution_count": 75,
   "id": "e6d63f04-cb1a-4ea1-84e8-8c78919656a2",
   "metadata": {},
   "outputs": [],
   "source": [
    "tests = StatTest(events)"
   ]
  },
  {
   "cell_type": "markdown",
   "id": "67fd979c-d546-4528-a1f8-90e929a0416c",
   "metadata": {},
   "source": [
    "[В оглавление](#TOC)"
   ]
  },
  {
   "cell_type": "markdown",
   "id": "143902ba-f1a4-4051-ab49-f99907907cd7",
   "metadata": {
    "tags": []
   },
   "source": [
    "## 2) Посчитаем метрики<a class='anchor' id='3_2'></a>"
   ]
  },
  {
   "cell_type": "markdown",
   "id": "519283e1-f31e-4f78-91b4-d7f01d5f1afc",
   "metadata": {},
   "source": [
    "В соответствии с техническим заданием ожидаемый эффект: за 14 дней с момента регистрации пользователи покажут улучшение каждой метрики не менее, чем на 10%:\n",
    "- конверсии в просмотр карточек товаров — событие product_page,\n",
    "- просмотры корзины — product_cart,\n",
    "- покупки — purchase.\n"
   ]
  },
  {
   "cell_type": "code",
   "execution_count": 76,
   "id": "3daf80d5-d93d-436c-853b-0341c5c015c4",
   "metadata": {},
   "outputs": [
    {
     "data": {
      "text/html": [
       "<div>\n",
       "<style scoped>\n",
       "    .dataframe tbody tr th:only-of-type {\n",
       "        vertical-align: middle;\n",
       "    }\n",
       "\n",
       "    .dataframe tbody tr th {\n",
       "        vertical-align: top;\n",
       "    }\n",
       "\n",
       "    .dataframe thead th {\n",
       "        text-align: right;\n",
       "    }\n",
       "</style>\n",
       "<table border=\"1\" class=\"dataframe\">\n",
       "  <thead>\n",
       "    <tr style=\"text-align: right;\">\n",
       "      <th></th>\n",
       "      <th>event_name</th>\n",
       "      <th>group</th>\n",
       "      <th>user_id</th>\n",
       "      <th>total</th>\n",
       "      <th>%</th>\n",
       "    </tr>\n",
       "  </thead>\n",
       "  <tbody>\n",
       "    <tr>\n",
       "      <th>0</th>\n",
       "      <td>login</td>\n",
       "      <td>A</td>\n",
       "      <td>2279</td>\n",
       "      <td>2279.0</td>\n",
       "      <td>1.000000</td>\n",
       "    </tr>\n",
       "    <tr>\n",
       "      <th>1</th>\n",
       "      <td>login</td>\n",
       "      <td>B</td>\n",
       "      <td>771</td>\n",
       "      <td>771.0</td>\n",
       "      <td>1.000000</td>\n",
       "    </tr>\n",
       "    <tr>\n",
       "      <th>2</th>\n",
       "      <td>product_cart</td>\n",
       "      <td>A</td>\n",
       "      <td>686</td>\n",
       "      <td>2279.0</td>\n",
       "      <td>0.301009</td>\n",
       "    </tr>\n",
       "    <tr>\n",
       "      <th>3</th>\n",
       "      <td>product_cart</td>\n",
       "      <td>B</td>\n",
       "      <td>214</td>\n",
       "      <td>771.0</td>\n",
       "      <td>0.277562</td>\n",
       "    </tr>\n",
       "    <tr>\n",
       "      <th>4</th>\n",
       "      <td>product_page</td>\n",
       "      <td>A</td>\n",
       "      <td>1476</td>\n",
       "      <td>2279.0</td>\n",
       "      <td>0.647652</td>\n",
       "    </tr>\n",
       "    <tr>\n",
       "      <th>5</th>\n",
       "      <td>product_page</td>\n",
       "      <td>B</td>\n",
       "      <td>429</td>\n",
       "      <td>771.0</td>\n",
       "      <td>0.556420</td>\n",
       "    </tr>\n",
       "    <tr>\n",
       "      <th>6</th>\n",
       "      <td>purchase</td>\n",
       "      <td>A</td>\n",
       "      <td>734</td>\n",
       "      <td>2279.0</td>\n",
       "      <td>0.322071</td>\n",
       "    </tr>\n",
       "    <tr>\n",
       "      <th>7</th>\n",
       "      <td>purchase</td>\n",
       "      <td>B</td>\n",
       "      <td>219</td>\n",
       "      <td>771.0</td>\n",
       "      <td>0.284047</td>\n",
       "    </tr>\n",
       "  </tbody>\n",
       "</table>\n",
       "</div>"
      ],
      "text/plain": [
       "     event_name group  user_id   total         %\n",
       "0         login     A     2279  2279.0  1.000000\n",
       "1         login     B      771   771.0  1.000000\n",
       "2  product_cart     A      686  2279.0  0.301009\n",
       "3  product_cart     B      214   771.0  0.277562\n",
       "4  product_page     A     1476  2279.0  0.647652\n",
       "5  product_page     B      429   771.0  0.556420\n",
       "6      purchase     A      734  2279.0  0.322071\n",
       "7      purchase     B      219   771.0  0.284047"
      ]
     },
     "execution_count": 76,
     "metadata": {},
     "output_type": "execute_result"
    }
   ],
   "source": [
    "change = tests.agg_groups.copy()\n",
    "change['%'] =  change['user_id'] / change['total'] \n",
    "change"
   ]
  },
  {
   "cell_type": "markdown",
   "id": "6e8032ce-548a-4bf7-b57f-677fc7cc6d86",
   "metadata": {},
   "source": [
    "&#9889; **Выводы**\n",
    "\n",
    "Улучшение в предполагаемые 10% не усматривается, усматривается ухудшение метрик:\n",
    "- в шаг корзины снижение в группе В на 2 процентных пункта, относительное изменение -8%.\n",
    "- в шаге товара - снижение в группе В на 9 процентых пунтков, относительное изменение -16%.\n",
    "- в шаге покупки - снижение в группе В на 4 процентых пунтка, относительное изменение -14%."
   ]
  },
  {
   "cell_type": "markdown",
   "id": "12e48c6b-a05e-4270-ba59-b3cb2a7ae77f",
   "metadata": {},
   "source": [
    "[В оглавление](#TOC)"
   ]
  },
  {
   "cell_type": "markdown",
   "id": "0e8391f3-4e21-40d7-ab30-a2cb212ebf0b",
   "metadata": {
    "tags": []
   },
   "source": [
    "## 3) Проведем статистические тесты<a class=\"anchor\" id=\"3_3\"></a>"
   ]
  },
  {
   "cell_type": "markdown",
   "id": "f054396b-f307-4046-898a-4f99125da22f",
   "metadata": {},
   "source": [
    "### - проведем статистические тесты в отношении группы А и В"
   ]
  },
  {
   "cell_type": "markdown",
   "id": "553ac2f5-a011-4151-8344-ab1645c0febd",
   "metadata": {},
   "source": [
    "Проверим гипотезу о том, что доли пользователей в группе А и группе В одинаковы на каждом из шагов. Примем Z-тест для проверки гипотезы о равенстве долей в группах.\n",
    "\n",
    "1. Нулевую гипотезу, которую проверяет тест, сформулируем так: \"Между долями пользователей в группах нет статистически значимой разницы\",\n",
    "2. Альтернативную гипотезу, соответственно, сформулируем так: \"Между долями пользователей в группах есть статистически значимая разница\",\n",
    "3. Примем уровень значимости в 5% с поправкой Бонферрони - разделим alpha на число проверяемых гипотез - 3.\n",
    "\n",
    "Подготовим параметры для теста:"
   ]
  },
  {
   "cell_type": "code",
   "execution_count": 77,
   "id": "1ff4b0da-c896-4bb9-ae73-a3cbfdacd254",
   "metadata": {},
   "outputs": [],
   "source": [
    "sample_name = 'A и В'\n",
    "params_of_test = {'sample_name': sample_name,\n",
    "                  'alpha': 0.05 / 3,\n",
    "                  'zero_hypothesis': 'Между долями пользователей нет различий',\n",
    "                  'alt_hypothesis': 'Между долями пользователей есть различия',\n",
    "                  'test': 'z_test'}"
   ]
  },
  {
   "cell_type": "markdown",
   "id": "4a416f90-e959-41ee-b86f-e18f8d826333",
   "metadata": {},
   "source": [
    "Проведем тест и выведем результат:"
   ]
  },
  {
   "cell_type": "code",
   "execution_count": 78,
   "id": "738f75ba-c375-4819-848e-6aeb6c193a0c",
   "metadata": {},
   "outputs": [],
   "source": [
    "tests.test_routine(sample_name=sample_name)"
   ]
  },
  {
   "cell_type": "markdown",
   "id": "2fb5e903-adf0-4937-ac7b-ee97568c9a22",
   "metadata": {},
   "source": [
    "Выведем результат:"
   ]
  },
  {
   "cell_type": "code",
   "execution_count": 79,
   "id": "f204f5db-cd4f-43eb-b17d-8287cc454b45",
   "metadata": {},
   "outputs": [
    {
     "data": {
      "text/html": [
       "<style  type=\"text/css\" >\n",
       "    #T_381aa_ th {\n",
       "          text-align: left;\n",
       "    }#T_381aa_row0_col0,#T_381aa_row0_col1,#T_381aa_row0_col2,#T_381aa_row0_col3,#T_381aa_row0_col4,#T_381aa_row0_col5,#T_381aa_row0_col6,#T_381aa_row1_col0,#T_381aa_row1_col1,#T_381aa_row1_col2,#T_381aa_row1_col3,#T_381aa_row1_col4,#T_381aa_row1_col5,#T_381aa_row1_col6,#T_381aa_row2_col0,#T_381aa_row2_col1,#T_381aa_row2_col2,#T_381aa_row2_col3,#T_381aa_row2_col4,#T_381aa_row2_col5,#T_381aa_row2_col6{\n",
       "            text-align:  left;\n",
       "        }</style><table id=\"T_381aa_\" ><thead>    <tr>        <th class=\"blank level0\" ></th>        <th class=\"col_heading level0 col0\" >Выборка</th>        <th class=\"col_heading level0 col1\" >Нулевая гипотеза (Н0)</th>        <th class=\"col_heading level0 col2\" >Альтернативная гипотеза (Н1)</th>        <th class=\"col_heading level0 col3\" >alpha</th>        <th class=\"col_heading level0 col4\" >p-value</th>        <th class=\"col_heading level0 col5\" >p-value < alpha</th>        <th class=\"col_heading level0 col6\" >Н0/Н1</th>    </tr></thead><tbody>\n",
       "                <tr>\n",
       "                        <th id=\"T_381aa_level0_row0\" class=\"row_heading level0 row0\" >0</th>\n",
       "                        <td id=\"T_381aa_row0_col0\" class=\"data row0 col0\" >A и В: product_cart</td>\n",
       "                        <td id=\"T_381aa_row0_col1\" class=\"data row0 col1\" >Между долями пользователей нет различий</td>\n",
       "                        <td id=\"T_381aa_row0_col2\" class=\"data row0 col2\" >Между долями пользователей есть различия</td>\n",
       "                        <td id=\"T_381aa_row0_col3\" class=\"data row0 col3\" >0.02</td>\n",
       "                        <td id=\"T_381aa_row0_col4\" class=\"data row0 col4\" >0.217211</td>\n",
       "                        <td id=\"T_381aa_row0_col5\" class=\"data row0 col5\" >False</td>\n",
       "                        <td id=\"T_381aa_row0_col6\" class=\"data row0 col6\" >Н0</td>\n",
       "            </tr>\n",
       "            <tr>\n",
       "                        <th id=\"T_381aa_level0_row1\" class=\"row_heading level0 row1\" >1</th>\n",
       "                        <td id=\"T_381aa_row1_col0\" class=\"data row1 col0\" >A и В: product_page</td>\n",
       "                        <td id=\"T_381aa_row1_col1\" class=\"data row1 col1\" >Между долями пользователей нет различий</td>\n",
       "                        <td id=\"T_381aa_row1_col2\" class=\"data row1 col2\" >Между долями пользователей есть различия</td>\n",
       "                        <td id=\"T_381aa_row1_col3\" class=\"data row1 col3\" >0.02</td>\n",
       "                        <td id=\"T_381aa_row1_col4\" class=\"data row1 col4\" >0.000006</td>\n",
       "                        <td id=\"T_381aa_row1_col5\" class=\"data row1 col5\" >True</td>\n",
       "                        <td id=\"T_381aa_row1_col6\" class=\"data row1 col6\" >Н1</td>\n",
       "            </tr>\n",
       "            <tr>\n",
       "                        <th id=\"T_381aa_level0_row2\" class=\"row_heading level0 row2\" >2</th>\n",
       "                        <td id=\"T_381aa_row2_col0\" class=\"data row2 col0\" >A и В: purchase</td>\n",
       "                        <td id=\"T_381aa_row2_col1\" class=\"data row2 col1\" >Между долями пользователей нет различий</td>\n",
       "                        <td id=\"T_381aa_row2_col2\" class=\"data row2 col2\" >Между долями пользователей есть различия</td>\n",
       "                        <td id=\"T_381aa_row2_col3\" class=\"data row2 col3\" >0.02</td>\n",
       "                        <td id=\"T_381aa_row2_col4\" class=\"data row2 col4\" >0.048943</td>\n",
       "                        <td id=\"T_381aa_row2_col5\" class=\"data row2 col5\" >False</td>\n",
       "                        <td id=\"T_381aa_row2_col6\" class=\"data row2 col6\" >Н0</td>\n",
       "            </tr>\n",
       "    </tbody></table>"
      ],
      "text/plain": [
       "<pandas.io.formats.style.Styler at 0x7f537f8e9d30>"
      ]
     },
     "metadata": {},
     "output_type": "display_data"
    }
   ],
   "source": [
    "report_styler(tests.result)"
   ]
  },
  {
   "cell_type": "markdown",
   "id": "ec4b5f8a-288a-4547-9534-8588ed507771",
   "metadata": {},
   "source": [
    "&#9889; **Выводы**\n",
    "\n",
    "\n",
    "1. В отношении различий долей между группами А и В на шаг product_cart, исходя из представленных данных, на уровне значимости 5% - нет основания отвергнуть нулевую гипотезу в пользу альтернативы: между долями пользователей групп А и В нет статистически значимых различий.\n",
    "2. В отношении различий долей между группами А и В на шаг product_page, исходя из представленных данных, на уровне значимости 5% - есть основания отвергнуть нулевую гипотезу в пользу альтернативы: между долями пользователей групп А и В есть статистически значимые различия.\n",
    "3. В отношении различий долей между группами А и В на шаг purchase, исходя из представленных данных, на уровне значимости 5% - нет основания отвергнуть нулевую гипотезу в пользу альтернативы: между долями пользователей групп А и В нет статистически значимых различий."
   ]
  },
  {
   "cell_type": "markdown",
   "id": "6cb983b1-c2c2-4c9f-a87f-dc8ef0d778a6",
   "metadata": {},
   "source": [
    "[В оглавление](#TOC)"
   ]
  },
  {
   "cell_type": "markdown",
   "id": "44510e64-f39b-410a-89c3-57d63f665c5d",
   "metadata": {
    "tags": []
   },
   "source": [
    "# Выводы<a class='anchor' id='conclusions'></a>"
   ]
  },
  {
   "cell_type": "markdown",
   "id": "78a04b80-fc50-4dd2-9a74-51c067fb91ca",
   "metadata": {},
   "source": [
    "1. В представленных данных о событиях 440 317 наблюдений о 58703 уникальных пользователей за период от 07.12.2020 до 30.12.2020 года. \n",
    "2. Исходя из представленных данных, 18 268 из 58 703 (31%) уникальных пользователей принимало участие в А/В-тестировании: рекомендательной системы и нового интерфейса. \n",
    "3. Представленные данные не соответствуют техническому заданию и правилам проведения А/В-тестирования:\n",
    "    - предполагаемая дата остановки теста — 04.01.2021 года, однако данные представлены до 30.12.2020 года,\n",
    "    - аудитория теста — новые пользователи из Европы, однако в аудиторию теста попали 350 человек из других регионов,\n",
    "    - из 18 268 участников 1602 участника приняло участие в двух тестах (с высокой степенью вероятности, проводившегося одновременно),\n",
    "    - предполагаемая дата остановки набора новых пользователей — 21.12.2020 года не соответствует  ожидаемому периоду улучшения метрик — 14 дням,\n",
    "    - в период проведения тестирования проходила маркетинговая акция — Рождественское и Новогоднее промо, чего лучше избегать, чтобы не получить смешенные результаты.\n",
    "    - для проведения теста с рекомендательной системы выбран неоптимальный предновогодний период — поведение пользователей в целом смещено относительно обычного среднего поведения, характерен повышенный спрос почти на все виды товаров.\n",
    "    - после очистки данных — осталось 3050 пользователей из изначальных 6701 (45%), что не соответствует ожидаемому 6000 участников.\n",
    "4. Вместо ожидаемого улучшения метрик в 10%, усматривается ухудшение метрик, причем на шаге product_page, на уровне значимости 5%, есть статистически значимая разница между долями пользователей.\n",
    "5. Представляется, что нет возможности продолжить тест, поскольку, во-первых, данные о тесте уже были проанализированы, рекомендовано остановить тест, признать его неуспешным, перейти к проверке следующей гипотезы."
   ]
  },
  {
   "cell_type": "markdown",
   "id": "d8d422c1-dfea-4427-8cdb-295dbfd6ae45",
   "metadata": {},
   "source": [
    "[В оглавление](#TOC)"
   ]
  }
 ],
 "metadata": {
  "ExecuteTimeLog": [
   {
    "duration": 1550,
    "start_time": "2022-07-11T11:34:00.950Z"
   },
   {
    "duration": 5,
    "start_time": "2022-07-11T11:34:05.861Z"
   },
   {
    "duration": 144,
    "start_time": "2022-07-11T11:34:10.979Z"
   },
   {
    "duration": 53,
    "start_time": "2022-07-11T11:36:09.054Z"
   },
   {
    "duration": 5,
    "start_time": "2022-07-11T11:36:14.592Z"
   },
   {
    "duration": 1072,
    "start_time": "2022-07-11T11:36:15.614Z"
   },
   {
    "duration": 5,
    "start_time": "2022-07-11T11:37:29.967Z"
   },
   {
    "duration": 56,
    "start_time": "2022-07-11T11:37:30.452Z"
   },
   {
    "duration": 5,
    "start_time": "2022-07-11T11:37:43.069Z"
   },
   {
    "duration": 655,
    "start_time": "2022-07-11T11:37:43.549Z"
   },
   {
    "duration": 17,
    "start_time": "2022-07-11T11:38:02.113Z"
   },
   {
    "duration": 5,
    "start_time": "2022-07-11T11:38:44.892Z"
   },
   {
    "duration": 39,
    "start_time": "2022-07-11T11:38:45.482Z"
   },
   {
    "duration": 23,
    "start_time": "2022-07-11T11:40:00.929Z"
   },
   {
    "duration": 39,
    "start_time": "2022-07-11T11:40:01.645Z"
   },
   {
    "duration": 5,
    "start_time": "2022-07-11T11:40:44.394Z"
   },
   {
    "duration": 696,
    "start_time": "2022-07-11T11:40:44.656Z"
   },
   {
    "duration": 10,
    "start_time": "2022-07-11T11:40:46.987Z"
   },
   {
    "duration": 5,
    "start_time": "2022-07-11T11:43:57.976Z"
   },
   {
    "duration": 669,
    "start_time": "2022-07-11T11:43:58.095Z"
   },
   {
    "duration": 6,
    "start_time": "2022-07-11T11:43:58.766Z"
   },
   {
    "duration": 6,
    "start_time": "2022-07-11T11:44:35.472Z"
   },
   {
    "duration": 621,
    "start_time": "2022-07-11T11:44:35.752Z"
   },
   {
    "duration": 6,
    "start_time": "2022-07-11T11:44:36.375Z"
   },
   {
    "duration": 6,
    "start_time": "2022-07-11T11:47:21.573Z"
   },
   {
    "duration": 5,
    "start_time": "2022-07-11T11:47:27.573Z"
   },
   {
    "duration": 622,
    "start_time": "2022-07-11T11:47:27.980Z"
   },
   {
    "duration": 0,
    "start_time": "2022-07-11T11:47:28.604Z"
   },
   {
    "duration": 14,
    "start_time": "2022-07-11T18:42:33.881Z"
   },
   {
    "duration": 41,
    "start_time": "2022-07-11T18:42:34.443Z"
   },
   {
    "duration": 1334,
    "start_time": "2022-07-11T18:42:37.638Z"
   },
   {
    "duration": 6,
    "start_time": "2022-07-11T18:42:38.974Z"
   },
   {
    "duration": 999,
    "start_time": "2022-07-11T18:42:39.545Z"
   },
   {
    "duration": 8,
    "start_time": "2022-07-11T18:42:42.170Z"
   },
   {
    "duration": 6,
    "start_time": "2022-07-11T18:44:25.365Z"
   },
   {
    "duration": 658,
    "start_time": "2022-07-11T18:44:25.813Z"
   },
   {
    "duration": 5,
    "start_time": "2022-07-11T18:44:40.691Z"
   },
   {
    "duration": 670,
    "start_time": "2022-07-11T18:44:40.698Z"
   },
   {
    "duration": 9,
    "start_time": "2022-07-11T18:44:42.649Z"
   },
   {
    "duration": 7,
    "start_time": "2022-07-11T18:44:45.515Z"
   },
   {
    "duration": 3,
    "start_time": "2022-07-11T18:44:45.621Z"
   },
   {
    "duration": 3,
    "start_time": "2022-07-11T18:44:45.676Z"
   },
   {
    "duration": 207,
    "start_time": "2022-07-11T18:44:45.847Z"
   },
   {
    "duration": 60,
    "start_time": "2022-07-11T18:44:47.417Z"
   },
   {
    "duration": 102,
    "start_time": "2022-07-11T18:44:47.973Z"
   },
   {
    "duration": 1180,
    "start_time": "2022-07-11T18:44:55.280Z"
   },
   {
    "duration": 6,
    "start_time": "2022-07-11T18:44:56.461Z"
   },
   {
    "duration": 649,
    "start_time": "2022-07-11T18:44:56.469Z"
   },
   {
    "duration": 9,
    "start_time": "2022-07-11T18:44:57.120Z"
   },
   {
    "duration": 12,
    "start_time": "2022-07-11T18:44:57.130Z"
   },
   {
    "duration": 27,
    "start_time": "2022-07-11T18:44:57.144Z"
   },
   {
    "duration": 17,
    "start_time": "2022-07-11T18:44:57.173Z"
   },
   {
    "duration": 221,
    "start_time": "2022-07-11T18:44:57.192Z"
   },
   {
    "duration": 46,
    "start_time": "2022-07-11T18:44:57.415Z"
   },
   {
    "duration": 108,
    "start_time": "2022-07-11T18:44:57.463Z"
   },
   {
    "duration": 296,
    "start_time": "2022-07-11T18:44:57.573Z"
   },
   {
    "duration": 58,
    "start_time": "2022-07-11T18:44:57.871Z"
   },
   {
    "duration": 6,
    "start_time": "2022-07-11T18:44:57.930Z"
   },
   {
    "duration": 18,
    "start_time": "2022-07-11T18:44:57.938Z"
   },
   {
    "duration": 18,
    "start_time": "2022-07-11T18:44:57.957Z"
   },
   {
    "duration": 63,
    "start_time": "2022-07-11T18:44:57.977Z"
   },
   {
    "duration": 12,
    "start_time": "2022-07-11T18:44:58.042Z"
   },
   {
    "duration": 24,
    "start_time": "2022-07-11T18:44:58.056Z"
   },
   {
    "duration": 12,
    "start_time": "2022-07-11T18:44:58.082Z"
   },
   {
    "duration": 43,
    "start_time": "2022-07-11T18:44:58.096Z"
   },
   {
    "duration": 20,
    "start_time": "2022-07-11T18:44:58.141Z"
   },
   {
    "duration": 5,
    "start_time": "2022-07-11T18:44:58.162Z"
   },
   {
    "duration": 22,
    "start_time": "2022-07-11T18:44:58.169Z"
   },
   {
    "duration": 54,
    "start_time": "2022-07-11T18:44:58.193Z"
   },
   {
    "duration": 14,
    "start_time": "2022-07-11T18:44:58.249Z"
   },
   {
    "duration": 18,
    "start_time": "2022-07-11T18:44:58.265Z"
   },
   {
    "duration": 9,
    "start_time": "2022-07-11T18:44:58.285Z"
   },
   {
    "duration": 35,
    "start_time": "2022-07-11T18:44:58.298Z"
   },
   {
    "duration": 17,
    "start_time": "2022-07-11T18:44:58.334Z"
   },
   {
    "duration": 25,
    "start_time": "2022-07-11T18:44:58.352Z"
   },
   {
    "duration": 62,
    "start_time": "2022-07-11T18:44:58.378Z"
   },
   {
    "duration": 70,
    "start_time": "2022-07-11T18:44:58.442Z"
   },
   {
    "duration": 5,
    "start_time": "2022-07-11T18:44:58.514Z"
   },
   {
    "duration": 37,
    "start_time": "2022-07-11T18:44:58.521Z"
   },
   {
    "duration": 10,
    "start_time": "2022-07-11T18:44:58.560Z"
   },
   {
    "duration": 56,
    "start_time": "2022-07-11T18:44:58.571Z"
   },
   {
    "duration": 42,
    "start_time": "2022-07-11T18:44:58.629Z"
   },
   {
    "duration": 11,
    "start_time": "2022-07-11T18:44:58.673Z"
   },
   {
    "duration": 26,
    "start_time": "2022-07-11T18:44:58.685Z"
   },
   {
    "duration": 27,
    "start_time": "2022-07-11T18:44:58.713Z"
   },
   {
    "duration": 44,
    "start_time": "2022-07-11T18:44:58.741Z"
   },
   {
    "duration": 8,
    "start_time": "2022-07-11T18:44:58.786Z"
   },
   {
    "duration": 38,
    "start_time": "2022-07-11T18:44:58.795Z"
   },
   {
    "duration": 28,
    "start_time": "2022-07-11T18:44:58.835Z"
   },
   {
    "duration": 8,
    "start_time": "2022-07-11T18:44:58.864Z"
   },
   {
    "duration": 391,
    "start_time": "2022-07-11T18:44:58.874Z"
   },
   {
    "duration": 13,
    "start_time": "2022-07-11T18:44:59.267Z"
   },
   {
    "duration": 19,
    "start_time": "2022-07-11T18:44:59.282Z"
   },
   {
    "duration": 18,
    "start_time": "2022-07-11T18:44:59.312Z"
   },
   {
    "duration": 34,
    "start_time": "2022-07-11T18:44:59.332Z"
   },
   {
    "duration": 11,
    "start_time": "2022-07-11T18:44:59.368Z"
   },
   {
    "duration": 9,
    "start_time": "2022-07-11T18:44:59.380Z"
   },
   {
    "duration": 34,
    "start_time": "2022-07-11T18:44:59.390Z"
   },
   {
    "duration": 305,
    "start_time": "2022-07-11T18:44:59.425Z"
   },
   {
    "duration": 243,
    "start_time": "2022-07-11T18:44:59.732Z"
   },
   {
    "duration": 13,
    "start_time": "2022-07-11T18:44:59.977Z"
   },
   {
    "duration": 73,
    "start_time": "2022-07-11T18:44:59.992Z"
   },
   {
    "duration": 11,
    "start_time": "2022-07-11T18:45:00.067Z"
   },
   {
    "duration": 14,
    "start_time": "2022-07-11T18:45:00.079Z"
   },
   {
    "duration": 30,
    "start_time": "2022-07-11T18:45:00.095Z"
   },
   {
    "duration": 47,
    "start_time": "2022-07-11T18:45:00.126Z"
   },
   {
    "duration": 1269,
    "start_time": "2022-07-11T18:45:35.022Z"
   },
   {
    "duration": 20,
    "start_time": "2022-07-11T18:45:36.294Z"
   },
   {
    "duration": 667,
    "start_time": "2022-07-11T18:45:36.315Z"
   },
   {
    "duration": 27,
    "start_time": "2022-07-11T18:45:36.984Z"
   },
   {
    "duration": 7,
    "start_time": "2022-07-11T18:45:37.013Z"
   },
   {
    "duration": 16,
    "start_time": "2022-07-11T18:45:37.022Z"
   },
   {
    "duration": 12,
    "start_time": "2022-07-11T18:45:37.040Z"
   },
   {
    "duration": 223,
    "start_time": "2022-07-11T18:45:37.053Z"
   },
   {
    "duration": 65,
    "start_time": "2022-07-11T18:45:37.278Z"
   },
   {
    "duration": 118,
    "start_time": "2022-07-11T18:45:37.345Z"
   },
   {
    "duration": 308,
    "start_time": "2022-07-11T18:45:37.465Z"
   },
   {
    "duration": 64,
    "start_time": "2022-07-11T18:45:37.775Z"
   },
   {
    "duration": 4,
    "start_time": "2022-07-11T18:45:37.841Z"
   },
   {
    "duration": 6,
    "start_time": "2022-07-11T18:45:37.847Z"
   },
   {
    "duration": 5,
    "start_time": "2022-07-11T18:45:37.855Z"
   },
   {
    "duration": 55,
    "start_time": "2022-07-11T18:45:37.861Z"
   },
   {
    "duration": 12,
    "start_time": "2022-07-11T18:45:37.917Z"
   },
   {
    "duration": 12,
    "start_time": "2022-07-11T18:45:37.931Z"
   },
   {
    "duration": 19,
    "start_time": "2022-07-11T18:45:37.944Z"
   },
   {
    "duration": 17,
    "start_time": "2022-07-11T18:45:37.965Z"
   },
   {
    "duration": 25,
    "start_time": "2022-07-11T18:45:38.000Z"
   },
   {
    "duration": 9,
    "start_time": "2022-07-11T18:45:38.026Z"
   },
   {
    "duration": 10,
    "start_time": "2022-07-11T18:45:38.037Z"
   },
   {
    "duration": 16,
    "start_time": "2022-07-11T18:45:38.048Z"
   },
   {
    "duration": 9,
    "start_time": "2022-07-11T18:45:38.066Z"
   },
   {
    "duration": 40,
    "start_time": "2022-07-11T18:45:38.077Z"
   },
   {
    "duration": 5,
    "start_time": "2022-07-11T18:45:38.118Z"
   },
   {
    "duration": 18,
    "start_time": "2022-07-11T18:45:38.128Z"
   },
   {
    "duration": 3,
    "start_time": "2022-07-11T18:45:38.148Z"
   },
   {
    "duration": 28,
    "start_time": "2022-07-11T18:45:38.153Z"
   },
   {
    "duration": 62,
    "start_time": "2022-07-11T18:45:38.182Z"
   },
   {
    "duration": 66,
    "start_time": "2022-07-11T18:45:38.246Z"
   },
   {
    "duration": 6,
    "start_time": "2022-07-11T18:45:38.313Z"
   },
   {
    "duration": 7,
    "start_time": "2022-07-11T18:45:38.320Z"
   },
   {
    "duration": 8,
    "start_time": "2022-07-11T18:45:38.328Z"
   },
   {
    "duration": 17,
    "start_time": "2022-07-11T18:45:38.338Z"
   },
   {
    "duration": 37,
    "start_time": "2022-07-11T18:45:38.357Z"
   },
   {
    "duration": 17,
    "start_time": "2022-07-11T18:45:38.400Z"
   },
   {
    "duration": 18,
    "start_time": "2022-07-11T18:45:38.418Z"
   },
   {
    "duration": 15,
    "start_time": "2022-07-11T18:45:38.438Z"
   },
   {
    "duration": 20,
    "start_time": "2022-07-11T18:45:38.454Z"
   },
   {
    "duration": 7,
    "start_time": "2022-07-11T18:45:38.475Z"
   },
   {
    "duration": 19,
    "start_time": "2022-07-11T18:45:38.500Z"
   },
   {
    "duration": 6,
    "start_time": "2022-07-11T18:45:38.521Z"
   },
   {
    "duration": 13,
    "start_time": "2022-07-11T18:45:38.529Z"
   },
   {
    "duration": 423,
    "start_time": "2022-07-11T18:45:38.543Z"
   },
   {
    "duration": 14,
    "start_time": "2022-07-11T18:45:38.968Z"
   },
   {
    "duration": 18,
    "start_time": "2022-07-11T18:45:38.983Z"
   },
   {
    "duration": 16,
    "start_time": "2022-07-11T18:45:39.002Z"
   },
   {
    "duration": 14,
    "start_time": "2022-07-11T18:45:39.019Z"
   },
   {
    "duration": 11,
    "start_time": "2022-07-11T18:45:39.034Z"
   },
   {
    "duration": 7,
    "start_time": "2022-07-11T18:45:39.046Z"
   },
   {
    "duration": 12,
    "start_time": "2022-07-11T18:45:39.054Z"
   },
   {
    "duration": 205,
    "start_time": "2022-07-11T18:45:39.068Z"
   },
   {
    "duration": 189,
    "start_time": "2022-07-11T18:45:39.275Z"
   },
   {
    "duration": 13,
    "start_time": "2022-07-11T18:45:39.466Z"
   },
   {
    "duration": 37,
    "start_time": "2022-07-11T18:45:39.481Z"
   },
   {
    "duration": 17,
    "start_time": "2022-07-11T18:45:39.519Z"
   },
   {
    "duration": 20,
    "start_time": "2022-07-11T18:45:39.538Z"
   },
   {
    "duration": 30,
    "start_time": "2022-07-11T18:45:39.559Z"
   },
   {
    "duration": 67,
    "start_time": "2022-07-11T18:45:39.590Z"
   },
   {
    "duration": 1362,
    "start_time": "2022-07-12T06:14:53.956Z"
   },
   {
    "duration": 6,
    "start_time": "2022-07-12T06:14:55.321Z"
   },
   {
    "duration": 806,
    "start_time": "2022-07-12T06:14:55.328Z"
   },
   {
    "duration": 12,
    "start_time": "2022-07-12T06:14:56.136Z"
   },
   {
    "duration": 17,
    "start_time": "2022-07-12T06:14:56.150Z"
   },
   {
    "duration": 11,
    "start_time": "2022-07-12T06:14:56.169Z"
   },
   {
    "duration": 24,
    "start_time": "2022-07-12T06:14:56.181Z"
   },
   {
    "duration": 230,
    "start_time": "2022-07-12T06:14:56.207Z"
   },
   {
    "duration": 48,
    "start_time": "2022-07-12T06:14:56.439Z"
   },
   {
    "duration": 120,
    "start_time": "2022-07-12T06:14:56.490Z"
   },
   {
    "duration": 310,
    "start_time": "2022-07-12T06:14:56.621Z"
   },
   {
    "duration": 42,
    "start_time": "2022-07-12T06:14:56.932Z"
   },
   {
    "duration": 4,
    "start_time": "2022-07-12T06:14:56.976Z"
   },
   {
    "duration": 5,
    "start_time": "2022-07-12T06:14:56.982Z"
   },
   {
    "duration": 2,
    "start_time": "2022-07-12T06:14:57.023Z"
   },
   {
    "duration": 35,
    "start_time": "2022-07-12T06:14:57.027Z"
   },
   {
    "duration": 12,
    "start_time": "2022-07-12T06:14:57.064Z"
   },
   {
    "duration": 15,
    "start_time": "2022-07-12T06:14:57.077Z"
   },
   {
    "duration": 33,
    "start_time": "2022-07-12T06:14:57.093Z"
   },
   {
    "duration": 28,
    "start_time": "2022-07-12T06:14:57.128Z"
   },
   {
    "duration": 20,
    "start_time": "2022-07-12T06:14:57.158Z"
   },
   {
    "duration": 4,
    "start_time": "2022-07-12T06:14:57.180Z"
   },
   {
    "duration": 10,
    "start_time": "2022-07-12T06:14:57.185Z"
   },
   {
    "duration": 34,
    "start_time": "2022-07-12T06:14:57.197Z"
   },
   {
    "duration": 17,
    "start_time": "2022-07-12T06:14:57.232Z"
   },
   {
    "duration": 10,
    "start_time": "2022-07-12T06:14:57.250Z"
   },
   {
    "duration": 14,
    "start_time": "2022-07-12T06:14:57.261Z"
   },
   {
    "duration": 20,
    "start_time": "2022-07-12T06:14:57.278Z"
   },
   {
    "duration": 8,
    "start_time": "2022-07-12T06:14:57.299Z"
   },
   {
    "duration": 27,
    "start_time": "2022-07-12T06:14:57.309Z"
   },
   {
    "duration": 44,
    "start_time": "2022-07-12T06:14:57.338Z"
   },
   {
    "duration": 69,
    "start_time": "2022-07-12T06:14:57.384Z"
   },
   {
    "duration": 5,
    "start_time": "2022-07-12T06:14:57.455Z"
   },
   {
    "duration": 13,
    "start_time": "2022-07-12T06:14:57.461Z"
   },
   {
    "duration": 7,
    "start_time": "2022-07-12T06:14:57.475Z"
   },
   {
    "duration": 16,
    "start_time": "2022-07-12T06:14:57.483Z"
   },
   {
    "duration": 54,
    "start_time": "2022-07-12T06:14:57.501Z"
   },
   {
    "duration": 11,
    "start_time": "2022-07-12T06:14:57.557Z"
   },
   {
    "duration": 19,
    "start_time": "2022-07-12T06:14:57.570Z"
   },
   {
    "duration": 32,
    "start_time": "2022-07-12T06:14:57.591Z"
   },
   {
    "duration": 23,
    "start_time": "2022-07-12T06:14:57.625Z"
   },
   {
    "duration": 9,
    "start_time": "2022-07-12T06:14:57.650Z"
   },
   {
    "duration": 21,
    "start_time": "2022-07-12T06:14:57.660Z"
   },
   {
    "duration": 19,
    "start_time": "2022-07-12T06:14:57.683Z"
   },
   {
    "duration": 13,
    "start_time": "2022-07-12T06:14:57.703Z"
   },
   {
    "duration": 406,
    "start_time": "2022-07-12T06:14:57.718Z"
   },
   {
    "duration": 13,
    "start_time": "2022-07-12T06:14:58.126Z"
   },
   {
    "duration": 18,
    "start_time": "2022-07-12T06:14:58.140Z"
   },
   {
    "duration": 17,
    "start_time": "2022-07-12T06:14:58.160Z"
   },
   {
    "duration": 12,
    "start_time": "2022-07-12T06:14:58.178Z"
   },
   {
    "duration": 8,
    "start_time": "2022-07-12T06:14:58.191Z"
   },
   {
    "duration": 24,
    "start_time": "2022-07-12T06:14:58.200Z"
   },
   {
    "duration": 18,
    "start_time": "2022-07-12T06:14:58.226Z"
   },
   {
    "duration": 408,
    "start_time": "2022-07-12T06:14:58.245Z"
   },
   {
    "duration": 328,
    "start_time": "2022-07-12T06:14:58.654Z"
   },
   {
    "duration": 16,
    "start_time": "2022-07-12T06:14:58.983Z"
   },
   {
    "duration": 43,
    "start_time": "2022-07-12T06:14:59.001Z"
   },
   {
    "duration": 9,
    "start_time": "2022-07-12T06:14:59.046Z"
   },
   {
    "duration": 7,
    "start_time": "2022-07-12T06:14:59.057Z"
   },
   {
    "duration": 30,
    "start_time": "2022-07-12T06:14:59.065Z"
   },
   {
    "duration": 60,
    "start_time": "2022-07-12T06:14:59.097Z"
   },
   {
    "duration": 4,
    "start_time": "2022-07-12T06:57:28.914Z"
   },
   {
    "duration": 4,
    "start_time": "2022-07-12T06:58:35.791Z"
   },
   {
    "duration": 5,
    "start_time": "2022-07-12T07:22:25.292Z"
   },
   {
    "duration": 16,
    "start_time": "2022-07-12T07:27:52.092Z"
   },
   {
    "duration": 25,
    "start_time": "2022-07-12T07:27:55.145Z"
   },
   {
    "duration": 12,
    "start_time": "2022-07-12T07:27:59.991Z"
   },
   {
    "duration": 4,
    "start_time": "2022-07-12T07:28:22.194Z"
   },
   {
    "duration": 8,
    "start_time": "2022-07-12T07:28:30.922Z"
   },
   {
    "duration": 10,
    "start_time": "2022-07-12T07:28:40.408Z"
   },
   {
    "duration": 1401,
    "start_time": "2022-07-13T09:06:44.209Z"
   },
   {
    "duration": 6,
    "start_time": "2022-07-13T09:06:45.612Z"
   },
   {
    "duration": 138,
    "start_time": "2022-07-13T09:06:45.620Z"
   },
   {
    "duration": 0,
    "start_time": "2022-07-13T09:06:45.761Z"
   },
   {
    "duration": 0,
    "start_time": "2022-07-13T09:06:45.762Z"
   },
   {
    "duration": 0,
    "start_time": "2022-07-13T09:06:45.764Z"
   },
   {
    "duration": 0,
    "start_time": "2022-07-13T09:06:45.765Z"
   },
   {
    "duration": 0,
    "start_time": "2022-07-13T09:06:45.767Z"
   },
   {
    "duration": 0,
    "start_time": "2022-07-13T09:06:45.768Z"
   },
   {
    "duration": 0,
    "start_time": "2022-07-13T09:06:45.769Z"
   },
   {
    "duration": 0,
    "start_time": "2022-07-13T09:06:45.771Z"
   },
   {
    "duration": 0,
    "start_time": "2022-07-13T09:06:45.772Z"
   },
   {
    "duration": 0,
    "start_time": "2022-07-13T09:06:45.774Z"
   },
   {
    "duration": 0,
    "start_time": "2022-07-13T09:06:45.775Z"
   },
   {
    "duration": 0,
    "start_time": "2022-07-13T09:06:45.777Z"
   },
   {
    "duration": 0,
    "start_time": "2022-07-13T09:06:45.804Z"
   },
   {
    "duration": 0,
    "start_time": "2022-07-13T09:06:45.806Z"
   },
   {
    "duration": 0,
    "start_time": "2022-07-13T09:06:45.807Z"
   },
   {
    "duration": 0,
    "start_time": "2022-07-13T09:06:45.808Z"
   },
   {
    "duration": 0,
    "start_time": "2022-07-13T09:06:45.810Z"
   },
   {
    "duration": 0,
    "start_time": "2022-07-13T09:06:45.811Z"
   },
   {
    "duration": 0,
    "start_time": "2022-07-13T09:06:45.812Z"
   },
   {
    "duration": 0,
    "start_time": "2022-07-13T09:06:45.814Z"
   },
   {
    "duration": 0,
    "start_time": "2022-07-13T09:06:45.815Z"
   },
   {
    "duration": 0,
    "start_time": "2022-07-13T09:06:45.817Z"
   },
   {
    "duration": 0,
    "start_time": "2022-07-13T09:06:45.818Z"
   },
   {
    "duration": 0,
    "start_time": "2022-07-13T09:06:45.820Z"
   },
   {
    "duration": 0,
    "start_time": "2022-07-13T09:06:45.821Z"
   },
   {
    "duration": 0,
    "start_time": "2022-07-13T09:06:45.822Z"
   },
   {
    "duration": 0,
    "start_time": "2022-07-13T09:06:45.824Z"
   },
   {
    "duration": 0,
    "start_time": "2022-07-13T09:06:45.825Z"
   },
   {
    "duration": 0,
    "start_time": "2022-07-13T09:06:45.826Z"
   },
   {
    "duration": 0,
    "start_time": "2022-07-13T09:06:45.828Z"
   },
   {
    "duration": 0,
    "start_time": "2022-07-13T09:06:45.829Z"
   },
   {
    "duration": 0,
    "start_time": "2022-07-13T09:06:45.831Z"
   },
   {
    "duration": 0,
    "start_time": "2022-07-13T09:06:45.832Z"
   },
   {
    "duration": 0,
    "start_time": "2022-07-13T09:06:45.834Z"
   },
   {
    "duration": 0,
    "start_time": "2022-07-13T09:06:45.835Z"
   },
   {
    "duration": 0,
    "start_time": "2022-07-13T09:06:45.837Z"
   },
   {
    "duration": 0,
    "start_time": "2022-07-13T09:06:45.838Z"
   },
   {
    "duration": 0,
    "start_time": "2022-07-13T09:06:45.840Z"
   },
   {
    "duration": 0,
    "start_time": "2022-07-13T09:06:45.841Z"
   },
   {
    "duration": 0,
    "start_time": "2022-07-13T09:06:45.842Z"
   },
   {
    "duration": 0,
    "start_time": "2022-07-13T09:06:45.843Z"
   },
   {
    "duration": 0,
    "start_time": "2022-07-13T09:06:45.844Z"
   },
   {
    "duration": 0,
    "start_time": "2022-07-13T09:06:45.845Z"
   },
   {
    "duration": 0,
    "start_time": "2022-07-13T09:06:45.845Z"
   },
   {
    "duration": 0,
    "start_time": "2022-07-13T09:06:45.846Z"
   },
   {
    "duration": 0,
    "start_time": "2022-07-13T09:06:45.846Z"
   },
   {
    "duration": 0,
    "start_time": "2022-07-13T09:06:45.847Z"
   },
   {
    "duration": 0,
    "start_time": "2022-07-13T09:06:45.904Z"
   },
   {
    "duration": 0,
    "start_time": "2022-07-13T09:06:45.905Z"
   },
   {
    "duration": 0,
    "start_time": "2022-07-13T09:06:45.906Z"
   },
   {
    "duration": 0,
    "start_time": "2022-07-13T09:06:45.907Z"
   },
   {
    "duration": 0,
    "start_time": "2022-07-13T09:06:45.908Z"
   },
   {
    "duration": 0,
    "start_time": "2022-07-13T09:06:45.909Z"
   },
   {
    "duration": 0,
    "start_time": "2022-07-13T09:06:45.910Z"
   },
   {
    "duration": 0,
    "start_time": "2022-07-13T09:06:45.911Z"
   },
   {
    "duration": 0,
    "start_time": "2022-07-13T09:06:45.912Z"
   },
   {
    "duration": 1,
    "start_time": "2022-07-13T09:06:45.912Z"
   },
   {
    "duration": 0,
    "start_time": "2022-07-13T09:06:45.913Z"
   },
   {
    "duration": 0,
    "start_time": "2022-07-13T09:06:45.914Z"
   },
   {
    "duration": 0,
    "start_time": "2022-07-13T09:06:45.915Z"
   },
   {
    "duration": 0,
    "start_time": "2022-07-13T09:06:45.915Z"
   },
   {
    "duration": 0,
    "start_time": "2022-07-13T09:06:45.916Z"
   },
   {
    "duration": 0,
    "start_time": "2022-07-13T09:06:45.917Z"
   },
   {
    "duration": 0,
    "start_time": "2022-07-13T09:06:45.918Z"
   },
   {
    "duration": 0,
    "start_time": "2022-07-13T09:06:45.919Z"
   },
   {
    "duration": 0,
    "start_time": "2022-07-13T09:06:45.920Z"
   },
   {
    "duration": 0,
    "start_time": "2022-07-13T09:06:45.921Z"
   },
   {
    "duration": 0,
    "start_time": "2022-07-13T09:06:45.922Z"
   },
   {
    "duration": 0,
    "start_time": "2022-07-13T09:06:45.922Z"
   },
   {
    "duration": 0,
    "start_time": "2022-07-13T09:06:45.923Z"
   },
   {
    "duration": 0,
    "start_time": "2022-07-13T09:06:45.924Z"
   },
   {
    "duration": 0,
    "start_time": "2022-07-13T09:06:45.925Z"
   },
   {
    "duration": 0,
    "start_time": "2022-07-13T09:06:45.926Z"
   },
   {
    "duration": 0,
    "start_time": "2022-07-13T09:06:45.927Z"
   },
   {
    "duration": 0,
    "start_time": "2022-07-13T09:06:45.928Z"
   },
   {
    "duration": 0,
    "start_time": "2022-07-13T09:06:45.929Z"
   },
   {
    "duration": 1250,
    "start_time": "2022-07-13T09:07:04.418Z"
   },
   {
    "duration": 7,
    "start_time": "2022-07-13T09:07:05.671Z"
   },
   {
    "duration": 2198,
    "start_time": "2022-07-13T09:07:05.679Z"
   },
   {
    "duration": 11,
    "start_time": "2022-07-13T09:07:07.879Z"
   },
   {
    "duration": 7,
    "start_time": "2022-07-13T09:07:07.891Z"
   },
   {
    "duration": 11,
    "start_time": "2022-07-13T09:07:07.899Z"
   },
   {
    "duration": 8,
    "start_time": "2022-07-13T09:07:07.911Z"
   },
   {
    "duration": 229,
    "start_time": "2022-07-13T09:07:07.922Z"
   },
   {
    "duration": 77,
    "start_time": "2022-07-13T09:07:08.153Z"
   },
   {
    "duration": 113,
    "start_time": "2022-07-13T09:07:08.233Z"
   },
   {
    "duration": 288,
    "start_time": "2022-07-13T09:07:08.347Z"
   },
   {
    "duration": 73,
    "start_time": "2022-07-13T09:07:08.637Z"
   },
   {
    "duration": 4,
    "start_time": "2022-07-13T09:07:08.711Z"
   },
   {
    "duration": 7,
    "start_time": "2022-07-13T09:07:08.717Z"
   },
   {
    "duration": 6,
    "start_time": "2022-07-13T09:07:08.726Z"
   },
   {
    "duration": 33,
    "start_time": "2022-07-13T09:07:08.733Z"
   },
   {
    "duration": 37,
    "start_time": "2022-07-13T09:07:08.768Z"
   },
   {
    "duration": 17,
    "start_time": "2022-07-13T09:07:08.807Z"
   },
   {
    "duration": 7,
    "start_time": "2022-07-13T09:07:08.826Z"
   },
   {
    "duration": 17,
    "start_time": "2022-07-13T09:07:08.835Z"
   },
   {
    "duration": 24,
    "start_time": "2022-07-13T09:07:08.854Z"
   },
   {
    "duration": 35,
    "start_time": "2022-07-13T09:07:08.903Z"
   },
   {
    "duration": 24,
    "start_time": "2022-07-13T09:07:08.940Z"
   },
   {
    "duration": 25,
    "start_time": "2022-07-13T09:07:08.966Z"
   },
   {
    "duration": 13,
    "start_time": "2022-07-13T09:07:08.993Z"
   },
   {
    "duration": 9,
    "start_time": "2022-07-13T09:07:09.007Z"
   },
   {
    "duration": 16,
    "start_time": "2022-07-13T09:07:09.018Z"
   },
   {
    "duration": 12,
    "start_time": "2022-07-13T09:07:09.039Z"
   },
   {
    "duration": 1002,
    "start_time": "2022-07-13T09:07:09.052Z"
   },
   {
    "duration": 24,
    "start_time": "2022-07-13T09:07:10.056Z"
   },
   {
    "duration": 39,
    "start_time": "2022-07-13T09:07:10.082Z"
   },
   {
    "duration": 33,
    "start_time": "2022-07-13T09:07:10.123Z"
   },
   {
    "duration": 18,
    "start_time": "2022-07-13T09:07:10.158Z"
   },
   {
    "duration": 41,
    "start_time": "2022-07-13T09:07:10.178Z"
   },
   {
    "duration": 11,
    "start_time": "2022-07-13T09:07:10.221Z"
   },
   {
    "duration": 12,
    "start_time": "2022-07-13T09:07:10.234Z"
   },
   {
    "duration": 768,
    "start_time": "2022-07-13T09:07:10.247Z"
   },
   {
    "duration": 7,
    "start_time": "2022-07-13T09:07:11.017Z"
   },
   {
    "duration": 5,
    "start_time": "2022-07-13T09:07:11.026Z"
   },
   {
    "duration": 30,
    "start_time": "2022-07-13T09:07:11.033Z"
   },
   {
    "duration": 12,
    "start_time": "2022-07-13T09:07:11.064Z"
   },
   {
    "duration": 26,
    "start_time": "2022-07-13T09:07:11.078Z"
   },
   {
    "duration": 3,
    "start_time": "2022-07-13T09:07:11.106Z"
   },
   {
    "duration": 15,
    "start_time": "2022-07-13T09:07:11.111Z"
   },
   {
    "duration": 5,
    "start_time": "2022-07-13T09:07:11.127Z"
   },
   {
    "duration": 11,
    "start_time": "2022-07-13T09:07:11.133Z"
   },
   {
    "duration": 477,
    "start_time": "2022-07-13T09:07:11.146Z"
   },
   {
    "duration": 4,
    "start_time": "2022-07-13T09:07:11.625Z"
   },
   {
    "duration": 105,
    "start_time": "2022-07-13T09:07:11.631Z"
   },
   {
    "duration": 5,
    "start_time": "2022-07-13T09:07:11.738Z"
   },
   {
    "duration": 49,
    "start_time": "2022-07-13T09:07:11.744Z"
   },
   {
    "duration": 18,
    "start_time": "2022-07-13T09:07:11.795Z"
   },
   {
    "duration": 80,
    "start_time": "2022-07-13T09:07:11.815Z"
   },
   {
    "duration": 10,
    "start_time": "2022-07-13T09:07:11.897Z"
   },
   {
    "duration": 64,
    "start_time": "2022-07-13T09:07:11.908Z"
   },
   {
    "duration": 4,
    "start_time": "2022-07-13T09:07:11.973Z"
   },
   {
    "duration": 8,
    "start_time": "2022-07-13T09:07:11.979Z"
   },
   {
    "duration": 18,
    "start_time": "2022-07-13T09:07:11.989Z"
   },
   {
    "duration": 8,
    "start_time": "2022-07-13T09:07:12.009Z"
   },
   {
    "duration": 36,
    "start_time": "2022-07-13T09:07:12.019Z"
   },
   {
    "duration": 22,
    "start_time": "2022-07-13T09:07:12.056Z"
   },
   {
    "duration": 25,
    "start_time": "2022-07-13T09:07:12.080Z"
   },
   {
    "duration": 3,
    "start_time": "2022-07-13T09:07:12.107Z"
   },
   {
    "duration": 949,
    "start_time": "2022-07-13T09:07:12.112Z"
   },
   {
    "duration": 19,
    "start_time": "2022-07-13T09:07:13.062Z"
   },
   {
    "duration": 44,
    "start_time": "2022-07-13T09:07:13.083Z"
   },
   {
    "duration": 20,
    "start_time": "2022-07-13T09:07:13.129Z"
   },
   {
    "duration": 3,
    "start_time": "2022-07-13T09:07:13.150Z"
   },
   {
    "duration": 26,
    "start_time": "2022-07-13T09:07:13.155Z"
   },
   {
    "duration": 23,
    "start_time": "2022-07-13T09:07:13.183Z"
   },
   {
    "duration": 8,
    "start_time": "2022-07-13T09:07:13.207Z"
   },
   {
    "duration": 335,
    "start_time": "2022-07-13T09:07:13.217Z"
   },
   {
    "duration": 288,
    "start_time": "2022-07-13T09:07:13.554Z"
   },
   {
    "duration": 13,
    "start_time": "2022-07-13T09:07:13.844Z"
   },
   {
    "duration": 45,
    "start_time": "2022-07-13T09:07:13.859Z"
   },
   {
    "duration": 11,
    "start_time": "2022-07-13T09:07:13.905Z"
   },
   {
    "duration": 4,
    "start_time": "2022-07-13T09:07:13.918Z"
   },
   {
    "duration": 28,
    "start_time": "2022-07-13T09:07:13.924Z"
   },
   {
    "duration": 71,
    "start_time": "2022-07-13T09:07:13.954Z"
   },
   {
    "duration": 1554,
    "start_time": "2022-07-14T07:03:36.720Z"
   },
   {
    "duration": 6,
    "start_time": "2022-07-14T07:03:38.275Z"
   },
   {
    "duration": 1234,
    "start_time": "2022-07-14T07:03:38.283Z"
   },
   {
    "duration": 18,
    "start_time": "2022-07-14T07:03:39.519Z"
   },
   {
    "duration": 10,
    "start_time": "2022-07-14T07:03:39.539Z"
   },
   {
    "duration": 9,
    "start_time": "2022-07-14T07:03:39.551Z"
   },
   {
    "duration": 17,
    "start_time": "2022-07-14T07:03:39.561Z"
   },
   {
    "duration": 215,
    "start_time": "2022-07-14T07:03:39.580Z"
   },
   {
    "duration": 56,
    "start_time": "2022-07-14T07:03:39.797Z"
   },
   {
    "duration": 104,
    "start_time": "2022-07-14T07:03:39.855Z"
   },
   {
    "duration": 308,
    "start_time": "2022-07-14T07:03:39.960Z"
   },
   {
    "duration": 73,
    "start_time": "2022-07-14T07:03:40.270Z"
   },
   {
    "duration": 4,
    "start_time": "2022-07-14T07:03:40.344Z"
   },
   {
    "duration": 6,
    "start_time": "2022-07-14T07:03:40.349Z"
   },
   {
    "duration": 6,
    "start_time": "2022-07-14T07:03:40.357Z"
   },
   {
    "duration": 30,
    "start_time": "2022-07-14T07:03:40.365Z"
   },
   {
    "duration": 9,
    "start_time": "2022-07-14T07:03:40.396Z"
   },
   {
    "duration": 34,
    "start_time": "2022-07-14T07:03:40.407Z"
   },
   {
    "duration": 11,
    "start_time": "2022-07-14T07:03:40.442Z"
   },
   {
    "duration": 13,
    "start_time": "2022-07-14T07:03:40.454Z"
   },
   {
    "duration": 10,
    "start_time": "2022-07-14T07:03:40.468Z"
   },
   {
    "duration": 12,
    "start_time": "2022-07-14T07:03:40.480Z"
   },
   {
    "duration": 45,
    "start_time": "2022-07-14T07:03:40.494Z"
   },
   {
    "duration": 20,
    "start_time": "2022-07-14T07:03:40.541Z"
   },
   {
    "duration": 4,
    "start_time": "2022-07-14T07:03:40.562Z"
   },
   {
    "duration": 8,
    "start_time": "2022-07-14T07:03:40.567Z"
   },
   {
    "duration": 11,
    "start_time": "2022-07-14T07:03:40.576Z"
   },
   {
    "duration": 37,
    "start_time": "2022-07-14T07:03:40.590Z"
   },
   {
    "duration": 885,
    "start_time": "2022-07-14T07:03:40.629Z"
   },
   {
    "duration": 29,
    "start_time": "2022-07-14T07:03:41.516Z"
   },
   {
    "duration": 31,
    "start_time": "2022-07-14T07:03:41.547Z"
   },
   {
    "duration": 25,
    "start_time": "2022-07-14T07:03:41.580Z"
   },
   {
    "duration": 33,
    "start_time": "2022-07-14T07:03:41.607Z"
   },
   {
    "duration": 15,
    "start_time": "2022-07-14T07:03:41.642Z"
   },
   {
    "duration": 10,
    "start_time": "2022-07-14T07:03:41.659Z"
   },
   {
    "duration": 11,
    "start_time": "2022-07-14T07:03:41.671Z"
   },
   {
    "duration": 753,
    "start_time": "2022-07-14T07:03:41.683Z"
   },
   {
    "duration": 6,
    "start_time": "2022-07-14T07:03:42.438Z"
   },
   {
    "duration": 9,
    "start_time": "2022-07-14T07:03:42.445Z"
   },
   {
    "duration": 16,
    "start_time": "2022-07-14T07:03:42.456Z"
   },
   {
    "duration": 9,
    "start_time": "2022-07-14T07:03:42.473Z"
   },
   {
    "duration": 14,
    "start_time": "2022-07-14T07:03:42.483Z"
   },
   {
    "duration": 7,
    "start_time": "2022-07-14T07:03:42.498Z"
   },
   {
    "duration": 16,
    "start_time": "2022-07-14T07:03:42.528Z"
   },
   {
    "duration": 8,
    "start_time": "2022-07-14T07:03:42.545Z"
   },
   {
    "duration": 12,
    "start_time": "2022-07-14T07:03:42.554Z"
   },
   {
    "duration": 474,
    "start_time": "2022-07-14T07:03:42.567Z"
   },
   {
    "duration": 4,
    "start_time": "2022-07-14T07:03:43.043Z"
   },
   {
    "duration": 107,
    "start_time": "2022-07-14T07:03:43.049Z"
   },
   {
    "duration": 4,
    "start_time": "2022-07-14T07:03:43.158Z"
   },
   {
    "duration": 16,
    "start_time": "2022-07-14T07:03:43.163Z"
   },
   {
    "duration": 6,
    "start_time": "2022-07-14T07:03:43.180Z"
   },
   {
    "duration": 85,
    "start_time": "2022-07-14T07:03:43.188Z"
   },
   {
    "duration": 9,
    "start_time": "2022-07-14T07:03:43.275Z"
   },
   {
    "duration": 80,
    "start_time": "2022-07-14T07:03:43.286Z"
   },
   {
    "duration": 4,
    "start_time": "2022-07-14T07:03:43.368Z"
   },
   {
    "duration": 9,
    "start_time": "2022-07-14T07:03:43.374Z"
   },
   {
    "duration": 16,
    "start_time": "2022-07-14T07:03:43.384Z"
   },
   {
    "duration": 18,
    "start_time": "2022-07-14T07:03:43.402Z"
   },
   {
    "duration": 44,
    "start_time": "2022-07-14T07:03:43.422Z"
   },
   {
    "duration": 19,
    "start_time": "2022-07-14T07:03:43.467Z"
   },
   {
    "duration": 9,
    "start_time": "2022-07-14T07:03:43.488Z"
   },
   {
    "duration": 11,
    "start_time": "2022-07-14T07:03:43.499Z"
   },
   {
    "duration": 838,
    "start_time": "2022-07-14T07:03:43.512Z"
   },
   {
    "duration": 17,
    "start_time": "2022-07-14T07:03:44.352Z"
   },
   {
    "duration": 27,
    "start_time": "2022-07-14T07:03:44.371Z"
   },
   {
    "duration": 41,
    "start_time": "2022-07-14T07:03:44.400Z"
   },
   {
    "duration": 5,
    "start_time": "2022-07-14T07:03:44.443Z"
   },
   {
    "duration": 22,
    "start_time": "2022-07-14T07:03:44.450Z"
   },
   {
    "duration": 10,
    "start_time": "2022-07-14T07:03:44.474Z"
   },
   {
    "duration": 11,
    "start_time": "2022-07-14T07:03:44.485Z"
   },
   {
    "duration": 357,
    "start_time": "2022-07-14T07:03:44.498Z"
   },
   {
    "duration": 292,
    "start_time": "2022-07-14T07:03:44.857Z"
   },
   {
    "duration": 11,
    "start_time": "2022-07-14T07:03:45.150Z"
   },
   {
    "duration": 74,
    "start_time": "2022-07-14T07:03:45.163Z"
   },
   {
    "duration": 10,
    "start_time": "2022-07-14T07:03:45.239Z"
   },
   {
    "duration": 10,
    "start_time": "2022-07-14T07:03:45.250Z"
   },
   {
    "duration": 27,
    "start_time": "2022-07-14T07:03:45.262Z"
   },
   {
    "duration": 68,
    "start_time": "2022-07-14T07:03:45.291Z"
   },
   {
    "duration": 1993,
    "start_time": "2022-07-14T07:56:01.882Z"
   },
   {
    "duration": 8,
    "start_time": "2022-07-14T07:56:03.877Z"
   },
   {
    "duration": 1759,
    "start_time": "2022-07-14T07:56:03.887Z"
   },
   {
    "duration": 13,
    "start_time": "2022-07-14T07:56:05.649Z"
   },
   {
    "duration": 16,
    "start_time": "2022-07-14T07:56:05.665Z"
   },
   {
    "duration": 24,
    "start_time": "2022-07-14T07:56:05.683Z"
   },
   {
    "duration": 65,
    "start_time": "2022-07-14T07:56:05.709Z"
   },
   {
    "duration": 333,
    "start_time": "2022-07-14T07:56:05.776Z"
   },
   {
    "duration": 90,
    "start_time": "2022-07-14T07:56:06.111Z"
   },
   {
    "duration": 153,
    "start_time": "2022-07-14T07:56:06.223Z"
   },
   {
    "duration": 519,
    "start_time": "2022-07-14T07:56:06.378Z"
   },
   {
    "duration": 75,
    "start_time": "2022-07-14T07:56:06.900Z"
   },
   {
    "duration": 6,
    "start_time": "2022-07-14T07:56:06.977Z"
   },
   {
    "duration": 22,
    "start_time": "2022-07-14T07:56:06.985Z"
   },
   {
    "duration": 42,
    "start_time": "2022-07-14T07:56:07.009Z"
   },
   {
    "duration": 50,
    "start_time": "2022-07-14T07:56:07.053Z"
   },
   {
    "duration": 11,
    "start_time": "2022-07-14T07:56:07.105Z"
   },
   {
    "duration": 65,
    "start_time": "2022-07-14T07:56:07.118Z"
   },
   {
    "duration": 15,
    "start_time": "2022-07-14T07:56:07.185Z"
   },
   {
    "duration": 39,
    "start_time": "2022-07-14T07:56:07.202Z"
   },
   {
    "duration": 41,
    "start_time": "2022-07-14T07:56:07.243Z"
   },
   {
    "duration": 35,
    "start_time": "2022-07-14T07:56:07.287Z"
   },
   {
    "duration": 34,
    "start_time": "2022-07-14T07:56:07.324Z"
   },
   {
    "duration": 46,
    "start_time": "2022-07-14T07:56:07.360Z"
   },
   {
    "duration": 6,
    "start_time": "2022-07-14T07:56:07.409Z"
   },
   {
    "duration": 33,
    "start_time": "2022-07-14T07:56:07.428Z"
   },
   {
    "duration": 33,
    "start_time": "2022-07-14T07:56:07.462Z"
   },
   {
    "duration": 11,
    "start_time": "2022-07-14T07:56:07.501Z"
   },
   {
    "duration": 1186,
    "start_time": "2022-07-14T07:56:07.514Z"
   },
   {
    "duration": 38,
    "start_time": "2022-07-14T07:56:08.702Z"
   },
   {
    "duration": 51,
    "start_time": "2022-07-14T07:56:08.742Z"
   },
   {
    "duration": 42,
    "start_time": "2022-07-14T07:56:08.795Z"
   },
   {
    "duration": 33,
    "start_time": "2022-07-14T07:56:08.840Z"
   },
   {
    "duration": 23,
    "start_time": "2022-07-14T07:56:08.875Z"
   },
   {
    "duration": 24,
    "start_time": "2022-07-14T07:56:08.901Z"
   },
   {
    "duration": 49,
    "start_time": "2022-07-14T07:56:08.927Z"
   },
   {
    "duration": 1051,
    "start_time": "2022-07-14T07:56:08.978Z"
   },
   {
    "duration": 9,
    "start_time": "2022-07-14T07:56:10.031Z"
   },
   {
    "duration": 30,
    "start_time": "2022-07-14T07:56:10.043Z"
   },
   {
    "duration": 46,
    "start_time": "2022-07-14T07:56:10.075Z"
   },
   {
    "duration": 26,
    "start_time": "2022-07-14T07:56:10.125Z"
   },
   {
    "duration": 25,
    "start_time": "2022-07-14T07:56:10.155Z"
   },
   {
    "duration": 7,
    "start_time": "2022-07-14T07:56:10.182Z"
   },
   {
    "duration": 23,
    "start_time": "2022-07-14T07:56:10.193Z"
   },
   {
    "duration": 21,
    "start_time": "2022-07-14T07:56:10.218Z"
   },
   {
    "duration": 48,
    "start_time": "2022-07-14T07:56:10.241Z"
   },
   {
    "duration": 640,
    "start_time": "2022-07-14T07:56:10.291Z"
   },
   {
    "duration": 4,
    "start_time": "2022-07-14T07:56:10.933Z"
   },
   {
    "duration": 310,
    "start_time": "2022-07-14T07:56:10.941Z"
   },
   {
    "duration": 13,
    "start_time": "2022-07-14T07:56:11.253Z"
   },
   {
    "duration": 119,
    "start_time": "2022-07-14T07:56:11.270Z"
   },
   {
    "duration": 15,
    "start_time": "2022-07-14T07:56:11.393Z"
   },
   {
    "duration": 164,
    "start_time": "2022-07-14T07:56:11.414Z"
   },
   {
    "duration": 19,
    "start_time": "2022-07-14T07:56:11.581Z"
   },
   {
    "duration": 87,
    "start_time": "2022-07-14T07:56:11.603Z"
   },
   {
    "duration": 7,
    "start_time": "2022-07-14T07:56:11.692Z"
   },
   {
    "duration": 35,
    "start_time": "2022-07-14T07:56:11.703Z"
   },
   {
    "duration": 56,
    "start_time": "2022-07-14T07:56:11.739Z"
   },
   {
    "duration": 21,
    "start_time": "2022-07-14T07:56:11.797Z"
   },
   {
    "duration": 89,
    "start_time": "2022-07-14T07:56:11.821Z"
   },
   {
    "duration": 34,
    "start_time": "2022-07-14T07:56:11.912Z"
   },
   {
    "duration": 12,
    "start_time": "2022-07-14T07:56:11.948Z"
   },
   {
    "duration": 25,
    "start_time": "2022-07-14T07:56:11.963Z"
   },
   {
    "duration": 988,
    "start_time": "2022-07-14T07:56:11.989Z"
   },
   {
    "duration": 18,
    "start_time": "2022-07-14T07:56:12.980Z"
   },
   {
    "duration": 49,
    "start_time": "2022-07-14T07:56:13.000Z"
   },
   {
    "duration": 26,
    "start_time": "2022-07-14T07:56:13.050Z"
   },
   {
    "duration": 4,
    "start_time": "2022-07-14T07:56:13.078Z"
   },
   {
    "duration": 48,
    "start_time": "2022-07-14T07:56:13.085Z"
   },
   {
    "duration": 11,
    "start_time": "2022-07-14T07:56:13.135Z"
   },
   {
    "duration": 26,
    "start_time": "2022-07-14T07:56:13.148Z"
   },
   {
    "duration": 331,
    "start_time": "2022-07-14T07:56:13.177Z"
   },
   {
    "duration": 227,
    "start_time": "2022-07-14T07:56:13.510Z"
   },
   {
    "duration": 18,
    "start_time": "2022-07-14T07:56:13.739Z"
   },
   {
    "duration": 66,
    "start_time": "2022-07-14T07:56:13.759Z"
   },
   {
    "duration": 25,
    "start_time": "2022-07-14T07:56:13.828Z"
   },
   {
    "duration": 66,
    "start_time": "2022-07-14T07:56:13.855Z"
   },
   {
    "duration": 40,
    "start_time": "2022-07-14T07:56:13.924Z"
   },
   {
    "duration": 148,
    "start_time": "2022-07-14T07:56:13.965Z"
   },
   {
    "duration": 12,
    "start_time": "2022-07-14T07:57:56.172Z"
   },
   {
    "duration": 16,
    "start_time": "2022-07-14T07:58:05.581Z"
   },
   {
    "duration": 19,
    "start_time": "2022-07-14T07:58:17.442Z"
   },
   {
    "duration": 15,
    "start_time": "2022-07-14T08:02:27.682Z"
   },
   {
    "duration": 16,
    "start_time": "2022-07-14T08:07:59.921Z"
   },
   {
    "duration": 101,
    "start_time": "2022-07-14T08:08:11.341Z"
   },
   {
    "duration": 21,
    "start_time": "2022-07-14T08:09:10.046Z"
   },
   {
    "duration": 73,
    "start_time": "2022-07-14T08:09:30.027Z"
   },
   {
    "duration": 3,
    "start_time": "2022-07-14T08:10:14.201Z"
   },
   {
    "duration": 850,
    "start_time": "2022-07-14T08:10:20.041Z"
   },
   {
    "duration": 1425,
    "start_time": "2022-07-14T08:12:04.796Z"
   },
   {
    "duration": 915,
    "start_time": "2022-07-14T08:12:45.230Z"
   }
  ],
  "kernelspec": {
   "display_name": "Python 3 (ipykernel)",
   "language": "python",
   "name": "python3"
  },
  "language_info": {
   "codemirror_mode": {
    "name": "ipython",
    "version": 3
   },
   "file_extension": ".py",
   "mimetype": "text/x-python",
   "name": "python",
   "nbconvert_exporter": "python",
   "pygments_lexer": "ipython3",
   "version": "3.7.9"
  },
  "toc": {
   "base_numbering": 1,
   "nav_menu": {},
   "number_sections": false,
   "sideBar": true,
   "skip_h1_title": true,
   "title_cell": "Table of Contents",
   "title_sidebar": "Contents",
   "toc_cell": false,
   "toc_position": {},
   "toc_section_display": true,
   "toc_window_display": true
  }
 },
 "nbformat": 4,
 "nbformat_minor": 5
}

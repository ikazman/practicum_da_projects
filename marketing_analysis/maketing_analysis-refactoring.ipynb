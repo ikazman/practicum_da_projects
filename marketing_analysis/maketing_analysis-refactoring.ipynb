{
 "cells": [
  {
   "cell_type": "markdown",
   "id": "b8dec386-76ca-4fe4-a9d9-db1ac858bdf6",
   "metadata": {},
   "source": [
    "# Маркетинговый анализ\n",
    "***"
   ]
  },
  {
   "cell_type": "markdown",
   "id": "9a7c28e4-f99d-45fa-afab-0fdb6501f0e8",
   "metadata": {},
   "source": [
    "# Описание проекта"
   ]
  },
  {
   "cell_type": "markdown",
   "id": "7f811e66-9344-43e1-a353-236eb99e15de",
   "metadata": {},
   "source": [
    "Вы — маркетинговый аналитик развлекательного приложения. Несмотря на огромные вложения в рекламу, последние несколько месяцев компания терпит убытки. Ваша задача — разобраться в причинах и помочь компании выйти в плюс.\n",
    "Есть данные о пользователях, привлечённых с 1 мая по 27 октября 2019 года:\n",
    "\n",
    "- лог сервера с данными об их посещениях,\n",
    "- выгрузка их покупок за этот период,\n",
    "- рекламные расходы.\n",
    "\n",
    "Вам предстоит изучить:\n",
    "\n",
    "- откуда приходят пользователи и какими устройствами они пользуются,\n",
    "- сколько стоит привлечение пользователей из различных рекламных каналов;\n",
    "- сколько денег приносит каждый клиент,\n",
    "- когда расходы на привлечение клиента окупаются,\n",
    "- какие факторы мешают привлечению клиентов."
   ]
  },
  {
   "cell_type": "markdown",
   "id": "76060a7b-cf9c-4e24-930b-bb753c146a54",
   "metadata": {
    "tags": []
   },
   "source": [
    "# Оглавление<a class='anchor' id='TOC'></a>"
   ]
  },
  {
   "cell_type": "markdown",
   "id": "7714e342-fa3b-42d9-afac-3d5c0c42c0fa",
   "metadata": {},
   "source": [
    "* **[I. Загрузка и подготовка данных](#1)**\n",
    "    - [1) Импортируем библиотеки, объявим класс MetricCalculator для анализа](#1_1)\n",
    "    - [2) Прочитаем данные](#1_2)\n",
    "    - [3) Выведем первые и последние пять строк каждой из таблиц, общую информацию](#1_3)\n",
    "    - [Вывод](#1_conclusion)\n",
    "<br></br>\n",
    "* **[II. Исследовательский анализ данных](#2)**\n",
    "    - [1) Получим профили пользовтеля для анализа](#2_1)\n",
    "    - [2) Установим момент и горизонт анализа данных](#2_2)\n",
    "    - [3) Исследуем сведения о посещении сайтах](#2_3)\n",
    "        - [из каких стран пользователи](#2_3_1)\n",
    "        - [устройства пользователей](#2_3_2)\n",
    "        - [информация о покупках](#2_3_3)\n",
    "        - [каналы привлечения пользователей](#2_3_4)\n",
    "        - [информация о расходах](#2_3_5)\n",
    "        - [сравним TipTop со всеми остальными платными каналами](#2_3_6)\n",
    "    - [Выводы по итогам EDA](#2_conclusion)\n",
    "<br></br> \n",
    "* **[III. Маркетинговый анализ](#3)**\n",
    "    - [1) Проверим окупаемость рекламы](#3_1)\n",
    "    - [2) Проверим характеристики пользователей](#3_2)\n",
    "        - [страна первого посещения пользователей](#3_2_1)\n",
    "        - [источник привлечения пользователей](#3_2_2)\n",
    "        - [проверим связь пользователей из США и канал привлечения](#3_2_3)\n",
    "        - [проверим каналы привлечения на окупаемость](#3_2_4)\n",
    "        - [устройство пользователей](#3_2_5)\n",
    "        - [устройство пользователей и европейский рынок](#3_2_6)\n",
    "    - [3) Проверим конверсию](#3_3)\n",
    "        - [посчитаем общую конверсию](#3_3_1)\n",
    "        - [посчитаем конверсию по регионам](#3_3_2)\n",
    "        - [посчитаем конверсию по каналам](#3_3_3)\n",
    "        - [посчитаем конверсию по устройствам](#3_3_4)\n",
    "        - [посчитаем длительность пользовательской сесии](#3_3_5)\n",
    "    - [4) Проверим удержание](#3_4)\n",
    "        - [посчитаем общее удержание](#3_4_1)\n",
    "        - [посчитаем удержание по регионам](#3_4_2)\n",
    "        - [посчитаем удержание по каналам](#3_4_3)\n",
    "        - [посчитаем удержание по устройствам](#3_4_4)\n",
    "    - [Выводы по итогам маркетингового анализа](#3_conclusion)\n",
    "<br></br>"
   ]
  },
  {
   "cell_type": "markdown",
   "id": "4739ab2e-0817-4d8a-ae39-ed6e0df2d4b7",
   "metadata": {},
   "source": [
    "# I. Загрузка и подготовка данных<a class='anchor' id='1'>\n",
    "***"
   ]
  },
  {
   "cell_type": "markdown",
   "id": "d1f55d36-da3c-49fe-b115-447acfe475ae",
   "metadata": {},
   "source": [
    "## 1) Импортируем библиотеки, объявим класс MetricCalculator для анализа<a class=\"anchor\" id=\"1_1\"></a>"
   ]
  },
  {
   "cell_type": "code",
   "execution_count": 1,
   "id": "56611c54-8cdb-4bf1-a2c4-7cb01fd299b3",
   "metadata": {},
   "outputs": [],
   "source": [
    "# тут импорты\n",
    "import warnings\n",
    "warnings.filterwarnings('ignore')\n",
    "import pandas as pd\n",
    "from calculator.calculator import MetricCalculator\n",
    "from IPython.display import display\n",
    "from datetime import datetime"
   ]
  },
  {
   "cell_type": "code",
   "execution_count": 2,
   "id": "35c0fd0c-6f08-46fa-a986-42f0d375f1f7",
   "metadata": {},
   "outputs": [],
   "source": [
    "# тут класс"
   ]
  },
  {
   "cell_type": "code",
   "execution_count": 3,
   "id": "1cd4d367-fa5b-4aa6-9b30-22aa2ae7c628",
   "metadata": {},
   "outputs": [],
   "source": [
    "# тут полезное\n",
    "pd.set_option('display.float_format', lambda x: '%.2f' % x)"
   ]
  },
  {
   "cell_type": "markdown",
   "id": "e4d0d609-2f14-40f2-ac36-dfabd02e38d9",
   "metadata": {},
   "source": [
    "[В оглавление](#TOC)"
   ]
  },
  {
   "cell_type": "markdown",
   "id": "6207ec28-bc70-4b59-9d18-1f606a6e6a7c",
   "metadata": {},
   "source": [
    "## 2) Прочитаем данные<a class=\"anchor\" id=\"1_2\"></a>"
   ]
  },
  {
   "cell_type": "markdown",
   "id": "45d8428d-740d-4937-8e45-2e93d70f9511",
   "metadata": {},
   "source": [
    "### - описание данных"
   ]
  },
  {
   "cell_type": "markdown",
   "id": "ddb97df8-e510-40f2-ac2d-0d74bef264cc",
   "metadata": {},
   "source": [
    "Файл visits_info_short.csv хранит лог сервера с информацией о посещениях сайта, orders_info_short.csv — информацию о покупках, а costs_info_short.csv — информацию о расходах на рекламу.\n",
    "\n",
    "\n",
    "Структура visits_info_short.csv|Описание|Структура orders_info_short.csv|Описание|Структура costs_info_short.csv|Описание\n",
    ":-----|:-----|:-----|:-----|:-----|:-----  \n",
    "User Id|уникальный идентификатор пользователя|User Id|уникальный идентификатор пользователя|Channel|идентификатор рекламного источника\n",
    "Region|страна пользователя|Event Dt|дата и время покупки|Dt|дата проведения рекламной кампании\n",
    "Device|тип устройства пользователя|Revenue|сумма заказа|Costs|расходы на эту кампанию\n",
    "Channel|идентификатор источника перехода| | | | \n",
    "Session Start|дата и время начала сессии| | | | \n",
    "Session End|дата и время окончания сессии| | | | "
   ]
  },
  {
   "cell_type": "markdown",
   "id": "f64e7c54-7b2f-4411-a031-11eb6da854ac",
   "metadata": {},
   "source": [
    "### - создадим экземпляр класса с путями до данных, приведем наименование колонок к едином формату, установим нужный тип данных"
   ]
  },
  {
   "cell_type": "code",
   "execution_count": 4,
   "id": "121710bc-d2aa-49aa-a659-c11984d3f4d1",
   "metadata": {},
   "outputs": [],
   "source": [
    "calc = MetricCalculator('datasets/visits_info_short.csv', 'datasets/orders_info_short.csv', 'datasets/costs_info_short.csv')"
   ]
  },
  {
   "cell_type": "code",
   "execution_count": 5,
   "id": "b9d1f2da-ca2b-47ba-9733-e7662465fba7",
   "metadata": {},
   "outputs": [],
   "source": [
    "calc.columns_fixer()"
   ]
  },
  {
   "cell_type": "markdown",
   "id": "771b2d07-6741-4919-8b94-d56e245ba566",
   "metadata": {},
   "source": [
    "Cоздан экземпляр класса:\n",
    "- данные прочитаны, \n",
    "- наименование колонок приведено к единому формату,\n",
    "- колонки с датами приведены к соответствующему формату.\n",
    "\n",
    "Датасеты доступны через экземпляр класса по именам **visits, orders, costs**."
   ]
  },
  {
   "cell_type": "markdown",
   "id": "7581a982-983d-47c4-bf91-20bbb810c220",
   "metadata": {},
   "source": [
    "## 3) Выведем первые пять первых и последних строк каждой из таблиц, общую информацию<a class=\"anchor\" id=\"1_3\"></a>"
   ]
  },
  {
   "cell_type": "markdown",
   "id": "82c71cff-1de5-4ade-b194-7bff33c58a9b",
   "metadata": {
    "tags": []
   },
   "source": [
    "### - visits - посещение сайта"
   ]
  },
  {
   "cell_type": "code",
   "execution_count": 37,
   "id": "668707ca-c584-4e0b-9b8d-0e8306905d47",
   "metadata": {},
   "outputs": [],
   "source": [
    "from IPython.display import display"
   ]
  },
  {
   "cell_type": "code",
   "execution_count": 39,
   "id": "85f6dca5-3cf2-4ac5-9126-a04a96ff3590",
   "metadata": {},
   "outputs": [
    {
     "name": "stdout",
     "output_type": "stream",
     "text": [
      "<class 'pandas.core.frame.DataFrame'>\n",
      "RangeIndex: 309901 entries, 0 to 309900\n",
      "Data columns (total 6 columns):\n",
      " #   Column         Non-Null Count   Dtype         \n",
      "---  ------         --------------   -----         \n",
      " 0   user_id        309901 non-null  int64         \n",
      " 1   region         309901 non-null  object        \n",
      " 2   device         309901 non-null  object        \n",
      " 3   channel        309901 non-null  object        \n",
      " 4   session_start  309901 non-null  datetime64[ns]\n",
      " 5   session_end    309901 non-null  datetime64[ns]\n",
      "dtypes: datetime64[ns](2), int64(1), object(3)\n",
      "memory usage: 14.2+ MB\n"
     ]
    },
    {
     "data": {
      "text/html": [
       "<div>\n",
       "<style scoped>\n",
       "    .dataframe tbody tr th:only-of-type {\n",
       "        vertical-align: middle;\n",
       "    }\n",
       "\n",
       "    .dataframe tbody tr th {\n",
       "        vertical-align: top;\n",
       "    }\n",
       "\n",
       "    .dataframe thead th {\n",
       "        text-align: right;\n",
       "    }\n",
       "</style>\n",
       "<table border=\"1\" class=\"dataframe\">\n",
       "  <thead>\n",
       "    <tr style=\"text-align: right;\">\n",
       "      <th></th>\n",
       "      <th>user_id</th>\n",
       "      <th>region</th>\n",
       "      <th>device</th>\n",
       "      <th>channel</th>\n",
       "      <th>session_start</th>\n",
       "      <th>session_end</th>\n",
       "    </tr>\n",
       "  </thead>\n",
       "  <tbody>\n",
       "    <tr>\n",
       "      <th>0</th>\n",
       "      <td>981449118918</td>\n",
       "      <td>United States</td>\n",
       "      <td>iPhone</td>\n",
       "      <td>organic</td>\n",
       "      <td>2019-05-01 02:36:01</td>\n",
       "      <td>2019-05-01 02:45:01</td>\n",
       "    </tr>\n",
       "    <tr>\n",
       "      <th>1</th>\n",
       "      <td>278965908054</td>\n",
       "      <td>United States</td>\n",
       "      <td>iPhone</td>\n",
       "      <td>organic</td>\n",
       "      <td>2019-05-01 04:46:31</td>\n",
       "      <td>2019-05-01 04:47:35</td>\n",
       "    </tr>\n",
       "    <tr>\n",
       "      <th>2</th>\n",
       "      <td>590706206550</td>\n",
       "      <td>United States</td>\n",
       "      <td>Mac</td>\n",
       "      <td>organic</td>\n",
       "      <td>2019-05-01 14:09:25</td>\n",
       "      <td>2019-05-01 15:32:08</td>\n",
       "    </tr>\n",
       "    <tr>\n",
       "      <th>3</th>\n",
       "      <td>326433527971</td>\n",
       "      <td>United States</td>\n",
       "      <td>Android</td>\n",
       "      <td>TipTop</td>\n",
       "      <td>2019-05-01 00:29:59</td>\n",
       "      <td>2019-05-01 00:54:25</td>\n",
       "    </tr>\n",
       "    <tr>\n",
       "      <th>4</th>\n",
       "      <td>349773784594</td>\n",
       "      <td>United States</td>\n",
       "      <td>Mac</td>\n",
       "      <td>organic</td>\n",
       "      <td>2019-05-01 03:33:35</td>\n",
       "      <td>2019-05-01 03:57:40</td>\n",
       "    </tr>\n",
       "    <tr>\n",
       "      <th>...</th>\n",
       "      <td>...</td>\n",
       "      <td>...</td>\n",
       "      <td>...</td>\n",
       "      <td>...</td>\n",
       "      <td>...</td>\n",
       "      <td>...</td>\n",
       "    </tr>\n",
       "    <tr>\n",
       "      <th>309896</th>\n",
       "      <td>329994900775</td>\n",
       "      <td>UK</td>\n",
       "      <td>PC</td>\n",
       "      <td>LeapBob</td>\n",
       "      <td>2019-10-31 13:28:12</td>\n",
       "      <td>2019-10-31 14:39:29</td>\n",
       "    </tr>\n",
       "    <tr>\n",
       "      <th>309897</th>\n",
       "      <td>334903592310</td>\n",
       "      <td>France</td>\n",
       "      <td>PC</td>\n",
       "      <td>lambdaMediaAds</td>\n",
       "      <td>2019-10-31 22:14:52</td>\n",
       "      <td>2019-10-31 22:39:36</td>\n",
       "    </tr>\n",
       "    <tr>\n",
       "      <th>309898</th>\n",
       "      <td>540102010126</td>\n",
       "      <td>Germany</td>\n",
       "      <td>PC</td>\n",
       "      <td>organic</td>\n",
       "      <td>2019-10-31 01:40:48</td>\n",
       "      <td>2019-10-31 01:41:31</td>\n",
       "    </tr>\n",
       "    <tr>\n",
       "      <th>309899</th>\n",
       "      <td>308736936846</td>\n",
       "      <td>Germany</td>\n",
       "      <td>Mac</td>\n",
       "      <td>organic</td>\n",
       "      <td>2019-10-31 07:37:34</td>\n",
       "      <td>2019-10-31 07:37:55</td>\n",
       "    </tr>\n",
       "    <tr>\n",
       "      <th>309900</th>\n",
       "      <td>109329042535</td>\n",
       "      <td>Germany</td>\n",
       "      <td>PC</td>\n",
       "      <td>lambdaMediaAds</td>\n",
       "      <td>2019-10-31 14:17:43</td>\n",
       "      <td>2019-10-31 15:17:04</td>\n",
       "    </tr>\n",
       "  </tbody>\n",
       "</table>\n",
       "<p>309901 rows × 6 columns</p>\n",
       "</div>"
      ],
      "text/plain": [
       "             user_id         region   device         channel  \\\n",
       "0       981449118918  United States   iPhone         organic   \n",
       "1       278965908054  United States   iPhone         organic   \n",
       "2       590706206550  United States      Mac         organic   \n",
       "3       326433527971  United States  Android          TipTop   \n",
       "4       349773784594  United States      Mac         organic   \n",
       "...              ...            ...      ...             ...   \n",
       "309896  329994900775             UK       PC         LeapBob   \n",
       "309897  334903592310         France       PC  lambdaMediaAds   \n",
       "309898  540102010126        Germany       PC         organic   \n",
       "309899  308736936846        Germany      Mac         organic   \n",
       "309900  109329042535        Germany       PC  lambdaMediaAds   \n",
       "\n",
       "             session_start         session_end  \n",
       "0      2019-05-01 02:36:01 2019-05-01 02:45:01  \n",
       "1      2019-05-01 04:46:31 2019-05-01 04:47:35  \n",
       "2      2019-05-01 14:09:25 2019-05-01 15:32:08  \n",
       "3      2019-05-01 00:29:59 2019-05-01 00:54:25  \n",
       "4      2019-05-01 03:33:35 2019-05-01 03:57:40  \n",
       "...                    ...                 ...  \n",
       "309896 2019-10-31 13:28:12 2019-10-31 14:39:29  \n",
       "309897 2019-10-31 22:14:52 2019-10-31 22:39:36  \n",
       "309898 2019-10-31 01:40:48 2019-10-31 01:41:31  \n",
       "309899 2019-10-31 07:37:34 2019-10-31 07:37:55  \n",
       "309900 2019-10-31 14:17:43 2019-10-31 15:17:04  \n",
       "\n",
       "[309901 rows x 6 columns]"
      ]
     },
     "metadata": {},
     "output_type": "display_data"
    },
    {
     "data": {
      "text/plain": [
       "None"
      ]
     },
     "metadata": {},
     "output_type": "display_data"
    }
   ],
   "source": [
    "display(calc.visits, calc.visits.info())"
   ]
  },
  {
   "cell_type": "code",
   "execution_count": 6,
   "id": "a039f8ff-bb21-4189-a804-e0ca4224a41c",
   "metadata": {},
   "outputs": [
    {
     "data": {
      "text/html": [
       "<div>\n",
       "<style scoped>\n",
       "    .dataframe tbody tr th:only-of-type {\n",
       "        vertical-align: middle;\n",
       "    }\n",
       "\n",
       "    .dataframe tbody tr th {\n",
       "        vertical-align: top;\n",
       "    }\n",
       "\n",
       "    .dataframe thead th {\n",
       "        text-align: right;\n",
       "    }\n",
       "</style>\n",
       "<table border=\"1\" class=\"dataframe\">\n",
       "  <thead>\n",
       "    <tr style=\"text-align: right;\">\n",
       "      <th></th>\n",
       "      <th>user_id</th>\n",
       "      <th>region</th>\n",
       "      <th>device</th>\n",
       "      <th>channel</th>\n",
       "      <th>session_start</th>\n",
       "      <th>session_end</th>\n",
       "    </tr>\n",
       "  </thead>\n",
       "  <tbody>\n",
       "    <tr>\n",
       "      <th>0</th>\n",
       "      <td>981449118918</td>\n",
       "      <td>United States</td>\n",
       "      <td>iPhone</td>\n",
       "      <td>organic</td>\n",
       "      <td>2019-05-01 02:36:01</td>\n",
       "      <td>2019-05-01 02:45:01</td>\n",
       "    </tr>\n",
       "    <tr>\n",
       "      <th>1</th>\n",
       "      <td>278965908054</td>\n",
       "      <td>United States</td>\n",
       "      <td>iPhone</td>\n",
       "      <td>organic</td>\n",
       "      <td>2019-05-01 04:46:31</td>\n",
       "      <td>2019-05-01 04:47:35</td>\n",
       "    </tr>\n",
       "    <tr>\n",
       "      <th>2</th>\n",
       "      <td>590706206550</td>\n",
       "      <td>United States</td>\n",
       "      <td>Mac</td>\n",
       "      <td>organic</td>\n",
       "      <td>2019-05-01 14:09:25</td>\n",
       "      <td>2019-05-01 15:32:08</td>\n",
       "    </tr>\n",
       "    <tr>\n",
       "      <th>3</th>\n",
       "      <td>326433527971</td>\n",
       "      <td>United States</td>\n",
       "      <td>Android</td>\n",
       "      <td>TipTop</td>\n",
       "      <td>2019-05-01 00:29:59</td>\n",
       "      <td>2019-05-01 00:54:25</td>\n",
       "    </tr>\n",
       "    <tr>\n",
       "      <th>4</th>\n",
       "      <td>349773784594</td>\n",
       "      <td>United States</td>\n",
       "      <td>Mac</td>\n",
       "      <td>organic</td>\n",
       "      <td>2019-05-01 03:33:35</td>\n",
       "      <td>2019-05-01 03:57:40</td>\n",
       "    </tr>\n",
       "    <tr>\n",
       "      <th>...</th>\n",
       "      <td>...</td>\n",
       "      <td>...</td>\n",
       "      <td>...</td>\n",
       "      <td>...</td>\n",
       "      <td>...</td>\n",
       "      <td>...</td>\n",
       "    </tr>\n",
       "    <tr>\n",
       "      <th>309896</th>\n",
       "      <td>329994900775</td>\n",
       "      <td>UK</td>\n",
       "      <td>PC</td>\n",
       "      <td>LeapBob</td>\n",
       "      <td>2019-10-31 13:28:12</td>\n",
       "      <td>2019-10-31 14:39:29</td>\n",
       "    </tr>\n",
       "    <tr>\n",
       "      <th>309897</th>\n",
       "      <td>334903592310</td>\n",
       "      <td>France</td>\n",
       "      <td>PC</td>\n",
       "      <td>lambdaMediaAds</td>\n",
       "      <td>2019-10-31 22:14:52</td>\n",
       "      <td>2019-10-31 22:39:36</td>\n",
       "    </tr>\n",
       "    <tr>\n",
       "      <th>309898</th>\n",
       "      <td>540102010126</td>\n",
       "      <td>Germany</td>\n",
       "      <td>PC</td>\n",
       "      <td>organic</td>\n",
       "      <td>2019-10-31 01:40:48</td>\n",
       "      <td>2019-10-31 01:41:31</td>\n",
       "    </tr>\n",
       "    <tr>\n",
       "      <th>309899</th>\n",
       "      <td>308736936846</td>\n",
       "      <td>Germany</td>\n",
       "      <td>Mac</td>\n",
       "      <td>organic</td>\n",
       "      <td>2019-10-31 07:37:34</td>\n",
       "      <td>2019-10-31 07:37:55</td>\n",
       "    </tr>\n",
       "    <tr>\n",
       "      <th>309900</th>\n",
       "      <td>109329042535</td>\n",
       "      <td>Germany</td>\n",
       "      <td>PC</td>\n",
       "      <td>lambdaMediaAds</td>\n",
       "      <td>2019-10-31 14:17:43</td>\n",
       "      <td>2019-10-31 15:17:04</td>\n",
       "    </tr>\n",
       "  </tbody>\n",
       "</table>\n",
       "<p>309901 rows × 6 columns</p>\n",
       "</div>"
      ],
      "text/plain": [
       "             user_id         region   device         channel  \\\n",
       "0       981449118918  United States   iPhone         organic   \n",
       "1       278965908054  United States   iPhone         organic   \n",
       "2       590706206550  United States      Mac         organic   \n",
       "3       326433527971  United States  Android          TipTop   \n",
       "4       349773784594  United States      Mac         organic   \n",
       "...              ...            ...      ...             ...   \n",
       "309896  329994900775             UK       PC         LeapBob   \n",
       "309897  334903592310         France       PC  lambdaMediaAds   \n",
       "309898  540102010126        Germany       PC         organic   \n",
       "309899  308736936846        Germany      Mac         organic   \n",
       "309900  109329042535        Germany       PC  lambdaMediaAds   \n",
       "\n",
       "             session_start         session_end  \n",
       "0      2019-05-01 02:36:01 2019-05-01 02:45:01  \n",
       "1      2019-05-01 04:46:31 2019-05-01 04:47:35  \n",
       "2      2019-05-01 14:09:25 2019-05-01 15:32:08  \n",
       "3      2019-05-01 00:29:59 2019-05-01 00:54:25  \n",
       "4      2019-05-01 03:33:35 2019-05-01 03:57:40  \n",
       "...                    ...                 ...  \n",
       "309896 2019-10-31 13:28:12 2019-10-31 14:39:29  \n",
       "309897 2019-10-31 22:14:52 2019-10-31 22:39:36  \n",
       "309898 2019-10-31 01:40:48 2019-10-31 01:41:31  \n",
       "309899 2019-10-31 07:37:34 2019-10-31 07:37:55  \n",
       "309900 2019-10-31 14:17:43 2019-10-31 15:17:04  \n",
       "\n",
       "[309901 rows x 6 columns]"
      ]
     },
     "execution_count": 6,
     "metadata": {},
     "output_type": "execute_result"
    }
   ],
   "source": [
    "calc.visits"
   ]
  },
  {
   "cell_type": "code",
   "execution_count": 7,
   "id": "6e8c0a9b-40ea-4910-9328-e06cf31532a4",
   "metadata": {},
   "outputs": [
    {
     "name": "stdout",
     "output_type": "stream",
     "text": [
      "<class 'pandas.core.frame.DataFrame'>\n",
      "RangeIndex: 309901 entries, 0 to 309900\n",
      "Data columns (total 6 columns):\n",
      " #   Column         Non-Null Count   Dtype         \n",
      "---  ------         --------------   -----         \n",
      " 0   user_id        309901 non-null  int64         \n",
      " 1   region         309901 non-null  object        \n",
      " 2   device         309901 non-null  object        \n",
      " 3   channel        309901 non-null  object        \n",
      " 4   session_start  309901 non-null  datetime64[ns]\n",
      " 5   session_end    309901 non-null  datetime64[ns]\n",
      "dtypes: datetime64[ns](2), int64(1), object(3)\n",
      "memory usage: 14.2+ MB\n"
     ]
    }
   ],
   "source": [
    "calc.visits.info()"
   ]
  },
  {
   "cell_type": "markdown",
   "id": "bb72011b-ffe0-43dd-bbc8-e3f9a801edc9",
   "metadata": {},
   "source": [
    "&#9889; **Вывод:** в датасете с информацией о посещениях сайта 309 901 строка, без пропусков, без проблем с типами данных."
   ]
  },
  {
   "cell_type": "markdown",
   "id": "569b3243-03a0-4fc3-bb57-317f04ce1c62",
   "metadata": {},
   "source": [
    "### - orders - информация о покупках"
   ]
  },
  {
   "cell_type": "code",
   "execution_count": 8,
   "id": "f8c8de6d-97e9-4ddd-9c6a-7ab7f89b3b0e",
   "metadata": {},
   "outputs": [
    {
     "data": {
      "text/html": [
       "<div>\n",
       "<style scoped>\n",
       "    .dataframe tbody tr th:only-of-type {\n",
       "        vertical-align: middle;\n",
       "    }\n",
       "\n",
       "    .dataframe tbody tr th {\n",
       "        vertical-align: top;\n",
       "    }\n",
       "\n",
       "    .dataframe thead th {\n",
       "        text-align: right;\n",
       "    }\n",
       "</style>\n",
       "<table border=\"1\" class=\"dataframe\">\n",
       "  <thead>\n",
       "    <tr style=\"text-align: right;\">\n",
       "      <th></th>\n",
       "      <th>user_id</th>\n",
       "      <th>event_dt</th>\n",
       "      <th>revenue</th>\n",
       "    </tr>\n",
       "  </thead>\n",
       "  <tbody>\n",
       "    <tr>\n",
       "      <th>0</th>\n",
       "      <td>188246423999</td>\n",
       "      <td>2019-05-01 23:09:52</td>\n",
       "      <td>4.99</td>\n",
       "    </tr>\n",
       "    <tr>\n",
       "      <th>1</th>\n",
       "      <td>174361394180</td>\n",
       "      <td>2019-05-01 12:24:04</td>\n",
       "      <td>4.99</td>\n",
       "    </tr>\n",
       "    <tr>\n",
       "      <th>2</th>\n",
       "      <td>529610067795</td>\n",
       "      <td>2019-05-01 11:34:04</td>\n",
       "      <td>4.99</td>\n",
       "    </tr>\n",
       "    <tr>\n",
       "      <th>3</th>\n",
       "      <td>319939546352</td>\n",
       "      <td>2019-05-01 15:34:40</td>\n",
       "      <td>4.99</td>\n",
       "    </tr>\n",
       "    <tr>\n",
       "      <th>4</th>\n",
       "      <td>366000285810</td>\n",
       "      <td>2019-05-01 13:59:51</td>\n",
       "      <td>4.99</td>\n",
       "    </tr>\n",
       "    <tr>\n",
       "      <th>...</th>\n",
       "      <td>...</td>\n",
       "      <td>...</td>\n",
       "      <td>...</td>\n",
       "    </tr>\n",
       "    <tr>\n",
       "      <th>40207</th>\n",
       "      <td>651604369137</td>\n",
       "      <td>2019-10-31 16:19:07</td>\n",
       "      <td>4.99</td>\n",
       "    </tr>\n",
       "    <tr>\n",
       "      <th>40208</th>\n",
       "      <td>275341387049</td>\n",
       "      <td>2019-10-31 01:17:17</td>\n",
       "      <td>4.99</td>\n",
       "    </tr>\n",
       "    <tr>\n",
       "      <th>40209</th>\n",
       "      <td>374656616484</td>\n",
       "      <td>2019-10-31 06:17:29</td>\n",
       "      <td>4.99</td>\n",
       "    </tr>\n",
       "    <tr>\n",
       "      <th>40210</th>\n",
       "      <td>168548862926</td>\n",
       "      <td>2019-10-31 22:46:19</td>\n",
       "      <td>4.99</td>\n",
       "    </tr>\n",
       "    <tr>\n",
       "      <th>40211</th>\n",
       "      <td>329994900775</td>\n",
       "      <td>2019-10-31 13:29:06</td>\n",
       "      <td>4.99</td>\n",
       "    </tr>\n",
       "  </tbody>\n",
       "</table>\n",
       "<p>40212 rows × 3 columns</p>\n",
       "</div>"
      ],
      "text/plain": [
       "            user_id            event_dt  revenue\n",
       "0      188246423999 2019-05-01 23:09:52     4.99\n",
       "1      174361394180 2019-05-01 12:24:04     4.99\n",
       "2      529610067795 2019-05-01 11:34:04     4.99\n",
       "3      319939546352 2019-05-01 15:34:40     4.99\n",
       "4      366000285810 2019-05-01 13:59:51     4.99\n",
       "...             ...                 ...      ...\n",
       "40207  651604369137 2019-10-31 16:19:07     4.99\n",
       "40208  275341387049 2019-10-31 01:17:17     4.99\n",
       "40209  374656616484 2019-10-31 06:17:29     4.99\n",
       "40210  168548862926 2019-10-31 22:46:19     4.99\n",
       "40211  329994900775 2019-10-31 13:29:06     4.99\n",
       "\n",
       "[40212 rows x 3 columns]"
      ]
     },
     "execution_count": 8,
     "metadata": {},
     "output_type": "execute_result"
    }
   ],
   "source": [
    "calc.orders"
   ]
  },
  {
   "cell_type": "code",
   "execution_count": 9,
   "id": "7bed3cb3-87bc-47c5-8d24-3986d0a69822",
   "metadata": {},
   "outputs": [
    {
     "name": "stdout",
     "output_type": "stream",
     "text": [
      "<class 'pandas.core.frame.DataFrame'>\n",
      "RangeIndex: 40212 entries, 0 to 40211\n",
      "Data columns (total 3 columns):\n",
      " #   Column    Non-Null Count  Dtype         \n",
      "---  ------    --------------  -----         \n",
      " 0   user_id   40212 non-null  int64         \n",
      " 1   event_dt  40212 non-null  datetime64[ns]\n",
      " 2   revenue   40212 non-null  float64       \n",
      "dtypes: datetime64[ns](1), float64(1), int64(1)\n",
      "memory usage: 942.6 KB\n"
     ]
    }
   ],
   "source": [
    "calc.orders.info()"
   ]
  },
  {
   "cell_type": "markdown",
   "id": "aa51e396-5011-4b58-9ce4-a7f22fb31a5d",
   "metadata": {},
   "source": [
    "&#9889; **Вывод:** в датасете с информацией о покупках 40 212 строк (13% от числа визитов), без пропусков, без проблем с типами данных."
   ]
  },
  {
   "cell_type": "markdown",
   "id": "96910e69-515b-41e2-bff8-51aa3340fbba",
   "metadata": {},
   "source": [
    "### - costs - информация о расходах"
   ]
  },
  {
   "cell_type": "code",
   "execution_count": 10,
   "id": "a899540a-7361-49f8-a65f-c7e1a6ea8ceb",
   "metadata": {},
   "outputs": [
    {
     "data": {
      "text/html": [
       "<div>\n",
       "<style scoped>\n",
       "    .dataframe tbody tr th:only-of-type {\n",
       "        vertical-align: middle;\n",
       "    }\n",
       "\n",
       "    .dataframe tbody tr th {\n",
       "        vertical-align: top;\n",
       "    }\n",
       "\n",
       "    .dataframe thead th {\n",
       "        text-align: right;\n",
       "    }\n",
       "</style>\n",
       "<table border=\"1\" class=\"dataframe\">\n",
       "  <thead>\n",
       "    <tr style=\"text-align: right;\">\n",
       "      <th></th>\n",
       "      <th>dt</th>\n",
       "      <th>channel</th>\n",
       "      <th>costs</th>\n",
       "    </tr>\n",
       "  </thead>\n",
       "  <tbody>\n",
       "    <tr>\n",
       "      <th>0</th>\n",
       "      <td>2019-05-01</td>\n",
       "      <td>FaceBoom</td>\n",
       "      <td>113.30</td>\n",
       "    </tr>\n",
       "    <tr>\n",
       "      <th>1</th>\n",
       "      <td>2019-05-02</td>\n",
       "      <td>FaceBoom</td>\n",
       "      <td>78.10</td>\n",
       "    </tr>\n",
       "    <tr>\n",
       "      <th>2</th>\n",
       "      <td>2019-05-03</td>\n",
       "      <td>FaceBoom</td>\n",
       "      <td>85.80</td>\n",
       "    </tr>\n",
       "    <tr>\n",
       "      <th>3</th>\n",
       "      <td>2019-05-04</td>\n",
       "      <td>FaceBoom</td>\n",
       "      <td>136.40</td>\n",
       "    </tr>\n",
       "    <tr>\n",
       "      <th>4</th>\n",
       "      <td>2019-05-05</td>\n",
       "      <td>FaceBoom</td>\n",
       "      <td>122.10</td>\n",
       "    </tr>\n",
       "    <tr>\n",
       "      <th>...</th>\n",
       "      <td>...</td>\n",
       "      <td>...</td>\n",
       "      <td>...</td>\n",
       "    </tr>\n",
       "    <tr>\n",
       "      <th>1795</th>\n",
       "      <td>2019-10-23</td>\n",
       "      <td>lambdaMediaAds</td>\n",
       "      <td>4.00</td>\n",
       "    </tr>\n",
       "    <tr>\n",
       "      <th>1796</th>\n",
       "      <td>2019-10-24</td>\n",
       "      <td>lambdaMediaAds</td>\n",
       "      <td>6.40</td>\n",
       "    </tr>\n",
       "    <tr>\n",
       "      <th>1797</th>\n",
       "      <td>2019-10-25</td>\n",
       "      <td>lambdaMediaAds</td>\n",
       "      <td>8.80</td>\n",
       "    </tr>\n",
       "    <tr>\n",
       "      <th>1798</th>\n",
       "      <td>2019-10-26</td>\n",
       "      <td>lambdaMediaAds</td>\n",
       "      <td>8.80</td>\n",
       "    </tr>\n",
       "    <tr>\n",
       "      <th>1799</th>\n",
       "      <td>2019-10-27</td>\n",
       "      <td>lambdaMediaAds</td>\n",
       "      <td>12.00</td>\n",
       "    </tr>\n",
       "  </tbody>\n",
       "</table>\n",
       "<p>1800 rows × 3 columns</p>\n",
       "</div>"
      ],
      "text/plain": [
       "              dt         channel  costs\n",
       "0     2019-05-01        FaceBoom 113.30\n",
       "1     2019-05-02        FaceBoom  78.10\n",
       "2     2019-05-03        FaceBoom  85.80\n",
       "3     2019-05-04        FaceBoom 136.40\n",
       "4     2019-05-05        FaceBoom 122.10\n",
       "...          ...             ...    ...\n",
       "1795  2019-10-23  lambdaMediaAds   4.00\n",
       "1796  2019-10-24  lambdaMediaAds   6.40\n",
       "1797  2019-10-25  lambdaMediaAds   8.80\n",
       "1798  2019-10-26  lambdaMediaAds   8.80\n",
       "1799  2019-10-27  lambdaMediaAds  12.00\n",
       "\n",
       "[1800 rows x 3 columns]"
      ]
     },
     "execution_count": 10,
     "metadata": {},
     "output_type": "execute_result"
    }
   ],
   "source": [
    "calc.costs"
   ]
  },
  {
   "cell_type": "code",
   "execution_count": 11,
   "id": "17800307-4794-492c-941c-81264298aaa0",
   "metadata": {},
   "outputs": [
    {
     "name": "stdout",
     "output_type": "stream",
     "text": [
      "<class 'pandas.core.frame.DataFrame'>\n",
      "RangeIndex: 1800 entries, 0 to 1799\n",
      "Data columns (total 3 columns):\n",
      " #   Column   Non-Null Count  Dtype  \n",
      "---  ------   --------------  -----  \n",
      " 0   dt       1800 non-null   object \n",
      " 1   channel  1800 non-null   object \n",
      " 2   costs    1800 non-null   float64\n",
      "dtypes: float64(1), object(2)\n",
      "memory usage: 42.3+ KB\n"
     ]
    }
   ],
   "source": [
    "calc.costs.info()"
   ]
  },
  {
   "cell_type": "markdown",
   "id": "e675278d-5904-4aed-9c97-e4766e0ab6db",
   "metadata": {},
   "source": [
    "&#9889; **Вывод:** в датасете с информацией расходах 1800, без пропусков, без проблем с типами данных."
   ]
  },
  {
   "cell_type": "markdown",
   "id": "955d1e6f-7d8b-4525-a398-100a55b278b1",
   "metadata": {},
   "source": [
    "### - проверим наличие полных дубликатов"
   ]
  },
  {
   "cell_type": "code",
   "execution_count": 12,
   "id": "f80d6ebb-49ed-48b5-8097-74b5a7c39cad",
   "metadata": {},
   "outputs": [
    {
     "name": "stdout",
     "output_type": "stream",
     "text": [
      "0\n"
     ]
    }
   ],
   "source": [
    "datasets = [calc.visits, calc.orders, calc.costs]\n",
    "duplicated_sum = 0\n",
    "for dataset in datasets:\n",
    "    duplicated_sum += (dataset.duplicated() == True).sum()\n",
    "print(duplicated_sum)"
   ]
  },
  {
   "cell_type": "markdown",
   "id": "631efc02-8d86-436d-9db5-b5ff52afc06d",
   "metadata": {},
   "source": [
    "Полных дубликатов нет"
   ]
  },
  {
   "cell_type": "markdown",
   "id": "0adaa1b3-c8fe-4412-8041-4d4abcb03764",
   "metadata": {
    "tags": []
   },
   "source": [
    "## Вывод<a class=\"anchor\" id=\"1_conclusion\"></a>"
   ]
  },
  {
   "cell_type": "markdown",
   "id": "5a55f053-bfa2-4b1a-ac90-cd94ba336ad9",
   "metadata": {},
   "source": [
    "1. Прочитали данные с помощью специального класса, наименование колонок приведено к единому формату, колонки с датами приведены к соответствующему формату. Датасеты доступны через экземпляр класса по именам visits, orders, costs.\n",
    "2. Во всех датасетах нет проблем с типами данных, полные дубликаты отсутствуют, нет пропусков."
   ]
  },
  {
   "cell_type": "markdown",
   "id": "cdae8ca6-f316-4508-8f0c-c5a855d34e5d",
   "metadata": {},
   "source": [
    "[В оглавление](#TOC)"
   ]
  },
  {
   "cell_type": "markdown",
   "id": "6571f1d7-8573-470b-9c62-10e3e73b8a5d",
   "metadata": {
    "tags": []
   },
   "source": [
    "# II. Исследовательский анализ данных<a class='anchor' id='2'>\n",
    "***"
   ]
  },
  {
   "cell_type": "markdown",
   "id": "73d71da5-6007-4187-97ad-c06625c67388",
   "metadata": {
    "tags": []
   },
   "source": [
    "## 1) Получим профили пользователей<a class=\"anchor\" id=\"2_1\"></a>"
   ]
  },
  {
   "cell_type": "code",
   "execution_count": 13,
   "id": "75328271-21f7-447c-825e-2a9ce10448d5",
   "metadata": {},
   "outputs": [],
   "source": [
    "profiles = calc.get_profiles()"
   ]
  },
  {
   "cell_type": "code",
   "execution_count": 14,
   "id": "bbc99b1d-3391-4c35-ac5c-d81b220fc17e",
   "metadata": {},
   "outputs": [
    {
     "data": {
      "text/html": [
       "<div>\n",
       "<style scoped>\n",
       "    .dataframe tbody tr th:only-of-type {\n",
       "        vertical-align: middle;\n",
       "    }\n",
       "\n",
       "    .dataframe tbody tr th {\n",
       "        vertical-align: top;\n",
       "    }\n",
       "\n",
       "    .dataframe thead th {\n",
       "        text-align: right;\n",
       "    }\n",
       "</style>\n",
       "<table border=\"1\" class=\"dataframe\">\n",
       "  <thead>\n",
       "    <tr style=\"text-align: right;\">\n",
       "      <th></th>\n",
       "      <th>user_id</th>\n",
       "      <th>first_ts</th>\n",
       "      <th>channel</th>\n",
       "      <th>device</th>\n",
       "      <th>region</th>\n",
       "      <th>dt</th>\n",
       "      <th>month</th>\n",
       "      <th>payer</th>\n",
       "      <th>acquisition_cost</th>\n",
       "    </tr>\n",
       "  </thead>\n",
       "  <tbody>\n",
       "    <tr>\n",
       "      <th>0</th>\n",
       "      <td>599326</td>\n",
       "      <td>2019-05-07 20:58:57</td>\n",
       "      <td>FaceBoom</td>\n",
       "      <td>Mac</td>\n",
       "      <td>United States</td>\n",
       "      <td>2019-05-07</td>\n",
       "      <td>2019-05-01</td>\n",
       "      <td>True</td>\n",
       "      <td>1.09</td>\n",
       "    </tr>\n",
       "    <tr>\n",
       "      <th>1</th>\n",
       "      <td>4919697</td>\n",
       "      <td>2019-07-09 12:46:07</td>\n",
       "      <td>FaceBoom</td>\n",
       "      <td>iPhone</td>\n",
       "      <td>United States</td>\n",
       "      <td>2019-07-09</td>\n",
       "      <td>2019-07-01</td>\n",
       "      <td>False</td>\n",
       "      <td>1.11</td>\n",
       "    </tr>\n",
       "    <tr>\n",
       "      <th>2</th>\n",
       "      <td>6085896</td>\n",
       "      <td>2019-10-01 09:58:33</td>\n",
       "      <td>organic</td>\n",
       "      <td>iPhone</td>\n",
       "      <td>France</td>\n",
       "      <td>2019-10-01</td>\n",
       "      <td>2019-10-01</td>\n",
       "      <td>False</td>\n",
       "      <td>0.00</td>\n",
       "    </tr>\n",
       "    <tr>\n",
       "      <th>3</th>\n",
       "      <td>22593348</td>\n",
       "      <td>2019-08-22 21:35:48</td>\n",
       "      <td>AdNonSense</td>\n",
       "      <td>PC</td>\n",
       "      <td>Germany</td>\n",
       "      <td>2019-08-22</td>\n",
       "      <td>2019-08-01</td>\n",
       "      <td>False</td>\n",
       "      <td>0.99</td>\n",
       "    </tr>\n",
       "    <tr>\n",
       "      <th>4</th>\n",
       "      <td>31989216</td>\n",
       "      <td>2019-10-02 00:07:44</td>\n",
       "      <td>YRabbit</td>\n",
       "      <td>iPhone</td>\n",
       "      <td>United States</td>\n",
       "      <td>2019-10-02</td>\n",
       "      <td>2019-10-01</td>\n",
       "      <td>False</td>\n",
       "      <td>0.23</td>\n",
       "    </tr>\n",
       "    <tr>\n",
       "      <th>...</th>\n",
       "      <td>...</td>\n",
       "      <td>...</td>\n",
       "      <td>...</td>\n",
       "      <td>...</td>\n",
       "      <td>...</td>\n",
       "      <td>...</td>\n",
       "      <td>...</td>\n",
       "      <td>...</td>\n",
       "      <td>...</td>\n",
       "    </tr>\n",
       "    <tr>\n",
       "      <th>150003</th>\n",
       "      <td>999956196527</td>\n",
       "      <td>2019-09-28 08:33:02</td>\n",
       "      <td>TipTop</td>\n",
       "      <td>iPhone</td>\n",
       "      <td>United States</td>\n",
       "      <td>2019-09-28</td>\n",
       "      <td>2019-09-01</td>\n",
       "      <td>False</td>\n",
       "      <td>3.50</td>\n",
       "    </tr>\n",
       "    <tr>\n",
       "      <th>150004</th>\n",
       "      <td>999975439887</td>\n",
       "      <td>2019-10-21 00:35:17</td>\n",
       "      <td>organic</td>\n",
       "      <td>PC</td>\n",
       "      <td>UK</td>\n",
       "      <td>2019-10-21</td>\n",
       "      <td>2019-10-01</td>\n",
       "      <td>False</td>\n",
       "      <td>0.00</td>\n",
       "    </tr>\n",
       "    <tr>\n",
       "      <th>150005</th>\n",
       "      <td>999976332130</td>\n",
       "      <td>2019-07-23 02:57:06</td>\n",
       "      <td>TipTop</td>\n",
       "      <td>iPhone</td>\n",
       "      <td>United States</td>\n",
       "      <td>2019-07-23</td>\n",
       "      <td>2019-07-01</td>\n",
       "      <td>False</td>\n",
       "      <td>2.60</td>\n",
       "    </tr>\n",
       "    <tr>\n",
       "      <th>150006</th>\n",
       "      <td>999979924135</td>\n",
       "      <td>2019-09-28 21:28:09</td>\n",
       "      <td>MediaTornado</td>\n",
       "      <td>PC</td>\n",
       "      <td>United States</td>\n",
       "      <td>2019-09-28</td>\n",
       "      <td>2019-09-01</td>\n",
       "      <td>False</td>\n",
       "      <td>0.21</td>\n",
       "    </tr>\n",
       "    <tr>\n",
       "      <th>150007</th>\n",
       "      <td>999999563947</td>\n",
       "      <td>2019-10-18 19:57:25</td>\n",
       "      <td>organic</td>\n",
       "      <td>iPhone</td>\n",
       "      <td>United States</td>\n",
       "      <td>2019-10-18</td>\n",
       "      <td>2019-10-01</td>\n",
       "      <td>False</td>\n",
       "      <td>0.00</td>\n",
       "    </tr>\n",
       "  </tbody>\n",
       "</table>\n",
       "<p>150008 rows × 9 columns</p>\n",
       "</div>"
      ],
      "text/plain": [
       "             user_id            first_ts       channel  device         region  \\\n",
       "0             599326 2019-05-07 20:58:57      FaceBoom     Mac  United States   \n",
       "1            4919697 2019-07-09 12:46:07      FaceBoom  iPhone  United States   \n",
       "2            6085896 2019-10-01 09:58:33       organic  iPhone         France   \n",
       "3           22593348 2019-08-22 21:35:48    AdNonSense      PC        Germany   \n",
       "4           31989216 2019-10-02 00:07:44       YRabbit  iPhone  United States   \n",
       "...              ...                 ...           ...     ...            ...   \n",
       "150003  999956196527 2019-09-28 08:33:02        TipTop  iPhone  United States   \n",
       "150004  999975439887 2019-10-21 00:35:17       organic      PC             UK   \n",
       "150005  999976332130 2019-07-23 02:57:06        TipTop  iPhone  United States   \n",
       "150006  999979924135 2019-09-28 21:28:09  MediaTornado      PC  United States   \n",
       "150007  999999563947 2019-10-18 19:57:25       organic  iPhone  United States   \n",
       "\n",
       "                dt      month  payer  acquisition_cost  \n",
       "0       2019-05-07 2019-05-01   True              1.09  \n",
       "1       2019-07-09 2019-07-01  False              1.11  \n",
       "2       2019-10-01 2019-10-01  False              0.00  \n",
       "3       2019-08-22 2019-08-01  False              0.99  \n",
       "4       2019-10-02 2019-10-01  False              0.23  \n",
       "...            ...        ...    ...               ...  \n",
       "150003  2019-09-28 2019-09-01  False              3.50  \n",
       "150004  2019-10-21 2019-10-01  False              0.00  \n",
       "150005  2019-07-23 2019-07-01  False              2.60  \n",
       "150006  2019-09-28 2019-09-01  False              0.21  \n",
       "150007  2019-10-18 2019-10-01  False              0.00  \n",
       "\n",
       "[150008 rows x 9 columns]"
      ]
     },
     "execution_count": 14,
     "metadata": {},
     "output_type": "execute_result"
    }
   ],
   "source": [
    "profiles"
   ]
  },
  {
   "cell_type": "markdown",
   "id": "a8eb169c-19e8-4bf7-981c-5d20ef23ef68",
   "metadata": {},
   "source": [
    "[В оглавление](#TOC)"
   ]
  },
  {
   "cell_type": "markdown",
   "id": "c89743a6-7a97-451d-8c50-cc8ea1aa954b",
   "metadata": {},
   "source": [
    "## 2) Установим момент и горизонт анализа данных<a class=\"anchor\" id=\"2_2\"></a>"
   ]
  },
  {
   "cell_type": "markdown",
   "id": "741bd108-ddbc-45fb-aebf-b7529dc7dfd9",
   "metadata": {},
   "source": [
    "По условиям задачи на календаре 1 ноября 2019 года, в бизнес-плане заложено, что пользователи должны окупаться не позднее чем через две недели после привлечения:"
   ]
  },
  {
   "cell_type": "code",
   "execution_count": 15,
   "id": "c3907a3b-f957-4ca9-b2af-c4c9983cdad0",
   "metadata": {},
   "outputs": [],
   "source": [
    "observation_date = datetime(2019, 11, 1).date()\n",
    "horizon_days = 14"
   ]
  },
  {
   "cell_type": "markdown",
   "id": "37247261-569e-4196-8d12-0face71ca42a",
   "metadata": {},
   "source": [
    "[В оглавление](#TOC)"
   ]
  },
  {
   "cell_type": "markdown",
   "id": "1675ce97-88a3-4bf0-909a-83ad9daf2d4d",
   "metadata": {},
   "source": [
    "## 3) Исследуем сведения о посещении сайтах<a class=\"anchor\" id=\"2_3\"></a>"
   ]
  },
  {
   "cell_type": "markdown",
   "id": "1ed1545d-5240-4dac-ab08-bbb3d68bd5ae",
   "metadata": {
    "tags": []
   },
   "source": [
    "### - из каких стран пользователи<a class='anchor' id='2_3_1'></a>"
   ]
  },
  {
   "cell_type": "markdown",
   "id": "132f6e05-c2af-4162-a764-ba1b808b2e35",
   "metadata": {},
   "source": [
    "В отношении user_id считать статистику неинформативно - поэтому исключим данный столбец**"
   ]
  },
  {
   "cell_type": "code",
   "execution_count": 16,
   "id": "ceee15e8-0ddd-49cd-a18b-b928df79d8cc",
   "metadata": {},
   "outputs": [
    {
     "data": {
      "text/html": [
       "<div>\n",
       "<style scoped>\n",
       "    .dataframe tbody tr th:only-of-type {\n",
       "        vertical-align: middle;\n",
       "    }\n",
       "\n",
       "    .dataframe tbody tr th {\n",
       "        vertical-align: top;\n",
       "    }\n",
       "\n",
       "    .dataframe thead th {\n",
       "        text-align: right;\n",
       "    }\n",
       "</style>\n",
       "<table border=\"1\" class=\"dataframe\">\n",
       "  <thead>\n",
       "    <tr style=\"text-align: right;\">\n",
       "      <th></th>\n",
       "      <th>count</th>\n",
       "      <th>unique</th>\n",
       "      <th>top</th>\n",
       "      <th>freq</th>\n",
       "      <th>first</th>\n",
       "      <th>last</th>\n",
       "    </tr>\n",
       "  </thead>\n",
       "  <tbody>\n",
       "    <tr>\n",
       "      <th>region</th>\n",
       "      <td>309901</td>\n",
       "      <td>4</td>\n",
       "      <td>United States</td>\n",
       "      <td>207327</td>\n",
       "      <td>---</td>\n",
       "      <td>---</td>\n",
       "    </tr>\n",
       "    <tr>\n",
       "      <th>device</th>\n",
       "      <td>309901</td>\n",
       "      <td>4</td>\n",
       "      <td>iPhone</td>\n",
       "      <td>112603</td>\n",
       "      <td>---</td>\n",
       "      <td>---</td>\n",
       "    </tr>\n",
       "    <tr>\n",
       "      <th>channel</th>\n",
       "      <td>309901</td>\n",
       "      <td>11</td>\n",
       "      <td>organic</td>\n",
       "      <td>107760</td>\n",
       "      <td>---</td>\n",
       "      <td>---</td>\n",
       "    </tr>\n",
       "    <tr>\n",
       "      <th>session_start</th>\n",
       "      <td>309901</td>\n",
       "      <td>306813</td>\n",
       "      <td>2019-06-27 14:56:41</td>\n",
       "      <td>3</td>\n",
       "      <td>2019-05-01 00:00:41</td>\n",
       "      <td>2019-10-31 23:59:23</td>\n",
       "    </tr>\n",
       "    <tr>\n",
       "      <th>session_end</th>\n",
       "      <td>309901</td>\n",
       "      <td>306793</td>\n",
       "      <td>2019-07-16 02:23:30</td>\n",
       "      <td>3</td>\n",
       "      <td>2019-05-01 00:07:06</td>\n",
       "      <td>2019-11-01 01:38:46</td>\n",
       "    </tr>\n",
       "  </tbody>\n",
       "</table>\n",
       "</div>"
      ],
      "text/plain": [
       "                count  unique                  top    freq  \\\n",
       "region         309901       4        United States  207327   \n",
       "device         309901       4               iPhone  112603   \n",
       "channel        309901      11              organic  107760   \n",
       "session_start  309901  306813  2019-06-27 14:56:41       3   \n",
       "session_end    309901  306793  2019-07-16 02:23:30       3   \n",
       "\n",
       "                             first                 last  \n",
       "region                         ---                  ---  \n",
       "device                         ---                  ---  \n",
       "channel                        ---                  ---  \n",
       "session_start  2019-05-01 00:00:41  2019-10-31 23:59:23  \n",
       "session_end    2019-05-01 00:07:06  2019-11-01 01:38:46  "
      ]
     },
     "execution_count": 16,
     "metadata": {},
     "output_type": "execute_result"
    }
   ],
   "source": [
    "calc.visits.describe(exclude=['int64']).T.fillna('---')"
   ]
  },
  {
   "cell_type": "markdown",
   "id": "5cdee669-1a53-43e1-a23e-55cb42d2a046",
   "metadata": {},
   "source": [
    "Проверим записи о пользователях из каких стран содержит таблица, определим процент платящих:"
   ]
  },
  {
   "cell_type": "code",
   "execution_count": 17,
   "id": "300326ee-7eb1-4b5b-b5f9-347a8f554ea1",
   "metadata": {},
   "outputs": [
    {
     "data": {
      "text/html": [
       "<div>\n",
       "<style scoped>\n",
       "    .dataframe tbody tr th:only-of-type {\n",
       "        vertical-align: middle;\n",
       "    }\n",
       "\n",
       "    .dataframe tbody tr th {\n",
       "        vertical-align: top;\n",
       "    }\n",
       "\n",
       "    .dataframe thead th {\n",
       "        text-align: right;\n",
       "    }\n",
       "</style>\n",
       "<table border=\"1\" class=\"dataframe\">\n",
       "  <thead>\n",
       "    <tr style=\"text-align: right;\">\n",
       "      <th></th>\n",
       "      <th>страна</th>\n",
       "      <th>платящие</th>\n",
       "      <th>% от платящих</th>\n",
       "      <th>число клиентов</th>\n",
       "    </tr>\n",
       "  </thead>\n",
       "  <tbody>\n",
       "    <tr>\n",
       "      <th>0</th>\n",
       "      <td>Germany</td>\n",
       "      <td>616</td>\n",
       "      <td>6.94</td>\n",
       "      <td>14981</td>\n",
       "    </tr>\n",
       "    <tr>\n",
       "      <th>1</th>\n",
       "      <td>France</td>\n",
       "      <td>663</td>\n",
       "      <td>7.47</td>\n",
       "      <td>17450</td>\n",
       "    </tr>\n",
       "    <tr>\n",
       "      <th>2</th>\n",
       "      <td>UK</td>\n",
       "      <td>700</td>\n",
       "      <td>7.88</td>\n",
       "      <td>17575</td>\n",
       "    </tr>\n",
       "    <tr>\n",
       "      <th>3</th>\n",
       "      <td>United States</td>\n",
       "      <td>6902</td>\n",
       "      <td>77.72</td>\n",
       "      <td>100002</td>\n",
       "    </tr>\n",
       "    <tr>\n",
       "      <th>4</th>\n",
       "      <td>---</td>\n",
       "      <td>8881</td>\n",
       "      <td>100.00</td>\n",
       "      <td>150008</td>\n",
       "    </tr>\n",
       "  </tbody>\n",
       "</table>\n",
       "</div>"
      ],
      "text/plain": [
       "          страна  платящие  % от платящих  число клиентов\n",
       "0        Germany       616           6.94           14981\n",
       "1         France       663           7.47           17450\n",
       "2             UK       700           7.88           17575\n",
       "3  United States      6902          77.72          100002\n",
       "4            ---      8881         100.00          150008"
      ]
     },
     "execution_count": 17,
     "metadata": {},
     "output_type": "execute_result"
    }
   ],
   "source": [
    "countries_count_by_payer = calc.grouped_summary(profiles, 'region', 'страна')\n",
    "countries_count_by_payer"
   ]
  },
  {
   "cell_type": "markdown",
   "id": "9c754357-cefc-45dc-9f8d-901746aa1e0d",
   "metadata": {},
   "source": [
    "Визуализируем соотношение пользователей по странам:"
   ]
  },
  {
   "cell_type": "code",
   "execution_count": 18,
   "id": "693ee5b7-63e9-4019-884b-e8346a1e0d57",
   "metadata": {},
   "outputs": [
    {
     "data": {
      "image/png": "[encoded data removed]",
      "text/plain": [
       "<Figure size 560x560 with 1 Axes>"
      ]
     },
     "metadata": {
      "needs_background": "light"
     },
     "output_type": "display_data"
    }
   ],
   "source": [
    "calc.square_plot(profiles, 'region', title='Соотношение числа клиентов из различных стран')"
   ]
  },
  {
   "cell_type": "code",
   "execution_count": 19,
   "id": "43087b2c-7759-4aca-bfb4-26d7c9f41932",
   "metadata": {},
   "outputs": [
    {
     "data": {
      "text/plain": [
       "<Figure size 560x560 with 0 Axes>"
      ]
     },
     "metadata": {},
     "output_type": "display_data"
    },
    {
     "data": {
      "image/png": "[encoded data removed]",
      "text/plain": [
       "<Figure size 453.6x504 with 1 Axes>"
      ]
     },
     "metadata": {},
     "output_type": "display_data"
    }
   ],
   "source": [
    "title = 'Страны по числу платящих пользователей'\n",
    "xlabel = 'Страна'\n",
    "ylabel = 'Число пользователей'\n",
    "data = countries_count_by_payer.iloc[:4].sort_values(by='платящие', ascending=False)\n",
    "calc.sns_catplot(x='страна', y='платящие', data=data, title=title, xlabel=xlabel, ylabel=ylabel)"
   ]
  },
  {
   "cell_type": "markdown",
   "id": "8a1bca43-f47f-4da5-8215-840f2bd1303e",
   "metadata": {},
   "source": [
    "&#9889; **Вывод:**\n",
    "- из 309 901 наблюдений - 207 327 (67%) сделаны в отношении пользователей из США,\n",
    "- в датасете 150 008 уникальных пользователей, из которых платят 8881 (6%).\n",
    "- из 8881 платящих пользователей - 6902 (77.72%) из США, 700 (7.88%) из Великобритании, 663 (7.47%) из Франции и 616 (6.94%) из Германии."
   ]
  },
  {
   "cell_type": "markdown",
   "id": "0b24df49-87d1-4cb6-a749-e0fed1c6a3ab",
   "metadata": {},
   "source": [
    "[В оглавление](#TOC)"
   ]
  },
  {
   "cell_type": "markdown",
   "id": "b1ecb8ec-586b-4882-8de6-7bf081ec0584",
   "metadata": {
    "tags": []
   },
   "source": [
    "### - устройства пользователей<a class='anchor' id='2_3_2'></a>"
   ]
  },
  {
   "cell_type": "code",
   "execution_count": 20,
   "id": "10d0fe66-93e1-4e15-a997-acc10ea4cff7",
   "metadata": {},
   "outputs": [
    {
     "data": {
      "text/html": [
       "<div>\n",
       "<style scoped>\n",
       "    .dataframe tbody tr th:only-of-type {\n",
       "        vertical-align: middle;\n",
       "    }\n",
       "\n",
       "    .dataframe tbody tr th {\n",
       "        vertical-align: top;\n",
       "    }\n",
       "\n",
       "    .dataframe thead th {\n",
       "        text-align: right;\n",
       "    }\n",
       "</style>\n",
       "<table border=\"1\" class=\"dataframe\">\n",
       "  <thead>\n",
       "    <tr style=\"text-align: right;\">\n",
       "      <th></th>\n",
       "      <th>устройство</th>\n",
       "      <th>платящие</th>\n",
       "      <th>% от платящих</th>\n",
       "      <th>число клиентов</th>\n",
       "    </tr>\n",
       "  </thead>\n",
       "  <tbody>\n",
       "    <tr>\n",
       "      <th>0</th>\n",
       "      <td>PC</td>\n",
       "      <td>1537</td>\n",
       "      <td>17.31</td>\n",
       "      <td>30455</td>\n",
       "    </tr>\n",
       "    <tr>\n",
       "      <th>1</th>\n",
       "      <td>Mac</td>\n",
       "      <td>1912</td>\n",
       "      <td>21.53</td>\n",
       "      <td>30042</td>\n",
       "    </tr>\n",
       "    <tr>\n",
       "      <th>2</th>\n",
       "      <td>Android</td>\n",
       "      <td>2050</td>\n",
       "      <td>23.08</td>\n",
       "      <td>35032</td>\n",
       "    </tr>\n",
       "    <tr>\n",
       "      <th>3</th>\n",
       "      <td>iPhone</td>\n",
       "      <td>3382</td>\n",
       "      <td>38.08</td>\n",
       "      <td>54479</td>\n",
       "    </tr>\n",
       "    <tr>\n",
       "      <th>4</th>\n",
       "      <td>---</td>\n",
       "      <td>8881</td>\n",
       "      <td>100.00</td>\n",
       "      <td>150008</td>\n",
       "    </tr>\n",
       "  </tbody>\n",
       "</table>\n",
       "</div>"
      ],
      "text/plain": [
       "  устройство  платящие  % от платящих  число клиентов\n",
       "0         PC      1537          17.31           30455\n",
       "1        Mac      1912          21.53           30042\n",
       "2    Android      2050          23.08           35032\n",
       "3     iPhone      3382          38.08           54479\n",
       "4        ---      8881         100.00          150008"
      ]
     },
     "execution_count": 20,
     "metadata": {},
     "output_type": "execute_result"
    }
   ],
   "source": [
    "devices_by_payer = calc.grouped_summary(profiles, 'device', 'устройство')\n",
    "devices_by_payer"
   ]
  },
  {
   "cell_type": "markdown",
   "id": "145ea7cb-f630-4d87-a34d-2042156b6d4e",
   "metadata": {},
   "source": [
    "Визуализируем соотношение устройств по числу уникальных пользователей:"
   ]
  },
  {
   "cell_type": "code",
   "execution_count": 21,
   "id": "108c34d9-1c46-4f41-be28-d19c4d618ab5",
   "metadata": {},
   "outputs": [
    {
     "data": {
      "image/png": "[encoded data removed]",
      "text/plain": [
       "<Figure size 560x560 with 1 Axes>"
      ]
     },
     "metadata": {},
     "output_type": "display_data"
    }
   ],
   "source": [
    "calc.square_plot(profiles, 'device', title='Соотношение различных устройств клиентов')"
   ]
  },
  {
   "cell_type": "code",
   "execution_count": 22,
   "id": "888f0daa-1241-4017-9af6-84c325b9b9f2",
   "metadata": {},
   "outputs": [
    {
     "data": {
      "text/plain": [
       "<Figure size 560x560 with 0 Axes>"
      ]
     },
     "metadata": {},
     "output_type": "display_data"
    },
    {
     "data": {
      "image/png": "[encoded data removed]",
      "text/plain": [
       "<Figure size 453.6x504 with 1 Axes>"
      ]
     },
     "metadata": {},
     "output_type": "display_data"
    }
   ],
   "source": [
    "title = 'Устройства по числу платящих пользователей'\n",
    "xlabel = 'Устройство'\n",
    "ylabel = 'Число пользователей'\n",
    "data = devices_by_payer.iloc[:4].sort_values(by='платящие', ascending=False)\n",
    "calc.sns_catplot(x='устройство', y='платящие', data=data, title=title, xlabel=xlabel, ylabel=ylabel)"
   ]
  },
  {
   "cell_type": "markdown",
   "id": "e81b30bb-a6bb-4386-8753-8d5478e83b0c",
   "metadata": {},
   "source": [
    "&#9889; **Вывод:**\n",
    "- клиенты пользвуются приложением с четырех устройств - PC, Mac, Android, iPhone,\n",
    "- наблюдения об устройствах распределены равномернее, чем между странами,\n",
    "- из 8881 платящих - 3382 (38.08%) пользователей iPhone, 2050 (23.08%) пользователей Android, 1912 пользователей Mac (21.53%), пользователей PC (17.31%)."
   ]
  },
  {
   "cell_type": "markdown",
   "id": "82c33770-0388-4c0a-95cc-3e34a4b42e95",
   "metadata": {},
   "source": [
    "[В оглавление](#TOC)"
   ]
  },
  {
   "cell_type": "markdown",
   "id": "84b86587-6808-414a-8a43-d3ebb4f019d1",
   "metadata": {},
   "source": [
    "### - информация о покупках<a class='anchor' id='2_3_3'></a>"
   ]
  },
  {
   "cell_type": "code",
   "execution_count": 23,
   "id": "3c4f9736-3353-4485-8e6f-50f9f8e5ef7c",
   "metadata": {},
   "outputs": [
    {
     "data": {
      "text/html": [
       "<div>\n",
       "<style scoped>\n",
       "    .dataframe tbody tr th:only-of-type {\n",
       "        vertical-align: middle;\n",
       "    }\n",
       "\n",
       "    .dataframe tbody tr th {\n",
       "        vertical-align: top;\n",
       "    }\n",
       "\n",
       "    .dataframe thead th {\n",
       "        text-align: right;\n",
       "    }\n",
       "</style>\n",
       "<table border=\"1\" class=\"dataframe\">\n",
       "  <thead>\n",
       "    <tr style=\"text-align: right;\">\n",
       "      <th></th>\n",
       "      <th>count</th>\n",
       "      <th>mean</th>\n",
       "      <th>std</th>\n",
       "      <th>min</th>\n",
       "      <th>25%</th>\n",
       "      <th>50%</th>\n",
       "      <th>75%</th>\n",
       "      <th>max</th>\n",
       "    </tr>\n",
       "  </thead>\n",
       "  <tbody>\n",
       "    <tr>\n",
       "      <th>revenue</th>\n",
       "      <td>40212.00</td>\n",
       "      <td>5.37</td>\n",
       "      <td>3.45</td>\n",
       "      <td>4.99</td>\n",
       "      <td>4.99</td>\n",
       "      <td>4.99</td>\n",
       "      <td>4.99</td>\n",
       "      <td>49.99</td>\n",
       "    </tr>\n",
       "  </tbody>\n",
       "</table>\n",
       "</div>"
      ],
      "text/plain": [
       "           count  mean  std  min  25%  50%  75%   max\n",
       "revenue 40212.00  5.37 3.45 4.99 4.99 4.99 4.99 49.99"
      ]
     },
     "execution_count": 23,
     "metadata": {},
     "output_type": "execute_result"
    }
   ],
   "source": [
    "calc.orders.describe(include=['float64']).T"
   ]
  },
  {
   "cell_type": "code",
   "execution_count": 24,
   "id": "03786440-484f-4e20-a95c-9780fd95a3cd",
   "metadata": {},
   "outputs": [
    {
     "data": {
      "text/html": [
       "<div>\n",
       "<style scoped>\n",
       "    .dataframe tbody tr th:only-of-type {\n",
       "        vertical-align: middle;\n",
       "    }\n",
       "\n",
       "    .dataframe tbody tr th {\n",
       "        vertical-align: top;\n",
       "    }\n",
       "\n",
       "    .dataframe thead th {\n",
       "        text-align: right;\n",
       "    }\n",
       "</style>\n",
       "<table border=\"1\" class=\"dataframe\">\n",
       "  <thead>\n",
       "    <tr style=\"text-align: right;\">\n",
       "      <th></th>\n",
       "      <th>count</th>\n",
       "      <th>unique</th>\n",
       "      <th>top</th>\n",
       "      <th>freq</th>\n",
       "      <th>first</th>\n",
       "      <th>last</th>\n",
       "    </tr>\n",
       "  </thead>\n",
       "  <tbody>\n",
       "    <tr>\n",
       "      <th>event_dt</th>\n",
       "      <td>40212</td>\n",
       "      <td>40163</td>\n",
       "      <td>2019-10-26 06:49:22</td>\n",
       "      <td>2</td>\n",
       "      <td>2019-05-01 00:28:11</td>\n",
       "      <td>2019-10-31 23:56:56</td>\n",
       "    </tr>\n",
       "  </tbody>\n",
       "</table>\n",
       "</div>"
      ],
      "text/plain": [
       "          count unique                 top freq               first  \\\n",
       "event_dt  40212  40163 2019-10-26 06:49:22    2 2019-05-01 00:28:11   \n",
       "\n",
       "                        last  \n",
       "event_dt 2019-10-31 23:56:56  "
      ]
     },
     "execution_count": 24,
     "metadata": {},
     "output_type": "execute_result"
    }
   ],
   "source": [
    "calc.orders.describe(include=['object', 'datetime64[ns]']).T"
   ]
  },
  {
   "cell_type": "markdown",
   "id": "7776d478-1b95-4f58-9de6-82eb593d3487",
   "metadata": {},
   "source": [
    "С учетом того, что 75%-процентиль - 4.99 (совпадающий с медианой, 25%-процентилем и минимуом), максимальная сумма выручки - 49.99, проверим какие значения выручки есть в датасете:"
   ]
  },
  {
   "cell_type": "code",
   "execution_count": 25,
   "id": "5a0d8c4e-8825-4395-a329-6fcbdac05ea0",
   "metadata": {},
   "outputs": [
    {
     "data": {
      "text/plain": [
       "[4.99, 5.99, 9.99, 19.99, 49.99]"
      ]
     },
     "execution_count": 25,
     "metadata": {},
     "output_type": "execute_result"
    }
   ],
   "source": [
    "sorted(calc.orders.revenue.unique())"
   ]
  },
  {
   "cell_type": "markdown",
   "id": "a1db49e9-5528-4e3b-9fda-c54139970eec",
   "metadata": {},
   "source": [
    "Всего пять значений стоимости услуги. Проверим сколько пользователей платят больше 4.99, возможно, таких пользователей стоит рассматривать отдельно:"
   ]
  },
  {
   "cell_type": "code",
   "execution_count": 26,
   "id": "6a9758aa-cec2-4e9d-8bfe-166ac59ae9b2",
   "metadata": {},
   "outputs": [
    {
     "data": {
      "text/html": [
       "<div>\n",
       "<style scoped>\n",
       "    .dataframe tbody tr th:only-of-type {\n",
       "        vertical-align: middle;\n",
       "    }\n",
       "\n",
       "    .dataframe tbody tr th {\n",
       "        vertical-align: top;\n",
       "    }\n",
       "\n",
       "    .dataframe thead th {\n",
       "        text-align: right;\n",
       "    }\n",
       "</style>\n",
       "<table border=\"1\" class=\"dataframe\">\n",
       "  <thead>\n",
       "    <tr style=\"text-align: right;\">\n",
       "      <th></th>\n",
       "      <th>revenue</th>\n",
       "      <th>user_id</th>\n",
       "      <th>%</th>\n",
       "    </tr>\n",
       "  </thead>\n",
       "  <tbody>\n",
       "    <tr>\n",
       "      <th>0</th>\n",
       "      <td>4.99</td>\n",
       "      <td>38631</td>\n",
       "      <td>96.07</td>\n",
       "    </tr>\n",
       "    <tr>\n",
       "      <th>1</th>\n",
       "      <td>5.99</td>\n",
       "      <td>780</td>\n",
       "      <td>1.94</td>\n",
       "    </tr>\n",
       "    <tr>\n",
       "      <th>2</th>\n",
       "      <td>9.99</td>\n",
       "      <td>385</td>\n",
       "      <td>0.96</td>\n",
       "    </tr>\n",
       "    <tr>\n",
       "      <th>3</th>\n",
       "      <td>19.99</td>\n",
       "      <td>204</td>\n",
       "      <td>0.51</td>\n",
       "    </tr>\n",
       "    <tr>\n",
       "      <th>4</th>\n",
       "      <td>49.99</td>\n",
       "      <td>212</td>\n",
       "      <td>0.53</td>\n",
       "    </tr>\n",
       "  </tbody>\n",
       "</table>\n",
       "</div>"
      ],
      "text/plain": [
       "   revenue  user_id     %\n",
       "0     4.99    38631 96.07\n",
       "1     5.99      780  1.94\n",
       "2     9.99      385  0.96\n",
       "3    19.99      204  0.51\n",
       "4    49.99      212  0.53"
      ]
     },
     "execution_count": 26,
     "metadata": {},
     "output_type": "execute_result"
    }
   ],
   "source": [
    "max_revenue = calc.orders.groupby('revenue').agg({'user_id': 'count'}).reset_index()\n",
    "max_revenue['%'] = (max_revenue['user_id'] / len(calc.orders)) * 100\n",
    "max_revenue"
   ]
  },
  {
   "cell_type": "markdown",
   "id": "ab6c610c-baac-4e8d-8e7d-ad053c7c2f5a",
   "metadata": {},
   "source": [
    "Примерно 5% пользователей платят больше базовой стоимости. Посчитаем общее число таких пользователей:"
   ]
  },
  {
   "cell_type": "code",
   "execution_count": 27,
   "id": "304af81b-ce37-45f8-87a6-ab3471753fde",
   "metadata": {},
   "outputs": [
    {
     "data": {
      "text/plain": [
       "1581"
      ]
     },
     "execution_count": 27,
     "metadata": {},
     "output_type": "execute_result"
    }
   ],
   "source": [
    "sum(max_revenue[max_revenue['revenue'] > 4.99]['user_id'])"
   ]
  },
  {
   "cell_type": "markdown",
   "id": "05c49d9d-7e49-4e1f-a968-364ef53c5739",
   "metadata": {},
   "source": [
    "&#9889; **Вывод**\n",
    "\n",
    "В датасете с информацией о покупках:\n",
    "\n",
    "- остутствуют сведения о валюте в которой выражена выручка,\n",
    "- принимая во внимание, что 67% пользователей из США, можно предположить, что валюта выручки - доллары США,\n",
    "- выявлено 5 различных стоимостей услуг - 4.99, 5.99, 9.99, 19.99, 49.99.\n",
    "- минимальная сумма выручки - 4.99, средняя - 5.37 (при медианной и 75%-процентиле - 4.99), максимальная - 49.99,\n",
    "- из 40 185 платящих пользователей - 1581 (4%) платит больше базового тарифа,\n",
    "- самое раннее наблюдение о первом действии совпадает с датасетом о посещениях - 01.05.2019 года, самое позднее - 31.10.2019 года."
   ]
  },
  {
   "cell_type": "markdown",
   "id": "9a3fb69d-47db-451b-ab0f-543b38745fb3",
   "metadata": {},
   "source": [
    "[В оглавление](#TOC)"
   ]
  },
  {
   "cell_type": "markdown",
   "id": "b5425ce0-31ce-477e-9282-fc334f7d83a3",
   "metadata": {
    "tags": []
   },
   "source": [
    "### - каналы привлечения пользователей<a class='anchor' id='2_3_4'></a>"
   ]
  },
  {
   "cell_type": "code",
   "execution_count": 28,
   "id": "9fa3ea66-1338-4b7e-ba27-f76ec47531eb",
   "metadata": {},
   "outputs": [
    {
     "data": {
      "text/html": [
       "<div>\n",
       "<style scoped>\n",
       "    .dataframe tbody tr th:only-of-type {\n",
       "        vertical-align: middle;\n",
       "    }\n",
       "\n",
       "    .dataframe tbody tr th {\n",
       "        vertical-align: top;\n",
       "    }\n",
       "\n",
       "    .dataframe thead th {\n",
       "        text-align: right;\n",
       "    }\n",
       "</style>\n",
       "<table border=\"1\" class=\"dataframe\">\n",
       "  <thead>\n",
       "    <tr style=\"text-align: right;\">\n",
       "      <th></th>\n",
       "      <th>канал</th>\n",
       "      <th>платящие</th>\n",
       "      <th>% от платящих</th>\n",
       "      <th>число клиентов</th>\n",
       "    </tr>\n",
       "  </thead>\n",
       "  <tbody>\n",
       "    <tr>\n",
       "      <th>0</th>\n",
       "      <td>MediaTornado</td>\n",
       "      <td>156</td>\n",
       "      <td>1.76</td>\n",
       "      <td>4364</td>\n",
       "    </tr>\n",
       "    <tr>\n",
       "      <th>1</th>\n",
       "      <td>YRabbit</td>\n",
       "      <td>165</td>\n",
       "      <td>1.86</td>\n",
       "      <td>4312</td>\n",
       "    </tr>\n",
       "    <tr>\n",
       "      <th>2</th>\n",
       "      <td>lambdaMediaAds</td>\n",
       "      <td>225</td>\n",
       "      <td>2.53</td>\n",
       "      <td>2149</td>\n",
       "    </tr>\n",
       "    <tr>\n",
       "      <th>3</th>\n",
       "      <td>OppleCreativeMedia</td>\n",
       "      <td>233</td>\n",
       "      <td>2.62</td>\n",
       "      <td>8605</td>\n",
       "    </tr>\n",
       "    <tr>\n",
       "      <th>4</th>\n",
       "      <td>LeapBob</td>\n",
       "      <td>262</td>\n",
       "      <td>2.95</td>\n",
       "      <td>8553</td>\n",
       "    </tr>\n",
       "    <tr>\n",
       "      <th>5</th>\n",
       "      <td>RocketSuperAds</td>\n",
       "      <td>352</td>\n",
       "      <td>3.96</td>\n",
       "      <td>4448</td>\n",
       "    </tr>\n",
       "    <tr>\n",
       "      <th>6</th>\n",
       "      <td>AdNonSense</td>\n",
       "      <td>440</td>\n",
       "      <td>4.95</td>\n",
       "      <td>3880</td>\n",
       "    </tr>\n",
       "    <tr>\n",
       "      <th>7</th>\n",
       "      <td>WahooNetBanner</td>\n",
       "      <td>453</td>\n",
       "      <td>5.10</td>\n",
       "      <td>8553</td>\n",
       "    </tr>\n",
       "    <tr>\n",
       "      <th>8</th>\n",
       "      <td>organic</td>\n",
       "      <td>1160</td>\n",
       "      <td>13.06</td>\n",
       "      <td>56439</td>\n",
       "    </tr>\n",
       "    <tr>\n",
       "      <th>9</th>\n",
       "      <td>TipTop</td>\n",
       "      <td>1878</td>\n",
       "      <td>21.15</td>\n",
       "      <td>19561</td>\n",
       "    </tr>\n",
       "    <tr>\n",
       "      <th>10</th>\n",
       "      <td>FaceBoom</td>\n",
       "      <td>3557</td>\n",
       "      <td>40.05</td>\n",
       "      <td>29144</td>\n",
       "    </tr>\n",
       "    <tr>\n",
       "      <th>11</th>\n",
       "      <td>---</td>\n",
       "      <td>8881</td>\n",
       "      <td>100.00</td>\n",
       "      <td>150008</td>\n",
       "    </tr>\n",
       "  </tbody>\n",
       "</table>\n",
       "</div>"
      ],
      "text/plain": [
       "                 канал  платящие  % от платящих  число клиентов\n",
       "0         MediaTornado       156           1.76            4364\n",
       "1              YRabbit       165           1.86            4312\n",
       "2       lambdaMediaAds       225           2.53            2149\n",
       "3   OppleCreativeMedia       233           2.62            8605\n",
       "4              LeapBob       262           2.95            8553\n",
       "5       RocketSuperAds       352           3.96            4448\n",
       "6           AdNonSense       440           4.95            3880\n",
       "7       WahooNetBanner       453           5.10            8553\n",
       "8              organic      1160          13.06           56439\n",
       "9               TipTop      1878          21.15           19561\n",
       "10            FaceBoom      3557          40.05           29144\n",
       "11                 ---      8881         100.00          150008"
      ]
     },
     "execution_count": 28,
     "metadata": {},
     "output_type": "execute_result"
    }
   ],
   "source": [
    "channels_by_payer = calc.grouped_summary(profiles, 'channel', 'канал')\n",
    "channels_by_payer"
   ]
  },
  {
   "cell_type": "markdown",
   "id": "bd8b88e8-75df-4822-a04e-c55ebeb1821b",
   "metadata": {},
   "source": [
    "Визуализируем соотношение уникальных пользователей по источникам привлечения:"
   ]
  },
  {
   "cell_type": "code",
   "execution_count": 29,
   "id": "977a6062-215a-4ae2-8056-f6123c251b23",
   "metadata": {},
   "outputs": [
    {
     "data": {
      "image/png": "[encoded data removed]",
      "text/plain": [
       "<Figure size 560x560 with 1 Axes>"
      ]
     },
     "metadata": {},
     "output_type": "display_data"
    }
   ],
   "source": [
    "calc.square_plot(profiles, 'channel', title='Соотношение различных источников привлечения клиентов')"
   ]
  },
  {
   "cell_type": "code",
   "execution_count": 30,
   "id": "edc7f15e-c684-45ed-b285-46c58dd10efb",
   "metadata": {},
   "outputs": [
    {
     "data": {
      "text/plain": [
       "<Figure size 560x560 with 0 Axes>"
      ]
     },
     "metadata": {},
     "output_type": "display_data"
    },
    {
     "data": {
      "image/png": "[encoded data removed]",
      "text/plain": [
       "<Figure size 453.6x504 with 1 Axes>"
      ]
     },
     "metadata": {},
     "output_type": "display_data"
    }
   ],
   "source": [
    "title = 'Пользователи по каждому из каналов привлечения'\n",
    "xlabel = 'Рекламный канал'\n",
    "ylabel = 'Число привлеченных пользователей'\n",
    "data = channels_by_payer.iloc[:10].sort_values(by='платящие', ascending=False)\n",
    "calc.sns_catplot(x='канал', y='платящие', data=data, title=title, xlabel=xlabel, ylabel=ylabel)"
   ]
  },
  {
   "cell_type": "markdown",
   "id": "317120ec-e59d-422e-bd39-14621e02920f",
   "metadata": {},
   "source": [
    "&#9889; **Вывод:**\n",
    "\n",
    "- одиннадцать источников привлечения клиентов: один естественный, без посредников, десять - рекламные каналы,\n",
    "- без посредников пришло более трети уникальных пользователей - 56 439 (37.6 %), из которых 1160 конвертировались в платящих (13.06% от платящих пользователей),\n",
    "- из платящих 61.2% пришли из двух источников - 3557 (40.05%) пользователей привел FaceBoom, 1878 (21.15%) TipTop,\n",
    "- с учетом естественного источника, FaceBoom и TipTop на - оставшиеся 25.74% приходятся на 8 других каналов,\n",
    "- эффективность каналов еще предстоит выяснить, но доля FaceBoom и TipTop из десяти платных впечатляет."
   ]
  },
  {
   "cell_type": "markdown",
   "id": "8d8ff36d-d6ea-40a4-9a6c-2c4fcd9646cf",
   "metadata": {},
   "source": [
    "[В оглавление](#TOC)"
   ]
  },
  {
   "cell_type": "markdown",
   "id": "d4f3e6d6-8da9-43d5-bfd2-7cc64270495a",
   "metadata": {
    "tags": []
   },
   "source": [
    "### - информация о расходах<a class='anchor' id='2_3_5'></a>"
   ]
  },
  {
   "cell_type": "code",
   "execution_count": 31,
   "id": "e40b466b-153e-4323-8008-44f6499cf9d6",
   "metadata": {},
   "outputs": [
    {
     "data": {
      "text/html": [
       "<div>\n",
       "<style scoped>\n",
       "    .dataframe tbody tr th:only-of-type {\n",
       "        vertical-align: middle;\n",
       "    }\n",
       "\n",
       "    .dataframe tbody tr th {\n",
       "        vertical-align: top;\n",
       "    }\n",
       "\n",
       "    .dataframe thead th {\n",
       "        text-align: right;\n",
       "    }\n",
       "</style>\n",
       "<table border=\"1\" class=\"dataframe\">\n",
       "  <thead>\n",
       "    <tr style=\"text-align: right;\">\n",
       "      <th></th>\n",
       "      <th>count</th>\n",
       "      <th>mean</th>\n",
       "      <th>std</th>\n",
       "      <th>min</th>\n",
       "      <th>25%</th>\n",
       "      <th>50%</th>\n",
       "      <th>75%</th>\n",
       "      <th>max</th>\n",
       "    </tr>\n",
       "  </thead>\n",
       "  <tbody>\n",
       "    <tr>\n",
       "      <th>costs</th>\n",
       "      <td>1800.00</td>\n",
       "      <td>58.61</td>\n",
       "      <td>107.74</td>\n",
       "      <td>0.80</td>\n",
       "      <td>6.50</td>\n",
       "      <td>12.29</td>\n",
       "      <td>33.60</td>\n",
       "      <td>630.00</td>\n",
       "    </tr>\n",
       "  </tbody>\n",
       "</table>\n",
       "</div>"
      ],
      "text/plain": [
       "        count  mean    std  min  25%   50%   75%    max\n",
       "costs 1800.00 58.61 107.74 0.80 6.50 12.29 33.60 630.00"
      ]
     },
     "execution_count": 31,
     "metadata": {},
     "output_type": "execute_result"
    }
   ],
   "source": [
    "calc.costs.describe().T"
   ]
  },
  {
   "cell_type": "markdown",
   "id": "bf0aafb9-4d39-4987-b7c4-b630375669a7",
   "metadata": {},
   "source": [
    "Минимально - 0.80, средняя стоимость источника - 58.61 (при медианой - 12.29 и 75%-процентиле равным 33.60). Есть очень дорогие источники. Проверим среднюю стоимость привлечения по каждому источнику в разрезе на клиента: "
   ]
  },
  {
   "cell_type": "code",
   "execution_count": 32,
   "id": "2ceb7888-138a-45e7-adfd-0820b7a194d0",
   "metadata": {},
   "outputs": [
    {
     "data": {
      "text/html": [
       "<div>\n",
       "<style scoped>\n",
       "    .dataframe tbody tr th:only-of-type {\n",
       "        vertical-align: middle;\n",
       "    }\n",
       "\n",
       "    .dataframe tbody tr th {\n",
       "        vertical-align: top;\n",
       "    }\n",
       "\n",
       "    .dataframe thead th {\n",
       "        text-align: right;\n",
       "    }\n",
       "</style>\n",
       "<table border=\"1\" class=\"dataframe\">\n",
       "  <thead>\n",
       "    <tr style=\"text-align: right;\">\n",
       "      <th></th>\n",
       "      <th>канал</th>\n",
       "      <th>сумма трат</th>\n",
       "      <th>% от рекламного бюджета</th>\n",
       "      <th>платящие</th>\n",
       "      <th>% от платящих</th>\n",
       "      <th>число клиентов</th>\n",
       "      <th>стоимость клиента</th>\n",
       "      <th>число обращений</th>\n",
       "    </tr>\n",
       "  </thead>\n",
       "  <tbody>\n",
       "    <tr>\n",
       "      <th>0</th>\n",
       "      <td>organic</td>\n",
       "      <td>0.00</td>\n",
       "      <td>0.00</td>\n",
       "      <td>1160</td>\n",
       "      <td>13.06</td>\n",
       "      <td>56439</td>\n",
       "      <td>0.00</td>\n",
       "      <td>0.00</td>\n",
       "    </tr>\n",
       "    <tr>\n",
       "      <th>1</th>\n",
       "      <td>YRabbit</td>\n",
       "      <td>944.22</td>\n",
       "      <td>0.90</td>\n",
       "      <td>165</td>\n",
       "      <td>1.86</td>\n",
       "      <td>4312</td>\n",
       "      <td>0.22</td>\n",
       "      <td>180.00</td>\n",
       "    </tr>\n",
       "    <tr>\n",
       "      <th>2</th>\n",
       "      <td>MediaTornado</td>\n",
       "      <td>954.48</td>\n",
       "      <td>0.90</td>\n",
       "      <td>156</td>\n",
       "      <td>1.76</td>\n",
       "      <td>4364</td>\n",
       "      <td>0.22</td>\n",
       "      <td>180.00</td>\n",
       "    </tr>\n",
       "    <tr>\n",
       "      <th>3</th>\n",
       "      <td>lambdaMediaAds</td>\n",
       "      <td>1557.60</td>\n",
       "      <td>1.48</td>\n",
       "      <td>225</td>\n",
       "      <td>2.53</td>\n",
       "      <td>2149</td>\n",
       "      <td>0.72</td>\n",
       "      <td>180.00</td>\n",
       "    </tr>\n",
       "    <tr>\n",
       "      <th>4</th>\n",
       "      <td>LeapBob</td>\n",
       "      <td>1797.60</td>\n",
       "      <td>1.70</td>\n",
       "      <td>262</td>\n",
       "      <td>2.95</td>\n",
       "      <td>8553</td>\n",
       "      <td>0.21</td>\n",
       "      <td>180.00</td>\n",
       "    </tr>\n",
       "    <tr>\n",
       "      <th>5</th>\n",
       "      <td>RocketSuperAds</td>\n",
       "      <td>1833.00</td>\n",
       "      <td>1.74</td>\n",
       "      <td>352</td>\n",
       "      <td>3.96</td>\n",
       "      <td>4448</td>\n",
       "      <td>0.41</td>\n",
       "      <td>180.00</td>\n",
       "    </tr>\n",
       "    <tr>\n",
       "      <th>6</th>\n",
       "      <td>OppleCreativeMedia</td>\n",
       "      <td>2151.25</td>\n",
       "      <td>2.04</td>\n",
       "      <td>233</td>\n",
       "      <td>2.62</td>\n",
       "      <td>8605</td>\n",
       "      <td>0.25</td>\n",
       "      <td>180.00</td>\n",
       "    </tr>\n",
       "    <tr>\n",
       "      <th>7</th>\n",
       "      <td>AdNonSense</td>\n",
       "      <td>3911.25</td>\n",
       "      <td>3.71</td>\n",
       "      <td>440</td>\n",
       "      <td>4.95</td>\n",
       "      <td>3880</td>\n",
       "      <td>1.01</td>\n",
       "      <td>180.00</td>\n",
       "    </tr>\n",
       "    <tr>\n",
       "      <th>8</th>\n",
       "      <td>WahooNetBanner</td>\n",
       "      <td>5151.00</td>\n",
       "      <td>4.88</td>\n",
       "      <td>453</td>\n",
       "      <td>5.10</td>\n",
       "      <td>8553</td>\n",
       "      <td>0.60</td>\n",
       "      <td>180.00</td>\n",
       "    </tr>\n",
       "    <tr>\n",
       "      <th>9</th>\n",
       "      <td>FaceBoom</td>\n",
       "      <td>32445.60</td>\n",
       "      <td>30.75</td>\n",
       "      <td>3557</td>\n",
       "      <td>40.05</td>\n",
       "      <td>29144</td>\n",
       "      <td>1.11</td>\n",
       "      <td>180.00</td>\n",
       "    </tr>\n",
       "    <tr>\n",
       "      <th>10</th>\n",
       "      <td>TipTop</td>\n",
       "      <td>54751.30</td>\n",
       "      <td>51.90</td>\n",
       "      <td>1878</td>\n",
       "      <td>21.15</td>\n",
       "      <td>19561</td>\n",
       "      <td>2.80</td>\n",
       "      <td>180.00</td>\n",
       "    </tr>\n",
       "    <tr>\n",
       "      <th>11</th>\n",
       "      <td>---</td>\n",
       "      <td>105497.30</td>\n",
       "      <td>100.00</td>\n",
       "      <td>8881</td>\n",
       "      <td>100.00</td>\n",
       "      <td>150008</td>\n",
       "      <td>7.56</td>\n",
       "      <td>1800.00</td>\n",
       "    </tr>\n",
       "  </tbody>\n",
       "</table>\n",
       "</div>"
      ],
      "text/plain": [
       "                 канал  сумма трат  % от рекламного бюджета  платящие  \\\n",
       "0              organic        0.00                     0.00      1160   \n",
       "1              YRabbit      944.22                     0.90       165   \n",
       "2         MediaTornado      954.48                     0.90       156   \n",
       "3       lambdaMediaAds     1557.60                     1.48       225   \n",
       "4              LeapBob     1797.60                     1.70       262   \n",
       "5       RocketSuperAds     1833.00                     1.74       352   \n",
       "6   OppleCreativeMedia     2151.25                     2.04       233   \n",
       "7           AdNonSense     3911.25                     3.71       440   \n",
       "8       WahooNetBanner     5151.00                     4.88       453   \n",
       "9             FaceBoom    32445.60                    30.75      3557   \n",
       "10              TipTop    54751.30                    51.90      1878   \n",
       "11                 ---   105497.30                   100.00      8881   \n",
       "\n",
       "    % от платящих  число клиентов  стоимость клиента  число обращений  \n",
       "0           13.06           56439               0.00             0.00  \n",
       "1            1.86            4312               0.22           180.00  \n",
       "2            1.76            4364               0.22           180.00  \n",
       "3            2.53            2149               0.72           180.00  \n",
       "4            2.95            8553               0.21           180.00  \n",
       "5            3.96            4448               0.41           180.00  \n",
       "6            2.62            8605               0.25           180.00  \n",
       "7            4.95            3880               1.01           180.00  \n",
       "8            5.10            8553               0.60           180.00  \n",
       "9           40.05           29144               1.11           180.00  \n",
       "10          21.15           19561               2.80           180.00  \n",
       "11         100.00          150008               7.56          1800.00  "
      ]
     },
     "execution_count": 32,
     "metadata": {},
     "output_type": "execute_result"
    }
   ],
   "source": [
    "# посчитаем сколько раз обращались к каждому источнику\n",
    "applied_to_channel = (calc.costs.groupby('channel')\n",
    "                                .agg({'dt': 'count'})\n",
    "                                .reset_index()\n",
    "                                .rename(columns={'channel': 'канал', 'dt': 'число обращений'}))\n",
    "\n",
    "# посчитаем отдельно среднюю стоимость клиента по источнику, чтобы потом не избавляться от мультиндекса\n",
    "channels_mean_costs = (profiles.groupby('channel')\n",
    "                               .agg({'acquisition_cost': 'mean'})\n",
    "                               .reset_index()\n",
    "                               .rename(columns={'channel': 'канал',\n",
    "                                                'acquisition_cost': 'стоимость клиента'}))\n",
    "\n",
    "# посчитаем затраченную на каждый из каналов сумму и % от бюджета\n",
    "channels_costs = (profiles.groupby('channel')\n",
    "                          .agg({'acquisition_cost': 'sum'})\n",
    "                          .reset_index()\n",
    "                          .sort_values(by='acquisition_cost'))\n",
    "channels_costs['% от рекламного бюджета'] = (channels_costs['acquisition_cost'] * 100 / \n",
    "                                             sum(channels_costs['acquisition_cost']))\n",
    "channels_costs = channels_costs.rename(columns={'channel': 'канал',\n",
    "                                                'acquisition_cost': 'сумма трат',\n",
    "                                                'acquisition_cost_y': 'средняя стоимость'})\n",
    "\n",
    "# объединим таблицу с затратами с таблицей обращений и числом привлеченных\n",
    "channels_costs = channels_costs.merge(channels_by_payer, on='канал')\n",
    "channels_costs = channels_costs.merge(channels_mean_costs, on='канал')\n",
    "channels_costs = channels_costs.merge(applied_to_channel, on='канал')\n",
    "\n",
    "# дополним таблицу строкой с естественным источником\n",
    "organic_row = channels_by_payer.query('канал == \"organic\"')\n",
    "channels_costs = channels_costs.append(organic_row, ignore_index=True).fillna(0)\n",
    "\n",
    "# дополним таблицу суммирующую строку\n",
    "sums_row = pd.Series(['---', sum(channels_costs['сумма трат']),\n",
    "                      sum(channels_costs['% от рекламного бюджета']),\n",
    "                      sum(channels_costs['платящие']),\n",
    "                      sum(channels_costs['% от платящих']),\n",
    "                      sum(channels_costs['число клиентов']),\n",
    "                      sum(channels_costs['стоимость клиента']),\n",
    "                      sum(channels_costs['число обращений'])],\n",
    "                      index=channels_costs.columns)\n",
    "channels_costs = channels_costs.sort_values(by='сумма трат')\n",
    "channels_costs = channels_costs.append(sums_row, ignore_index=True)\n",
    "\n",
    "channels_costs"
   ]
  },
  {
   "cell_type": "markdown",
   "id": "e276c796-8f53-4763-a99e-a1f12f830bd0",
   "metadata": {},
   "source": [
    "Визуализируем траты на каналы:"
   ]
  },
  {
   "cell_type": "code",
   "execution_count": 33,
   "id": "b70332db-97e9-4977-a68e-ae973be54c44",
   "metadata": {},
   "outputs": [
    {
     "data": {
      "text/plain": [
       "<Figure size 560x560 with 0 Axes>"
      ]
     },
     "metadata": {},
     "output_type": "display_data"
    },
    {
     "data": {
      "image/png": "[encoded data removed]",
      "text/plain": [
       "<Figure size 453.6x504 with 1 Axes>"
      ]
     },
     "metadata": {},
     "output_type": "display_data"
    }
   ],
   "source": [
    "data = channels_costs.query('канал not in [\"organic\", \"---\"]').sort_values(by='сумма трат', ascending=False)\n",
    "ylabel = 'Сумма трат'\n",
    "xlabel = 'Источник привлечения'\n",
    "title = 'Сумма трат на источник'\n",
    "calc.sns_catplot(x='канал', y='сумма трат', data=data, xlabel=xlabel, ylabel=ylabel, title=title)"
   ]
  },
  {
   "cell_type": "markdown",
   "id": "3be3a2b5-d4bb-45f5-86c9-ebc0f0b930cc",
   "metadata": {},
   "source": [
    "&#9889; **Вывод:**\n",
    "\n",
    "- к каждому из рекламных источников обращались 180 раз,\n",
    "- самое раннее наблюдение о понесенных расходах - 01.05.2019 года, самое позднее - 27.10.2019 года,\n",
    "- за период от 01.05.2019 до 27.10.2019 года потратили 105 497 долларов,\n",
    "- львиная доля бюджета - 87 196.90 долларов (82.65%) ушла на TipTop - 54751.30 долларов (51.9%) и FaceBoom - 32445.60 долларов (30.75%).\n",
    "- самый дорогой клиент пришел из TipTop - 2.80 долларов, на втором месте клиент из FaceBoom - 1.11 долларов, на третьем месте AdNonSense - 1.01 доллар, клиенты из остальных источников стоили в 60 центов от 21 цента.\n",
    "- кроме FaceBoom и TipTop требуется проверить AdNonSense - через канал приходит совсем мало новых пользователей (3880), и хотя 11% (440) стали платить стоимость клиента в 1.01 доллар соперничает с FaceBoom. То есть канал может быть и эффективный, но из-за масштаба траты на него не оправданы,\n",
    "- исходя из представленных данных, представляется, что самый неэффективный канал TipTop - канал обеспечил 21.15% (1878) от всех платящих (8881), но сумма трат на канал - 54751.30 долларов, стоимость одного клиента 2.80 долларов выбивается из общего ряда.\n"
   ]
  },
  {
   "cell_type": "markdown",
   "id": "93b6c870-a9db-47df-a96d-112ad81a03d3",
   "metadata": {},
   "source": [
    "[В оглавление](#TOC)"
   ]
  },
  {
   "cell_type": "markdown",
   "id": "50089463-f4d6-49e4-9cbb-05112dd15936",
   "metadata": {},
   "source": [
    "### - сравним TipTop со всеми остальными платными каналами<a class='anchor' id='2_3_6'></a>"
   ]
  },
  {
   "cell_type": "code",
   "execution_count": 34,
   "id": "c55f2243-d42b-4307-b1c5-40b93726d7ff",
   "metadata": {},
   "outputs": [
    {
     "data": {
      "text/html": [
       "<div>\n",
       "<style scoped>\n",
       "    .dataframe tbody tr th:only-of-type {\n",
       "        vertical-align: middle;\n",
       "    }\n",
       "\n",
       "    .dataframe tbody tr th {\n",
       "        vertical-align: top;\n",
       "    }\n",
       "\n",
       "    .dataframe thead th {\n",
       "        text-align: right;\n",
       "    }\n",
       "</style>\n",
       "<table border=\"1\" class=\"dataframe\">\n",
       "  <thead>\n",
       "    <tr style=\"text-align: right;\">\n",
       "      <th></th>\n",
       "      <th>аттрибут</th>\n",
       "      <th>TipTop</th>\n",
       "      <th>остальные</th>\n",
       "    </tr>\n",
       "  </thead>\n",
       "  <tbody>\n",
       "    <tr>\n",
       "      <th>1</th>\n",
       "      <td>сумма трат</td>\n",
       "      <td>54751.30</td>\n",
       "      <td>50746.00</td>\n",
       "    </tr>\n",
       "    <tr>\n",
       "      <th>2</th>\n",
       "      <td>% от рекламного бюджета</td>\n",
       "      <td>51.90</td>\n",
       "      <td>48.10</td>\n",
       "    </tr>\n",
       "    <tr>\n",
       "      <th>3</th>\n",
       "      <td>платящие</td>\n",
       "      <td>1878</td>\n",
       "      <td>5843</td>\n",
       "    </tr>\n",
       "    <tr>\n",
       "      <th>4</th>\n",
       "      <td>% от платящих</td>\n",
       "      <td>21.15</td>\n",
       "      <td>65.79</td>\n",
       "    </tr>\n",
       "    <tr>\n",
       "      <th>5</th>\n",
       "      <td>число клиентов</td>\n",
       "      <td>19561</td>\n",
       "      <td>74008</td>\n",
       "    </tr>\n",
       "  </tbody>\n",
       "</table>\n",
       "</div>"
      ],
      "text/plain": [
       "                  аттрибут   TipTop остальные\n",
       "1               сумма трат 54751.30  50746.00\n",
       "2  % от рекламного бюджета    51.90     48.10\n",
       "3                 платящие     1878      5843\n",
       "4            % от платящих    21.15     65.79\n",
       "5           число клиентов    19561     74008"
      ]
     },
     "execution_count": 34,
     "metadata": {},
     "output_type": "execute_result"
    }
   ],
   "source": [
    "# отберем TipTop\n",
    "tip_top = pd.DataFrame(channels_costs.query('канал == \"TipTop\"').sum()).reset_index()\n",
    "tip_top = tip_top.rename(columns={'index': 'аттрибут', 0: 'TipTop'})\n",
    "\n",
    "# отберем остальных, суммируем их результаты\n",
    "others = pd.DataFrame(channels_costs.query('канал not in [\"TipTop\", \"organic\", \"---\"]').sum()).reset_index()\n",
    "others = others.rename(columns={'index': 'аттрибут', 0: 'остальные'})\n",
    "\n",
    "tip_top.merge(others, on='аттрибут').drop([0, 6, 7])"
   ]
  },
  {
   "cell_type": "markdown",
   "id": "0870c477-da91-48bf-b12b-1aba54a4c8c4",
   "metadata": {},
   "source": [
    "&#9889; **Вывод:**\n",
    "\n",
    "- TipTop не оправдывают себя: сумма трат превышает все девять источников вместе взятые на 4005,30 долларов, но он приводит в три раза меньше новых клиентов (19561 против 74008), и в три раза меньше платящих клиентов (1878 - 21.15% против 5843 - 65.79%)."
   ]
  },
  {
   "cell_type": "markdown",
   "id": "3a3979fe-9544-4a9f-8079-f4b6045838a1",
   "metadata": {},
   "source": [
    "[В оглавление](#TOC)"
   ]
  },
  {
   "cell_type": "markdown",
   "id": "01794938-c0fc-43f4-9ba9-775c13e27cad",
   "metadata": {
    "tags": []
   },
   "source": [
    "## Выводы по итогам EDA<a class=\"anchor\" id=\"2_conclusion\"></a>"
   ]
  },
  {
   "cell_type": "markdown",
   "id": "a3674ed4-725d-41ca-80a5-881b80d6b5ac",
   "metadata": {},
   "source": [
    "Исходя из представленных данных данных можно сделать выводы:\n",
    "\n",
    "\n",
    "**1. Минимальная и максимальная даты привлечения пользователей**\n",
    "- самое раннее наблюдение о первом действии - 01.05.2019 года, самое позднее - 31.10.2019 года,\n",
    "\n",
    "\n",
    "**2. Страны происхождения посетителей и клиентов**\n",
    "- клиенты приходят из четырех стран – США, Великобритании, Франции и Германии,\n",
    "- из 309 901 наблюдений - 207 327 (67%) сделаны в отношении пользователей из США,\n",
    "- в датасете 150 008 уникальных пользователей, из которых платят 8881 (6%),\n",
    "- из 8 881 платящих пользователей - 6902 (77.72%) из США, 700 (7.88%) из Великобритании, 663 (7.47%) из Франции и 616 (6.94%) из Германии,\n",
    "- отсутствуют сведения о валюте в которой выражена выручка: принимая во внимание, что 67% пользователей из США, можно предположить, что валюта выручки - доллары США,\n",
    "\n",
    "\n",
    "**3. Устройства посетителей и клиентов**\n",
    "- клиенты пользуются приложением с четырех устройств - PC, Mac, Android, iPhone,\n",
    "- из 8881 платящих – 3 382 (38.08%) пользователей iPhone, 2 050 (23.08%) пользователей Android, 1912 пользователей Mac (21.53%), пользователей PC (17.31%).\n",
    "\n",
    "\n",
    "**4. Источники привлечения посетителей и клиентов**\n",
    "- привлечение клиентов идет по одиннадцати источникам: один естественный, без посредников, десять - рекламные каналы,\n",
    "- без посредников пришло более трети уникальных пользователей - 56 439 (37.6 %),  32% (48 705) привели FaceBoom и TipTop, на оставшиеся 8 источников приходится 29% (44 864) от уникальных клиентов,\n",
    "- из платящих клиентов 61.2% пришли из двух источников – 3 557 (40.05%) пользователей привел FaceBoom, 1 878 (21.15%) TipTop, 25.74% (2  286) приходятся на 8 других каналов, - еще 13.06% (1160) конвертировались из естественного трафика,\n",
    "\n",
    "\n",
    "**5. Расходы на рекламу**\n",
    "- за период от 01.05.2019 до 27.10.2019 года на рекламу потратили 105 497 долларов,\n",
    "- к каждому из рекламных источников обращались 180 раз,\n",
    "- львиная доля бюджета - 87 196.90 долларов (82.65%) ушла на TipTop - 54751.30 долларов (51.9%) и FaceBoom - 32445.60 долларов (30.75%),\n",
    "- самая высокая стоимость привлечения у TipTop - 2.80 долларов, на втором месте FaceBoom - 1.11 долларов, на третьем месте AdNonSense - 1.01 доллар, привлечение клиентов из - остальных источников обошлось в среднем в стоимость от 60 центов от 21 цента.\n",
    "\n",
    "\n",
    "**6. Неээфективные источники**\n",
    "- TipTop не оправдывает себя: сумма трат превышает все девять источников вместе взятые на 4005,30 долларов, но он приводит в три раза меньше новых клиентов (19561 против 74008), в три раза меньше платящих клиентов (1878 - 21.15% против 5843 - 65.79%) при средней стоимости одного клиента 2.80 долларов,\n",
    "- кроме FaceBoom и TipTop требуется проверить AdNonSense - через канал приходит совсем мало новых пользователей (3880): и хотя 11% (440) стали платить стоимость клиента в 1.01 доллар соперничает с FaceBoom. Канал может быть и эффективный, но из-за масштаба траты на него не оправданы.\n",
    "\n"
   ]
  },
  {
   "cell_type": "markdown",
   "id": "f6f15f07-59e7-48bc-a505-3682a5f2a8bb",
   "metadata": {},
   "source": [
    "[В оглавление](#TOC)"
   ]
  },
  {
   "cell_type": "markdown",
   "id": "aa985dd9-c0e2-4328-9933-d6ec5b4ff738",
   "metadata": {},
   "source": [
    "# III. Маркетинговый анализ<a class='anchor' id='3'>\n",
    "***"
   ]
  },
  {
   "cell_type": "markdown",
   "id": "8c834d7b-ae51-44c2-9640-c2a81fb5c29e",
   "metadata": {},
   "source": [
    "## 1) Проверим окупаемость рекламы<a class=\"anchor\" id=\"3_1\"></a>"
   ]
  },
  {
   "cell_type": "markdown",
   "id": "1172bc62-f5b2-4c89-a36b-7ca47bb00636",
   "metadata": {},
   "source": [
    "Рассчитаем и визуализируем LTV и ROI"
   ]
  },
  {
   "cell_type": "code",
   "execution_count": null,
   "id": "384ff750-9745-4a1a-903d-d51a118d50ac",
   "metadata": {},
   "outputs": [],
   "source": [
    "ltv_raw, ltv_grouped, ltv_history, roi_grouped, roi_history = calc.get_ltv(profiles, observation_date, horizon_days)\n",
    "calc.plot_ltv_roi(ltv_grouped, ltv_history, roi_grouped, roi_history, horizon_days, window=14)"
   ]
  },
  {
   "cell_type": "markdown",
   "id": "c6adc9d9-a3e2-4193-8d73-3c908bdc1361",
   "metadata": {},
   "source": [
    "&#9889; **Вывод:**\n",
    "\n",
    "- реклама не окупается в течение 14 дней: ROI в конце периода так и не пересакает границу окупаемости.\n",
    "- динамика LTV сравнительно стабильна, следовательно, качество клиентов не должно оказывать существенного влияния,\n",
    "- CAC нестабилен - на графике существенный рост рекламного бюджета, и обратно пропорциональное ему снижение динамики ROI,"
   ]
  },
  {
   "cell_type": "markdown",
   "id": "e0d1e32d-6fd8-4369-ad9d-c309a3e65052",
   "metadata": {},
   "source": [
    "[В оглавление](#TOC)"
   ]
  },
  {
   "cell_type": "markdown",
   "id": "4e0f97e3-e1db-420a-94cc-17666161dd82",
   "metadata": {
    "tags": []
   },
   "source": [
    "## 2) Проверим характеристики пользователей<a class=\"anchor\" id=\"3_2\"></a>"
   ]
  },
  {
   "cell_type": "markdown",
   "id": "17649cab-47e3-4763-9d91-f8719e565164",
   "metadata": {},
   "source": [
    "### - страну первого посещения пользователей<a class='anchor' id='3_2_1'></a>"
   ]
  },
  {
   "cell_type": "code",
   "execution_count": null,
   "id": "ba733753-d534-43ce-ac3c-b55377c71097",
   "metadata": {},
   "outputs": [],
   "source": [
    "dimensions = ['region']\n",
    "ltv_raw, ltv_grouped, ltv_history, roi_grouped, roi_history = calc.get_ltv(profiles, observation_date, horizon_days, dimensions)\n",
    "calc.plot_ltv_roi(ltv_grouped, ltv_history, roi_grouped, roi_history, horizon_days, window=14)"
   ]
  },
  {
   "cell_type": "markdown",
   "id": "75fde8d3-b258-410d-b794-ad30987f29d6",
   "metadata": {},
   "source": [
    "&#9889; **Вывод:**\n",
    "\n",
    "- рекламный бюджет стали активно тратить на пользователей из США (взрывной рост расходов по сравнению с иными странами),\n",
    "- реклама в отношении пользователей из США сработала - новых пользователей привлекли,\n",
    "- однко новые пользователи из США плохо конвертируются в клиентов - отрицательная динамика ROI и, в целом, к концу двухнедельного периода ROI в районе 80%\n",
    "- фактически, из четырех стран в которых продают приложение - убыточны только США,\n",
    "- ранее выявленные аномальные источники привлечения - TipTop, FaceBoom и AdNonSense - возможно, связаны именно с рекламой в США."
   ]
  },
  {
   "cell_type": "markdown",
   "id": "f835bbbb-3759-4301-82e1-d7371ad9ccd9",
   "metadata": {},
   "source": [
    "[В оглавление](#TOC)"
   ]
  },
  {
   "cell_type": "markdown",
   "id": "7c59eaf0-8cb0-457a-ab53-82da89eacba4",
   "metadata": {
    "tags": []
   },
   "source": [
    "### - источник привлечения пользователей<a class='anchor' id='3_2_2'></a>"
   ]
  },
  {
   "cell_type": "code",
   "execution_count": null,
   "id": "fab67459-518c-447f-aa8a-1a26cb1a95a2",
   "metadata": {},
   "outputs": [],
   "source": [
    "dimensions = ['channel']\n",
    "ltv_raw, ltv_grouped, ltv_history, roi_grouped, roi_history = calc.get_ltv(profiles, observation_date, horizon_days, dimensions)\n",
    "calc.plot_ltv_roi(ltv_grouped, ltv_history, roi_grouped, roi_history, horizon_days, window=14)"
   ]
  },
  {
   "cell_type": "markdown",
   "id": "a2e92812-ef13-4591-837b-ecde1555f96f",
   "metadata": {},
   "source": [
    "&#9889; **Вывод:**\n",
    "\n",
    "- как и предполагалось, TipTop, FaceBoom и AdNonSense не окупаются, в отличие от других источников,\n",
    "- TipTop, FaceBoom и AdNonSense показывают отрицательную динамику ROI, при стабильном качестве пользователей,\n",
    "- расходы на TipTop носят взырывной характер - кратное увеличение от когорты к когорте."
   ]
  },
  {
   "cell_type": "markdown",
   "id": "e76a92e3-a0b2-413a-9fa6-aa7ede1c4b99",
   "metadata": {},
   "source": [
    "[В оглавление](#TOC)"
   ]
  },
  {
   "cell_type": "markdown",
   "id": "c3613560-6bc8-46af-b42c-3c6b977efdd9",
   "metadata": {},
   "source": [
    "### - проверим связь пользователей из США и канал привлечения<a class='anchor' id='3_2_3'></a>"
   ]
  },
  {
   "cell_type": "code",
   "execution_count": null,
   "id": "4fbc836f-b289-4f51-9337-f244778406a3",
   "metadata": {},
   "outputs": [],
   "source": [
    "dimensions = ['region', 'channel']\n",
    "usa_profiles = profiles.query('region == \"United States\"')\n",
    "ltv_raw, ltv_grouped, ltv_history, roi_grouped, roi_history = calc.get_ltv(usa_profiles, observation_date, horizon_days, dimensions)\n",
    "calc.plot_ltv_roi(ltv_grouped, ltv_history, roi_grouped, roi_history, horizon_days, window=14)"
   ]
  },
  {
   "cell_type": "markdown",
   "id": "da0cf114-aaa0-44f8-836f-133f86271597",
   "metadata": {},
   "source": [
    "&#9889; **Вывод:**\n",
    "\n",
    "- пользователей из США привлекают из пяти каналов: TipTop, FaceBoom, RocketSuperAds, YRabbit, MediaTornado.\n",
    "- как и в общей картине - TipTop, FaceBoom - не окупаются, динамика ROI отрицательная,\n",
    "- при этом, как раз в отношении TipTop от когорты к когорте растут затраты, при том, что начальная стоимость - ниже FaceBoom (расходы на который стабильны),\n",
    "- возможно, условия размещения рекламы в TipTop следует пересмотреть, равномерный рост расходов от месяца к месяцу при отсутствии существенных колебаний в динамике LTV может свидетельствовать об невыгодных условиях в определении цены размещения,\n",
    "- в случае, если условия размещения нельзя пересмотреть - от TipTop следует отказаться,\n",
    "- кроме TipTop, принимая во внимание результаты от размещения рекламы, FаceBoom представлятся невыгодным для размещения,\n",
    "- любопытно, что с помощью AdNonSense не привлечкают пользователей из США, что не отменяет их возможную неэффективность - проверим отдельно каналы на окупаемость."
   ]
  },
  {
   "cell_type": "markdown",
   "id": "9943875f-8c52-40b2-9560-490f4fae738f",
   "metadata": {},
   "source": [
    "[В оглавление](#TOC)"
   ]
  },
  {
   "cell_type": "markdown",
   "id": "435cd8e5-4fa6-46a9-973f-6c1009934f43",
   "metadata": {
    "tags": []
   },
   "source": [
    "### - проверим каналы на окупаемость<a class='anchor' id='3_2_4'></a>"
   ]
  },
  {
   "cell_type": "markdown",
   "id": "c21a862d-fe27-4412-a958-5d4b9e8b291c",
   "metadata": {},
   "source": [
    "Выделим все источники, которые не окупились к концу второй недели:"
   ]
  },
  {
   "cell_type": "code",
   "execution_count": null,
   "id": "b4b32894-3aee-48be-978c-909d397e1ae0",
   "metadata": {},
   "outputs": [],
   "source": [
    "dimensions = ['channel']\n",
    "ltv_raw, ltv_grouped, ltv_history, roi_grouped, roi_history = calc.get_ltv(profiles, observation_date, horizon_days, dimensions)\n",
    "roi_grouped[roi_grouped[13] < 1]"
   ]
  },
  {
   "cell_type": "markdown",
   "id": "5bd8740b-8252-46b2-b495-9450a9e369e0",
   "metadata": {},
   "source": [
    "&#9889; **Вывод:**\n",
    "\n",
    "- из десяти платных источников не окупаются AdNonSense (ROI - 0.83), FaceBoom (ROI - 0.74), TipTop (ROI - 0.54),\n",
    "- FaceBoom и TipTop привлекают много, с отрывом, новых пользователей, но они не конвертируются в платящих с достаточной динамикой,\n",
    "- исходя из представленных данных, расходы на FaceBoom и TipTop в США - факторы, способствующие убыточности."
   ]
  },
  {
   "cell_type": "markdown",
   "id": "d68b8671-8b7b-4254-8db3-9f8f75dad5cb",
   "metadata": {},
   "source": [
    "[В оглавление](#TOC)"
   ]
  },
  {
   "cell_type": "markdown",
   "id": "d56c4b18-4528-48eb-b349-ec2a73ff2e24",
   "metadata": {
    "tags": []
   },
   "source": [
    "### - устройство пользователей<a class='anchor' id='3_2_5'></a>"
   ]
  },
  {
   "cell_type": "code",
   "execution_count": null,
   "id": "65c6044a-24af-40bd-a02f-ff4f53a2c733",
   "metadata": {},
   "outputs": [],
   "source": [
    "dimensions = ['device']\n",
    "ltv_raw, ltv_grouped, ltv_history, roi_grouped, roi_history = calc.get_ltv(profiles, observation_date, horizon_days, dimensions)\n",
    "calc.plot_ltv_roi(ltv_grouped, ltv_history, roi_grouped, roi_history, horizon_days, window=14)"
   ]
  },
  {
   "cell_type": "markdown",
   "id": "94b4f6cc-cdfc-4ba3-8029-a788ca2fd90c",
   "metadata": {},
   "source": [
    "&#9889; **Вывод:**\n",
    "\n",
    "- на графиках iPhone и Mac лежат ниже порога окупаемости, с отрицательной динамикой ROI к концу двухнедельного периода. \n",
    "- динамика стоимости привлечения пользователей синхронно растет в разрезе по устройствам, так что преждевременно делать вывод о том, что следует отказать от распространения на iPhone и Mac - проверим, не оказывает ли влияние конкетный регион - США."
   ]
  },
  {
   "cell_type": "markdown",
   "id": "a4fd5695-1718-4795-ad59-2adaea9cd541",
   "metadata": {},
   "source": [
    "[В оглавление](#TOC)"
   ]
  },
  {
   "cell_type": "markdown",
   "id": "4a99d5ad-4885-4ee6-bd3c-5dceecc5e1ee",
   "metadata": {},
   "source": [
    "### - устройство пользователей и европейский рынок<a class='anchor' id='3_2_6'></a>"
   ]
  },
  {
   "cell_type": "code",
   "execution_count": null,
   "id": "d9238c79-92fb-4081-bb49-26629ef84748",
   "metadata": {},
   "outputs": [],
   "source": [
    "dimensions = ['device', 'region']\n",
    "not_usa_profiles = profiles.query('region != \"United States\"')\n",
    "ltv_raw, ltv_grouped, ltv_history, roi_grouped, roi_history = calc.get_ltv(not_usa_profiles, observation_date, horizon_days, dimensions)\n",
    "calc.plot_ltv_roi(ltv_grouped, ltv_history, roi_grouped, roi_history, horizon_days, window=14)"
   ]
  },
  {
   "cell_type": "markdown",
   "id": "b5ae3be5-e72e-462f-a726-b75938e630cc",
   "metadata": {},
   "source": [
    "&#9889; **Вывод:**\n",
    "\n",
    "- европейский рынок окупается на всех устройствах,\n",
    "- привлекает внимание волатильность динамики LTV и ROI, есть даже существенные провалы - позже проверим конверсию и удержание,\n",
    "- с учетом результатов - фактор устройства в вопросе окупаемости можно исключить."
   ]
  },
  {
   "cell_type": "markdown",
   "id": "64192495-29e7-4d22-88b4-c40283e560e3",
   "metadata": {},
   "source": [
    "[В оглавление](#TOC)"
   ]
  },
  {
   "cell_type": "markdown",
   "id": "f160f4d6-f8b0-4256-a5f9-9531e4857a3c",
   "metadata": {
    "tags": []
   },
   "source": [
    "## 3) Проверим конверсию<a class=\"anchor\" id=\"3_3\"></a>"
   ]
  },
  {
   "cell_type": "markdown",
   "id": "4db75718-9da2-4a38-b624-a0b380e86687",
   "metadata": {},
   "source": [
    "### - посчитаем общую конверсию<a class='anchor' id='3_3_1'></a>"
   ]
  },
  {
   "cell_type": "code",
   "execution_count": null,
   "id": "a8e6ac11-437c-4b15-8f14-b86ed55bf643",
   "metadata": {},
   "outputs": [],
   "source": [
    "cr_raw, cr_grouped, cr_hist = calc.get_conversion(profiles, observation_date, horizon_days)"
   ]
  },
  {
   "cell_type": "code",
   "execution_count": null,
   "id": "96d0e9e9-0c57-41d8-a925-39ad0de39d36",
   "metadata": {},
   "outputs": [],
   "source": [
    "calc.plot_conversion(cr_grouped, cr_hist, horizon_days)"
   ]
  },
  {
   "cell_type": "markdown",
   "id": "b61728b9-efc5-4478-9d07-7457f81430ea",
   "metadata": {},
   "source": [
    "&#9889; **Вывод:**\n",
    "\n",
    "- конверсия стремится к нулю, что-то глобально не так, вряд ли дело только в регионе."
   ]
  },
  {
   "cell_type": "markdown",
   "id": "6262ed67-9022-4d45-867e-194e913da9c8",
   "metadata": {},
   "source": [
    "[В оглавление](#TOC)"
   ]
  },
  {
   "cell_type": "markdown",
   "id": "c357aebb-1c78-46a7-8328-a07f20a575af",
   "metadata": {},
   "source": [
    "### - посчитаем  конверсию по регионам<a class='anchor' id='3_3_2'></a>"
   ]
  },
  {
   "cell_type": "code",
   "execution_count": null,
   "id": "e93646c4-6d3c-490e-b130-54cf5bcdf548",
   "metadata": {},
   "outputs": [],
   "source": [
    "dimensions = ['region']\n",
    "cr_raw, cr_grouped, cr_hist = calc.get_conversion(profiles, observation_date, horizon_days, dimensions)\n",
    "calc.plot_conversion(cr_grouped, cr_hist, horizon_days)"
   ]
  },
  {
   "cell_type": "markdown",
   "id": "61a51193-df21-4e51-b777-fa0a8b4440ff",
   "metadata": {},
   "source": [
    "&#9889; **Вывод:**\n",
    "\n",
    "- во всех регионах одна картина - пользователи не конвертируются."
   ]
  },
  {
   "cell_type": "markdown",
   "id": "e13cfc58-7b6c-4d0f-8d3f-aedaffeaa9ea",
   "metadata": {},
   "source": [
    "[В оглавление](#TOC)"
   ]
  },
  {
   "cell_type": "markdown",
   "id": "2a2c3e5a-dc9e-49e7-b9a9-6fe666079c44",
   "metadata": {},
   "source": [
    "### - посчитаем  конверсию по каналам<a class='anchor' id='3_3_3'></a>"
   ]
  },
  {
   "cell_type": "code",
   "execution_count": null,
   "id": "23211d94-3ee6-4c3c-81d6-7f9bed30632d",
   "metadata": {},
   "outputs": [],
   "source": [
    "dimensions = ['channel']"
   ]
  },
  {
   "cell_type": "code",
   "execution_count": null,
   "id": "a9b086a2-fb97-4f43-a52b-9785b9d67687",
   "metadata": {},
   "outputs": [],
   "source": [
    "cr_raw, cr_grouped, cr_hist = calc.get_conversion(profiles, observation_date, horizon_days, dimensions)"
   ]
  },
  {
   "cell_type": "code",
   "execution_count": null,
   "id": "8c93d8de-59f4-4e47-98dd-8f0425ec920c",
   "metadata": {},
   "outputs": [],
   "source": [
    "calc.plot_conversion(cr_grouped, cr_hist, horizon_days)"
   ]
  },
  {
   "cell_type": "markdown",
   "id": "4e7512a1-2ef1-4dd4-97b4-7e75b4583772",
   "metadata": {},
   "source": [
    "&#9889; **Вывод:**\n",
    "\n",
    "- источник привлечения не влияет - пользователи не конвертируются. Вряд ли в разрезе по устройствам будет отличная картина."
   ]
  },
  {
   "cell_type": "markdown",
   "id": "f5135dd3-44ca-48ab-b677-2e31687af001",
   "metadata": {},
   "source": [
    "[В оглавление](#TOC)"
   ]
  },
  {
   "cell_type": "markdown",
   "id": "62d2268b-6423-41c7-ad4e-39062e856b68",
   "metadata": {
    "tags": []
   },
   "source": [
    "### - посчитаем  конверсию по устройствам<a class='anchor' id='3_3_4'></a>"
   ]
  },
  {
   "cell_type": "code",
   "execution_count": null,
   "id": "03f58fb8-199d-4453-b2ea-fb60952cdd6a",
   "metadata": {},
   "outputs": [],
   "source": [
    "dimensions = ['device']"
   ]
  },
  {
   "cell_type": "code",
   "execution_count": null,
   "id": "40b676fc-b526-4196-9fe3-d603c7d11330",
   "metadata": {},
   "outputs": [],
   "source": [
    "cr_raw, cr_grouped, cr_hist = calc.get_conversion(profiles, observation_date, horizon_days, dimensions)"
   ]
  },
  {
   "cell_type": "code",
   "execution_count": null,
   "id": "c82e0132-b1ba-40b1-8eb6-2b6cf6556070",
   "metadata": {},
   "outputs": [],
   "source": [
    "calc.plot_conversion(cr_grouped, cr_hist, horizon_days)"
   ]
  },
  {
   "cell_type": "markdown",
   "id": "01f90392-943b-41c8-87c4-b98a8676061b",
   "metadata": {},
   "source": [
    "&#9889; **Вывод:**\n",
    "\n",
    "- ожидаемо, в разрезе по устройствам конверсия та же,\n",
    "- у нас нет сведений о том, какие этапы взаимодействия проходят пользователи, но возможно посчитать длительность пользовательской сесии из сырых данных, возможно там есть хотя бы намек на причину низкой конверсии."
   ]
  },
  {
   "cell_type": "markdown",
   "id": "9753081c-54a7-4eed-9a5a-af3912ba0e82",
   "metadata": {},
   "source": [
    "[В оглавление](#TOC)"
   ]
  },
  {
   "cell_type": "markdown",
   "id": "f6d7a720-1cef-4b9a-bdd5-bc1ddb1ef751",
   "metadata": {
    "tags": []
   },
   "source": [
    "### - посчитаем длительность пользовательской сесии<a class='anchor' id='3_3_5'></a>"
   ]
  },
  {
   "cell_type": "markdown",
   "id": "14cb39ae-2bc4-4d69-8758-b09ac639c325",
   "metadata": {},
   "source": [
    "Сведения о посещениях хранятся в таблице visits. Колонки, отвечающие за начало и конец сессии - session_start и session_end уже приведены к нужному типу datetime. Сделаем копию таблицы для анализа, выделим месяц сессии:"
   ]
  },
  {
   "cell_type": "code",
   "execution_count": null,
   "id": "3ab78eef-4aa6-4280-a184-a73d7f1bf8cc",
   "metadata": {},
   "outputs": [],
   "source": [
    "sessions_df = calc.visits.copy()\n",
    "sessions_df['session_month'] = sessions_df['session_end'].dt.month"
   ]
  },
  {
   "cell_type": "markdown",
   "id": "b1721153-d5ad-4e77-9282-e911b9a093b9",
   "metadata": {},
   "source": [
    "Посчитаем количество среднее число сессий на пользователей:"
   ]
  },
  {
   "cell_type": "code",
   "execution_count": null,
   "id": "07d1a4be-1f88-47ff-9c5c-61d0ef17775d",
   "metadata": {},
   "outputs": [],
   "source": [
    "sessions_per_user = sessions_df.groupby('session_month').agg({'user_id': ['count', 'nunique']})\n",
    "sessions_per_user.columns = ['n_sessions', 'n_users']\n",
    "sessions_per_user['sessions_per_user'] = (sessions_per_user['n_sessions'] / sessions_per_user['n_users'])\n",
    "sessions_per_user"
   ]
  },
  {
   "cell_type": "markdown",
   "id": "fde662de-4d8c-4f18-89c7-cdba31f1b736",
   "metadata": {},
   "source": [
    "Посчитаем среднюю и медианную продолжительность сессий:"
   ]
  },
  {
   "cell_type": "code",
   "execution_count": null,
   "id": "d346e790-a6fe-4ad4-9a9c-2eb72892bf94",
   "metadata": {},
   "outputs": [],
   "source": [
    "sessions_df['session_duration_sec'] = (sessions_df['session_end'] - sessions_df['session_start']).dt.seconds\n",
    "\n",
    "sessions_df['session_duration_sec'].mean() / 60, sessions_df['session_duration_sec'].median() / 60"
   ]
  },
  {
   "cell_type": "markdown",
   "id": "e09dd262-6423-4df5-99a9-a7ce89631baa",
   "metadata": {},
   "source": [
    "Проверим распределение:"
   ]
  },
  {
   "cell_type": "code",
   "execution_count": null,
   "id": "660ca147-f3ef-46f7-a9b6-2c9665597368",
   "metadata": {},
   "outputs": [],
   "source": [
    "calc.histogram(sessions_df['session_duration_sec'], 50, 0, 2000)"
   ]
  },
  {
   "cell_type": "markdown",
   "id": "4839ffeb-67f6-4454-b42e-128d93c6dae2",
   "metadata": {},
   "source": [
    "Есть очень длинные, аномальные, сессиями - более двух часов. Большинство уложилось в получасовой период. Выделим пользователей с продолжительностью сессии более получаса, построим гистограмму:"
   ]
  },
  {
   "cell_type": "code",
   "execution_count": null,
   "id": "02e0b4f9-a6d9-4938-b413-5c56dbfc4ecf",
   "metadata": {},
   "outputs": [],
   "source": [
    "more_then_half_an_hour = sessions_df[sessions_df['session_duration_sec'] > 1800]\n",
    "more_then_half_an_hour"
   ]
  },
  {
   "cell_type": "markdown",
   "id": "ce60d6ba-3100-4f21-8a9b-a637fba8326d",
   "metadata": {},
   "source": [
    "113905 сессий - почти 37%. Проверим на каких устройствах зафиксированы сессии более получаса."
   ]
  },
  {
   "cell_type": "code",
   "execution_count": null,
   "id": "8c6e9c42-8e8e-4617-bf4e-b05c98524ac1",
   "metadata": {},
   "outputs": [],
   "source": [
    "more_then_half_an_hour.groupby('device').agg({'user_id': 'count'})"
   ]
  },
  {
   "cell_type": "code",
   "execution_count": null,
   "id": "0ccf68b2-af6e-49dc-9403-325c532e2358",
   "metadata": {},
   "outputs": [],
   "source": [
    "calc.histogram(more_then_half_an_hour['session_duration_sec'], 50, 1600, 9000)"
   ]
  },
  {
   "cell_type": "markdown",
   "id": "6dba53d5-a7f3-49a1-a0fd-83129827c6a7",
   "metadata": {},
   "source": [
    "&#9889; **Вывод:**\n",
    "\n",
    "- в среднем пользователь проводит в приложении менее двух сессий,\n",
    "- средняя продолжительность сессии - 30 минут, медианная - 21 минуту,\n",
    "- почти 37% пользователей проводят в приложении более получаса, \n",
    "- исходя из представленных данных, принимая во внимание отсутвие подробного описания приложения, затруднительно сделать вывод с разумной степенью достоверности - являются ли сверхдлительные сессии систематической технической ошибкой, это требуется уточнять,\n",
    "- возможно, в сочетании с продолжительностью сессии количество средних посещений не стоит рассматривать как низкое; похоже, у приложения очень специфическая аудитория,\n",
    "- вместе с тем, учитывая конверсию, опыт (даже столь длительный), который предлагает приложение не слишком увлекателен для большинства пользователей даже по цене 4.99,\n",
    "- представляется, что отсюда и следует неэффективность рекалмы в США - TipTop и FaceBoom расчитаны на массовую аудиторию, не готовую в большинстве случаев инвестировать в длительные сессии (а уж говоря о пользователях из TipTop отдельно - совершенно точно не готовы)."
   ]
  },
  {
   "cell_type": "markdown",
   "id": "d56b5890-d196-428f-9de4-5ed744e2b744",
   "metadata": {},
   "source": [
    "[В оглавление](#TOC)"
   ]
  },
  {
   "cell_type": "markdown",
   "id": "65cf29dc-817a-481c-9979-6c830ffa125f",
   "metadata": {
    "tags": []
   },
   "source": [
    "## 4) Проверим удержание<a class=\"anchor\" id=\"3_4\"></a>"
   ]
  },
  {
   "cell_type": "markdown",
   "id": "86c92e96-26d9-4868-8ab0-f868fe74c7c1",
   "metadata": {},
   "source": [
    "### - посчитаем общее удержание<a class='anchor' id='3_4_1'></a>"
   ]
  },
  {
   "cell_type": "code",
   "execution_count": null,
   "id": "2aa4974f-e7ca-4132-a33b-9d4716c4761f",
   "metadata": {},
   "outputs": [],
   "source": [
    "retention_raw, retention_grouped, retention_hist = calc.get_retention(profiles, observation_date, horizon_days)"
   ]
  },
  {
   "cell_type": "code",
   "execution_count": null,
   "id": "9dea594b-328a-4322-91cd-9b47df234b37",
   "metadata": {},
   "outputs": [],
   "source": [
    "calc.plot_retention(retention_grouped, retention_hist, horizon_days)"
   ]
  },
  {
   "cell_type": "markdown",
   "id": "29d13a8a-469e-497c-9836-56f482b438ef",
   "metadata": {},
   "source": [
    "&#9889; **Вывод:**\n",
    "\n",
    "- общее удержание невысокое, что укладывается в общую картину - уже установлено, что в среднем пользователи заходят в приложение менее двух раз"
   ]
  },
  {
   "cell_type": "markdown",
   "id": "23ded4fc-186c-4194-a100-5b251c2ff3bd",
   "metadata": {},
   "source": [
    "[В оглавление](#TOC)"
   ]
  },
  {
   "cell_type": "markdown",
   "id": "169f75a3-b33e-4f24-9301-cb9bd0d0a534",
   "metadata": {},
   "source": [
    "### - посчитаем удержание по регионам<a class='anchor' id='3_4_2'></a>"
   ]
  },
  {
   "cell_type": "code",
   "execution_count": null,
   "id": "b3c6a64c-1e15-4132-8122-1b0c2e6d9486",
   "metadata": {},
   "outputs": [],
   "source": [
    "dimensions = ['region']\n",
    "retention_raw, retention_grouped, retention_hist = calc.get_retention(profiles, observation_date, horizon_days, dimensions)"
   ]
  },
  {
   "cell_type": "code",
   "execution_count": null,
   "id": "59bb4558-3faf-43e9-9f0c-1e8d71c12f0e",
   "metadata": {},
   "outputs": [],
   "source": [
    "calc.plot_retention(retention_grouped, retention_hist, horizon_days)"
   ]
  },
  {
   "cell_type": "markdown",
   "id": "26666f17-f0bf-49a4-846b-62cd3ae77bdc",
   "metadata": {},
   "source": [
    "&#9889; **Вывод:**\n",
    "\n",
    "- даже с учетом того, что общее удержание невысокое, пользователи из США удерживаются стабильно хуже других."
   ]
  },
  {
   "cell_type": "markdown",
   "id": "3469fae9-c4c4-49e5-ab13-5ec6082861d5",
   "metadata": {},
   "source": [
    "[В оглавление](#TOC)"
   ]
  },
  {
   "cell_type": "markdown",
   "id": "fe345aa3-2440-473f-ad62-6d6bb1cd7e19",
   "metadata": {},
   "source": [
    "### - посчитаем удержание по каналам<a class='anchor' id='3_4_3'></a>"
   ]
  },
  {
   "cell_type": "code",
   "execution_count": null,
   "id": "bc4f7eda-b81d-4bfb-88f6-718bb7401156",
   "metadata": {},
   "outputs": [],
   "source": [
    "dimensions = ['channel']\n",
    "retention_raw, retention_grouped, retention_hist = calc.get_retention(profiles, observation_date, horizon_days, dimensions)"
   ]
  },
  {
   "cell_type": "code",
   "execution_count": null,
   "id": "775a5b45-7e5d-45b3-852c-4b2794e6c0e8",
   "metadata": {},
   "outputs": [],
   "source": [
    "calc.plot_retention(retention_grouped, retention_hist, horizon_days)"
   ]
  },
  {
   "cell_type": "markdown",
   "id": "577b7f31-4850-47d2-a874-abf01d5a2116",
   "metadata": {},
   "source": [
    "&#9889; **Вывод:**\n",
    "\n",
    "- любопытно, что пользователи из FaceBoom и AdNonSense удерживаются хуже пользователей из других источников,\n",
    "- также привлекает внимание, что пользователи из TipTop не выделяются из общей картины: видимо, раз уж стал платить, то относится к целевой аудитории."
   ]
  },
  {
   "cell_type": "markdown",
   "id": "fe4de47f-71af-4df1-8472-1310a1f2a8ad",
   "metadata": {},
   "source": [
    "[В оглавление](#TOC)"
   ]
  },
  {
   "cell_type": "markdown",
   "id": "a2b3b7bf-e01b-43ee-8d4f-f33cefeb692c",
   "metadata": {
    "tags": []
   },
   "source": [
    "### - посчитаем удержание по устройствам<a class='anchor' id='3_4_4'></a>"
   ]
  },
  {
   "cell_type": "code",
   "execution_count": null,
   "id": "f339050d-c50b-4232-96a6-cdc1551c2938",
   "metadata": {},
   "outputs": [],
   "source": [
    "dimensions = ['device']\n",
    "retention_raw, retention_grouped, retention_hist = calc.get_retention(profiles, observation_date, horizon_days, dimensions)"
   ]
  },
  {
   "cell_type": "code",
   "execution_count": null,
   "id": "47c0372a-e724-4c1e-8c65-842b4d4cff41",
   "metadata": {},
   "outputs": [],
   "source": [
    "calc.plot_retention(retention_grouped, retention_hist, horizon_days)"
   ]
  },
  {
   "cell_type": "markdown",
   "id": "0a8b5f82-5658-4328-a0ca-a6c6ebd2893e",
   "metadata": {},
   "source": [
    "&#9889; **Вывод:**\n",
    "\n",
    "- в целом, устройство не влияет на удержание,\n",
    "- пользователи PC удерживаются чуть лучше, но разрыв несущественный."
   ]
  },
  {
   "cell_type": "markdown",
   "id": "c1babbaa-2fc2-4058-bdb6-6b80110e274e",
   "metadata": {},
   "source": [
    "[В оглавление](#TOC)"
   ]
  },
  {
   "cell_type": "markdown",
   "id": "cd3fd8cb-8abb-4239-ae99-c6c69a7d30ba",
   "metadata": {
    "tags": []
   },
   "source": [
    "## Выводы по итогам маркетингового анализа<a class=\"anchor\" id=\"3_conclusion\"></a>"
   ]
  },
  {
   "cell_type": "markdown",
   "id": "75c765bc-e369-4fa0-b2a1-91823910e9a1",
   "metadata": {},
   "source": [
    "Исходя из представленных данных данных можно сделать выводы:\n",
    "\n",
    "\n",
    "**1. В целом реклама не окупается**\n",
    "- в течение 14 дней ROI так и не пересекает границу окупаемости,\n",
    "- необходимо отметить, что изолированно европейский рынок окупается, не окупается только США.\n",
    "\n",
    "**2. На окупаемость рекламы оказывают негативное влияние несколько факторов**\n",
    "- размер расходов на рекламу в США не оправдан - приложение получает новых пользователей, однако новые пользователи из США плохо конвертируются в платящих клиентов - отрицательная динамика ROI и, в целом, к концу двухнедельного периода ROI в районе 80%,\n",
    "- исходя из представленных данных, расходы на FaceBoom (ROI - 0.74) и TipTop (ROI - 0.54) в США - факторы, способствующие убыточности, поскольку львиная доля бюджета - 87 196.90 долларов (82.65%) ушла именно на TipTop - 54751.30 долларов (51.9%) и FaceBoom - 32445.60 долларов (30.75%),\n",
    "- взрывной рост затрат на TipTop от когорты к когорте при том, что начальная стоимость - ниже FaceBoom (расходы на который стабильны),\n",
    "- также из десяти платных источников привлечения клиентов не окупаются AdNonSense (ROI - 0.83),\n",
    "\n",
    "**3. Проблемы окупаемости могут быть вызваны следующими обстоятельствами**\n",
    "- в среднем пользователь проводит в приложении менее двух сессий, средняя продолжительность сессии - 30 минут, медианная - 21 минуту (при том, что почти 37% пользователей проводят в приложении более получаса),\n",
    "- исходя из представленных данных, принимая во внимание отсутствие подробного описания приложения, затруднительно сделать вывод с разумной степенью достоверности - являются ли сверхдлительные сессии результатом систематической ошибки на каком-то из этапов взаимодействия или это сущностное наполнение приложения влияет на сессии - это требуется уточнять \n",
    "- но, учитывая конвертацию, длительные сессии не слишком увлекательны для большинства пользователей даже по цене 4.99,\n",
    "- поэтому неэффективна реклама в США - TipTop и FaceBoom рассчитаны  на массовую аудиторию, не готовую в большинстве случаев инвестировать в длительные сессии, независимо от того, являются ли они следствием сущностного наполнения приложения (неподходящая целевая аудитория) или пробемой на уровне взаимодействия (техническая ошибка).\n",
    "\n",
    "\n",
    "**На основании проведенного анализа можно дать рекомендации**:\n",
    "- по крайней мере временно отказаться от размещения рекламы в AdNonSense (ROI - 0.83), FaceBoom (ROI - 0.74), TipTop (ROI - 0.54),\n",
    "- в будущем, при необходимости размещать рекламу в TipTop, по возможности, пересмотреть условия о цены размещения,\n",
    "- проверить чем вызваны длительные сессии (если это не вызвано самой сущностью приложения),\n",
    "- учитывая низкую конвертацию, проверить обоснованность цены,\n",
    "- не перераспределять высвободившиеся средства до того, как будет дана оценка причинам длительности сессий и не будет проверена обоснованность цены.\n"
   ]
  },
  {
   "cell_type": "markdown",
   "id": "50da1710-c493-40c0-8823-944c54b5a3e3",
   "metadata": {},
   "source": [
    "[В оглавление](#TOC)"
   ]
  }
 ],
 "metadata": {
  "kernelspec": {
   "display_name": "venv",
   "language": "python",
   "name": "venv"
  },
  "language_info": {
   "codemirror_mode": {
    "name": "ipython",
    "version": 3
   },
   "file_extension": ".py",
   "mimetype": "text/x-python",
   "name": "python",
   "nbconvert_exporter": "python",
   "pygments_lexer": "ipython3",
   "version": "3.7.9"
  },
  "toc-showtags": false
 },
 "nbformat": 4,
 "nbformat_minor": 5
}

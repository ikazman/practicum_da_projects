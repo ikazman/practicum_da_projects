{
 "cells": [
  {
   "cell_type": "markdown",
   "id": "3948f42a",
   "metadata": {},
   "source": [
    "<div style=\"border:solid green 2px; padding: 20px\">\n",
    "\n",
    "<b>Привет, Алексей! Поздравляю с выполнением очередного проекта!</b>\n",
    "\n",
    "Меня зовут Петр Раздобреев и я буду проверять твою работу. Попробую помочь сделать тебе её еще лучше! В Практикуме принято общени на ты, но если это дискомфортно, то сообщи об этом)\n",
    "\n",
    "Ниже ты найдешь мои комментарии - пожалуйста, не перемещай, не изменяй и не удаляй их. Я буду использовать цветовую разметку:\n",
    "\n",
    "<div class=\"alert alert-danger\">\n",
    "<b>Комментарий ревьюера:</b>☁️Так выделены самые важные замечания. Без их отработки проект не будет принят. </div>\n",
    "\n",
    "<div class=\"alert alert-warning\">\n",
    "<b>Комментарий ревьюера:</b>⛅️ Так выделены небольшие замечания.Такие замечания в проекте допустимы, это пространство для улучшений в будущем.\n",
    "</div>\n",
    "\n",
    "<div class=\"alert alert-success\">\n",
    "<b>Комментарий ревьюера:</b>☀️Так я выделяю успешные идеи.</div>\n",
    "\n",
    "Давай работать над проектом в диалоге: если ты что-то меняешь в проекте или отвечаешь на мои комменатри — пиши об этом. Мне будет легче отследить изменения, если ты выделишь свои комментарии:\n",
    "<div class=\"alert alert-info\"> <b>Комментарий студента:</b> Например, вот так.</div>\n",
    "\n",
    "Всё это поможет выполнить повторную проверку твоего проекта оперативнее. \n",
    "    \n",
    "\n"
   ]
  },
  {
   "cell_type": "markdown",
   "id": "b8dec386-76ca-4fe4-a9d9-db1ac858bdf6",
   "metadata": {},
   "source": [
    "# Маркетинговый анализ\n",
    "***"
   ]
  },
  {
   "cell_type": "markdown",
   "id": "9a7c28e4-f99d-45fa-afab-0fdb6501f0e8",
   "metadata": {},
   "source": [
    "# Описание проекта"
   ]
  },
  {
   "cell_type": "markdown",
   "id": "7f811e66-9344-43e1-a353-236eb99e15de",
   "metadata": {},
   "source": [
    "Вы — маркетинговый аналитик развлекательного приложения. Несмотря на огромные вложения в рекламу, последние несколько месяцев компания терпит убытки. Ваша задача — разобраться в причинах и помочь компании выйти в плюс.\n",
    "Есть данные о пользователях, привлечённых с 1 мая по 27 октября 2019 года:\n",
    "\n",
    "- лог сервера с данными об их посещениях,\n",
    "- выгрузка их покупок за этот период,\n",
    "- рекламные расходы.\n",
    "\n",
    "Вам предстоит изучить:\n",
    "\n",
    "- откуда приходят пользователи и какими устройствами они пользуются,\n",
    "- сколько стоит привлечение пользователей из различных рекламных каналов;\n",
    "- сколько денег приносит каждый клиент,\n",
    "- когда расходы на привлечение клиента окупаются,\n",
    "- какие факторы мешают привлечению клиентов."
   ]
  },
  {
   "cell_type": "markdown",
   "id": "76060a7b-cf9c-4e24-930b-bb753c146a54",
   "metadata": {
    "tags": []
   },
   "source": [
    "# Оглавление<a class='anchor' id='TOC'></a>"
   ]
  },
  {
   "cell_type": "markdown",
   "id": "7714e342-fa3b-42d9-afac-3d5c0c42c0fa",
   "metadata": {},
   "source": [
    "* **[I. Загрузка и подготовка данных](#1)**\n",
    "    - [1) Импортируем библиотеки, объявим класс MetricCalculator для анализа](#1_1)\n",
    "    - [2) Прочитаем данные](#1_2)\n",
    "    - [3) Выведем первые и последние пять строк каждой из таблиц, общую информацию](#1_3)\n",
    "    - [Вывод](#1_conclusion)\n",
    "<br></br>\n",
    "* **[II. Исследовательский анализ данных](#2)**\n",
    "    - [1) Получим профили пользовтеля для анализа](#2_1)\n",
    "    - [2) Установим момент и горизонт анализа данных](#2_2)\n",
    "    - [3) Исследуем сведения о посещении сайтах](#2_3)\n",
    "        - [из каких стран пользователи](#2_3_1)\n",
    "        - [устройства пользователей](#2_3_2)\n",
    "        - [информация о покупках](#2_3_3)\n",
    "        - [каналы привлечения пользователей](#2_3_4)\n",
    "        - [информация о расходах](#2_3_5)\n",
    "        - [сравним TipTop со всеми остальными платными каналами](#2_3_6)\n",
    "    - [Выводы по итогам EDA](#2_conclusion)\n",
    "<br></br> \n",
    "* **[III. Маркетинговый анализ](#3)**\n",
    "    - [1) Проверим окупаемость рекламы](#3_1)\n",
    "    - [2) Проверим характеристики пользователей](#3_2)\n",
    "        - [страна первого посещения пользователей](#3_2_1)\n",
    "        - [источник привлечения пользователей](#3_2_2)\n",
    "        - [проверим связь пользователей из США и канал привлечения](#3_2_3)\n",
    "        - [проверим каналы привлечения на окупаемость](#3_2_4)\n",
    "        - [устройство пользователей](#3_2_5)\n",
    "        - [устройство пользователей и европейский рынок](#3_2_6)\n",
    "    - [3) Проверим конверсию](#3_3)\n",
    "        - [посчитаем общую конверсию](#3_3_1)\n",
    "        - [посчитаем конверсию по регионам](#3_3_2)\n",
    "        - [посчитаем конверсию по каналам](#3_3_3)\n",
    "        - [посчитаем конверсию по устройствам](#3_3_4)\n",
    "        - [посчитаем длительность пользовательской сесии](#3_3_5)\n",
    "    - [4) Проверим удержание](#3_4)\n",
    "        - [посчитаем общее удержание](#3_4_1)\n",
    "        - [посчитаем удержание по регионам](#3_4_2)\n",
    "        - [посчитаем удержание по каналам](#3_4_3)\n",
    "        - [посчитаем удержание по устройствам](#3_4_4)\n",
    "    - [Выводы по итогам маркетингового анализа](#3_conclusion)\n",
    "<br></br>"
   ]
  },
  {
   "cell_type": "markdown",
   "id": "4739ab2e-0817-4d8a-ae39-ed6e0df2d4b7",
   "metadata": {},
   "source": [
    "# I. Загрузка и подготовка данных<a class='anchor' id='1'>\n",
    "***"
   ]
  },
  {
   "cell_type": "markdown",
   "id": "d1f55d36-da3c-49fe-b115-447acfe475ae",
   "metadata": {},
   "source": [
    "## 1) Импортируем библиотеки, объявим класс MetricCalculator для анализа<a class=\"anchor\" id=\"1_1\"></a>"
   ]
  },
  {
   "cell_type": "code",
   "execution_count": 1,
   "id": "44212156",
   "metadata": {},
   "outputs": [
    {
     "name": "stdout",
     "output_type": "stream",
     "text": [
      "Requirement already satisfied: squarify in /home/ikazman/Документы/GitHub/practicum_da_projects/venv/lib/python3.8/site-packages (0.4.3)\n"
     ]
    }
   ],
   "source": [
    "!pip install squarify"
   ]
  },
  {
   "cell_type": "code",
   "execution_count": 2,
   "id": "56611c54-8cdb-4bf1-a2c4-7cb01fd299b3",
   "metadata": {},
   "outputs": [],
   "source": [
    "import warnings\n",
    "warnings.filterwarnings('ignore')\n",
    "\n",
    "from datetime import datetime, timedelta\n",
    "\n",
    "import numpy as np\n",
    "import pandas as pd\n",
    "import seaborn as sns\n",
    "import squarify\n",
    "from matplotlib import pyplot as plt\n",
    "\n",
    "pd.set_option('display.float_format', lambda x: '%.2f' % x)"
   ]
  },
  {
   "cell_type": "code",
   "execution_count": 3,
   "id": "35c0fd0c-6f08-46fa-a986-42f0d375f1f7",
   "metadata": {},
   "outputs": [],
   "source": [
    "class MetricCalculator:\n",
    "    \"\"\"Создаем профили пользователя, расчитываем и визуализируем метрики.\"\"\"\n",
    "\n",
    "    def __init__(self, visits, orders, costs):\n",
    "        self.visits = pd.read_csv(visits, parse_dates=['Session Start',\n",
    "                                                       'Session End'])\n",
    "        self.orders = pd.read_csv(orders, parse_dates=['Event Dt'])\n",
    "        self.costs = pd.read_csv(costs, parse_dates=['dt'])\n",
    "\n",
    "    def columns_fixer(self):\n",
    "        \"\"\"Приводим колонки к одному регистру, переименовываем по\n",
    "        необходимости, конвертируем формат.\"\"\"\n",
    "        datasets = [self.visits, self.orders, self.costs]\n",
    "\n",
    "        for dataset in datasets:\n",
    "            dataset.columns = [name.lower().replace(' ', '_') for name\n",
    "                               in dataset.columns.values]\n",
    "\n",
    "        self.costs['dt'] = self.costs['dt'].dt.date\n",
    "\n",
    "    def grouped_summary(self, profiles, dim, dim_name):\n",
    "        \"\"\"Получаем сводную таблицу с % платящих.\"\"\"\n",
    "        columns = {dim: dim_name,\n",
    "                   'user_id_y': 'число клиентов',\n",
    "                   'user_id_x': 'платящие'}\n",
    "        unique_cnt = profiles.groupby(dim)['user_id'].nunique()\n",
    "        dim_by_payer = (profiles.query('payer == True')\n",
    "                                .groupby(dim)\n",
    "                                .agg({'user_id': 'count'}).reset_index())\n",
    "        dim_by_payer['% от платящих'] = (dim_by_payer['user_id'] * 100 /\n",
    "                                         dim_by_payer['user_id'].sum())\n",
    "        dim_by_payer = (dim_by_payer.merge(unique_cnt, on=dim)\n",
    "                                    .rename(columns=columns))\n",
    "        dim_by_payer['% платящих'] = (dim_by_payer['платящие'] * 100 /\n",
    "                                      dim_by_payer['число клиентов'])\n",
    "        sums_row = pd.Series(['---', sum(dim_by_payer['платящие']),\n",
    "                              sum(dim_by_payer['% от платящих']),\n",
    "                              sum(dim_by_payer['число клиентов']),\n",
    "                              '---'],\n",
    "                              index=dim_by_payer.columns)\n",
    "        dim_by_payer = dim_by_payer.sort_values(by='платящие')\n",
    "        dim_by_payer = dim_by_payer.append(sums_row, ignore_index=True)\n",
    "        return dim_by_payer\n",
    "\n",
    "    def acquisitions_date(self, profiles, observation,\n",
    "                          horizon, ignore_horizon):\n",
    "        \"\"\"Исключаем пользователей, не «доживших» до горизонта анализа.\"\"\"\n",
    "        if ignore_horizon:\n",
    "            acquisition_date = observation\n",
    "        acquisition_date = observation - timedelta(days=horizon - 1)\n",
    "        raw_data = profiles.query('dt <= @acquisition_date')\n",
    "        return raw_data\n",
    "\n",
    "    def group_by_dimensions(self, df, dims, horizon,\n",
    "                            values='user_id', aggfunc='nunique', cumsum=False):\n",
    "        \"\"\"Группировка таблицы по желаемым признакам.\"\"\"\n",
    "        result = df.pivot_table(index=dims, columns='lifetime',\n",
    "                                values=values, aggfunc=aggfunc)\n",
    "\n",
    "        if cumsum:\n",
    "            result = result.fillna(0).cumsum(axis=1)\n",
    "\n",
    "        cohort_sizes = (df.groupby(dims)\n",
    "                        .agg({'user_id': 'nunique'})\n",
    "                        .rename(columns={'user_id': 'cohort_size'}))\n",
    "        result = cohort_sizes.merge(result, on=dims, how='left').fillna(0)\n",
    "        result = result.div(result['cohort_size'], axis=0)\n",
    "        result = result[['cohort_size'] + list(range(horizon))]\n",
    "        result['cohort_size'] = cohort_sizes\n",
    "        return result\n",
    "\n",
    "    def cac_roi(self, df, grouped_df, dims, horizon):\n",
    "        \"\"\"Считаем CAC и ROI на треуголной таблице.\"\"\"\n",
    "\n",
    "        # датафрейм с данными пользователей CAC, добавляем dimensions\n",
    "        cac = df[['user_id', 'acquisition_cost'] + dims].drop_duplicates()\n",
    "\n",
    "        # считаем средний CAC по параметрам из dimensions\n",
    "        cac = (cac.groupby(dims)\n",
    "               .agg({'acquisition_cost': 'mean'})\n",
    "               .rename(columns={'acquisition_cost': 'cac'}))\n",
    "\n",
    "        # считаем ROI: делим LTV на CAC\n",
    "        roi = grouped_df.div(cac['cac'], axis=0)\n",
    "\n",
    "        # удаляем строки с бесконечным ROI\n",
    "        roi = roi[~roi['cohort_size'].isin([np.inf])]\n",
    "        cohort_sizes = (df.groupby(dims).agg({'user_id': 'nunique'}).rename(\n",
    "            columns={'user_id': 'cohort_size'}))\n",
    "        # восстанавливаем размеры когорт в таблице ROI\n",
    "        roi['cohort_size'] = cohort_sizes\n",
    "\n",
    "        # добавляем CAC в таблицу ROI\n",
    "        roi['cac'] = cac['cac']\n",
    "\n",
    "        # в финальной таблице оставляем размеры когорт, CAC\n",
    "        # и ROI в лайфтаймы, не превышающие горизонт анализа\n",
    "        roi = roi[['cohort_size', 'cac'] + list(range(horizon))]\n",
    "\n",
    "        # возвращаем таблицы LTV и ROI\n",
    "        return roi\n",
    "\n",
    "    def lifetime_calculation(self, df, to_merge, columns_to_merge, last_date):\n",
    "        \"\"\"Добавляем данные о покупках и рассчитываем лайфтайм пользователя для\n",
    "        каждой покупки.\"\"\"\n",
    "        df = df.merge(to_merge[columns_to_merge], on='user_id', how='left')\n",
    "        df['lifetime'] = (df[last_date] - df['first_ts']).dt.days\n",
    "        return df\n",
    "\n",
    "    def dimensions_check(self, df, dims):\n",
    "        \"\"\"Функция для группировки по коготам если в dims пусто.\"\"\"\n",
    "        if len(dims) == 0:\n",
    "            df['cohort'] = 'All users'\n",
    "            dims = dims + ['cohort']\n",
    "        return df, dims\n",
    "\n",
    "    def filter_data(self, df, window):\n",
    "        \"\"\"Функция для сглаживания фрейма: применяем скользящее среднее.\"\"\"\n",
    "        for column in df.columns.values:\n",
    "            df[column] = df[column].rolling(window).mean()\n",
    "        return df\n",
    "\n",
    "    def get_profiles(self):\n",
    "        \"\"\"Cоздаем пользовательские профили.\"\"\"\n",
    "        ad_costs = self.costs.copy()\n",
    "\n",
    "        # находим параметры первых посещений\n",
    "        profiles = (self.visits\n",
    "                    .sort_values(by=['user_id', 'session_start'])\n",
    "                    .groupby('user_id').agg({'session_start': 'first',\n",
    "                                             'channel': 'first',\n",
    "                                             'device': 'first',\n",
    "                                             'region': 'first', })\n",
    "                    .rename(columns={'session_start': 'first_ts'})\n",
    "                    .reset_index())\n",
    "\n",
    "        # для когортного анализа определяем дату первого посещения\n",
    "        # и первый день месяца, в который это посещение произошло\n",
    "        profiles['dt'] = profiles['first_ts'].dt.date\n",
    "        profiles['month'] = profiles['first_ts'].astype('datetime64[M]')\n",
    "\n",
    "        # добавляем признак платящих пользователей\n",
    "        profiles['payer'] = profiles['user_id'].isin(\n",
    "            self.orders['user_id'].unique())\n",
    "\n",
    "        # считаем количество уникальных пользователей\n",
    "        # с одинаковыми источником и датой привлечения\n",
    "        new_users = (profiles.groupby(['dt', 'channel'])\n",
    "                     .agg({'user_id': 'nunique'})\n",
    "                     .rename(columns={'user_id': 'unique_users'})\n",
    "                     .reset_index())\n",
    "\n",
    "        # объединяем траты на рекламу и число привлечённых пользователей\n",
    "        ad_costs = ad_costs.merge(new_users, on=['dt', 'channel'], how='left')\n",
    "\n",
    "        # делим рекламные расходы на число привлечённых пользователей\n",
    "        ad_costs['acquisition_cost'] = (\n",
    "            ad_costs['costs'] / ad_costs['unique_users'])\n",
    "\n",
    "        # добавляем стоимость привлечения в профили\n",
    "        profiles = profiles.merge(\n",
    "            ad_costs[['dt', 'channel', 'acquisition_cost']],\n",
    "            on=['dt', 'channel'],\n",
    "            how='left')\n",
    "\n",
    "        # стоимость привлечения органических пользователей равна нулю\n",
    "        profiles['acquisition_cost'] = profiles['acquisition_cost'].fillna(0)\n",
    "\n",
    "        return profiles\n",
    "\n",
    "    def get_retention(self, profiles, observation_date, horizon,\n",
    "                      dimensions=[], ignore_horizon=False):\n",
    "        \"\"\"Функция для расчёта удержания.\"\"\"\n",
    "\n",
    "        # добавляем столбец payer в передаваемый dimensions список\n",
    "        dimensions = ['payer'] + dimensions\n",
    "\n",
    "        # исключаем пользователей, не «доживших» до горизонта анализа\n",
    "        retention_raw = self.acquisitions_date(profiles, observation_date,\n",
    "                                               horizon, ignore_horizon)\n",
    "\n",
    "        # собираем «сырые» данные для расчёта удержания\n",
    "        retention_raw = self.lifetime_calculation(retention_raw, self.visits,\n",
    "                                                  ['user_id', 'session_start'],\n",
    "                                                  'session_start')\n",
    "\n",
    "        # получаем таблицу удержания\n",
    "        retention_grouped = self.group_by_dimensions(retention_raw,\n",
    "                                                     dimensions,\n",
    "                                                     horizon)\n",
    "\n",
    "        # получаем таблицу динамики удержания\n",
    "        retention_hist = self.group_by_dimensions(retention_raw,\n",
    "                                                  dimensions + ['dt'],\n",
    "                                                  horizon)\n",
    "\n",
    "        # сырые данные, таблица RR, таблица динамики RR\n",
    "        return retention_raw, retention_grouped, retention_hist\n",
    "\n",
    "    def get_conversion(self, profiles, observation_date, horizon,\n",
    "                       dimensions=[], ignore_horizon=False):\n",
    "        \"\"\"Функция для расчёта конверсии (CR).\"\"\"\n",
    "\n",
    "        # исключаем пользователей, не «доживших» до горизонта анализа\n",
    "        cr_raw = self.acquisitions_date(profiles, observation_date,\n",
    "                                        horizon, ignore_horizon)\n",
    "\n",
    "        # определяем дату и время первой покупки для каждого пользователя\n",
    "        first_purchases = (self.orders.sort_values(by=['user_id', 'event_dt'])\n",
    "                           .groupby('user_id')\n",
    "                           .agg({'event_dt': 'first'})\n",
    "                           .reset_index())\n",
    "\n",
    "        # добавляем данные о покупках в профили\n",
    "        cr_raw = self.lifetime_calculation(cr_raw, first_purchases,\n",
    "                                           ['user_id', 'event_dt'],\n",
    "                                           'event_dt')\n",
    "\n",
    "        # группируем по cohort, если в dimensions ничего нет\n",
    "        cr_raw, dimensions = self.dimensions_check(cr_raw, dimensions)\n",
    "\n",
    "        # получаем таблицу конверсии\n",
    "        cr_grouped = self.group_by_dimensions(cr_raw,\n",
    "                                              dimensions,\n",
    "                                              horizon,\n",
    "                                              cumsum=True)\n",
    "\n",
    "        # для таблицы динамики конверсии убираем 'cohort' из dimensions\n",
    "        if 'cohort' in dimensions:\n",
    "            dimensions = []\n",
    "\n",
    "        # получаем таблицу динамики конверсии\n",
    "        cr_hist = self.group_by_dimensions(cr_raw,\n",
    "                                           dimensions + ['dt'],\n",
    "                                           horizon)\n",
    "\n",
    "        # сырые данные, таблица CR, таблица динамики CR\n",
    "        return cr_raw, cr_grouped, cr_hist\n",
    "\n",
    "    def get_ltv(self, profiles, observation_date, horizon,\n",
    "                dimensions=[], ignore_horizon=False):\n",
    "        \"\"\"Функция для расчёта LTV и ROI.\"\"\"\n",
    "\n",
    "        # исключаем пользователей, не «доживших» до горизонта анализа\n",
    "        ltv_raw = self.acquisitions_date(profiles, observation_date,\n",
    "                                         horizon, ignore_horizon)\n",
    "\n",
    "        # добавляем данные о покупках в профили\n",
    "        to_merge_columns = ['user_id', 'event_dt', 'revenue']\n",
    "        ltv_raw = self.lifetime_calculation(ltv_raw, self.orders,\n",
    "                                            to_merge_columns,\n",
    "                                            'event_dt')\n",
    "\n",
    "        # группируем по cohort, если в dimensions ничего нет\n",
    "        ltv_raw, dimensions = self.dimensions_check(ltv_raw, dimensions)\n",
    "\n",
    "        # получаем таблицы LTV и ROI\n",
    "        ltv_grouped = self.group_by_dimensions(ltv_raw,\n",
    "                                               dimensions,\n",
    "                                               horizon,\n",
    "                                               values='revenue',\n",
    "                                               aggfunc='sum',\n",
    "                                               cumsum=True)\n",
    "        roi = self.cac_roi(ltv_raw,\n",
    "                           ltv_grouped,\n",
    "                           dimensions,\n",
    "                           horizon)\n",
    "\n",
    "        # для таблиц динамики убираем 'cohort' из dimensions\n",
    "        if 'cohort' in dimensions:\n",
    "            dimensions = []\n",
    "\n",
    "        # получаем таблицы динамики LTV и ROI\n",
    "        ltv_hist = self.group_by_dimensions(ltv_raw,\n",
    "                                            dimensions + ['dt'],\n",
    "                                            horizon,\n",
    "                                            values='revenue',\n",
    "                                            aggfunc='sum',\n",
    "                                            cumsum=True)\n",
    "        roi_hist = self.cac_roi(ltv_raw,\n",
    "                                ltv_hist, dimensions + ['dt'],\n",
    "                                horizon)\n",
    "\n",
    "        # сырые данные, таблица LTV, динамика LTV, ROI, динамика ROI\n",
    "        return ltv_raw, ltv_grouped, ltv_hist, roi, roi_hist\n",
    "\n",
    "    def plot_retention(self, retention, retention_hist, horizon, window=7):\n",
    "        \"\"\"Функция для визуализации удержания.\"\"\"\n",
    "        plt.figure(figsize=(15, 10))\n",
    "\n",
    "        retention = retention.drop(columns=['cohort_size', 0])\n",
    "        retention_hist = retention_hist.drop(\n",
    "            columns=['cohort_size'])[[horizon - 1]]\n",
    "\n",
    "        if retention.index.nlevels == 1:\n",
    "            retention['cohort'] = 'All users'\n",
    "            retention = retention.reset_index().set_index(['cohort', 'payer'])\n",
    "\n",
    "        # кривые удержания платящих пользователей\n",
    "        ax1 = plt.subplot(2, 2, 1)\n",
    "        retention.query('payer == True').droplevel('payer').T.plot(\n",
    "            grid=True, ax=ax1)\n",
    "        plt.legend()\n",
    "        plt.xlabel('Лайфтайм')\n",
    "        plt.title('Удержание платящих пользователей')\n",
    "\n",
    "        # кривые удержания неплатящих\n",
    "        ax2 = plt.subplot(2, 2, 2, sharey=ax1)\n",
    "        retention.query('payer == False').droplevel('payer').T.plot(\n",
    "            grid=True, ax=ax2)\n",
    "        plt.legend()\n",
    "        plt.xlabel('Лайфтайм')\n",
    "        plt.title('Удержание неплатящих пользователей')\n",
    "\n",
    "        # динамика удержания платящих\n",
    "        ax3 = plt.subplot(2, 2, 3)\n",
    "        columns = [name for name in retention_hist.index.names\n",
    "                   if name not in ['dt', 'payer']]\n",
    "        filtered_data = retention_hist.query('payer == True').pivot_table(\n",
    "            index='dt', columns=columns, values=horizon - 1, aggfunc='mean')\n",
    "        filtered_data = self.filter_data(filtered_data, window)\n",
    "        filtered_data.plot(grid=True, ax=ax3, sharey=ax1)\n",
    "        plt.xlabel('Дата привлечения')\n",
    "        plt.title('Динамика удержания платящих '\n",
    "                  f'пользователей на {horizon}-й день')\n",
    "\n",
    "        # динамика удержания неплатящих\n",
    "        ax4 = plt.subplot(2, 2, 4, sharey=ax3)\n",
    "        filtered_data = retention_hist.query('payer == False').pivot_table(\n",
    "            index='dt', columns=columns, values=horizon - 1, aggfunc='mean')\n",
    "        self.filter_data(filtered_data, window).plot(grid=True, ax=ax4)\n",
    "        plt.xlabel('Дата привлечения')\n",
    "        plt.title('Динамика удержания неплатящих '\n",
    "                  f'пользователей на {horizon}-й день')\n",
    "\n",
    "        plt.tight_layout()\n",
    "        plt.show()\n",
    "\n",
    "    def plot_conversion(self, conversion, conversion_hist, horizon, window=7):\n",
    "        \"\"\"Функция для визуализации конверсии.\"\"\"\n",
    "\n",
    "        plt.figure(figsize=(15, 5))\n",
    "\n",
    "        conversion = conversion.drop(columns=['cohort_size'])\n",
    "        conversion_hist = conversion_hist.drop(\n",
    "            columns=['cohort_size'])[[horizon - 1]]\n",
    "\n",
    "        # кривые конверсии\n",
    "        ax1 = plt.subplot(1, 2, 1)\n",
    "        conversion.T.plot(grid=True, ax=ax1)\n",
    "        plt.legend()\n",
    "        plt.xlabel('Лайфтайм')\n",
    "        plt.title('Конверсия пользователей')\n",
    "\n",
    "        # динамика конверсии\n",
    "        ax2 = plt.subplot(1, 2, 2, sharey=ax1)\n",
    "        columns = [name for name in conversion_hist.index.names\n",
    "                   if name not in ['dt']]\n",
    "        filtered_data = conversion_hist.pivot_table(\n",
    "            index='dt', columns=columns, values=horizon - 1, aggfunc='mean')\n",
    "        filtered_data = self.filter_data(filtered_data, window)\n",
    "        filtered_data.plot(grid=True, ax=ax2)\n",
    "        plt.xlabel('Дата привлечения')\n",
    "        plt.title(f'Динамика конверсии пользователей на {horizon}-й день')\n",
    "\n",
    "        plt.tight_layout()\n",
    "        plt.show()\n",
    "\n",
    "    def plot_ltv_roi(self, ltv, ltv_hist, roi, roi_hist, horizon, window=7):\n",
    "        \"\"\"Функция для визуализации LTV и ROI.\"\"\"\n",
    "\n",
    "        plt.figure(figsize=(20, 10))\n",
    "\n",
    "        ltv = ltv.drop(columns=['cohort_size'])\n",
    "        ltv_hist = ltv_hist.drop(columns=['cohort_size'])[[horizon - 1]]\n",
    "        cac_hist = roi_hist[['cac']]\n",
    "        roi = roi.drop(columns=['cohort_size', 'cac'])\n",
    "        roi_hist = roi_hist.drop(columns=['cohort_size', 'cac'])[[horizon - 1]]\n",
    "\n",
    "        # кривые ltv\n",
    "        ax1 = plt.subplot(2, 3, 1)\n",
    "        ltv.T.plot(grid=True, ax=ax1)\n",
    "        plt.legend()\n",
    "        plt.xlabel('Лайфтайм')\n",
    "        plt.title('LTV')\n",
    "\n",
    "        # динамика ltv\n",
    "        ax2 = plt.subplot(2, 3, 2, sharey=ax1)\n",
    "        columns = [name for name in ltv_hist.index.names if name not in ['dt']]\n",
    "        filtered_data = ltv_hist.pivot_table(\n",
    "            index='dt', columns=columns, values=horizon - 1, aggfunc='mean')\n",
    "        self.filter_data(filtered_data, window).plot(grid=True, ax=ax2)\n",
    "        plt.xlabel('Дата привлечения')\n",
    "        plt.title(f'Динамика LTV пользователей на {horizon}-й день')\n",
    "\n",
    "        # динамика cac\n",
    "        ax3 = plt.subplot(2, 3, 3, sharey=ax1)\n",
    "        columns = [name for name in cac_hist.index.names if name not in ['dt']]\n",
    "        filtered_data = cac_hist.pivot_table(\n",
    "            index='dt', columns=columns, values='cac', aggfunc='mean')\n",
    "        self.filter_data(filtered_data, window).plot(grid=True, ax=ax3)\n",
    "        plt.xlabel('Дата привлечения')\n",
    "        plt.title('Динамика стоимости привлечения пользователей')\n",
    "\n",
    "        # кривые roi\n",
    "        ax4 = plt.subplot(2, 3, 4)\n",
    "        roi.T.plot(grid=True, ax=ax4)\n",
    "        plt.axhline(y=1, color='red', linestyle='--',\n",
    "                    label='Уровень окупаемости')\n",
    "        plt.legend()\n",
    "        plt.xlabel('Лайфтайм')\n",
    "        plt.title('ROI')\n",
    "\n",
    "        # динамика roi\n",
    "        ax5 = plt.subplot(2, 3, 5, sharey=ax4)\n",
    "        columns = [name for name in roi_hist.index.names if name not in ['dt']]\n",
    "        filtered_data = roi_hist.pivot_table(\n",
    "            index='dt', columns=columns, values=horizon - 1, aggfunc='mean')\n",
    "        self.filter_data(filtered_data, window).plot(grid=True, ax=ax5)\n",
    "        plt.axhline(y=1, color='red', linestyle='--',\n",
    "                    label='Уровень окупаемости')\n",
    "        plt.xlabel('Дата привлечения')\n",
    "        plt.title(f'Динамика ROI пользователей на {horizon}-й день')\n",
    "\n",
    "        plt.tight_layout()\n",
    "        plt.show()\n",
    "\n",
    "    def sns_catplot(self, x, y, data, title='',\n",
    "                    xlabel='', ylabel='', *args, **kwargs):\n",
    "        \"\"\"Гистограмма.\"\"\"\n",
    "        plt.figure(figsize=(7, 7), dpi=80)\n",
    "        plt.style.use('seaborn-darkgrid')\n",
    "        sns.catplot(x=x, y=y,\n",
    "                    kind='bar', color='orange',\n",
    "                    data=data,\n",
    "                    height=7, aspect=.9, saturation=.5)\n",
    "        _ = plt.title(title, fontsize=12, loc='left')\n",
    "        _ = plt.xlabel(xlabel, fontsize=12)\n",
    "        _ = plt.ylabel(ylabel, fontsize=12)\n",
    "        _ = plt.xticks(rotation=45)\n",
    "        plt.show()\n",
    "\n",
    "    def square_plot(self, df, column, title=''):\n",
    "        df_grouped = df.groupby(column).size().reset_index(name='counts')\n",
    "        labels = df_grouped.apply(lambda x: str(\n",
    "            x[0]) + \"\\n (\" + str(x[1]) + \")\", axis=1)\n",
    "        sizes = df_grouped['counts'].values.tolist()\n",
    "        colors = [plt.cm.Spectral(i/float(len(labels)))\n",
    "                  for i in range(len(labels))]\n",
    "\n",
    "        plt.figure(figsize=(7, 7), dpi=80)\n",
    "        squarify.plot(sizes=sizes, label=labels, color=colors, alpha=.8)\n",
    "        plt.title(title)\n",
    "        plt.axis('off')\n",
    "\n",
    "    def histogram(self, data, n_bins, range_start, range_end,\n",
    "                  grid=True, cumulative=False,\n",
    "                  x_label='', y_label='', title=''):\n",
    "        \"\"\"Простая гистограмма.\"\"\"\n",
    "\n",
    "        _, ax = plt.subplots(figsize=(15, 10), dpi=80)\n",
    "        ax.hist(data, bins=n_bins, range=(range_start, range_end),\n",
    "                cumulative=cumulative, color='#4169E1')\n",
    "\n",
    "        if grid == True:\n",
    "            ax.grid(color='grey', linestyle='-', linewidth=0.5)\n",
    "\n",
    "        ax.axvline(data.median(), linestyle='--',\n",
    "                   color='#FF1493', label='median')\n",
    "        ax.axvline(data.mean(), linestyle='--', color='orange', label='mean')\n",
    "        ax.axvline(data.quantile(0.1), linestyle='--',\n",
    "                   color='yellow', label='1%')\n",
    "        ax.axvline(data.quantile(0.99), linestyle='--',\n",
    "                   color='yellow', label='99%')\n",
    "        ax.legend()\n",
    "        ax.set_ylabel(y_label)\n",
    "        ax.set_xlabel(x_label)\n",
    "        ax.set_title(title)"
   ]
  },
  {
   "cell_type": "markdown",
   "id": "462f7065",
   "metadata": {},
   "source": [
    "<div class=\"alert alert-success\">\n",
    "<b>Комментарий ревьюера:</b>☀️\n",
    "    \n",
    "Основательно взялся за анализ </div>\n"
   ]
  },
  {
   "cell_type": "markdown",
   "id": "e4d0d609-2f14-40f2-ac36-dfabd02e38d9",
   "metadata": {},
   "source": [
    "[В оглавление](#TOC)"
   ]
  },
  {
   "cell_type": "markdown",
   "id": "6207ec28-bc70-4b59-9d18-1f606a6e6a7c",
   "metadata": {},
   "source": [
    "## 2) Прочитаем данные<a class=\"anchor\" id=\"1_2\"></a>"
   ]
  },
  {
   "cell_type": "markdown",
   "id": "45d8428d-740d-4937-8e45-2e93d70f9511",
   "metadata": {},
   "source": [
    "### - описание данных"
   ]
  },
  {
   "cell_type": "markdown",
   "id": "ddb97df8-e510-40f2-ac2d-0d74bef264cc",
   "metadata": {},
   "source": [
    "Файл visits_info_short.csv хранит лог сервера с информацией о посещениях сайта, orders_info_short.csv — информацию о покупках, а costs_info_short.csv — информацию о расходах на рекламу.\n",
    "\n",
    "\n",
    "Структура visits_info_short.csv|Описание|Структура orders_info_short.csv|Описание|Структура costs_info_short.csv|Описание\n",
    ":-----|:-----|:-----|:-----|:-----|:-----  \n",
    "User Id|уникальный идентификатор пользователя|User Id|уникальный идентификатор пользователя|Channel|идентификатор рекламного источника\n",
    "Region|страна пользователя|Event Dt|дата и время покупки|Dt|дата проведения рекламной кампании\n",
    "Device|тип устройства пользователя|Revenue|сумма заказа|Costs|расходы на эту кампанию\n",
    "Channel|идентификатор источника перехода| | | | \n",
    "Session Start|дата и время начала сессии| | | | \n",
    "Session End|дата и время окончания сессии| | | | "
   ]
  },
  {
   "cell_type": "markdown",
   "id": "f64e7c54-7b2f-4411-a031-11eb6da854ac",
   "metadata": {},
   "source": [
    "### - создадим экземпляр класса с путями до данных, приведем наименование колонок к едином формату, установим нужный тип данных"
   ]
  },
  {
   "cell_type": "code",
   "execution_count": 4,
   "id": "121710bc-d2aa-49aa-a659-c11984d3f4d1",
   "metadata": {},
   "outputs": [
    {
     "ename": "FileNotFoundError",
     "evalue": "[Errno 2] No such file or directory: 'datasets/visits_info_short.csv'",
     "output_type": "error",
     "traceback": [
      "\u001b[0;31m---------------------------------------------------------------------------\u001b[0m",
      "\u001b[0;31mFileNotFoundError\u001b[0m                         Traceback (most recent call last)",
      "Input \u001b[0;32mIn [4]\u001b[0m, in \u001b[0;36m<cell line: 1>\u001b[0;34m()\u001b[0m\n\u001b[0;32m----> 1\u001b[0m calc \u001b[38;5;241m=\u001b[39m \u001b[43mMetricCalculator\u001b[49m\u001b[43m(\u001b[49m\u001b[38;5;124;43m'\u001b[39;49m\u001b[38;5;124;43mdatasets/visits_info_short.csv\u001b[39;49m\u001b[38;5;124;43m'\u001b[39;49m\u001b[43m,\u001b[49m\u001b[43m \u001b[49m\u001b[38;5;124;43m'\u001b[39;49m\u001b[38;5;124;43mdatasets/orders_info_short.csv\u001b[39;49m\u001b[38;5;124;43m'\u001b[39;49m\u001b[43m,\u001b[49m\u001b[43m \u001b[49m\u001b[38;5;124;43m'\u001b[39;49m\u001b[38;5;124;43mdatasets/costs_info_short.csv\u001b[39;49m\u001b[38;5;124;43m'\u001b[39;49m\u001b[43m)\u001b[49m\n",
      "Input \u001b[0;32mIn [3]\u001b[0m, in \u001b[0;36mMetricCalculator.__init__\u001b[0;34m(self, visits, orders, costs)\u001b[0m\n\u001b[1;32m      4\u001b[0m \u001b[38;5;28;01mdef\u001b[39;00m \u001b[38;5;21m__init__\u001b[39m(\u001b[38;5;28mself\u001b[39m, visits, orders, costs):\n\u001b[0;32m----> 5\u001b[0m     \u001b[38;5;28mself\u001b[39m\u001b[38;5;241m.\u001b[39mvisits \u001b[38;5;241m=\u001b[39m \u001b[43mpd\u001b[49m\u001b[38;5;241;43m.\u001b[39;49m\u001b[43mread_csv\u001b[49m\u001b[43m(\u001b[49m\u001b[43mvisits\u001b[49m\u001b[43m,\u001b[49m\u001b[43m \u001b[49m\u001b[43mparse_dates\u001b[49m\u001b[38;5;241;43m=\u001b[39;49m\u001b[43m[\u001b[49m\u001b[38;5;124;43m'\u001b[39;49m\u001b[38;5;124;43mSession Start\u001b[39;49m\u001b[38;5;124;43m'\u001b[39;49m\u001b[43m,\u001b[49m\n\u001b[1;32m      6\u001b[0m \u001b[43m                                                   \u001b[49m\u001b[38;5;124;43m'\u001b[39;49m\u001b[38;5;124;43mSession End\u001b[39;49m\u001b[38;5;124;43m'\u001b[39;49m\u001b[43m]\u001b[49m\u001b[43m)\u001b[49m\n\u001b[1;32m      7\u001b[0m     \u001b[38;5;28mself\u001b[39m\u001b[38;5;241m.\u001b[39morders \u001b[38;5;241m=\u001b[39m pd\u001b[38;5;241m.\u001b[39mread_csv(orders, parse_dates\u001b[38;5;241m=\u001b[39m[\u001b[38;5;124m'\u001b[39m\u001b[38;5;124mEvent Dt\u001b[39m\u001b[38;5;124m'\u001b[39m])\n\u001b[1;32m      8\u001b[0m     \u001b[38;5;28mself\u001b[39m\u001b[38;5;241m.\u001b[39mcosts \u001b[38;5;241m=\u001b[39m pd\u001b[38;5;241m.\u001b[39mread_csv(costs, parse_dates\u001b[38;5;241m=\u001b[39m[\u001b[38;5;124m'\u001b[39m\u001b[38;5;124mdt\u001b[39m\u001b[38;5;124m'\u001b[39m])\n",
      "File \u001b[0;32m~/Документы/GitHub/practicum_da_projects/venv/lib/python3.8/site-packages/pandas/util/_decorators.py:311\u001b[0m, in \u001b[0;36mdeprecate_nonkeyword_arguments.<locals>.decorate.<locals>.wrapper\u001b[0;34m(*args, **kwargs)\u001b[0m\n\u001b[1;32m    305\u001b[0m \u001b[38;5;28;01mif\u001b[39;00m \u001b[38;5;28mlen\u001b[39m(args) \u001b[38;5;241m>\u001b[39m num_allow_args:\n\u001b[1;32m    306\u001b[0m     warnings\u001b[38;5;241m.\u001b[39mwarn(\n\u001b[1;32m    307\u001b[0m         msg\u001b[38;5;241m.\u001b[39mformat(arguments\u001b[38;5;241m=\u001b[39marguments),\n\u001b[1;32m    308\u001b[0m         \u001b[38;5;167;01mFutureWarning\u001b[39;00m,\n\u001b[1;32m    309\u001b[0m         stacklevel\u001b[38;5;241m=\u001b[39mstacklevel,\n\u001b[1;32m    310\u001b[0m     )\n\u001b[0;32m--> 311\u001b[0m \u001b[38;5;28;01mreturn\u001b[39;00m \u001b[43mfunc\u001b[49m\u001b[43m(\u001b[49m\u001b[38;5;241;43m*\u001b[39;49m\u001b[43margs\u001b[49m\u001b[43m,\u001b[49m\u001b[43m \u001b[49m\u001b[38;5;241;43m*\u001b[39;49m\u001b[38;5;241;43m*\u001b[39;49m\u001b[43mkwargs\u001b[49m\u001b[43m)\u001b[49m\n",
      "File \u001b[0;32m~/Документы/GitHub/practicum_da_projects/venv/lib/python3.8/site-packages/pandas/io/parsers/readers.py:680\u001b[0m, in \u001b[0;36mread_csv\u001b[0;34m(filepath_or_buffer, sep, delimiter, header, names, index_col, usecols, squeeze, prefix, mangle_dupe_cols, dtype, engine, converters, true_values, false_values, skipinitialspace, skiprows, skipfooter, nrows, na_values, keep_default_na, na_filter, verbose, skip_blank_lines, parse_dates, infer_datetime_format, keep_date_col, date_parser, dayfirst, cache_dates, iterator, chunksize, compression, thousands, decimal, lineterminator, quotechar, quoting, doublequote, escapechar, comment, encoding, encoding_errors, dialect, error_bad_lines, warn_bad_lines, on_bad_lines, delim_whitespace, low_memory, memory_map, float_precision, storage_options)\u001b[0m\n\u001b[1;32m    665\u001b[0m kwds_defaults \u001b[38;5;241m=\u001b[39m _refine_defaults_read(\n\u001b[1;32m    666\u001b[0m     dialect,\n\u001b[1;32m    667\u001b[0m     delimiter,\n\u001b[0;32m   (...)\u001b[0m\n\u001b[1;32m    676\u001b[0m     defaults\u001b[38;5;241m=\u001b[39m{\u001b[38;5;124m\"\u001b[39m\u001b[38;5;124mdelimiter\u001b[39m\u001b[38;5;124m\"\u001b[39m: \u001b[38;5;124m\"\u001b[39m\u001b[38;5;124m,\u001b[39m\u001b[38;5;124m\"\u001b[39m},\n\u001b[1;32m    677\u001b[0m )\n\u001b[1;32m    678\u001b[0m kwds\u001b[38;5;241m.\u001b[39mupdate(kwds_defaults)\n\u001b[0;32m--> 680\u001b[0m \u001b[38;5;28;01mreturn\u001b[39;00m \u001b[43m_read\u001b[49m\u001b[43m(\u001b[49m\u001b[43mfilepath_or_buffer\u001b[49m\u001b[43m,\u001b[49m\u001b[43m \u001b[49m\u001b[43mkwds\u001b[49m\u001b[43m)\u001b[49m\n",
      "File \u001b[0;32m~/Документы/GitHub/practicum_da_projects/venv/lib/python3.8/site-packages/pandas/io/parsers/readers.py:575\u001b[0m, in \u001b[0;36m_read\u001b[0;34m(filepath_or_buffer, kwds)\u001b[0m\n\u001b[1;32m    572\u001b[0m _validate_names(kwds\u001b[38;5;241m.\u001b[39mget(\u001b[38;5;124m\"\u001b[39m\u001b[38;5;124mnames\u001b[39m\u001b[38;5;124m\"\u001b[39m, \u001b[38;5;28;01mNone\u001b[39;00m))\n\u001b[1;32m    574\u001b[0m \u001b[38;5;66;03m# Create the parser.\u001b[39;00m\n\u001b[0;32m--> 575\u001b[0m parser \u001b[38;5;241m=\u001b[39m \u001b[43mTextFileReader\u001b[49m\u001b[43m(\u001b[49m\u001b[43mfilepath_or_buffer\u001b[49m\u001b[43m,\u001b[49m\u001b[43m \u001b[49m\u001b[38;5;241;43m*\u001b[39;49m\u001b[38;5;241;43m*\u001b[39;49m\u001b[43mkwds\u001b[49m\u001b[43m)\u001b[49m\n\u001b[1;32m    577\u001b[0m \u001b[38;5;28;01mif\u001b[39;00m chunksize \u001b[38;5;129;01mor\u001b[39;00m iterator:\n\u001b[1;32m    578\u001b[0m     \u001b[38;5;28;01mreturn\u001b[39;00m parser\n",
      "File \u001b[0;32m~/Документы/GitHub/practicum_da_projects/venv/lib/python3.8/site-packages/pandas/io/parsers/readers.py:933\u001b[0m, in \u001b[0;36mTextFileReader.__init__\u001b[0;34m(self, f, engine, **kwds)\u001b[0m\n\u001b[1;32m    930\u001b[0m     \u001b[38;5;28mself\u001b[39m\u001b[38;5;241m.\u001b[39moptions[\u001b[38;5;124m\"\u001b[39m\u001b[38;5;124mhas_index_names\u001b[39m\u001b[38;5;124m\"\u001b[39m] \u001b[38;5;241m=\u001b[39m kwds[\u001b[38;5;124m\"\u001b[39m\u001b[38;5;124mhas_index_names\u001b[39m\u001b[38;5;124m\"\u001b[39m]\n\u001b[1;32m    932\u001b[0m \u001b[38;5;28mself\u001b[39m\u001b[38;5;241m.\u001b[39mhandles: IOHandles \u001b[38;5;241m|\u001b[39m \u001b[38;5;28;01mNone\u001b[39;00m \u001b[38;5;241m=\u001b[39m \u001b[38;5;28;01mNone\u001b[39;00m\n\u001b[0;32m--> 933\u001b[0m \u001b[38;5;28mself\u001b[39m\u001b[38;5;241m.\u001b[39m_engine \u001b[38;5;241m=\u001b[39m \u001b[38;5;28;43mself\u001b[39;49m\u001b[38;5;241;43m.\u001b[39;49m\u001b[43m_make_engine\u001b[49m\u001b[43m(\u001b[49m\u001b[43mf\u001b[49m\u001b[43m,\u001b[49m\u001b[43m \u001b[49m\u001b[38;5;28;43mself\u001b[39;49m\u001b[38;5;241;43m.\u001b[39;49m\u001b[43mengine\u001b[49m\u001b[43m)\u001b[49m\n",
      "File \u001b[0;32m~/Документы/GitHub/practicum_da_projects/venv/lib/python3.8/site-packages/pandas/io/parsers/readers.py:1217\u001b[0m, in \u001b[0;36mTextFileReader._make_engine\u001b[0;34m(self, f, engine)\u001b[0m\n\u001b[1;32m   1213\u001b[0m     mode \u001b[38;5;241m=\u001b[39m \u001b[38;5;124m\"\u001b[39m\u001b[38;5;124mrb\u001b[39m\u001b[38;5;124m\"\u001b[39m\n\u001b[1;32m   1214\u001b[0m \u001b[38;5;66;03m# error: No overload variant of \"get_handle\" matches argument types\u001b[39;00m\n\u001b[1;32m   1215\u001b[0m \u001b[38;5;66;03m# \"Union[str, PathLike[str], ReadCsvBuffer[bytes], ReadCsvBuffer[str]]\"\u001b[39;00m\n\u001b[1;32m   1216\u001b[0m \u001b[38;5;66;03m# , \"str\", \"bool\", \"Any\", \"Any\", \"Any\", \"Any\", \"Any\"\u001b[39;00m\n\u001b[0;32m-> 1217\u001b[0m \u001b[38;5;28mself\u001b[39m\u001b[38;5;241m.\u001b[39mhandles \u001b[38;5;241m=\u001b[39m \u001b[43mget_handle\u001b[49m\u001b[43m(\u001b[49m\u001b[43m  \u001b[49m\u001b[38;5;66;43;03m# type: ignore[call-overload]\u001b[39;49;00m\n\u001b[1;32m   1218\u001b[0m \u001b[43m    \u001b[49m\u001b[43mf\u001b[49m\u001b[43m,\u001b[49m\n\u001b[1;32m   1219\u001b[0m \u001b[43m    \u001b[49m\u001b[43mmode\u001b[49m\u001b[43m,\u001b[49m\n\u001b[1;32m   1220\u001b[0m \u001b[43m    \u001b[49m\u001b[43mencoding\u001b[49m\u001b[38;5;241;43m=\u001b[39;49m\u001b[38;5;28;43mself\u001b[39;49m\u001b[38;5;241;43m.\u001b[39;49m\u001b[43moptions\u001b[49m\u001b[38;5;241;43m.\u001b[39;49m\u001b[43mget\u001b[49m\u001b[43m(\u001b[49m\u001b[38;5;124;43m\"\u001b[39;49m\u001b[38;5;124;43mencoding\u001b[39;49m\u001b[38;5;124;43m\"\u001b[39;49m\u001b[43m,\u001b[49m\u001b[43m \u001b[49m\u001b[38;5;28;43;01mNone\u001b[39;49;00m\u001b[43m)\u001b[49m\u001b[43m,\u001b[49m\n\u001b[1;32m   1221\u001b[0m \u001b[43m    \u001b[49m\u001b[43mcompression\u001b[49m\u001b[38;5;241;43m=\u001b[39;49m\u001b[38;5;28;43mself\u001b[39;49m\u001b[38;5;241;43m.\u001b[39;49m\u001b[43moptions\u001b[49m\u001b[38;5;241;43m.\u001b[39;49m\u001b[43mget\u001b[49m\u001b[43m(\u001b[49m\u001b[38;5;124;43m\"\u001b[39;49m\u001b[38;5;124;43mcompression\u001b[39;49m\u001b[38;5;124;43m\"\u001b[39;49m\u001b[43m,\u001b[49m\u001b[43m \u001b[49m\u001b[38;5;28;43;01mNone\u001b[39;49;00m\u001b[43m)\u001b[49m\u001b[43m,\u001b[49m\n\u001b[1;32m   1222\u001b[0m \u001b[43m    \u001b[49m\u001b[43mmemory_map\u001b[49m\u001b[38;5;241;43m=\u001b[39;49m\u001b[38;5;28;43mself\u001b[39;49m\u001b[38;5;241;43m.\u001b[39;49m\u001b[43moptions\u001b[49m\u001b[38;5;241;43m.\u001b[39;49m\u001b[43mget\u001b[49m\u001b[43m(\u001b[49m\u001b[38;5;124;43m\"\u001b[39;49m\u001b[38;5;124;43mmemory_map\u001b[39;49m\u001b[38;5;124;43m\"\u001b[39;49m\u001b[43m,\u001b[49m\u001b[43m \u001b[49m\u001b[38;5;28;43;01mFalse\u001b[39;49;00m\u001b[43m)\u001b[49m\u001b[43m,\u001b[49m\n\u001b[1;32m   1223\u001b[0m \u001b[43m    \u001b[49m\u001b[43mis_text\u001b[49m\u001b[38;5;241;43m=\u001b[39;49m\u001b[43mis_text\u001b[49m\u001b[43m,\u001b[49m\n\u001b[1;32m   1224\u001b[0m \u001b[43m    \u001b[49m\u001b[43merrors\u001b[49m\u001b[38;5;241;43m=\u001b[39;49m\u001b[38;5;28;43mself\u001b[39;49m\u001b[38;5;241;43m.\u001b[39;49m\u001b[43moptions\u001b[49m\u001b[38;5;241;43m.\u001b[39;49m\u001b[43mget\u001b[49m\u001b[43m(\u001b[49m\u001b[38;5;124;43m\"\u001b[39;49m\u001b[38;5;124;43mencoding_errors\u001b[39;49m\u001b[38;5;124;43m\"\u001b[39;49m\u001b[43m,\u001b[49m\u001b[43m \u001b[49m\u001b[38;5;124;43m\"\u001b[39;49m\u001b[38;5;124;43mstrict\u001b[39;49m\u001b[38;5;124;43m\"\u001b[39;49m\u001b[43m)\u001b[49m\u001b[43m,\u001b[49m\n\u001b[1;32m   1225\u001b[0m \u001b[43m    \u001b[49m\u001b[43mstorage_options\u001b[49m\u001b[38;5;241;43m=\u001b[39;49m\u001b[38;5;28;43mself\u001b[39;49m\u001b[38;5;241;43m.\u001b[39;49m\u001b[43moptions\u001b[49m\u001b[38;5;241;43m.\u001b[39;49m\u001b[43mget\u001b[49m\u001b[43m(\u001b[49m\u001b[38;5;124;43m\"\u001b[39;49m\u001b[38;5;124;43mstorage_options\u001b[39;49m\u001b[38;5;124;43m\"\u001b[39;49m\u001b[43m,\u001b[49m\u001b[43m \u001b[49m\u001b[38;5;28;43;01mNone\u001b[39;49;00m\u001b[43m)\u001b[49m\u001b[43m,\u001b[49m\n\u001b[1;32m   1226\u001b[0m \u001b[43m\u001b[49m\u001b[43m)\u001b[49m\n\u001b[1;32m   1227\u001b[0m \u001b[38;5;28;01massert\u001b[39;00m \u001b[38;5;28mself\u001b[39m\u001b[38;5;241m.\u001b[39mhandles \u001b[38;5;129;01mis\u001b[39;00m \u001b[38;5;129;01mnot\u001b[39;00m \u001b[38;5;28;01mNone\u001b[39;00m\n\u001b[1;32m   1228\u001b[0m f \u001b[38;5;241m=\u001b[39m \u001b[38;5;28mself\u001b[39m\u001b[38;5;241m.\u001b[39mhandles\u001b[38;5;241m.\u001b[39mhandle\n",
      "File \u001b[0;32m~/Документы/GitHub/practicum_da_projects/venv/lib/python3.8/site-packages/pandas/io/common.py:789\u001b[0m, in \u001b[0;36mget_handle\u001b[0;34m(path_or_buf, mode, encoding, compression, memory_map, is_text, errors, storage_options)\u001b[0m\n\u001b[1;32m    784\u001b[0m \u001b[38;5;28;01melif\u001b[39;00m \u001b[38;5;28misinstance\u001b[39m(handle, \u001b[38;5;28mstr\u001b[39m):\n\u001b[1;32m    785\u001b[0m     \u001b[38;5;66;03m# Check whether the filename is to be opened in binary mode.\u001b[39;00m\n\u001b[1;32m    786\u001b[0m     \u001b[38;5;66;03m# Binary mode does not support 'encoding' and 'newline'.\u001b[39;00m\n\u001b[1;32m    787\u001b[0m     \u001b[38;5;28;01mif\u001b[39;00m ioargs\u001b[38;5;241m.\u001b[39mencoding \u001b[38;5;129;01mand\u001b[39;00m \u001b[38;5;124m\"\u001b[39m\u001b[38;5;124mb\u001b[39m\u001b[38;5;124m\"\u001b[39m \u001b[38;5;129;01mnot\u001b[39;00m \u001b[38;5;129;01min\u001b[39;00m ioargs\u001b[38;5;241m.\u001b[39mmode:\n\u001b[1;32m    788\u001b[0m         \u001b[38;5;66;03m# Encoding\u001b[39;00m\n\u001b[0;32m--> 789\u001b[0m         handle \u001b[38;5;241m=\u001b[39m \u001b[38;5;28;43mopen\u001b[39;49m\u001b[43m(\u001b[49m\n\u001b[1;32m    790\u001b[0m \u001b[43m            \u001b[49m\u001b[43mhandle\u001b[49m\u001b[43m,\u001b[49m\n\u001b[1;32m    791\u001b[0m \u001b[43m            \u001b[49m\u001b[43mioargs\u001b[49m\u001b[38;5;241;43m.\u001b[39;49m\u001b[43mmode\u001b[49m\u001b[43m,\u001b[49m\n\u001b[1;32m    792\u001b[0m \u001b[43m            \u001b[49m\u001b[43mencoding\u001b[49m\u001b[38;5;241;43m=\u001b[39;49m\u001b[43mioargs\u001b[49m\u001b[38;5;241;43m.\u001b[39;49m\u001b[43mencoding\u001b[49m\u001b[43m,\u001b[49m\n\u001b[1;32m    793\u001b[0m \u001b[43m            \u001b[49m\u001b[43merrors\u001b[49m\u001b[38;5;241;43m=\u001b[39;49m\u001b[43merrors\u001b[49m\u001b[43m,\u001b[49m\n\u001b[1;32m    794\u001b[0m \u001b[43m            \u001b[49m\u001b[43mnewline\u001b[49m\u001b[38;5;241;43m=\u001b[39;49m\u001b[38;5;124;43m\"\u001b[39;49m\u001b[38;5;124;43m\"\u001b[39;49m\u001b[43m,\u001b[49m\n\u001b[1;32m    795\u001b[0m \u001b[43m        \u001b[49m\u001b[43m)\u001b[49m\n\u001b[1;32m    796\u001b[0m     \u001b[38;5;28;01melse\u001b[39;00m:\n\u001b[1;32m    797\u001b[0m         \u001b[38;5;66;03m# Binary mode\u001b[39;00m\n\u001b[1;32m    798\u001b[0m         handle \u001b[38;5;241m=\u001b[39m \u001b[38;5;28mopen\u001b[39m(handle, ioargs\u001b[38;5;241m.\u001b[39mmode)\n",
      "\u001b[0;31mFileNotFoundError\u001b[0m: [Errno 2] No such file or directory: 'datasets/visits_info_short.csv'"
     ]
    }
   ],
   "source": [
    "calc = MetricCalculator('datasets/visits_info_short.csv', 'datasets/orders_info_short.csv', 'datasets/costs_info_short.csv')"
   ]
  },
  {
   "cell_type": "code",
   "execution_count": null,
   "id": "b9d1f2da-ca2b-47ba-9733-e7662465fba7",
   "metadata": {},
   "outputs": [],
   "source": [
    "calc.columns_fixer()"
   ]
  },
  {
   "cell_type": "markdown",
   "id": "771b2d07-6741-4919-8b94-d56e245ba566",
   "metadata": {},
   "source": [
    "Cоздан экземпляр класса:\n",
    "- данные прочитаны, \n",
    "- наименование колонок приведено к единому формату,\n",
    "- колонки с датами приведены к соответствующему формату.\n",
    "\n",
    "Датасеты доступны через экземпляр класса по именам **visits, orders, costs**."
   ]
  },
  {
   "cell_type": "markdown",
   "id": "c3a4e61c",
   "metadata": {},
   "source": [
    "<div class=\"alert alert-warning\">\n",
    "<b>Комментарий ревьюера:</b>⛅️ \n",
    "    \n",
    "* Проблема названий столбцов ведь только в том, что имеются пробелы и заглавные буквы, соответственно можно было бы обойтись и без `rename`\n",
    "* Могу предложить такой вариант `visits.columns = [x.lower().replace(' ', '_') for x in visits.columns.values]`\n",
    "    \n",
    "\n",
    "</div>"
   ]
  },
  {
   "cell_type": "markdown",
   "id": "d2bbb4fe-b2aa-4dca-b26d-746b35707b25",
   "metadata": {},
   "source": [
    "<div class=\"alert alert-info\"> ✔️ </div>"
   ]
  },
  {
   "cell_type": "markdown",
   "id": "7581a982-983d-47c4-bf91-20bbb810c220",
   "metadata": {
    "tags": []
   },
   "source": [
    "## 3) Выведем первые пять первых и последних строк каждой из таблиц, общую информацию<a class=\"anchor\" id=\"1_3\"></a>"
   ]
  },
  {
   "cell_type": "markdown",
   "id": "82c71cff-1de5-4ade-b194-7bff33c58a9b",
   "metadata": {
    "tags": []
   },
   "source": [
    "### - visits - посещение сайта"
   ]
  },
  {
   "cell_type": "code",
   "execution_count": null,
   "id": "a039f8ff-bb21-4189-a804-e0ca4224a41c",
   "metadata": {},
   "outputs": [],
   "source": [
    "calc.visits"
   ]
  },
  {
   "cell_type": "code",
   "execution_count": null,
   "id": "6e8c0a9b-40ea-4910-9328-e06cf31532a4",
   "metadata": {},
   "outputs": [],
   "source": [
    "calc.visits.info()"
   ]
  },
  {
   "cell_type": "markdown",
   "id": "bb72011b-ffe0-43dd-bbc8-e3f9a801edc9",
   "metadata": {},
   "source": [
    "&#9889; **Вывод:** в датасете с информацией о посещениях сайта 309 901 строка, без пропусков, без проблем с типами данных."
   ]
  },
  {
   "cell_type": "markdown",
   "id": "569b3243-03a0-4fc3-bb57-317f04ce1c62",
   "metadata": {},
   "source": [
    "### - orders - информация о покупках"
   ]
  },
  {
   "cell_type": "code",
   "execution_count": null,
   "id": "f8c8de6d-97e9-4ddd-9c6a-7ab7f89b3b0e",
   "metadata": {},
   "outputs": [],
   "source": [
    "calc.orders"
   ]
  },
  {
   "cell_type": "code",
   "execution_count": null,
   "id": "7bed3cb3-87bc-47c5-8d24-3986d0a69822",
   "metadata": {},
   "outputs": [],
   "source": [
    "calc.orders.info()"
   ]
  },
  {
   "cell_type": "markdown",
   "id": "aa51e396-5011-4b58-9ce4-a7f22fb31a5d",
   "metadata": {},
   "source": [
    "&#9889; **Вывод:** в датасете с информацией о покупках 40 212 строк (13% от числа визитов), без пропусков, без проблем с типами данных."
   ]
  },
  {
   "cell_type": "markdown",
   "id": "96910e69-515b-41e2-bff8-51aa3340fbba",
   "metadata": {},
   "source": [
    "### - costs - информация о расходах"
   ]
  },
  {
   "cell_type": "code",
   "execution_count": null,
   "id": "a899540a-7361-49f8-a65f-c7e1a6ea8ceb",
   "metadata": {},
   "outputs": [],
   "source": [
    "calc.costs"
   ]
  },
  {
   "cell_type": "code",
   "execution_count": null,
   "id": "17800307-4794-492c-941c-81264298aaa0",
   "metadata": {},
   "outputs": [],
   "source": [
    "calc.costs.info()"
   ]
  },
  {
   "cell_type": "markdown",
   "id": "e675278d-5904-4aed-9c97-e4766e0ab6db",
   "metadata": {},
   "source": [
    "&#9889; **Вывод:** в датасете с информацией расходах 1800, без пропусков, без проблем с типами данных."
   ]
  },
  {
   "cell_type": "markdown",
   "id": "955d1e6f-7d8b-4525-a398-100a55b278b1",
   "metadata": {},
   "source": [
    "### - проверим наличие полных дубликатов"
   ]
  },
  {
   "cell_type": "code",
   "execution_count": null,
   "id": "f80d6ebb-49ed-48b5-8097-74b5a7c39cad",
   "metadata": {},
   "outputs": [],
   "source": [
    "datasets = [calc.visits, calc.orders, calc.costs]\n",
    "duplicated_sum = 0\n",
    "for dataset in datasets:\n",
    "    duplicated_sum += (dataset.duplicated() == True).sum()\n",
    "print(duplicated_sum)"
   ]
  },
  {
   "cell_type": "markdown",
   "id": "631efc02-8d86-436d-9db5-b5ff52afc06d",
   "metadata": {},
   "source": [
    "Полных дубликатов нет"
   ]
  },
  {
   "cell_type": "markdown",
   "id": "a02d0744",
   "metadata": {},
   "source": [
    "<div class=\"alert alert-success\">\n",
    "<b>Комментарий ревьюера:</b>☀️\n",
    "    \n",
    "Отлично, можно было бы ещё сделать функцию для первичного анализа, подсчет числа дубликатов, вывод `info` и самого датафрейма, действия ведь с каждым датафреймом одинаковые получились</div>"
   ]
  },
  {
   "cell_type": "markdown",
   "id": "0adaa1b3-c8fe-4412-8041-4d4abcb03764",
   "metadata": {
    "tags": []
   },
   "source": [
    "## Вывод<a class=\"anchor\" id=\"1_conclusion\"></a>"
   ]
  },
  {
   "cell_type": "markdown",
   "id": "5a55f053-bfa2-4b1a-ac90-cd94ba336ad9",
   "metadata": {},
   "source": [
    "1. Прочитали данные с помощью специального класса, наименование колонок приведено к единому формату, колонки с датами приведены к соответствующему формату. Датасеты доступны через экземпляр класса по именам visits, orders, costs.\n",
    "2. Во всех датасетах нет проблем с типами данных, полные дубликаты отсутствуют, нет пропусков."
   ]
  },
  {
   "cell_type": "markdown",
   "id": "cdae8ca6-f316-4508-8f0c-c5a855d34e5d",
   "metadata": {},
   "source": [
    "[В оглавление](#TOC)"
   ]
  },
  {
   "cell_type": "markdown",
   "id": "6571f1d7-8573-470b-9c62-10e3e73b8a5d",
   "metadata": {
    "tags": []
   },
   "source": [
    "# II. Исследовательский анализ данных<a class='anchor' id='2'>\n",
    "***"
   ]
  },
  {
   "cell_type": "markdown",
   "id": "73d71da5-6007-4187-97ad-c06625c67388",
   "metadata": {
    "tags": []
   },
   "source": [
    "## 1) Получим профили пользователей<a class=\"anchor\" id=\"2_1\"></a>"
   ]
  },
  {
   "cell_type": "code",
   "execution_count": null,
   "id": "75328271-21f7-447c-825e-2a9ce10448d5",
   "metadata": {},
   "outputs": [],
   "source": [
    "profiles = calc.get_profiles()"
   ]
  },
  {
   "cell_type": "code",
   "execution_count": null,
   "id": "bbc99b1d-3391-4c35-ac5c-d81b220fc17e",
   "metadata": {},
   "outputs": [],
   "source": [
    "profiles"
   ]
  },
  {
   "cell_type": "markdown",
   "id": "a8eb169c-19e8-4bf7-981c-5d20ef23ef68",
   "metadata": {},
   "source": [
    "[В оглавление](#TOC)"
   ]
  },
  {
   "cell_type": "markdown",
   "id": "c89743a6-7a97-451d-8c50-cc8ea1aa954b",
   "metadata": {},
   "source": [
    "## 2) Установим момент и горизонт анализа данных<a class=\"anchor\" id=\"2_2\"></a>"
   ]
  },
  {
   "cell_type": "markdown",
   "id": "741bd108-ddbc-45fb-aebf-b7529dc7dfd9",
   "metadata": {},
   "source": [
    "По условиям задачи на календаре 1 ноября 2019 года, в бизнес-плане заложено, что пользователи должны окупаться не позднее чем через две недели после привлечения:"
   ]
  },
  {
   "cell_type": "code",
   "execution_count": null,
   "id": "c3907a3b-f957-4ca9-b2af-c4c9983cdad0",
   "metadata": {},
   "outputs": [],
   "source": [
    "observation_date = datetime(2019, 11, 1).date()\n",
    "horizon_days = 14"
   ]
  },
  {
   "cell_type": "markdown",
   "id": "37247261-569e-4196-8d12-0face71ca42a",
   "metadata": {},
   "source": [
    "[В оглавление](#TOC)"
   ]
  },
  {
   "cell_type": "markdown",
   "id": "1675ce97-88a3-4bf0-909a-83ad9daf2d4d",
   "metadata": {},
   "source": [
    "## 3) Исследуем сведения о посещении сайтах<a class=\"anchor\" id=\"2_3\"></a>"
   ]
  },
  {
   "cell_type": "markdown",
   "id": "1ed1545d-5240-4dac-ab08-bbb3d68bd5ae",
   "metadata": {
    "tags": []
   },
   "source": [
    "### - из каких стран пользователи<a class='anchor' id='2_3_1'></a>"
   ]
  },
  {
   "cell_type": "markdown",
   "id": "132f6e05-c2af-4162-a764-ba1b808b2e35",
   "metadata": {},
   "source": [
    "В отношении user_id считать статистику неинформативно - поэтому исключим данный столбец**"
   ]
  },
  {
   "cell_type": "code",
   "execution_count": null,
   "id": "ceee15e8-0ddd-49cd-a18b-b928df79d8cc",
   "metadata": {},
   "outputs": [],
   "source": [
    "calc.visits.describe(exclude=['int64']).T.fillna('---')"
   ]
  },
  {
   "cell_type": "markdown",
   "id": "11d80f21",
   "metadata": {},
   "source": [
    "<div class=\"alert alert-success\">\n",
    "<b>Комментарий ревьюера:</b>☀️\n",
    "    \n",
    "Отлично, что проверили корректность временного интервала. Соответствует ли этот период ожиданиям? Хотелось бы в проекте видеть акцент на этом моменте. \n",
    "</div>"
   ]
  },
  {
   "cell_type": "markdown",
   "id": "5cdee669-1a53-43e1-a23e-55cb42d2a046",
   "metadata": {},
   "source": [
    "Проверим записи о пользователях из каких стран содержит таблица, определим процент платящих от числа уникальных пользователей и процент от платящих по странам:"
   ]
  },
  {
   "cell_type": "code",
   "execution_count": null,
   "id": "300326ee-7eb1-4b5b-b5f9-347a8f554ea1",
   "metadata": {},
   "outputs": [],
   "source": [
    "countries_count_by_payer = calc.grouped_summary(profiles, 'region', 'страна')\n",
    "countries_count_by_payer"
   ]
  },
  {
   "cell_type": "markdown",
   "id": "9c754357-cefc-45dc-9f8d-901746aa1e0d",
   "metadata": {},
   "source": [
    "Визуализируем соотношение пользователей по странам:"
   ]
  },
  {
   "cell_type": "code",
   "execution_count": null,
   "id": "693ee5b7-63e9-4019-884b-e8346a1e0d57",
   "metadata": {},
   "outputs": [],
   "source": [
    "calc.square_plot(profiles, 'region', title='Соотношение числа клиентов из различных стран')"
   ]
  },
  {
   "cell_type": "code",
   "execution_count": null,
   "id": "43087b2c-7759-4aca-bfb4-26d7c9f41932",
   "metadata": {},
   "outputs": [],
   "source": [
    "title = 'Страны по числу платящих пользователей'\n",
    "xlabel = 'Страна'\n",
    "ylabel = 'Число пользователей'\n",
    "data = countries_count_by_payer.iloc[:4].sort_values(by='платящие', ascending=False)\n",
    "calc.sns_catplot(x='страна', y='платящие', data=data, title=title, xlabel=xlabel, ylabel=ylabel)"
   ]
  },
  {
   "cell_type": "markdown",
   "id": "0a1c2acc-8873-4932-bdb2-a3c4e137d1e4",
   "metadata": {},
   "source": [
    "&#9889; **Вывод:**\n",
    "- из 309 901 наблюдений - 207 327 (67%) сделаны в отношении пользователей из США,\n",
    "- процент платящих по странам - 6.90% в США, 4.11% в Германии, 3.98% в Великобритании и 3.80% во Франции, \n",
    "- в датасете 150 008 уникальных пользователей, из которых платят 8881 (5.92%),\n",
    "- из 8881 платящих пользователей - 6902 (77.72%) из США, 700 (7.88%) из Великобритании, 663 (7.47%) из Франции и 616 (6.94%) из Германии."
   ]
  },
  {
   "cell_type": "markdown",
   "id": "2ac75ba2",
   "metadata": {},
   "source": [
    "<div class=\"alert alert-danger\">\n",
    "<b>Комментарий ревьюера:</b>☁️\n",
    "\n",
    "Под процентом платящих понимается соотношение числа платящих к числу пользователей, пришедших с конкретного устройства, так например для `US` - это 6902 /100002</div>\n"
   ]
  },
  {
   "cell_type": "markdown",
   "id": "4025e8d2-9da9-4eec-aba9-9e4d3e7eab07",
   "metadata": {},
   "source": [
    "<div class=\"alert alert-info\"> ✔️ Дополнил вывод, действительно не посчитал процент платящих, хотя и заявил в тексте, что буду считать. Вместе с тем, с формулировкой и содержанием замечания не согласен: посчитан был именно процент от платящих (то есть соотношение числа платящих из конкретной страны к общему числу платящих). И этот расчет нашел отражение в выводе - \"из 8881 платящих пользователей - 6902 (77.72%) из США, 700 (7.88%) из Великобритании, 663 (7.47%) из Франции и 616 (6.94%) из Германии\". </div>"
   ]
  },
  {
   "cell_type": "markdown",
   "id": "b0ed5fd2",
   "metadata": {},
   "source": [
    "<div class=\"alert alert-success\">\n",
    "<b>Комментарий ревьюера v2:</b>☀️\n",
    "    \n",
    "Согласен, есть возможность разночтений, отправил в контентный отдел обратную связь)\n",
    "</div>\n"
   ]
  },
  {
   "cell_type": "markdown",
   "id": "0b24df49-87d1-4cb6-a749-e0fed1c6a3ab",
   "metadata": {},
   "source": [
    "[В оглавление](#TOC)"
   ]
  },
  {
   "cell_type": "markdown",
   "id": "b1ecb8ec-586b-4882-8de6-7bf081ec0584",
   "metadata": {
    "tags": []
   },
   "source": [
    "### - устройства пользователей<a class='anchor' id='2_3_2'></a>"
   ]
  },
  {
   "cell_type": "code",
   "execution_count": null,
   "id": "10d0fe66-93e1-4e15-a997-acc10ea4cff7",
   "metadata": {},
   "outputs": [],
   "source": [
    "devices_by_payer = calc.grouped_summary(profiles, 'device', 'устройство')\n",
    "devices_by_payer"
   ]
  },
  {
   "cell_type": "markdown",
   "id": "145ea7cb-f630-4d87-a34d-2042156b6d4e",
   "metadata": {},
   "source": [
    "Визуализируем соотношение устройств по числу уникальных пользователей:"
   ]
  },
  {
   "cell_type": "code",
   "execution_count": null,
   "id": "108c34d9-1c46-4f41-be28-d19c4d618ab5",
   "metadata": {},
   "outputs": [],
   "source": [
    "calc.square_plot(profiles, 'device', title='Соотношение различных устройств клиентов')"
   ]
  },
  {
   "cell_type": "code",
   "execution_count": null,
   "id": "888f0daa-1241-4017-9af6-84c325b9b9f2",
   "metadata": {},
   "outputs": [],
   "source": [
    "title = 'Устройства по числу платящих пользователей'\n",
    "xlabel = 'Устройство'\n",
    "ylabel = 'Число пользователей'\n",
    "data = devices_by_payer.iloc[:4].sort_values(by='платящие', ascending=False)\n",
    "calc.sns_catplot(x='устройство', y='платящие', data=data, title=title, xlabel=xlabel, ylabel=ylabel)"
   ]
  },
  {
   "cell_type": "markdown",
   "id": "369a4714-44b6-4e6a-8ec0-724329acec36",
   "metadata": {},
   "source": [
    "&#9889; **Вывод:**\n",
    "- клиенты пользвуются приложением с четырех устройств - PC, Mac, Android, iPhone,\n",
    "- наблюдения об устройствах распределены равномернее, чем между странами,\n",
    "- из 150 008 пользователей платящие используют больше всего MAC (6.36%), затем идут iPhone (6.21%), Android (5.85%) и PC (5.05%),\n",
    "- из 8881 платящих - 3382 (38.08%) пользователей iPhone, 2050 (23.08%) пользователей Android, 1912 пользователей Mac (21.53%), пользователей PC (17.31%)."
   ]
  },
  {
   "cell_type": "markdown",
   "id": "1b3be7ec",
   "metadata": {},
   "source": [
    "<div class=\"alert alert-success\">\n",
    "<b>Комментарий ревьюера:</b>☀️\n",
    "   \n",
    "Для того, чтобы избавиться от назойливого вывода `<AxesSubplot:title={'center':'Расходы на маркетинг'}, xlabel='dt'>\n",
    "` можно добавить `;` в конец строки\n",
    "    \n",
    "</div>"
   ]
  },
  {
   "cell_type": "markdown",
   "id": "82c33770-0388-4c0a-95cc-3e34a4b42e95",
   "metadata": {},
   "source": [
    "[В оглавление](#TOC)"
   ]
  },
  {
   "cell_type": "markdown",
   "id": "84b86587-6808-414a-8a43-d3ebb4f019d1",
   "metadata": {},
   "source": [
    "### - информация о покупках<a class='anchor' id='2_3_3'></a>"
   ]
  },
  {
   "cell_type": "code",
   "execution_count": null,
   "id": "3c4f9736-3353-4485-8e6f-50f9f8e5ef7c",
   "metadata": {},
   "outputs": [],
   "source": [
    "calc.orders.describe(include=['float64']).T"
   ]
  },
  {
   "cell_type": "code",
   "execution_count": null,
   "id": "03786440-484f-4e20-a95c-9780fd95a3cd",
   "metadata": {},
   "outputs": [],
   "source": [
    "calc.orders.describe(include=['object', 'datetime64[ns]']).T"
   ]
  },
  {
   "cell_type": "markdown",
   "id": "7776d478-1b95-4f58-9de6-82eb593d3487",
   "metadata": {},
   "source": [
    "С учетом того, что 75%-процентиль - 4.99 (совпадающий с медианой, 25%-процентилем и минимуом), максимальная сумма выручки - 49.99, проверим какие значения выручки есть в датасете:"
   ]
  },
  {
   "cell_type": "code",
   "execution_count": null,
   "id": "5a0d8c4e-8825-4395-a329-6fcbdac05ea0",
   "metadata": {},
   "outputs": [],
   "source": [
    "sorted(calc.orders.revenue.unique())"
   ]
  },
  {
   "cell_type": "markdown",
   "id": "a1db49e9-5528-4e3b-9fda-c54139970eec",
   "metadata": {},
   "source": [
    "Всего пять значений стоимости услуги. Проверим сколько пользователей платят больше 4.99, возможно, таких пользователей стоит рассматривать отдельно:"
   ]
  },
  {
   "cell_type": "code",
   "execution_count": null,
   "id": "6a9758aa-cec2-4e9d-8bfe-166ac59ae9b2",
   "metadata": {},
   "outputs": [],
   "source": [
    "max_revenue = calc.orders.groupby('revenue').agg({'user_id': 'count'}).reset_index()\n",
    "max_revenue['%'] = (max_revenue['user_id'] / len(calc.orders)) * 100\n",
    "max_revenue"
   ]
  },
  {
   "cell_type": "markdown",
   "id": "ab6c610c-baac-4e8d-8e7d-ad053c7c2f5a",
   "metadata": {},
   "source": [
    "Примерно 5% пользователей платят больше базовой стоимости. Посчитаем общее число таких пользователей:"
   ]
  },
  {
   "cell_type": "code",
   "execution_count": null,
   "id": "304af81b-ce37-45f8-87a6-ab3471753fde",
   "metadata": {},
   "outputs": [],
   "source": [
    "sum(max_revenue[max_revenue['revenue'] > 4.99]['user_id'])"
   ]
  },
  {
   "cell_type": "markdown",
   "id": "05c49d9d-7e49-4e1f-a968-364ef53c5739",
   "metadata": {},
   "source": [
    "&#9889; **Вывод**\n",
    "\n",
    "В датасете с информацией о покупках:\n",
    "\n",
    "- остутствуют сведения о валюте в которой выражена выручка,\n",
    "- принимая во внимание, что 67% пользователей из США, можно предположить, что валюта выручки - доллары США,\n",
    "- выявлено 5 различных стоимостей услуг - 4.99, 5.99, 9.99, 19.99, 49.99.\n",
    "- минимальная сумма выручки - 4.99, средняя - 5.37 (при медианной и 75%-процентиле - 4.99), максимальная - 49.99,\n",
    "- из 40 185 платящих пользователей - 1581 (4%) платит больше базового тарифа,\n",
    "- самое раннее наблюдение о первом действии совпадает с датасетом о посещениях - 01.05.2019 года, самое позднее - 31.10.2019 года."
   ]
  },
  {
   "cell_type": "markdown",
   "id": "9621689e",
   "metadata": {},
   "source": [
    "<div class=\"alert alert-success\">\n",
    "<b>Комментарий ревьюера:</b>☀️\n",
    "    \n",
    "Отличная находка, низкий средний чек можно вынести как причину неокупаемости и рекомендовать отделу маркетинга повышать его</div>"
   ]
  },
  {
   "cell_type": "markdown",
   "id": "9a3fb69d-47db-451b-ab0f-543b38745fb3",
   "metadata": {},
   "source": [
    "[В оглавление](#TOC)"
   ]
  },
  {
   "cell_type": "markdown",
   "id": "b5425ce0-31ce-477e-9282-fc334f7d83a3",
   "metadata": {
    "tags": []
   },
   "source": [
    "### - каналы привлечения пользователей<a class='anchor' id='2_3_4'></a>"
   ]
  },
  {
   "cell_type": "code",
   "execution_count": null,
   "id": "9fa3ea66-1338-4b7e-ba27-f76ec47531eb",
   "metadata": {},
   "outputs": [],
   "source": [
    "channels_by_payer = calc.grouped_summary(profiles, 'channel', 'канал')\n",
    "channels_by_payer"
   ]
  },
  {
   "cell_type": "markdown",
   "id": "bd8b88e8-75df-4822-a04e-c55ebeb1821b",
   "metadata": {},
   "source": [
    "Визуализируем соотношение уникальных пользователей по источникам привлечения:"
   ]
  },
  {
   "cell_type": "code",
   "execution_count": null,
   "id": "977a6062-215a-4ae2-8056-f6123c251b23",
   "metadata": {},
   "outputs": [],
   "source": [
    "calc.square_plot(profiles, 'channel', title='Соотношение различных источников привлечения клиентов')"
   ]
  },
  {
   "cell_type": "code",
   "execution_count": null,
   "id": "edc7f15e-c684-45ed-b285-46c58dd10efb",
   "metadata": {},
   "outputs": [],
   "source": [
    "title = 'Пользователи по каждому из каналов привлечения'\n",
    "xlabel = 'Рекламный канал'\n",
    "ylabel = 'Число привлеченных пользователей'\n",
    "data = channels_by_payer.iloc[:10].sort_values(by='платящие', ascending=False)\n",
    "calc.sns_catplot(x='канал', y='платящие', data=data, title=title, xlabel=xlabel, ylabel=ylabel)"
   ]
  },
  {
   "cell_type": "markdown",
   "id": "964b1d2e-758b-4edd-9a51-64612dd92175",
   "metadata": {},
   "source": [
    "&#9889; **Вывод:**\n",
    "\n",
    "- одиннадцать источников привлечения клиентов: один естественный, без посредников, десять - рекламные каналы,\n",
    "- без посредников пришло более трети уникальных пользователей - 56 439 (37.6 %), из которых 1160 конвертировались в платящих (2.06%),\n",
    "- из 8881 платящих 61.2% пришли из двух источников - 3557 (40.05% от платящих пользователей) пользователей привел FaceBoom, 1878 (21.15% от платящих пользователей) TipTop,\n",
    "- с учетом естественного источника (13.06% от платящих пользователей), FaceBoom и TipTop на - оставшиеся 25.74% от платящих пользователей приходятся на 8 других каналов."
   ]
  },
  {
   "cell_type": "markdown",
   "id": "586970b8",
   "metadata": {},
   "source": [
    "<div class=\"alert alert-warning\">\n",
    "<b>Комментарий ревьюера:</b>⛅️ \n",
    "\n",
    "Этот вывод и предыдущие изменятся, когда процент платящих будет пересчитан \n",
    "</div>"
   ]
  },
  {
   "cell_type": "markdown",
   "id": "ab431808-250a-4337-9cb8-99679710476d",
   "metadata": {},
   "source": [
    "<div class=\"alert alert-info\"> ✔️ Процент платящих просто не был посчитан - нечего было пересчитывать, ранее был посчитан процент от платящих (то есть соотношение числа платящих из конкретной страны к общему числу платящих) и это нашло отражение в выводах.</div>"
   ]
  },
  {
   "cell_type": "markdown",
   "id": "8d8ff36d-d6ea-40a4-9a6c-2c4fcd9646cf",
   "metadata": {},
   "source": [
    "[В оглавление](#TOC)"
   ]
  },
  {
   "cell_type": "markdown",
   "id": "d4f3e6d6-8da9-43d5-bfd2-7cc64270495a",
   "metadata": {
    "tags": []
   },
   "source": [
    "### - информация о расходах<a class='anchor' id='2_3_5'></a>"
   ]
  },
  {
   "cell_type": "code",
   "execution_count": null,
   "id": "e40b466b-153e-4323-8008-44f6499cf9d6",
   "metadata": {},
   "outputs": [],
   "source": [
    "calc.costs.describe().T"
   ]
  },
  {
   "cell_type": "markdown",
   "id": "bf0aafb9-4d39-4987-b7c4-b630375669a7",
   "metadata": {},
   "source": [
    "Минимально - 0.80, средняя стоимость источника - 58.61 (при медианой - 12.29 и 75%-процентиле равным 33.60). Есть очень дорогие источники. Проверим среднюю стоимость привлечения по каждому источнику в разрезе на клиента: "
   ]
  },
  {
   "cell_type": "code",
   "execution_count": null,
   "id": "2ceb7888-138a-45e7-adfd-0820b7a194d0",
   "metadata": {},
   "outputs": [],
   "source": [
    "# посчитаем сколько раз обращались к каждому источнику\n",
    "applied_to_channel = (calc.costs.groupby('channel')\n",
    "                                .agg({'dt': 'count'})\n",
    "                                .reset_index()\n",
    "                                .rename(columns={'channel': 'канал', 'dt': 'дней закупки трафика'}))\n",
    "\n",
    "# посчитаем отдельно среднюю стоимость привлечения клиента по источнику, чтобы потом не избавляться от мультиндекса\n",
    "channels_acquisition_costs = (profiles.groupby('channel')\n",
    "                               .agg({'acquisition_cost': 'mean'})\n",
    "                               .reset_index()\n",
    "                               .rename(columns={'channel': 'канал',\n",
    "                                                'acquisition_cost': 'затраты на привлечение'}))\n",
    "\n",
    "# посчитаем затраченную на каждый из каналов сумму и % от бюджета\n",
    "channels_costs = (profiles.groupby('channel')\n",
    "                          .agg({'acquisition_cost': 'sum'})\n",
    "                          .reset_index()\n",
    "                          .sort_values(by='acquisition_cost'))\n",
    "channels_costs['% от рекламного бюджета'] = (channels_costs['acquisition_cost'] * 100 / \n",
    "                                             sum(channels_costs['acquisition_cost']))\n",
    "channels_costs = channels_costs.rename(columns={'channel': 'канал',\n",
    "                                                'acquisition_cost': 'сумма трат',\n",
    "                                                'acquisition_cost_y': 'средняя стоимость'})\n",
    "\n",
    "# объединим таблицу с затратами с таблицей обращений и числом привлеченных\n",
    "channels_costs = channels_costs.merge(channels_by_payer, on='канал')\n",
    "channels_costs = channels_costs.merge(channels_acquisition_costs, on='канал')\n",
    "channels_costs = channels_costs.merge(applied_to_channel, on='канал')\n",
    "\n",
    "# дополним таблицу строкой с естественным источником\n",
    "organic_row = channels_by_payer.query('канал == \"organic\"')\n",
    "channels_costs = channels_costs.append(organic_row, ignore_index=True).fillna(0)\n",
    "\n",
    "# дополним таблицу суммирующую строку\n",
    "sums_row = pd.Series(['---', sum(channels_costs['сумма трат']),\n",
    "                      sum(channels_costs['% от рекламного бюджета']),\n",
    "                      sum(channels_costs['платящие']),\n",
    "                      sum(channels_costs['% от платящих']),\n",
    "                      sum(channels_costs['число клиентов']),\n",
    "                      sum(channels_costs['% платящих']),\n",
    "                      channels_costs['затраты на привлечение'].mean(),\n",
    "                      sum(channels_costs['дней закупки трафика'])],\n",
    "                      index=channels_costs.columns)\n",
    "channels_costs = channels_costs.sort_values(by='сумма трат')\n",
    "channels_costs = channels_costs.append(sums_row, ignore_index=True)\n",
    "\n",
    "channels_costs"
   ]
  },
  {
   "cell_type": "markdown",
   "id": "0d4c95c6",
   "metadata": {},
   "source": [
    "<div class=\"alert alert-danger\">\n",
    "<b>Комментарий ревьюера:</b>☁️\n",
    "\n",
    "* Средняя стоимость клиента рассчитана неверно, ведь это не сумма всемх других стоимостей\n",
    "* Всё же не число обращений, а число дней сколько отдела маркетинга закупал трафик у конкретного канала. Как раз везде 180 - наблюдаемый интервал, если захочешь, этот столбец можно и убрать\n",
    "    \n",
    "</div>\n"
   ]
  },
  {
   "cell_type": "markdown",
   "id": "8da3ec66-2243-486c-bb1c-a40e48f1f251",
   "metadata": {},
   "source": [
    "<div class=\"alert alert-info\"> ✔️ Исправил \"стоимость клиента\" на \"затраты на привлечение\" (в столбце именно acquisition_cost - взят из профиля, способ расчета из теории). Исправил \"число обращений\" на \"дней закупки трафика\" - почему можно убирать столбец неясно: нельзя исключить, что где-то могло оказаться не 180.</div>"
   ]
  },
  {
   "cell_type": "markdown",
   "id": "6b447dcb",
   "metadata": {},
   "source": [
    "<div class=\"alert alert-warning\">\n",
    "<b>Комментарий ревьюера v2:</b>⛅️ \n",
    "\n",
    "Затрата на привлечение - средняя стоимость привлечения по каналу, соответственно по всему проекту тоже должно быть среднее, а не сумма всех затрат привлечения. Ниже демонстрирую, что разница существенная \n",
    "</div>"
   ]
  },
  {
   "cell_type": "markdown",
   "id": "61863d83-3e11-47b2-81b5-ed8efdf5ef24",
   "metadata": {},
   "source": [
    "<div class=\"alert alert-info\"> ✔️ Спасибо! Считал сумму средних вместо среднего по проекту.</div>"
   ]
  },
  {
   "cell_type": "markdown",
   "id": "e276c796-8f53-4763-a99e-a1f12f830bd0",
   "metadata": {},
   "source": [
    "Визуализируем траты на каналы:"
   ]
  },
  {
   "cell_type": "code",
   "execution_count": null,
   "id": "b70332db-97e9-4977-a68e-ae973be54c44",
   "metadata": {},
   "outputs": [],
   "source": [
    "data = channels_costs.query('канал not in [\"organic\", \"---\"]').sort_values(by='сумма трат', ascending=False)\n",
    "ylabel = 'Сумма трат'\n",
    "xlabel = 'Источник привлечения'\n",
    "title = 'Сумма трат на источник'\n",
    "calc.sns_catplot(x='канал', y='сумма трат', data=data, xlabel=xlabel, ylabel=ylabel, title=title)"
   ]
  },
  {
   "cell_type": "markdown",
   "id": "d75b5ff7-f9b9-4ccf-b59d-fbceb981e516",
   "metadata": {},
   "source": [
    "&#9889; **Вывод:**\n",
    "\n",
    "- у каждому из рекламных источников закупали трафик 180 дней,\n",
    "- самое раннее наблюдение о понесенных расходах - 01.05.2019 года, самое позднее - 27.10.2019 года,\n",
    "- за период от 01.05.2019 до 27.10.2019 года потратили 105 497 долларов,\n",
    "- львиная доля бюджета 87 196.90 долларов (82.65%) направлена на TipTop - 54751.30 долларов (51.9%) и FaceBoom - 32445.60 долларов (30.75%).\n",
    "- самая высокая стоимость привлечения у TipTop - 2.80 долларов, на втором месте FaceBoom - 1.11 долларов, на третьем месте AdNonSense - 1.01 доллар, в остальных источника в дипазоне от 21 до 60 центов,\n",
    "- кроме FaceBoom и TipTop требуется проверить AdNonSense - через канал приходит совсем мало новых пользователей (3880), и хотя 11% (440) стали платить, стоимость привлечения в 1.01 доллар соперничает с FaceBoom. То есть канал может быть и эффективный, но из-за масштаба траты на него не оправданы,\n",
    "- исходя из представленных данных, представляется, что самый неэффективный канал TipTop - канал обеспечил 21.15% (1878) от всех платящих (8881), но сумма трат на канал - 54751.30 долларов, стоимость привлечения 2.80 долларов выбивается из общего ряда.\n"
   ]
  },
  {
   "cell_type": "markdown",
   "id": "93b6c870-a9db-47df-a96d-112ad81a03d3",
   "metadata": {},
   "source": [
    "[В оглавление](#TOC)"
   ]
  },
  {
   "cell_type": "markdown",
   "id": "50089463-f4d6-49e4-9cbb-05112dd15936",
   "metadata": {},
   "source": [
    "### - сравним TipTop со всеми остальными платными каналами<a class='anchor' id='2_3_6'></a>"
   ]
  },
  {
   "cell_type": "code",
   "execution_count": null,
   "id": "c55f2243-d42b-4307-b1c5-40b93726d7ff",
   "metadata": {},
   "outputs": [],
   "source": [
    "# отберем TipTop\n",
    "tip_top = pd.DataFrame(channels_costs.query('канал == \"TipTop\"').sum()).reset_index()\n",
    "tip_top = tip_top.rename(columns={'index': 'аттрибут', 0: 'TipTop'})\n",
    "\n",
    "# отберем остальных, суммируем их результаты\n",
    "others = pd.DataFrame(channels_costs.query('канал not in [\"TipTop\", \"organic\", \"---\"]').sum()).reset_index()\n",
    "others = others.rename(columns={'index': 'аттрибут', 0: 'остальные'})\n",
    "\n",
    "tip_top.merge(others, on='аттрибут').drop([0, 6, 7])"
   ]
  },
  {
   "cell_type": "markdown",
   "id": "0870c477-da91-48bf-b12b-1aba54a4c8c4",
   "metadata": {},
   "source": [
    "&#9889; **Вывод:**\n",
    "\n",
    "- TipTop не оправдывают себя: сумма трат превышает все девять источников вместе взятые на 4005,30 долларов, но он приводит в три раза меньше новых клиентов (19561 против 74008), и в три раза меньше платящих клиентов (1878 - 21.15% против 5843 - 65.79%)."
   ]
  },
  {
   "cell_type": "markdown",
   "id": "415c61d3",
   "metadata": {},
   "source": [
    "<div class=\"alert alert-success\">\n",
    "<b>Комментарий ревьюера:</b>☀️\n",
    "    \n",
    "Отличный вывод, стоимость привлечения на `Tip Top` его главная проблема, так и есть)</div>\n"
   ]
  },
  {
   "cell_type": "markdown",
   "id": "3a3979fe-9544-4a9f-8079-f4b6045838a1",
   "metadata": {},
   "source": [
    "[В оглавление](#TOC)"
   ]
  },
  {
   "cell_type": "markdown",
   "id": "01794938-c0fc-43f4-9ba9-775c13e27cad",
   "metadata": {
    "tags": []
   },
   "source": [
    "## Выводы по итогам EDA<a class=\"anchor\" id=\"2_conclusion\"></a>"
   ]
  },
  {
   "cell_type": "markdown",
   "id": "a3674ed4-725d-41ca-80a5-881b80d6b5ac",
   "metadata": {},
   "source": [
    "Исходя из представленных данных данных можно сделать выводы:\n",
    "\n",
    "\n",
    "**1. Минимальная и максимальная даты привлечения пользователей**\n",
    "- самое раннее наблюдение о первом действии - 01.05.2019 года, самое позднее - 31.10.2019 года,\n",
    "\n",
    "\n",
    "**2. Страны происхождения посетителей и клиентов**\n",
    "- клиенты приходят из четырех стран – США, Великобритании, Франции и Германии,\n",
    "- из 309 901 наблюдений - 207 327 (67%) сделаны в отношении пользователей из США,\n",
    "- в датасете 150 008 уникальных пользователей, из которых платят 8881 (6%),\n",
    "- из 8 881 платящих пользователей - 6902 (77.72%) из США, 700 (7.88%) из Великобритании, 663 (7.47%) из Франции и 616 (6.94%) из Германии,\n",
    "- отсутствуют сведения о валюте в которой выражена выручка: принимая во внимание, что 67% пользователей из США, можно предположить, что валюта выручки - доллары США,\n",
    "\n",
    "\n",
    "**3. Устройства посетителей и клиентов**\n",
    "- клиенты пользуются приложением с четырех устройств - PC, Mac, Android, iPhone,\n",
    "- из 8881 платящих – 3 382 (38.08%) пользователей iPhone, 2 050 (23.08%) пользователей Android, 1912 пользователей Mac (21.53%), пользователей PC (17.31%).\n",
    "\n",
    "\n",
    "**4. Источники привлечения посетителей и клиентов**\n",
    "- привлечение клиентов идет по одиннадцати источникам: один естественный, без посредников, десять - рекламные каналы,\n",
    "- без посредников пришло более трети уникальных пользователей - 37.6 % (56 439),  32% (48 705) привели FaceBoom и TipTop, на оставшиеся 8 источников приходится 29% (44 864) от уникальных клиентов,\n",
    "- из платящих клиентов 61.2% пришли из двух источников – 3 557 (40.05%) пользователей привел FaceBoom, 1 878 (21.15%) TipTop, 25.74% (2  286) приходятся на 8 других каналов, - еще 13.06% (1160) конвертировались из естественного трафика,\n",
    "\n",
    "\n",
    "**5. Расходы на рекламу**\n",
    "- за период от 01.05.2019 до 27.10.2019 года на рекламу потратили 105 497 долларов,\n",
    "- период закупки трафика - 180 дней,\n",
    "- львиная доля бюджета - 87 196.90 долларов (82.65%) направлена на TipTop - 54751.30 долларов (51.9%) и FaceBoom - 32445.60 долларов (30.75%),\n",
    "- самая высокая стоимость привлечения у TipTop - 2.80 долларов, на втором месте FaceBoom - 1.11 долларов, на третьем месте AdNonSense - 1.01 доллар, привлечение клиентов из остальных источников обошлось в среднем в стоимость от 60 центов от 21 цента.\n",
    "\n",
    "\n",
    "**6. Неээфективные источники**\n",
    "- TipTop не оправдывает себя: сумма трат превышает все девять источников вместе взятые на 4005,30 долларов, но он приводит в три раза меньше новых клиентов (19561 против 74008), в три раза меньше платящих клиентов (1878 - 21.15% против 5843 - 65.79%) при средней стоимости одного клиента 2.80 долларов,\n",
    "- кроме FaceBoom и TipTop требуется проверить AdNonSense - через канал приходит совсем мало новых пользователей (3880): и хотя 11% (440) стали платить стоимость клиента в 1.01 доллар соперничает с FaceBoom. Канал может быть и эффективный, но из-за масштаба траты на него не оправданы.\n",
    "\n"
   ]
  },
  {
   "cell_type": "markdown",
   "id": "f6f15f07-59e7-48bc-a505-3682a5f2a8bb",
   "metadata": {},
   "source": [
    "[В оглавление](#TOC)"
   ]
  },
  {
   "cell_type": "markdown",
   "id": "aa985dd9-c0e2-4328-9933-d6ec5b4ff738",
   "metadata": {},
   "source": [
    "# III. Маркетинговый анализ<a class='anchor' id='3'>\n",
    "***"
   ]
  },
  {
   "cell_type": "markdown",
   "id": "8c834d7b-ae51-44c2-9640-c2a81fb5c29e",
   "metadata": {},
   "source": [
    "## 1) Проверим окупаемость рекламы<a class=\"anchor\" id=\"3_1\"></a>"
   ]
  },
  {
   "cell_type": "markdown",
   "id": "1172bc62-f5b2-4c89-a36b-7ca47bb00636",
   "metadata": {},
   "source": [
    "Рассчитаем и визуализируем LTV и ROI"
   ]
  },
  {
   "cell_type": "code",
   "execution_count": null,
   "id": "099d182d-75e0-4da1-94a0-7d71a611f09f",
   "metadata": {},
   "outputs": [],
   "source": [
    "profiles = profiles.query('channel != \"organic\"')"
   ]
  },
  {
   "cell_type": "code",
   "execution_count": null,
   "id": "384ff750-9745-4a1a-903d-d51a118d50ac",
   "metadata": {},
   "outputs": [],
   "source": [
    "ltv_raw, ltv_grouped, ltv_history, roi_grouped, roi_history = calc.get_ltv(profiles, observation_date, horizon_days)\n",
    "calc.plot_ltv_roi(ltv_grouped, ltv_history, roi_grouped, roi_history, horizon_days, window=14)"
   ]
  },
  {
   "cell_type": "markdown",
   "id": "c6adc9d9-a3e2-4193-8d73-3c908bdc1361",
   "metadata": {},
   "source": [
    "&#9889; **Вывод:**\n",
    "\n",
    "- реклама не окупается в течение 14 дней: ROI в конце периода так и не пересакает границу окупаемости.\n",
    "- динамика LTV сравнительно стабильна, следовательно, качество клиентов не должно оказывать существенного влияния,\n",
    "- CAC нестабилен - на графике существенный рост рекламного бюджета, и обратно пропорциональное ему снижение динамики ROI,"
   ]
  },
  {
   "cell_type": "markdown",
   "id": "3fe161fa",
   "metadata": {},
   "source": [
    "<div class=\"alert alert-danger\">\n",
    "<b>Комментарий ревьюера:</b>☁️\n",
    "    \n",
    "Здесь и ниже при анализе стоит исключать органический трафик, мы не платим за этих пользователей, а доход от них может завышать довольно плачевную картину и скрыть от нас проблемы в какой-то стране или же типе устройств. Соответственно и выводы после этих правок могут поменяться, поэтому жду исключения из дальнейшего анализа всех органических пользователей и после этого прокомментирую оставшуюся часть проекта. </div>\n"
   ]
  },
  {
   "cell_type": "markdown",
   "id": "90060c63-7fa9-44ad-a812-306e10616ed4",
   "metadata": {},
   "source": [
    "<div class=\"alert alert-info\"> ✔️ Убрал органический трафик из анализа. В целом, на выводы не повлияло - только при проверке в разрезе по устройствам без органического трафика андройд опустился ниже окупаемости.<br>\n",
    "Исключение органического трафика - выглядит сужением поставленной задачи. Вот формулировк: \"Несмотря на огромные вложения в рекламу, последние несколько месяцев компания терпит убытки. Ваша задача — разобраться в причинах и помочь компании выйти в плюс\".<br>\n",
    "Исходя из условий задачи, принимая во внимание, что органический трафик часть явления, учитывая, что данных все равно недостаточно для выявления окончательной причины убытков (и это не обязательно только расходы на рекламу) - не согласен, что из анализа следует исключить органический трафик.<br>\n",
    "С точки зрения убытков компании проблемы органических пользователей также влияют на убыточность - потому что у них ровно те же потенциальные проблемы: и утрата заинтересованности в приложении, и сезонность, и технические проблемы. Более того, как раз ребята, которые сами приходят в приложение, потому что им просто нравится, платят и, надеюсь, рассказывают о нем друзьям, коллегам и домашним питомцам - самые ценные. <br>\n",
    "В принципе, можно ведь довести логику до точки - и если ни один из рекламных каналов не окупается - давайте уволим отдел маркетинга, снижение издержек. Или, если например, по какому-то устройству без учета органического трафика не будет достигнута окупаемость можно предложить перестать распространять на этом устростве - в то время как большинство органических пользователей как раз из него и приходят.<br>\n",
    "Как можно не учитывать органический трафик - совершенно непонятно. </div>"
   ]
  },
  {
   "cell_type": "markdown",
   "id": "4cc39c97",
   "metadata": {},
   "source": [
    "<div class=\"alert alert-success\">\n",
    "<b>Комментарий ревьюера v2:</b>☀️\n",
    "    \n",
    "Влияние закупки на органику не такое явное. А учет органики завышает показатели и как будто бы ситуация выглядит более радужной \n",
    "</div>\n"
   ]
  },
  {
   "cell_type": "markdown",
   "id": "e0d1e32d-6fd8-4369-ad9d-c309a3e65052",
   "metadata": {},
   "source": [
    "[В оглавление](#TOC)"
   ]
  },
  {
   "cell_type": "markdown",
   "id": "4e0f97e3-e1db-420a-94cc-17666161dd82",
   "metadata": {
    "tags": []
   },
   "source": [
    "## 2) Проверим характеристики пользователей<a class=\"anchor\" id=\"3_2\"></a>"
   ]
  },
  {
   "cell_type": "markdown",
   "id": "17649cab-47e3-4763-9d91-f8719e565164",
   "metadata": {},
   "source": [
    "### - страну первого посещения пользователей<a class='anchor' id='3_2_1'></a>"
   ]
  },
  {
   "cell_type": "code",
   "execution_count": null,
   "id": "ba733753-d534-43ce-ac3c-b55377c71097",
   "metadata": {},
   "outputs": [],
   "source": [
    "dimensions = ['region']\n",
    "ltv_raw, ltv_grouped, ltv_history, roi_grouped, roi_history = calc.get_ltv(profiles, observation_date, horizon_days, dimensions)\n",
    "calc.plot_ltv_roi(ltv_grouped, ltv_history, roi_grouped, roi_history, horizon_days, window=14)"
   ]
  },
  {
   "cell_type": "markdown",
   "id": "75fde8d3-b258-410d-b794-ad30987f29d6",
   "metadata": {},
   "source": [
    "&#9889; **Вывод:**\n",
    "\n",
    "- рекламный бюджет стали активно тратить на пользователей из США (взрывной рост расходов по сравнению с иными странами),\n",
    "- реклама в отношении пользователей из США сработала - новых пользователей привлекли,\n",
    "- однако новые пользователи из США плохо конвертируются - отрицательная динамика ROI и, в целом, к концу двухнедельного периода ROI в районе 80%\n",
    "- фактически, из четырех стран в которых продают приложение - убыточны только США,\n",
    "- ранее выявленные аномальные источники привлечения - TipTop, FaceBoom и AdNonSense - возможно, связаны именно с рекламой в США."
   ]
  },
  {
   "cell_type": "markdown",
   "id": "3aa09058",
   "metadata": {},
   "source": [
    "<div class=\"alert alert-success\">\n",
    "<b>Комментарий ревьюера v2:</b>☀️\n",
    "    \n",
    "Хочу акцентировать твоё внимание на способе решения в данном случае комплексной задачи - неокупаемость маркетинга. Мы эту составную проблему раскладываем на частные причины, декомпозируем весь трафик по странам, устройствам, регионам и ищем где конкретно и в какой момент случилась проблема.\n",
    "</div>"
   ]
  },
  {
   "cell_type": "markdown",
   "id": "f835bbbb-3759-4301-82e1-d7371ad9ccd9",
   "metadata": {},
   "source": [
    "[В оглавление](#TOC)"
   ]
  },
  {
   "cell_type": "markdown",
   "id": "7c59eaf0-8cb0-457a-ab53-82da89eacba4",
   "metadata": {
    "tags": []
   },
   "source": [
    "### - источник привлечения пользователей<a class='anchor' id='3_2_2'></a>"
   ]
  },
  {
   "cell_type": "code",
   "execution_count": null,
   "id": "fab67459-518c-447f-aa8a-1a26cb1a95a2",
   "metadata": {},
   "outputs": [],
   "source": [
    "dimensions = ['channel']\n",
    "ltv_raw, ltv_grouped, ltv_history, roi_grouped, roi_history = calc.get_ltv(profiles, observation_date, horizon_days, dimensions)\n",
    "calc.plot_ltv_roi(ltv_grouped, ltv_history, roi_grouped, roi_history, horizon_days, window=14)"
   ]
  },
  {
   "cell_type": "markdown",
   "id": "a2e92812-ef13-4591-837b-ecde1555f96f",
   "metadata": {},
   "source": [
    "&#9889; **Вывод:**\n",
    "\n",
    "- как и предполагалось, TipTop, FaceBoom и AdNonSense не окупаются, в отличие от других источников,\n",
    "- TipTop, FaceBoom и AdNonSense показывают отрицательную динамику ROI, при стабильном качестве пользователей,\n",
    "- расходы на TipTop носят взырывной характер - кратное увеличение от когорты к когорте."
   ]
  },
  {
   "cell_type": "markdown",
   "id": "df1a8b96",
   "metadata": {},
   "source": [
    " \n",
    "<div class=\"alert alert-success\">\n",
    "<b>Комментарий ревьюера v2:</b>☀️\n",
    "    \n",
    "Чудеса декомпозиции,  отличный подход, который всегда приведёт к успеху, разобрались с LTV И ROI, получили явную проблему в US и TIp Top с Faceboom, при учете, что US - страна с наибольшим количеством пользователей, а Tip TOp и FaceBoom - крупнешие каналы для нас это важные находки, дальше с которыми стоит работать</div>"
   ]
  },
  {
   "cell_type": "markdown",
   "id": "e76a92e3-a0b2-413a-9fa6-aa7ede1c4b99",
   "metadata": {},
   "source": [
    "[В оглавление](#TOC)"
   ]
  },
  {
   "cell_type": "markdown",
   "id": "c3613560-6bc8-46af-b42c-3c6b977efdd9",
   "metadata": {},
   "source": [
    "### - проверим связь пользователей из США и канал привлечения<a class='anchor' id='3_2_3'></a>"
   ]
  },
  {
   "cell_type": "code",
   "execution_count": null,
   "id": "4fbc836f-b289-4f51-9337-f244778406a3",
   "metadata": {},
   "outputs": [],
   "source": [
    "dimensions = ['region', 'channel']\n",
    "usa_profiles = profiles.query('region == \"United States\"')\n",
    "ltv_raw, ltv_grouped, ltv_history, roi_grouped, roi_history = calc.get_ltv(usa_profiles, observation_date, horizon_days, dimensions)\n",
    "calc.plot_ltv_roi(ltv_grouped, ltv_history, roi_grouped, roi_history, horizon_days, window=14)"
   ]
  },
  {
   "cell_type": "markdown",
   "id": "da0cf114-aaa0-44f8-836f-133f86271597",
   "metadata": {},
   "source": [
    "&#9889; **Вывод:**\n",
    "\n",
    "- пользователей из США привлекают из пяти каналов: TipTop, FaceBoom, RocketSuperAds, YRabbit, MediaTornado.\n",
    "- как и в общей картине - TipTop, FaceBoom - не окупаются, динамика ROI отрицательная,\n",
    "- при этом, как раз в отношении TipTop от когорты к когорте растут затраты, при том, что начальная стоимость - ниже FaceBoom (расходы на который стабильны),\n",
    "- возможно, условия размещения рекламы в TipTop следует пересмотреть, равномерный рост расходов от месяца к месяцу при отсутствии существенных колебаний в динамике LTV может свидетельствовать об невыгодных условиях в определении цены размещения,\n",
    "- в случае, если условия размещения нельзя пересмотреть - от TipTop следует отказаться,\n",
    "- кроме TipTop, принимая во внимание результаты от размещения рекламы, FаceBoom представлятся невыгодным для размещения,\n",
    "- любопытно, что с помощью AdNonSense не привлечкают пользователей из США, что не отменяет их возможную неэффективность - проверим отдельно каналы на окупаемость."
   ]
  },
  {
   "cell_type": "markdown",
   "id": "9b602848",
   "metadata": {},
   "source": [
    "<div class=\"alert alert-success\">\n",
    "<b>Комментарий ревьюера v2:</b>☀️\n",
    "    \n",
    "Отличная идея рассмотреть отдельно каналы на `US`. Можно было бы здесь посмотреть разбивку каналов по странам, там есть интересные взаимосвязи\n",
    "    \n",
    "</div>\n"
   ]
  },
  {
   "cell_type": "markdown",
   "id": "9943875f-8c52-40b2-9560-490f4fae738f",
   "metadata": {},
   "source": [
    "[В оглавление](#TOC)"
   ]
  },
  {
   "cell_type": "markdown",
   "id": "435cd8e5-4fa6-46a9-973f-6c1009934f43",
   "metadata": {
    "tags": []
   },
   "source": [
    "### - проверим каналы на окупаемость<a class='anchor' id='3_2_4'></a>"
   ]
  },
  {
   "cell_type": "markdown",
   "id": "c21a862d-fe27-4412-a958-5d4b9e8b291c",
   "metadata": {},
   "source": [
    "Выделим все источники, которые не окупились к концу второй недели:"
   ]
  },
  {
   "cell_type": "code",
   "execution_count": null,
   "id": "b4b32894-3aee-48be-978c-909d397e1ae0",
   "metadata": {},
   "outputs": [],
   "source": [
    "dimensions = ['channel']\n",
    "ltv_raw, ltv_grouped, ltv_history, roi_grouped, roi_history = calc.get_ltv(profiles, observation_date, horizon_days, dimensions)\n",
    "roi_grouped[roi_grouped[13] < 1]"
   ]
  },
  {
   "cell_type": "markdown",
   "id": "5bd8740b-8252-46b2-b495-9450a9e369e0",
   "metadata": {},
   "source": [
    "&#9889; **Вывод:**\n",
    "\n",
    "- из десяти платных источников не окупаются AdNonSense (ROI - 0.83), FaceBoom (ROI - 0.74), TipTop (ROI - 0.54),\n",
    "- FaceBoom и TipTop привлекают много, с отрывом, новых пользователей, но они не конвертируются в платящих с достаточной динамикой,\n",
    "- исходя из представленных данных, расходы на FaceBoom и TipTop в США - факторы, способствующие убыточности."
   ]
  },
  {
   "cell_type": "markdown",
   "id": "d68b8671-8b7b-4254-8db3-9f8f75dad5cb",
   "metadata": {},
   "source": [
    "[В оглавление](#TOC)"
   ]
  },
  {
   "cell_type": "markdown",
   "id": "d56c4b18-4528-48eb-b349-ec2a73ff2e24",
   "metadata": {
    "tags": []
   },
   "source": [
    "### - устройство пользователей<a class='anchor' id='3_2_5'></a>"
   ]
  },
  {
   "cell_type": "code",
   "execution_count": null,
   "id": "65c6044a-24af-40bd-a02f-ff4f53a2c733",
   "metadata": {},
   "outputs": [],
   "source": [
    "dimensions = ['device']\n",
    "ltv_raw, ltv_grouped, ltv_history, roi_grouped, roi_history = calc.get_ltv(profiles, observation_date, horizon_days, dimensions)\n",
    "calc.plot_ltv_roi(ltv_grouped, ltv_history, roi_grouped, roi_history, horizon_days, window=14)"
   ]
  },
  {
   "cell_type": "markdown",
   "id": "94b4f6cc-cdfc-4ba3-8029-a788ca2fd90c",
   "metadata": {},
   "source": [
    "&#9889; **Вывод:**\n",
    "\n",
    "- на графиках Android, iPhone и Mac лежат ниже порога окупаемости, с отрицательной динамикой ROI к концу двухнедельного периода. \n",
    "- динамика стоимости привлечения пользователей синхронно растет в разрезе по устройствам, так что преждевременно делать вывод о том, что следует отказать от распространения на Android, iPhone и Mac - проверим, не оказывает ли влияние конкетный регион - США."
   ]
  },
  {
   "cell_type": "markdown",
   "id": "a4fd5695-1718-4795-ad59-2adaea9cd541",
   "metadata": {},
   "source": [
    "[В оглавление](#TOC)"
   ]
  },
  {
   "cell_type": "markdown",
   "id": "4a99d5ad-4885-4ee6-bd3c-5dceecc5e1ee",
   "metadata": {},
   "source": [
    "### - устройство пользователей и европейский рынок<a class='anchor' id='3_2_6'></a>"
   ]
  },
  {
   "cell_type": "code",
   "execution_count": null,
   "id": "d9238c79-92fb-4081-bb49-26629ef84748",
   "metadata": {},
   "outputs": [],
   "source": [
    "dimensions = ['device', 'region']\n",
    "not_usa_profiles = profiles.query('region != \"United States\"')\n",
    "ltv_raw, ltv_grouped, ltv_history, roi_grouped, roi_history = calc.get_ltv(not_usa_profiles, observation_date, horizon_days, dimensions)\n",
    "calc.plot_ltv_roi(ltv_grouped, ltv_history, roi_grouped, roi_history, horizon_days, window=14)"
   ]
  },
  {
   "cell_type": "markdown",
   "id": "b5ae3be5-e72e-462f-a726-b75938e630cc",
   "metadata": {},
   "source": [
    "&#9889; **Вывод:**\n",
    "\n",
    "- европейский рынок окупается на всех устройствах,\n",
    "- привлекает внимание волатильность динамики LTV и ROI, есть даже существенные провалы - позже проверим конверсию и удержание,\n",
    "- с учетом результатов - фактор устройства в вопросе окупаемости можно исключить."
   ]
  },
  {
   "cell_type": "markdown",
   "id": "6220b9a0",
   "metadata": {},
   "source": [
    "<div class=\"alert alert-success\">\n",
    "<b>Комментарий ревьюера v2:</b>☀️\n",
    "\n",
    "Это подтверждает, что проблема в `US` \n",
    "</div>\n"
   ]
  },
  {
   "cell_type": "markdown",
   "id": "64192495-29e7-4d22-88b4-c40283e560e3",
   "metadata": {},
   "source": [
    "[В оглавление](#TOC)"
   ]
  },
  {
   "cell_type": "markdown",
   "id": "f160f4d6-f8b0-4256-a5f9-9531e4857a3c",
   "metadata": {
    "tags": []
   },
   "source": [
    "## 3) Проверим конверсию<a class=\"anchor\" id=\"3_3\"></a>"
   ]
  },
  {
   "cell_type": "markdown",
   "id": "4db75718-9da2-4a38-b624-a0b380e86687",
   "metadata": {},
   "source": [
    "### - посчитаем общую конверсию<a class='anchor' id='3_3_1'></a>"
   ]
  },
  {
   "cell_type": "code",
   "execution_count": null,
   "id": "a8e6ac11-437c-4b15-8f14-b86ed55bf643",
   "metadata": {},
   "outputs": [],
   "source": [
    "cr_raw, cr_grouped, cr_hist = calc.get_conversion(profiles, observation_date, horizon_days)"
   ]
  },
  {
   "cell_type": "code",
   "execution_count": null,
   "id": "96d0e9e9-0c57-41d8-a925-39ad0de39d36",
   "metadata": {},
   "outputs": [],
   "source": [
    "calc.plot_conversion(cr_grouped, cr_hist, horizon_days)"
   ]
  },
  {
   "cell_type": "markdown",
   "id": "b61728b9-efc5-4478-9d07-7457f81430ea",
   "metadata": {},
   "source": [
    "&#9889; **Вывод:**\n",
    "\n",
    "- конверсия в районе 8%,\n",
    "- достаточно надежного источника с анализом конверсии развлекательных приложений на 2019 год не удалось найти, исходя из данных [gamesindustry.biz](https://www.gamesindustry.biz/articles/2019-10-01-on-average-it-costs-usd35-42-to-get-a-mobile-gamer-to-make-first-in-app-purchase) на 01.10.2019 года - в игровых приложениях в тот период в среднем конверсия составляла 10,56% (резюмирая абзац про конверсию в покупку; к сожалению исследование на которое ссылается заметка уже обновилось),\n",
    "- учитывая, что в нашем случае речь идет о немного менее привлекательной категории - entertainment - с некоторой осторожностью можно предположить, что конверсия по состоянию на 2019 год в районе 8% вполне хорошая (и, может даже, отличная)."
   ]
  },
  {
   "cell_type": "markdown",
   "id": "b774d6da",
   "metadata": {},
   "source": [
    "<div class=\"alert alert-danger\">\n",
    "<b>Комментарий ревьюера v2:</b>☁️\n",
    "\n",
    "Конверсия ведь на первый лайфтайм равна конверсии на 0 + конверсия на 1, а у тебя получается, что они не суммируются, поэтому и такая наблюдаемая картина \n",
    "</div>\n"
   ]
  },
  {
   "cell_type": "markdown",
   "id": "cb0f9406-2e5e-4112-a097-a8a7e599fb94",
   "metadata": {},
   "source": [
    "<div class=\"alert alert-info\"> ✔️ Исправил, спасибо.</div>"
   ]
  },
  {
   "cell_type": "markdown",
   "id": "6262ed67-9022-4d45-867e-194e913da9c8",
   "metadata": {},
   "source": [
    "[В оглавление](#TOC)"
   ]
  },
  {
   "cell_type": "markdown",
   "id": "c357aebb-1c78-46a7-8328-a07f20a575af",
   "metadata": {},
   "source": [
    "### - посчитаем  конверсию по регионам<a class='anchor' id='3_3_2'></a>"
   ]
  },
  {
   "cell_type": "code",
   "execution_count": null,
   "id": "e93646c4-6d3c-490e-b130-54cf5bcdf548",
   "metadata": {},
   "outputs": [],
   "source": [
    "dimensions = ['region']\n",
    "cr_raw, cr_grouped, cr_hist = calc.get_conversion(profiles, observation_date, horizon_days, dimensions)\n",
    "calc.plot_conversion(cr_grouped, cr_hist, horizon_days)"
   ]
  },
  {
   "cell_type": "markdown",
   "id": "61a51193-df21-4e51-b777-fa0a8b4440ff",
   "metadata": {},
   "source": [
    "&#9889; **Вывод:**\n",
    "\n",
    "- пользователи из США конвертируется вдвое лучше пользователей из Европы."
   ]
  },
  {
   "cell_type": "markdown",
   "id": "e13cfc58-7b6c-4d0f-8d3f-aedaffeaa9ea",
   "metadata": {},
   "source": [
    "[В оглавление](#TOC)"
   ]
  },
  {
   "cell_type": "markdown",
   "id": "2a2c3e5a-dc9e-49e7-b9a9-6fe666079c44",
   "metadata": {},
   "source": [
    "### - посчитаем  конверсию по каналам<a class='anchor' id='3_3_3'></a>"
   ]
  },
  {
   "cell_type": "code",
   "execution_count": null,
   "id": "23211d94-3ee6-4c3c-81d6-7f9bed30632d",
   "metadata": {},
   "outputs": [],
   "source": [
    "dimensions = ['channel']"
   ]
  },
  {
   "cell_type": "code",
   "execution_count": null,
   "id": "a9b086a2-fb97-4f43-a52b-9785b9d67687",
   "metadata": {},
   "outputs": [],
   "source": [
    "cr_raw, cr_grouped, cr_hist = calc.get_conversion(profiles, observation_date, horizon_days, dimensions)"
   ]
  },
  {
   "cell_type": "code",
   "execution_count": null,
   "id": "8c93d8de-59f4-4e47-98dd-8f0425ec920c",
   "metadata": {},
   "outputs": [],
   "source": [
    "calc.plot_conversion(cr_grouped, cr_hist, horizon_days)"
   ]
  },
  {
   "cell_type": "markdown",
   "id": "4e7512a1-2ef1-4dd4-97b4-7e75b4583772",
   "metadata": {},
   "source": [
    "&#9889; **Вывод:**\n",
    "\n",
    "- FaceBoom, AdNonSense, LambdaMediaAds показывают лучшую конверсию - выше 10%,\n",
    "- несмотря на конверсию FaceBoom и AdNonSense среди неэффективных каналов."
   ]
  },
  {
   "cell_type": "markdown",
   "id": "f5135dd3-44ca-48ab-b677-2e31687af001",
   "metadata": {},
   "source": [
    "[В оглавление](#TOC)"
   ]
  },
  {
   "cell_type": "markdown",
   "id": "62d2268b-6423-41c7-ad4e-39062e856b68",
   "metadata": {
    "tags": []
   },
   "source": [
    "### - посчитаем  конверсию по устройствам<a class='anchor' id='3_3_4'></a>"
   ]
  },
  {
   "cell_type": "code",
   "execution_count": null,
   "id": "03f58fb8-199d-4453-b2ea-fb60952cdd6a",
   "metadata": {},
   "outputs": [],
   "source": [
    "dimensions = ['device']"
   ]
  },
  {
   "cell_type": "code",
   "execution_count": null,
   "id": "40b676fc-b526-4196-9fe3-d603c7d11330",
   "metadata": {},
   "outputs": [],
   "source": [
    "cr_raw, cr_grouped, cr_hist = calc.get_conversion(profiles, observation_date, horizon_days, dimensions)"
   ]
  },
  {
   "cell_type": "code",
   "execution_count": null,
   "id": "c82e0132-b1ba-40b1-8eb6-2b6cf6556070",
   "metadata": {},
   "outputs": [],
   "source": [
    "calc.plot_conversion(cr_grouped, cr_hist, horizon_days)"
   ]
  },
  {
   "cell_type": "markdown",
   "id": "01f90392-943b-41c8-87c4-b98a8676061b",
   "metadata": {},
   "source": [
    "&#9889; **Вывод:**\n",
    "\n",
    "- конверсию пользователей PC ниже пользователей других устройств,\n",
    "- без данных о сущностном содержании и взаимодействии пользователей с приложением затруднительно с разумной степенью достоверности предположить причину более низкой конверсии пользователей PC, но это повод для дополнительного исследования."
   ]
  },
  {
   "cell_type": "markdown",
   "id": "f8eb789e",
   "metadata": {},
   "source": [
    "<div class=\"alert alert-warning\">\n",
    "<b>Комментарий ревьюера v2:</b>⛅️ \n",
    "\n",
    "Существенные отличия каналов, устройства, стран появятся после изменения способа расчета конверсий\n",
    "</div>"
   ]
  },
  {
   "cell_type": "markdown",
   "id": "cba9615c-d857-4df1-9af2-9f5bfdd629d8",
   "metadata": {},
   "source": [
    "<div class=\"alert alert-info\"> ✔️</div>"
   ]
  },
  {
   "cell_type": "markdown",
   "id": "9753081c-54a7-4eed-9a5a-af3912ba0e82",
   "metadata": {},
   "source": [
    "[В оглавление](#TOC)"
   ]
  },
  {
   "cell_type": "markdown",
   "id": "f6d7a720-1cef-4b9a-bdd5-bc1ddb1ef751",
   "metadata": {
    "tags": []
   },
   "source": [
    "### - посчитаем длительность пользовательской сесии<a class='anchor' id='3_3_5'></a>"
   ]
  },
  {
   "cell_type": "markdown",
   "id": "14cb39ae-2bc4-4d69-8758-b09ac639c325",
   "metadata": {},
   "source": [
    "Сведения о посещениях хранятся в таблице visits. Колонки, отвечающие за начало и конец сессии - session_start и session_end уже приведены к нужному типу datetime. Сделаем копию таблицы для анализа, выделим месяц сессии:"
   ]
  },
  {
   "cell_type": "code",
   "execution_count": null,
   "id": "3ab78eef-4aa6-4280-a184-a73d7f1bf8cc",
   "metadata": {},
   "outputs": [],
   "source": [
    "sessions_df = calc.visits.copy()\n",
    "sessions_df['session_month'] = sessions_df['session_end'].dt.month"
   ]
  },
  {
   "cell_type": "markdown",
   "id": "b1721153-d5ad-4e77-9282-e911b9a093b9",
   "metadata": {},
   "source": [
    "Посчитаем количество среднее число сессий на пользователей:"
   ]
  },
  {
   "cell_type": "code",
   "execution_count": null,
   "id": "07d1a4be-1f88-47ff-9c5c-61d0ef17775d",
   "metadata": {},
   "outputs": [],
   "source": [
    "sessions_per_user = sessions_df.groupby('session_month').agg({'user_id': ['count', 'nunique']})\n",
    "sessions_per_user.columns = ['n_sessions', 'n_users']\n",
    "sessions_per_user['sessions_per_user'] = (sessions_per_user['n_sessions'] / sessions_per_user['n_users'])\n",
    "sessions_per_user"
   ]
  },
  {
   "cell_type": "markdown",
   "id": "fde662de-4d8c-4f18-89c7-cdba31f1b736",
   "metadata": {},
   "source": [
    "Посчитаем среднюю и медианную продолжительность сессий:"
   ]
  },
  {
   "cell_type": "code",
   "execution_count": null,
   "id": "d346e790-a6fe-4ad4-9a9c-2eb72892bf94",
   "metadata": {},
   "outputs": [],
   "source": [
    "sessions_df['session_duration_sec'] = (sessions_df['session_end'] - sessions_df['session_start']).dt.seconds\n",
    "\n",
    "sessions_df['session_duration_sec'].mean() / 60, sessions_df['session_duration_sec'].median() / 60"
   ]
  },
  {
   "cell_type": "markdown",
   "id": "e09dd262-6423-4df5-99a9-a7ce89631baa",
   "metadata": {},
   "source": [
    "Проверим распределение:"
   ]
  },
  {
   "cell_type": "code",
   "execution_count": null,
   "id": "660ca147-f3ef-46f7-a9b6-2c9665597368",
   "metadata": {},
   "outputs": [],
   "source": [
    "xlabel = 'Продолжительность сессии (сек.)'\n",
    "ylabel = 'Число пользователей'\n",
    "title = 'Продолжительность сессий пользователей'\n",
    "calc.histogram(sessions_df['session_duration_sec'], 50, 0, 2000, x_label=xlabel, y_label=ylabel, title=title)"
   ]
  },
  {
   "cell_type": "markdown",
   "id": "2bf49d2c",
   "metadata": {},
   "source": [
    "<div class=\"alert alert-danger\">\n",
    "<b>Комментарий ревьюера v2:</b>☁️\n",
    "\n",
    "Хотелось бы, чтобы на графиках присутствовали подписи осей, заголовок\n",
    "</div>\n"
   ]
  },
  {
   "cell_type": "markdown",
   "id": "7f0a3939-0a63-4d82-985e-53c1b1c23d33",
   "metadata": {},
   "source": [
    "<div class=\"alert alert-info\"> ✔️</div>"
   ]
  },
  {
   "cell_type": "markdown",
   "id": "4839ffeb-67f6-4454-b42e-128d93c6dae2",
   "metadata": {},
   "source": [
    "Есть очень длинные, аномальные, сессиями - более двух часов. Большинство уложилось в получасовой период. Выделим пользователей с продолжительностью сессии более получаса, построим гистограмму:"
   ]
  },
  {
   "cell_type": "code",
   "execution_count": null,
   "id": "02e0b4f9-a6d9-4938-b413-5c56dbfc4ecf",
   "metadata": {},
   "outputs": [],
   "source": [
    "more_then_half_an_hour = sessions_df[sessions_df['session_duration_sec'] > 1800]\n",
    "more_then_half_an_hour"
   ]
  },
  {
   "cell_type": "markdown",
   "id": "ce60d6ba-3100-4f21-8a9b-a637fba8326d",
   "metadata": {},
   "source": [
    "113905 сессий - почти 37%. Проверим на каких устройствах зафиксированы сессии более получаса."
   ]
  },
  {
   "cell_type": "code",
   "execution_count": null,
   "id": "8c6e9c42-8e8e-4617-bf4e-b05c98524ac1",
   "metadata": {},
   "outputs": [],
   "source": [
    "more_then_half_an_hour.groupby('device').agg({'user_id': 'count'})"
   ]
  },
  {
   "cell_type": "code",
   "execution_count": null,
   "id": "0ccf68b2-af6e-49dc-9403-325c532e2358",
   "metadata": {},
   "outputs": [],
   "source": [
    "xlabel = 'Продолжительность сессии (сек.)'\n",
    "ylabel = 'Число пользователей'\n",
    "title = 'Продолжительность сессий более получаса'\n",
    "calc.histogram(more_then_half_an_hour['session_duration_sec'], 50, 1600, 9000, x_label=xlabel, y_label=ylabel, title=title)"
   ]
  },
  {
   "cell_type": "markdown",
   "id": "c633f364-ae45-4553-9aa9-dacb532a4e8e",
   "metadata": {
    "tags": []
   },
   "source": [
    "### - проверим, различаются ли средняя длительность сессии в зависимости от канала привлечения<a class='anchor' id='3_3_6'></a>"
   ]
  },
  {
   "cell_type": "code",
   "execution_count": null,
   "id": "1e1f94b2-6d94-4c47-8e72-6771f42b5ee1",
   "metadata": {},
   "outputs": [],
   "source": [
    "sessions_df.groupby('channel').agg({'session_duration_sec': 'mean'})"
   ]
  },
  {
   "cell_type": "markdown",
   "id": "519b9c5c-c209-4cb1-9620-2c13c5d64343",
   "metadata": {
    "tags": []
   },
   "source": [
    "### - проверим, различаются ли средняя длительность сессии в зависимости от устройства<a class='anchor' id='3_3_7'></a>"
   ]
  },
  {
   "cell_type": "code",
   "execution_count": null,
   "id": "eb69efaa-48db-4261-9e7b-4d6eaaea277b",
   "metadata": {},
   "outputs": [],
   "source": [
    "sessions_df.groupby('channel').agg({'session_duration_sec': 'mean'})"
   ]
  },
  {
   "cell_type": "markdown",
   "id": "d2c7f27c-946f-4339-8ff5-b7d5537f27c0",
   "metadata": {
    "tags": []
   },
   "source": [
    "### - проверим, различаются ли средняя длительность сессии в зависимости от статуса пользователя<a class='anchor' id='3_3_8'></a>"
   ]
  },
  {
   "cell_type": "code",
   "execution_count": null,
   "id": "896f1ab1-5a8f-48c0-8f77-61cb1a389d34",
   "metadata": {},
   "outputs": [],
   "source": [
    "sessions_df = sessions_df.merge(profiles[['user_id', 'payer']], on='user_id')\n",
    "sessions_df.groupby('payer').agg({'session_duration_sec': 'mean'})"
   ]
  },
  {
   "cell_type": "markdown",
   "id": "6dba53d5-a7f3-49a1-a0fd-83129827c6a7",
   "metadata": {},
   "source": [
    "&#9889; **Вывод:**\n",
    "\n",
    "- в среднем пользователь проводит в приложении менее двух сессий,\n",
    "- средняя продолжительность сессии - 30 минут, медианная - 21 минуту,\n",
    "- почти 37% пользователей проводят в приложении более получаса,\n",
    "- существенных различий во времени сессии в зависимости от устройства, канала привлечения, статуса не выявлено, \n",
    "- исходя из представленных данных, принимая во внимание отсутствие подробного описания приложения, затруднительно сделать вывод с разумной степенью достоверности - являются ли сверхдлительные сессии систематической технической ошибкой или у приложения специфическая аудитория, это требует уточнения,\n",
    "- если исходить из того, что у приложения специфическая аудитория - возможно, в сочетании с продолжительностью сессии количество средних посещений не стоит рассматривать как низкое,\n",
    "- представляется, что отсюда и следует неэффективность рекалмы в США - TipTop и FaceBoom расчитаны на массовую аудиторию, не готовую в большинстве случаев инвестировать в длительные сессии (а уж говоря о пользователях из TipTop отдельно - совершенно точно не готовы)."
   ]
  },
  {
   "cell_type": "markdown",
   "id": "4998248c",
   "metadata": {},
   "source": [
    "<div class=\"alert alert-success\">\n",
    "<b>Комментарий ревьюера v2:</b>☀️\n",
    "    \n",
    "Рекомендую разделять статистику по платящим и нет, разница попрой бывает существенной \n",
    "</div>\n"
   ]
  },
  {
   "cell_type": "markdown",
   "id": "54a4a735-304b-4ed1-91cf-b8f56adbddf0",
   "metadata": {},
   "source": [
    "<div class=\"alert alert-info\"> ✔️ Дополнил</div>"
   ]
  },
  {
   "cell_type": "markdown",
   "id": "d56b5890-d196-428f-9de4-5ed744e2b744",
   "metadata": {},
   "source": [
    "[В оглавление](#TOC)"
   ]
  },
  {
   "cell_type": "markdown",
   "id": "65cf29dc-817a-481c-9979-6c830ffa125f",
   "metadata": {
    "tags": []
   },
   "source": [
    "## 4) Проверим удержание<a class=\"anchor\" id=\"3_4\"></a>"
   ]
  },
  {
   "cell_type": "markdown",
   "id": "86c92e96-26d9-4868-8ab0-f868fe74c7c1",
   "metadata": {},
   "source": [
    "### - посчитаем общее удержание<a class='anchor' id='3_4_1'></a>"
   ]
  },
  {
   "cell_type": "code",
   "execution_count": null,
   "id": "2aa4974f-e7ca-4132-a33b-9d4716c4761f",
   "metadata": {},
   "outputs": [],
   "source": [
    "retention_raw, retention_grouped, retention_hist = calc.get_retention(profiles, observation_date, horizon_days)"
   ]
  },
  {
   "cell_type": "code",
   "execution_count": null,
   "id": "9dea594b-328a-4322-91cd-9b47df234b37",
   "metadata": {
    "tags": []
   },
   "outputs": [],
   "source": [
    "calc.plot_retention(retention_grouped, retention_hist, horizon_days)"
   ]
  },
  {
   "cell_type": "markdown",
   "id": "29d13a8a-469e-497c-9836-56f482b438ef",
   "metadata": {},
   "source": [
    "&#9889; **Вывод:**\n",
    "\n",
    "- общее удержание невысокое, что укладывается в общую картину - уже установлено, что в среднем пользователи заходят в приложение менее двух раз"
   ]
  },
  {
   "cell_type": "markdown",
   "id": "23ded4fc-186c-4194-a100-5b251c2ff3bd",
   "metadata": {
    "tags": []
   },
   "source": [
    "[В оглавление](#TOC)"
   ]
  },
  {
   "cell_type": "markdown",
   "id": "169f75a3-b33e-4f24-9301-cb9bd0d0a534",
   "metadata": {},
   "source": [
    "### - посчитаем удержание по регионам<a class='anchor' id='3_4_2'></a>"
   ]
  },
  {
   "cell_type": "code",
   "execution_count": null,
   "id": "b3c6a64c-1e15-4132-8122-1b0c2e6d9486",
   "metadata": {},
   "outputs": [],
   "source": [
    "dimensions = ['region']\n",
    "retention_raw, retention_grouped, retention_hist = calc.get_retention(profiles, observation_date, horizon_days, dimensions)"
   ]
  },
  {
   "cell_type": "code",
   "execution_count": null,
   "id": "59bb4558-3faf-43e9-9f0c-1e8d71c12f0e",
   "metadata": {},
   "outputs": [],
   "source": [
    "calc.plot_retention(retention_grouped, retention_hist, horizon_days)"
   ]
  },
  {
   "cell_type": "markdown",
   "id": "26666f17-f0bf-49a4-846b-62cd3ae77bdc",
   "metadata": {},
   "source": [
    "&#9889; **Вывод:**\n",
    "\n",
    "- даже с учетом того, что общее удержание невысокое, пользователи из США удерживаются стабильно хуже других."
   ]
  },
  {
   "cell_type": "markdown",
   "id": "ab39200a",
   "metadata": {},
   "source": [
    "<div class=\"alert alert-success\">\n",
    "<b>Комментарий ревьюера v2:</b>☀️\n",
    "    \n",
    "Существенная проблема - плохое удержание в US, можно было подробнее посмотреть на всех ли каналах, которые приводят трафик в US, такая ситуация, анонсирую, что два самых крупных канала приводят трафик только из US, если захочешь, можешь поисследовать. Любопытно, что динамика конверсии `US` становится с течением времени не такой волатильной.  Ну и не смущает ли тебя прерывистость динамики удержания?\n",
    "</div>"
   ]
  },
  {
   "cell_type": "markdown",
   "id": "315d80e6-d8c1-4fa0-82ba-63b452a7195a",
   "metadata": {},
   "source": [
    "<div class=\"alert alert-info\"> Отсутствуют данные - это может быть и технические проблемы на стороне поставщика данных, или, возможно, связано с бизнес-процессом: не в каждом канале и не для каждой страны закупали трафик в каждый из возможных периодов - что вполне ок, тут может быть своя логика - в том числе, свзянная с бюджетом, post hoc анализом и так далее.</div>"
   ]
  },
  {
   "cell_type": "markdown",
   "id": "3469fae9-c4c4-49e5-ab13-5ec6082861d5",
   "metadata": {},
   "source": [
    "[В оглавление](#TOC)"
   ]
  },
  {
   "cell_type": "markdown",
   "id": "fe345aa3-2440-473f-ad62-6d6bb1cd7e19",
   "metadata": {},
   "source": [
    "### - посчитаем удержание по каналам<a class='anchor' id='3_4_3'></a>"
   ]
  },
  {
   "cell_type": "code",
   "execution_count": null,
   "id": "bc4f7eda-b81d-4bfb-88f6-718bb7401156",
   "metadata": {},
   "outputs": [],
   "source": [
    "dimensions = ['channel']\n",
    "retention_raw, retention_grouped, retention_hist = calc.get_retention(profiles, observation_date, horizon_days, dimensions)"
   ]
  },
  {
   "cell_type": "code",
   "execution_count": null,
   "id": "775a5b45-7e5d-45b3-852c-4b2794e6c0e8",
   "metadata": {
    "tags": []
   },
   "outputs": [],
   "source": [
    "calc.plot_retention(retention_grouped, retention_hist, horizon_days)"
   ]
  },
  {
   "cell_type": "markdown",
   "id": "577b7f31-4850-47d2-a874-abf01d5a2116",
   "metadata": {},
   "source": [
    "&#9889; **Вывод:**\n",
    "\n",
    "- любопытно, что пользователи из FaceBoom и AdNonSense удерживаются хуже пользователей из других источников,\n",
    "- также привлекает внимание, что пользователи из TipTop не выделяются из общей картины: видимо, раз уж стал платить, то относится к целевой аудитории."
   ]
  },
  {
   "cell_type": "markdown",
   "id": "8fa676c2",
   "metadata": {},
   "source": [
    "<div class=\"alert alert-success\">\n",
    "<b>Комментарий ревьюера v2:</b>☀️\n",
    "    \n",
    "Тут возникают разные причины плохой окупаемости `Tip Top` и `FaceBoom` \n",
    "</div>"
   ]
  },
  {
   "cell_type": "markdown",
   "id": "fe4de47f-71af-4df1-8472-1310a1f2a8ad",
   "metadata": {},
   "source": [
    "[В оглавление](#TOC)"
   ]
  },
  {
   "cell_type": "markdown",
   "id": "a2b3b7bf-e01b-43ee-8d4f-f33cefeb692c",
   "metadata": {
    "tags": []
   },
   "source": [
    "### - посчитаем удержание по устройствам<a class='anchor' id='3_4_4'></a>"
   ]
  },
  {
   "cell_type": "code",
   "execution_count": null,
   "id": "f339050d-c50b-4232-96a6-cdc1551c2938",
   "metadata": {},
   "outputs": [],
   "source": [
    "dimensions = ['device']\n",
    "retention_raw, retention_grouped, retention_hist = calc.get_retention(profiles, observation_date, horizon_days, dimensions)"
   ]
  },
  {
   "cell_type": "code",
   "execution_count": null,
   "id": "47c0372a-e724-4c1e-8c65-842b4d4cff41",
   "metadata": {},
   "outputs": [],
   "source": [
    "calc.plot_retention(retention_grouped, retention_hist, horizon_days)"
   ]
  },
  {
   "cell_type": "markdown",
   "id": "0a8b5f82-5658-4328-a0ca-a6c6ebd2893e",
   "metadata": {},
   "source": [
    "&#9889; **Вывод:**\n",
    "\n",
    "- в целом, устройство не влияет на удержание,\n",
    "- пользователи PC удерживаются чуть лучше, но разрыв несущественный."
   ]
  },
  {
   "cell_type": "markdown",
   "id": "be6e8d84",
   "metadata": {},
   "source": [
    "<div class=\"alert alert-success\">\n",
    "<b>Комментарий ревьюера v2:</b>☀️\n",
    "    \n",
    "Обрати внимание, что удержание неплатящих пользователей из разных каналов, стран, платформ ровное, а удержание платящих очень отличается, как считаешь почему так?\n",
    "</div>\n"
   ]
  },
  {
   "cell_type": "markdown",
   "id": "f52c679f-5cfc-4ca1-bcc6-a6ef1adc77b3",
   "metadata": {},
   "source": [
    "<div class=\"alert alert-info\"> Есть еще множество существенных отличий в платящей и неплатящей публике, что неоднократно было исследовано: как минимум, потому что порог выхода для платящих выше - в том числе, в силу эффекта подтверждения издержек. Кроме того, плативший и более подвижен в отношении продукта, поведение менее стабильно, зависит от потребительских привычек: раз пользователь заплатил - с некоторой осторжностью можно утверждать, что он заинтересован в приложении, но это не значит, что на всех устройствах опыт взаимодействия одинаково ценный. Не хватает данных, чтобы проверить гипотезы, связанные с взаимодействием - поэтому только общие соображения.</div>"
   ]
  },
  {
   "cell_type": "markdown",
   "id": "c1babbaa-2fc2-4058-bdb6-6b80110e274e",
   "metadata": {},
   "source": [
    "[В оглавление](#TOC)"
   ]
  },
  {
   "cell_type": "markdown",
   "id": "cd3fd8cb-8abb-4239-ae99-c6c69a7d30ba",
   "metadata": {
    "tags": []
   },
   "source": [
    "## Выводы по итогам маркетингового анализа<a class=\"anchor\" id=\"3_conclusion\"></a>"
   ]
  },
  {
   "cell_type": "markdown",
   "id": "75c765bc-e369-4fa0-b2a1-91823910e9a1",
   "metadata": {},
   "source": [
    "Исходя из представленных данных данных можно сделать выводы:\n",
    "\n",
    "\n",
    "**1. В целом реклама не окупается**\n",
    "- в течение 14 дней ROI так и не пересекает границу окупаемости,\n",
    "- необходимо отметить, что изолированно европейский рынок окупается, не окупается только США.\n",
    "\n",
    "**2. На окупаемость рекламы оказывают негативное влияние несколько факторов**\n",
    "- размер расходов на рекламу в США не оправдан - приложение получает новых пользователей, однако новые пользователи из США плохо конвертируются в платящих клиентов - отрицательная динамика ROI и, в целом, к концу двухнедельного периода ROI в районе 80%,\n",
    "- исходя из представленных данных, расходы на FaceBoom (ROI - 0.74) и TipTop (ROI - 0.54) в США - факторы, способствующие убыточности, поскольку львиная доля бюджета - 87 196.90 долларов (82.65%) ушла именно на TipTop - 54751.30 долларов (51.9%) и FaceBoom - 32445.60 долларов (30.75%),\n",
    "- взрывной рост затрат на TipTop от когорты к когорте при том, что начальная стоимость - ниже FaceBoom (расходы на который стабильны),\n",
    "- также из десяти платных источников привлечения клиентов не окупаются AdNonSense (ROI - 0.83),\n",
    "\n",
    "**3. Проблемы окупаемости могут быть вызваны следующими обстоятельствами**\n",
    "- в среднем пользователь проводит в приложении менее двух сессий, средняя продолжительность сессии - 30 минут, медианная - 21 минуту (при том, что почти 37% пользователей проводят в приложении более получаса),\n",
    "- исходя из представленных данных, принимая во внимание отсутствие подробного описания приложения, затруднительно сделать вывод с разумной степенью достоверности - являются ли сверхдлительные сессии результатом систематической ошибки на каком-то из этапов взаимодействия или это сущностное наполнение приложения влияет на сессии - это требуется уточнять \n",
    "-  неэффективная реклама в США - TipTop и FaceBoom рассчитаны  на массовую аудиторию, не готовую в большинстве случаев инвестировать в длительные сессии, независимо от того, являются ли они следствием сущностного наполнения приложения (неподходящая целевая аудитория) или пробемой на уровне взаимодействия (техническая ошибка).\n",
    "\n",
    "\n",
    "**На основании проведенного анализа можно дать рекомендации**:\n",
    "- по крайней мере временно отказаться от размещения рекламы в AdNonSense (ROI - 0.83), FaceBoom (ROI - 0.74), TipTop (ROI - 0.54),\n",
    "- в будущем, при необходимости размещать рекламу в TipTop, по возможности, пересмотреть условия о цены размещения,\n",
    "- проверить чем вызваны длительные сессии (если это не вызвано самой сущностью приложения),\n",
    "- проверить обоснованность цены,\n",
    "- не перераспределять высвободившиеся средства до того, как будет дана оценка причинам длительности сессий и не будет проверена обоснованность цены.\n"
   ]
  },
  {
   "cell_type": "markdown",
   "id": "3321d692",
   "metadata": {},
   "source": [
    "<div class=\"alert alert-success\">\n",
    "<b>Комментарий ревьюера v2:</b>☀️\n",
    "    \n",
    "* Отличная работа, пару критических замечаний, с которым ты быстро разберешься). Считаю важной рекомендацией - чаще обращать внимания на показатели маркетинга, а то очень похоже, что маркетинговый отдел долгое время сжигал деньги не эффективно. В работе я оставил некоторое количество мелких рекомендаций от себя, надеюсь ты из них вынесешь что-то для себя и будешь активно применять в будущих проектах и работе. \n",
    "    \n",
    "    \n",
    "* Сейчас работаю аналитиком в отделе закупки игровой компании и US это действительно наибольший рынок, ему достается процентов 30-40 всего трафика, да набор каналов существенно шире, но US доминирует в этом плане. Конечно у нас перед глазами набор дашбордов, которые позволяют контролировать множество всяких метрик, но периодически бывает всякое, конечно же масштабирование канала, который становится всё хуже и хуже - сомнительная идея, а оптимизации происходят существенно чаще, по некоторым каналам раз в неделю, а по некоторым и ещё чаще). Жду отправки проекта \n",
    "    \n",
    "</div>"
   ]
  },
  {
   "cell_type": "markdown",
   "id": "d44af377-8cec-4b9e-bf74-3ac39e7ae3b2",
   "metadata": {},
   "source": [
    "<div class=\"alert alert-info\"> Скорректировал выводы - исключил заключение о низкой конверсии</div>"
   ]
  },
  {
   "cell_type": "markdown",
   "id": "50da1710-c493-40c0-8823-944c54b5a3e3",
   "metadata": {},
   "source": [
    "[В оглавление](#TOC)"
   ]
  }
 ],
 "metadata": {
  "ExecuteTimeLog": [
   {
    "duration": 1866,
    "start_time": "2022-04-07T14:25:26.766Z"
   },
   {
    "duration": 0,
    "start_time": "2022-04-07T14:25:28.636Z"
   },
   {
    "duration": 0,
    "start_time": "2022-04-07T14:25:28.637Z"
   },
   {
    "duration": 0,
    "start_time": "2022-04-07T14:25:28.639Z"
   },
   {
    "duration": 0,
    "start_time": "2022-04-07T14:25:28.640Z"
   },
   {
    "duration": 0,
    "start_time": "2022-04-07T14:25:28.642Z"
   },
   {
    "duration": 0,
    "start_time": "2022-04-07T14:25:28.643Z"
   },
   {
    "duration": 0,
    "start_time": "2022-04-07T14:25:28.645Z"
   },
   {
    "duration": 0,
    "start_time": "2022-04-07T14:25:28.647Z"
   },
   {
    "duration": 0,
    "start_time": "2022-04-07T14:25:28.648Z"
   },
   {
    "duration": 0,
    "start_time": "2022-04-07T14:25:28.649Z"
   },
   {
    "duration": 0,
    "start_time": "2022-04-07T14:25:28.650Z"
   },
   {
    "duration": 0,
    "start_time": "2022-04-07T14:25:28.652Z"
   },
   {
    "duration": 0,
    "start_time": "2022-04-07T14:25:28.653Z"
   },
   {
    "duration": 0,
    "start_time": "2022-04-07T14:25:28.654Z"
   },
   {
    "duration": 0,
    "start_time": "2022-04-07T14:25:28.656Z"
   },
   {
    "duration": 0,
    "start_time": "2022-04-07T14:25:28.657Z"
   },
   {
    "duration": 0,
    "start_time": "2022-04-07T14:25:28.658Z"
   },
   {
    "duration": 0,
    "start_time": "2022-04-07T14:25:28.660Z"
   },
   {
    "duration": 0,
    "start_time": "2022-04-07T14:25:28.661Z"
   },
   {
    "duration": 0,
    "start_time": "2022-04-07T14:25:28.662Z"
   },
   {
    "duration": 0,
    "start_time": "2022-04-07T14:25:28.663Z"
   },
   {
    "duration": 0,
    "start_time": "2022-04-07T14:25:28.664Z"
   },
   {
    "duration": 0,
    "start_time": "2022-04-07T14:25:28.665Z"
   },
   {
    "duration": 0,
    "start_time": "2022-04-07T14:25:28.666Z"
   },
   {
    "duration": 0,
    "start_time": "2022-04-07T14:25:28.667Z"
   },
   {
    "duration": 0,
    "start_time": "2022-04-07T14:25:28.668Z"
   },
   {
    "duration": 0,
    "start_time": "2022-04-07T14:25:28.732Z"
   },
   {
    "duration": 0,
    "start_time": "2022-04-07T14:25:28.733Z"
   },
   {
    "duration": 0,
    "start_time": "2022-04-07T14:25:28.735Z"
   },
   {
    "duration": 0,
    "start_time": "2022-04-07T14:25:28.736Z"
   },
   {
    "duration": 0,
    "start_time": "2022-04-07T14:25:28.738Z"
   },
   {
    "duration": 0,
    "start_time": "2022-04-07T14:25:28.739Z"
   },
   {
    "duration": 0,
    "start_time": "2022-04-07T14:25:28.741Z"
   },
   {
    "duration": 0,
    "start_time": "2022-04-07T14:25:28.743Z"
   },
   {
    "duration": 0,
    "start_time": "2022-04-07T14:25:28.744Z"
   },
   {
    "duration": 0,
    "start_time": "2022-04-07T14:25:28.746Z"
   },
   {
    "duration": 0,
    "start_time": "2022-04-07T14:25:28.748Z"
   },
   {
    "duration": 0,
    "start_time": "2022-04-07T14:25:28.749Z"
   },
   {
    "duration": 0,
    "start_time": "2022-04-07T14:25:28.750Z"
   },
   {
    "duration": 0,
    "start_time": "2022-04-07T14:25:28.752Z"
   },
   {
    "duration": 0,
    "start_time": "2022-04-07T14:25:28.754Z"
   },
   {
    "duration": 0,
    "start_time": "2022-04-07T14:25:28.755Z"
   },
   {
    "duration": 0,
    "start_time": "2022-04-07T14:25:28.757Z"
   },
   {
    "duration": 0,
    "start_time": "2022-04-07T14:25:28.758Z"
   },
   {
    "duration": 0,
    "start_time": "2022-04-07T14:25:28.760Z"
   },
   {
    "duration": 0,
    "start_time": "2022-04-07T14:25:28.762Z"
   },
   {
    "duration": 0,
    "start_time": "2022-04-07T14:25:28.764Z"
   },
   {
    "duration": 0,
    "start_time": "2022-04-07T14:25:28.765Z"
   },
   {
    "duration": 0,
    "start_time": "2022-04-07T14:25:28.767Z"
   },
   {
    "duration": 0,
    "start_time": "2022-04-07T14:25:28.769Z"
   },
   {
    "duration": 0,
    "start_time": "2022-04-07T14:25:28.834Z"
   },
   {
    "duration": 0,
    "start_time": "2022-04-07T14:25:28.836Z"
   },
   {
    "duration": 0,
    "start_time": "2022-04-07T14:25:28.838Z"
   },
   {
    "duration": 0,
    "start_time": "2022-04-07T14:25:28.840Z"
   },
   {
    "duration": 0,
    "start_time": "2022-04-07T14:25:28.841Z"
   },
   {
    "duration": 0,
    "start_time": "2022-04-07T14:25:28.843Z"
   },
   {
    "duration": 0,
    "start_time": "2022-04-07T14:25:28.845Z"
   },
   {
    "duration": 0,
    "start_time": "2022-04-07T14:25:28.846Z"
   },
   {
    "duration": 0,
    "start_time": "2022-04-07T14:25:28.848Z"
   },
   {
    "duration": 0,
    "start_time": "2022-04-07T14:25:28.849Z"
   },
   {
    "duration": 0,
    "start_time": "2022-04-07T14:25:28.851Z"
   },
   {
    "duration": 0,
    "start_time": "2022-04-07T14:25:28.853Z"
   },
   {
    "duration": 0,
    "start_time": "2022-04-07T14:25:28.855Z"
   },
   {
    "duration": 0,
    "start_time": "2022-04-07T14:25:28.856Z"
   },
   {
    "duration": 1322,
    "start_time": "2022-04-07T14:25:58.997Z"
   },
   {
    "duration": 71,
    "start_time": "2022-04-07T14:26:00.321Z"
   },
   {
    "duration": 309,
    "start_time": "2022-04-07T14:26:00.394Z"
   },
   {
    "duration": 0,
    "start_time": "2022-04-07T14:26:00.708Z"
   },
   {
    "duration": 0,
    "start_time": "2022-04-07T14:26:00.710Z"
   },
   {
    "duration": 0,
    "start_time": "2022-04-07T14:26:00.711Z"
   },
   {
    "duration": 1,
    "start_time": "2022-04-07T14:26:00.712Z"
   },
   {
    "duration": 0,
    "start_time": "2022-04-07T14:26:00.716Z"
   },
   {
    "duration": 0,
    "start_time": "2022-04-07T14:26:00.731Z"
   },
   {
    "duration": 0,
    "start_time": "2022-04-07T14:26:00.733Z"
   },
   {
    "duration": 0,
    "start_time": "2022-04-07T14:26:00.735Z"
   },
   {
    "duration": 0,
    "start_time": "2022-04-07T14:26:00.736Z"
   },
   {
    "duration": 0,
    "start_time": "2022-04-07T14:26:00.737Z"
   },
   {
    "duration": 0,
    "start_time": "2022-04-07T14:26:00.739Z"
   },
   {
    "duration": 0,
    "start_time": "2022-04-07T14:26:00.741Z"
   },
   {
    "duration": 0,
    "start_time": "2022-04-07T14:26:00.743Z"
   },
   {
    "duration": 0,
    "start_time": "2022-04-07T14:26:00.744Z"
   },
   {
    "duration": 0,
    "start_time": "2022-04-07T14:26:00.745Z"
   },
   {
    "duration": 0,
    "start_time": "2022-04-07T14:26:00.748Z"
   },
   {
    "duration": 0,
    "start_time": "2022-04-07T14:26:00.749Z"
   },
   {
    "duration": 0,
    "start_time": "2022-04-07T14:26:00.750Z"
   },
   {
    "duration": 0,
    "start_time": "2022-04-07T14:26:00.752Z"
   },
   {
    "duration": 0,
    "start_time": "2022-04-07T14:26:00.753Z"
   },
   {
    "duration": 0,
    "start_time": "2022-04-07T14:26:00.755Z"
   },
   {
    "duration": 0,
    "start_time": "2022-04-07T14:26:00.757Z"
   },
   {
    "duration": 0,
    "start_time": "2022-04-07T14:26:00.758Z"
   },
   {
    "duration": 0,
    "start_time": "2022-04-07T14:26:00.759Z"
   },
   {
    "duration": 0,
    "start_time": "2022-04-07T14:26:00.761Z"
   },
   {
    "duration": 0,
    "start_time": "2022-04-07T14:26:00.762Z"
   },
   {
    "duration": 0,
    "start_time": "2022-04-07T14:26:00.763Z"
   },
   {
    "duration": 0,
    "start_time": "2022-04-07T14:26:00.765Z"
   },
   {
    "duration": 0,
    "start_time": "2022-04-07T14:26:00.766Z"
   },
   {
    "duration": 0,
    "start_time": "2022-04-07T14:26:00.768Z"
   },
   {
    "duration": 0,
    "start_time": "2022-04-07T14:26:00.769Z"
   },
   {
    "duration": 0,
    "start_time": "2022-04-07T14:26:00.771Z"
   },
   {
    "duration": 0,
    "start_time": "2022-04-07T14:26:00.772Z"
   },
   {
    "duration": 0,
    "start_time": "2022-04-07T14:26:00.832Z"
   },
   {
    "duration": 0,
    "start_time": "2022-04-07T14:26:00.833Z"
   },
   {
    "duration": 0,
    "start_time": "2022-04-07T14:26:00.834Z"
   },
   {
    "duration": 0,
    "start_time": "2022-04-07T14:26:00.835Z"
   },
   {
    "duration": 0,
    "start_time": "2022-04-07T14:26:00.836Z"
   },
   {
    "duration": 0,
    "start_time": "2022-04-07T14:26:00.838Z"
   },
   {
    "duration": 0,
    "start_time": "2022-04-07T14:26:00.839Z"
   },
   {
    "duration": 0,
    "start_time": "2022-04-07T14:26:00.840Z"
   },
   {
    "duration": 0,
    "start_time": "2022-04-07T14:26:00.841Z"
   },
   {
    "duration": 0,
    "start_time": "2022-04-07T14:26:00.841Z"
   },
   {
    "duration": 0,
    "start_time": "2022-04-07T14:26:00.842Z"
   },
   {
    "duration": 0,
    "start_time": "2022-04-07T14:26:00.844Z"
   },
   {
    "duration": 0,
    "start_time": "2022-04-07T14:26:00.845Z"
   },
   {
    "duration": 0,
    "start_time": "2022-04-07T14:26:00.846Z"
   },
   {
    "duration": 0,
    "start_time": "2022-04-07T14:26:00.848Z"
   },
   {
    "duration": 0,
    "start_time": "2022-04-07T14:26:00.849Z"
   },
   {
    "duration": 0,
    "start_time": "2022-04-07T14:26:00.850Z"
   },
   {
    "duration": 0,
    "start_time": "2022-04-07T14:26:00.851Z"
   },
   {
    "duration": 0,
    "start_time": "2022-04-07T14:26:00.853Z"
   },
   {
    "duration": 0,
    "start_time": "2022-04-07T14:26:00.856Z"
   },
   {
    "duration": 0,
    "start_time": "2022-04-07T14:26:00.857Z"
   },
   {
    "duration": 0,
    "start_time": "2022-04-07T14:26:00.859Z"
   },
   {
    "duration": 0,
    "start_time": "2022-04-07T14:26:00.861Z"
   },
   {
    "duration": 0,
    "start_time": "2022-04-07T14:26:00.863Z"
   },
   {
    "duration": 0,
    "start_time": "2022-04-07T14:26:00.865Z"
   },
   {
    "duration": 0,
    "start_time": "2022-04-07T14:26:00.866Z"
   },
   {
    "duration": 0,
    "start_time": "2022-04-07T14:26:00.867Z"
   },
   {
    "duration": 0,
    "start_time": "2022-04-07T14:26:00.869Z"
   },
   {
    "duration": 0,
    "start_time": "2022-04-07T14:26:00.870Z"
   },
   {
    "duration": 104406,
    "start_time": "2022-04-07T14:27:14.070Z"
   },
   {
    "duration": 17,
    "start_time": "2022-04-07T14:30:08.153Z"
   },
   {
    "duration": 0,
    "start_time": "2022-04-07T14:30:08.172Z"
   },
   {
    "duration": 0,
    "start_time": "2022-04-07T14:30:08.173Z"
   },
   {
    "duration": 0,
    "start_time": "2022-04-07T14:30:08.176Z"
   },
   {
    "duration": 13,
    "start_time": "2022-04-07T14:30:08.183Z"
   },
   {
    "duration": 0,
    "start_time": "2022-04-07T14:30:08.198Z"
   },
   {
    "duration": 0,
    "start_time": "2022-04-07T14:30:08.200Z"
   },
   {
    "duration": 13,
    "start_time": "2022-04-07T14:30:08.206Z"
   },
   {
    "duration": 0,
    "start_time": "2022-04-07T14:30:08.220Z"
   },
   {
    "duration": 0,
    "start_time": "2022-04-07T14:30:08.232Z"
   },
   {
    "duration": 12,
    "start_time": "2022-04-07T14:30:08.233Z"
   },
   {
    "duration": 0,
    "start_time": "2022-04-07T14:30:08.247Z"
   },
   {
    "duration": 0,
    "start_time": "2022-04-07T14:30:08.249Z"
   },
   {
    "duration": 4,
    "start_time": "2022-04-07T14:30:08.251Z"
   },
   {
    "duration": 13,
    "start_time": "2022-04-07T14:30:08.258Z"
   },
   {
    "duration": 0,
    "start_time": "2022-04-07T14:30:08.273Z"
   },
   {
    "duration": 0,
    "start_time": "2022-04-07T14:30:08.274Z"
   },
   {
    "duration": 0,
    "start_time": "2022-04-07T14:30:08.275Z"
   },
   {
    "duration": 57,
    "start_time": "2022-04-07T14:30:08.282Z"
   },
   {
    "duration": 1,
    "start_time": "2022-04-07T14:30:08.341Z"
   },
   {
    "duration": 0,
    "start_time": "2022-04-07T14:30:08.343Z"
   },
   {
    "duration": 0,
    "start_time": "2022-04-07T14:30:08.344Z"
   },
   {
    "duration": 0,
    "start_time": "2022-04-07T14:30:08.345Z"
   },
   {
    "duration": 0,
    "start_time": "2022-04-07T14:30:08.346Z"
   },
   {
    "duration": 0,
    "start_time": "2022-04-07T14:30:08.347Z"
   },
   {
    "duration": 0,
    "start_time": "2022-04-07T14:30:08.349Z"
   },
   {
    "duration": 0,
    "start_time": "2022-04-07T14:30:08.350Z"
   },
   {
    "duration": 10,
    "start_time": "2022-04-07T14:30:08.351Z"
   },
   {
    "duration": 0,
    "start_time": "2022-04-07T14:30:08.363Z"
   },
   {
    "duration": 0,
    "start_time": "2022-04-07T14:30:08.365Z"
   },
   {
    "duration": 67,
    "start_time": "2022-04-07T14:30:08.367Z"
   },
   {
    "duration": 0,
    "start_time": "2022-04-07T14:30:08.436Z"
   },
   {
    "duration": 0,
    "start_time": "2022-04-07T14:30:08.437Z"
   },
   {
    "duration": 0,
    "start_time": "2022-04-07T14:30:08.439Z"
   },
   {
    "duration": 0,
    "start_time": "2022-04-07T14:30:08.440Z"
   },
   {
    "duration": 0,
    "start_time": "2022-04-07T14:30:08.441Z"
   },
   {
    "duration": 0,
    "start_time": "2022-04-07T14:30:08.442Z"
   },
   {
    "duration": 10,
    "start_time": "2022-04-07T14:30:08.451Z"
   },
   {
    "duration": 9,
    "start_time": "2022-04-07T14:30:08.471Z"
   },
   {
    "duration": 48,
    "start_time": "2022-04-07T14:30:08.487Z"
   },
   {
    "duration": 0,
    "start_time": "2022-04-07T14:30:08.537Z"
   },
   {
    "duration": 0,
    "start_time": "2022-04-07T14:30:08.538Z"
   },
   {
    "duration": 0,
    "start_time": "2022-04-07T14:30:08.540Z"
   },
   {
    "duration": 0,
    "start_time": "2022-04-07T14:30:08.541Z"
   },
   {
    "duration": 4,
    "start_time": "2022-04-07T14:30:08.543Z"
   },
   {
    "duration": 14,
    "start_time": "2022-04-07T14:30:08.549Z"
   },
   {
    "duration": 0,
    "start_time": "2022-04-07T14:30:08.566Z"
   },
   {
    "duration": 0,
    "start_time": "2022-04-07T14:30:08.567Z"
   },
   {
    "duration": 0,
    "start_time": "2022-04-07T14:30:08.568Z"
   },
   {
    "duration": 10,
    "start_time": "2022-04-07T14:30:08.570Z"
   },
   {
    "duration": 0,
    "start_time": "2022-04-07T14:30:08.582Z"
   },
   {
    "duration": 9,
    "start_time": "2022-04-07T14:30:08.635Z"
   },
   {
    "duration": 0,
    "start_time": "2022-04-07T14:30:08.647Z"
   },
   {
    "duration": 0,
    "start_time": "2022-04-07T14:30:08.648Z"
   },
   {
    "duration": 0,
    "start_time": "2022-04-07T14:30:08.649Z"
   },
   {
    "duration": 0,
    "start_time": "2022-04-07T14:30:08.650Z"
   },
   {
    "duration": 0,
    "start_time": "2022-04-07T14:30:08.651Z"
   },
   {
    "duration": 0,
    "start_time": "2022-04-07T14:30:08.653Z"
   },
   {
    "duration": 0,
    "start_time": "2022-04-07T14:30:08.654Z"
   },
   {
    "duration": 0,
    "start_time": "2022-04-07T14:30:08.654Z"
   },
   {
    "duration": 0,
    "start_time": "2022-04-07T14:30:08.656Z"
   },
   {
    "duration": 9,
    "start_time": "2022-04-07T14:30:08.658Z"
   },
   {
    "duration": 0,
    "start_time": "2022-04-07T14:30:08.669Z"
   },
   {
    "duration": 66,
    "start_time": "2022-04-07T14:30:08.671Z"
   },
   {
    "duration": 0,
    "start_time": "2022-04-07T14:30:08.740Z"
   },
   {
    "duration": 54804,
    "start_time": "2022-04-07T14:31:44.448Z"
   },
   {
    "duration": 1235,
    "start_time": "2022-04-07T14:32:39.254Z"
   },
   {
    "duration": 61,
    "start_time": "2022-04-07T14:32:40.492Z"
   },
   {
    "duration": 193,
    "start_time": "2022-04-07T14:32:40.555Z"
   },
   {
    "duration": 0,
    "start_time": "2022-04-07T14:32:40.753Z"
   },
   {
    "duration": 0,
    "start_time": "2022-04-07T14:32:40.755Z"
   },
   {
    "duration": 0,
    "start_time": "2022-04-07T14:32:40.756Z"
   },
   {
    "duration": 0,
    "start_time": "2022-04-07T14:32:40.758Z"
   },
   {
    "duration": 0,
    "start_time": "2022-04-07T14:32:40.759Z"
   },
   {
    "duration": 0,
    "start_time": "2022-04-07T14:32:40.760Z"
   },
   {
    "duration": 0,
    "start_time": "2022-04-07T14:32:40.762Z"
   },
   {
    "duration": 0,
    "start_time": "2022-04-07T14:32:40.763Z"
   },
   {
    "duration": 0,
    "start_time": "2022-04-07T14:32:40.765Z"
   },
   {
    "duration": 0,
    "start_time": "2022-04-07T14:32:40.767Z"
   },
   {
    "duration": 0,
    "start_time": "2022-04-07T14:32:40.768Z"
   },
   {
    "duration": 0,
    "start_time": "2022-04-07T14:32:40.769Z"
   },
   {
    "duration": 0,
    "start_time": "2022-04-07T14:32:40.771Z"
   },
   {
    "duration": 0,
    "start_time": "2022-04-07T14:32:40.772Z"
   },
   {
    "duration": 0,
    "start_time": "2022-04-07T14:32:40.773Z"
   },
   {
    "duration": 0,
    "start_time": "2022-04-07T14:32:40.775Z"
   },
   {
    "duration": 0,
    "start_time": "2022-04-07T14:32:40.776Z"
   },
   {
    "duration": 0,
    "start_time": "2022-04-07T14:32:40.778Z"
   },
   {
    "duration": 0,
    "start_time": "2022-04-07T14:32:40.779Z"
   },
   {
    "duration": 0,
    "start_time": "2022-04-07T14:32:40.781Z"
   },
   {
    "duration": 0,
    "start_time": "2022-04-07T14:32:40.782Z"
   },
   {
    "duration": 0,
    "start_time": "2022-04-07T14:32:40.784Z"
   },
   {
    "duration": 0,
    "start_time": "2022-04-07T14:32:40.831Z"
   },
   {
    "duration": 0,
    "start_time": "2022-04-07T14:32:40.833Z"
   },
   {
    "duration": 0,
    "start_time": "2022-04-07T14:32:40.834Z"
   },
   {
    "duration": 0,
    "start_time": "2022-04-07T14:32:40.835Z"
   },
   {
    "duration": 0,
    "start_time": "2022-04-07T14:32:40.836Z"
   },
   {
    "duration": 0,
    "start_time": "2022-04-07T14:32:40.838Z"
   },
   {
    "duration": 0,
    "start_time": "2022-04-07T14:32:40.839Z"
   },
   {
    "duration": 0,
    "start_time": "2022-04-07T14:32:40.840Z"
   },
   {
    "duration": 0,
    "start_time": "2022-04-07T14:32:40.841Z"
   },
   {
    "duration": 0,
    "start_time": "2022-04-07T14:32:40.842Z"
   },
   {
    "duration": 0,
    "start_time": "2022-04-07T14:32:40.843Z"
   },
   {
    "duration": 0,
    "start_time": "2022-04-07T14:32:40.844Z"
   },
   {
    "duration": 0,
    "start_time": "2022-04-07T14:32:40.845Z"
   },
   {
    "duration": 0,
    "start_time": "2022-04-07T14:32:40.846Z"
   },
   {
    "duration": 0,
    "start_time": "2022-04-07T14:32:40.847Z"
   },
   {
    "duration": 0,
    "start_time": "2022-04-07T14:32:40.848Z"
   },
   {
    "duration": 0,
    "start_time": "2022-04-07T14:32:40.849Z"
   },
   {
    "duration": 0,
    "start_time": "2022-04-07T14:32:40.851Z"
   },
   {
    "duration": 0,
    "start_time": "2022-04-07T14:32:40.852Z"
   },
   {
    "duration": 0,
    "start_time": "2022-04-07T14:32:40.853Z"
   },
   {
    "duration": 0,
    "start_time": "2022-04-07T14:32:40.854Z"
   },
   {
    "duration": 0,
    "start_time": "2022-04-07T14:32:40.855Z"
   },
   {
    "duration": 0,
    "start_time": "2022-04-07T14:32:40.856Z"
   },
   {
    "duration": 0,
    "start_time": "2022-04-07T14:32:40.857Z"
   },
   {
    "duration": 0,
    "start_time": "2022-04-07T14:32:40.858Z"
   },
   {
    "duration": 0,
    "start_time": "2022-04-07T14:32:40.859Z"
   },
   {
    "duration": 0,
    "start_time": "2022-04-07T14:32:40.860Z"
   },
   {
    "duration": 0,
    "start_time": "2022-04-07T14:32:40.861Z"
   },
   {
    "duration": 0,
    "start_time": "2022-04-07T14:32:40.862Z"
   },
   {
    "duration": 0,
    "start_time": "2022-04-07T14:32:40.864Z"
   },
   {
    "duration": 0,
    "start_time": "2022-04-07T14:32:40.865Z"
   },
   {
    "duration": 0,
    "start_time": "2022-04-07T14:32:40.866Z"
   },
   {
    "duration": 0,
    "start_time": "2022-04-07T14:32:40.867Z"
   },
   {
    "duration": 0,
    "start_time": "2022-04-07T14:32:40.868Z"
   },
   {
    "duration": 0,
    "start_time": "2022-04-07T14:32:40.869Z"
   },
   {
    "duration": 0,
    "start_time": "2022-04-07T14:32:40.870Z"
   },
   {
    "duration": 0,
    "start_time": "2022-04-07T14:32:40.931Z"
   },
   {
    "duration": 0,
    "start_time": "2022-04-07T14:32:40.933Z"
   },
   {
    "duration": 0,
    "start_time": "2022-04-07T14:32:40.934Z"
   },
   {
    "duration": 0,
    "start_time": "2022-04-07T14:32:40.935Z"
   },
   {
    "duration": 7695,
    "start_time": "2022-04-07T14:33:48.957Z"
   },
   {
    "duration": 1245,
    "start_time": "2022-04-07T14:33:56.655Z"
   },
   {
    "duration": 61,
    "start_time": "2022-04-07T14:33:57.903Z"
   },
   {
    "duration": 832,
    "start_time": "2022-04-07T14:33:57.967Z"
   },
   {
    "duration": 5,
    "start_time": "2022-04-07T14:33:58.801Z"
   },
   {
    "duration": 25,
    "start_time": "2022-04-07T14:33:58.807Z"
   },
   {
    "duration": 58,
    "start_time": "2022-04-07T14:33:58.833Z"
   },
   {
    "duration": 12,
    "start_time": "2022-04-07T14:33:58.894Z"
   },
   {
    "duration": 25,
    "start_time": "2022-04-07T14:33:58.909Z"
   },
   {
    "duration": 12,
    "start_time": "2022-04-07T14:33:58.939Z"
   },
   {
    "duration": 13,
    "start_time": "2022-04-07T14:33:58.953Z"
   },
   {
    "duration": 193,
    "start_time": "2022-04-07T14:33:58.968Z"
   },
   {
    "duration": 578,
    "start_time": "2022-04-07T14:33:59.163Z"
   },
   {
    "duration": 22,
    "start_time": "2022-04-07T14:33:59.743Z"
   },
   {
    "duration": 7,
    "start_time": "2022-04-07T14:33:59.767Z"
   },
   {
    "duration": 273,
    "start_time": "2022-04-07T14:33:59.776Z"
   },
   {
    "duration": 67,
    "start_time": "2022-04-07T14:34:00.051Z"
   },
   {
    "duration": 136,
    "start_time": "2022-04-07T14:34:00.132Z"
   },
   {
    "duration": 355,
    "start_time": "2022-04-07T14:34:00.270Z"
   },
   {
    "duration": 53,
    "start_time": "2022-04-07T14:34:00.632Z"
   },
   {
    "duration": 114,
    "start_time": "2022-04-07T14:34:00.687Z"
   },
   {
    "duration": 353,
    "start_time": "2022-04-07T14:34:00.804Z"
   },
   {
    "duration": 18,
    "start_time": "2022-04-07T14:34:01.159Z"
   },
   {
    "duration": 27,
    "start_time": "2022-04-07T14:34:01.179Z"
   },
   {
    "duration": 28,
    "start_time": "2022-04-07T14:34:01.208Z"
   },
   {
    "duration": 40,
    "start_time": "2022-04-07T14:34:01.238Z"
   },
   {
    "duration": 11,
    "start_time": "2022-04-07T14:34:01.280Z"
   },
   {
    "duration": 82,
    "start_time": "2022-04-07T14:34:01.296Z"
   },
   {
    "duration": 168,
    "start_time": "2022-04-07T14:34:01.380Z"
   },
   {
    "duration": 384,
    "start_time": "2022-04-07T14:34:01.550Z"
   },
   {
    "duration": 18,
    "start_time": "2022-04-07T14:34:01.937Z"
   },
   {
    "duration": 181,
    "start_time": "2022-04-07T14:34:01.957Z"
   },
   {
    "duration": 359,
    "start_time": "2022-04-07T14:34:02.141Z"
   },
   {
    "duration": 39,
    "start_time": "2022-04-07T14:34:02.503Z"
   },
   {
    "duration": 22,
    "start_time": "2022-04-07T14:34:02.544Z"
   },
   {
    "duration": 1460,
    "start_time": "2022-04-07T14:34:02.568Z"
   },
   {
    "duration": 1865,
    "start_time": "2022-04-07T14:34:04.031Z"
   },
   {
    "duration": 2419,
    "start_time": "2022-04-07T14:34:05.898Z"
   },
   {
    "duration": 2042,
    "start_time": "2022-04-07T14:34:08.318Z"
   },
   {
    "duration": 388,
    "start_time": "2022-04-07T14:34:10.362Z"
   },
   {
    "duration": 1716,
    "start_time": "2022-04-07T14:34:10.751Z"
   },
   {
    "duration": 2366,
    "start_time": "2022-04-07T14:34:12.469Z"
   },
   {
    "duration": 192,
    "start_time": "2022-04-07T14:34:14.837Z"
   },
   {
    "duration": 493,
    "start_time": "2022-04-07T14:34:15.032Z"
   },
   {
    "duration": 803,
    "start_time": "2022-04-07T14:34:15.531Z"
   },
   {
    "duration": 3,
    "start_time": "2022-04-07T14:34:16.336Z"
   },
   {
    "duration": 206,
    "start_time": "2022-04-07T14:34:16.341Z"
   },
   {
    "duration": 752,
    "start_time": "2022-04-07T14:34:16.549Z"
   },
   {
    "duration": 3,
    "start_time": "2022-04-07T14:34:17.302Z"
   },
   {
    "duration": 192,
    "start_time": "2022-04-07T14:34:17.307Z"
   },
   {
    "duration": 726,
    "start_time": "2022-04-07T14:34:17.501Z"
   },
   {
    "duration": 38,
    "start_time": "2022-04-07T14:34:18.229Z"
   },
   {
    "duration": 69,
    "start_time": "2022-04-07T14:34:18.269Z"
   },
   {
    "duration": 21,
    "start_time": "2022-04-07T14:34:18.340Z"
   },
   {
    "duration": 422,
    "start_time": "2022-04-07T14:34:18.363Z"
   },
   {
    "duration": 27,
    "start_time": "2022-04-07T14:34:18.787Z"
   },
   {
    "duration": 27,
    "start_time": "2022-04-07T14:34:18.816Z"
   },
   {
    "duration": 364,
    "start_time": "2022-04-07T14:34:18.845Z"
   },
   {
    "duration": 279,
    "start_time": "2022-04-07T14:34:19.210Z"
   },
   {
    "duration": 908,
    "start_time": "2022-04-07T14:34:19.491Z"
   },
   {
    "duration": 382,
    "start_time": "2022-04-07T14:34:20.401Z"
   },
   {
    "duration": 1094,
    "start_time": "2022-04-07T14:34:20.785Z"
   },
   {
    "duration": 396,
    "start_time": "2022-04-07T14:34:21.881Z"
   },
   {
    "duration": 1315,
    "start_time": "2022-04-07T14:34:22.279Z"
   },
   {
    "duration": 372,
    "start_time": "2022-04-07T14:34:23.596Z"
   },
   {
    "duration": 999,
    "start_time": "2022-04-07T14:34:23.970Z"
   },
   {
    "duration": 6,
    "start_time": "2022-04-07T14:37:07.643Z"
   },
   {
    "duration": 8311,
    "start_time": "2022-04-07T14:37:33.978Z"
   },
   {
    "duration": 1238,
    "start_time": "2022-04-07T14:37:42.291Z"
   },
   {
    "duration": 57,
    "start_time": "2022-04-07T14:37:43.531Z"
   },
   {
    "duration": 814,
    "start_time": "2022-04-07T14:37:43.590Z"
   },
   {
    "duration": 6,
    "start_time": "2022-04-07T14:37:44.406Z"
   },
   {
    "duration": 21,
    "start_time": "2022-04-07T14:37:44.413Z"
   },
   {
    "duration": 53,
    "start_time": "2022-04-07T14:37:44.436Z"
   },
   {
    "duration": 12,
    "start_time": "2022-04-07T14:37:44.491Z"
   },
   {
    "duration": 30,
    "start_time": "2022-04-07T14:37:44.505Z"
   },
   {
    "duration": 12,
    "start_time": "2022-04-07T14:37:44.537Z"
   },
   {
    "duration": 12,
    "start_time": "2022-04-07T14:37:44.551Z"
   },
   {
    "duration": 186,
    "start_time": "2022-04-07T14:37:44.565Z"
   },
   {
    "duration": 521,
    "start_time": "2022-04-07T14:37:44.753Z"
   },
   {
    "duration": 18,
    "start_time": "2022-04-07T14:37:45.278Z"
   },
   {
    "duration": 7,
    "start_time": "2022-04-07T14:37:45.298Z"
   },
   {
    "duration": 238,
    "start_time": "2022-04-07T14:37:45.307Z"
   },
   {
    "duration": 71,
    "start_time": "2022-04-07T14:37:45.547Z"
   },
   {
    "duration": 131,
    "start_time": "2022-04-07T14:37:45.632Z"
   },
   {
    "duration": 325,
    "start_time": "2022-04-07T14:37:45.765Z"
   },
   {
    "duration": 68,
    "start_time": "2022-04-07T14:37:46.092Z"
   },
   {
    "duration": 111,
    "start_time": "2022-04-07T14:37:46.162Z"
   },
   {
    "duration": 347,
    "start_time": "2022-04-07T14:37:46.275Z"
   },
   {
    "duration": 21,
    "start_time": "2022-04-07T14:37:46.625Z"
   },
   {
    "duration": 20,
    "start_time": "2022-04-07T14:37:46.648Z"
   },
   {
    "duration": 5,
    "start_time": "2022-04-07T14:37:46.669Z"
   },
   {
    "duration": 20,
    "start_time": "2022-04-07T14:37:46.676Z"
   },
   {
    "duration": 36,
    "start_time": "2022-04-07T14:37:46.697Z"
   },
   {
    "duration": 66,
    "start_time": "2022-04-07T14:37:46.735Z"
   },
   {
    "duration": 153,
    "start_time": "2022-04-07T14:37:46.803Z"
   },
   {
    "duration": 389,
    "start_time": "2022-04-07T14:37:46.958Z"
   },
   {
    "duration": 15,
    "start_time": "2022-04-07T14:37:47.348Z"
   },
   {
    "duration": 155,
    "start_time": "2022-04-07T14:37:47.365Z"
   },
   {
    "duration": 14,
    "start_time": "2022-04-07T14:37:47.521Z"
   },
   {
    "duration": 372,
    "start_time": "2022-04-07T14:37:47.537Z"
   },
   {
    "duration": 30,
    "start_time": "2022-04-07T14:37:47.910Z"
   },
   {
    "duration": 16,
    "start_time": "2022-04-07T14:37:47.942Z"
   },
   {
    "duration": 1600,
    "start_time": "2022-04-07T14:37:47.960Z"
   },
   {
    "duration": 1944,
    "start_time": "2022-04-07T14:37:49.562Z"
   },
   {
    "duration": 2441,
    "start_time": "2022-04-07T14:37:51.507Z"
   },
   {
    "duration": 2298,
    "start_time": "2022-04-07T14:37:53.950Z"
   },
   {
    "duration": 391,
    "start_time": "2022-04-07T14:37:56.252Z"
   },
   {
    "duration": 1754,
    "start_time": "2022-04-07T14:37:56.645Z"
   },
   {
    "duration": 2375,
    "start_time": "2022-04-07T14:37:58.401Z"
   },
   {
    "duration": 198,
    "start_time": "2022-04-07T14:38:00.778Z"
   },
   {
    "duration": 483,
    "start_time": "2022-04-07T14:38:00.978Z"
   },
   {
    "duration": 825,
    "start_time": "2022-04-07T14:38:01.463Z"
   },
   {
    "duration": 4,
    "start_time": "2022-04-07T14:38:02.290Z"
   },
   {
    "duration": 213,
    "start_time": "2022-04-07T14:38:02.296Z"
   },
   {
    "duration": 821,
    "start_time": "2022-04-07T14:38:02.511Z"
   },
   {
    "duration": 3,
    "start_time": "2022-04-07T14:38:03.334Z"
   },
   {
    "duration": 203,
    "start_time": "2022-04-07T14:38:03.339Z"
   },
   {
    "duration": 775,
    "start_time": "2022-04-07T14:38:03.544Z"
   },
   {
    "duration": 44,
    "start_time": "2022-04-07T14:38:04.321Z"
   },
   {
    "duration": 71,
    "start_time": "2022-04-07T14:38:04.367Z"
   },
   {
    "duration": 29,
    "start_time": "2022-04-07T14:38:04.440Z"
   },
   {
    "duration": 423,
    "start_time": "2022-04-07T14:38:04.471Z"
   },
   {
    "duration": 40,
    "start_time": "2022-04-07T14:38:04.897Z"
   },
   {
    "duration": 18,
    "start_time": "2022-04-07T14:38:04.939Z"
   },
   {
    "duration": 443,
    "start_time": "2022-04-07T14:38:04.959Z"
   },
   {
    "duration": 293,
    "start_time": "2022-04-07T14:38:05.404Z"
   },
   {
    "duration": 903,
    "start_time": "2022-04-07T14:38:05.699Z"
   },
   {
    "duration": 380,
    "start_time": "2022-04-07T14:38:06.604Z"
   },
   {
    "duration": 1144,
    "start_time": "2022-04-07T14:38:06.986Z"
   },
   {
    "duration": 417,
    "start_time": "2022-04-07T14:38:08.132Z"
   },
   {
    "duration": 1370,
    "start_time": "2022-04-07T14:38:08.551Z"
   },
   {
    "duration": 378,
    "start_time": "2022-04-07T14:38:09.933Z"
   },
   {
    "duration": 980,
    "start_time": "2022-04-07T14:38:10.313Z"
   },
   {
    "duration": 19,
    "start_time": "2022-04-07T15:23:18.487Z"
   },
   {
    "duration": 22,
    "start_time": "2022-04-07T15:27:51.195Z"
   },
   {
    "duration": 13,
    "start_time": "2022-04-07T15:28:03.631Z"
   },
   {
    "duration": 22,
    "start_time": "2022-04-07T15:28:07.509Z"
   },
   {
    "duration": 23,
    "start_time": "2022-04-07T15:28:17.418Z"
   }
  ],
  "kernelspec": {
   "display_name": "Python 3 (ipykernel)",
   "language": "python",
   "name": "python3"
  },
  "language_info": {
   "codemirror_mode": {
    "name": "ipython",
    "version": 3
   },
   "file_extension": ".py",
   "mimetype": "text/x-python",
   "name": "python",
   "nbconvert_exporter": "python",
   "pygments_lexer": "ipython3",
   "version": "3.8.10"
  },
  "toc": {
   "base_numbering": 1,
   "nav_menu": {},
   "number_sections": true,
   "sideBar": true,
   "skip_h1_title": true,
   "title_cell": "Table of Contents",
   "title_sidebar": "Contents",
   "toc_cell": false,
   "toc_position": {
    "height": "calc(100% - 180px)",
    "left": "10px",
    "top": "150px",
    "width": "165px"
   },
   "toc_section_display": true,
   "toc_window_display": true
  },
  "toc-showtags": false
 },
 "nbformat": 4,
 "nbformat_minor": 5
}

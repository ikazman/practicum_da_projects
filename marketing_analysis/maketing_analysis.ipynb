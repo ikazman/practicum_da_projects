{
 "cells": [
  {
   "cell_type": "code",
   "execution_count": 1,
   "id": "5f3b425d-22f9-4db3-9e63-d1a72f2ac052",
   "metadata": {},
   "outputs": [],
   "source": [
    "import pandas as pd"
   ]
  },
  {
   "cell_type": "code",
   "execution_count": 13,
   "id": "622507f2-0b40-4316-a51c-25d8f09ae46b",
   "metadata": {},
   "outputs": [],
   "source": [
    "df = pd.read_csv('datasets/visits_info_short.csv')"
   ]
  },
  {
   "cell_type": "code",
   "execution_count": null,
   "id": "7b6c1edc-d1c1-47bd-9f36-c16c6582caa4",
   "metadata": {},
   "outputs": [],
   "source": [
    "df.h"
   ]
  }
 ],
 "metadata": {
  "kernelspec": {
   "display_name": "venv",
   "language": "python",
   "name": "venv"
  },
  "language_info": {
   "codemirror_mode": {
    "name": "ipython",
    "version": 3
   },
   "file_extension": ".py",
   "mimetype": "text/x-python",
   "name": "python",
   "nbconvert_exporter": "python",
   "pygments_lexer": "ipython3",
   "version": "3.7.9"
  }
 },
 "nbformat": 4,
 "nbformat_minor": 5
}

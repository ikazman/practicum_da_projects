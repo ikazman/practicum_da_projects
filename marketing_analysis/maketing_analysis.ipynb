{
 "cells": [
  {
   "cell_type": "markdown",
   "id": "b8dec386-76ca-4fe4-a9d9-db1ac858bdf6",
   "metadata": {},
   "source": [
    "# Маркетинговый анализ\n",
    "***"
   ]
  },
  {
   "cell_type": "markdown",
   "id": "9a7c28e4-f99d-45fa-afab-0fdb6501f0e8",
   "metadata": {},
   "source": [
    "# Описание проекта"
   ]
  },
  {
   "cell_type": "markdown",
   "id": "7f811e66-9344-43e1-a353-236eb99e15de",
   "metadata": {},
   "source": [
    "Вы — маркетинговый аналитик развлекательного приложения Procrastinate Pro+. Несмотря на огромные вложения в рекламу, последние несколько месяцев компания терпит убытки. Ваша задача — разобраться в причинах и помочь компании выйти в плюс.\n",
    "Есть данные о пользователях, привлечённых с 1 мая по 27 октября 2019 года:\n",
    "\n",
    "- лог сервера с данными об их посещениях,\n",
    "- выгрузка их покупок за этот период,\n",
    "- рекламные расходы.\n",
    "\n",
    "Вам предстоит изучить:\n",
    "\n",
    "- откуда приходят пользователи и какими устройствами они пользуются,\n",
    "- сколько стоит привлечение пользователей из различных рекламных каналов;\n",
    "- сколько денег приносит каждый клиент,\n",
    "- когда расходы на привлечение клиента окупаются,\n",
    "- какие факторы мешают привлечению клиентов."
   ]
  },
  {
   "cell_type": "markdown",
   "id": "76060a7b-cf9c-4e24-930b-bb753c146a54",
   "metadata": {
    "tags": []
   },
   "source": [
    "## Оглавление<a class=\"anchor\" id=\"TOC\"></a>\n",
    "***"
   ]
  },
  {
   "cell_type": "markdown",
   "id": "7714e342-fa3b-42d9-afac-3d5c0c42c0fa",
   "metadata": {},
   "source": [
    "* **[I. Загрузка и подготовка данных](#1)**\n",
    "    - [1) Импортируем библиотеки, объявим класс MetricCalculator для анализа](#1_1)\n",
    "    - [2) Прочитаем данные](#1_2)\n",
    "    - [3) Выведем первые и последние пять строк каждой из таблиц, общую информацию](#1_3)\n",
    "    - [Вывод](#1_conclusion)\n",
    "* **[II. Исследовательский анализ данных](#2)**\n",
    "    - [Вывод](#2_conclusion)\n",
    "* **[III. Маркетинговый анализ](#3)**\n",
    "    - [1) Выделим ключевые значения для расчетов](#3_1)\n",
    "    - [2) Подсчитаем минимальный средний объём сырья в месторождениях региона, достаточный для его разработки](#3_2)\n",
    "    - [3) Подготовим функцию для расчёта прибыли по набору отобранных месторождений и предсказаний модели](#3_3)\n",
    "    - [Вывод](#3_conclusion)\n",
    "* **[IV. Расчёт прибыли и рисков](#4)**\n",
    "    - [1) Найдем распределение прибыли с помощью Bootstrap](#4_1)\n",
    "    - [2) Подсчитаем среднюю прибыль, 95-% доверительный интервал и риск убытков](#4_2)\n",
    "    - [Вывод](#4_conclusion)"
   ]
  },
  {
   "cell_type": "markdown",
   "id": "4739ab2e-0817-4d8a-ae39-ed6e0df2d4b7",
   "metadata": {},
   "source": [
    "# I. Загрузка и подготовка данных<a class='anchor' id='1'>\n",
    "***"
   ]
  },
  {
   "cell_type": "markdown",
   "id": "d1f55d36-da3c-49fe-b115-447acfe475ae",
   "metadata": {},
   "source": [
    "## 1) Импортируем библиотеки, объявим класс MetricCalculator для анализа<a class=\"anchor\" id=\"1_1\"></a>"
   ]
  },
  {
   "cell_type": "code",
   "execution_count": 1,
   "id": "56611c54-8cdb-4bf1-a2c4-7cb01fd299b3",
   "metadata": {},
   "outputs": [],
   "source": [
    "# тут импорты\n",
    "import warnings\n",
    "warnings.filterwarnings('ignore')\n",
    "import pandas as pd\n",
    "from calculator.calculator import MetricCalculator\n",
    "from IPython.display import display"
   ]
  },
  {
   "cell_type": "code",
   "execution_count": 2,
   "id": "35c0fd0c-6f08-46fa-a986-42f0d375f1f7",
   "metadata": {},
   "outputs": [],
   "source": [
    "# тут класс"
   ]
  },
  {
   "cell_type": "code",
   "execution_count": 3,
   "id": "1cd4d367-fa5b-4aa6-9b30-22aa2ae7c628",
   "metadata": {},
   "outputs": [],
   "source": [
    "# тут полезное\n",
    "pd.set_option('display.float_format', lambda x: '%.2f' % x)"
   ]
  },
  {
   "cell_type": "markdown",
   "id": "e4d0d609-2f14-40f2-ac36-dfabd02e38d9",
   "metadata": {},
   "source": [
    "[В оглавление](#TOC)"
   ]
  },
  {
   "cell_type": "markdown",
   "id": "6207ec28-bc70-4b59-9d18-1f606a6e6a7c",
   "metadata": {},
   "source": [
    "## 2) Прочитаем данные<a class=\"anchor\" id=\"1_2\"></a>"
   ]
  },
  {
   "cell_type": "markdown",
   "id": "45d8428d-740d-4937-8e45-2e93d70f9511",
   "metadata": {},
   "source": [
    "### - описание данных"
   ]
  },
  {
   "cell_type": "markdown",
   "id": "ddb97df8-e510-40f2-ac2d-0d74bef264cc",
   "metadata": {},
   "source": [
    "Файл visits_info_short.csv хранит лог сервера с информацией о посещениях сайта, orders_info_short.csv — информацию о покупках, а costs_info_short.csv — информацию о расходах на рекламу.\n",
    "\n",
    "\n",
    "Структура visits_info_short.csv|Описание|Структура orders_info_short.csv|Описание|Структура costs_info_short.csv|Описание\n",
    ":-----|:-----|:-----|:-----|:-----|:-----  \n",
    "User Id|уникальный идентификатор пользователя|User Id|уникальный идентификатор пользователя|Channel|идентификатор рекламного источника\n",
    "Region|страна пользователя|Event Dt|дата и время покупки|Dt|дата проведения рекламной кампании\n",
    "Device|тип устройства пользователя|Revenue|сумма заказа|Costs|расходы на эту кампанию\n",
    "Channel|идентификатор источника перехода| | | | \n",
    "Session Start|дата и время начала сессии| | | | \n",
    "Session End|дата и время окончания сессии| | | | "
   ]
  },
  {
   "cell_type": "markdown",
   "id": "f64e7c54-7b2f-4411-a031-11eb6da854ac",
   "metadata": {},
   "source": [
    "### - создадим экземпляр класса с путями до данных, приведем наименование колонок к едином формату, установим нужный тип данных"
   ]
  },
  {
   "cell_type": "code",
   "execution_count": 4,
   "id": "121710bc-d2aa-49aa-a659-c11984d3f4d1",
   "metadata": {},
   "outputs": [],
   "source": [
    "calc = MetricCalculator('datasets/visits_info_short.csv', 'datasets/orders_info_short.csv', 'datasets/costs_info_short.csv')"
   ]
  },
  {
   "cell_type": "code",
   "execution_count": 5,
   "id": "b9d1f2da-ca2b-47ba-9733-e7662465fba7",
   "metadata": {},
   "outputs": [],
   "source": [
    "calc.columns_fixer()"
   ]
  },
  {
   "cell_type": "markdown",
   "id": "771b2d07-6741-4919-8b94-d56e245ba566",
   "metadata": {},
   "source": [
    "Cоздан экземпляр класса:\n",
    "- данные прочитаны, \n",
    "- наименование колонок приведено к единому формату,\n",
    "- колонки с датами приведены к соответствующему формату.\n",
    "\n",
    "Датасеты доступны через экземпляр класса по именам **visits, orders, costs**."
   ]
  },
  {
   "cell_type": "markdown",
   "id": "7581a982-983d-47c4-bf91-20bbb810c220",
   "metadata": {},
   "source": [
    "## 3) Выведем первые пять первых и последних строк каждой из таблиц, общую информацию<a class=\"anchor\" id=\"1_3\"></a>"
   ]
  },
  {
   "cell_type": "markdown",
   "id": "82c71cff-1de5-4ade-b194-7bff33c58a9b",
   "metadata": {
    "tags": []
   },
   "source": [
    "### - visits - посещение сайта"
   ]
  },
  {
   "cell_type": "code",
   "execution_count": 6,
   "id": "a039f8ff-bb21-4189-a804-e0ca4224a41c",
   "metadata": {},
   "outputs": [
    {
     "data": {
      "text/html": [
       "<div>\n",
       "<style scoped>\n",
       "    .dataframe tbody tr th:only-of-type {\n",
       "        vertical-align: middle;\n",
       "    }\n",
       "\n",
       "    .dataframe tbody tr th {\n",
       "        vertical-align: top;\n",
       "    }\n",
       "\n",
       "    .dataframe thead th {\n",
       "        text-align: right;\n",
       "    }\n",
       "</style>\n",
       "<table border=\"1\" class=\"dataframe\">\n",
       "  <thead>\n",
       "    <tr style=\"text-align: right;\">\n",
       "      <th></th>\n",
       "      <th>user_id</th>\n",
       "      <th>region</th>\n",
       "      <th>device</th>\n",
       "      <th>channel</th>\n",
       "      <th>session_start</th>\n",
       "      <th>session_end</th>\n",
       "    </tr>\n",
       "  </thead>\n",
       "  <tbody>\n",
       "    <tr>\n",
       "      <th>0</th>\n",
       "      <td>981449118918</td>\n",
       "      <td>United States</td>\n",
       "      <td>iPhone</td>\n",
       "      <td>organic</td>\n",
       "      <td>2019-05-01 02:36:01</td>\n",
       "      <td>2019-05-01 02:45:01</td>\n",
       "    </tr>\n",
       "    <tr>\n",
       "      <th>1</th>\n",
       "      <td>278965908054</td>\n",
       "      <td>United States</td>\n",
       "      <td>iPhone</td>\n",
       "      <td>organic</td>\n",
       "      <td>2019-05-01 04:46:31</td>\n",
       "      <td>2019-05-01 04:47:35</td>\n",
       "    </tr>\n",
       "    <tr>\n",
       "      <th>2</th>\n",
       "      <td>590706206550</td>\n",
       "      <td>United States</td>\n",
       "      <td>Mac</td>\n",
       "      <td>organic</td>\n",
       "      <td>2019-05-01 14:09:25</td>\n",
       "      <td>2019-05-01 15:32:08</td>\n",
       "    </tr>\n",
       "    <tr>\n",
       "      <th>3</th>\n",
       "      <td>326433527971</td>\n",
       "      <td>United States</td>\n",
       "      <td>Android</td>\n",
       "      <td>TipTop</td>\n",
       "      <td>2019-05-01 00:29:59</td>\n",
       "      <td>2019-05-01 00:54:25</td>\n",
       "    </tr>\n",
       "    <tr>\n",
       "      <th>4</th>\n",
       "      <td>349773784594</td>\n",
       "      <td>United States</td>\n",
       "      <td>Mac</td>\n",
       "      <td>organic</td>\n",
       "      <td>2019-05-01 03:33:35</td>\n",
       "      <td>2019-05-01 03:57:40</td>\n",
       "    </tr>\n",
       "    <tr>\n",
       "      <th>...</th>\n",
       "      <td>...</td>\n",
       "      <td>...</td>\n",
       "      <td>...</td>\n",
       "      <td>...</td>\n",
       "      <td>...</td>\n",
       "      <td>...</td>\n",
       "    </tr>\n",
       "    <tr>\n",
       "      <th>309896</th>\n",
       "      <td>329994900775</td>\n",
       "      <td>UK</td>\n",
       "      <td>PC</td>\n",
       "      <td>LeapBob</td>\n",
       "      <td>2019-10-31 13:28:12</td>\n",
       "      <td>2019-10-31 14:39:29</td>\n",
       "    </tr>\n",
       "    <tr>\n",
       "      <th>309897</th>\n",
       "      <td>334903592310</td>\n",
       "      <td>France</td>\n",
       "      <td>PC</td>\n",
       "      <td>lambdaMediaAds</td>\n",
       "      <td>2019-10-31 22:14:52</td>\n",
       "      <td>2019-10-31 22:39:36</td>\n",
       "    </tr>\n",
       "    <tr>\n",
       "      <th>309898</th>\n",
       "      <td>540102010126</td>\n",
       "      <td>Germany</td>\n",
       "      <td>PC</td>\n",
       "      <td>organic</td>\n",
       "      <td>2019-10-31 01:40:48</td>\n",
       "      <td>2019-10-31 01:41:31</td>\n",
       "    </tr>\n",
       "    <tr>\n",
       "      <th>309899</th>\n",
       "      <td>308736936846</td>\n",
       "      <td>Germany</td>\n",
       "      <td>Mac</td>\n",
       "      <td>organic</td>\n",
       "      <td>2019-10-31 07:37:34</td>\n",
       "      <td>2019-10-31 07:37:55</td>\n",
       "    </tr>\n",
       "    <tr>\n",
       "      <th>309900</th>\n",
       "      <td>109329042535</td>\n",
       "      <td>Germany</td>\n",
       "      <td>PC</td>\n",
       "      <td>lambdaMediaAds</td>\n",
       "      <td>2019-10-31 14:17:43</td>\n",
       "      <td>2019-10-31 15:17:04</td>\n",
       "    </tr>\n",
       "  </tbody>\n",
       "</table>\n",
       "<p>309901 rows × 6 columns</p>\n",
       "</div>"
      ],
      "text/plain": [
       "             user_id         region   device         channel  \\\n",
       "0       981449118918  United States   iPhone         organic   \n",
       "1       278965908054  United States   iPhone         organic   \n",
       "2       590706206550  United States      Mac         organic   \n",
       "3       326433527971  United States  Android          TipTop   \n",
       "4       349773784594  United States      Mac         organic   \n",
       "...              ...            ...      ...             ...   \n",
       "309896  329994900775             UK       PC         LeapBob   \n",
       "309897  334903592310         France       PC  lambdaMediaAds   \n",
       "309898  540102010126        Germany       PC         organic   \n",
       "309899  308736936846        Germany      Mac         organic   \n",
       "309900  109329042535        Germany       PC  lambdaMediaAds   \n",
       "\n",
       "             session_start         session_end  \n",
       "0      2019-05-01 02:36:01 2019-05-01 02:45:01  \n",
       "1      2019-05-01 04:46:31 2019-05-01 04:47:35  \n",
       "2      2019-05-01 14:09:25 2019-05-01 15:32:08  \n",
       "3      2019-05-01 00:29:59 2019-05-01 00:54:25  \n",
       "4      2019-05-01 03:33:35 2019-05-01 03:57:40  \n",
       "...                    ...                 ...  \n",
       "309896 2019-10-31 13:28:12 2019-10-31 14:39:29  \n",
       "309897 2019-10-31 22:14:52 2019-10-31 22:39:36  \n",
       "309898 2019-10-31 01:40:48 2019-10-31 01:41:31  \n",
       "309899 2019-10-31 07:37:34 2019-10-31 07:37:55  \n",
       "309900 2019-10-31 14:17:43 2019-10-31 15:17:04  \n",
       "\n",
       "[309901 rows x 6 columns]"
      ]
     },
     "execution_count": 6,
     "metadata": {},
     "output_type": "execute_result"
    }
   ],
   "source": [
    "calc.visits"
   ]
  },
  {
   "cell_type": "code",
   "execution_count": 7,
   "id": "6e8c0a9b-40ea-4910-9328-e06cf31532a4",
   "metadata": {},
   "outputs": [
    {
     "name": "stdout",
     "output_type": "stream",
     "text": [
      "<class 'pandas.core.frame.DataFrame'>\n",
      "RangeIndex: 309901 entries, 0 to 309900\n",
      "Data columns (total 6 columns):\n",
      " #   Column         Non-Null Count   Dtype         \n",
      "---  ------         --------------   -----         \n",
      " 0   user_id        309901 non-null  int64         \n",
      " 1   region         309901 non-null  object        \n",
      " 2   device         309901 non-null  object        \n",
      " 3   channel        309901 non-null  object        \n",
      " 4   session_start  309901 non-null  datetime64[ns]\n",
      " 5   session_end    309901 non-null  datetime64[ns]\n",
      "dtypes: datetime64[ns](2), int64(1), object(3)\n",
      "memory usage: 14.2+ MB\n"
     ]
    }
   ],
   "source": [
    "calc.visits.info()"
   ]
  },
  {
   "cell_type": "markdown",
   "id": "bb72011b-ffe0-43dd-bbc8-e3f9a801edc9",
   "metadata": {},
   "source": [
    "&#9889; **Вывод:** в датасете с информацией о посещениях сайта 309 901 строка, без пропусков, без проблем с типами данных."
   ]
  },
  {
   "cell_type": "markdown",
   "id": "569b3243-03a0-4fc3-bb57-317f04ce1c62",
   "metadata": {},
   "source": [
    "### - orders - информация о покупках"
   ]
  },
  {
   "cell_type": "code",
   "execution_count": 8,
   "id": "f8c8de6d-97e9-4ddd-9c6a-7ab7f89b3b0e",
   "metadata": {},
   "outputs": [
    {
     "data": {
      "text/html": [
       "<div>\n",
       "<style scoped>\n",
       "    .dataframe tbody tr th:only-of-type {\n",
       "        vertical-align: middle;\n",
       "    }\n",
       "\n",
       "    .dataframe tbody tr th {\n",
       "        vertical-align: top;\n",
       "    }\n",
       "\n",
       "    .dataframe thead th {\n",
       "        text-align: right;\n",
       "    }\n",
       "</style>\n",
       "<table border=\"1\" class=\"dataframe\">\n",
       "  <thead>\n",
       "    <tr style=\"text-align: right;\">\n",
       "      <th></th>\n",
       "      <th>user_id</th>\n",
       "      <th>event_dt</th>\n",
       "      <th>revenue</th>\n",
       "    </tr>\n",
       "  </thead>\n",
       "  <tbody>\n",
       "    <tr>\n",
       "      <th>0</th>\n",
       "      <td>188246423999</td>\n",
       "      <td>2019-05-01 23:09:52</td>\n",
       "      <td>4.99</td>\n",
       "    </tr>\n",
       "    <tr>\n",
       "      <th>1</th>\n",
       "      <td>174361394180</td>\n",
       "      <td>2019-05-01 12:24:04</td>\n",
       "      <td>4.99</td>\n",
       "    </tr>\n",
       "    <tr>\n",
       "      <th>2</th>\n",
       "      <td>529610067795</td>\n",
       "      <td>2019-05-01 11:34:04</td>\n",
       "      <td>4.99</td>\n",
       "    </tr>\n",
       "    <tr>\n",
       "      <th>3</th>\n",
       "      <td>319939546352</td>\n",
       "      <td>2019-05-01 15:34:40</td>\n",
       "      <td>4.99</td>\n",
       "    </tr>\n",
       "    <tr>\n",
       "      <th>4</th>\n",
       "      <td>366000285810</td>\n",
       "      <td>2019-05-01 13:59:51</td>\n",
       "      <td>4.99</td>\n",
       "    </tr>\n",
       "    <tr>\n",
       "      <th>...</th>\n",
       "      <td>...</td>\n",
       "      <td>...</td>\n",
       "      <td>...</td>\n",
       "    </tr>\n",
       "    <tr>\n",
       "      <th>40207</th>\n",
       "      <td>651604369137</td>\n",
       "      <td>2019-10-31 16:19:07</td>\n",
       "      <td>4.99</td>\n",
       "    </tr>\n",
       "    <tr>\n",
       "      <th>40208</th>\n",
       "      <td>275341387049</td>\n",
       "      <td>2019-10-31 01:17:17</td>\n",
       "      <td>4.99</td>\n",
       "    </tr>\n",
       "    <tr>\n",
       "      <th>40209</th>\n",
       "      <td>374656616484</td>\n",
       "      <td>2019-10-31 06:17:29</td>\n",
       "      <td>4.99</td>\n",
       "    </tr>\n",
       "    <tr>\n",
       "      <th>40210</th>\n",
       "      <td>168548862926</td>\n",
       "      <td>2019-10-31 22:46:19</td>\n",
       "      <td>4.99</td>\n",
       "    </tr>\n",
       "    <tr>\n",
       "      <th>40211</th>\n",
       "      <td>329994900775</td>\n",
       "      <td>2019-10-31 13:29:06</td>\n",
       "      <td>4.99</td>\n",
       "    </tr>\n",
       "  </tbody>\n",
       "</table>\n",
       "<p>40212 rows × 3 columns</p>\n",
       "</div>"
      ],
      "text/plain": [
       "            user_id            event_dt  revenue\n",
       "0      188246423999 2019-05-01 23:09:52     4.99\n",
       "1      174361394180 2019-05-01 12:24:04     4.99\n",
       "2      529610067795 2019-05-01 11:34:04     4.99\n",
       "3      319939546352 2019-05-01 15:34:40     4.99\n",
       "4      366000285810 2019-05-01 13:59:51     4.99\n",
       "...             ...                 ...      ...\n",
       "40207  651604369137 2019-10-31 16:19:07     4.99\n",
       "40208  275341387049 2019-10-31 01:17:17     4.99\n",
       "40209  374656616484 2019-10-31 06:17:29     4.99\n",
       "40210  168548862926 2019-10-31 22:46:19     4.99\n",
       "40211  329994900775 2019-10-31 13:29:06     4.99\n",
       "\n",
       "[40212 rows x 3 columns]"
      ]
     },
     "execution_count": 8,
     "metadata": {},
     "output_type": "execute_result"
    }
   ],
   "source": [
    "calc.orders"
   ]
  },
  {
   "cell_type": "code",
   "execution_count": 9,
   "id": "7bed3cb3-87bc-47c5-8d24-3986d0a69822",
   "metadata": {},
   "outputs": [
    {
     "name": "stdout",
     "output_type": "stream",
     "text": [
      "<class 'pandas.core.frame.DataFrame'>\n",
      "RangeIndex: 40212 entries, 0 to 40211\n",
      "Data columns (total 3 columns):\n",
      " #   Column    Non-Null Count  Dtype         \n",
      "---  ------    --------------  -----         \n",
      " 0   user_id   40212 non-null  int64         \n",
      " 1   event_dt  40212 non-null  datetime64[ns]\n",
      " 2   revenue   40212 non-null  float64       \n",
      "dtypes: datetime64[ns](1), float64(1), int64(1)\n",
      "memory usage: 942.6 KB\n"
     ]
    }
   ],
   "source": [
    "calc.orders.info()"
   ]
  },
  {
   "cell_type": "markdown",
   "id": "aa51e396-5011-4b58-9ce4-a7f22fb31a5d",
   "metadata": {},
   "source": [
    "&#9889; **Вывод:** в датасете с информацией о покупках 40 212 строк (13% от числа визитов), без пропусков, без проблем с типами данных."
   ]
  },
  {
   "cell_type": "markdown",
   "id": "96910e69-515b-41e2-bff8-51aa3340fbba",
   "metadata": {},
   "source": [
    "### - costs - информация о расходах"
   ]
  },
  {
   "cell_type": "code",
   "execution_count": 10,
   "id": "a899540a-7361-49f8-a65f-c7e1a6ea8ceb",
   "metadata": {},
   "outputs": [
    {
     "data": {
      "text/html": [
       "<div>\n",
       "<style scoped>\n",
       "    .dataframe tbody tr th:only-of-type {\n",
       "        vertical-align: middle;\n",
       "    }\n",
       "\n",
       "    .dataframe tbody tr th {\n",
       "        vertical-align: top;\n",
       "    }\n",
       "\n",
       "    .dataframe thead th {\n",
       "        text-align: right;\n",
       "    }\n",
       "</style>\n",
       "<table border=\"1\" class=\"dataframe\">\n",
       "  <thead>\n",
       "    <tr style=\"text-align: right;\">\n",
       "      <th></th>\n",
       "      <th>dt</th>\n",
       "      <th>channel</th>\n",
       "      <th>costs</th>\n",
       "    </tr>\n",
       "  </thead>\n",
       "  <tbody>\n",
       "    <tr>\n",
       "      <th>0</th>\n",
       "      <td>2019-05-01</td>\n",
       "      <td>FaceBoom</td>\n",
       "      <td>113.30</td>\n",
       "    </tr>\n",
       "    <tr>\n",
       "      <th>1</th>\n",
       "      <td>2019-05-02</td>\n",
       "      <td>FaceBoom</td>\n",
       "      <td>78.10</td>\n",
       "    </tr>\n",
       "    <tr>\n",
       "      <th>2</th>\n",
       "      <td>2019-05-03</td>\n",
       "      <td>FaceBoom</td>\n",
       "      <td>85.80</td>\n",
       "    </tr>\n",
       "    <tr>\n",
       "      <th>3</th>\n",
       "      <td>2019-05-04</td>\n",
       "      <td>FaceBoom</td>\n",
       "      <td>136.40</td>\n",
       "    </tr>\n",
       "    <tr>\n",
       "      <th>4</th>\n",
       "      <td>2019-05-05</td>\n",
       "      <td>FaceBoom</td>\n",
       "      <td>122.10</td>\n",
       "    </tr>\n",
       "    <tr>\n",
       "      <th>...</th>\n",
       "      <td>...</td>\n",
       "      <td>...</td>\n",
       "      <td>...</td>\n",
       "    </tr>\n",
       "    <tr>\n",
       "      <th>1795</th>\n",
       "      <td>2019-10-23</td>\n",
       "      <td>lambdaMediaAds</td>\n",
       "      <td>4.00</td>\n",
       "    </tr>\n",
       "    <tr>\n",
       "      <th>1796</th>\n",
       "      <td>2019-10-24</td>\n",
       "      <td>lambdaMediaAds</td>\n",
       "      <td>6.40</td>\n",
       "    </tr>\n",
       "    <tr>\n",
       "      <th>1797</th>\n",
       "      <td>2019-10-25</td>\n",
       "      <td>lambdaMediaAds</td>\n",
       "      <td>8.80</td>\n",
       "    </tr>\n",
       "    <tr>\n",
       "      <th>1798</th>\n",
       "      <td>2019-10-26</td>\n",
       "      <td>lambdaMediaAds</td>\n",
       "      <td>8.80</td>\n",
       "    </tr>\n",
       "    <tr>\n",
       "      <th>1799</th>\n",
       "      <td>2019-10-27</td>\n",
       "      <td>lambdaMediaAds</td>\n",
       "      <td>12.00</td>\n",
       "    </tr>\n",
       "  </tbody>\n",
       "</table>\n",
       "<p>1800 rows × 3 columns</p>\n",
       "</div>"
      ],
      "text/plain": [
       "              dt         channel  costs\n",
       "0     2019-05-01        FaceBoom 113.30\n",
       "1     2019-05-02        FaceBoom  78.10\n",
       "2     2019-05-03        FaceBoom  85.80\n",
       "3     2019-05-04        FaceBoom 136.40\n",
       "4     2019-05-05        FaceBoom 122.10\n",
       "...          ...             ...    ...\n",
       "1795  2019-10-23  lambdaMediaAds   4.00\n",
       "1796  2019-10-24  lambdaMediaAds   6.40\n",
       "1797  2019-10-25  lambdaMediaAds   8.80\n",
       "1798  2019-10-26  lambdaMediaAds   8.80\n",
       "1799  2019-10-27  lambdaMediaAds  12.00\n",
       "\n",
       "[1800 rows x 3 columns]"
      ]
     },
     "execution_count": 10,
     "metadata": {},
     "output_type": "execute_result"
    }
   ],
   "source": [
    "calc.costs"
   ]
  },
  {
   "cell_type": "code",
   "execution_count": 11,
   "id": "17800307-4794-492c-941c-81264298aaa0",
   "metadata": {},
   "outputs": [
    {
     "name": "stdout",
     "output_type": "stream",
     "text": [
      "<class 'pandas.core.frame.DataFrame'>\n",
      "RangeIndex: 1800 entries, 0 to 1799\n",
      "Data columns (total 3 columns):\n",
      " #   Column   Non-Null Count  Dtype  \n",
      "---  ------   --------------  -----  \n",
      " 0   dt       1800 non-null   object \n",
      " 1   channel  1800 non-null   object \n",
      " 2   costs    1800 non-null   float64\n",
      "dtypes: float64(1), object(2)\n",
      "memory usage: 42.3+ KB\n"
     ]
    }
   ],
   "source": [
    "calc.costs.info()"
   ]
  },
  {
   "cell_type": "markdown",
   "id": "e675278d-5904-4aed-9c97-e4766e0ab6db",
   "metadata": {},
   "source": [
    "&#9889; **Вывод:** в датасете с информацией расходах 1800, без пропусков, без проблем с типами данных."
   ]
  },
  {
   "cell_type": "markdown",
   "id": "955d1e6f-7d8b-4525-a398-100a55b278b1",
   "metadata": {},
   "source": [
    "### - проверим наличие полных дубликатов"
   ]
  },
  {
   "cell_type": "code",
   "execution_count": 12,
   "id": "f80d6ebb-49ed-48b5-8097-74b5a7c39cad",
   "metadata": {},
   "outputs": [
    {
     "name": "stdout",
     "output_type": "stream",
     "text": [
      "0\n"
     ]
    }
   ],
   "source": [
    "datasets = [calc.visits, calc.orders, calc.costs]\n",
    "duplicated_sum = 0\n",
    "for dataset in datasets:\n",
    "    duplicated_sum += (dataset.duplicated() == True).sum()\n",
    "print(duplicated_sum)"
   ]
  },
  {
   "cell_type": "markdown",
   "id": "631efc02-8d86-436d-9db5-b5ff52afc06d",
   "metadata": {},
   "source": [
    "Полных дубликатов нет"
   ]
  },
  {
   "cell_type": "markdown",
   "id": "0adaa1b3-c8fe-4412-8041-4d4abcb03764",
   "metadata": {
    "tags": []
   },
   "source": [
    "## Вывод<a class=\"anchor\" id=\"1_conclusion\"></a>"
   ]
  },
  {
   "cell_type": "markdown",
   "id": "5a55f053-bfa2-4b1a-ac90-cd94ba336ad9",
   "metadata": {},
   "source": [
    "1. Прочитали данные с помощью специального класса, наименование колонок приведено к единому формату, колонки с датами приведены к соответствующему формату. Датасеты доступны через экземпляр класса по именам visits, orders, costs.\n",
    "2. Во всех датасетах нет проблем с типами данных, полные дубликаты отсутствуют, нет пропусков."
   ]
  },
  {
   "cell_type": "markdown",
   "id": "cdae8ca6-f316-4508-8f0c-c5a855d34e5d",
   "metadata": {},
   "source": [
    "[В оглавление](#TOC)"
   ]
  },
  {
   "cell_type": "markdown",
   "id": "6571f1d7-8573-470b-9c62-10e3e73b8a5d",
   "metadata": {
    "tags": []
   },
   "source": [
    "# II. Исследовательский анализ данных<a class='anchor' id='2'>\n",
    "***"
   ]
  },
  {
   "cell_type": "markdown",
   "id": "97c1445b-184e-454c-8e7a-d3a8fc8a215c",
   "metadata": {},
   "source": [
    "**В отношении user_id считать статистику неинформативно - поэтому исключим данный столбец**"
   ]
  },
  {
   "cell_type": "markdown",
   "id": "5fad00b7-5618-4f6e-afd8-d898fadd6488",
   "metadata": {
    "tags": []
   },
   "source": [
    "### - visits - посещение сайта"
   ]
  },
  {
   "cell_type": "code",
   "execution_count": 13,
   "id": "8cdab733-cdc7-415a-a8ba-48917d3734c3",
   "metadata": {},
   "outputs": [
    {
     "data": {
      "text/html": [
       "<div>\n",
       "<style scoped>\n",
       "    .dataframe tbody tr th:only-of-type {\n",
       "        vertical-align: middle;\n",
       "    }\n",
       "\n",
       "    .dataframe tbody tr th {\n",
       "        vertical-align: top;\n",
       "    }\n",
       "\n",
       "    .dataframe thead th {\n",
       "        text-align: right;\n",
       "    }\n",
       "</style>\n",
       "<table border=\"1\" class=\"dataframe\">\n",
       "  <thead>\n",
       "    <tr style=\"text-align: right;\">\n",
       "      <th></th>\n",
       "      <th>count</th>\n",
       "      <th>unique</th>\n",
       "      <th>top</th>\n",
       "      <th>freq</th>\n",
       "      <th>first</th>\n",
       "      <th>last</th>\n",
       "    </tr>\n",
       "  </thead>\n",
       "  <tbody>\n",
       "    <tr>\n",
       "      <th>region</th>\n",
       "      <td>309901</td>\n",
       "      <td>4</td>\n",
       "      <td>United States</td>\n",
       "      <td>207327</td>\n",
       "      <td>---</td>\n",
       "      <td>---</td>\n",
       "    </tr>\n",
       "    <tr>\n",
       "      <th>device</th>\n",
       "      <td>309901</td>\n",
       "      <td>4</td>\n",
       "      <td>iPhone</td>\n",
       "      <td>112603</td>\n",
       "      <td>---</td>\n",
       "      <td>---</td>\n",
       "    </tr>\n",
       "    <tr>\n",
       "      <th>channel</th>\n",
       "      <td>309901</td>\n",
       "      <td>11</td>\n",
       "      <td>organic</td>\n",
       "      <td>107760</td>\n",
       "      <td>---</td>\n",
       "      <td>---</td>\n",
       "    </tr>\n",
       "    <tr>\n",
       "      <th>session_start</th>\n",
       "      <td>309901</td>\n",
       "      <td>306813</td>\n",
       "      <td>2019-06-27 14:56:41</td>\n",
       "      <td>3</td>\n",
       "      <td>2019-05-01 00:00:41</td>\n",
       "      <td>2019-10-31 23:59:23</td>\n",
       "    </tr>\n",
       "    <tr>\n",
       "      <th>session_end</th>\n",
       "      <td>309901</td>\n",
       "      <td>306793</td>\n",
       "      <td>2019-07-16 02:23:30</td>\n",
       "      <td>3</td>\n",
       "      <td>2019-05-01 00:07:06</td>\n",
       "      <td>2019-11-01 01:38:46</td>\n",
       "    </tr>\n",
       "  </tbody>\n",
       "</table>\n",
       "</div>"
      ],
      "text/plain": [
       "                count  unique                  top    freq  \\\n",
       "region         309901       4        United States  207327   \n",
       "device         309901       4               iPhone  112603   \n",
       "channel        309901      11              organic  107760   \n",
       "session_start  309901  306813  2019-06-27 14:56:41       3   \n",
       "session_end    309901  306793  2019-07-16 02:23:30       3   \n",
       "\n",
       "                             first                 last  \n",
       "region                         ---                  ---  \n",
       "device                         ---                  ---  \n",
       "channel                        ---                  ---  \n",
       "session_start  2019-05-01 00:00:41  2019-10-31 23:59:23  \n",
       "session_end    2019-05-01 00:07:06  2019-11-01 01:38:46  "
      ]
     },
     "execution_count": 13,
     "metadata": {},
     "output_type": "execute_result"
    }
   ],
   "source": [
    "calc.visits.describe(exclude=['int64']).T.fillna('---')"
   ]
  },
  {
   "cell_type": "markdown",
   "id": "cd6a2090-ae66-4805-8c44-2e4fb53131b9",
   "metadata": {},
   "source": [
    "Проверим записи о пользователях из каких стран содержит таблица:"
   ]
  },
  {
   "cell_type": "code",
   "execution_count": 14,
   "id": "608d747a-2a86-4994-8229-17fce7d2e1d8",
   "metadata": {
    "tags": []
   },
   "outputs": [
    {
     "data": {
      "text/html": [
       "<div>\n",
       "<style scoped>\n",
       "    .dataframe tbody tr th:only-of-type {\n",
       "        vertical-align: middle;\n",
       "    }\n",
       "\n",
       "    .dataframe tbody tr th {\n",
       "        vertical-align: top;\n",
       "    }\n",
       "\n",
       "    .dataframe thead th {\n",
       "        text-align: right;\n",
       "    }\n",
       "</style>\n",
       "<table border=\"1\" class=\"dataframe\">\n",
       "  <thead>\n",
       "    <tr style=\"text-align: right;\">\n",
       "      <th></th>\n",
       "      <th>region</th>\n",
       "      <th>user_id</th>\n",
       "      <th>unique_id</th>\n",
       "      <th>% of observations</th>\n",
       "      <th>% of unique id</th>\n",
       "    </tr>\n",
       "  </thead>\n",
       "  <tbody>\n",
       "    <tr>\n",
       "      <th>1</th>\n",
       "      <td>Germany</td>\n",
       "      <td>30759</td>\n",
       "      <td>14981</td>\n",
       "      <td>9.93</td>\n",
       "      <td>9.99</td>\n",
       "    </tr>\n",
       "    <tr>\n",
       "      <th>0</th>\n",
       "      <td>France</td>\n",
       "      <td>35396</td>\n",
       "      <td>17450</td>\n",
       "      <td>11.42</td>\n",
       "      <td>11.63</td>\n",
       "    </tr>\n",
       "    <tr>\n",
       "      <th>2</th>\n",
       "      <td>UK</td>\n",
       "      <td>36419</td>\n",
       "      <td>17575</td>\n",
       "      <td>11.75</td>\n",
       "      <td>11.72</td>\n",
       "    </tr>\n",
       "    <tr>\n",
       "      <th>3</th>\n",
       "      <td>United States</td>\n",
       "      <td>207327</td>\n",
       "      <td>100002</td>\n",
       "      <td>66.90</td>\n",
       "      <td>66.66</td>\n",
       "    </tr>\n",
       "  </tbody>\n",
       "</table>\n",
       "</div>"
      ],
      "text/plain": [
       "          region  user_id  unique_id  % of observations  % of unique id\n",
       "1        Germany    30759      14981               9.93            9.99\n",
       "0         France    35396      17450              11.42           11.63\n",
       "2             UK    36419      17575              11.75           11.72\n",
       "3  United States   207327     100002              66.90           66.66"
      ]
     },
     "execution_count": 14,
     "metadata": {},
     "output_type": "execute_result"
    }
   ],
   "source": [
    "unique_users_by_сountries = sorted(calc.visits.groupby('region')['user_id'].nunique())\n",
    "countries_count = calc.visits.groupby('region').agg({'user_id': 'count'}).reset_index().sort_values(by='user_id')\n",
    "countries_count['unique_id'] = unique_users_by_сountries\n",
    "countries_count['% of observations'] = (countries_count['user_id'] / len(calc.visits)) * 100\n",
    "countries_count['% of unique id'] = (countries_count['unique_id'] / sum(unique_users_by_сountries)) * 100\n",
    "countries_count"
   ]
  },
  {
   "cell_type": "markdown",
   "id": "3ca214b3-cc75-4a05-9f7e-c37eb96638ed",
   "metadata": {},
   "source": [
    "Всего уникальных пользователей:"
   ]
  },
  {
   "cell_type": "code",
   "execution_count": 15,
   "id": "a4acfb84-ab3d-4cae-ab0a-29fc9334c388",
   "metadata": {},
   "outputs": [
    {
     "data": {
      "text/plain": [
       "150008"
      ]
     },
     "execution_count": 15,
     "metadata": {},
     "output_type": "execute_result"
    }
   ],
   "source": [
    "sum(unique_users_by_сountries)"
   ]
  },
  {
   "cell_type": "markdown",
   "id": "6966c5c8-0fb2-4cf4-a7b6-a064d681301e",
   "metadata": {},
   "source": [
    "Из 309 901 наблюдений - 207 327 (67%) сделаны в отношении пользователей из США. Из 309 901 наблюдений - 150 008 об уникальных пользователях, процентное соотношение пользователей из различных регионов сохраняется и с учетом только уникальных пользователей."
   ]
  },
  {
   "cell_type": "markdown",
   "id": "b7520dd7-629f-47e9-b212-02601df30e08",
   "metadata": {},
   "source": [
    "Проверим сведения об устройствах: "
   ]
  },
  {
   "cell_type": "code",
   "execution_count": 16,
   "id": "fe4e8ed0-fd7a-4cd4-b218-36455b0e8e9a",
   "metadata": {},
   "outputs": [
    {
     "data": {
      "text/html": [
       "<div>\n",
       "<style scoped>\n",
       "    .dataframe tbody tr th:only-of-type {\n",
       "        vertical-align: middle;\n",
       "    }\n",
       "\n",
       "    .dataframe tbody tr th {\n",
       "        vertical-align: top;\n",
       "    }\n",
       "\n",
       "    .dataframe thead th {\n",
       "        text-align: right;\n",
       "    }\n",
       "</style>\n",
       "<table border=\"1\" class=\"dataframe\">\n",
       "  <thead>\n",
       "    <tr style=\"text-align: right;\">\n",
       "      <th></th>\n",
       "      <th>device</th>\n",
       "      <th>user_id</th>\n",
       "      <th>unique_id</th>\n",
       "      <th>% of observations</th>\n",
       "      <th>% of unique id</th>\n",
       "    </tr>\n",
       "  </thead>\n",
       "  <tbody>\n",
       "    <tr>\n",
       "      <th>1</th>\n",
       "      <td>Mac</td>\n",
       "      <td>62022</td>\n",
       "      <td>31335</td>\n",
       "      <td>20.01</td>\n",
       "      <td>20.19</td>\n",
       "    </tr>\n",
       "    <tr>\n",
       "      <th>2</th>\n",
       "      <td>PC</td>\n",
       "      <td>62686</td>\n",
       "      <td>31681</td>\n",
       "      <td>20.23</td>\n",
       "      <td>20.41</td>\n",
       "    </tr>\n",
       "    <tr>\n",
       "      <th>0</th>\n",
       "      <td>Android</td>\n",
       "      <td>72590</td>\n",
       "      <td>36377</td>\n",
       "      <td>23.42</td>\n",
       "      <td>23.44</td>\n",
       "    </tr>\n",
       "    <tr>\n",
       "      <th>3</th>\n",
       "      <td>iPhone</td>\n",
       "      <td>112603</td>\n",
       "      <td>55798</td>\n",
       "      <td>36.34</td>\n",
       "      <td>35.95</td>\n",
       "    </tr>\n",
       "  </tbody>\n",
       "</table>\n",
       "</div>"
      ],
      "text/plain": [
       "    device  user_id  unique_id  % of observations  % of unique id\n",
       "1      Mac    62022      31335              20.01           20.19\n",
       "2       PC    62686      31681              20.23           20.41\n",
       "0  Android    72590      36377              23.42           23.44\n",
       "3   iPhone   112603      55798              36.34           35.95"
      ]
     },
     "execution_count": 16,
     "metadata": {},
     "output_type": "execute_result"
    }
   ],
   "source": [
    "unique_devices = sorted(calc.visits.groupby('device')['user_id'].nunique())\n",
    "device_count = calc.visits.groupby('device').agg({'user_id': 'count'}).reset_index().sort_values(by='user_id')\n",
    "device_count['unique_id'] = unique_devices\n",
    "device_count['% of observations'] = (device_count['user_id'] / len(calc.visits)) * 100\n",
    "device_count['% of unique id'] = (device_count['unique_id'] / sum(unique_devices)) * 100\n",
    "device_count"
   ]
  },
  {
   "cell_type": "markdown",
   "id": "508ddaed-9e1f-49be-a13c-6fb7f4a6d43c",
   "metadata": {},
   "source": [
    "Наблюдения об устройствах распределены равномернее, чем между странами - больше всего пользователей iPhone (36%), пользователей Mac (20%), PC (20%) и Andoid (23%)."
   ]
  },
  {
   "cell_type": "markdown",
   "id": "3d6bed20-5228-40bd-84c8-f2d7b0d2f8a4",
   "metadata": {},
   "source": [
    "Визуализируем соотношение устройств по числу пользователей:"
   ]
  },
  {
   "cell_type": "code",
   "execution_count": 34,
   "id": "3dffbf83-f193-4a5d-81c7-a4ad8457cff7",
   "metadata": {},
   "outputs": [
    {
     "data": {
      "image/png": "[encoded data removed]",
      "text/plain": [
       "<Figure size 560x560 with 1 Axes>"
      ]
     },
     "metadata": {},
     "output_type": "display_data"
    }
   ],
   "source": [
    "calc.square_plot(calc.visits, 'device', title='Соотношение различных устройств клиентов')"
   ]
  },
  {
   "cell_type": "code",
   "execution_count": 18,
   "id": "b7a6398f-26ec-4af0-9df4-076f9879620d",
   "metadata": {},
   "outputs": [
    {
     "data": {
      "text/plain": [
       "<Figure size 560x560 with 0 Axes>"
      ]
     },
     "metadata": {},
     "output_type": "display_data"
    },
    {
     "data": {
      "image/png": "[encoded data removed]",
      "text/plain": [
       "<Figure size 453.6x504 with 1 Axes>"
      ]
     },
     "metadata": {},
     "output_type": "display_data"
    }
   ],
   "source": [
    "title = 'Устройства по числу пользователей'\n",
    "xlabel = 'Устройство'\n",
    "ylabel = 'Число пользователей'\n",
    "data = device_count.sort_values(by='user_id', ascending=False)\n",
    "calc.sns_catplot(x='device', y='user_id', data=data, title=title, xlabel=xlabel, ylabel=ylabel)"
   ]
  },
  {
   "cell_type": "markdown",
   "id": "af183731-9807-4572-a3a0-c25abc5e3ec3",
   "metadata": {},
   "source": [
    "Всего уникальных устройств:"
   ]
  },
  {
   "cell_type": "code",
   "execution_count": 19,
   "id": "429e525e-3a31-4c53-905e-42e1c3e4fe68",
   "metadata": {},
   "outputs": [
    {
     "data": {
      "text/plain": [
       "155191"
      ]
     },
     "execution_count": 19,
     "metadata": {},
     "output_type": "execute_result"
    }
   ],
   "source": [
    "sum(unique_devices)"
   ]
  },
  {
   "cell_type": "markdown",
   "id": "620b1e0a-45df-466c-8e61-54076fe12bcf",
   "metadata": {},
   "source": [
    "С учетом того, что количество уникальных устройств превышает число уникальных пользователей - некоторые пользователи пользуются услугой с различных устройств."
   ]
  },
  {
   "cell_type": "code",
   "execution_count": 20,
   "id": "2465273a-2445-4ecc-964e-b597351f6200",
   "metadata": {},
   "outputs": [
    {
     "data": {
      "text/html": [
       "<div>\n",
       "<style scoped>\n",
       "    .dataframe tbody tr th:only-of-type {\n",
       "        vertical-align: middle;\n",
       "    }\n",
       "\n",
       "    .dataframe tbody tr th {\n",
       "        vertical-align: top;\n",
       "    }\n",
       "\n",
       "    .dataframe thead th {\n",
       "        text-align: right;\n",
       "    }\n",
       "</style>\n",
       "<table border=\"1\" class=\"dataframe\">\n",
       "  <thead>\n",
       "    <tr style=\"text-align: right;\">\n",
       "      <th></th>\n",
       "      <th>channel</th>\n",
       "      <th>user_id</th>\n",
       "      <th>unique_id</th>\n",
       "      <th>% of observations</th>\n",
       "      <th>% of unique id</th>\n",
       "    </tr>\n",
       "  </thead>\n",
       "  <tbody>\n",
       "    <tr>\n",
       "      <th>9</th>\n",
       "      <td>lambdaMediaAds</td>\n",
       "      <td>6507</td>\n",
       "      <td>2410</td>\n",
       "      <td>2.10</td>\n",
       "      <td>1.55</td>\n",
       "    </tr>\n",
       "    <tr>\n",
       "      <th>0</th>\n",
       "      <td>AdNonSense</td>\n",
       "      <td>6891</td>\n",
       "      <td>4199</td>\n",
       "      <td>2.22</td>\n",
       "      <td>2.69</td>\n",
       "    </tr>\n",
       "    <tr>\n",
       "      <th>3</th>\n",
       "      <td>MediaTornado</td>\n",
       "      <td>8878</td>\n",
       "      <td>4882</td>\n",
       "      <td>2.86</td>\n",
       "      <td>3.13</td>\n",
       "    </tr>\n",
       "    <tr>\n",
       "      <th>8</th>\n",
       "      <td>YRabbit</td>\n",
       "      <td>9053</td>\n",
       "      <td>4895</td>\n",
       "      <td>2.92</td>\n",
       "      <td>3.14</td>\n",
       "    </tr>\n",
       "    <tr>\n",
       "      <th>5</th>\n",
       "      <td>RocketSuperAds</td>\n",
       "      <td>12724</td>\n",
       "      <td>4988</td>\n",
       "      <td>4.11</td>\n",
       "      <td>3.20</td>\n",
       "    </tr>\n",
       "    <tr>\n",
       "      <th>4</th>\n",
       "      <td>OppleCreativeMedia</td>\n",
       "      <td>16794</td>\n",
       "      <td>8845</td>\n",
       "      <td>5.42</td>\n",
       "      <td>5.68</td>\n",
       "    </tr>\n",
       "    <tr>\n",
       "      <th>2</th>\n",
       "      <td>LeapBob</td>\n",
       "      <td>17013</td>\n",
       "      <td>8875</td>\n",
       "      <td>5.49</td>\n",
       "      <td>5.70</td>\n",
       "    </tr>\n",
       "    <tr>\n",
       "      <th>7</th>\n",
       "      <td>WahooNetBanner</td>\n",
       "      <td>20465</td>\n",
       "      <td>8929</td>\n",
       "      <td>6.60</td>\n",
       "      <td>5.73</td>\n",
       "    </tr>\n",
       "    <tr>\n",
       "      <th>1</th>\n",
       "      <td>FaceBoom</td>\n",
       "      <td>49022</td>\n",
       "      <td>20204</td>\n",
       "      <td>15.82</td>\n",
       "      <td>12.97</td>\n",
       "    </tr>\n",
       "    <tr>\n",
       "      <th>6</th>\n",
       "      <td>TipTop</td>\n",
       "      <td>54794</td>\n",
       "      <td>29916</td>\n",
       "      <td>17.68</td>\n",
       "      <td>19.20</td>\n",
       "    </tr>\n",
       "    <tr>\n",
       "      <th>10</th>\n",
       "      <td>organic</td>\n",
       "      <td>107760</td>\n",
       "      <td>57673</td>\n",
       "      <td>34.77</td>\n",
       "      <td>37.01</td>\n",
       "    </tr>\n",
       "  </tbody>\n",
       "</table>\n",
       "</div>"
      ],
      "text/plain": [
       "               channel  user_id  unique_id  % of observations  % of unique id\n",
       "9       lambdaMediaAds     6507       2410               2.10            1.55\n",
       "0           AdNonSense     6891       4199               2.22            2.69\n",
       "3         MediaTornado     8878       4882               2.86            3.13\n",
       "8              YRabbit     9053       4895               2.92            3.14\n",
       "5       RocketSuperAds    12724       4988               4.11            3.20\n",
       "4   OppleCreativeMedia    16794       8845               5.42            5.68\n",
       "2              LeapBob    17013       8875               5.49            5.70\n",
       "7       WahooNetBanner    20465       8929               6.60            5.73\n",
       "1             FaceBoom    49022      20204              15.82           12.97\n",
       "6               TipTop    54794      29916              17.68           19.20\n",
       "10             organic   107760      57673              34.77           37.01"
      ]
     },
     "execution_count": 20,
     "metadata": {},
     "output_type": "execute_result"
    }
   ],
   "source": [
    "unique_channels = sorted(calc.visits.groupby('channel')['user_id'].nunique())\n",
    "channel_count = calc.visits.groupby('channel').agg({'user_id': 'count'}).reset_index().sort_values(by='user_id')\n",
    "channel_count['unique_id'] = unique_channels\n",
    "channel_count['% of observations'] = (channel_count['user_id'] / len(calc.visits)) * 100\n",
    "channel_count['% of unique id'] = (channel_count['unique_id'] / sum(unique_channels)) * 100\n",
    "channel_count"
   ]
  },
  {
   "cell_type": "code",
   "execution_count": 21,
   "id": "a5d6316c-60f2-49b5-98aa-46de7508208e",
   "metadata": {},
   "outputs": [
    {
     "data": {
      "image/png": "[encoded data removed]",
      "text/plain": [
       "<Figure size 560x560 with 1 Axes>"
      ]
     },
     "metadata": {},
     "output_type": "display_data"
    }
   ],
   "source": [
    "calc.square_plot(calc.visits, 'channel', title='Соотношение различных источников привлечения клиентов')"
   ]
  },
  {
   "cell_type": "code",
   "execution_count": 33,
   "id": "a75e7276-7de3-4add-927a-d2cc16dd9a0d",
   "metadata": {},
   "outputs": [
    {
     "data": {
      "text/plain": [
       "<Figure size 560x560 with 0 Axes>"
      ]
     },
     "metadata": {},
     "output_type": "display_data"
    },
    {
     "data": {
      "image/png": "[encoded data removed]",
      "text/plain": [
       "<Figure size 453.6x504 with 1 Axes>"
      ]
     },
     "metadata": {},
     "output_type": "display_data"
    }
   ],
   "source": [
    "title = 'Пользователи по каждому из каналов привлечения'\n",
    "xlabel = 'Рекламный канал'\n",
    "ylabel = 'Число привлеченных пользователей'\n",
    "data = channel_count.sort_values(by='user_id', ascending=False)\n",
    "calc.sns_catplot(x='channel', y='user_id', data=data, title=title, xlabel=xlabel, ylabel=ylabel)"
   ]
  },
  {
   "cell_type": "markdown",
   "id": "306e28eb-0a02-4316-90ee-9c865889dd4e",
   "metadata": {},
   "source": [
    "&#9889; **Вывод**\n",
    "\n",
    "В датасете о посещениях сайта:\n",
    "\n",
    "- сведения о 4 регионах, больше всего наблюдений о пользователях из США - 207 327 из 309 901 наблюдения (67%), больше всего пользовавшихся iPhone - 112 603 из 309 901 наблюдения (36%),\n",
    "- более трети пользователей пришли напрямую - 107 760 из 309 901 (36%),\n",
    "- помимо прямой покупки, с большим отрывом лидируют источники привлечения - TipTop (54 794, 18%) и FaceBoom (20204, 16%),\n",
    "- самое раннее наблюдение о первом действии - 01.05.2019 года, самое позднее - 31.10.2019 года."
   ]
  },
  {
   "cell_type": "markdown",
   "id": "0fd708c2-18b3-4fff-84f1-1a429555dd65",
   "metadata": {},
   "source": [
    "### - orders - информация о покупках"
   ]
  },
  {
   "cell_type": "code",
   "execution_count": 23,
   "id": "85c86740-495a-476e-ba74-ffee1b1e2c41",
   "metadata": {},
   "outputs": [
    {
     "data": {
      "text/html": [
       "<div>\n",
       "<style scoped>\n",
       "    .dataframe tbody tr th:only-of-type {\n",
       "        vertical-align: middle;\n",
       "    }\n",
       "\n",
       "    .dataframe tbody tr th {\n",
       "        vertical-align: top;\n",
       "    }\n",
       "\n",
       "    .dataframe thead th {\n",
       "        text-align: right;\n",
       "    }\n",
       "</style>\n",
       "<table border=\"1\" class=\"dataframe\">\n",
       "  <thead>\n",
       "    <tr style=\"text-align: right;\">\n",
       "      <th></th>\n",
       "      <th>count</th>\n",
       "      <th>mean</th>\n",
       "      <th>std</th>\n",
       "      <th>min</th>\n",
       "      <th>25%</th>\n",
       "      <th>50%</th>\n",
       "      <th>75%</th>\n",
       "      <th>max</th>\n",
       "    </tr>\n",
       "  </thead>\n",
       "  <tbody>\n",
       "    <tr>\n",
       "      <th>revenue</th>\n",
       "      <td>40212.00</td>\n",
       "      <td>5.37</td>\n",
       "      <td>3.45</td>\n",
       "      <td>4.99</td>\n",
       "      <td>4.99</td>\n",
       "      <td>4.99</td>\n",
       "      <td>4.99</td>\n",
       "      <td>49.99</td>\n",
       "    </tr>\n",
       "  </tbody>\n",
       "</table>\n",
       "</div>"
      ],
      "text/plain": [
       "           count  mean  std  min  25%  50%  75%   max\n",
       "revenue 40212.00  5.37 3.45 4.99 4.99 4.99 4.99 49.99"
      ]
     },
     "execution_count": 23,
     "metadata": {},
     "output_type": "execute_result"
    }
   ],
   "source": [
    "calc.orders.describe(include=['float64']).T"
   ]
  },
  {
   "cell_type": "code",
   "execution_count": 24,
   "id": "75b3529c-e906-47d5-bc94-c1bb52016f4c",
   "metadata": {},
   "outputs": [
    {
     "data": {
      "text/html": [
       "<div>\n",
       "<style scoped>\n",
       "    .dataframe tbody tr th:only-of-type {\n",
       "        vertical-align: middle;\n",
       "    }\n",
       "\n",
       "    .dataframe tbody tr th {\n",
       "        vertical-align: top;\n",
       "    }\n",
       "\n",
       "    .dataframe thead th {\n",
       "        text-align: right;\n",
       "    }\n",
       "</style>\n",
       "<table border=\"1\" class=\"dataframe\">\n",
       "  <thead>\n",
       "    <tr style=\"text-align: right;\">\n",
       "      <th></th>\n",
       "      <th>count</th>\n",
       "      <th>unique</th>\n",
       "      <th>top</th>\n",
       "      <th>freq</th>\n",
       "      <th>first</th>\n",
       "      <th>last</th>\n",
       "    </tr>\n",
       "  </thead>\n",
       "  <tbody>\n",
       "    <tr>\n",
       "      <th>event_dt</th>\n",
       "      <td>40212</td>\n",
       "      <td>40163</td>\n",
       "      <td>2019-10-26 06:49:22</td>\n",
       "      <td>2</td>\n",
       "      <td>2019-05-01 00:28:11</td>\n",
       "      <td>2019-10-31 23:56:56</td>\n",
       "    </tr>\n",
       "  </tbody>\n",
       "</table>\n",
       "</div>"
      ],
      "text/plain": [
       "          count unique                 top freq               first  \\\n",
       "event_dt  40212  40163 2019-10-26 06:49:22    2 2019-05-01 00:28:11   \n",
       "\n",
       "                        last  \n",
       "event_dt 2019-10-31 23:56:56  "
      ]
     },
     "execution_count": 24,
     "metadata": {},
     "output_type": "execute_result"
    }
   ],
   "source": [
    "calc.orders.describe(include=['object', 'datetime64[ns]']).T"
   ]
  },
  {
   "cell_type": "markdown",
   "id": "328df2bd-2dac-4fb4-bebb-acad61d05d1b",
   "metadata": {},
   "source": [
    "С учетом того, что 75%-процентиль - 4.99 (совпадающий с медианой, 25%-процентилем и минимуом), максимальная сумма выручки - 49.99, проверим какие значения выручки есть в датасете:"
   ]
  },
  {
   "cell_type": "code",
   "execution_count": 25,
   "id": "bb46b348-2c14-4af6-ae91-69e2cd394fd7",
   "metadata": {},
   "outputs": [
    {
     "data": {
      "text/plain": [
       "[4.99, 5.99, 9.99, 19.99, 49.99]"
      ]
     },
     "execution_count": 25,
     "metadata": {},
     "output_type": "execute_result"
    }
   ],
   "source": [
    "sorted(calc.orders.revenue.unique())"
   ]
  },
  {
   "cell_type": "markdown",
   "id": "68436a83-8abd-4986-bb07-4f06c69a012c",
   "metadata": {},
   "source": [
    "Всего пять значений стоимости услуги. Проверим сколько пользователей платят больше 4.99, возможно, таких пользователей стоит рассматривать отдельно:"
   ]
  },
  {
   "cell_type": "code",
   "execution_count": 26,
   "id": "023b7fa3-40b5-4703-8fe9-c19275206384",
   "metadata": {},
   "outputs": [
    {
     "data": {
      "text/html": [
       "<div>\n",
       "<style scoped>\n",
       "    .dataframe tbody tr th:only-of-type {\n",
       "        vertical-align: middle;\n",
       "    }\n",
       "\n",
       "    .dataframe tbody tr th {\n",
       "        vertical-align: top;\n",
       "    }\n",
       "\n",
       "    .dataframe thead th {\n",
       "        text-align: right;\n",
       "    }\n",
       "</style>\n",
       "<table border=\"1\" class=\"dataframe\">\n",
       "  <thead>\n",
       "    <tr style=\"text-align: right;\">\n",
       "      <th></th>\n",
       "      <th>revenue</th>\n",
       "      <th>user_id</th>\n",
       "      <th>%</th>\n",
       "    </tr>\n",
       "  </thead>\n",
       "  <tbody>\n",
       "    <tr>\n",
       "      <th>0</th>\n",
       "      <td>4.99</td>\n",
       "      <td>38631</td>\n",
       "      <td>96.07</td>\n",
       "    </tr>\n",
       "    <tr>\n",
       "      <th>1</th>\n",
       "      <td>5.99</td>\n",
       "      <td>780</td>\n",
       "      <td>1.94</td>\n",
       "    </tr>\n",
       "    <tr>\n",
       "      <th>2</th>\n",
       "      <td>9.99</td>\n",
       "      <td>385</td>\n",
       "      <td>0.96</td>\n",
       "    </tr>\n",
       "    <tr>\n",
       "      <th>3</th>\n",
       "      <td>19.99</td>\n",
       "      <td>204</td>\n",
       "      <td>0.51</td>\n",
       "    </tr>\n",
       "    <tr>\n",
       "      <th>4</th>\n",
       "      <td>49.99</td>\n",
       "      <td>212</td>\n",
       "      <td>0.53</td>\n",
       "    </tr>\n",
       "  </tbody>\n",
       "</table>\n",
       "</div>"
      ],
      "text/plain": [
       "   revenue  user_id     %\n",
       "0     4.99    38631 96.07\n",
       "1     5.99      780  1.94\n",
       "2     9.99      385  0.96\n",
       "3    19.99      204  0.51\n",
       "4    49.99      212  0.53"
      ]
     },
     "execution_count": 26,
     "metadata": {},
     "output_type": "execute_result"
    }
   ],
   "source": [
    "max_revenue = calc.orders.groupby('revenue').agg({'user_id': 'count'}).reset_index()\n",
    "max_revenue['%'] = (max_revenue['user_id'] / len(calc.orders)) * 100\n",
    "max_revenue"
   ]
  },
  {
   "cell_type": "markdown",
   "id": "2c9a3696-a2c3-4a71-b3e3-b6a1f3bd8e6c",
   "metadata": {},
   "source": [
    "Примерно 5% пользователей платят больше базовой стоимости. Посчитаем общее число таких пользователей:"
   ]
  },
  {
   "cell_type": "code",
   "execution_count": 27,
   "id": "b9a28940-ace9-41c0-8aa5-f7640cc221e1",
   "metadata": {},
   "outputs": [
    {
     "data": {
      "text/plain": [
       "1581"
      ]
     },
     "execution_count": 27,
     "metadata": {},
     "output_type": "execute_result"
    }
   ],
   "source": [
    "sum(max_revenue[max_revenue['revenue'] > 4.99]['user_id'])"
   ]
  },
  {
   "cell_type": "markdown",
   "id": "8b3a8bde-f3df-4013-861d-d48e0aa14c24",
   "metadata": {},
   "source": [
    "&#9889; **Вывод**\n",
    "\n",
    "В датасете с информацией о покупках:\n",
    "\n",
    "- остутствуют сведения о валюте в которой выражена выручка,\n",
    "- принимая во внимание, что 67% пользователей из США, можно предположить, что валюта выручки - доллары США,\n",
    "- выявлено 5 различных стоимостей услуг - 4.99, 5.99, 9.99, 19.99, 49.99.\n",
    "- минимальная сумма выручки - 4.99, средняя - 5.37 (при медианной и 75%-процентиле - 4.99), максимальная - 49.99,\n",
    "- из 40 185 платящих пользователей - 1581 (4%) платит больше базового тарифа,\n",
    "- самое раннее наблюдение о первом действии совпадает с датасетом о посещениях - 01.05.2019 года, самое позднее - 31.10.2019 года."
   ]
  },
  {
   "cell_type": "markdown",
   "id": "519a5f3f-aeb1-4e1a-bb9f-177be3efc049",
   "metadata": {
    "tags": []
   },
   "source": [
    "### - costs - информация о расходах"
   ]
  },
  {
   "cell_type": "code",
   "execution_count": 28,
   "id": "90a1d60e-4cbb-4c95-8b8b-8676f2081ceb",
   "metadata": {},
   "outputs": [
    {
     "data": {
      "text/html": [
       "<div>\n",
       "<style scoped>\n",
       "    .dataframe tbody tr th:only-of-type {\n",
       "        vertical-align: middle;\n",
       "    }\n",
       "\n",
       "    .dataframe tbody tr th {\n",
       "        vertical-align: top;\n",
       "    }\n",
       "\n",
       "    .dataframe thead th {\n",
       "        text-align: right;\n",
       "    }\n",
       "</style>\n",
       "<table border=\"1\" class=\"dataframe\">\n",
       "  <thead>\n",
       "    <tr style=\"text-align: right;\">\n",
       "      <th></th>\n",
       "      <th>count</th>\n",
       "      <th>mean</th>\n",
       "      <th>std</th>\n",
       "      <th>min</th>\n",
       "      <th>25%</th>\n",
       "      <th>50%</th>\n",
       "      <th>75%</th>\n",
       "      <th>max</th>\n",
       "    </tr>\n",
       "  </thead>\n",
       "  <tbody>\n",
       "    <tr>\n",
       "      <th>costs</th>\n",
       "      <td>1800.00</td>\n",
       "      <td>58.61</td>\n",
       "      <td>107.74</td>\n",
       "      <td>0.80</td>\n",
       "      <td>6.50</td>\n",
       "      <td>12.29</td>\n",
       "      <td>33.60</td>\n",
       "      <td>630.00</td>\n",
       "    </tr>\n",
       "  </tbody>\n",
       "</table>\n",
       "</div>"
      ],
      "text/plain": [
       "        count  mean    std  min  25%   50%   75%    max\n",
       "costs 1800.00 58.61 107.74 0.80 6.50 12.29 33.60 630.00"
      ]
     },
     "execution_count": 28,
     "metadata": {},
     "output_type": "execute_result"
    }
   ],
   "source": [
    "calc.costs.describe().T"
   ]
  },
  {
   "cell_type": "markdown",
   "id": "7482fff0-3e29-4e43-8f3d-050e24ee9352",
   "metadata": {},
   "source": [
    "Минимально - 0.80, средняя стоимость источника - 58.61 (при медианой - 12.29 и 75%-процентиле равным 33.60). Есть очень дорогие источники. Проверим среднюю стоимость привлечения по каждому источнику: "
   ]
  },
  {
   "cell_type": "code",
   "execution_count": 84,
   "id": "37ee3965-847f-45c7-8495-7150660b8951",
   "metadata": {},
   "outputs": [
    {
     "data": {
      "text/html": [
       "<div>\n",
       "<style scoped>\n",
       "    .dataframe tbody tr th:only-of-type {\n",
       "        vertical-align: middle;\n",
       "    }\n",
       "\n",
       "    .dataframe tbody tr th {\n",
       "        vertical-align: top;\n",
       "    }\n",
       "\n",
       "    .dataframe thead th {\n",
       "        text-align: right;\n",
       "    }\n",
       "</style>\n",
       "<table border=\"1\" class=\"dataframe\">\n",
       "  <thead>\n",
       "    <tr style=\"text-align: right;\">\n",
       "      <th></th>\n",
       "      <th>channel</th>\n",
       "      <th>costs</th>\n",
       "      <th>cost_sum_by_channel</th>\n",
       "      <th>% of total costs</th>\n",
       "    </tr>\n",
       "  </thead>\n",
       "  <tbody>\n",
       "    <tr>\n",
       "      <th>8</th>\n",
       "      <td>YRabbit</td>\n",
       "      <td>5.25</td>\n",
       "      <td>32445.60</td>\n",
       "      <td>18.03</td>\n",
       "    </tr>\n",
       "    <tr>\n",
       "      <th>3</th>\n",
       "      <td>MediaTornado</td>\n",
       "      <td>5.30</td>\n",
       "      <td>1797.60</td>\n",
       "      <td>1.00</td>\n",
       "    </tr>\n",
       "    <tr>\n",
       "      <th>9</th>\n",
       "      <td>lambdaMediaAds</td>\n",
       "      <td>8.65</td>\n",
       "      <td>54751.30</td>\n",
       "      <td>30.42</td>\n",
       "    </tr>\n",
       "    <tr>\n",
       "      <th>2</th>\n",
       "      <td>LeapBob</td>\n",
       "      <td>9.99</td>\n",
       "      <td>1557.60</td>\n",
       "      <td>0.87</td>\n",
       "    </tr>\n",
       "    <tr>\n",
       "      <th>5</th>\n",
       "      <td>RocketSuperAds</td>\n",
       "      <td>10.18</td>\n",
       "      <td>2151.25</td>\n",
       "      <td>1.20</td>\n",
       "    </tr>\n",
       "    <tr>\n",
       "      <th>4</th>\n",
       "      <td>OppleCreativeMedia</td>\n",
       "      <td>11.95</td>\n",
       "      <td>1833.00</td>\n",
       "      <td>1.02</td>\n",
       "    </tr>\n",
       "    <tr>\n",
       "      <th>0</th>\n",
       "      <td>AdNonSense</td>\n",
       "      <td>21.73</td>\n",
       "      <td>944.22</td>\n",
       "      <td>0.52</td>\n",
       "    </tr>\n",
       "    <tr>\n",
       "      <th>7</th>\n",
       "      <td>WahooNetBanner</td>\n",
       "      <td>28.62</td>\n",
       "      <td>5151.00</td>\n",
       "      <td>2.86</td>\n",
       "    </tr>\n",
       "    <tr>\n",
       "      <th>1</th>\n",
       "      <td>FaceBoom</td>\n",
       "      <td>180.25</td>\n",
       "      <td>954.48</td>\n",
       "      <td>0.53</td>\n",
       "    </tr>\n",
       "    <tr>\n",
       "      <th>6</th>\n",
       "      <td>TipTop</td>\n",
       "      <td>304.17</td>\n",
       "      <td>3911.25</td>\n",
       "      <td>2.17</td>\n",
       "    </tr>\n",
       "  </tbody>\n",
       "</table>\n",
       "</div>"
      ],
      "text/plain": [
       "              channel  costs  cost_sum_by_channel  % of total costs\n",
       "8             YRabbit   5.25             32445.60             18.03\n",
       "3        MediaTornado   5.30              1797.60              1.00\n",
       "9      lambdaMediaAds   8.65             54751.30             30.42\n",
       "2             LeapBob   9.99              1557.60              0.87\n",
       "5      RocketSuperAds  10.18              2151.25              1.20\n",
       "4  OppleCreativeMedia  11.95              1833.00              1.02\n",
       "0          AdNonSense  21.73               944.22              0.52\n",
       "7      WahooNetBanner  28.62              5151.00              2.86\n",
       "1            FaceBoom 180.25               954.48              0.53\n",
       "6              TipTop 304.17              3911.25              2.17"
      ]
     },
     "execution_count": 84,
     "metadata": {},
     "output_type": "execute_result"
    }
   ],
   "source": [
    "channels_sum_costs = sorted(calc.costs.groupby('channel')['costs'].sum())\n",
    "channels_mean_costs = calc.costs.groupby('channel').agg({'costs': 'mean'}).reset_index()\n",
    "channels_mean_costs['cost_sum_by_channel'] = channels_sum_costs\n",
    "channels_mean_costs['% of total costs'] = channels_mean_costs['cost_sum_by_channel'] / len(calc.costs)\n",
    "channels_mean_costs.sort_values(by='costs')"
   ]
  },
  {
   "cell_type": "code",
   "execution_count": 47,
   "id": "45b6b801-2f23-43d2-81aa-4979fa350c51",
   "metadata": {},
   "outputs": [
    {
     "data": {
      "text/plain": [
       "<Figure size 560x560 with 0 Axes>"
      ]
     },
     "metadata": {},
     "output_type": "display_data"
    },
    {
     "data": {
      "image/png": "[encoded data removed]",
      "text/plain": [
       "<Figure size 453.6x504 with 1 Axes>"
      ]
     },
     "metadata": {},
     "output_type": "display_data"
    }
   ],
   "source": [
    "data = channels_mean_costs.sort_values(by='costs', ascending=False)\n",
    "ylabel = 'Средняя стоимость'\n",
    "xlabel = 'Источник привлечения'\n",
    "title = 'Средняя стоимость привлечения по источнику'\n",
    "calc.sns_catplot(x='channel', y='costs', data=data, xlabel=xlabel, ylabel=ylabel, title=title)"
   ]
  },
  {
   "cell_type": "markdown",
   "id": "aa73b328-dc7c-4177-ab82-a0fdce29fd2b",
   "metadata": {},
   "source": [
    "TipTop (304.17) и FaceBoom (180.25) лидируют с отрывом, самый дешевый источник - YRabbit (5.25). Проверим к кому обращались за рекламой чаще:"
   ]
  },
  {
   "cell_type": "code",
   "execution_count": 50,
   "id": "6bdaf3cb-fb0b-498b-a32d-c12c8df7f5a9",
   "metadata": {},
   "outputs": [
    {
     "data": {
      "text/html": [
       "<div>\n",
       "<style scoped>\n",
       "    .dataframe tbody tr th:only-of-type {\n",
       "        vertical-align: middle;\n",
       "    }\n",
       "\n",
       "    .dataframe tbody tr th {\n",
       "        vertical-align: top;\n",
       "    }\n",
       "\n",
       "    .dataframe thead th {\n",
       "        text-align: right;\n",
       "    }\n",
       "</style>\n",
       "<table border=\"1\" class=\"dataframe\">\n",
       "  <thead>\n",
       "    <tr style=\"text-align: right;\">\n",
       "      <th></th>\n",
       "      <th>count</th>\n",
       "      <th>unique</th>\n",
       "      <th>top</th>\n",
       "      <th>freq</th>\n",
       "    </tr>\n",
       "  </thead>\n",
       "  <tbody>\n",
       "    <tr>\n",
       "      <th>dt</th>\n",
       "      <td>1800</td>\n",
       "      <td>180</td>\n",
       "      <td>2019-05-01</td>\n",
       "      <td>10</td>\n",
       "    </tr>\n",
       "    <tr>\n",
       "      <th>channel</th>\n",
       "      <td>1800</td>\n",
       "      <td>10</td>\n",
       "      <td>FaceBoom</td>\n",
       "      <td>180</td>\n",
       "    </tr>\n",
       "  </tbody>\n",
       "</table>\n",
       "</div>"
      ],
      "text/plain": [
       "        count unique         top freq\n",
       "dt       1800    180  2019-05-01   10\n",
       "channel  1800     10    FaceBoom  180"
      ]
     },
     "execution_count": 50,
     "metadata": {},
     "output_type": "execute_result"
    }
   ],
   "source": [
    "calc.costs.describe(include=['object', 'datetime64[ns]']).T"
   ]
  },
  {
   "cell_type": "code",
   "execution_count": 51,
   "id": "461b5091-ae22-4f2e-807b-7264045fc640",
   "metadata": {},
   "outputs": [
    {
     "data": {
      "text/html": [
       "<div>\n",
       "<style scoped>\n",
       "    .dataframe tbody tr th:only-of-type {\n",
       "        vertical-align: middle;\n",
       "    }\n",
       "\n",
       "    .dataframe tbody tr th {\n",
       "        vertical-align: top;\n",
       "    }\n",
       "\n",
       "    .dataframe thead th {\n",
       "        text-align: right;\n",
       "    }\n",
       "</style>\n",
       "<table border=\"1\" class=\"dataframe\">\n",
       "  <thead>\n",
       "    <tr style=\"text-align: right;\">\n",
       "      <th></th>\n",
       "      <th>channel</th>\n",
       "    </tr>\n",
       "    <tr>\n",
       "      <th>channel</th>\n",
       "      <th></th>\n",
       "    </tr>\n",
       "  </thead>\n",
       "  <tbody>\n",
       "    <tr>\n",
       "      <th>AdNonSense</th>\n",
       "      <td>180</td>\n",
       "    </tr>\n",
       "    <tr>\n",
       "      <th>FaceBoom</th>\n",
       "      <td>180</td>\n",
       "    </tr>\n",
       "    <tr>\n",
       "      <th>LeapBob</th>\n",
       "      <td>180</td>\n",
       "    </tr>\n",
       "    <tr>\n",
       "      <th>MediaTornado</th>\n",
       "      <td>180</td>\n",
       "    </tr>\n",
       "    <tr>\n",
       "      <th>OppleCreativeMedia</th>\n",
       "      <td>180</td>\n",
       "    </tr>\n",
       "    <tr>\n",
       "      <th>RocketSuperAds</th>\n",
       "      <td>180</td>\n",
       "    </tr>\n",
       "    <tr>\n",
       "      <th>TipTop</th>\n",
       "      <td>180</td>\n",
       "    </tr>\n",
       "    <tr>\n",
       "      <th>WahooNetBanner</th>\n",
       "      <td>180</td>\n",
       "    </tr>\n",
       "    <tr>\n",
       "      <th>YRabbit</th>\n",
       "      <td>180</td>\n",
       "    </tr>\n",
       "    <tr>\n",
       "      <th>lambdaMediaAds</th>\n",
       "      <td>180</td>\n",
       "    </tr>\n",
       "  </tbody>\n",
       "</table>\n",
       "</div>"
      ],
      "text/plain": [
       "                    channel\n",
       "channel                    \n",
       "AdNonSense              180\n",
       "FaceBoom                180\n",
       "LeapBob                 180\n",
       "MediaTornado            180\n",
       "OppleCreativeMedia      180\n",
       "RocketSuperAds          180\n",
       "TipTop                  180\n",
       "WahooNetBanner          180\n",
       "YRabbit                 180\n",
       "lambdaMediaAds          180"
      ]
     },
     "execution_count": 51,
     "metadata": {},
     "output_type": "execute_result"
    }
   ],
   "source": [
    "calc.costs.groupby('channel').agg({'channel': 'count'})"
   ]
  },
  {
   "cell_type": "markdown",
   "id": "609998da-dcff-4732-a9d5-1f382d6b0c13",
   "metadata": {},
   "source": [
    "К каждому из источников привлечения по 180 раз."
   ]
  },
  {
   "cell_type": "markdown",
   "id": "5bdf6a39-f760-4773-bc5d-14110b883ddf",
   "metadata": {},
   "source": [
    "&#9889; **Вывод:**\n",
    "\n",
    "В датасете с информацией о покупках:\n",
    "\n",
    "- всего десять каналов привлечения (помимо естественного, без посредников),\n",
    "- средняя стоимость привлечения клиента - 58.61 (при медианой - 12.29 и 75%-процентиле равным 33.60),\n",
    "- TipTop (304.17) и FaceBoom (180.25) лидируют с отрывом, самый дешевый - YRabbit (5.25),\n",
    "- к каждому из источников обращались по 180 раз,\n",
    "- самое раннее наблюдение о понесенных расходах - 01.05.2019 года, самое позднее - 27.10.2019 года."
   ]
  },
  {
   "cell_type": "markdown",
   "id": "4d4f0daf-3c59-4a27-aefe-5465e24a809b",
   "metadata": {
    "tags": []
   },
   "source": [
    "### - объеденим полученные таблицы с расходами на источник и привлеченными по источнику"
   ]
  },
  {
   "cell_type": "code",
   "execution_count": 102,
   "id": "20ef1314-b168-4005-a5f5-e64eaeae3202",
   "metadata": {},
   "outputs": [
    {
     "data": {
      "text/html": [
       "<div>\n",
       "<style scoped>\n",
       "    .dataframe tbody tr th:only-of-type {\n",
       "        vertical-align: middle;\n",
       "    }\n",
       "\n",
       "    .dataframe tbody tr th {\n",
       "        vertical-align: top;\n",
       "    }\n",
       "\n",
       "    .dataframe thead th {\n",
       "        text-align: right;\n",
       "    }\n",
       "</style>\n",
       "<table border=\"1\" class=\"dataframe\">\n",
       "  <thead>\n",
       "    <tr style=\"text-align: right;\">\n",
       "      <th></th>\n",
       "      <th>channel</th>\n",
       "      <th>costs</th>\n",
       "      <th>cost_sum_by_channel</th>\n",
       "      <th>% of total costs</th>\n",
       "      <th>total_customers</th>\n",
       "      <th>% of observations</th>\n",
       "    </tr>\n",
       "  </thead>\n",
       "  <tbody>\n",
       "    <tr>\n",
       "      <th>0</th>\n",
       "      <td>AdNonSense</td>\n",
       "      <td>21.73</td>\n",
       "      <td>944.22</td>\n",
       "      <td>0.52</td>\n",
       "      <td>6891</td>\n",
       "      <td>2.22</td>\n",
       "    </tr>\n",
       "    <tr>\n",
       "      <th>1</th>\n",
       "      <td>FaceBoom</td>\n",
       "      <td>180.25</td>\n",
       "      <td>954.48</td>\n",
       "      <td>0.53</td>\n",
       "      <td>49022</td>\n",
       "      <td>15.82</td>\n",
       "    </tr>\n",
       "    <tr>\n",
       "      <th>2</th>\n",
       "      <td>LeapBob</td>\n",
       "      <td>9.99</td>\n",
       "      <td>1557.60</td>\n",
       "      <td>0.87</td>\n",
       "      <td>17013</td>\n",
       "      <td>5.49</td>\n",
       "    </tr>\n",
       "    <tr>\n",
       "      <th>3</th>\n",
       "      <td>MediaTornado</td>\n",
       "      <td>5.30</td>\n",
       "      <td>1797.60</td>\n",
       "      <td>1.00</td>\n",
       "      <td>8878</td>\n",
       "      <td>2.86</td>\n",
       "    </tr>\n",
       "    <tr>\n",
       "      <th>4</th>\n",
       "      <td>OppleCreativeMedia</td>\n",
       "      <td>11.95</td>\n",
       "      <td>1833.00</td>\n",
       "      <td>1.02</td>\n",
       "      <td>16794</td>\n",
       "      <td>5.42</td>\n",
       "    </tr>\n",
       "    <tr>\n",
       "      <th>5</th>\n",
       "      <td>RocketSuperAds</td>\n",
       "      <td>10.18</td>\n",
       "      <td>2151.25</td>\n",
       "      <td>1.20</td>\n",
       "      <td>12724</td>\n",
       "      <td>4.11</td>\n",
       "    </tr>\n",
       "    <tr>\n",
       "      <th>6</th>\n",
       "      <td>TipTop</td>\n",
       "      <td>304.17</td>\n",
       "      <td>3911.25</td>\n",
       "      <td>2.17</td>\n",
       "      <td>54794</td>\n",
       "      <td>17.68</td>\n",
       "    </tr>\n",
       "    <tr>\n",
       "      <th>7</th>\n",
       "      <td>WahooNetBanner</td>\n",
       "      <td>28.62</td>\n",
       "      <td>5151.00</td>\n",
       "      <td>2.86</td>\n",
       "      <td>20465</td>\n",
       "      <td>6.60</td>\n",
       "    </tr>\n",
       "    <tr>\n",
       "      <th>8</th>\n",
       "      <td>YRabbit</td>\n",
       "      <td>5.25</td>\n",
       "      <td>32445.60</td>\n",
       "      <td>18.03</td>\n",
       "      <td>9053</td>\n",
       "      <td>2.92</td>\n",
       "    </tr>\n",
       "    <tr>\n",
       "      <th>9</th>\n",
       "      <td>lambdaMediaAds</td>\n",
       "      <td>8.65</td>\n",
       "      <td>54751.30</td>\n",
       "      <td>30.42</td>\n",
       "      <td>6507</td>\n",
       "      <td>2.10</td>\n",
       "    </tr>\n",
       "  </tbody>\n",
       "</table>\n",
       "</div>"
      ],
      "text/plain": [
       "              channel  costs  cost_sum_by_channel  % of total costs  \\\n",
       "0          AdNonSense  21.73               944.22              0.52   \n",
       "1            FaceBoom 180.25               954.48              0.53   \n",
       "2             LeapBob   9.99              1557.60              0.87   \n",
       "3        MediaTornado   5.30              1797.60              1.00   \n",
       "4  OppleCreativeMedia  11.95              1833.00              1.02   \n",
       "5      RocketSuperAds  10.18              2151.25              1.20   \n",
       "6              TipTop 304.17              3911.25              2.17   \n",
       "7      WahooNetBanner  28.62              5151.00              2.86   \n",
       "8             YRabbit   5.25             32445.60             18.03   \n",
       "9      lambdaMediaAds   8.65             54751.30             30.42   \n",
       "\n",
       "   total_customers  % of observations  \n",
       "0             6891               2.22  \n",
       "1            49022              15.82  \n",
       "2            17013               5.49  \n",
       "3             8878               2.86  \n",
       "4            16794               5.42  \n",
       "5            12724               4.11  \n",
       "6            54794              17.68  \n",
       "7            20465               6.60  \n",
       "8             9053               2.92  \n",
       "9             6507               2.10  "
      ]
     },
     "execution_count": 102,
     "metadata": {},
     "output_type": "execute_result"
    }
   ],
   "source": [
    "channels_grouped = channels_mean_costs.merge(channel_count.query('channel != \"organic\"'), on='channel').drop(['unique_id', '% of unique id'], axis=1)\n",
    "channels_grouped.rename(columns={'user_id': 'total_customers'})"
   ]
  },
  {
   "cell_type": "markdown",
   "id": "01794938-c0fc-43f4-9ba9-775c13e27cad",
   "metadata": {
    "tags": []
   },
   "source": [
    "## Вывод<a class=\"anchor\" id=\"2_conclusion\"></a>"
   ]
  },
  {
   "cell_type": "markdown",
   "id": "a3674ed4-725d-41ca-80a5-881b80d6b5ac",
   "metadata": {},
   "source": [
    "Исходя из представленных данных и описаний данных, можно сделать следующие выводы:\n",
    "\n",
    "- представлены сведения о 4 регионах, больше всего наблюдений о пользователях из США - 207 327 из 309 901 наблюдения (67%), больше всего пользовавшихся iPhone - 112 603 из 309 901 наблюдения (36%),\n",
    "- минимальная сумма выручки - 4.99, средняя - 5.37, максимальная - 49.99,\n",
    "- из 40 185 платящих пользователей - 1581 (4%) платит больше базового тарифа,\n",
    "- более трети пользователей пришли напрямую - 107 760 из 309 901 (36%),\n",
    "- помимо прямой покупки, с большим отрывом лидируют источники привлечения - TipTop (54 794, 18%) и FaceBoom (20204, 16%), они же и являются самыми дорогими со средней стоимостью 304.17 и 180.25, соответственно,\n",
    "- 48% всего рекламного бюджета потрачено на YRabbit и lambdaMediaAds, которые вместе привели 15 560 пользователей (5 %).\n",
    "\n"
   ]
  },
  {
   "cell_type": "markdown",
   "id": "f6f15f07-59e7-48bc-a505-3682a5f2a8bb",
   "metadata": {},
   "source": [
    "[В оглавление](#TOC)"
   ]
  },
  {
   "cell_type": "markdown",
   "id": "aa985dd9-c0e2-4328-9933-d6ec5b4ff738",
   "metadata": {},
   "source": [
    "# III. Маркетинговый анализ<a class='anchor' id='3'>\n",
    "***"
   ]
  },
  {
   "cell_type": "markdown",
   "id": "9e76bf89-53d8-42c8-879c-63078a5b1004",
   "metadata": {},
   "source": []
  },
  {
   "cell_type": "code",
   "execution_count": null,
   "id": "1bcd5866-8cd9-4f7c-b2a4-3325af107e83",
   "metadata": {},
   "outputs": [],
   "source": [
    "from calculator.calculator import MetricCalculator"
   ]
  },
  {
   "cell_type": "code",
   "execution_count": null,
   "id": "c8d12a1e-e4f6-498d-9385-661f154913e9",
   "metadata": {},
   "outputs": [],
   "source": [
    "calc = MetricCalculator('datasets/visits_info_short.csv', 'datasets/orders_info_short.csv', 'datasets/costs_info_short.csv')"
   ]
  },
  {
   "cell_type": "code",
   "execution_count": null,
   "id": "f0af3de4-6261-4bf0-accf-3b56600182a0",
   "metadata": {},
   "outputs": [],
   "source": [
    "calc.columns_fixer()"
   ]
  },
  {
   "cell_type": "code",
   "execution_count": null,
   "id": "88b7ecd0-264b-4171-a1b3-741e9250288e",
   "metadata": {},
   "outputs": [],
   "source": [
    "observation_date = datetime(2019, 11, 1).date()\n",
    "horizon_days = 30"
   ]
  },
  {
   "cell_type": "code",
   "execution_count": null,
   "id": "466d6603-ec63-42cf-a60a-f7a6f8d1084b",
   "metadata": {},
   "outputs": [],
   "source": [
    "profiles = calc.get_profiles()"
   ]
  },
  {
   "cell_type": "code",
   "execution_count": null,
   "id": "9d4ce19b-5679-4c83-81a8-14bcd90c5733",
   "metadata": {},
   "outputs": [],
   "source": [
    "profiles"
   ]
  },
  {
   "cell_type": "code",
   "execution_count": null,
   "id": "2aa4974f-e7ca-4132-a33b-9d4716c4761f",
   "metadata": {},
   "outputs": [],
   "source": [
    "retention_raw, retention_grouped, retention_hist = calc.get_retention(profiles, observation_date, horizon_days)"
   ]
  },
  {
   "cell_type": "code",
   "execution_count": null,
   "id": "9dea594b-328a-4322-91cd-9b47df234b37",
   "metadata": {},
   "outputs": [],
   "source": [
    "calc.plot_retention(retention_grouped, retention_hist, horizon_days)"
   ]
  },
  {
   "cell_type": "code",
   "execution_count": null,
   "id": "a8e6ac11-437c-4b15-8f14-b86ed55bf643",
   "metadata": {},
   "outputs": [],
   "source": [
    "cr_raw, cr_grouped, cr_hist = calc.get_conversion(profiles, observation_date, horizon_days)"
   ]
  },
  {
   "cell_type": "code",
   "execution_count": null,
   "id": "96d0e9e9-0c57-41d8-a925-39ad0de39d36",
   "metadata": {},
   "outputs": [],
   "source": [
    "calc.plot_conversion(cr_grouped, cr_hist, horizon_days)"
   ]
  },
  {
   "cell_type": "code",
   "execution_count": null,
   "id": "0c291b40-e456-439a-aa84-3fd75d210f2c",
   "metadata": {},
   "outputs": [],
   "source": [
    "ltv_raw, ltv_grouped, ltv_hist, roi_grouped, roi_hist = calc.get_ltv(profiles, observation_date, horizon_days)"
   ]
  },
  {
   "cell_type": "code",
   "execution_count": null,
   "id": "84a86221-0a07-4719-ab4e-ba312d0fea70",
   "metadata": {},
   "outputs": [],
   "source": [
    "calc.plot_ltv_roi(ltv_grouped, ltv_hist, roi_grouped, roi_hist, horizon_days) "
   ]
  },
  {
   "cell_type": "code",
   "execution_count": null,
   "id": "2baf0578-8268-463f-a4c6-51761845fc82",
   "metadata": {},
   "outputs": [],
   "source": [
    "ltv_raw, ltv_grouped, ltv_hist, roi_grouped, roi_hist = calc.get_ltv(profiles, observation_date, horizon_days, dimensions=['region'])"
   ]
  },
  {
   "cell_type": "code",
   "execution_count": null,
   "id": "19a0e871-b48b-4923-a071-c71609186625",
   "metadata": {},
   "outputs": [],
   "source": [
    "calc.plot_ltv_roi(ltv_grouped, ltv_hist, roi_grouped, roi_hist, horizon_days, window=14) "
   ]
  },
  {
   "cell_type": "code",
   "execution_count": null,
   "id": "4df0895a-f9a8-431f-9544-bfa78f970d7a",
   "metadata": {},
   "outputs": [],
   "source": [
    "ltv_raw, ltv_grouped, ltv_hist, roi_grouped, roi_hist = calc.get_ltv(profiles, observation_date, horizon_days, dimensions=['channel'])"
   ]
  },
  {
   "cell_type": "code",
   "execution_count": null,
   "id": "ee1d0379-38ff-4410-b028-bded23d0b539",
   "metadata": {},
   "outputs": [],
   "source": [
    "calc.plot_ltv_roi(ltv_grouped, ltv_hist, roi_grouped, roi_hist, horizon_days) "
   ]
  },
  {
   "cell_type": "code",
   "execution_count": null,
   "id": "e57720a7-ce9b-4452-a7b1-3debb24c59f2",
   "metadata": {},
   "outputs": [],
   "source": [
    "ltv_raw, ltv_grouped, ltv_hist, roi_grouped, roi_hist = calc.get_ltv(profiles, observation_date, horizon_days, dimensions=['payer'])"
   ]
  },
  {
   "cell_type": "code",
   "execution_count": null,
   "id": "70756434-e851-457c-afb2-7e5b50676c4d",
   "metadata": {},
   "outputs": [],
   "source": [
    "calc.plot_ltv_roi(ltv_grouped, ltv_hist, roi_grouped, roi_hist, horizon_days) "
   ]
  },
  {
   "cell_type": "code",
   "execution_count": null,
   "id": "0e31a552-76e2-485a-8db3-48590d3e15df",
   "metadata": {},
   "outputs": [],
   "source": [
    "profiles"
   ]
  },
  {
   "cell_type": "code",
   "execution_count": null,
   "id": "cfb3a58b-c948-4141-a8b2-09fe63230a29",
   "metadata": {},
   "outputs": [],
   "source": [
    "roi_hist"
   ]
  },
  {
   "cell_type": "code",
   "execution_count": null,
   "id": "92062319-2b8e-467e-aefb-98bb43c5a4d1",
   "metadata": {},
   "outputs": [],
   "source": [
    "cac_hist = roi_hist[['cac']]"
   ]
  },
  {
   "cell_type": "code",
   "execution_count": null,
   "id": "8e2e172d-498b-4be0-8eab-ffaf0bf79795",
   "metadata": {},
   "outputs": [],
   "source": [
    "columns = [name for name in cac_hist.index.names if name not in ['dt']]"
   ]
  },
  {
   "cell_type": "code",
   "execution_count": null,
   "id": "990f1300-6efa-401e-8388-cbac16810a58",
   "metadata": {},
   "outputs": [],
   "source": [
    "filtered_data = cac_hist.pivot_table(index='dt', columns=columns, values='cac', aggfunc='mean')"
   ]
  },
  {
   "cell_type": "code",
   "execution_count": null,
   "id": "cc6cda48-b8af-4cb2-9c40-c073a5c2159c",
   "metadata": {},
   "outputs": [],
   "source": [
    "filtered_data"
   ]
  },
  {
   "cell_type": "code",
   "execution_count": null,
   "id": "0d6ac938-d621-4a14-b6e9-be0eb9accf43",
   "metadata": {},
   "outputs": [],
   "source": [
    "def filter_data(df, window):\n",
    "    # для каждого столбца применяем скользящее среднее\n",
    "    for column in df.columns.values:\n",
    "        df[column] = df[column].rolling(window).mean() \n",
    "    return df "
   ]
  },
  {
   "cell_type": "code",
   "execution_count": null,
   "id": "ed369131-2d09-4810-87b7-d7889bb75a0b",
   "metadata": {},
   "outputs": [],
   "source": [
    "filtered_data.plot()"
   ]
  },
  {
   "cell_type": "code",
   "execution_count": null,
   "id": "bc3776c5-d4c4-4c0d-b6f4-2fd9bcdff969",
   "metadata": {},
   "outputs": [],
   "source": [
    "from matplotlib import pyplot as plt"
   ]
  },
  {
   "cell_type": "code",
   "execution_count": null,
   "id": "69a396e1-62e3-43eb-9159-76e004b9b331",
   "metadata": {},
   "outputs": [],
   "source": [
    "filter_data(filtered_data, 14).plot()\n",
    "plt.axhline(y=1, color='red', linestyle='--',\n",
    "            label='Уровень окупаемости')"
   ]
  },
  {
   "cell_type": "code",
   "execution_count": null,
   "id": "190fc2d8-197a-4749-bd1c-b76d775d8d50",
   "metadata": {},
   "outputs": [],
   "source": [
    "roi_grouped"
   ]
  },
  {
   "cell_type": "code",
   "execution_count": null,
   "id": "5e71fa27-d93d-4422-9cef-be686ba6a6ab",
   "metadata": {},
   "outputs": [],
   "source": []
  },
  {
   "cell_type": "code",
   "execution_count": null,
   "id": "61793b77-653d-46fd-8c27-dc4807ff5d6c",
   "metadata": {},
   "outputs": [],
   "source": [
    "from datetime import datetime"
   ]
  }
 ],
 "metadata": {
  "kernelspec": {
   "display_name": "venv",
   "language": "python",
   "name": "venv"
  },
  "language_info": {
   "codemirror_mode": {
    "name": "ipython",
    "version": 3
   },
   "file_extension": ".py",
   "mimetype": "text/x-python",
   "name": "python",
   "nbconvert_exporter": "python",
   "pygments_lexer": "ipython3",
   "version": "3.8.8"
  }
 },
 "nbformat": 4,
 "nbformat_minor": 5
}

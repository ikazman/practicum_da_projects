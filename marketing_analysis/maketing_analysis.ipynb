{
 "cells": [
  {
   "cell_type": "markdown",
   "id": "compound-cookbook",
   "metadata": {},
   "source": [
    "# Маркетинговый анализ\n",
    "***"
   ]
  },
  {
   "cell_type": "markdown",
   "id": "gothic-distance",
   "metadata": {},
   "source": [
    "# Описание проекта"
   ]
  },
  {
   "cell_type": "markdown",
   "id": "dramatic-highlight",
   "metadata": {},
   "source": [
    "Маркетинговый анализ развлекательного приложения: необходимо выявить причины убыточности.\n",
    "\n",
    "- лог сервера с данными об их посещениях,\n",
    "- выгрузка их покупок за этот период,\n",
    "- рекламные расходы."
   ]
  },
  {
   "cell_type": "markdown",
   "id": "pressed-province",
   "metadata": {
    "tags": []
   },
   "source": [
    "# Оглавление<a class='anchor' id='TOC'></a>"
   ]
  },
  {
   "cell_type": "markdown",
   "id": "numerous-ensemble",
   "metadata": {},
   "source": [
    "* **[I. Загрузка и подготовка данных](#1)**\n",
    "    - [1) Импортируем библиотеки, объявим класс MetricCalculator для анализа](#1_1)\n",
    "    - [2) Прочитаем данные](#1_2)\n",
    "    - [3) Выведем первые и последние пять строк каждой из таблиц, общую информацию](#1_3)\n",
    "    - [Вывод](#1_conclusion)\n",
    "<br></br>\n",
    "* **[II. Исследовательский анализ данных](#2)**\n",
    "    - [1) Получим профили пользователя для анализа](#2_1)\n",
    "    - [2) Установим момент и горизонт анализа данных](#2_2)\n",
    "    - [3) Исследуем сведения о посещении сайтах](#2_3)\n",
    "        - [из каких стран пользователи](#2_3_1)\n",
    "        - [устройства пользователей](#2_3_2)\n",
    "        - [информация о покупках](#2_3_3)\n",
    "        - [каналы привлечения пользователей](#2_3_4)\n",
    "        - [информация о расходах](#2_3_5)\n",
    "        - [сравним TipTop со всеми остальными платными каналами](#2_3_6)\n",
    "    - [Выводы по итогам EDA](#2_conclusion)\n",
    "<br></br> \n",
    "* **[III. Маркетинговый анализ](#3)**\n",
    "    - [1) Проверим окупаемость рекламы](#3_1)\n",
    "    - [2) Проверим характеристики пользователей](#3_2)\n",
    "        - [страна первого посещения пользователей](#3_2_1)\n",
    "        - [источник привлечения пользователей](#3_2_2)\n",
    "        - [проверим связь пользователей из США и канал привлечения](#3_2_3)\n",
    "        - [проверим каналы привлечения на окупаемость](#3_2_4)\n",
    "        - [устройство пользователей](#3_2_5)\n",
    "        - [устройство пользователей и европейский рынок](#3_2_6)\n",
    "    - [3) Проверим конверсию](#3_3)\n",
    "        - [посчитаем общую конверсию](#3_3_1)\n",
    "        - [посчитаем конверсию по регионам](#3_3_2)\n",
    "        - [посчитаем конверсию по каналам](#3_3_3)\n",
    "        - [посчитаем конверсию по устройствам](#3_3_4)\n",
    "        - [посчитаем длительность пользовательской сессии](#3_3_5)\n",
    "        - [проверим, различаются ли средняя длительность сессии в зависимости от устройства](#3_3_6)\n",
    "        - [проверим, различаются ли средняя длительность сессии для платящих и не платящих пользователей](#3_3_7)\n",
    "        - [проверим, различаются ли средняя длительность сессии в зависимости от статуса пользователя](#3_3_8)\n",
    "    - [4) Проверим удержание](#3_4)\n",
    "        - [посчитаем общее удержание](#3_4_1)\n",
    "        - [посчитаем удержание по регионам](#3_4_2)\n",
    "        - [посчитаем удержание по каналам](#3_4_3)\n",
    "        - [посчитаем удержание по устройствам](#3_4_4)\n",
    "    - [Выводы по итогам маркетингового анализа](#3_conclusion)\n",
    "<br></br>"
   ]
  },
  {
   "cell_type": "markdown",
   "id": "synthetic-member",
   "metadata": {},
   "source": [
    "# I. Загрузка и подготовка данных<a class='anchor' id='1'>\n",
    "***"
   ]
  },
  {
   "cell_type": "markdown",
   "id": "stone-milton",
   "metadata": {},
   "source": [
    "## 1) Импортируем библиотеки, объявим класс MetricCalculator для анализа<a class=\"anchor\" id=\"1_1\"></a>"
   ]
  },
  {
   "cell_type": "code",
   "execution_count": null,
   "id": "changed-variance",
   "metadata": {},
   "outputs": [],
   "source": [
    "import warnings\n",
    "from datetime import datetime\n",
    "\n",
    "import pandas as pd\n",
    "from calculator.calculator import MetricCalculator\n",
    "\n",
    "warnings.filterwarnings('ignore')\n",
    "pd.set_option('display.float_format', lambda x: '%.2f' % x)\n"
   ]
  },
  {
   "cell_type": "markdown",
   "id": "flush-sugar",
   "metadata": {},
   "source": [
    "[В оглавление](#TOC)"
   ]
  },
  {
   "cell_type": "markdown",
   "id": "vulnerable-touch",
   "metadata": {},
   "source": [
    "## 2) Прочитаем данные<a class=\"anchor\" id=\"1_2\"></a>"
   ]
  },
  {
   "cell_type": "markdown",
   "id": "mathematical-coordinate",
   "metadata": {},
   "source": [
    "### - описание данных"
   ]
  },
  {
   "cell_type": "markdown",
   "id": "static-journey",
   "metadata": {},
   "source": [
    "Файл visits_info_short.csv хранит лог сервера с информацией о посещениях сайта, orders_info_short.csv — информацию о покупках, а costs_info_short.csv — информацию о расходах на рекламу."
   ]
  },
  {
   "cell_type": "markdown",
   "id": "published-executive",
   "metadata": {},
   "source": [
    "### - создадим экземпляр класса с путями до данных, приведем наименование колонок к едином формату, установим нужный тип данных"
   ]
  },
  {
   "cell_type": "code",
   "execution_count": null,
   "id": "dominican-china",
   "metadata": {},
   "outputs": [],
   "source": [
    "calc = MetricCalculator('datasets/visits_info_short.csv', 'datasets/orders_info_short.csv', 'datasets/costs_info_short.csv')"
   ]
  },
  {
   "cell_type": "code",
   "execution_count": null,
   "id": "german-treatment",
   "metadata": {},
   "outputs": [],
   "source": [
    "calc.columns_fixer()"
   ]
  },
  {
   "cell_type": "markdown",
   "id": "varied-amino",
   "metadata": {},
   "source": [
    "Cоздан экземпляр класса:\n",
    "- данные прочитаны, \n",
    "- наименование колонок приведено к единому формату,\n",
    "- колонки с датами приведены к соответствующему формату.\n",
    "\n",
    "Датасеты доступны через экземпляр класса по именам **visits, orders, costs**."
   ]
  },
  {
   "cell_type": "markdown",
   "id": "disabled-custom",
   "metadata": {},
   "source": [
    "## 3) Выведем первые пять первых и последних строк каждой из таблиц, общую информацию<a class=\"anchor\" id=\"1_3\"></a>"
   ]
  },
  {
   "cell_type": "markdown",
   "id": "hidden-stand",
   "metadata": {
    "tags": []
   },
   "source": [
    "### - visits - посещение сайта"
   ]
  },
  {
   "cell_type": "code",
   "execution_count": null,
   "id": "professional-waterproof",
   "metadata": {},
   "outputs": [],
   "source": [
    "calc.visits"
   ]
  },
  {
   "cell_type": "code",
   "execution_count": null,
   "id": "finite-latin",
   "metadata": {},
   "outputs": [],
   "source": [
    "calc.visits.info()"
   ]
  },
  {
   "cell_type": "markdown",
   "id": "impressive-suspension",
   "metadata": {},
   "source": [
    "&#9889; **Вывод:** в датасете с информацией о посещениях сайта 309 901 строка, без пропусков, без проблем с типами данных."
   ]
  },
  {
   "cell_type": "markdown",
   "id": "upper-dominant",
   "metadata": {},
   "source": [
    "### - orders - информация о покупках"
   ]
  },
  {
   "cell_type": "code",
   "execution_count": null,
   "id": "hazardous-intelligence",
   "metadata": {},
   "outputs": [],
   "source": [
    "calc.orders"
   ]
  },
  {
   "cell_type": "code",
   "execution_count": null,
   "id": "phantom-brass",
   "metadata": {},
   "outputs": [],
   "source": [
    "calc.orders.info()"
   ]
  },
  {
   "cell_type": "markdown",
   "id": "spiritual-cathedral",
   "metadata": {},
   "source": [
    "&#9889; **Вывод:** в датасете с информацией о покупках 40 212 строк (13% от числа визитов), без пропусков, без проблем с типами данных."
   ]
  },
  {
   "cell_type": "markdown",
   "id": "demonstrated-jewelry",
   "metadata": {},
   "source": [
    "### - costs - информация о расходах"
   ]
  },
  {
   "cell_type": "code",
   "execution_count": null,
   "id": "violent-junior",
   "metadata": {},
   "outputs": [],
   "source": [
    "calc.costs"
   ]
  },
  {
   "cell_type": "code",
   "execution_count": null,
   "id": "crazy-express",
   "metadata": {},
   "outputs": [],
   "source": [
    "calc.costs.info()"
   ]
  },
  {
   "cell_type": "markdown",
   "id": "olympic-residence",
   "metadata": {},
   "source": [
    "&#9889; **Вывод:** в датасете с информацией расходах 1800, без пропусков, без проблем с типами данных."
   ]
  },
  {
   "cell_type": "markdown",
   "id": "surface-outline",
   "metadata": {},
   "source": [
    "### - проверим наличие полных дубликатов"
   ]
  },
  {
   "cell_type": "code",
   "execution_count": null,
   "id": "distinct-render",
   "metadata": {},
   "outputs": [],
   "source": [
    "datasets = [calc.visits, calc.orders, calc.costs]\n",
    "duplicated_sum = 0\n",
    "for dataset in datasets:\n",
    "    duplicated_sum += (dataset.duplicated() == True).sum()\n",
    "print(duplicated_sum)"
   ]
  },
  {
   "cell_type": "markdown",
   "id": "governing-bailey",
   "metadata": {},
   "source": [
    "Полных дубликатов нет"
   ]
  },
  {
   "cell_type": "markdown",
   "id": "warming-bullet",
   "metadata": {
    "tags": []
   },
   "source": [
    "## Вывод<a class=\"anchor\" id=\"1_conclusion\"></a>"
   ]
  },
  {
   "cell_type": "markdown",
   "id": "norwegian-opposition",
   "metadata": {},
   "source": [
    "1. Прочитали данные с помощью специального класса, наименование колонок приведено к единому формату, колонки с датами приведены к соответствующему формату. Датасеты доступны через экземпляр класса по именам visits, orders, costs.\n",
    "2. Во всех датасетах нет проблем с типами данных, полные дубликаты отсутствуют, нет пропусков."
   ]
  },
  {
   "cell_type": "markdown",
   "id": "civil-training",
   "metadata": {},
   "source": [
    "[В оглавление](#TOC)"
   ]
  },
  {
   "cell_type": "markdown",
   "id": "flush-uncertainty",
   "metadata": {
    "tags": []
   },
   "source": [
    "# II. Исследовательский анализ данных<a class='anchor' id='2'>\n",
    "***"
   ]
  },
  {
   "cell_type": "code",
   "execution_count": null,
   "id": "expired-calgary",
   "metadata": {},
   "outputs": [],
   "source": [
    "calc.costs"
   ]
  },
  {
   "cell_type": "markdown",
   "id": "suburban-rebel",
   "metadata": {
    "tags": []
   },
   "source": [
    "## 1) Получим профили пользователей<a class=\"anchor\" id=\"2_1\"></a>"
   ]
  },
  {
   "cell_type": "code",
   "execution_count": null,
   "id": "protective-actress",
   "metadata": {},
   "outputs": [],
   "source": [
    "profiles = calc.get_profiles()"
   ]
  },
  {
   "cell_type": "code",
   "execution_count": null,
   "id": "overall-magnitude",
   "metadata": {},
   "outputs": [],
   "source": [
    "profiles"
   ]
  },
  {
   "cell_type": "markdown",
   "id": "norwegian-turning",
   "metadata": {},
   "source": [
    "[В оглавление](#TOC)"
   ]
  },
  {
   "cell_type": "markdown",
   "id": "opposed-bridal",
   "metadata": {},
   "source": [
    "## 2) Установим момент и горизонт анализа данных<a class=\"anchor\" id=\"2_2\"></a>"
   ]
  },
  {
   "cell_type": "markdown",
   "id": "asian-jackson",
   "metadata": {},
   "source": [
    "По условиям задачи на календаре 1 ноября 2019 года, в бизнес-плане заложено, что пользователи должны окупаться не позднее чем через две недели после привлечения:"
   ]
  },
  {
   "cell_type": "code",
   "execution_count": null,
   "id": "tropical-innocent",
   "metadata": {},
   "outputs": [],
   "source": [
    "observation_date = datetime(2019, 11, 1).date()\n",
    "horizon_days = 14"
   ]
  },
  {
   "cell_type": "markdown",
   "id": "charged-practitioner",
   "metadata": {},
   "source": [
    "[В оглавление](#TOC)"
   ]
  },
  {
   "cell_type": "markdown",
   "id": "patent-webmaster",
   "metadata": {},
   "source": [
    "## 3) Исследуем сведения о посещении сайтах<a class=\"anchor\" id=\"2_3\"></a>"
   ]
  },
  {
   "cell_type": "markdown",
   "id": "handmade-energy",
   "metadata": {
    "tags": []
   },
   "source": [
    "### - из каких стран пользователи<a class='anchor' id='2_3_1'></a>"
   ]
  },
  {
   "cell_type": "markdown",
   "id": "certain-polyester",
   "metadata": {},
   "source": [
    "В отношении user_id считать статистику неинформативно - поэтому исключим данный столбец."
   ]
  },
  {
   "cell_type": "code",
   "execution_count": null,
   "id": "sized-language",
   "metadata": {},
   "outputs": [],
   "source": [
    "calc.visits.describe(exclude=['int64']).T.fillna('---')"
   ]
  },
  {
   "cell_type": "markdown",
   "id": "valid-permit",
   "metadata": {},
   "source": [
    "Проверим записи о пользователях из каких стран содержит таблица, определим процент платящих от числа уникальных пользователей и процент от платящих по странам:"
   ]
  },
  {
   "cell_type": "code",
   "execution_count": null,
   "id": "suffering-score",
   "metadata": {},
   "outputs": [],
   "source": [
    "countries_count_by_payer = calc.grouped_summary(profiles, 'region', 'страна')\n",
    "countries_count_by_payer"
   ]
  },
  {
   "cell_type": "markdown",
   "id": "foster-insight",
   "metadata": {},
   "source": [
    "Визуализируем соотношение пользователей по странам:"
   ]
  },
  {
   "cell_type": "code",
   "execution_count": null,
   "id": "negative-press",
   "metadata": {},
   "outputs": [],
   "source": [
    "calc.square_plot(profiles, 'region', title='Соотношение числа клиентов из различных стран')"
   ]
  },
  {
   "cell_type": "code",
   "execution_count": null,
   "id": "different-native",
   "metadata": {},
   "outputs": [],
   "source": [
    "title = 'Страны по числу платящих пользователей'\n",
    "xlabel = 'Страна'\n",
    "ylabel = 'Число пользователей'\n",
    "data = countries_count_by_payer.iloc[:4].sort_values(by='платящие', ascending=False)\n",
    "calc.sns_catplot(x='страна', y='платящие', data=data, title=title, xlabel=xlabel, ylabel=ylabel)"
   ]
  },
  {
   "cell_type": "markdown",
   "id": "powerful-sewing",
   "metadata": {},
   "source": [
    "&#9889; **Вывод:**\n",
    "- из 309 901 наблюдений - 207 327 (67%) сделаны в отношении пользователей из США,\n",
    "- процент платящих по странам - 6.90% в США, 4.11% в Германии, 3.98% в Великобритании и 3.80% во Франции, \n",
    "- в датасете 150 008 уникальных пользователей, из которых платят 8881 (5.92%),\n",
    "- из 8881 платящих пользователей - 6902 (77.72%) из США, 700 (7.88%) из Великобритании, 663 (7.47%) из Франции и 616 (6.94%) из Германии."
   ]
  },
  {
   "cell_type": "markdown",
   "id": "compound-settle",
   "metadata": {},
   "source": [
    "[В оглавление](#TOC)"
   ]
  },
  {
   "cell_type": "markdown",
   "id": "institutional-tractor",
   "metadata": {
    "tags": []
   },
   "source": [
    "### - устройства пользователей<a class='anchor' id='2_3_2'></a>"
   ]
  },
  {
   "cell_type": "code",
   "execution_count": null,
   "id": "constant-liability",
   "metadata": {},
   "outputs": [],
   "source": [
    "devices_by_payer = calc.grouped_summary(profiles, 'device', 'устройство')\n",
    "devices_by_payer"
   ]
  },
  {
   "cell_type": "markdown",
   "id": "convertible-doctrine",
   "metadata": {},
   "source": [
    "Визуализируем соотношение устройств по числу уникальных пользователей:"
   ]
  },
  {
   "cell_type": "code",
   "execution_count": null,
   "id": "engaged-norwegian",
   "metadata": {},
   "outputs": [],
   "source": [
    "calc.square_plot(profiles, 'device', title='Соотношение различных устройств клиентов')"
   ]
  },
  {
   "cell_type": "code",
   "execution_count": null,
   "id": "electrical-position",
   "metadata": {},
   "outputs": [],
   "source": [
    "title = 'Устройства по числу платящих пользователей'\n",
    "xlabel = 'Устройство'\n",
    "ylabel = 'Число пользователей'\n",
    "data = devices_by_payer.iloc[:4].sort_values(by='платящие', ascending=False)\n",
    "calc.sns_catplot(x='устройство', y='платящие', data=data, title=title, xlabel=xlabel, ylabel=ylabel)"
   ]
  },
  {
   "cell_type": "markdown",
   "id": "gross-product",
   "metadata": {},
   "source": [
    "&#9889; **Вывод:**\n",
    "- клиенты пользуются приложением с четырех устройств - PC, Mac, Android, iPhone,\n",
    "- наблюдения об устройствах распределены равномернее, чем между странами,\n",
    "- из 150 008 пользователей платящие используют больше всего MAC (6.36%), затем идут iPhone (6.21%), Android (5.85%) и PC (5.05%),\n",
    "- из 8881 платящих - 3382 (38.08%) пользователей iPhone, 2050 (23.08%) пользователей Android, 1912 пользователей Mac (21.53%), пользователей PC (17.31%)."
   ]
  },
  {
   "cell_type": "markdown",
   "id": "practical-character",
   "metadata": {},
   "source": [
    "[В оглавление](#TOC)"
   ]
  },
  {
   "cell_type": "markdown",
   "id": "three-custom",
   "metadata": {},
   "source": [
    "### - информация о покупках<a class='anchor' id='2_3_3'></a>"
   ]
  },
  {
   "cell_type": "code",
   "execution_count": null,
   "id": "official-result",
   "metadata": {},
   "outputs": [],
   "source": [
    "calc.orders.describe(include=['float64']).T"
   ]
  },
  {
   "cell_type": "code",
   "execution_count": null,
   "id": "intensive-business",
   "metadata": {},
   "outputs": [],
   "source": [
    "calc.orders.describe(include=['object', 'datetime64[ns]']).T"
   ]
  },
  {
   "cell_type": "markdown",
   "id": "pointed-ancient",
   "metadata": {},
   "source": [
    "С учетом того, что 75%-перцентиль - 4.99 (совпадающий с медианой, 25%-перцентилем и минимумом), максимальная сумма выручки - 49.99, проверим какие значения выручки есть в датасете:"
   ]
  },
  {
   "cell_type": "code",
   "execution_count": null,
   "id": "worst-solomon",
   "metadata": {},
   "outputs": [],
   "source": [
    "sorted(calc.orders.revenue.unique())"
   ]
  },
  {
   "cell_type": "markdown",
   "id": "wound-niger",
   "metadata": {},
   "source": [
    "Всего пять значений стоимости услуги. Проверим сколько пользователей платят больше 4.99, возможно, таких пользователей стоит рассматривать отдельно:"
   ]
  },
  {
   "cell_type": "code",
   "execution_count": null,
   "id": "civilian-album",
   "metadata": {},
   "outputs": [],
   "source": [
    "max_revenue = calc.orders.groupby('revenue').agg({'user_id': 'count'}).reset_index()\n",
    "max_revenue['%'] = (max_revenue['user_id'] / len(calc.orders)) * 100\n",
    "max_revenue"
   ]
  },
  {
   "cell_type": "markdown",
   "id": "automatic-hawaii",
   "metadata": {},
   "source": [
    "Примерно 5% пользователей платят больше базовой стоимости. Посчитаем общее число таких пользователей:"
   ]
  },
  {
   "cell_type": "code",
   "execution_count": null,
   "id": "usual-attempt",
   "metadata": {},
   "outputs": [],
   "source": [
    "sum(max_revenue[max_revenue['revenue'] > 4.99]['user_id'])"
   ]
  },
  {
   "cell_type": "markdown",
   "id": "olympic-board",
   "metadata": {},
   "source": [
    "&#9889; **Вывод**\n",
    "\n",
    "В датасете с информацией о покупках:\n",
    "\n",
    "- отсутствуют сведения о валюте в которой выражена выручка,\n",
    "- принимая во внимание, что 67% пользователей из США, можно предположить, что валюта выручки - доллары США,\n",
    "- выявлено 5 различных стоимостей услуг - 4.99, 5.99, 9.99, 19.99, 49.99.\n",
    "- минимальная сумма выручки - 4.99, средняя - 5.37 (при медианной и 75%-перцентиле - 4.99), максимальная - 49.99,\n",
    "- из 40 185 платящих пользователей - 1581 (4%) платит больше базового тарифа,\n",
    "- самое раннее наблюдение о первом действии совпадает с датасетом о посещениях - 01.05.2019 года, самое позднее - 31.10.2019 года."
   ]
  },
  {
   "cell_type": "markdown",
   "id": "worst-ecology",
   "metadata": {},
   "source": [
    "[В оглавление](#TOC)"
   ]
  },
  {
   "cell_type": "markdown",
   "id": "alert-friend",
   "metadata": {
    "tags": []
   },
   "source": [
    "### - каналы привлечения пользователей<a class='anchor' id='2_3_4'></a>"
   ]
  },
  {
   "cell_type": "code",
   "execution_count": null,
   "id": "ceramic-clock",
   "metadata": {},
   "outputs": [],
   "source": [
    "channels_by_payer = calc.grouped_summary(profiles, 'channel', 'канал')\n",
    "channels_by_payer"
   ]
  },
  {
   "cell_type": "markdown",
   "id": "catholic-modern",
   "metadata": {},
   "source": [
    "Визуализируем соотношение уникальных пользователей по источникам привлечения:"
   ]
  },
  {
   "cell_type": "code",
   "execution_count": null,
   "id": "operational-medium",
   "metadata": {},
   "outputs": [],
   "source": [
    "calc.square_plot(profiles, 'channel', title='Соотношение различных источников привлечения клиентов')"
   ]
  },
  {
   "cell_type": "code",
   "execution_count": null,
   "id": "fresh-pakistan",
   "metadata": {},
   "outputs": [],
   "source": [
    "title = 'Пользователи по каждому из каналов привлечения'\n",
    "xlabel = 'Рекламный канал'\n",
    "ylabel = 'Число привлеченных пользователей'\n",
    "data = channels_by_payer.iloc[:10].sort_values(by='платящие', ascending=False)\n",
    "calc.sns_catplot(x='канал', y='платящие', data=data, title=title, xlabel=xlabel, ylabel=ylabel)"
   ]
  },
  {
   "cell_type": "markdown",
   "id": "decreased-millennium",
   "metadata": {},
   "source": [
    "&#9889; **Вывод:**\n",
    "\n",
    "- одиннадцать источников привлечения клиентов: один естественный, без посредников, десять - рекламные каналы,\n",
    "- без посредников пришло более трети уникальных пользователей - 56 439 (37.6 %), из которых 1160 конвертировались в платящих (2.06%),\n",
    "- из 8881 платящих 61.2% пришли из двух источников - 3557 (40.05% от платящих пользователей) пользователей привел FaceBoom, 1878 (21.15% от платящих пользователей) TipTop,\n",
    "- с учетом естественного источника (13.06% от платящих пользователей), FaceBoom и TipTop на - оставшиеся 25.74% от платящих пользователей приходятся на 8 других каналов."
   ]
  },
  {
   "cell_type": "markdown",
   "id": "useful-ontario",
   "metadata": {},
   "source": [
    "[В оглавление](#TOC)"
   ]
  },
  {
   "cell_type": "markdown",
   "id": "built-romance",
   "metadata": {
    "tags": []
   },
   "source": [
    "### - информация о расходах<a class='anchor' id='2_3_5'></a>"
   ]
  },
  {
   "cell_type": "code",
   "execution_count": null,
   "id": "increasing-portsmouth",
   "metadata": {},
   "outputs": [],
   "source": [
    "calc.costs.describe().T"
   ]
  },
  {
   "cell_type": "markdown",
   "id": "pretty-doubt",
   "metadata": {},
   "source": [
    "Минимально - 0.80, средняя стоимость источника - 58.61 (при медианной - 12.29 и 75%-перцентиле равным 33.60). Есть очень дорогие источники. Проверим среднюю стоимость привлечения по каждому источнику в разрезе на клиента: "
   ]
  },
  {
   "cell_type": "code",
   "execution_count": null,
   "id": "informational-underwear",
   "metadata": {},
   "outputs": [],
   "source": [
    "# посчитаем сколько раз обращались к каждому источнику\n",
    "applied_to_channel = (calc.costs.groupby('channel')\n",
    "                                .agg({'dt': 'count'})\n",
    "                                .reset_index()\n",
    "                                .rename(columns={'channel': 'канал', 'dt': 'дней закупки трафика'}))\n",
    "\n",
    "# посчитаем отдельно среднюю стоимость привлечения клиента по источнику, чтобы потом не избавляться от мультиндекса\n",
    "channels_acquisition_costs = (profiles.groupby('channel')\n",
    "                               .agg({'acquisition_cost': 'mean'})\n",
    "                               .reset_index()\n",
    "                               .rename(columns={'channel': 'канал',\n",
    "                                                'acquisition_cost': 'затраты на привлечение'}))\n",
    "\n",
    "# посчитаем затраченную на каждый из каналов сумму и % от бюджета\n",
    "channels_costs = (profiles.groupby('channel')\n",
    "                          .agg({'acquisition_cost': 'sum'})\n",
    "                          .reset_index()\n",
    "                          .sort_values(by='acquisition_cost'))\n",
    "channels_costs['% от рекламного бюджета'] = (channels_costs['acquisition_cost'] * 100 / \n",
    "                                             sum(channels_costs['acquisition_cost']))\n",
    "channels_costs = channels_costs.rename(columns={'channel': 'канал',\n",
    "                                                'acquisition_cost': 'сумма трат',\n",
    "                                                'acquisition_cost_y': 'средняя стоимость'})\n",
    "\n",
    "# объединим таблицу с затратами с таблицей обращений и числом привлеченных\n",
    "channels_costs = channels_costs.merge(channels_by_payer, on='канал')\n",
    "channels_costs = channels_costs.merge(channels_acquisition_costs, on='канал')\n",
    "channels_costs = channels_costs.merge(applied_to_channel, on='канал')\n",
    "\n",
    "# дополним таблицу строкой с естественным источником\n",
    "organic_row = channels_by_payer.query('канал == \"organic\"')\n",
    "channels_costs = channels_costs.append(organic_row, ignore_index=True).fillna(0)\n",
    "\n",
    "# дополним таблицу суммирующую строку\n",
    "sums_row = pd.Series(['---', sum(channels_costs['сумма трат']),\n",
    "                      sum(channels_costs['% от рекламного бюджета']),\n",
    "                      sum(channels_costs['платящие']),\n",
    "                      sum(channels_costs['% от платящих']),\n",
    "                      sum(channels_costs['число клиентов']),\n",
    "                      sum(channels_costs['% платящих']),\n",
    "                      channels_costs['затраты на привлечение'].mean(),\n",
    "                      sum(channels_costs['дней закупки трафика'])],\n",
    "                      index=channels_costs.columns)\n",
    "channels_costs = channels_costs.sort_values(by='сумма трат')\n",
    "channels_costs = channels_costs.append(sums_row, ignore_index=True)\n",
    "\n",
    "channels_costs"
   ]
  },
  {
   "cell_type": "markdown",
   "id": "higher-tooth",
   "metadata": {},
   "source": [
    "Визуализируем траты на каналы:"
   ]
  },
  {
   "cell_type": "code",
   "execution_count": null,
   "id": "eastern-nepal",
   "metadata": {},
   "outputs": [],
   "source": [
    "data = channels_costs.query('канал not in [\"organic\", \"---\"]').sort_values(by='сумма трат', ascending=False)\n",
    "ylabel = 'Сумма трат'\n",
    "xlabel = 'Источник привлечения'\n",
    "title = 'Сумма трат на источник'\n",
    "calc.sns_catplot(x='канал', y='сумма трат', data=data, xlabel=xlabel, ylabel=ylabel, title=title)"
   ]
  },
  {
   "cell_type": "markdown",
   "id": "located-roots",
   "metadata": {},
   "source": [
    "&#9889; **Вывод:**\n",
    "\n",
    "- у каждому из рекламных источников закупали трафик 180 дней,\n",
    "- самое раннее наблюдение о понесенных расходах - 01.05.2019 года, самое позднее - 27.10.2019 года,\n",
    "- за период от 01.05.2019 до 27.10.2019 года потратили 105 497 долларов,\n",
    "- львиная доля бюджета 87 196.90 долларов (82.65%) направлена на TipTop - 54751.30 долларов (51.9%) и FaceBoom - 32445.60 долларов (30.75%).\n",
    "- самая высокая стоимость привлечения у TipTop - 2.80 долларов, на втором месте FaceBoom - 1.11 долларов, на третьем месте AdNonSense - 1.01 доллар, в остальных источника в дипазоне от 21 до 60 центов,\n",
    "- кроме FaceBoom и TipTop требуется проверить AdNonSense - через канал приходит совсем мало новых пользователей (3880), и хотя 11% (440) стали платить, стоимость привлечения в 1.01 доллар соперничает с FaceBoom. То есть канал может быть и эффективный, но из-за масштаба траты на него не оправданы,\n",
    "- исходя из представленных данных, представляется, что самый неэффективный канал TipTop - канал обеспечил 21.15% (1878) от всех платящих (8881), но сумма трат на канал - 54751.30 долларов, стоимость привлечения 2.80 долларов выбивается из общего ряда.\n"
   ]
  },
  {
   "cell_type": "markdown",
   "id": "flying-customer",
   "metadata": {},
   "source": [
    "[В оглавление](#TOC)"
   ]
  },
  {
   "cell_type": "markdown",
   "id": "optional-travel",
   "metadata": {},
   "source": [
    "### - сравним TipTop со всеми остальными платными каналами<a class='anchor' id='2_3_6'></a>"
   ]
  },
  {
   "cell_type": "code",
   "execution_count": null,
   "id": "confirmed-indonesian",
   "metadata": {},
   "outputs": [],
   "source": [
    "# отберем TipTop\n",
    "tip_top = pd.DataFrame(channels_costs.query('канал == \"TipTop\"').sum()).reset_index()\n",
    "tip_top = tip_top.rename(columns={'index': 'аттрибут', 0: 'TipTop'})\n",
    "\n",
    "# отберем остальных, суммируем их результаты\n",
    "others = pd.DataFrame(channels_costs.query('канал not in [\"TipTop\", \"organic\", \"---\"]').sum()).reset_index()\n",
    "others = others.rename(columns={'index': 'аттрибут', 0: 'остальные'})\n",
    "\n",
    "tip_top.merge(others, on='аттрибут').drop([0, 6, 7])"
   ]
  },
  {
   "cell_type": "markdown",
   "id": "public-sucking",
   "metadata": {},
   "source": [
    "&#9889; **Вывод:**\n",
    "\n",
    "- TipTop не оправдывают себя: сумма трат превышает все девять источников вместе взятые на 4005,30 долларов, но он приводит в три раза меньше новых клиентов (19561 против 74008), и в три раза меньше платящих клиентов (1878 - 21.15% против 5843 - 65.79%)."
   ]
  },
  {
   "cell_type": "markdown",
   "id": "white-rotation",
   "metadata": {},
   "source": [
    "[В оглавление](#TOC)"
   ]
  },
  {
   "cell_type": "markdown",
   "id": "suspected-cigarette",
   "metadata": {
    "tags": []
   },
   "source": [
    "## Выводы по итогам EDA<a class=\"anchor\" id=\"2_conclusion\"></a>"
   ]
  },
  {
   "cell_type": "markdown",
   "id": "prime-whale",
   "metadata": {},
   "source": [
    "Исходя из представленных данных можно сделать выводы:\n",
    "\n",
    "\n",
    "**1. Минимальная и максимальная даты привлечения пользователей**\n",
    "- самое раннее наблюдение о первом действии - 01.05.2019 года, самое позднее - 31.10.2019 года,\n",
    "\n",
    "\n",
    "**2. Страны происхождения посетителей и клиентов**\n",
    "- клиенты приходят из четырех стран – США, Великобритании, Франции и Германии,\n",
    "- из 309 901 наблюдений - 207 327 (67%) сделаны в отношении пользователей из США,\n",
    "- в датасете 150 008 уникальных пользователей, из которых платят 8881 (6%),\n",
    "- из 8 881 платящих пользователей - 6902 (77.72%) из США, 700 (7.88%) из Великобритании, 663 (7.47%) из Франции и 616 (6.94%) из Германии,\n",
    "- отсутствуют сведения о валюте в которой выражена выручка: принимая во внимание, что 67% пользователей из США, можно предположить, что валюта выручки - доллары США,\n",
    "\n",
    "\n",
    "**3. Устройства посетителей и клиентов**\n",
    "- клиенты пользуются приложением с четырех устройств - PC, Mac, Android, iPhone,\n",
    "- из 8881 платящих – 3 382 (38.08%) пользователей iPhone, 2 050 (23.08%) пользователей Android, 1912 пользователей Mac (21.53%), пользователей PC (17.31%).\n",
    "\n",
    "\n",
    "**4. Источники привлечения посетителей и клиентов**\n",
    "- привлечение клиентов идет по одиннадцати источникам: один естественный, без посредников, десять - рекламные каналы,\n",
    "- без посредников пришло более трети уникальных пользователей - 56 439 (37.6 %),  32% (48 705) привели FaceBoom и TipTop, на оставшиеся 8 источников приходится 29% (44 864) от уникальных клиентов,\n",
    "- из платящих клиентов 61.2% пришли из двух источников – 3 557 (40.05%) пользователей привел FaceBoom, 1 878 (21.15%) TipTop, 25.74% (2  286) приходятся на 8 других каналов, - еще 13.06% (1160) конвертировались из естественного трафика,\n",
    "\n",
    "\n",
    "**5. Расходы на рекламу**\n",
    "- за период от 01.05.2019 до 27.10.2019 года на рекламу потратили 105 497 долларов,\n",
    "- к каждому из рекламных источников обращались 180 раз,\n",
    "- львиная доля бюджета - 87 196.90 долларов (82.65%) ушла на TipTop - 54751.30 долларов (51.9%) и FaceBoom - 32445.60 долларов (30.75%),\n",
    "- самая высокая стоимость привлечения у TipTop - 2.80 долларов, на втором месте FaceBoom - 1.11 долларов, на третьем месте AdNonSense - 1.01 доллар, привлечение клиентов из - остальных источников обошлось в среднем в стоимость от 60 центов от 21 цента.\n",
    "\n",
    "\n",
    "**6. Неээфективные источники**\n",
    "- TipTop не оправдывает себя: сумма трат превышает все девять источников вместе взятые на 4005,30 долларов, но он приводит в три раза меньше новых клиентов (19561 против 74008), в три раза меньше платящих клиентов (1878 - 21.15% против 5843 - 65.79%) при средней стоимости одного клиента 2.80 долларов,\n",
    "- кроме FaceBoom и TipTop требуется проверить AdNonSense - через канал приходит совсем мало новых пользователей (3880): и хотя 11% (440) стали платить стоимость клиента в 1.01 доллар соперничает с FaceBoom. Канал может быть и эффективный, но из-за масштаба траты на него не оправданы.\n",
    "\n"
   ]
  },
  {
   "cell_type": "markdown",
   "id": "foster-praise",
   "metadata": {},
   "source": [
    "[В оглавление](#TOC)"
   ]
  },
  {
   "cell_type": "markdown",
   "id": "elegant-alexander",
   "metadata": {},
   "source": [
    "# III. Маркетинговый анализ<a class='anchor' id='3'>\n",
    "***"
   ]
  },
  {
   "cell_type": "markdown",
   "id": "impossible-occupation",
   "metadata": {},
   "source": [
    "## 1) Проверим окупаемость рекламы<a class=\"anchor\" id=\"3_1\"></a>"
   ]
  },
  {
   "cell_type": "markdown",
   "id": "exotic-oxide",
   "metadata": {},
   "source": [
    "Рассчитаем и визуализируем LTV и ROI"
   ]
  },
  {
   "cell_type": "code",
   "execution_count": null,
   "id": "talented-coordinate",
   "metadata": {},
   "outputs": [],
   "source": [
    "profiles = profiles.query('channel != \"organic\"')"
   ]
  },
  {
   "cell_type": "code",
   "execution_count": null,
   "id": "satisfactory-equipment",
   "metadata": {},
   "outputs": [],
   "source": [
    "profiles"
   ]
  },
  {
   "cell_type": "code",
   "execution_count": null,
   "id": "opened-exposure",
   "metadata": {},
   "outputs": [],
   "source": [
    "ltv_raw, ltv_grouped, ltv_history, roi_grouped, roi_history = calc.get_ltv(profiles, observation_date, horizon_days)\n",
    "calc.plot_ltv_roi(ltv_grouped, ltv_history, roi_grouped, roi_history, horizon_days, window=14)"
   ]
  },
  {
   "cell_type": "markdown",
   "id": "previous-database",
   "metadata": {},
   "source": [
    "&#9889; **Вывод:**\n",
    "\n",
    "- реклама не окупается в течение 14 дней: ROI в конце периода так и не пересекает границу окупаемости.\n",
    "- динамика LTV сравнительно стабильна, следовательно, качество клиентов не должно оказывать существенного влияния,\n",
    "- CAC нестабилен - на графике существенный рост рекламного бюджета, и обратно пропорциональное ему снижение динамики ROI,"
   ]
  },
  {
   "cell_type": "markdown",
   "id": "concrete-voltage",
   "metadata": {},
   "source": [
    "[В оглавление](#TOC)"
   ]
  },
  {
   "cell_type": "markdown",
   "id": "periodic-freeware",
   "metadata": {
    "tags": []
   },
   "source": [
    "## 2) Проверим характеристики пользователей<a class=\"anchor\" id=\"3_2\"></a>"
   ]
  },
  {
   "cell_type": "markdown",
   "id": "electrical-center",
   "metadata": {},
   "source": [
    "### - страну первого посещения пользователей<a class='anchor' id='3_2_1'></a>"
   ]
  },
  {
   "cell_type": "code",
   "execution_count": null,
   "id": "activated-trouble",
   "metadata": {},
   "outputs": [],
   "source": [
    "dimensions = ['region']\n",
    "ltv_raw, ltv_grouped, ltv_history, roi_grouped, roi_history = calc.get_ltv(profiles, observation_date, horizon_days, dimensions)\n",
    "calc.plot_ltv_roi(ltv_grouped, ltv_history, roi_grouped, roi_history, horizon_days, window=14)"
   ]
  },
  {
   "cell_type": "markdown",
   "id": "partial-prerequisite",
   "metadata": {},
   "source": [
    "&#9889; **Вывод:**\n",
    "\n",
    "- рекламный бюджет стали активно тратить на пользователей из США (взрывной рост расходов по сравнению с иными странами),\n",
    "- реклама в отношении пользователей из США сработала - новых пользователей привлекли,\n",
    "- однако  новые пользователи из США плохо конвертируются в клиентов - отрицательная динамика ROI и, в целом, к концу двухнедельного периода ROI в районе 80%\n",
    "- фактически, из четырех стран в которых продают приложение - убыточны только США,\n",
    "- ранее выявленные аномальные источники привлечения - TipTop, FaceBoom и AdNonSense - возможно, связаны именно с рекламой в США."
   ]
  },
  {
   "cell_type": "markdown",
   "id": "suffering-intention",
   "metadata": {},
   "source": [
    "[В оглавление](#TOC)"
   ]
  },
  {
   "cell_type": "markdown",
   "id": "european-railway",
   "metadata": {
    "tags": []
   },
   "source": [
    "### - источник привлечения пользователей<a class='anchor' id='3_2_2'></a>"
   ]
  },
  {
   "cell_type": "code",
   "execution_count": null,
   "id": "noted-folks",
   "metadata": {},
   "outputs": [],
   "source": [
    "dimensions = ['channel']\n",
    "ltv_raw, ltv_grouped, ltv_history, roi_grouped, roi_history = calc.get_ltv(profiles, observation_date, horizon_days, dimensions)\n",
    "calc.plot_ltv_roi(ltv_grouped, ltv_history, roi_grouped, roi_history, horizon_days, window=14)"
   ]
  },
  {
   "cell_type": "markdown",
   "id": "strange-norman",
   "metadata": {},
   "source": [
    "&#9889; **Вывод:**\n",
    "\n",
    "- как и предполагалось, TipTop, FaceBoom и AdNonSense не окупаются, в отличие от других источников,\n",
    "- TipTop, FaceBoom и AdNonSense показывают отрицательную динамику ROI, при стабильном качестве пользователей,\n",
    "- расходы на TipTop носят взрывной характер - кратное увеличение от когорты к когорте."
   ]
  },
  {
   "cell_type": "markdown",
   "id": "rotary-calcium",
   "metadata": {},
   "source": [
    "[В оглавление](#TOC)"
   ]
  },
  {
   "cell_type": "markdown",
   "id": "secret-original",
   "metadata": {},
   "source": [
    "### - проверим связь пользователей из США и канал привлечения<a class='anchor' id='3_2_3'></a>"
   ]
  },
  {
   "cell_type": "code",
   "execution_count": null,
   "id": "wooden-glance",
   "metadata": {},
   "outputs": [],
   "source": [
    "dimensions = ['region', 'channel']\n",
    "usa_profiles = profiles.query('region == \"United States\"')\n",
    "ltv_raw, ltv_grouped, ltv_history, roi_grouped, roi_history = calc.get_ltv(usa_profiles, observation_date, horizon_days, dimensions)\n",
    "calc.plot_ltv_roi(ltv_grouped, ltv_history, roi_grouped, roi_history, horizon_days, window=14)"
   ]
  },
  {
   "cell_type": "markdown",
   "id": "horizontal-identity",
   "metadata": {},
   "source": [
    "&#9889; **Вывод:**\n",
    "\n",
    "- пользователей из США привлекают из пяти каналов: TipTop, FaceBoom, RocketSuperAds, YRabbit, MediaTornado.\n",
    "- как и в общей картине - TipTop, FaceBoom - не окупаются, динамика ROI отрицательная,\n",
    "- при этом, как раз в отношении TipTop от когорты к когорте растут затраты, при том, что начальная стоимость - ниже FaceBoom (расходы на который стабильны),\n",
    "- возможно, условия размещения рекламы в TipTop следует пересмотреть, равномерный рост расходов от месяца к месяцу при отсутствии существенных колебаний в динамике LTV может свидетельствовать об невыгодных условиях в определении цены размещения,\n",
    "- в случае, если условия размещения нельзя пересмотреть - от TipTop следует отказаться,\n",
    "- кроме TipTop, принимая во внимание результаты от размещения рекламы, FаceBoom представляется невыгодным для размещения,\n",
    "- любопытно, что с помощью AdNonSense не привлекают пользователей из США, что не отменяет их возможную неэффективность - проверим отдельно каналы на окупаемость."
   ]
  },
  {
   "cell_type": "markdown",
   "id": "selective-cursor",
   "metadata": {},
   "source": [
    "[В оглавление](#TOC)"
   ]
  },
  {
   "cell_type": "markdown",
   "id": "adult-horse",
   "metadata": {
    "tags": []
   },
   "source": [
    "### - проверим каналы на окупаемость<a class='anchor' id='3_2_4'></a>"
   ]
  },
  {
   "cell_type": "markdown",
   "id": "played-census",
   "metadata": {},
   "source": [
    "Выделим все источники, которые не окупились к концу второй недели:"
   ]
  },
  {
   "cell_type": "code",
   "execution_count": null,
   "id": "tribal-company",
   "metadata": {},
   "outputs": [],
   "source": [
    "dimensions = ['channel']\n",
    "ltv_raw, ltv_grouped, ltv_history, roi_grouped, roi_history = calc.get_ltv(profiles, observation_date, horizon_days, dimensions)\n",
    "roi_grouped[roi_grouped[13] < 1]"
   ]
  },
  {
   "cell_type": "markdown",
   "id": "documented-disaster",
   "metadata": {},
   "source": [
    "&#9889; **Вывод:**\n",
    "\n",
    "- из десяти платных источников не окупаются AdNonSense (ROI - 0.83), FaceBoom (ROI - 0.74), TipTop (ROI - 0.54),\n",
    "- FaceBoom и TipTop привлекают много, с отрывом, новых пользователей, но они не конвертируются в платящих с достаточной динамикой,\n",
    "- исходя из представленных данных, расходы на FaceBoom и TipTop в США - факторы, способствующие убыточности."
   ]
  },
  {
   "cell_type": "markdown",
   "id": "adopted-spring",
   "metadata": {},
   "source": [
    "[В оглавление](#TOC)"
   ]
  },
  {
   "cell_type": "markdown",
   "id": "unlikely-eleven",
   "metadata": {
    "tags": []
   },
   "source": [
    "### - устройство пользователей<a class='anchor' id='3_2_5'></a>"
   ]
  },
  {
   "cell_type": "code",
   "execution_count": null,
   "id": "valued-philosophy",
   "metadata": {},
   "outputs": [],
   "source": [
    "dimensions = ['device']\n",
    "ltv_raw, ltv_grouped, ltv_history, roi_grouped, roi_history = calc.get_ltv(profiles, observation_date, horizon_days, dimensions)\n",
    "calc.plot_ltv_roi(ltv_grouped, ltv_history, roi_grouped, roi_history, horizon_days, window=14)"
   ]
  },
  {
   "cell_type": "markdown",
   "id": "competitive-division",
   "metadata": {},
   "source": [
    "&#9889; **Вывод:**\n",
    "\n",
    "- на графиках Android, iPhone и Mac лежат ниже порога окупаемости, с отрицательной динамикой ROI к концу двухнедельного периода. \n",
    "- динамика стоимости привлечения пользователей синхронно растет в разрезе по устройствам, так что преждевременно делать вывод о том, что следует отказать от распространения на Android, iPhone и Mac - проверим, не оказывает ли влияние конкретный регион - США."
   ]
  },
  {
   "cell_type": "markdown",
   "id": "naval-contrast",
   "metadata": {},
   "source": [
    "[В оглавление](#TOC)"
   ]
  },
  {
   "cell_type": "markdown",
   "id": "frozen-freedom",
   "metadata": {},
   "source": [
    "### - устройство пользователей и европейский рынок<a class='anchor' id='3_2_6'></a>"
   ]
  },
  {
   "cell_type": "code",
   "execution_count": null,
   "id": "historic-incident",
   "metadata": {},
   "outputs": [],
   "source": [
    "dimensions = ['device', 'region']\n",
    "not_usa_profiles = profiles.query('region != \"United States\"')\n",
    "ltv_raw, ltv_grouped, ltv_history, roi_grouped, roi_history = calc.get_ltv(not_usa_profiles, observation_date, horizon_days, dimensions)\n",
    "calc.plot_ltv_roi(ltv_grouped, ltv_history, roi_grouped, roi_history, horizon_days, window=14)"
   ]
  },
  {
   "cell_type": "markdown",
   "id": "interesting-myanmar",
   "metadata": {},
   "source": [
    "&#9889; **Вывод:**\n",
    "\n",
    "- европейский рынок окупается на всех устройствах,\n",
    "- привлекает внимание волатильность динамики LTV и ROI, есть даже существенные провалы - позже проверим конверсию и удержание,\n",
    "- с учетом результатов - фактор устройства в вопросе окупаемости можно исключить."
   ]
  },
  {
   "cell_type": "markdown",
   "id": "becoming-messenger",
   "metadata": {},
   "source": [
    "[В оглавление](#TOC)"
   ]
  },
  {
   "cell_type": "markdown",
   "id": "indoor-census",
   "metadata": {
    "tags": []
   },
   "source": [
    "## 3) Проверим конверсию<a class=\"anchor\" id=\"3_3\"></a>"
   ]
  },
  {
   "cell_type": "markdown",
   "id": "foreign-singer",
   "metadata": {},
   "source": [
    "### - посчитаем общую конверсию<a class='anchor' id='3_3_1'></a>"
   ]
  },
  {
   "cell_type": "code",
   "execution_count": null,
   "id": "stuck-scheduling",
   "metadata": {},
   "outputs": [],
   "source": [
    "cr_raw, cr_grouped, cr_hist = calc.get_conversion(profiles, observation_date, horizon_days)"
   ]
  },
  {
   "cell_type": "code",
   "execution_count": null,
   "id": "entitled-mississippi",
   "metadata": {},
   "outputs": [],
   "source": [
    "calc.plot_conversion(cr_grouped, cr_hist, horizon_days)"
   ]
  },
  {
   "cell_type": "markdown",
   "id": "general-edmonton",
   "metadata": {},
   "source": [
    "&#9889; **Вывод:**\n",
    "\n",
    "- конверсия в районе 8%,\n",
    "- достаточно надежного источника с анализом конверсии развлекательных приложений на 2019 год не удалось найти, исходя из данных [gamesindustry.biz](https://www.gamesindustry.biz/articles/2019-10-01-on-average-it-costs-usd35-42-to-get-a-mobile-gamer-to-make-first-in-app-purchase) на 01.10.2019 года - в игровых приложениях в тот период в среднем конверсия составляла 10,56% (резюмируя абзац про конверсию в покупку; к сожалению исследование на которое ссылается заметка уже обновилось),\n",
    "- учитывая, что в нашем случае речь идет о немного менее привлекательной категории - entertainment - с некоторой осторожностью можно предположить, что конверсия по состоянию на 2019 год в районе 8% вполне хорошая (и, может даже, отличная)."
   ]
  },
  {
   "cell_type": "markdown",
   "id": "crude-highland",
   "metadata": {},
   "source": [
    "[В оглавление](#TOC)"
   ]
  },
  {
   "cell_type": "markdown",
   "id": "exterior-florist",
   "metadata": {},
   "source": [
    "### - посчитаем  конверсию по регионам<a class='anchor' id='3_3_2'></a>"
   ]
  },
  {
   "cell_type": "code",
   "execution_count": null,
   "id": "intended-chile",
   "metadata": {},
   "outputs": [],
   "source": [
    "dimensions = ['region']\n",
    "cr_raw, cr_grouped, cr_hist = calc.get_conversion(profiles, observation_date, horizon_days, dimensions)\n",
    "calc.plot_conversion(cr_grouped, cr_hist, horizon_days)"
   ]
  },
  {
   "cell_type": "markdown",
   "id": "decreased-deputy",
   "metadata": {},
   "source": [
    "&#9889; **Вывод:**\n",
    "\n",
    "- пользователи из США конвертируется вдвое лучше пользователей из Европы."
   ]
  },
  {
   "cell_type": "markdown",
   "id": "built-wheel",
   "metadata": {},
   "source": [
    "[В оглавление](#TOC)"
   ]
  },
  {
   "cell_type": "markdown",
   "id": "novel-updating",
   "metadata": {},
   "source": [
    "### - посчитаем  конверсию по каналам<a class='anchor' id='3_3_3'></a>"
   ]
  },
  {
   "cell_type": "code",
   "execution_count": null,
   "id": "understood-preparation",
   "metadata": {},
   "outputs": [],
   "source": [
    "dimensions = ['channel']"
   ]
  },
  {
   "cell_type": "code",
   "execution_count": null,
   "id": "systematic-tracker",
   "metadata": {},
   "outputs": [],
   "source": [
    "cr_raw, cr_grouped, cr_hist = calc.get_conversion(profiles, observation_date, horizon_days, dimensions)"
   ]
  },
  {
   "cell_type": "code",
   "execution_count": null,
   "id": "excited-electricity",
   "metadata": {},
   "outputs": [],
   "source": [
    "calc.plot_conversion(cr_grouped, cr_hist, horizon_days)"
   ]
  },
  {
   "cell_type": "markdown",
   "id": "organizational-tenant",
   "metadata": {},
   "source": [
    "&#9889; **Вывод:**\n",
    "\n",
    "- FaceBoom, AdNonSense, LambdaMediaAds показывают лучшую конверсию - выше 10%,\n",
    "- несмотря на конверсию FaceBoom и AdNonSense среди неэффективных каналов."
   ]
  },
  {
   "cell_type": "markdown",
   "id": "hired-comparative",
   "metadata": {},
   "source": [
    "[В оглавление](#TOC)"
   ]
  },
  {
   "cell_type": "markdown",
   "id": "supreme-villa",
   "metadata": {
    "tags": []
   },
   "source": [
    "### - посчитаем  конверсию по устройствам<a class='anchor' id='3_3_4'></a>"
   ]
  },
  {
   "cell_type": "code",
   "execution_count": null,
   "id": "conventional-audience",
   "metadata": {},
   "outputs": [],
   "source": [
    "dimensions = ['device']"
   ]
  },
  {
   "cell_type": "code",
   "execution_count": null,
   "id": "improved-savage",
   "metadata": {},
   "outputs": [],
   "source": [
    "cr_raw, cr_grouped, cr_hist = calc.get_conversion(profiles, observation_date, horizon_days, dimensions)"
   ]
  },
  {
   "cell_type": "code",
   "execution_count": null,
   "id": "exclusive-economics",
   "metadata": {},
   "outputs": [],
   "source": [
    "calc.plot_conversion(cr_grouped, cr_hist, horizon_days)"
   ]
  },
  {
   "cell_type": "markdown",
   "id": "established-weekly",
   "metadata": {},
   "source": [
    "&#9889; **Вывод:**\n",
    "\n",
    "- конверсию пользователей PC ниже пользователей других устройств,\n",
    "- без данных о сущностном содержании и взаимодействии пользователей с приложением затруднительно с разумной степенью достоверности предположить причину более низкой конверсии пользователей PC, но это повод для дополнительного исследования."
   ]
  },
  {
   "cell_type": "markdown",
   "id": "coated-criticism",
   "metadata": {},
   "source": [
    "[В оглавление](#TOC)"
   ]
  },
  {
   "cell_type": "markdown",
   "id": "unusual-admission",
   "metadata": {
    "tags": []
   },
   "source": [
    "### - посчитаем длительность пользовательской сесии<a class='anchor' id='3_3_5'></a>"
   ]
  },
  {
   "cell_type": "markdown",
   "id": "sunrise-memorabilia",
   "metadata": {},
   "source": [
    "Сведения о посещениях хранятся в таблице visits. Колонки, отвечающие за начало и конец сессии - session_start и session_end уже приведены к нужному типу datetime. Сделаем копию таблицы для анализа, выделим месяц сессии:"
   ]
  },
  {
   "cell_type": "code",
   "execution_count": null,
   "id": "federal-jonathan",
   "metadata": {},
   "outputs": [],
   "source": [
    "sessions_df = calc.visits.copy()\n",
    "sessions_df['session_month'] = sessions_df['session_end'].dt.month"
   ]
  },
  {
   "cell_type": "markdown",
   "id": "sharp-fellowship",
   "metadata": {},
   "source": [
    "Посчитаем количество среднее число сессий на пользователей:"
   ]
  },
  {
   "cell_type": "code",
   "execution_count": null,
   "id": "driven-renewal",
   "metadata": {},
   "outputs": [],
   "source": [
    "sessions_per_user = sessions_df.groupby('session_month').agg({'user_id': ['count', 'nunique']})\n",
    "sessions_per_user.columns = ['n_sessions', 'n_users']\n",
    "sessions_per_user['sessions_per_user'] = (sessions_per_user['n_sessions'] / sessions_per_user['n_users'])\n",
    "sessions_per_user"
   ]
  },
  {
   "cell_type": "markdown",
   "id": "associate-circulation",
   "metadata": {},
   "source": [
    "Посчитаем среднюю и медианную продолжительность сессий:"
   ]
  },
  {
   "cell_type": "code",
   "execution_count": null,
   "id": "united-investor",
   "metadata": {},
   "outputs": [],
   "source": [
    "sessions_df['session_duration_sec'] = (sessions_df['session_end'] - sessions_df['session_start']).dt.seconds\n",
    "\n",
    "sessions_df['session_duration_sec'].mean() / 60, sessions_df['session_duration_sec'].median() / 60"
   ]
  },
  {
   "cell_type": "markdown",
   "id": "figured-treaty",
   "metadata": {},
   "source": [
    "Проверим распределение:"
   ]
  },
  {
   "cell_type": "code",
   "execution_count": null,
   "id": "advisory-listing",
   "metadata": {},
   "outputs": [],
   "source": [
    "xlabel = 'Продолжительность сессии (сек.)'\n",
    "ylabel = 'Число пользователей'\n",
    "title = 'Продолжительность сессий пользователей'\n",
    "calc.histogram(sessions_df['session_duration_sec'], 50, 0, 2000, x_label=xlabel, y_label=ylabel, title=title)"
   ]
  },
  {
   "cell_type": "markdown",
   "id": "original-exchange",
   "metadata": {},
   "source": [
    "Есть очень длинные, аномальные, сессиями - более двух часов. Большинство уложилось в получасовой период. Выделим пользователей с продолжительностью сессии более получаса, построим гистограмму:"
   ]
  },
  {
   "cell_type": "code",
   "execution_count": null,
   "id": "seeing-professional",
   "metadata": {},
   "outputs": [],
   "source": [
    "more_then_half_an_hour = sessions_df[sessions_df['session_duration_sec'] > 1800]\n",
    "more_then_half_an_hour"
   ]
  },
  {
   "cell_type": "markdown",
   "id": "prostate-explorer",
   "metadata": {},
   "source": [
    "113905 сессий - почти 37%. Проверим на каких устройствах зафиксированы сессии более получаса."
   ]
  },
  {
   "cell_type": "code",
   "execution_count": null,
   "id": "lined-comfort",
   "metadata": {},
   "outputs": [],
   "source": [
    "more_then_half_an_hour.groupby('device').agg({'user_id': 'count'})"
   ]
  },
  {
   "cell_type": "code",
   "execution_count": null,
   "id": "dying-sleeping",
   "metadata": {},
   "outputs": [],
   "source": [
    "xlabel = 'Продолжительность сессии (сек.)'\n",
    "ylabel = 'Число пользователей'\n",
    "title = 'Продолжительность сессий более получаса'\n",
    "calc.histogram(more_then_half_an_hour['session_duration_sec'], 50, 1600, 9000, x_label=xlabel, y_label=ylabel, title=title)"
   ]
  },
  {
   "cell_type": "markdown",
   "id": "operating-ratio",
   "metadata": {
    "tags": []
   },
   "source": [
    "### - проверим, различаются ли средняя длительность сессии в зависимости от канала привлечения<a class='anchor' id='3_3_6'></a>"
   ]
  },
  {
   "cell_type": "code",
   "execution_count": null,
   "id": "guided-charity",
   "metadata": {},
   "outputs": [],
   "source": [
    "sessions_df.groupby('channel').agg({'session_duration_sec': 'mean'})"
   ]
  },
  {
   "cell_type": "markdown",
   "id": "pursuant-princeton",
   "metadata": {
    "tags": []
   },
   "source": [
    "### - проверим, различаются ли средняя длительность сессии в зависимости от устройства<a class='anchor' id='3_3_6'></a>"
   ]
  },
  {
   "cell_type": "code",
   "execution_count": null,
   "id": "hidden-warner",
   "metadata": {},
   "outputs": [],
   "source": [
    "sessions_df.groupby('channel').agg({'session_duration_sec': 'mean'})"
   ]
  },
  {
   "cell_type": "markdown",
   "id": "defined-uncertainty",
   "metadata": {
    "tags": []
   },
   "source": [
    "### - проверим, различаются ли средняя длительность сессии в зависимости от статуса пользователя<a class='anchor' id='3_3_8'></a>"
   ]
  },
  {
   "cell_type": "code",
   "execution_count": null,
   "id": "devoted-earth",
   "metadata": {},
   "outputs": [],
   "source": [
    "sessions_df = sessions_df.merge(profiles[['user_id', 'payer']], on='user_id')\n",
    "sessions_df.groupby('payer').agg({'session_duration_sec': 'mean'})"
   ]
  },
  {
   "cell_type": "markdown",
   "id": "adjustable-trademark",
   "metadata": {},
   "source": [
    "&#9889; **Вывод:**\n",
    "\n",
    "- в среднем пользователь проводит в приложении менее двух сессий,\n",
    "- средняя продолжительность сессии - 30 минут, медианная - 21 минуту,\n",
    "- почти 37% пользователей проводят в приложении более получаса,\n",
    "- существенных различий во времени сессии в зависимости от устройства, канала привлечения, статуса не выявлено, \n",
    "- исходя из представленных данных, принимая во внимание отсутствие подробного описания приложения, затруднительно сделать вывод с разумной степенью достоверности - являются ли сверхдлительные сессии систематической технической ошибкой или у приложения специфическая аудитория, это требует уточнения,\n",
    "- если исходить из того, что у приложения специфическая аудитория - возможно, в сочетании с продолжительностью сессии количество средних посещений не стоит рассматривать как низкое,\n",
    "- представляется, что отсюда и следует неэффективность рекламы в США - TipTop и FaceBoom рассчитаны на массовую аудиторию, не готовую в большинстве случаев инвестировать в длительные сессии (а уж говоря о пользователях из TipTop отдельно - совершенно точно не готовы)."
   ]
  },
  {
   "cell_type": "markdown",
   "id": "loaded-hawaii",
   "metadata": {},
   "source": [
    "[В оглавление](#TOC)"
   ]
  },
  {
   "cell_type": "markdown",
   "id": "automotive-appliance",
   "metadata": {
    "tags": []
   },
   "source": [
    "## 4) Проверим удержание<a class=\"anchor\" id=\"3_4\"></a>"
   ]
  },
  {
   "cell_type": "markdown",
   "id": "political-honolulu",
   "metadata": {},
   "source": [
    "### - посчитаем общее удержание<a class='anchor' id='3_4_1'></a>"
   ]
  },
  {
   "cell_type": "code",
   "execution_count": null,
   "id": "understanding-favorite",
   "metadata": {},
   "outputs": [],
   "source": [
    "retention_raw, retention_grouped, retention_hist = calc.get_retention(profiles, observation_date, horizon_days)"
   ]
  },
  {
   "cell_type": "code",
   "execution_count": null,
   "id": "adequate-opposition",
   "metadata": {},
   "outputs": [],
   "source": [
    "calc.plot_retention(retention_grouped, retention_hist, horizon_days)"
   ]
  },
  {
   "cell_type": "markdown",
   "id": "dimensional-brake",
   "metadata": {},
   "source": [
    "&#9889; **Вывод:**\n",
    "\n",
    "- общее удержание невысокое, что укладывается в общую картину - уже установлено, что в среднем пользователи заходят в приложение менее двух раз"
   ]
  },
  {
   "cell_type": "markdown",
   "id": "desirable-batman",
   "metadata": {},
   "source": [
    "[В оглавление](#TOC)"
   ]
  },
  {
   "cell_type": "markdown",
   "id": "unexpected-scientist",
   "metadata": {},
   "source": [
    "### - посчитаем удержание по регионам<a class='anchor' id='3_4_2'></a>"
   ]
  },
  {
   "cell_type": "code",
   "execution_count": null,
   "id": "numeric-session",
   "metadata": {},
   "outputs": [],
   "source": [
    "dimensions = ['region']\n",
    "retention_raw, retention_grouped, retention_hist = calc.get_retention(profiles, observation_date, horizon_days, dimensions)"
   ]
  },
  {
   "cell_type": "code",
   "execution_count": null,
   "id": "uniform-capability",
   "metadata": {},
   "outputs": [],
   "source": [
    "calc.plot_retention(retention_grouped, retention_hist, horizon_days)"
   ]
  },
  {
   "cell_type": "markdown",
   "id": "dated-improvement",
   "metadata": {},
   "source": [
    "&#9889; **Вывод:**\n",
    "\n",
    "- даже с учетом того, что общее удержание невысокое, пользователи из США удерживаются стабильно хуже других."
   ]
  },
  {
   "cell_type": "markdown",
   "id": "mobile-journey",
   "metadata": {},
   "source": [
    "[В оглавление](#TOC)"
   ]
  },
  {
   "cell_type": "markdown",
   "id": "engaging-delta",
   "metadata": {},
   "source": [
    "### - посчитаем удержание по каналам<a class='anchor' id='3_4_3'></a>"
   ]
  },
  {
   "cell_type": "code",
   "execution_count": null,
   "id": "herbal-transcription",
   "metadata": {},
   "outputs": [],
   "source": [
    "dimensions = ['channel']\n",
    "retention_raw, retention_grouped, retention_hist = calc.get_retention(profiles, observation_date, horizon_days, dimensions)"
   ]
  },
  {
   "cell_type": "code",
   "execution_count": null,
   "id": "interpreted-panel",
   "metadata": {},
   "outputs": [],
   "source": [
    "calc.plot_retention(retention_grouped, retention_hist, horizon_days)"
   ]
  },
  {
   "cell_type": "markdown",
   "id": "statistical-drove",
   "metadata": {},
   "source": [
    "&#9889; **Вывод:**\n",
    "\n",
    "- любопытно, что пользователи из FaceBoom и AdNonSense удерживаются хуже пользователей из других источников,\n",
    "- также привлекает внимание, что пользователи из TipTop не выделяются из общей картины: видимо, раз уж стал платить, то относится к целевой аудитории."
   ]
  },
  {
   "cell_type": "markdown",
   "id": "blocked-decade",
   "metadata": {},
   "source": [
    "[В оглавление](#TOC)"
   ]
  },
  {
   "cell_type": "markdown",
   "id": "therapeutic-fortune",
   "metadata": {
    "tags": []
   },
   "source": [
    "### - посчитаем удержание по устройствам<a class='anchor' id='3_4_4'></a>"
   ]
  },
  {
   "cell_type": "code",
   "execution_count": null,
   "id": "smart-trout",
   "metadata": {},
   "outputs": [],
   "source": [
    "dimensions = ['device']\n",
    "retention_raw, retention_grouped, retention_hist = calc.get_retention(profiles, observation_date, horizon_days, dimensions)"
   ]
  },
  {
   "cell_type": "code",
   "execution_count": null,
   "id": "psychological-albania",
   "metadata": {},
   "outputs": [],
   "source": [
    "calc.plot_retention(retention_grouped, retention_hist, horizon_days)"
   ]
  },
  {
   "cell_type": "markdown",
   "id": "sustainable-nirvana",
   "metadata": {},
   "source": [
    "&#9889; **Вывод:**\n",
    "\n",
    "- в целом, устройство не влияет на удержание,\n",
    "- пользователи PC удерживаются чуть лучше, но разрыв несущественный."
   ]
  },
  {
   "cell_type": "markdown",
   "id": "large-vampire",
   "metadata": {},
   "source": [
    "[В оглавление](#TOC)"
   ]
  },
  {
   "cell_type": "markdown",
   "id": "encouraging-finnish",
   "metadata": {
    "tags": []
   },
   "source": [
    "## Выводы по итогам маркетингового анализа<a class=\"anchor\" id=\"3_conclusion\"></a>"
   ]
  },
  {
   "cell_type": "markdown",
   "id": "sporting-exception",
   "metadata": {},
   "source": [
    "Исходя из представленных данных можно сделать выводы:\n",
    "\n",
    "\n",
    "**1. В целом реклама не окупается**\n",
    "- в течение 14 дней ROI так и не пересекает границу окупаемости,\n",
    "- необходимо отметить, что изолированно европейский рынок окупается, не окупается только США.\n",
    "\n",
    "**2. На окупаемость рекламы оказывают негативное влияние несколько факторов**\n",
    "- размер расходов на рекламу в США не оправдан - приложение получает новых пользователей, однако новые пользователи из США плохо конвертируются в платящих клиентов - отрицательная динамика ROI и, в целом, к концу двухнедельного периода ROI в районе 80%,\n",
    "- исходя из представленных данных, расходы на FaceBoom (ROI - 0.74) и TipTop (ROI - 0.54) в США - факторы, способствующие убыточности, поскольку львиная доля бюджета - 87 196.90 долларов (82.65%) ушла именно на TipTop - 54751.30 долларов (51.9%) и FaceBoom - 32445.60 долларов (30.75%),\n",
    "- взрывной рост затрат на TipTop от когорты к когорте при том, что начальная стоимость - ниже FaceBoom (расходы на который стабильны),\n",
    "- также из десяти платных источников привлечения клиентов не окупаются AdNonSense (ROI - 0.83),\n",
    "\n",
    "**3. Проблемы окупаемости могут быть вызваны следующими обстоятельствами**\n",
    "- в среднем пользователь проводит в приложении менее двух сессий, средняя продолжительность сессии - 30 минут, медианная - 21 минуту (при том, что почти 37% пользователей проводят в приложении более получаса),\n",
    "- исходя из представленных данных, принимая во внимание отсутствие подробного описания приложения, затруднительно сделать вывод с разумной степенью достоверности - являются ли сверхдлительные сессии результатом систематической ошибки на каком-то из этапов взаимодействия или это сущностное наполнение приложения влияет на сессии - это требуется уточнять \n",
    "-  неэффективная реклама в США - TipTop и FaceBoom рассчитаны  на массовую аудиторию, не готовую в большинстве случаев инвестировать в длительные сессии, независимо от того, являются ли они следствием сущностного наполнения приложения (неподходящая целевая аудитория) или пробемой на уровне взаимодействия (техническая ошибка).\n",
    "\n",
    "\n",
    "**На основании проведенного анализа можно дать рекомендации**:\n",
    "- по крайней мере временно отказаться от размещения рекламы в AdNonSense (ROI - 0.83), FaceBoom (ROI - 0.74), TipTop (ROI - 0.54),\n",
    "- в будущем, при необходимости размещать рекламу в TipTop, по возможности, пересмотреть условия о цены размещения,\n",
    "- проверить чем вызваны длительные сессии (если это не вызвано самой сущностью приложения),\n",
    "- проверить обоснованность цены,\n",
    "- не перераспределять высвободившиеся средства до того, как будет дана оценка причинам длительности сессий и не будет проверена обоснованность цены.\n"
   ]
  },
  {
   "cell_type": "markdown",
   "id": "mathematical-fight",
   "metadata": {},
   "source": [
    "[В оглавление](#TOC)"
   ]
  }
 ],
 "metadata": {
  "kernelspec": {
   "display_name": "venv",
   "language": "python",
   "name": "venv"
  },
  "language_info": {
   "codemirror_mode": {
    "name": "ipython",
    "version": 3
   },
   "file_extension": ".py",
   "mimetype": "text/x-python",
   "name": "python",
   "nbconvert_exporter": "python",
   "pygments_lexer": "ipython3",
   "version": "3.7.9"
  },
  "toc-showtags": false
 },
 "nbformat": 4,
 "nbformat_minor": 5
}

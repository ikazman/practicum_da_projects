{
 "cells": [
  {
   "cell_type": "markdown",
   "id": "b8dec386-76ca-4fe4-a9d9-db1ac858bdf6",
   "metadata": {},
   "source": [
    "# Маркетинговый анализ\n",
    "***"
   ]
  },
  {
   "cell_type": "markdown",
   "id": "9a7c28e4-f99d-45fa-afab-0fdb6501f0e8",
   "metadata": {},
   "source": [
    "# Описание проекта"
   ]
  },
  {
   "cell_type": "markdown",
   "id": "7f811e66-9344-43e1-a353-236eb99e15de",
   "metadata": {},
   "source": [
    "Вы — маркетинговый аналитик развлекательного приложения Procrastinate Pro+. Несмотря на огромные вложения в рекламу, последние несколько месяцев компания терпит убытки. Ваша задача — разобраться в причинах и помочь компании выйти в плюс.\n",
    "Есть данные о пользователях, привлечённых с 1 мая по 27 октября 2019 года:\n",
    "\n",
    "- лог сервера с данными об их посещениях,\n",
    "- выгрузка их покупок за этот период,\n",
    "- рекламные расходы.\n",
    "\n",
    "Вам предстоит изучить:\n",
    "\n",
    "- откуда приходят пользователи и какими устройствами они пользуются,\n",
    "- сколько стоит привлечение пользователей из различных рекламных каналов;\n",
    "- сколько денег приносит каждый клиент,\n",
    "- когда расходы на привлечение клиента окупаются,\n",
    "- какие факторы мешают привлечению клиентов."
   ]
  },
  {
   "cell_type": "markdown",
   "id": "76060a7b-cf9c-4e24-930b-bb753c146a54",
   "metadata": {
    "tags": []
   },
   "source": [
    "## Оглавление<a class=\"anchor\" id=\"TOC\"></a>\n",
    "***"
   ]
  },
  {
   "cell_type": "markdown",
   "id": "7714e342-fa3b-42d9-afac-3d5c0c42c0fa",
   "metadata": {},
   "source": [
    "* **[I. Загрузка и подготовка данных](#1)**\n",
    "    - [1) Импортируем библиотеки, объявим класс MetricCalculator для анализа](#1_1)\n",
    "    - [2) Прочитаем данные](#1_2)\n",
    "    - [3) Выведем первые и последние пять строк каждой из таблиц, общую информацию](#1_3)\n",
    "    - [Вывод](#1_conclusion)\n",
    "* **[II. Исследовательский анализ данных](#2)**\n",
    "    - [Вывод](#2_conclusion)\n",
    "* **[III. Маркетинговый анализ](#3)**\n",
    "    - [1) Выделим ключевые значения для расчетов](#3_1)\n",
    "    - [2) Подсчитаем минимальный средний объём сырья в месторождениях региона, достаточный для его разработки](#3_2)\n",
    "    - [3) Подготовим функцию для расчёта прибыли по набору отобранных месторождений и предсказаний модели](#3_3)\n",
    "    - [Вывод](#3_conclusion)\n",
    "* **[IV. Расчёт прибыли и рисков](#4)**\n",
    "    - [1) Найдем распределение прибыли с помощью Bootstrap](#4_1)\n",
    "    - [2) Подсчитаем среднюю прибыль, 95-% доверительный интервал и риск убытков](#4_2)\n",
    "    - [Вывод](#4_conclusion)"
   ]
  },
  {
   "cell_type": "markdown",
   "id": "4739ab2e-0817-4d8a-ae39-ed6e0df2d4b7",
   "metadata": {},
   "source": [
    "# I. Загрузка и подготовка данных<a class='anchor' id='1'>\n",
    "***"
   ]
  },
  {
   "cell_type": "markdown",
   "id": "d1f55d36-da3c-49fe-b115-447acfe475ae",
   "metadata": {},
   "source": [
    "## 1) Импортируем библиотеки, объявим класс MetricCalculator для анализа<a class=\"anchor\" id=\"1_1\"></a>"
   ]
  },
  {
   "cell_type": "code",
   "execution_count": null,
   "id": "56611c54-8cdb-4bf1-a2c4-7cb01fd299b3",
   "metadata": {},
   "outputs": [],
   "source": [
    "# тут импорты\n",
    "import warnings\n",
    "warnings.filterwarnings('ignore')\n",
    "import pandas as pd\n",
    "from calculator.calculator import MetricCalculator\n",
    "from IPython.display import display"
   ]
  },
  {
   "cell_type": "code",
   "execution_count": null,
   "id": "35c0fd0c-6f08-46fa-a986-42f0d375f1f7",
   "metadata": {},
   "outputs": [],
   "source": [
    "# тут класс"
   ]
  },
  {
   "cell_type": "code",
   "execution_count": null,
   "id": "1cd4d367-fa5b-4aa6-9b30-22aa2ae7c628",
   "metadata": {},
   "outputs": [],
   "source": [
    "# тут полезное\n",
    "pd.set_option('display.float_format', lambda x: '%.2f' % x)"
   ]
  },
  {
   "cell_type": "markdown",
   "id": "e4d0d609-2f14-40f2-ac36-dfabd02e38d9",
   "metadata": {},
   "source": [
    "[В оглавление](#TOC)"
   ]
  },
  {
   "cell_type": "markdown",
   "id": "6207ec28-bc70-4b59-9d18-1f606a6e6a7c",
   "metadata": {},
   "source": [
    "## 2) Прочитаем данные<a class=\"anchor\" id=\"1_2\"></a>"
   ]
  },
  {
   "cell_type": "markdown",
   "id": "45d8428d-740d-4937-8e45-2e93d70f9511",
   "metadata": {},
   "source": [
    "### - описание данных"
   ]
  },
  {
   "cell_type": "markdown",
   "id": "ddb97df8-e510-40f2-ac2d-0d74bef264cc",
   "metadata": {},
   "source": [
    "Файл visits_info_short.csv хранит лог сервера с информацией о посещениях сайта, orders_info_short.csv — информацию о покупках, а costs_info_short.csv — информацию о расходах на рекламу.\n",
    "\n",
    "\n",
    "Структура visits_info_short.csv|Описание|Структура orders_info_short.csv|Описание|Структура costs_info_short.csv|Описание\n",
    ":-----|:-----|:-----|:-----|:-----|:-----  \n",
    "User Id|уникальный идентификатор пользователя|User Id|уникальный идентификатор пользователя|Channel|идентификатор рекламного источника\n",
    "Region|страна пользователя|Event Dt|дата и время покупки|Dt|дата проведения рекламной кампании\n",
    "Device|тип устройства пользователя|Revenue|сумма заказа|Costs|расходы на эту кампанию\n",
    "Channel|идентификатор источника перехода| | | | \n",
    "Session Start|дата и время начала сессии| | | | \n",
    "Session End|дата и время окончания сессии| | | | "
   ]
  },
  {
   "cell_type": "markdown",
   "id": "f64e7c54-7b2f-4411-a031-11eb6da854ac",
   "metadata": {},
   "source": [
    "### - создадим экземпляр класса с путями до данных, приведем наименование колонок к едином формату, установим нужный тип данных"
   ]
  },
  {
   "cell_type": "code",
   "execution_count": null,
   "id": "121710bc-d2aa-49aa-a659-c11984d3f4d1",
   "metadata": {},
   "outputs": [],
   "source": [
    "calc = MetricCalculator('datasets/visits_info_short.csv', 'datasets/orders_info_short.csv', 'datasets/costs_info_short.csv')"
   ]
  },
  {
   "cell_type": "code",
   "execution_count": null,
   "id": "b9d1f2da-ca2b-47ba-9733-e7662465fba7",
   "metadata": {},
   "outputs": [],
   "source": [
    "calc.columns_fixer()"
   ]
  },
  {
   "cell_type": "markdown",
   "id": "771b2d07-6741-4919-8b94-d56e245ba566",
   "metadata": {},
   "source": [
    "Cоздан экземпляр класса:\n",
    "- данные прочитаны, \n",
    "- наименование колонок приведено к единому формату,\n",
    "- колонки с датами приведены к соответствующему формату.\n",
    "\n",
    "Датасеты доступны через экземпляр класса по именам **visits, orders, costs**."
   ]
  },
  {
   "cell_type": "markdown",
   "id": "7581a982-983d-47c4-bf91-20bbb810c220",
   "metadata": {},
   "source": [
    "## 3) Выведем первые пять первых и последних строк каждой из таблиц, общую информацию<a class=\"anchor\" id=\"1_3\"></a>"
   ]
  },
  {
   "cell_type": "markdown",
   "id": "82c71cff-1de5-4ade-b194-7bff33c58a9b",
   "metadata": {
    "tags": []
   },
   "source": [
    "### - visits - посещение сайта"
   ]
  },
  {
   "cell_type": "code",
   "execution_count": null,
   "id": "a039f8ff-bb21-4189-a804-e0ca4224a41c",
   "metadata": {},
   "outputs": [],
   "source": [
    "calc.visits"
   ]
  },
  {
   "cell_type": "code",
   "execution_count": null,
   "id": "6e8c0a9b-40ea-4910-9328-e06cf31532a4",
   "metadata": {},
   "outputs": [],
   "source": [
    "calc.visits.info()"
   ]
  },
  {
   "cell_type": "markdown",
   "id": "bb72011b-ffe0-43dd-bbc8-e3f9a801edc9",
   "metadata": {},
   "source": [
    "&#9889; **Вывод:** в датасете с информацией о посещениях сайта 309 901 строка, без пропусков, без проблем с типами данных."
   ]
  },
  {
   "cell_type": "markdown",
   "id": "569b3243-03a0-4fc3-bb57-317f04ce1c62",
   "metadata": {},
   "source": [
    "### - orders - информация о покупках"
   ]
  },
  {
   "cell_type": "code",
   "execution_count": null,
   "id": "f8c8de6d-97e9-4ddd-9c6a-7ab7f89b3b0e",
   "metadata": {},
   "outputs": [],
   "source": [
    "calc.orders"
   ]
  },
  {
   "cell_type": "code",
   "execution_count": null,
   "id": "7bed3cb3-87bc-47c5-8d24-3986d0a69822",
   "metadata": {},
   "outputs": [],
   "source": [
    "calc.orders.info()"
   ]
  },
  {
   "cell_type": "markdown",
   "id": "aa51e396-5011-4b58-9ce4-a7f22fb31a5d",
   "metadata": {},
   "source": [
    "&#9889; **Вывод:** в датасете с информацией о покупках 40 212 строк (13% от числа визитов), без пропусков, без проблем с типами данных."
   ]
  },
  {
   "cell_type": "markdown",
   "id": "96910e69-515b-41e2-bff8-51aa3340fbba",
   "metadata": {},
   "source": [
    "### - costs - информация о расходах"
   ]
  },
  {
   "cell_type": "code",
   "execution_count": null,
   "id": "a899540a-7361-49f8-a65f-c7e1a6ea8ceb",
   "metadata": {},
   "outputs": [],
   "source": [
    "calc.costs"
   ]
  },
  {
   "cell_type": "code",
   "execution_count": null,
   "id": "17800307-4794-492c-941c-81264298aaa0",
   "metadata": {},
   "outputs": [],
   "source": [
    "calc.costs.info()"
   ]
  },
  {
   "cell_type": "markdown",
   "id": "e675278d-5904-4aed-9c97-e4766e0ab6db",
   "metadata": {},
   "source": [
    "&#9889; **Вывод:** в датасете с информацией расходах 1800, без пропусков, без проблем с типами данных."
   ]
  },
  {
   "cell_type": "markdown",
   "id": "955d1e6f-7d8b-4525-a398-100a55b278b1",
   "metadata": {},
   "source": [
    "### - проверим наличие полных дубликатов"
   ]
  },
  {
   "cell_type": "code",
   "execution_count": null,
   "id": "f80d6ebb-49ed-48b5-8097-74b5a7c39cad",
   "metadata": {},
   "outputs": [],
   "source": [
    "datasets = [calc.visits, calc.orders, calc.costs]\n",
    "duplicated_sum = 0\n",
    "for dataset in datasets:\n",
    "    duplicated_sum += (dataset.duplicated() == True).sum()\n",
    "print(duplicated_sum)"
   ]
  },
  {
   "cell_type": "markdown",
   "id": "631efc02-8d86-436d-9db5-b5ff52afc06d",
   "metadata": {},
   "source": [
    "Полных дубликатов нет"
   ]
  },
  {
   "cell_type": "markdown",
   "id": "0adaa1b3-c8fe-4412-8041-4d4abcb03764",
   "metadata": {
    "tags": []
   },
   "source": [
    "## Вывод<a class=\"anchor\" id=\"1_conclusion\"></a>"
   ]
  },
  {
   "cell_type": "markdown",
   "id": "5a55f053-bfa2-4b1a-ac90-cd94ba336ad9",
   "metadata": {},
   "source": [
    "1. Прочитали данные с помощью специального класса, наименование колонок приведено к единому формату, колонки с датами приведены к соответствующему формату. Датасеты доступны через экземпляр класса по именам visits, orders, costs.\n",
    "2. Во всех датасетах нет проблем с типами данных, полные дубликаты отсутствуют, нет пропусков."
   ]
  },
  {
   "cell_type": "markdown",
   "id": "cdae8ca6-f316-4508-8f0c-c5a855d34e5d",
   "metadata": {},
   "source": [
    "[В оглавление](#TOC)"
   ]
  },
  {
   "cell_type": "markdown",
   "id": "6571f1d7-8573-470b-9c62-10e3e73b8a5d",
   "metadata": {
    "tags": []
   },
   "source": [
    "# II. Исследовательский анализ данных<a class='anchor' id='2'>\n",
    "***"
   ]
  },
  {
   "cell_type": "markdown",
   "id": "97c1445b-184e-454c-8e7a-d3a8fc8a215c",
   "metadata": {},
   "source": [
    "**В отношении user_id считать статистику неинформативно - поэтому исключим данный столбец**"
   ]
  },
  {
   "cell_type": "markdown",
   "id": "5fad00b7-5618-4f6e-afd8-d898fadd6488",
   "metadata": {
    "tags": []
   },
   "source": [
    "### - visits - посещение сайта"
   ]
  },
  {
   "cell_type": "code",
   "execution_count": null,
   "id": "8cdab733-cdc7-415a-a8ba-48917d3734c3",
   "metadata": {},
   "outputs": [],
   "source": [
    "calc.visits.describe(exclude=['int64']).T.fillna('---')"
   ]
  },
  {
   "cell_type": "markdown",
   "id": "cd6a2090-ae66-4805-8c44-2e4fb53131b9",
   "metadata": {},
   "source": [
    "Проверим записи о пользователях из каких стран содержит таблица:"
   ]
  },
  {
   "cell_type": "code",
   "execution_count": null,
   "id": "608d747a-2a86-4994-8229-17fce7d2e1d8",
   "metadata": {
    "tags": []
   },
   "outputs": [],
   "source": [
    "unique_users_by_сountries = sorted(calc.visits.groupby('region')['user_id'].nunique())\n",
    "countries_count = calc.visits.groupby('region').agg({'user_id': 'count'}).reset_index().sort_values(by='user_id')\n",
    "countries_count['unique_id'] = unique_users_by_сountries\n",
    "countries_count['% of observations'] = (countries_count['user_id'] / len(calc.visits)) * 100\n",
    "countries_count['% of unique id'] = (countries_count['unique_id'] / sum(unique_users_by_сountries)) * 100\n",
    "countries_count"
   ]
  },
  {
   "cell_type": "markdown",
   "id": "3ca214b3-cc75-4a05-9f7e-c37eb96638ed",
   "metadata": {},
   "source": [
    "Всего уникальных пользователей:"
   ]
  },
  {
   "cell_type": "code",
   "execution_count": null,
   "id": "a4acfb84-ab3d-4cae-ab0a-29fc9334c388",
   "metadata": {},
   "outputs": [],
   "source": [
    "sum(unique_users_by_сountries)"
   ]
  },
  {
   "cell_type": "markdown",
   "id": "6966c5c8-0fb2-4cf4-a7b6-a064d681301e",
   "metadata": {},
   "source": [
    "Из 309 901 наблюдений - 207 327 (67%) сделаны в отношении пользователей из США. Из 309 901 наблюдений - 150 008 об уникальных пользователях, процентное соотношение пользователей из различных регионов сохраняется и с учетом только уникальных пользователей."
   ]
  },
  {
   "cell_type": "markdown",
   "id": "b7520dd7-629f-47e9-b212-02601df30e08",
   "metadata": {},
   "source": [
    "Проверим сведения об устройствах: "
   ]
  },
  {
   "cell_type": "code",
   "execution_count": null,
   "id": "fe4e8ed0-fd7a-4cd4-b218-36455b0e8e9a",
   "metadata": {},
   "outputs": [],
   "source": [
    "unique_devices = sorted(calc.visits.groupby('device')['user_id'].nunique())\n",
    "device_count = calc.visits.groupby('device').agg({'user_id': 'count'}).reset_index().sort_values(by='user_id')\n",
    "device_count['unique_id'] = unique_devices\n",
    "device_count['% of observations'] = (device_count['user_id'] / len(calc.visits)) * 100\n",
    "device_count['% of unique id'] = (device_count['unique_id'] / sum(unique_devices)) * 100\n",
    "device_count"
   ]
  },
  {
   "cell_type": "markdown",
   "id": "508ddaed-9e1f-49be-a13c-6fb7f4a6d43c",
   "metadata": {},
   "source": [
    "Наблюдения об устройствах распределены равномернее, чем между странами - больше всего пользователей iPhone (36%), пользователей Mac (20%), PC (20%) и Andoid (23%)."
   ]
  },
  {
   "cell_type": "markdown",
   "id": "3d6bed20-5228-40bd-84c8-f2d7b0d2f8a4",
   "metadata": {},
   "source": [
    "Визуализируем соотношение устройств по числу пользователей:"
   ]
  },
  {
   "cell_type": "code",
   "execution_count": null,
   "id": "3dffbf83-f193-4a5d-81c7-a4ad8457cff7",
   "metadata": {},
   "outputs": [],
   "source": [
    "calc.square_plot(calc.visits, 'device', title='Соотношение различных устройств клиентов')"
   ]
  },
  {
   "cell_type": "code",
   "execution_count": null,
   "id": "b7a6398f-26ec-4af0-9df4-076f9879620d",
   "metadata": {},
   "outputs": [],
   "source": [
    "title = 'Устройства по числу пользователей'\n",
    "xlabel = 'Устройство'\n",
    "ylabel = 'Число пользователей'\n",
    "data = device_count.sort_values(by='user_id', ascending=False)\n",
    "calc.sns_catplot(x='device', y='user_id', data=data, title=title, xlabel=xlabel, ylabel=ylabel)"
   ]
  },
  {
   "cell_type": "markdown",
   "id": "af183731-9807-4572-a3a0-c25abc5e3ec3",
   "metadata": {},
   "source": [
    "Всего уникальных устройств:"
   ]
  },
  {
   "cell_type": "code",
   "execution_count": null,
   "id": "429e525e-3a31-4c53-905e-42e1c3e4fe68",
   "metadata": {},
   "outputs": [],
   "source": [
    "sum(unique_devices)"
   ]
  },
  {
   "cell_type": "markdown",
   "id": "620b1e0a-45df-466c-8e61-54076fe12bcf",
   "metadata": {},
   "source": [
    "С учетом того, что количество уникальных устройств превышает число уникальных пользователей - некоторые пользователи пользуются услугой с различных устройств."
   ]
  },
  {
   "cell_type": "code",
   "execution_count": null,
   "id": "2465273a-2445-4ecc-964e-b597351f6200",
   "metadata": {},
   "outputs": [],
   "source": [
    "unique_channels = sorted(calc.visits.groupby('channel')['user_id'].nunique())\n",
    "channel_count = calc.visits.groupby('channel').agg({'user_id': 'count'}).reset_index().sort_values(by='user_id')\n",
    "channel_count['unique_id'] = unique_channels\n",
    "channel_count['% of observations'] = (channel_count['user_id'] / len(calc.visits)) * 100\n",
    "channel_count['% of unique id'] = (channel_count['unique_id'] / sum(unique_channels)) * 100\n",
    "channel_count"
   ]
  },
  {
   "cell_type": "code",
   "execution_count": null,
   "id": "a5d6316c-60f2-49b5-98aa-46de7508208e",
   "metadata": {},
   "outputs": [],
   "source": [
    "calc.square_plot(calc.visits, 'channel', title='Соотношение различных источников привлечения клиентов')"
   ]
  },
  {
   "cell_type": "code",
   "execution_count": null,
   "id": "a75e7276-7de3-4add-927a-d2cc16dd9a0d",
   "metadata": {},
   "outputs": [],
   "source": [
    "title = 'Пользователи по каждому из каналов привлечения'\n",
    "xlabel = 'Рекламный канал'\n",
    "ylabel = 'Число привлеченных пользователей'\n",
    "data = channel_count.sort_values(by='user_id', ascending=False)\n",
    "calc.sns_catplot(x='channel', y='user_id', data=data, title=title, xlabel=xlabel, ylabel=ylabel)"
   ]
  },
  {
   "cell_type": "markdown",
   "id": "306e28eb-0a02-4316-90ee-9c865889dd4e",
   "metadata": {},
   "source": [
    "&#9889; **Вывод**\n",
    "\n",
    "В датасете о посещениях сайта:\n",
    "\n",
    "- сведения о 4 регионах, больше всего наблюдений о пользователях из США - 207 327 из 309 901 наблюдения (67%), больше всего пользовавшихся iPhone - 112 603 из 309 901 наблюдения (36%),\n",
    "- более трети пользователей пришли напрямую - 107 760 из 309 901 (36%),\n",
    "- помимо прямой покупки, с большим отрывом лидируют источники привлечения - TipTop (54 794, 18%) и FaceBoom (20204, 16%),\n",
    "- самое раннее наблюдение о первом действии - 01.05.2019 года, самое позднее - 31.10.2019 года."
   ]
  },
  {
   "cell_type": "markdown",
   "id": "0fd708c2-18b3-4fff-84f1-1a429555dd65",
   "metadata": {},
   "source": [
    "### - orders - информация о покупках"
   ]
  },
  {
   "cell_type": "code",
   "execution_count": null,
   "id": "85c86740-495a-476e-ba74-ffee1b1e2c41",
   "metadata": {},
   "outputs": [],
   "source": [
    "calc.orders.describe(include=['float64']).T"
   ]
  },
  {
   "cell_type": "code",
   "execution_count": null,
   "id": "75b3529c-e906-47d5-bc94-c1bb52016f4c",
   "metadata": {},
   "outputs": [],
   "source": [
    "calc.orders.describe(include=['object', 'datetime64[ns]']).T"
   ]
  },
  {
   "cell_type": "markdown",
   "id": "328df2bd-2dac-4fb4-bebb-acad61d05d1b",
   "metadata": {},
   "source": [
    "С учетом того, что 75%-процентиль - 4.99 (совпадающий с медианой, 25%-процентилем и минимуом), максимальная сумма выручки - 49.99, проверим какие значения выручки есть в датасете:"
   ]
  },
  {
   "cell_type": "code",
   "execution_count": null,
   "id": "bb46b348-2c14-4af6-ae91-69e2cd394fd7",
   "metadata": {},
   "outputs": [],
   "source": [
    "sorted(calc.orders.revenue.unique())"
   ]
  },
  {
   "cell_type": "markdown",
   "id": "68436a83-8abd-4986-bb07-4f06c69a012c",
   "metadata": {},
   "source": [
    "Всего пять значений стоимости услуги. Проверим сколько пользователей платят больше 4.99, возможно, таких пользователей стоит рассматривать отдельно:"
   ]
  },
  {
   "cell_type": "code",
   "execution_count": null,
   "id": "023b7fa3-40b5-4703-8fe9-c19275206384",
   "metadata": {},
   "outputs": [],
   "source": [
    "max_revenue = calc.orders.groupby('revenue').agg({'user_id': 'count'}).reset_index()\n",
    "max_revenue['%'] = (max_revenue['user_id'] / len(calc.orders)) * 100\n",
    "max_revenue"
   ]
  },
  {
   "cell_type": "markdown",
   "id": "2c9a3696-a2c3-4a71-b3e3-b6a1f3bd8e6c",
   "metadata": {},
   "source": [
    "Примерно 5% пользователей платят больше базовой стоимости. Посчитаем общее число таких пользователей:"
   ]
  },
  {
   "cell_type": "code",
   "execution_count": null,
   "id": "b9a28940-ace9-41c0-8aa5-f7640cc221e1",
   "metadata": {},
   "outputs": [],
   "source": [
    "sum(max_revenue[max_revenue['revenue'] > 4.99]['user_id'])"
   ]
  },
  {
   "cell_type": "markdown",
   "id": "8b3a8bde-f3df-4013-861d-d48e0aa14c24",
   "metadata": {},
   "source": [
    "&#9889; **Вывод**\n",
    "\n",
    "В датасете с информацией о покупках:\n",
    "\n",
    "- остутствуют сведения о валюте в которой выражена выручка,\n",
    "- принимая во внимание, что 67% пользователей из США, можно предположить, что валюта выручки - доллары США,\n",
    "- выявлено 5 различных стоимостей услуг - 4.99, 5.99, 9.99, 19.99, 49.99.\n",
    "- минимальная сумма выручки - 4.99, средняя - 5.37 (при медианной и 75%-процентиле - 4.99), максимальная - 49.99,\n",
    "- из 40 185 платящих пользователей - 1581 (4%) платит больше базового тарифа,\n",
    "- самое раннее наблюдение о первом действии совпадает с датасетом о посещениях - 01.05.2019 года, самое позднее - 31.10.2019 года."
   ]
  },
  {
   "cell_type": "markdown",
   "id": "519a5f3f-aeb1-4e1a-bb9f-177be3efc049",
   "metadata": {
    "tags": []
   },
   "source": [
    "### - costs - информация о расходах"
   ]
  },
  {
   "cell_type": "code",
   "execution_count": null,
   "id": "90a1d60e-4cbb-4c95-8b8b-8676f2081ceb",
   "metadata": {},
   "outputs": [],
   "source": [
    "calc.costs.describe().T"
   ]
  },
  {
   "cell_type": "markdown",
   "id": "7482fff0-3e29-4e43-8f3d-050e24ee9352",
   "metadata": {},
   "source": [
    "Минимально - 0.80, средняя стоимость источника - 58.61 (при медианой - 12.29 и 75%-процентиле равным 33.60). Есть очень дорогие источники. Проверим среднюю стоимость привлечения по каждому источнику: "
   ]
  },
  {
   "cell_type": "code",
   "execution_count": null,
   "id": "37ee3965-847f-45c7-8495-7150660b8951",
   "metadata": {},
   "outputs": [],
   "source": [
    "channels_sum_costs = calc.costs.groupby('channel')['costs'].sum()\n",
    "channels_mean_costs = calc.costs.groupby('channel').agg({'costs': 'mean'}).reset_index()\n",
    "channels_mean_costs['cost_sum_by_channel'] = channels_sum_costs.values\n",
    "channels_mean_costs['% of total costs'] = (channels_mean_costs['cost_sum_by_channel'] / sum(calc.costs['costs'])) * 100\n",
    "channels_mean_costs.sort_values(by='costs')"
   ]
  },
  {
   "cell_type": "code",
   "execution_count": null,
   "id": "45b6b801-2f23-43d2-81aa-4979fa350c51",
   "metadata": {},
   "outputs": [],
   "source": [
    "data = channels_mean_costs.sort_values(by='costs', ascending=False)\n",
    "ylabel = 'Средняя стоимость'\n",
    "xlabel = 'Источник привлечения'\n",
    "title = 'Средняя стоимость привлечения по источнику'\n",
    "calc.sns_catplot(x='channel', y='costs', data=data, xlabel=xlabel, ylabel=ylabel, title=title)"
   ]
  },
  {
   "cell_type": "markdown",
   "id": "aa73b328-dc7c-4177-ab82-a0fdce29fd2b",
   "metadata": {},
   "source": [
    "TipTop (304.17) и FaceBoom (180.25) лидируют с отрывом, самый дешевый источник - YRabbit (5.25). Проверим к кому обращались за рекламой чаще:"
   ]
  },
  {
   "cell_type": "code",
   "execution_count": null,
   "id": "6bdaf3cb-fb0b-498b-a32d-c12c8df7f5a9",
   "metadata": {},
   "outputs": [],
   "source": [
    "calc.costs.describe(include=['object', 'datetime64[ns]']).T"
   ]
  },
  {
   "cell_type": "code",
   "execution_count": null,
   "id": "461b5091-ae22-4f2e-807b-7264045fc640",
   "metadata": {},
   "outputs": [],
   "source": [
    "calc.costs.groupby('channel').agg({'channel': 'count'})"
   ]
  },
  {
   "cell_type": "markdown",
   "id": "609998da-dcff-4732-a9d5-1f382d6b0c13",
   "metadata": {},
   "source": [
    "К каждому из источников привлечения по 180 раз."
   ]
  },
  {
   "cell_type": "markdown",
   "id": "5bdf6a39-f760-4773-bc5d-14110b883ddf",
   "metadata": {},
   "source": [
    "&#9889; **Вывод:**\n",
    "\n",
    "В датасете с информацией о покупках:\n",
    "\n",
    "- всего десять каналов привлечения (помимо естественного, без посредников),\n",
    "- средняя стоимость привлечения клиента - 58.61 (при медианой - 12.29 и 75%-процентиле равным 33.60),\n",
    "- TipTop (304.17) и FaceBoom (180.25) лидируют с отрывом, самый дешевый - YRabbit (5.25),\n",
    "- к каждому из источников обращались по 180 раз,\n",
    "- самое раннее наблюдение о понесенных расходах - 01.05.2019 года, самое позднее - 27.10.2019 года."
   ]
  },
  {
   "cell_type": "markdown",
   "id": "4d4f0daf-3c59-4a27-aefe-5465e24a809b",
   "metadata": {
    "tags": []
   },
   "source": [
    "### - объеденим полученные таблицы с расходами на источник и привлеченными по источнику"
   ]
  },
  {
   "cell_type": "code",
   "execution_count": null,
   "id": "20ef1314-b168-4005-a5f5-e64eaeae3202",
   "metadata": {},
   "outputs": [],
   "source": [
    "channels_grouped = channels_mean_costs.merge(channel_count.query('channel != \"organic\"'), on='channel').drop(['unique_id', '% of unique id'], axis=1)\n",
    "channels_grouped = channels_grouped.rename(columns={'user_id': 'total_customers'}).sort_values(by='costs')\n",
    "channels_grouped"
   ]
  },
  {
   "cell_type": "code",
   "execution_count": null,
   "id": "955ef115-4aba-4b20-87fc-7e0b1a06d538",
   "metadata": {},
   "outputs": [],
   "source": [
    "channels_grouped.query('channel in [\"FaceBoom\", \"TipTop\"]').cost_sum_by_channel.sum()"
   ]
  },
  {
   "cell_type": "code",
   "execution_count": null,
   "id": "7d175ce5-a41b-4d97-914f-8e0ed97ce5b7",
   "metadata": {},
   "outputs": [],
   "source": [
    "channels_grouped.query('channel in [\"FaceBoom\", \"TipTop\"]')['% of total costs'].sum()"
   ]
  },
  {
   "cell_type": "code",
   "execution_count": null,
   "id": "a58b9296-a88e-4855-9319-4708ffb6c973",
   "metadata": {},
   "outputs": [],
   "source": [
    "channels_grouped.query('channel not in [\"FaceBoom\", \"TipTop\"]').cost_sum_by_channel.sum()"
   ]
  },
  {
   "cell_type": "code",
   "execution_count": null,
   "id": "7d32e501-e2d1-43be-9201-68a5da57368f",
   "metadata": {},
   "outputs": [],
   "source": [
    "channels_grouped.query('channel not in [\"FaceBoom\", \"TipTop\"]').total_customers.sum() "
   ]
  },
  {
   "cell_type": "code",
   "execution_count": null,
   "id": "ff40e947-a68d-4169-be6a-44dcdc33d9c6",
   "metadata": {},
   "outputs": [],
   "source": [
    "channels_grouped.query('channel not in [\"FaceBoom\", \"TipTop\"]').total_customers.sum() / 309901"
   ]
  },
  {
   "cell_type": "code",
   "execution_count": null,
   "id": "afd0122e-9e21-45ee-b645-5ab841265e8e",
   "metadata": {},
   "outputs": [],
   "source": [
    "channels_grouped.query('channel not in [\"FaceBoom\", \"TipTop\"]')['% of total costs'].sum()"
   ]
  },
  {
   "cell_type": "markdown",
   "id": "01794938-c0fc-43f4-9ba9-775c13e27cad",
   "metadata": {
    "tags": []
   },
   "source": [
    "## Вывод<a class=\"anchor\" id=\"2_conclusion\"></a>"
   ]
  },
  {
   "cell_type": "markdown",
   "id": "a3674ed4-725d-41ca-80a5-881b80d6b5ac",
   "metadata": {},
   "source": [
    "Исходя из представленных данных и описаний данных, можно сделать выводы:\n",
    "\n",
    "- представлены сведения о 4 регионах, больше всего наблюдений о пользователях из США - 207 327 из 309 901 наблюдения (67%), больше всего пользовавшихся iPhone - 112 603 из 309 901 наблюдения (36%),\n",
    "- минимальная сумма выручки - 4.99, средняя - 5.37, максимальная - 49.99,\n",
    "- из 40 185 платящих пользователей - 1581 (4%) платит больше базового тарифа,\n",
    "- более трети пользователей пришли напрямую - 107 760 из 309 901 (36%),\n",
    "- помимо прямой покупки, с большим отрывом лидируют источники привлечения - TipTop (54 794, 18%) и FaceBoom (20204, 16%), они же и являются самыми дорогими со средней стоимостью 304.17 и 180.25, соответственно,\n",
    "- 83% (87 196) рекламного бюджета потрачено на TipTop и FaceBoom, которые вместе привели 103 816 пользователей (33 %). Вместе с тем, оставшиеся 17% (18 300) бюджета направлено на 8 источников принесших 31% (98 325). Следовательно, при соотношении трат 5 к 1 - результаты сопоставимые, что свидетельствует о неэффективности TipTop и FaceBoom.\n",
    "\n"
   ]
  },
  {
   "cell_type": "markdown",
   "id": "f6f15f07-59e7-48bc-a505-3682a5f2a8bb",
   "metadata": {},
   "source": [
    "[В оглавление](#TOC)"
   ]
  },
  {
   "cell_type": "markdown",
   "id": "aa985dd9-c0e2-4328-9933-d6ec5b4ff738",
   "metadata": {},
   "source": [
    "# III. Маркетинговый анализ<a class='anchor' id='3'>\n",
    "***"
   ]
  },
  {
   "cell_type": "markdown",
   "id": "9e76bf89-53d8-42c8-879c-63078a5b1004",
   "metadata": {},
   "source": [
    "## 1) Получим профили пользователей для анализа<a class=\"anchor\" id=\"1_1\"></a>"
   ]
  },
  {
   "cell_type": "code",
   "execution_count": null,
   "id": "b39b1e33-278a-47b4-8f6a-29a3d98710a9",
   "metadata": {},
   "outputs": [],
   "source": [
    "profiles = calc.get_profiles()"
   ]
  },
  {
   "cell_type": "code",
   "execution_count": null,
   "id": "01debb4a-3614-469f-ae49-113ccde6adfb",
   "metadata": {},
   "outputs": [],
   "source": [
    "profiles"
   ]
  },
  {
   "cell_type": "code",
   "execution_count": null,
   "id": "b926015d-6a66-411d-814c-8ceccafb452b",
   "metadata": {},
   "outputs": [],
   "source": [
    "from datetime import datetime\n",
    "from matplotlib import pyplot as plt"
   ]
  },
  {
   "cell_type": "code",
   "execution_count": null,
   "id": "88b7ecd0-264b-4171-a1b3-741e9250288e",
   "metadata": {},
   "outputs": [],
   "source": [
    "observation_date = datetime(2019, 11, 1).date()\n",
    "horizon_days = 14"
   ]
  },
  {
   "cell_type": "code",
   "execution_count": null,
   "id": "e979bc81-44e5-426a-aacb-f706483c3d0b",
   "metadata": {},
   "outputs": [],
   "source": [
    "profiles.pivot_table(\n",
    "    index='dt', columns='channel', values='acquisition_cost', aggfunc='mean'\n",
    ").plot(grid=True, figsize=(10, 5))\n",
    "plt.ylabel('CAC, $')\n",
    "plt.xlabel('Дата привлечения')\n",
    "plt.title('Динамика САС по каналам привлечения')\n",
    "plt.show()"
   ]
  },
  {
   "cell_type": "code",
   "execution_count": null,
   "id": "fc909fb9-b5e9-4597-954e-eca81f15a4a7",
   "metadata": {},
   "outputs": [],
   "source": [
    "ltv_raw, ltv_grouped, ltv_hist, roi_grouped, roi_hist = calc.get_ltv(profiles, observation_date, horizon_days, dimensions=['channel'])"
   ]
  },
  {
   "cell_type": "code",
   "execution_count": null,
   "id": "04062a41-0138-41a5-9c8a-9c08cb979fde",
   "metadata": {},
   "outputs": [],
   "source": [
    "calc.plot_ltv_roi(ltv_grouped, ltv_hist, roi_grouped, roi_hist, horizon_days, window=14) "
   ]
  },
  {
   "cell_type": "code",
   "execution_count": null,
   "id": "582ad0ab-77c5-4735-8a43-4d21bd64be66",
   "metadata": {},
   "outputs": [],
   "source": []
  },
  {
   "cell_type": "code",
   "execution_count": null,
   "id": "2aa4974f-e7ca-4132-a33b-9d4716c4761f",
   "metadata": {},
   "outputs": [],
   "source": [
    "retention_raw, retention_grouped, retention_hist = calc.get_retention(profiles, observation_date, horizon_days)"
   ]
  },
  {
   "cell_type": "code",
   "execution_count": null,
   "id": "9dea594b-328a-4322-91cd-9b47df234b37",
   "metadata": {},
   "outputs": [],
   "source": [
    "calc.plot_retention(retention_grouped, retention_hist, horizon_days)"
   ]
  },
  {
   "cell_type": "code",
   "execution_count": null,
   "id": "a8e6ac11-437c-4b15-8f14-b86ed55bf643",
   "metadata": {},
   "outputs": [],
   "source": [
    "cr_raw, cr_grouped, cr_hist = calc.get_conversion(profiles, observation_date, horizon_days)"
   ]
  },
  {
   "cell_type": "code",
   "execution_count": null,
   "id": "96d0e9e9-0c57-41d8-a925-39ad0de39d36",
   "metadata": {},
   "outputs": [],
   "source": [
    "calc.plot_conversion(cr_grouped, cr_hist, horizon_days)"
   ]
  },
  {
   "cell_type": "code",
   "execution_count": null,
   "id": "0c291b40-e456-439a-aa84-3fd75d210f2c",
   "metadata": {},
   "outputs": [],
   "source": [
    "ltv_raw, ltv_grouped, ltv_hist, roi_grouped, roi_hist = calc.get_ltv(profiles, observation_date, horizon_days, dimensions=['channel'])"
   ]
  },
  {
   "cell_type": "code",
   "execution_count": null,
   "id": "6c87c5a7-6019-4cf6-b062-d91ed7c4f41d",
   "metadata": {},
   "outputs": [],
   "source": [
    "cac_hist = roi_hist[['cac']]"
   ]
  },
  {
   "cell_type": "code",
   "execution_count": null,
   "id": "627cf8d1-5942-437a-b5e2-1226d0c34d6e",
   "metadata": {},
   "outputs": [],
   "source": [
    "columns = [name for name in cac_hist.index.names if name not in ['dt']]\n",
    "columns"
   ]
  },
  {
   "cell_type": "code",
   "execution_count": null,
   "id": "40897df7-c792-4f40-a77d-328096219644",
   "metadata": {},
   "outputs": [],
   "source": [
    "filtered_data = cac_hist.pivot_table(index='dt', columns=columns, values='cac', aggfunc='mean').plot(grid=True)"
   ]
  },
  {
   "cell_type": "code",
   "execution_count": null,
   "id": "322cbb19-7b5a-47a6-b7bb-404e79f0d9bf",
   "metadata": {},
   "outputs": [],
   "source": [
    "cac_hist"
   ]
  },
  {
   "cell_type": "code",
   "execution_count": null,
   "id": "84a86221-0a07-4719-ab4e-ba312d0fea70",
   "metadata": {},
   "outputs": [],
   "source": [
    "calc.plot_ltv_roi(ltv_grouped, ltv_hist, roi_grouped, roi_hist, horizon_days) "
   ]
  },
  {
   "cell_type": "code",
   "execution_count": null,
   "id": "2baf0578-8268-463f-a4c6-51761845fc82",
   "metadata": {},
   "outputs": [],
   "source": [
    "ltv_raw, ltv_grouped, ltv_hist, roi_grouped, roi_hist = calc.get_ltv(profiles.query('channel == \"FaceBoom\"'), observation_date, horizon_days, dimensions=['region'])"
   ]
  },
  {
   "cell_type": "code",
   "execution_count": null,
   "id": "19a0e871-b48b-4923-a071-c71609186625",
   "metadata": {},
   "outputs": [],
   "source": [
    "calc.plot_ltv_roi(ltv_grouped, ltv_hist, roi_grouped, roi_hist, horizon_days, window=14) "
   ]
  },
  {
   "cell_type": "code",
   "execution_count": null,
   "id": "4df0895a-f9a8-431f-9544-bfa78f970d7a",
   "metadata": {},
   "outputs": [],
   "source": [
    "ltv_raw, ltv_grouped, ltv_hist, roi_grouped, roi_hist = calc.get_ltv(profiles.query('channel == \"FaceBoom\"'), observation_date, horizon_days)"
   ]
  },
  {
   "cell_type": "code",
   "execution_count": null,
   "id": "ee1d0379-38ff-4410-b028-bded23d0b539",
   "metadata": {},
   "outputs": [],
   "source": [
    "calc.plot_ltv_roi(ltv_grouped, ltv_hist, roi_grouped, roi_hist, horizon_days) "
   ]
  },
  {
   "cell_type": "code",
   "execution_count": null,
   "id": "e57720a7-ce9b-4452-a7b1-3debb24c59f2",
   "metadata": {},
   "outputs": [],
   "source": [
    "ltv_raw, ltv_grouped, ltv_hist, roi_grouped, roi_hist = calc.get_ltv(profiles, observation_date, horizon_days, dimensions=['payer'])"
   ]
  },
  {
   "cell_type": "code",
   "execution_count": null,
   "id": "70756434-e851-457c-afb2-7e5b50676c4d",
   "metadata": {},
   "outputs": [],
   "source": [
    "calc.plot_ltv_roi(ltv_grouped, ltv_hist, roi_grouped, roi_hist, horizon_days) "
   ]
  },
  {
   "cell_type": "code",
   "execution_count": null,
   "id": "7703c7fe-0a41-4ce0-acbd-101fbe761952",
   "metadata": {},
   "outputs": [],
   "source": []
  }
 ],
 "metadata": {
  "kernelspec": {
   "display_name": "venv",
   "language": "python",
   "name": "venv"
  },
  "language_info": {
   "codemirror_mode": {
    "name": "ipython",
    "version": 3
   },
   "file_extension": ".py",
   "mimetype": "text/x-python",
   "name": "python",
   "nbconvert_exporter": "python",
   "pygments_lexer": "ipython3",
   "version": "3.8.10"
  }
 },
 "nbformat": 4,
 "nbformat_minor": 5
}

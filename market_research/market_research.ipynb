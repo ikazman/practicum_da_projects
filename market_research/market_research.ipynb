{
 "cells": [
  {
   "cell_type": "markdown",
   "id": "opened-currency",
   "metadata": {},
   "source": [
    "# Исследование рынка заведений общественного питания Москвы\n",
    "***"
   ]
  },
  {
   "cell_type": "markdown",
   "id": "demanding-spirit",
   "metadata": {},
   "source": [
    "# Описание проекта"
   ]
  },
  {
   "cell_type": "markdown",
   "id": "norman-concord",
   "metadata": {},
   "source": [
    "Исследование рынка заведений общественного питания Москвы с целью определения перспективности инвестиций в небольшое кафе. Исследование проводится на открытых данных о заведениях общественного питания в Москве."
   ]
  },
  {
   "cell_type": "markdown",
   "id": "automotive-independence",
   "metadata": {},
   "source": [
    "# Оглавление<a class='anchor' id='TOC'></a>"
   ]
  }
 ],
 "metadata": {
  "kernelspec": {
   "display_name": "venv",
   "language": "python",
   "name": "venv"
  },
  "language_info": {
   "codemirror_mode": {
    "name": "ipython",
    "version": 3
   },
   "file_extension": ".py",
   "mimetype": "text/x-python",
   "name": "python",
   "nbconvert_exporter": "python",
   "pygments_lexer": "ipython3",
   "version": "3.7.9"
  }
 },
 "nbformat": 4,
 "nbformat_minor": 5
}

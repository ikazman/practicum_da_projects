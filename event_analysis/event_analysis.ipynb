{
 "cells": [
  {
   "cell_type": "markdown",
   "id": "dried-production",
   "metadata": {
    "tags": []
   },
   "source": [
    "# Событийная аналитика для стартапа, продающего продукты питания. Анализ А/А/В-теста.\n",
    "***"
   ]
  },
  {
   "cell_type": "markdown",
   "id": "modified-catalog",
   "metadata": {},
   "source": [
    "# Описание проекта"
   ]
  },
  {
   "cell_type": "markdown",
   "id": "australian-sampling",
   "metadata": {},
   "source": [
    "Нужно проанализирвоать поведение пользователей мобильного приложения стартапа, продающего продукты. Исследовать результаты A/A/B-эксперимента замены шрифта в приложении."
   ]
  },
  {
   "cell_type": "markdown",
   "id": "sunrise-guarantee",
   "metadata": {},
   "source": [
    "#### Описание данных для исследования\n",
    "\n",
    "Для анализа представылены логи со следующими колонками:\n",
    "- EventName — название события;\n",
    "- DeviceIDHash — уникальный идентификатор пользователя;\n",
    "- EventTimestamp — время события;\n",
    "- ExpId — номер эксперимента: 246 и 247 — контрольные группы, а 248 — экспериментальная."
   ]
  },
  {
   "cell_type": "markdown",
   "id": "middle-reward",
   "metadata": {},
   "source": [
    "# Оглавление<a class='anchor' id='TOC'></a>"
   ]
  },
  {
   "cell_type": "markdown",
   "id": "grave-disclaimer",
   "metadata": {},
   "source": [
    "* **[I. Подготовка к анализу](#1)**\n",
    "* **[2. Исследовательский анализ данных](#2)**\n",
    "    - [1) Общие сведения о событиях и пользователях](#2_1)\n",
    "    - [2) Проверим период логирования](#2_2)\n",
    "* **[3. Анализ поведения пользователей](#3)**\n",
    "    - [1) Общие сведения о поведении пользователей](#3_1)\n",
    "    - [2) Воронка событий](#3_2)\n",
    "* **[4. Анализ A/A/B-теста](#4)**\n",
    "    - [1) Проверим корректность разбиения групп](#4_1)\n",
    "    - [2) Проведем статистические тесты для контрольных групп](#4_2)\n",
    "    - [3) Проведем статистические тесты для тестовой группы](#4_3)\n",
    "* **[Выводы](#conclusions)**\n",
    "<br></br>"
   ]
  },
  {
   "cell_type": "markdown",
   "id": "disciplinary-significance",
   "metadata": {
    "tags": []
   },
   "source": [
    "# I. Подготовка к анализу<a class='anchor' id='1'></a>"
   ]
  },
  {
   "cell_type": "markdown",
   "id": "standard-killer",
   "metadata": {},
   "source": [
    "## 1) Импортируем библиотеки, объявим класс и несколько полезных функций для анализа данных<a class=\"anchor\" id=\"1_1\"></a>"
   ]
  },
  {
   "cell_type": "markdown",
   "id": "simplified-trance",
   "metadata": {},
   "source": [
    "Импортируем библиотеки:"
   ]
  },
  {
   "cell_type": "code",
   "execution_count": 1,
   "id": "4aedb420-0922-498f-b7d4-dd1a9054dc9f",
   "metadata": {},
   "outputs": [],
   "source": [
    "import matplotlib.pyplot as plt\n",
    "import pandas as pd\n",
    "import seaborn as sns\n",
    "from solver.data_reader import DataReader, get_profiles, simple_grouper\n",
    "from solver.graphs import funnel_plot, histogram\n",
    "from solver.stat_tests import StatTest, get_intersections, report_styler"
   ]
  },
  {
   "cell_type": "markdown",
   "id": "combined-pierre",
   "metadata": {},
   "source": [
    "[В оглавление](#TOC)"
   ]
  },
  {
   "cell_type": "markdown",
   "id": "suburban-transaction",
   "metadata": {},
   "source": [
    "## 2) Прочитаем данные<a class=\"anchor\" id=\"1_2\"></a>"
   ]
  },
  {
   "cell_type": "markdown",
   "id": "premier-constraint",
   "metadata": {},
   "source": [
    "### - инициализируем класс"
   ]
  },
  {
   "cell_type": "code",
   "execution_count": 2,
   "id": "seven-january",
   "metadata": {},
   "outputs": [],
   "source": [
    "reader = DataReader('logs_exp.csv')"
   ]
  },
  {
   "cell_type": "markdown",
   "id": "surprising-proposition",
   "metadata": {},
   "source": [
    "### - выведем первые пять первых и последних строк таблицы , общую информацию, статиcтику"
   ]
  },
  {
   "cell_type": "code",
   "execution_count": 3,
   "id": "described-breath",
   "metadata": {},
   "outputs": [
    {
     "data": {
      "text/plain": [
       "'Пять первых и последних строк'"
      ]
     },
     "metadata": {},
     "output_type": "display_data"
    },
    {
     "data": {
      "text/html": [
       "<div>\n",
       "<style scoped>\n",
       "    .dataframe tbody tr th:only-of-type {\n",
       "        vertical-align: middle;\n",
       "    }\n",
       "\n",
       "    .dataframe tbody tr th {\n",
       "        vertical-align: top;\n",
       "    }\n",
       "\n",
       "    .dataframe thead th {\n",
       "        text-align: right;\n",
       "    }\n",
       "</style>\n",
       "<table border=\"1\" class=\"dataframe\">\n",
       "  <thead>\n",
       "    <tr style=\"text-align: right;\">\n",
       "      <th></th>\n",
       "      <th>EventName</th>\n",
       "      <th>DeviceIDHash</th>\n",
       "      <th>EventTimestamp</th>\n",
       "      <th>ExpId</th>\n",
       "    </tr>\n",
       "  </thead>\n",
       "  <tbody>\n",
       "    <tr>\n",
       "      <th>0</th>\n",
       "      <td>MainScreenAppear</td>\n",
       "      <td>4575588528974610257</td>\n",
       "      <td>1564029816</td>\n",
       "      <td>246</td>\n",
       "    </tr>\n",
       "    <tr>\n",
       "      <th>1</th>\n",
       "      <td>MainScreenAppear</td>\n",
       "      <td>7416695313311560658</td>\n",
       "      <td>1564053102</td>\n",
       "      <td>246</td>\n",
       "    </tr>\n",
       "    <tr>\n",
       "      <th>2</th>\n",
       "      <td>PaymentScreenSuccessful</td>\n",
       "      <td>3518123091307005509</td>\n",
       "      <td>1564054127</td>\n",
       "      <td>248</td>\n",
       "    </tr>\n",
       "    <tr>\n",
       "      <th>3</th>\n",
       "      <td>CartScreenAppear</td>\n",
       "      <td>3518123091307005509</td>\n",
       "      <td>1564054127</td>\n",
       "      <td>248</td>\n",
       "    </tr>\n",
       "    <tr>\n",
       "      <th>4</th>\n",
       "      <td>PaymentScreenSuccessful</td>\n",
       "      <td>6217807653094995999</td>\n",
       "      <td>1564055322</td>\n",
       "      <td>248</td>\n",
       "    </tr>\n",
       "    <tr>\n",
       "      <th>...</th>\n",
       "      <td>...</td>\n",
       "      <td>...</td>\n",
       "      <td>...</td>\n",
       "      <td>...</td>\n",
       "    </tr>\n",
       "    <tr>\n",
       "      <th>244121</th>\n",
       "      <td>MainScreenAppear</td>\n",
       "      <td>4599628364049201812</td>\n",
       "      <td>1565212345</td>\n",
       "      <td>247</td>\n",
       "    </tr>\n",
       "    <tr>\n",
       "      <th>244122</th>\n",
       "      <td>MainScreenAppear</td>\n",
       "      <td>5849806612437486590</td>\n",
       "      <td>1565212439</td>\n",
       "      <td>246</td>\n",
       "    </tr>\n",
       "    <tr>\n",
       "      <th>244123</th>\n",
       "      <td>MainScreenAppear</td>\n",
       "      <td>5746969938801999050</td>\n",
       "      <td>1565212483</td>\n",
       "      <td>246</td>\n",
       "    </tr>\n",
       "    <tr>\n",
       "      <th>244124</th>\n",
       "      <td>MainScreenAppear</td>\n",
       "      <td>5746969938801999050</td>\n",
       "      <td>1565212498</td>\n",
       "      <td>246</td>\n",
       "    </tr>\n",
       "    <tr>\n",
       "      <th>244125</th>\n",
       "      <td>OffersScreenAppear</td>\n",
       "      <td>5746969938801999050</td>\n",
       "      <td>1565212517</td>\n",
       "      <td>246</td>\n",
       "    </tr>\n",
       "  </tbody>\n",
       "</table>\n",
       "<p>244126 rows × 4 columns</p>\n",
       "</div>"
      ],
      "text/plain": [
       "                      EventName         DeviceIDHash  EventTimestamp  ExpId\n",
       "0              MainScreenAppear  4575588528974610257      1564029816    246\n",
       "1              MainScreenAppear  7416695313311560658      1564053102    246\n",
       "2       PaymentScreenSuccessful  3518123091307005509      1564054127    248\n",
       "3              CartScreenAppear  3518123091307005509      1564054127    248\n",
       "4       PaymentScreenSuccessful  6217807653094995999      1564055322    248\n",
       "...                         ...                  ...             ...    ...\n",
       "244121         MainScreenAppear  4599628364049201812      1565212345    247\n",
       "244122         MainScreenAppear  5849806612437486590      1565212439    246\n",
       "244123         MainScreenAppear  5746969938801999050      1565212483    246\n",
       "244124         MainScreenAppear  5746969938801999050      1565212498    246\n",
       "244125       OffersScreenAppear  5746969938801999050      1565212517    246\n",
       "\n",
       "[244126 rows x 4 columns]"
      ]
     },
     "metadata": {},
     "output_type": "display_data"
    },
    {
     "data": {
      "text/plain": [
       "'Общая информация о датасете'"
      ]
     },
     "metadata": {},
     "output_type": "display_data"
    },
    {
     "data": {
      "text/html": [
       "<div>\n",
       "<style scoped>\n",
       "    .dataframe tbody tr th:only-of-type {\n",
       "        vertical-align: middle;\n",
       "    }\n",
       "\n",
       "    .dataframe tbody tr th {\n",
       "        vertical-align: top;\n",
       "    }\n",
       "\n",
       "    .dataframe thead th {\n",
       "        text-align: right;\n",
       "    }\n",
       "</style>\n",
       "<table border=\"1\" class=\"dataframe\">\n",
       "  <thead>\n",
       "    <tr style=\"text-align: right;\">\n",
       "      <th></th>\n",
       "      <th>Column</th>\n",
       "      <th>Dtype</th>\n",
       "      <th>Non-Null Count</th>\n",
       "      <th>% of nulls</th>\n",
       "    </tr>\n",
       "  </thead>\n",
       "  <tbody>\n",
       "    <tr>\n",
       "      <th>0</th>\n",
       "      <td>EventName</td>\n",
       "      <td>object</td>\n",
       "      <td>244126</td>\n",
       "      <td>0.0</td>\n",
       "    </tr>\n",
       "    <tr>\n",
       "      <th>1</th>\n",
       "      <td>DeviceIDHash</td>\n",
       "      <td>int64</td>\n",
       "      <td>244126</td>\n",
       "      <td>0.0</td>\n",
       "    </tr>\n",
       "    <tr>\n",
       "      <th>2</th>\n",
       "      <td>EventTimestamp</td>\n",
       "      <td>int64</td>\n",
       "      <td>244126</td>\n",
       "      <td>0.0</td>\n",
       "    </tr>\n",
       "    <tr>\n",
       "      <th>3</th>\n",
       "      <td>ExpId</td>\n",
       "      <td>int64</td>\n",
       "      <td>244126</td>\n",
       "      <td>0.0</td>\n",
       "    </tr>\n",
       "  </tbody>\n",
       "</table>\n",
       "</div>"
      ],
      "text/plain": [
       "           Column   Dtype  Non-Null Count  % of nulls\n",
       "0       EventName  object          244126         0.0\n",
       "1    DeviceIDHash   int64          244126         0.0\n",
       "2  EventTimestamp   int64          244126         0.0\n",
       "3           ExpId   int64          244126         0.0"
      ]
     },
     "metadata": {},
     "output_type": "display_data"
    },
    {
     "data": {
      "text/plain": [
       "'Описательная статистика'"
      ]
     },
     "metadata": {},
     "output_type": "display_data"
    },
    {
     "data": {
      "text/html": [
       "<div>\n",
       "<style scoped>\n",
       "    .dataframe tbody tr th:only-of-type {\n",
       "        vertical-align: middle;\n",
       "    }\n",
       "\n",
       "    .dataframe tbody tr th {\n",
       "        vertical-align: top;\n",
       "    }\n",
       "\n",
       "    .dataframe thead th {\n",
       "        text-align: right;\n",
       "    }\n",
       "</style>\n",
       "<table border=\"1\" class=\"dataframe\">\n",
       "  <thead>\n",
       "    <tr style=\"text-align: right;\">\n",
       "      <th></th>\n",
       "      <th>count</th>\n",
       "      <th>unique</th>\n",
       "      <th>top</th>\n",
       "      <th>freq</th>\n",
       "      <th>% of tops freq</th>\n",
       "    </tr>\n",
       "  </thead>\n",
       "  <tbody>\n",
       "    <tr>\n",
       "      <th>EventName</th>\n",
       "      <td>244126</td>\n",
       "      <td>5</td>\n",
       "      <td>MainScreenAppear</td>\n",
       "      <td>119205</td>\n",
       "      <td>48.83</td>\n",
       "    </tr>\n",
       "  </tbody>\n",
       "</table>\n",
       "</div>"
      ],
      "text/plain": [
       "            count unique               top    freq  % of tops freq\n",
       "EventName  244126      5  MainScreenAppear  119205           48.83"
      ]
     },
     "metadata": {},
     "output_type": "display_data"
    }
   ],
   "source": [
    "reader.basic_info_printer(reader.origin_data)"
   ]
  },
  {
   "cell_type": "markdown",
   "id": "central-protection",
   "metadata": {
    "tags": []
   },
   "source": [
    "&#9889; **Выводы**\n",
    "\n",
    "1. В представленных данных 244126 наблюдений, без явных пропусков, без явных проблем с типом данных.\n",
    "2. Судя по формату в столбце \"EventTimestamp\" - время события записано в формате [Unix-времени](https://ru.wikipedia.org/wiki/Unix-%D0%B2%D1%80%D0%B5%D0%BC%D1%8F), то есть в секундах (для минут указывают дополнительнео minutes, для наносекунд ns).\n",
    "3. Всего представленны данные о пяти различных события, самое частое из которых - загрузка заглавной страницы (119 205 из 244 126 наблюдений, 49%).\n",
    "4. Потребуется пересчитать дату - получить столбец с датой и временем в формате ISO и столбец только с датой.\n",
    "5. Кроме того, переименуем для ясности колонки, события, группы."
   ]
  },
  {
   "cell_type": "markdown",
   "id": "czech-peter",
   "metadata": {},
   "source": [
    "### - пересчитаем дату события, создадим столбцы с полным временем и, отдельно, датой, переименуем колонки, события и группы"
   ]
  },
  {
   "cell_type": "code",
   "execution_count": 4,
   "id": "incorrect-carpet",
   "metadata": {},
   "outputs": [
    {
     "data": {
      "text/html": [
       "<div>\n",
       "<style scoped>\n",
       "    .dataframe tbody tr th:only-of-type {\n",
       "        vertical-align: middle;\n",
       "    }\n",
       "\n",
       "    .dataframe tbody tr th {\n",
       "        vertical-align: top;\n",
       "    }\n",
       "\n",
       "    .dataframe thead th {\n",
       "        text-align: right;\n",
       "    }\n",
       "</style>\n",
       "<table border=\"1\" class=\"dataframe\">\n",
       "  <thead>\n",
       "    <tr style=\"text-align: right;\">\n",
       "      <th></th>\n",
       "      <th>event</th>\n",
       "      <th>id</th>\n",
       "      <th>origin_timestamp</th>\n",
       "      <th>group</th>\n",
       "      <th>timestamp</th>\n",
       "      <th>date</th>\n",
       "    </tr>\n",
       "  </thead>\n",
       "  <tbody>\n",
       "    <tr>\n",
       "      <th>0</th>\n",
       "      <td>main screen</td>\n",
       "      <td>4575588528974610257</td>\n",
       "      <td>1564029816</td>\n",
       "      <td>A_one</td>\n",
       "      <td>2019-07-25 04:43:36</td>\n",
       "      <td>2019-07-25</td>\n",
       "    </tr>\n",
       "    <tr>\n",
       "      <th>1</th>\n",
       "      <td>main screen</td>\n",
       "      <td>7416695313311560658</td>\n",
       "      <td>1564053102</td>\n",
       "      <td>A_one</td>\n",
       "      <td>2019-07-25 11:11:42</td>\n",
       "      <td>2019-07-25</td>\n",
       "    </tr>\n",
       "    <tr>\n",
       "      <th>2</th>\n",
       "      <td>payment</td>\n",
       "      <td>3518123091307005509</td>\n",
       "      <td>1564054127</td>\n",
       "      <td>B_test</td>\n",
       "      <td>2019-07-25 11:28:47</td>\n",
       "      <td>2019-07-25</td>\n",
       "    </tr>\n",
       "    <tr>\n",
       "      <th>3</th>\n",
       "      <td>cart</td>\n",
       "      <td>3518123091307005509</td>\n",
       "      <td>1564054127</td>\n",
       "      <td>B_test</td>\n",
       "      <td>2019-07-25 11:28:47</td>\n",
       "      <td>2019-07-25</td>\n",
       "    </tr>\n",
       "    <tr>\n",
       "      <th>4</th>\n",
       "      <td>payment</td>\n",
       "      <td>6217807653094995999</td>\n",
       "      <td>1564055322</td>\n",
       "      <td>B_test</td>\n",
       "      <td>2019-07-25 11:48:42</td>\n",
       "      <td>2019-07-25</td>\n",
       "    </tr>\n",
       "    <tr>\n",
       "      <th>...</th>\n",
       "      <td>...</td>\n",
       "      <td>...</td>\n",
       "      <td>...</td>\n",
       "      <td>...</td>\n",
       "      <td>...</td>\n",
       "      <td>...</td>\n",
       "    </tr>\n",
       "    <tr>\n",
       "      <th>244121</th>\n",
       "      <td>main screen</td>\n",
       "      <td>4599628364049201812</td>\n",
       "      <td>1565212345</td>\n",
       "      <td>A_two</td>\n",
       "      <td>2019-08-07 21:12:25</td>\n",
       "      <td>2019-08-07</td>\n",
       "    </tr>\n",
       "    <tr>\n",
       "      <th>244122</th>\n",
       "      <td>main screen</td>\n",
       "      <td>5849806612437486590</td>\n",
       "      <td>1565212439</td>\n",
       "      <td>A_one</td>\n",
       "      <td>2019-08-07 21:13:59</td>\n",
       "      <td>2019-08-07</td>\n",
       "    </tr>\n",
       "    <tr>\n",
       "      <th>244123</th>\n",
       "      <td>main screen</td>\n",
       "      <td>5746969938801999050</td>\n",
       "      <td>1565212483</td>\n",
       "      <td>A_one</td>\n",
       "      <td>2019-08-07 21:14:43</td>\n",
       "      <td>2019-08-07</td>\n",
       "    </tr>\n",
       "    <tr>\n",
       "      <th>244124</th>\n",
       "      <td>main screen</td>\n",
       "      <td>5746969938801999050</td>\n",
       "      <td>1565212498</td>\n",
       "      <td>A_one</td>\n",
       "      <td>2019-08-07 21:14:58</td>\n",
       "      <td>2019-08-07</td>\n",
       "    </tr>\n",
       "    <tr>\n",
       "      <th>244125</th>\n",
       "      <td>offer screen</td>\n",
       "      <td>5746969938801999050</td>\n",
       "      <td>1565212517</td>\n",
       "      <td>A_one</td>\n",
       "      <td>2019-08-07 21:15:17</td>\n",
       "      <td>2019-08-07</td>\n",
       "    </tr>\n",
       "  </tbody>\n",
       "</table>\n",
       "<p>244126 rows × 6 columns</p>\n",
       "</div>"
      ],
      "text/plain": [
       "               event                   id  origin_timestamp   group  \\\n",
       "0        main screen  4575588528974610257        1564029816   A_one   \n",
       "1        main screen  7416695313311560658        1564053102   A_one   \n",
       "2            payment  3518123091307005509        1564054127  B_test   \n",
       "3               cart  3518123091307005509        1564054127  B_test   \n",
       "4            payment  6217807653094995999        1564055322  B_test   \n",
       "...              ...                  ...               ...     ...   \n",
       "244121   main screen  4599628364049201812        1565212345   A_two   \n",
       "244122   main screen  5849806612437486590        1565212439   A_one   \n",
       "244123   main screen  5746969938801999050        1565212483   A_one   \n",
       "244124   main screen  5746969938801999050        1565212498   A_one   \n",
       "244125  offer screen  5746969938801999050        1565212517   A_one   \n",
       "\n",
       "                 timestamp        date  \n",
       "0      2019-07-25 04:43:36  2019-07-25  \n",
       "1      2019-07-25 11:11:42  2019-07-25  \n",
       "2      2019-07-25 11:28:47  2019-07-25  \n",
       "3      2019-07-25 11:28:47  2019-07-25  \n",
       "4      2019-07-25 11:48:42  2019-07-25  \n",
       "...                    ...         ...  \n",
       "244121 2019-08-07 21:12:25  2019-08-07  \n",
       "244122 2019-08-07 21:13:59  2019-08-07  \n",
       "244123 2019-08-07 21:14:43  2019-08-07  \n",
       "244124 2019-08-07 21:14:58  2019-08-07  \n",
       "244125 2019-08-07 21:15:17  2019-08-07  \n",
       "\n",
       "[244126 rows x 6 columns]"
      ]
     },
     "execution_count": 4,
     "metadata": {},
     "output_type": "execute_result"
    }
   ],
   "source": [
    "logs = reader.data_cleaner()\n",
    "logs"
   ]
  },
  {
   "cell_type": "markdown",
   "id": "useful-family",
   "metadata": {},
   "source": [
    "Получили таблицу с шестью столбцами, 244 126 строками. Наименования столбцов:\n",
    "- events - события,\n",
    "- user_id - хэш пользователя,\n",
    "- origin_timestamp - оригинальная информация о времени события,\n",
    "- group - сведения о группе,\n",
    "- timestamp - пересчитанная дата и время,\n",
    "- date - дата события."
   ]
  },
  {
   "cell_type": "markdown",
   "id": "ranking-rough",
   "metadata": {
    "tags": []
   },
   "source": [
    "### - выведем первые пять первых и последних строк полученной таблицы, общую информацию, статиcтику результата"
   ]
  },
  {
   "cell_type": "code",
   "execution_count": 5,
   "id": "amber-breach",
   "metadata": {},
   "outputs": [
    {
     "data": {
      "text/plain": [
       "'Пять первых и последних строк'"
      ]
     },
     "metadata": {},
     "output_type": "display_data"
    },
    {
     "data": {
      "text/html": [
       "<div>\n",
       "<style scoped>\n",
       "    .dataframe tbody tr th:only-of-type {\n",
       "        vertical-align: middle;\n",
       "    }\n",
       "\n",
       "    .dataframe tbody tr th {\n",
       "        vertical-align: top;\n",
       "    }\n",
       "\n",
       "    .dataframe thead th {\n",
       "        text-align: right;\n",
       "    }\n",
       "</style>\n",
       "<table border=\"1\" class=\"dataframe\">\n",
       "  <thead>\n",
       "    <tr style=\"text-align: right;\">\n",
       "      <th></th>\n",
       "      <th>event</th>\n",
       "      <th>id</th>\n",
       "      <th>origin_timestamp</th>\n",
       "      <th>group</th>\n",
       "      <th>timestamp</th>\n",
       "      <th>date</th>\n",
       "    </tr>\n",
       "  </thead>\n",
       "  <tbody>\n",
       "    <tr>\n",
       "      <th>0</th>\n",
       "      <td>main screen</td>\n",
       "      <td>4575588528974610257</td>\n",
       "      <td>1564029816</td>\n",
       "      <td>A_one</td>\n",
       "      <td>2019-07-25 04:43:36</td>\n",
       "      <td>2019-07-25</td>\n",
       "    </tr>\n",
       "    <tr>\n",
       "      <th>1</th>\n",
       "      <td>main screen</td>\n",
       "      <td>7416695313311560658</td>\n",
       "      <td>1564053102</td>\n",
       "      <td>A_one</td>\n",
       "      <td>2019-07-25 11:11:42</td>\n",
       "      <td>2019-07-25</td>\n",
       "    </tr>\n",
       "    <tr>\n",
       "      <th>2</th>\n",
       "      <td>payment</td>\n",
       "      <td>3518123091307005509</td>\n",
       "      <td>1564054127</td>\n",
       "      <td>B_test</td>\n",
       "      <td>2019-07-25 11:28:47</td>\n",
       "      <td>2019-07-25</td>\n",
       "    </tr>\n",
       "    <tr>\n",
       "      <th>3</th>\n",
       "      <td>cart</td>\n",
       "      <td>3518123091307005509</td>\n",
       "      <td>1564054127</td>\n",
       "      <td>B_test</td>\n",
       "      <td>2019-07-25 11:28:47</td>\n",
       "      <td>2019-07-25</td>\n",
       "    </tr>\n",
       "    <tr>\n",
       "      <th>4</th>\n",
       "      <td>payment</td>\n",
       "      <td>6217807653094995999</td>\n",
       "      <td>1564055322</td>\n",
       "      <td>B_test</td>\n",
       "      <td>2019-07-25 11:48:42</td>\n",
       "      <td>2019-07-25</td>\n",
       "    </tr>\n",
       "    <tr>\n",
       "      <th>...</th>\n",
       "      <td>...</td>\n",
       "      <td>...</td>\n",
       "      <td>...</td>\n",
       "      <td>...</td>\n",
       "      <td>...</td>\n",
       "      <td>...</td>\n",
       "    </tr>\n",
       "    <tr>\n",
       "      <th>244121</th>\n",
       "      <td>main screen</td>\n",
       "      <td>4599628364049201812</td>\n",
       "      <td>1565212345</td>\n",
       "      <td>A_two</td>\n",
       "      <td>2019-08-07 21:12:25</td>\n",
       "      <td>2019-08-07</td>\n",
       "    </tr>\n",
       "    <tr>\n",
       "      <th>244122</th>\n",
       "      <td>main screen</td>\n",
       "      <td>5849806612437486590</td>\n",
       "      <td>1565212439</td>\n",
       "      <td>A_one</td>\n",
       "      <td>2019-08-07 21:13:59</td>\n",
       "      <td>2019-08-07</td>\n",
       "    </tr>\n",
       "    <tr>\n",
       "      <th>244123</th>\n",
       "      <td>main screen</td>\n",
       "      <td>5746969938801999050</td>\n",
       "      <td>1565212483</td>\n",
       "      <td>A_one</td>\n",
       "      <td>2019-08-07 21:14:43</td>\n",
       "      <td>2019-08-07</td>\n",
       "    </tr>\n",
       "    <tr>\n",
       "      <th>244124</th>\n",
       "      <td>main screen</td>\n",
       "      <td>5746969938801999050</td>\n",
       "      <td>1565212498</td>\n",
       "      <td>A_one</td>\n",
       "      <td>2019-08-07 21:14:58</td>\n",
       "      <td>2019-08-07</td>\n",
       "    </tr>\n",
       "    <tr>\n",
       "      <th>244125</th>\n",
       "      <td>offer screen</td>\n",
       "      <td>5746969938801999050</td>\n",
       "      <td>1565212517</td>\n",
       "      <td>A_one</td>\n",
       "      <td>2019-08-07 21:15:17</td>\n",
       "      <td>2019-08-07</td>\n",
       "    </tr>\n",
       "  </tbody>\n",
       "</table>\n",
       "<p>244126 rows × 6 columns</p>\n",
       "</div>"
      ],
      "text/plain": [
       "               event                   id  origin_timestamp   group  \\\n",
       "0        main screen  4575588528974610257        1564029816   A_one   \n",
       "1        main screen  7416695313311560658        1564053102   A_one   \n",
       "2            payment  3518123091307005509        1564054127  B_test   \n",
       "3               cart  3518123091307005509        1564054127  B_test   \n",
       "4            payment  6217807653094995999        1564055322  B_test   \n",
       "...              ...                  ...               ...     ...   \n",
       "244121   main screen  4599628364049201812        1565212345   A_two   \n",
       "244122   main screen  5849806612437486590        1565212439   A_one   \n",
       "244123   main screen  5746969938801999050        1565212483   A_one   \n",
       "244124   main screen  5746969938801999050        1565212498   A_one   \n",
       "244125  offer screen  5746969938801999050        1565212517   A_one   \n",
       "\n",
       "                 timestamp        date  \n",
       "0      2019-07-25 04:43:36  2019-07-25  \n",
       "1      2019-07-25 11:11:42  2019-07-25  \n",
       "2      2019-07-25 11:28:47  2019-07-25  \n",
       "3      2019-07-25 11:28:47  2019-07-25  \n",
       "4      2019-07-25 11:48:42  2019-07-25  \n",
       "...                    ...         ...  \n",
       "244121 2019-08-07 21:12:25  2019-08-07  \n",
       "244122 2019-08-07 21:13:59  2019-08-07  \n",
       "244123 2019-08-07 21:14:43  2019-08-07  \n",
       "244124 2019-08-07 21:14:58  2019-08-07  \n",
       "244125 2019-08-07 21:15:17  2019-08-07  \n",
       "\n",
       "[244126 rows x 6 columns]"
      ]
     },
     "metadata": {},
     "output_type": "display_data"
    },
    {
     "data": {
      "text/plain": [
       "'Общая информация о датасете'"
      ]
     },
     "metadata": {},
     "output_type": "display_data"
    },
    {
     "data": {
      "text/html": [
       "<div>\n",
       "<style scoped>\n",
       "    .dataframe tbody tr th:only-of-type {\n",
       "        vertical-align: middle;\n",
       "    }\n",
       "\n",
       "    .dataframe tbody tr th {\n",
       "        vertical-align: top;\n",
       "    }\n",
       "\n",
       "    .dataframe thead th {\n",
       "        text-align: right;\n",
       "    }\n",
       "</style>\n",
       "<table border=\"1\" class=\"dataframe\">\n",
       "  <thead>\n",
       "    <tr style=\"text-align: right;\">\n",
       "      <th></th>\n",
       "      <th>Column</th>\n",
       "      <th>Dtype</th>\n",
       "      <th>Non-Null Count</th>\n",
       "      <th>% of nulls</th>\n",
       "    </tr>\n",
       "  </thead>\n",
       "  <tbody>\n",
       "    <tr>\n",
       "      <th>0</th>\n",
       "      <td>event</td>\n",
       "      <td>object</td>\n",
       "      <td>244126</td>\n",
       "      <td>0.0</td>\n",
       "    </tr>\n",
       "    <tr>\n",
       "      <th>1</th>\n",
       "      <td>id</td>\n",
       "      <td>int64</td>\n",
       "      <td>244126</td>\n",
       "      <td>0.0</td>\n",
       "    </tr>\n",
       "    <tr>\n",
       "      <th>2</th>\n",
       "      <td>origin_timestamp</td>\n",
       "      <td>int64</td>\n",
       "      <td>244126</td>\n",
       "      <td>0.0</td>\n",
       "    </tr>\n",
       "    <tr>\n",
       "      <th>3</th>\n",
       "      <td>group</td>\n",
       "      <td>object</td>\n",
       "      <td>244126</td>\n",
       "      <td>0.0</td>\n",
       "    </tr>\n",
       "    <tr>\n",
       "      <th>4</th>\n",
       "      <td>timestamp</td>\n",
       "      <td>datetime64[ns]</td>\n",
       "      <td>244126</td>\n",
       "      <td>0.0</td>\n",
       "    </tr>\n",
       "    <tr>\n",
       "      <th>5</th>\n",
       "      <td>date</td>\n",
       "      <td>object</td>\n",
       "      <td>244126</td>\n",
       "      <td>0.0</td>\n",
       "    </tr>\n",
       "  </tbody>\n",
       "</table>\n",
       "</div>"
      ],
      "text/plain": [
       "             Column           Dtype  Non-Null Count  % of nulls\n",
       "0             event          object          244126         0.0\n",
       "1                id           int64          244126         0.0\n",
       "2  origin_timestamp           int64          244126         0.0\n",
       "3             group          object          244126         0.0\n",
       "4         timestamp  datetime64[ns]          244126         0.0\n",
       "5              date          object          244126         0.0"
      ]
     },
     "metadata": {},
     "output_type": "display_data"
    },
    {
     "data": {
      "text/plain": [
       "'Описательная статистика'"
      ]
     },
     "metadata": {},
     "output_type": "display_data"
    },
    {
     "data": {
      "text/html": [
       "<div>\n",
       "<style scoped>\n",
       "    .dataframe tbody tr th:only-of-type {\n",
       "        vertical-align: middle;\n",
       "    }\n",
       "\n",
       "    .dataframe tbody tr th {\n",
       "        vertical-align: top;\n",
       "    }\n",
       "\n",
       "    .dataframe thead th {\n",
       "        text-align: right;\n",
       "    }\n",
       "</style>\n",
       "<table border=\"1\" class=\"dataframe\">\n",
       "  <thead>\n",
       "    <tr style=\"text-align: right;\">\n",
       "      <th></th>\n",
       "      <th>count</th>\n",
       "      <th>unique</th>\n",
       "      <th>top</th>\n",
       "      <th>freq</th>\n",
       "      <th>% of tops freq</th>\n",
       "      <th>first</th>\n",
       "      <th>last</th>\n",
       "    </tr>\n",
       "  </thead>\n",
       "  <tbody>\n",
       "    <tr>\n",
       "      <th>timestamp</th>\n",
       "      <td>244126</td>\n",
       "      <td>176654</td>\n",
       "      <td>2019-08-01 14:40:35</td>\n",
       "      <td>9</td>\n",
       "      <td>0.00</td>\n",
       "      <td>2019-07-25 04:43:36</td>\n",
       "      <td>2019-08-07 21:15:17</td>\n",
       "    </tr>\n",
       "    <tr>\n",
       "      <th>date</th>\n",
       "      <td>244126</td>\n",
       "      <td>14</td>\n",
       "      <td>2019-08-01</td>\n",
       "      <td>36229</td>\n",
       "      <td>14.84</td>\n",
       "      <td>---</td>\n",
       "      <td>---</td>\n",
       "    </tr>\n",
       "    <tr>\n",
       "      <th>group</th>\n",
       "      <td>244126</td>\n",
       "      <td>3</td>\n",
       "      <td>B_test</td>\n",
       "      <td>85747</td>\n",
       "      <td>35.12</td>\n",
       "      <td>---</td>\n",
       "      <td>---</td>\n",
       "    </tr>\n",
       "    <tr>\n",
       "      <th>event</th>\n",
       "      <td>244126</td>\n",
       "      <td>5</td>\n",
       "      <td>main screen</td>\n",
       "      <td>119205</td>\n",
       "      <td>48.83</td>\n",
       "      <td>---</td>\n",
       "      <td>---</td>\n",
       "    </tr>\n",
       "  </tbody>\n",
       "</table>\n",
       "</div>"
      ],
      "text/plain": [
       "            count  unique                  top    freq  % of tops freq  \\\n",
       "timestamp  244126  176654  2019-08-01 14:40:35       9            0.00   \n",
       "date       244126      14           2019-08-01   36229           14.84   \n",
       "group      244126       3               B_test   85747           35.12   \n",
       "event      244126       5          main screen  119205           48.83   \n",
       "\n",
       "                         first                 last  \n",
       "timestamp  2019-07-25 04:43:36  2019-08-07 21:15:17  \n",
       "date                       ---                  ---  \n",
       "group                      ---                  ---  \n",
       "event                      ---                  ---  "
      ]
     },
     "metadata": {},
     "output_type": "display_data"
    }
   ],
   "source": [
    "reader.basic_info_printer(logs)"
   ]
  },
  {
   "cell_type": "markdown",
   "id": "productive-mattress",
   "metadata": {
    "tags": []
   },
   "source": [
    "### - посчитаем количество дубликатов"
   ]
  },
  {
   "cell_type": "code",
   "execution_count": 6,
   "id": "enormous-ballet",
   "metadata": {},
   "outputs": [
    {
     "data": {
      "text/plain": [
       "413"
      ]
     },
     "execution_count": 6,
     "metadata": {},
     "output_type": "execute_result"
    }
   ],
   "source": [
    "logs.duplicated().sum()"
   ]
  },
  {
   "cell_type": "markdown",
   "id": "artistic-mediterranean",
   "metadata": {
    "tags": []
   },
   "source": [
    "### - исключим дубликаты"
   ]
  },
  {
   "cell_type": "markdown",
   "id": "coastal-installation",
   "metadata": {},
   "source": [
    "Поскольку выявленны именно полные дубликаты - принимая во внимание, что в том числе это дубликаты по полной дате - в отстутвии возможности уточнить у поставщика данных природу возникновения дубликатов, учитывая что 413 наблдений составляют менее 1% от наблюдений: принято решение исключить их из исследования на стадии подготовки, предварительно сохранив копию."
   ]
  },
  {
   "cell_type": "code",
   "execution_count": 7,
   "id": "wound-arrest",
   "metadata": {},
   "outputs": [],
   "source": [
    "duplicates = logs[logs.duplicated()].copy()"
   ]
  },
  {
   "cell_type": "code",
   "execution_count": 8,
   "id": "first-school",
   "metadata": {},
   "outputs": [
    {
     "data": {
      "text/html": [
       "<div>\n",
       "<style scoped>\n",
       "    .dataframe tbody tr th:only-of-type {\n",
       "        vertical-align: middle;\n",
       "    }\n",
       "\n",
       "    .dataframe tbody tr th {\n",
       "        vertical-align: top;\n",
       "    }\n",
       "\n",
       "    .dataframe thead th {\n",
       "        text-align: right;\n",
       "    }\n",
       "</style>\n",
       "<table border=\"1\" class=\"dataframe\">\n",
       "  <thead>\n",
       "    <tr style=\"text-align: right;\">\n",
       "      <th></th>\n",
       "      <th>event</th>\n",
       "      <th>id</th>\n",
       "      <th>origin_timestamp</th>\n",
       "      <th>group</th>\n",
       "      <th>timestamp</th>\n",
       "      <th>date</th>\n",
       "    </tr>\n",
       "  </thead>\n",
       "  <tbody>\n",
       "    <tr>\n",
       "      <th>0</th>\n",
       "      <td>main screen</td>\n",
       "      <td>4575588528974610257</td>\n",
       "      <td>1564029816</td>\n",
       "      <td>A_one</td>\n",
       "      <td>2019-07-25 04:43:36</td>\n",
       "      <td>2019-07-25</td>\n",
       "    </tr>\n",
       "    <tr>\n",
       "      <th>1</th>\n",
       "      <td>main screen</td>\n",
       "      <td>7416695313311560658</td>\n",
       "      <td>1564053102</td>\n",
       "      <td>A_one</td>\n",
       "      <td>2019-07-25 11:11:42</td>\n",
       "      <td>2019-07-25</td>\n",
       "    </tr>\n",
       "    <tr>\n",
       "      <th>2</th>\n",
       "      <td>payment</td>\n",
       "      <td>3518123091307005509</td>\n",
       "      <td>1564054127</td>\n",
       "      <td>B_test</td>\n",
       "      <td>2019-07-25 11:28:47</td>\n",
       "      <td>2019-07-25</td>\n",
       "    </tr>\n",
       "    <tr>\n",
       "      <th>3</th>\n",
       "      <td>cart</td>\n",
       "      <td>3518123091307005509</td>\n",
       "      <td>1564054127</td>\n",
       "      <td>B_test</td>\n",
       "      <td>2019-07-25 11:28:47</td>\n",
       "      <td>2019-07-25</td>\n",
       "    </tr>\n",
       "    <tr>\n",
       "      <th>4</th>\n",
       "      <td>payment</td>\n",
       "      <td>6217807653094995999</td>\n",
       "      <td>1564055322</td>\n",
       "      <td>B_test</td>\n",
       "      <td>2019-07-25 11:48:42</td>\n",
       "      <td>2019-07-25</td>\n",
       "    </tr>\n",
       "    <tr>\n",
       "      <th>...</th>\n",
       "      <td>...</td>\n",
       "      <td>...</td>\n",
       "      <td>...</td>\n",
       "      <td>...</td>\n",
       "      <td>...</td>\n",
       "      <td>...</td>\n",
       "    </tr>\n",
       "    <tr>\n",
       "      <th>244121</th>\n",
       "      <td>main screen</td>\n",
       "      <td>4599628364049201812</td>\n",
       "      <td>1565212345</td>\n",
       "      <td>A_two</td>\n",
       "      <td>2019-08-07 21:12:25</td>\n",
       "      <td>2019-08-07</td>\n",
       "    </tr>\n",
       "    <tr>\n",
       "      <th>244122</th>\n",
       "      <td>main screen</td>\n",
       "      <td>5849806612437486590</td>\n",
       "      <td>1565212439</td>\n",
       "      <td>A_one</td>\n",
       "      <td>2019-08-07 21:13:59</td>\n",
       "      <td>2019-08-07</td>\n",
       "    </tr>\n",
       "    <tr>\n",
       "      <th>244123</th>\n",
       "      <td>main screen</td>\n",
       "      <td>5746969938801999050</td>\n",
       "      <td>1565212483</td>\n",
       "      <td>A_one</td>\n",
       "      <td>2019-08-07 21:14:43</td>\n",
       "      <td>2019-08-07</td>\n",
       "    </tr>\n",
       "    <tr>\n",
       "      <th>244124</th>\n",
       "      <td>main screen</td>\n",
       "      <td>5746969938801999050</td>\n",
       "      <td>1565212498</td>\n",
       "      <td>A_one</td>\n",
       "      <td>2019-08-07 21:14:58</td>\n",
       "      <td>2019-08-07</td>\n",
       "    </tr>\n",
       "    <tr>\n",
       "      <th>244125</th>\n",
       "      <td>offer screen</td>\n",
       "      <td>5746969938801999050</td>\n",
       "      <td>1565212517</td>\n",
       "      <td>A_one</td>\n",
       "      <td>2019-08-07 21:15:17</td>\n",
       "      <td>2019-08-07</td>\n",
       "    </tr>\n",
       "  </tbody>\n",
       "</table>\n",
       "<p>243713 rows × 6 columns</p>\n",
       "</div>"
      ],
      "text/plain": [
       "               event                   id  origin_timestamp   group  \\\n",
       "0        main screen  4575588528974610257        1564029816   A_one   \n",
       "1        main screen  7416695313311560658        1564053102   A_one   \n",
       "2            payment  3518123091307005509        1564054127  B_test   \n",
       "3               cart  3518123091307005509        1564054127  B_test   \n",
       "4            payment  6217807653094995999        1564055322  B_test   \n",
       "...              ...                  ...               ...     ...   \n",
       "244121   main screen  4599628364049201812        1565212345   A_two   \n",
       "244122   main screen  5849806612437486590        1565212439   A_one   \n",
       "244123   main screen  5746969938801999050        1565212483   A_one   \n",
       "244124   main screen  5746969938801999050        1565212498   A_one   \n",
       "244125  offer screen  5746969938801999050        1565212517   A_one   \n",
       "\n",
       "                 timestamp        date  \n",
       "0      2019-07-25 04:43:36  2019-07-25  \n",
       "1      2019-07-25 11:11:42  2019-07-25  \n",
       "2      2019-07-25 11:28:47  2019-07-25  \n",
       "3      2019-07-25 11:28:47  2019-07-25  \n",
       "4      2019-07-25 11:48:42  2019-07-25  \n",
       "...                    ...         ...  \n",
       "244121 2019-08-07 21:12:25  2019-08-07  \n",
       "244122 2019-08-07 21:13:59  2019-08-07  \n",
       "244123 2019-08-07 21:14:43  2019-08-07  \n",
       "244124 2019-08-07 21:14:58  2019-08-07  \n",
       "244125 2019-08-07 21:15:17  2019-08-07  \n",
       "\n",
       "[243713 rows x 6 columns]"
      ]
     },
     "execution_count": 8,
     "metadata": {},
     "output_type": "execute_result"
    }
   ],
   "source": [
    "logs.drop_duplicates(inplace=True)\n",
    "logs"
   ]
  },
  {
   "cell_type": "markdown",
   "id": "cognitive-throat",
   "metadata": {
    "tags": []
   },
   "source": [
    "### - проверим последовательно ли идут события"
   ]
  },
  {
   "cell_type": "markdown",
   "id": "clean-wisconsin",
   "metadata": {},
   "source": [
    "Убедимся в том, что события представлены последовательно во времени, поскольку это критично для целей анализа -в том числе с целью определения последовательности взаимодействия с приложением:"
   ]
  },
  {
   "cell_type": "code",
   "execution_count": 9,
   "id": "subjective-township",
   "metadata": {},
   "outputs": [
    {
     "data": {
      "text/plain": [
       "True"
      ]
     },
     "execution_count": 9,
     "metadata": {},
     "output_type": "execute_result"
    }
   ],
   "source": [
    "logs['timestamp'].is_monotonic"
   ]
  },
  {
   "cell_type": "markdown",
   "id": "advance-performer",
   "metadata": {
    "tags": []
   },
   "source": [
    "&#9889; **Выводы**\n",
    "\n",
    "1. В представленных данных наблюдения за две недели: от 25 июля 2019 года до 07.08.2019 года. Данные идут последовательно.\n",
    "2. Больше всего наблюдений от 01 августе 2019 года (36 299 из 244 126, 15%).\n",
    "3. Больше всего наблюдений о тестовой группе В - 35% (85 747). Требуется дополнительно проверить разбиение групп.\n",
    "4. В данных обнаружено 413 полных дубликатов, принято решение об исключении дубликатов на стадии подготовки: получен датасет в 243 713 строк и 6 колонок."
   ]
  },
  {
   "cell_type": "markdown",
   "id": "stupid-harvey",
   "metadata": {
    "tags": []
   },
   "source": [
    "[В оглавление](#TOC)"
   ]
  },
  {
   "cell_type": "markdown",
   "id": "purple-developer",
   "metadata": {
    "tags": []
   },
   "source": [
    "# II. Исследовательский анализ данных<a class='anchor' id='2'></a>"
   ]
  },
  {
   "cell_type": "markdown",
   "id": "spatial-albany",
   "metadata": {},
   "source": [
    "## 1) Общие сведения о событиях и пользователях <a class=\"anchor\" id=\"2_1\"></a>"
   ]
  },
  {
   "cell_type": "markdown",
   "id": "charming-manufacturer",
   "metadata": {},
   "source": [
    "### - cколько всего событий и пользователей в логе"
   ]
  },
  {
   "cell_type": "code",
   "execution_count": 10,
   "id": "under-stretch",
   "metadata": {},
   "outputs": [
    {
     "data": {
      "text/html": [
       "<div>\n",
       "<style scoped>\n",
       "    .dataframe tbody tr th:only-of-type {\n",
       "        vertical-align: middle;\n",
       "    }\n",
       "\n",
       "    .dataframe tbody tr th {\n",
       "        vertical-align: top;\n",
       "    }\n",
       "\n",
       "    .dataframe thead th {\n",
       "        text-align: right;\n",
       "    }\n",
       "</style>\n",
       "<table border=\"1\" class=\"dataframe\">\n",
       "  <thead>\n",
       "    <tr style=\"text-align: right;\">\n",
       "      <th></th>\n",
       "      <th>event</th>\n",
       "      <th>unique_users</th>\n",
       "      <th>total_users</th>\n",
       "      <th>percent</th>\n",
       "    </tr>\n",
       "  </thead>\n",
       "  <tbody>\n",
       "    <tr>\n",
       "      <th>1</th>\n",
       "      <td>main screen</td>\n",
       "      <td>7439</td>\n",
       "      <td>7551</td>\n",
       "      <td>98.52</td>\n",
       "    </tr>\n",
       "    <tr>\n",
       "      <th>2</th>\n",
       "      <td>offer screen</td>\n",
       "      <td>4613</td>\n",
       "      <td>7551</td>\n",
       "      <td>61.09</td>\n",
       "    </tr>\n",
       "    <tr>\n",
       "      <th>0</th>\n",
       "      <td>cart</td>\n",
       "      <td>3749</td>\n",
       "      <td>7551</td>\n",
       "      <td>49.65</td>\n",
       "    </tr>\n",
       "    <tr>\n",
       "      <th>3</th>\n",
       "      <td>payment</td>\n",
       "      <td>3547</td>\n",
       "      <td>7551</td>\n",
       "      <td>46.97</td>\n",
       "    </tr>\n",
       "    <tr>\n",
       "      <th>4</th>\n",
       "      <td>tutorial</td>\n",
       "      <td>847</td>\n",
       "      <td>7551</td>\n",
       "      <td>11.22</td>\n",
       "    </tr>\n",
       "  </tbody>\n",
       "</table>\n",
       "</div>"
      ],
      "text/plain": [
       "          event  unique_users  total_users  percent\n",
       "1   main screen          7439         7551    98.52\n",
       "2  offer screen          4613         7551    61.09\n",
       "0          cart          3749         7551    49.65\n",
       "3       payment          3547         7551    46.97\n",
       "4      tutorial           847         7551    11.22"
      ]
     },
     "execution_count": 10,
     "metadata": {},
     "output_type": "execute_result"
    }
   ],
   "source": [
    "# Группируем данные по событиям, считаем уникальных пользователей\n",
    "events_and_users = logs.groupby('event', as_index=False).agg({'id': 'nunique'})\n",
    "\n",
    "# Считаем общее число уникальных пользователей\n",
    "events_and_users['total_users'] = logs['id'].nunique()\n",
    "\n",
    "# Считаем долю пользователей для каждого события\n",
    "events_and_users['percent'] = round(events_and_users['id'] * 100 / \n",
    "                                    events_and_users['total_users'], 2)\n",
    "\n",
    "# Переименовываем и сортируем результат\n",
    "events_and_users.rename(columns={'id': 'unique_users'}, inplace=True)\n",
    "events_and_users.sort_values(by='percent', ascending=False)"
   ]
  },
  {
   "cell_type": "markdown",
   "id": "connected-rebel",
   "metadata": {
    "tags": []
   },
   "source": [
    "&#9889; **Выводы**\n",
    "\n",
    "1. В представленном датасете 243 713 наблюдений о 7 551 уникальном пользователе.\n",
    "2. Всего в датасете представлено пять событий:\n",
    "    - main screen (посетило 7 439 уникальных пользователей из 7 551, 98.47%)\n",
    "    - offer screen (посетило 4613 уникальных пользователей из 7 551, 60.96%)\n",
    "    - cart (посетило 3749 уникальных пользователей из 7 551, 49.56%)\n",
    "    - payment (посетило 3547 уникальных пользователей из 7 551, 46.97%)\n",
    "    - tutorial (посетило 847 уникальных пользователей из 7 551, 11.15%)\n",
    "\n",
    "\n",
    "3. В целом, почти половина из тех, кто пришел - что-то купили."
   ]
  },
  {
   "cell_type": "markdown",
   "id": "connected-certification",
   "metadata": {},
   "source": [
    "### - cколько в среднем событий приходится на пользователя"
   ]
  },
  {
   "cell_type": "markdown",
   "id": "precise-nursing",
   "metadata": {},
   "source": [
    "Чтобы посчитать сколько в среднем событый приходится на пользователя воспользуемся группировкой:"
   ]
  },
  {
   "cell_type": "code",
   "execution_count": 11,
   "id": "equipped-national",
   "metadata": {},
   "outputs": [
    {
     "data": {
      "text/html": [
       "<div>\n",
       "<style scoped>\n",
       "    .dataframe tbody tr th:only-of-type {\n",
       "        vertical-align: middle;\n",
       "    }\n",
       "\n",
       "    .dataframe tbody tr th {\n",
       "        vertical-align: top;\n",
       "    }\n",
       "\n",
       "    .dataframe thead th {\n",
       "        text-align: right;\n",
       "    }\n",
       "</style>\n",
       "<table border=\"1\" class=\"dataframe\">\n",
       "  <thead>\n",
       "    <tr style=\"text-align: right;\">\n",
       "      <th></th>\n",
       "      <th>event</th>\n",
       "      <th>mean_per_user</th>\n",
       "    </tr>\n",
       "  </thead>\n",
       "  <tbody>\n",
       "    <tr>\n",
       "      <th>0</th>\n",
       "      <td>main screen</td>\n",
       "      <td>16.010351</td>\n",
       "    </tr>\n",
       "    <tr>\n",
       "      <th>1</th>\n",
       "      <td>cart</td>\n",
       "      <td>11.381168</td>\n",
       "    </tr>\n",
       "    <tr>\n",
       "      <th>2</th>\n",
       "      <td>offer screen</td>\n",
       "      <td>10.146976</td>\n",
       "    </tr>\n",
       "    <tr>\n",
       "      <th>3</th>\n",
       "      <td>payment</td>\n",
       "      <td>9.618833</td>\n",
       "    </tr>\n",
       "    <tr>\n",
       "      <th>4</th>\n",
       "      <td>tutorial</td>\n",
       "      <td>1.201889</td>\n",
       "    </tr>\n",
       "    <tr>\n",
       "      <th>5</th>\n",
       "      <td>All events</td>\n",
       "      <td>32.275593</td>\n",
       "    </tr>\n",
       "  </tbody>\n",
       "</table>\n",
       "</div>"
      ],
      "text/plain": [
       "          event  mean_per_user\n",
       "0   main screen      16.010351\n",
       "1          cart      11.381168\n",
       "2  offer screen      10.146976\n",
       "3       payment       9.618833\n",
       "4      tutorial       1.201889\n",
       "5    All events      32.275593"
      ]
     },
     "execution_count": 11,
     "metadata": {},
     "output_type": "execute_result"
    }
   ],
   "source": [
    "# Посчитам сколько из каждого вида событый у каждого пользоватлей\n",
    "count_events = logs.groupby(['event', 'id'],\n",
    "                            as_index=False).agg({'date': 'count'})\n",
    "\n",
    "# Сгруппируем результат по событию и посчитаем среднее\n",
    "mean_events = count_events.groupby(\n",
    "    'event', as_index=False).agg({'date': 'mean'})\n",
    "\n",
    "# Переименуем колонку со средним\n",
    "mean_events.rename(columns={'date': 'mean_per_user'}, inplace=True)\n",
    "\n",
    "# Отсортируем результат\n",
    "mean_events.sort_values(by='mean_per_user', ascending=False, inplace=True)\n",
    "\n",
    "# Добавим среднее на пользователя по событяим в совокупности\n",
    "result_row = pd.Series(['All events',\n",
    "                        len(logs) / logs['id'].nunique()],\n",
    "                       index=mean_events.columns)\n",
    "mean_events = mean_events.append(result_row, ignore_index=True)\n",
    "\n",
    "mean_events"
   ]
  },
  {
   "cell_type": "markdown",
   "id": "distributed-questionnaire",
   "metadata": {
    "tags": []
   },
   "source": [
    "&#9889; **Выводы**\n",
    "\n",
    "1. В среднем, на пользователя приходится 32.27 событий.\n",
    "2. Из пяти событий в представленных данных на пользователя, в среднем, приходится:\n",
    "    - 16 посещений главного экрана,\n",
    "    - 11.38 посещений корзины,\n",
    "    - 10.14 посещенйй страницы с предложениями,\n",
    "    - 9.6 платежей,\n",
    "    - 1.2 обучение\n",
    "3. Как следствие, средний пользователь один раз проходит обучение, но зато потом почти десять раз купит что-то."
   ]
  },
  {
   "cell_type": "markdown",
   "id": "municipal-myrtle",
   "metadata": {},
   "source": [
    "[В оглавление](#TOC)"
   ]
  },
  {
   "cell_type": "markdown",
   "id": "documentary-blair",
   "metadata": {},
   "source": [
    "## 2) Сведения о периоде логирования <a class=\"anchor\" id=\"2_2\"></a>"
   ]
  },
  {
   "cell_type": "markdown",
   "id": "retired-lancaster",
   "metadata": {},
   "source": [
    "### - период логирования, максимальная и минимальные даты записи"
   ]
  },
  {
   "cell_type": "code",
   "execution_count": 12,
   "id": "phantom-refund",
   "metadata": {},
   "outputs": [
    {
     "data": {
      "text/html": [
       "<div>\n",
       "<style scoped>\n",
       "    .dataframe tbody tr th:only-of-type {\n",
       "        vertical-align: middle;\n",
       "    }\n",
       "\n",
       "    .dataframe tbody tr th {\n",
       "        vertical-align: top;\n",
       "    }\n",
       "\n",
       "    .dataframe thead th {\n",
       "        text-align: right;\n",
       "    }\n",
       "</style>\n",
       "<table border=\"1\" class=\"dataframe\">\n",
       "  <thead>\n",
       "    <tr style=\"text-align: right;\">\n",
       "      <th></th>\n",
       "      <th>count</th>\n",
       "      <th>unique</th>\n",
       "      <th>top</th>\n",
       "      <th>freq</th>\n",
       "      <th>% of tops freq</th>\n",
       "      <th>first</th>\n",
       "      <th>last</th>\n",
       "    </tr>\n",
       "  </thead>\n",
       "  <tbody>\n",
       "    <tr>\n",
       "      <th>timestamp</th>\n",
       "      <td>243713</td>\n",
       "      <td>176654</td>\n",
       "      <td>2019-08-01 14:40:35</td>\n",
       "      <td>9</td>\n",
       "      <td>0.00</td>\n",
       "      <td>2019-07-25 04:43:36</td>\n",
       "      <td>2019-08-07 21:15:17</td>\n",
       "    </tr>\n",
       "    <tr>\n",
       "      <th>date</th>\n",
       "      <td>243713</td>\n",
       "      <td>14</td>\n",
       "      <td>2019-08-01</td>\n",
       "      <td>36141</td>\n",
       "      <td>14.83</td>\n",
       "      <td>---</td>\n",
       "      <td>---</td>\n",
       "    </tr>\n",
       "    <tr>\n",
       "      <th>group</th>\n",
       "      <td>243713</td>\n",
       "      <td>3</td>\n",
       "      <td>B_test</td>\n",
       "      <td>85582</td>\n",
       "      <td>35.12</td>\n",
       "      <td>---</td>\n",
       "      <td>---</td>\n",
       "    </tr>\n",
       "    <tr>\n",
       "      <th>event</th>\n",
       "      <td>243713</td>\n",
       "      <td>5</td>\n",
       "      <td>main screen</td>\n",
       "      <td>119101</td>\n",
       "      <td>48.87</td>\n",
       "      <td>---</td>\n",
       "      <td>---</td>\n",
       "    </tr>\n",
       "  </tbody>\n",
       "</table>\n",
       "</div>"
      ],
      "text/plain": [
       "            count  unique                  top    freq  % of tops freq  \\\n",
       "timestamp  243713  176654  2019-08-01 14:40:35       9            0.00   \n",
       "date       243713      14           2019-08-01   36141           14.83   \n",
       "group      243713       3               B_test   85582           35.12   \n",
       "event      243713       5          main screen  119101           48.87   \n",
       "\n",
       "                         first                 last  \n",
       "timestamp  2019-07-25 04:43:36  2019-08-07 21:15:17  \n",
       "date                       ---                  ---  \n",
       "group                      ---                  ---  \n",
       "event                      ---                  ---  "
      ]
     },
     "execution_count": 12,
     "metadata": {},
     "output_type": "execute_result"
    }
   ],
   "source": [
    "reader.get_describe(logs)"
   ]
  },
  {
   "cell_type": "markdown",
   "id": "secure-professional",
   "metadata": {
    "tags": []
   },
   "source": [
    "Период логирования - с 25.07.2019 до 07.08.2019 года, две недели.\n"
   ]
  },
  {
   "cell_type": "markdown",
   "id": "middle-absolute",
   "metadata": {},
   "source": [
    "### - построим гистограмму по дате и времени"
   ]
  },
  {
   "cell_type": "markdown",
   "id": "serial-classics",
   "metadata": {},
   "source": [
    "Подготовим подписи для графика:"
   ]
  },
  {
   "cell_type": "code",
   "execution_count": 13,
   "id": "removable-accommodation",
   "metadata": {},
   "outputs": [],
   "source": [
    "labels = {'xlabel': 'Дата наблюдений',\n",
    "          'title': 'Наблюдения из логов по дате и времени'}"
   ]
  },
  {
   "cell_type": "markdown",
   "id": "separate-indonesian",
   "metadata": {},
   "source": [
    "Построим гистограмму:"
   ]
  },
  {
   "cell_type": "code",
   "execution_count": 14,
   "id": "lightweight-volume",
   "metadata": {},
   "outputs": [
    {
     "data": {
      "image/png": "[encoded data removed]",
      "text/plain": [
       "<Figure size 1080x720 with 1 Axes>"
      ]
     },
     "metadata": {},
     "output_type": "display_data"
    }
   ],
   "source": [
    "histogram(logs.timestamp, labels=labels)"
   ]
  },
  {
   "cell_type": "markdown",
   "id": "enhanced-beijing",
   "metadata": {},
   "source": [
    "Исходя из гистограммы можно сделать вывод о том, что данных за июль, фактически, нет - наблюдений сравнительно мало. Кроме того, у нас мультимодальное распределние - принимая во внимание наличие семи выраженных пиков с провалами, с некоторой осторожностью, можно предположить, что во временном ряде наблюдаются дневные циклы."
   ]
  },
  {
   "cell_type": "markdown",
   "id": "structured-substitute",
   "metadata": {},
   "source": [
    "### - оценим полноту данных"
   ]
  },
  {
   "cell_type": "markdown",
   "id": "spiritual-guyana",
   "metadata": {},
   "source": [
    "Сгруппируем данные по дате и посчитаем количество наблюдений по каждому дню:"
   ]
  },
  {
   "cell_type": "code",
   "execution_count": 15,
   "id": "descending-guess",
   "metadata": {},
   "outputs": [
    {
     "data": {
      "text/html": [
       "<div>\n",
       "<style scoped>\n",
       "    .dataframe tbody tr th:only-of-type {\n",
       "        vertical-align: middle;\n",
       "    }\n",
       "\n",
       "    .dataframe tbody tr th {\n",
       "        vertical-align: top;\n",
       "    }\n",
       "\n",
       "    .dataframe thead th {\n",
       "        text-align: right;\n",
       "    }\n",
       "</style>\n",
       "<table border=\"1\" class=\"dataframe\">\n",
       "  <thead>\n",
       "    <tr style=\"text-align: right;\">\n",
       "      <th></th>\n",
       "      <th>date</th>\n",
       "      <th>id</th>\n",
       "      <th>percent</th>\n",
       "    </tr>\n",
       "  </thead>\n",
       "  <tbody>\n",
       "    <tr>\n",
       "      <th>7</th>\n",
       "      <td>2019-08-01</td>\n",
       "      <td>36141</td>\n",
       "      <td>14.83</td>\n",
       "    </tr>\n",
       "    <tr>\n",
       "      <th>11</th>\n",
       "      <td>2019-08-05</td>\n",
       "      <td>36058</td>\n",
       "      <td>14.80</td>\n",
       "    </tr>\n",
       "    <tr>\n",
       "      <th>12</th>\n",
       "      <td>2019-08-06</td>\n",
       "      <td>35788</td>\n",
       "      <td>14.68</td>\n",
       "    </tr>\n",
       "    <tr>\n",
       "      <th>8</th>\n",
       "      <td>2019-08-02</td>\n",
       "      <td>35554</td>\n",
       "      <td>14.59</td>\n",
       "    </tr>\n",
       "    <tr>\n",
       "      <th>9</th>\n",
       "      <td>2019-08-03</td>\n",
       "      <td>33282</td>\n",
       "      <td>13.66</td>\n",
       "    </tr>\n",
       "    <tr>\n",
       "      <th>10</th>\n",
       "      <td>2019-08-04</td>\n",
       "      <td>32968</td>\n",
       "      <td>13.53</td>\n",
       "    </tr>\n",
       "    <tr>\n",
       "      <th>13</th>\n",
       "      <td>2019-08-07</td>\n",
       "      <td>31096</td>\n",
       "      <td>12.76</td>\n",
       "    </tr>\n",
       "    <tr>\n",
       "      <th>6</th>\n",
       "      <td>2019-07-31</td>\n",
       "      <td>2030</td>\n",
       "      <td>0.83</td>\n",
       "    </tr>\n",
       "    <tr>\n",
       "      <th>5</th>\n",
       "      <td>2019-07-30</td>\n",
       "      <td>412</td>\n",
       "      <td>0.17</td>\n",
       "    </tr>\n",
       "    <tr>\n",
       "      <th>4</th>\n",
       "      <td>2019-07-29</td>\n",
       "      <td>184</td>\n",
       "      <td>0.08</td>\n",
       "    </tr>\n",
       "    <tr>\n",
       "      <th>3</th>\n",
       "      <td>2019-07-28</td>\n",
       "      <td>105</td>\n",
       "      <td>0.04</td>\n",
       "    </tr>\n",
       "    <tr>\n",
       "      <th>2</th>\n",
       "      <td>2019-07-27</td>\n",
       "      <td>55</td>\n",
       "      <td>0.02</td>\n",
       "    </tr>\n",
       "    <tr>\n",
       "      <th>1</th>\n",
       "      <td>2019-07-26</td>\n",
       "      <td>31</td>\n",
       "      <td>0.01</td>\n",
       "    </tr>\n",
       "    <tr>\n",
       "      <th>0</th>\n",
       "      <td>2019-07-25</td>\n",
       "      <td>9</td>\n",
       "      <td>0.00</td>\n",
       "    </tr>\n",
       "  </tbody>\n",
       "</table>\n",
       "</div>"
      ],
      "text/plain": [
       "          date     id  percent\n",
       "7   2019-08-01  36141    14.83\n",
       "11  2019-08-05  36058    14.80\n",
       "12  2019-08-06  35788    14.68\n",
       "8   2019-08-02  35554    14.59\n",
       "9   2019-08-03  33282    13.66\n",
       "10  2019-08-04  32968    13.53\n",
       "13  2019-08-07  31096    12.76\n",
       "6   2019-07-31   2030     0.83\n",
       "5   2019-07-30    412     0.17\n",
       "4   2019-07-29    184     0.08\n",
       "3   2019-07-28    105     0.04\n",
       "2   2019-07-27     55     0.02\n",
       "1   2019-07-26     31     0.01\n",
       "0   2019-07-25      9     0.00"
      ]
     },
     "execution_count": 15,
     "metadata": {},
     "output_type": "execute_result"
    }
   ],
   "source": [
    "grouped_by_date = simple_grouper(logs, 'date')\n",
    "grouped_by_date"
   ]
  },
  {
   "cell_type": "markdown",
   "id": "disciplinary-hostel",
   "metadata": {},
   "source": [
    "Табличные данные подтверждают относительную малочисленность данных за июль замеченные на гистограмме: за период от 25.07.2019 года до 31.07.2019 года зафиксировано чуть более 1% всех наблюдений о пользователях. Посчитаем сколько наблюдений попало в период от 25 до 31 июля:"
   ]
  },
  {
   "cell_type": "code",
   "execution_count": 16,
   "id": "brief-microphone",
   "metadata": {},
   "outputs": [
    {
     "data": {
      "text/plain": [
       "id         2826.00\n",
       "percent       1.15\n",
       "dtype: float64"
      ]
     },
     "execution_count": 16,
     "metadata": {},
     "output_type": "execute_result"
    }
   ],
   "source": [
    "grouped_by_date.query('percent < 1').sum()"
   ]
  },
  {
   "cell_type": "markdown",
   "id": "better-fight",
   "metadata": {},
   "source": [
    "Всего 2826 из 243 713 наблюдений, 1.15%, попали в период от 25 до 31 июля. Для целей анализа, принимая во внимание малочисленность наблюдений за этот период, данные за указанный период можно исключить."
   ]
  },
  {
   "cell_type": "markdown",
   "id": "written-porter",
   "metadata": {},
   "source": [
    "### - исключим неполные логи"
   ]
  },
  {
   "cell_type": "markdown",
   "id": "deadly-amino",
   "metadata": {},
   "source": [
    "Сохраним также логи за июль: это повод обратиться к поставщику данных, возможно, стоит проверить правильно ли ведутся ли логи."
   ]
  },
  {
   "cell_type": "code",
   "execution_count": 17,
   "id": "composed-office",
   "metadata": {},
   "outputs": [
    {
     "data": {
      "text/html": [
       "<div>\n",
       "<style scoped>\n",
       "    .dataframe tbody tr th:only-of-type {\n",
       "        vertical-align: middle;\n",
       "    }\n",
       "\n",
       "    .dataframe tbody tr th {\n",
       "        vertical-align: top;\n",
       "    }\n",
       "\n",
       "    .dataframe thead th {\n",
       "        text-align: right;\n",
       "    }\n",
       "</style>\n",
       "<table border=\"1\" class=\"dataframe\">\n",
       "  <thead>\n",
       "    <tr style=\"text-align: right;\">\n",
       "      <th></th>\n",
       "      <th>event</th>\n",
       "      <th>id</th>\n",
       "      <th>origin_timestamp</th>\n",
       "      <th>group</th>\n",
       "      <th>timestamp</th>\n",
       "      <th>date</th>\n",
       "    </tr>\n",
       "  </thead>\n",
       "  <tbody>\n",
       "    <tr>\n",
       "      <th>0</th>\n",
       "      <td>main screen</td>\n",
       "      <td>4575588528974610257</td>\n",
       "      <td>1564029816</td>\n",
       "      <td>A_one</td>\n",
       "      <td>2019-07-25 04:43:36</td>\n",
       "      <td>2019-07-25</td>\n",
       "    </tr>\n",
       "    <tr>\n",
       "      <th>1</th>\n",
       "      <td>main screen</td>\n",
       "      <td>7416695313311560658</td>\n",
       "      <td>1564053102</td>\n",
       "      <td>A_one</td>\n",
       "      <td>2019-07-25 11:11:42</td>\n",
       "      <td>2019-07-25</td>\n",
       "    </tr>\n",
       "    <tr>\n",
       "      <th>2</th>\n",
       "      <td>payment</td>\n",
       "      <td>3518123091307005509</td>\n",
       "      <td>1564054127</td>\n",
       "      <td>B_test</td>\n",
       "      <td>2019-07-25 11:28:47</td>\n",
       "      <td>2019-07-25</td>\n",
       "    </tr>\n",
       "    <tr>\n",
       "      <th>3</th>\n",
       "      <td>cart</td>\n",
       "      <td>3518123091307005509</td>\n",
       "      <td>1564054127</td>\n",
       "      <td>B_test</td>\n",
       "      <td>2019-07-25 11:28:47</td>\n",
       "      <td>2019-07-25</td>\n",
       "    </tr>\n",
       "    <tr>\n",
       "      <th>4</th>\n",
       "      <td>payment</td>\n",
       "      <td>6217807653094995999</td>\n",
       "      <td>1564055322</td>\n",
       "      <td>B_test</td>\n",
       "      <td>2019-07-25 11:48:42</td>\n",
       "      <td>2019-07-25</td>\n",
       "    </tr>\n",
       "    <tr>\n",
       "      <th>...</th>\n",
       "      <td>...</td>\n",
       "      <td>...</td>\n",
       "      <td>...</td>\n",
       "      <td>...</td>\n",
       "      <td>...</td>\n",
       "      <td>...</td>\n",
       "    </tr>\n",
       "    <tr>\n",
       "      <th>2823</th>\n",
       "      <td>offer screen</td>\n",
       "      <td>2413191300976302222</td>\n",
       "      <td>1564617295</td>\n",
       "      <td>A_two</td>\n",
       "      <td>2019-07-31 23:54:55</td>\n",
       "      <td>2019-07-31</td>\n",
       "    </tr>\n",
       "    <tr>\n",
       "      <th>2824</th>\n",
       "      <td>main screen</td>\n",
       "      <td>5505110279185484837</td>\n",
       "      <td>1564617450</td>\n",
       "      <td>A_two</td>\n",
       "      <td>2019-07-31 23:57:30</td>\n",
       "      <td>2019-07-31</td>\n",
       "    </tr>\n",
       "    <tr>\n",
       "      <th>2825</th>\n",
       "      <td>main screen</td>\n",
       "      <td>5505110279185484837</td>\n",
       "      <td>1564617462</td>\n",
       "      <td>A_two</td>\n",
       "      <td>2019-07-31 23:57:42</td>\n",
       "      <td>2019-07-31</td>\n",
       "    </tr>\n",
       "    <tr>\n",
       "      <th>2826</th>\n",
       "      <td>main screen</td>\n",
       "      <td>5505110279185484837</td>\n",
       "      <td>1564617472</td>\n",
       "      <td>A_two</td>\n",
       "      <td>2019-07-31 23:57:52</td>\n",
       "      <td>2019-07-31</td>\n",
       "    </tr>\n",
       "    <tr>\n",
       "      <th>2827</th>\n",
       "      <td>main screen</td>\n",
       "      <td>2413191300976302222</td>\n",
       "      <td>1564617599</td>\n",
       "      <td>A_two</td>\n",
       "      <td>2019-07-31 23:59:59</td>\n",
       "      <td>2019-07-31</td>\n",
       "    </tr>\n",
       "  </tbody>\n",
       "</table>\n",
       "<p>2826 rows × 6 columns</p>\n",
       "</div>"
      ],
      "text/plain": [
       "             event                   id  origin_timestamp   group  \\\n",
       "0      main screen  4575588528974610257        1564029816   A_one   \n",
       "1      main screen  7416695313311560658        1564053102   A_one   \n",
       "2          payment  3518123091307005509        1564054127  B_test   \n",
       "3             cart  3518123091307005509        1564054127  B_test   \n",
       "4          payment  6217807653094995999        1564055322  B_test   \n",
       "...            ...                  ...               ...     ...   \n",
       "2823  offer screen  2413191300976302222        1564617295   A_two   \n",
       "2824   main screen  5505110279185484837        1564617450   A_two   \n",
       "2825   main screen  5505110279185484837        1564617462   A_two   \n",
       "2826   main screen  5505110279185484837        1564617472   A_two   \n",
       "2827   main screen  2413191300976302222        1564617599   A_two   \n",
       "\n",
       "               timestamp        date  \n",
       "0    2019-07-25 04:43:36  2019-07-25  \n",
       "1    2019-07-25 11:11:42  2019-07-25  \n",
       "2    2019-07-25 11:28:47  2019-07-25  \n",
       "3    2019-07-25 11:28:47  2019-07-25  \n",
       "4    2019-07-25 11:48:42  2019-07-25  \n",
       "...                  ...         ...  \n",
       "2823 2019-07-31 23:54:55  2019-07-31  \n",
       "2824 2019-07-31 23:57:30  2019-07-31  \n",
       "2825 2019-07-31 23:57:42  2019-07-31  \n",
       "2826 2019-07-31 23:57:52  2019-07-31  \n",
       "2827 2019-07-31 23:59:59  2019-07-31  \n",
       "\n",
       "[2826 rows x 6 columns]"
      ]
     },
     "execution_count": 17,
     "metadata": {},
     "output_type": "execute_result"
    }
   ],
   "source": [
    "july_logs = logs.query('timestamp < \"2019-08-01\"').copy()\n",
    "july_logs"
   ]
  },
  {
   "cell_type": "markdown",
   "id": "renewable-million",
   "metadata": {},
   "source": [
    "Сделаем срез за август, выведем общую информацию:"
   ]
  },
  {
   "cell_type": "code",
   "execution_count": 18,
   "id": "defined-aerospace",
   "metadata": {},
   "outputs": [
    {
     "data": {
      "text/plain": [
       "'Пять первых и последних строк'"
      ]
     },
     "metadata": {},
     "output_type": "display_data"
    },
    {
     "data": {
      "text/html": [
       "<div>\n",
       "<style scoped>\n",
       "    .dataframe tbody tr th:only-of-type {\n",
       "        vertical-align: middle;\n",
       "    }\n",
       "\n",
       "    .dataframe tbody tr th {\n",
       "        vertical-align: top;\n",
       "    }\n",
       "\n",
       "    .dataframe thead th {\n",
       "        text-align: right;\n",
       "    }\n",
       "</style>\n",
       "<table border=\"1\" class=\"dataframe\">\n",
       "  <thead>\n",
       "    <tr style=\"text-align: right;\">\n",
       "      <th></th>\n",
       "      <th>event</th>\n",
       "      <th>id</th>\n",
       "      <th>origin_timestamp</th>\n",
       "      <th>group</th>\n",
       "      <th>timestamp</th>\n",
       "      <th>date</th>\n",
       "    </tr>\n",
       "  </thead>\n",
       "  <tbody>\n",
       "    <tr>\n",
       "      <th>0</th>\n",
       "      <td>tutorial</td>\n",
       "      <td>3737462046622621720</td>\n",
       "      <td>1564618048</td>\n",
       "      <td>A_one</td>\n",
       "      <td>2019-08-01 00:07:28</td>\n",
       "      <td>2019-08-01</td>\n",
       "    </tr>\n",
       "    <tr>\n",
       "      <th>1</th>\n",
       "      <td>main screen</td>\n",
       "      <td>3737462046622621720</td>\n",
       "      <td>1564618080</td>\n",
       "      <td>A_one</td>\n",
       "      <td>2019-08-01 00:08:00</td>\n",
       "      <td>2019-08-01</td>\n",
       "    </tr>\n",
       "    <tr>\n",
       "      <th>2</th>\n",
       "      <td>main screen</td>\n",
       "      <td>3737462046622621720</td>\n",
       "      <td>1564618135</td>\n",
       "      <td>A_one</td>\n",
       "      <td>2019-08-01 00:08:55</td>\n",
       "      <td>2019-08-01</td>\n",
       "    </tr>\n",
       "    <tr>\n",
       "      <th>3</th>\n",
       "      <td>offer screen</td>\n",
       "      <td>3737462046622621720</td>\n",
       "      <td>1564618138</td>\n",
       "      <td>A_one</td>\n",
       "      <td>2019-08-01 00:08:58</td>\n",
       "      <td>2019-08-01</td>\n",
       "    </tr>\n",
       "    <tr>\n",
       "      <th>4</th>\n",
       "      <td>main screen</td>\n",
       "      <td>1433840883824088890</td>\n",
       "      <td>1564618139</td>\n",
       "      <td>A_two</td>\n",
       "      <td>2019-08-01 00:08:59</td>\n",
       "      <td>2019-08-01</td>\n",
       "    </tr>\n",
       "    <tr>\n",
       "      <th>...</th>\n",
       "      <td>...</td>\n",
       "      <td>...</td>\n",
       "      <td>...</td>\n",
       "      <td>...</td>\n",
       "      <td>...</td>\n",
       "      <td>...</td>\n",
       "    </tr>\n",
       "    <tr>\n",
       "      <th>240882</th>\n",
       "      <td>main screen</td>\n",
       "      <td>4599628364049201812</td>\n",
       "      <td>1565212345</td>\n",
       "      <td>A_two</td>\n",
       "      <td>2019-08-07 21:12:25</td>\n",
       "      <td>2019-08-07</td>\n",
       "    </tr>\n",
       "    <tr>\n",
       "      <th>240883</th>\n",
       "      <td>main screen</td>\n",
       "      <td>5849806612437486590</td>\n",
       "      <td>1565212439</td>\n",
       "      <td>A_one</td>\n",
       "      <td>2019-08-07 21:13:59</td>\n",
       "      <td>2019-08-07</td>\n",
       "    </tr>\n",
       "    <tr>\n",
       "      <th>240884</th>\n",
       "      <td>main screen</td>\n",
       "      <td>5746969938801999050</td>\n",
       "      <td>1565212483</td>\n",
       "      <td>A_one</td>\n",
       "      <td>2019-08-07 21:14:43</td>\n",
       "      <td>2019-08-07</td>\n",
       "    </tr>\n",
       "    <tr>\n",
       "      <th>240885</th>\n",
       "      <td>main screen</td>\n",
       "      <td>5746969938801999050</td>\n",
       "      <td>1565212498</td>\n",
       "      <td>A_one</td>\n",
       "      <td>2019-08-07 21:14:58</td>\n",
       "      <td>2019-08-07</td>\n",
       "    </tr>\n",
       "    <tr>\n",
       "      <th>240886</th>\n",
       "      <td>offer screen</td>\n",
       "      <td>5746969938801999050</td>\n",
       "      <td>1565212517</td>\n",
       "      <td>A_one</td>\n",
       "      <td>2019-08-07 21:15:17</td>\n",
       "      <td>2019-08-07</td>\n",
       "    </tr>\n",
       "  </tbody>\n",
       "</table>\n",
       "<p>240887 rows × 6 columns</p>\n",
       "</div>"
      ],
      "text/plain": [
       "               event                   id  origin_timestamp  group  \\\n",
       "0           tutorial  3737462046622621720        1564618048  A_one   \n",
       "1        main screen  3737462046622621720        1564618080  A_one   \n",
       "2        main screen  3737462046622621720        1564618135  A_one   \n",
       "3       offer screen  3737462046622621720        1564618138  A_one   \n",
       "4        main screen  1433840883824088890        1564618139  A_two   \n",
       "...              ...                  ...               ...    ...   \n",
       "240882   main screen  4599628364049201812        1565212345  A_two   \n",
       "240883   main screen  5849806612437486590        1565212439  A_one   \n",
       "240884   main screen  5746969938801999050        1565212483  A_one   \n",
       "240885   main screen  5746969938801999050        1565212498  A_one   \n",
       "240886  offer screen  5746969938801999050        1565212517  A_one   \n",
       "\n",
       "                 timestamp        date  \n",
       "0      2019-08-01 00:07:28  2019-08-01  \n",
       "1      2019-08-01 00:08:00  2019-08-01  \n",
       "2      2019-08-01 00:08:55  2019-08-01  \n",
       "3      2019-08-01 00:08:58  2019-08-01  \n",
       "4      2019-08-01 00:08:59  2019-08-01  \n",
       "...                    ...         ...  \n",
       "240882 2019-08-07 21:12:25  2019-08-07  \n",
       "240883 2019-08-07 21:13:59  2019-08-07  \n",
       "240884 2019-08-07 21:14:43  2019-08-07  \n",
       "240885 2019-08-07 21:14:58  2019-08-07  \n",
       "240886 2019-08-07 21:15:17  2019-08-07  \n",
       "\n",
       "[240887 rows x 6 columns]"
      ]
     },
     "metadata": {},
     "output_type": "display_data"
    },
    {
     "data": {
      "text/plain": [
       "'Общая информация о датасете'"
      ]
     },
     "metadata": {},
     "output_type": "display_data"
    },
    {
     "data": {
      "text/html": [
       "<div>\n",
       "<style scoped>\n",
       "    .dataframe tbody tr th:only-of-type {\n",
       "        vertical-align: middle;\n",
       "    }\n",
       "\n",
       "    .dataframe tbody tr th {\n",
       "        vertical-align: top;\n",
       "    }\n",
       "\n",
       "    .dataframe thead th {\n",
       "        text-align: right;\n",
       "    }\n",
       "</style>\n",
       "<table border=\"1\" class=\"dataframe\">\n",
       "  <thead>\n",
       "    <tr style=\"text-align: right;\">\n",
       "      <th></th>\n",
       "      <th>Column</th>\n",
       "      <th>Dtype</th>\n",
       "      <th>Non-Null Count</th>\n",
       "      <th>% of nulls</th>\n",
       "    </tr>\n",
       "  </thead>\n",
       "  <tbody>\n",
       "    <tr>\n",
       "      <th>0</th>\n",
       "      <td>event</td>\n",
       "      <td>object</td>\n",
       "      <td>240887</td>\n",
       "      <td>0.0</td>\n",
       "    </tr>\n",
       "    <tr>\n",
       "      <th>1</th>\n",
       "      <td>id</td>\n",
       "      <td>int64</td>\n",
       "      <td>240887</td>\n",
       "      <td>0.0</td>\n",
       "    </tr>\n",
       "    <tr>\n",
       "      <th>2</th>\n",
       "      <td>origin_timestamp</td>\n",
       "      <td>int64</td>\n",
       "      <td>240887</td>\n",
       "      <td>0.0</td>\n",
       "    </tr>\n",
       "    <tr>\n",
       "      <th>3</th>\n",
       "      <td>group</td>\n",
       "      <td>object</td>\n",
       "      <td>240887</td>\n",
       "      <td>0.0</td>\n",
       "    </tr>\n",
       "    <tr>\n",
       "      <th>4</th>\n",
       "      <td>timestamp</td>\n",
       "      <td>datetime64[ns]</td>\n",
       "      <td>240887</td>\n",
       "      <td>0.0</td>\n",
       "    </tr>\n",
       "    <tr>\n",
       "      <th>5</th>\n",
       "      <td>date</td>\n",
       "      <td>object</td>\n",
       "      <td>240887</td>\n",
       "      <td>0.0</td>\n",
       "    </tr>\n",
       "  </tbody>\n",
       "</table>\n",
       "</div>"
      ],
      "text/plain": [
       "             Column           Dtype  Non-Null Count  % of nulls\n",
       "0             event          object          240887         0.0\n",
       "1                id           int64          240887         0.0\n",
       "2  origin_timestamp           int64          240887         0.0\n",
       "3             group          object          240887         0.0\n",
       "4         timestamp  datetime64[ns]          240887         0.0\n",
       "5              date          object          240887         0.0"
      ]
     },
     "metadata": {},
     "output_type": "display_data"
    },
    {
     "data": {
      "text/plain": [
       "'Описательная статистика'"
      ]
     },
     "metadata": {},
     "output_type": "display_data"
    },
    {
     "data": {
      "text/html": [
       "<div>\n",
       "<style scoped>\n",
       "    .dataframe tbody tr th:only-of-type {\n",
       "        vertical-align: middle;\n",
       "    }\n",
       "\n",
       "    .dataframe tbody tr th {\n",
       "        vertical-align: top;\n",
       "    }\n",
       "\n",
       "    .dataframe thead th {\n",
       "        text-align: right;\n",
       "    }\n",
       "</style>\n",
       "<table border=\"1\" class=\"dataframe\">\n",
       "  <thead>\n",
       "    <tr style=\"text-align: right;\">\n",
       "      <th></th>\n",
       "      <th>count</th>\n",
       "      <th>unique</th>\n",
       "      <th>top</th>\n",
       "      <th>freq</th>\n",
       "      <th>% of tops freq</th>\n",
       "      <th>first</th>\n",
       "      <th>last</th>\n",
       "    </tr>\n",
       "  </thead>\n",
       "  <tbody>\n",
       "    <tr>\n",
       "      <th>timestamp</th>\n",
       "      <td>240887</td>\n",
       "      <td>174044</td>\n",
       "      <td>2019-08-01 14:40:35</td>\n",
       "      <td>9</td>\n",
       "      <td>0.00</td>\n",
       "      <td>2019-08-01 00:07:28</td>\n",
       "      <td>2019-08-07 21:15:17</td>\n",
       "    </tr>\n",
       "    <tr>\n",
       "      <th>date</th>\n",
       "      <td>240887</td>\n",
       "      <td>7</td>\n",
       "      <td>2019-08-01</td>\n",
       "      <td>36141</td>\n",
       "      <td>15.00</td>\n",
       "      <td>---</td>\n",
       "      <td>---</td>\n",
       "    </tr>\n",
       "    <tr>\n",
       "      <th>group</th>\n",
       "      <td>240887</td>\n",
       "      <td>3</td>\n",
       "      <td>B_test</td>\n",
       "      <td>84563</td>\n",
       "      <td>35.10</td>\n",
       "      <td>---</td>\n",
       "      <td>---</td>\n",
       "    </tr>\n",
       "    <tr>\n",
       "      <th>event</th>\n",
       "      <td>240887</td>\n",
       "      <td>5</td>\n",
       "      <td>main screen</td>\n",
       "      <td>117328</td>\n",
       "      <td>48.71</td>\n",
       "      <td>---</td>\n",
       "      <td>---</td>\n",
       "    </tr>\n",
       "  </tbody>\n",
       "</table>\n",
       "</div>"
      ],
      "text/plain": [
       "            count  unique                  top    freq  % of tops freq  \\\n",
       "timestamp  240887  174044  2019-08-01 14:40:35       9            0.00   \n",
       "date       240887       7           2019-08-01   36141           15.00   \n",
       "group      240887       3               B_test   84563           35.10   \n",
       "event      240887       5          main screen  117328           48.71   \n",
       "\n",
       "                         first                 last  \n",
       "timestamp  2019-08-01 00:07:28  2019-08-07 21:15:17  \n",
       "date                       ---                  ---  \n",
       "group                      ---                  ---  \n",
       "event                      ---                  ---  "
      ]
     },
     "metadata": {},
     "output_type": "display_data"
    }
   ],
   "source": [
    "logs = logs.query('timestamp >= \"2019-08-01\"').reset_index(drop=True)\n",
    "reader.basic_info_printer(logs)"
   ]
  },
  {
   "cell_type": "markdown",
   "id": "painful-conversion",
   "metadata": {},
   "source": [
    "&#9889; **Выводы**\n",
    "1. После исключения данных за июль получили таблицу с 240 887 строками и 6 колонками, без пропусков и проблем с данными.\n",
    "2. Период наблюдений от 01.08.2019 года до 07.08.2019 года."
   ]
  },
  {
   "cell_type": "markdown",
   "id": "contrary-spouse",
   "metadata": {
    "tags": []
   },
   "source": [
    "### - проверим группы пользователей"
   ]
  },
  {
   "cell_type": "markdown",
   "id": "included-allah",
   "metadata": {},
   "source": [
    "Соберем профили пользователей:"
   ]
  },
  {
   "cell_type": "code",
   "execution_count": 19,
   "id": "subtle-playback",
   "metadata": {},
   "outputs": [
    {
     "data": {
      "text/html": [
       "<div>\n",
       "<style scoped>\n",
       "    .dataframe tbody tr th:only-of-type {\n",
       "        vertical-align: middle;\n",
       "    }\n",
       "\n",
       "    .dataframe tbody tr th {\n",
       "        vertical-align: top;\n",
       "    }\n",
       "\n",
       "    .dataframe thead th {\n",
       "        text-align: right;\n",
       "    }\n",
       "</style>\n",
       "<table border=\"1\" class=\"dataframe\">\n",
       "  <thead>\n",
       "    <tr style=\"text-align: right;\">\n",
       "      <th></th>\n",
       "      <th>id</th>\n",
       "      <th>timestamp</th>\n",
       "      <th>first_ts</th>\n",
       "      <th>group</th>\n",
       "      <th>dt</th>\n",
       "      <th>month</th>\n",
       "      <th>last_event</th>\n",
       "      <th>payer</th>\n",
       "    </tr>\n",
       "  </thead>\n",
       "  <tbody>\n",
       "    <tr>\n",
       "      <th>0</th>\n",
       "      <td>6888746892508752</td>\n",
       "      <td>2019-08-06 14:06:34</td>\n",
       "      <td>2019-08-06</td>\n",
       "      <td>A_one</td>\n",
       "      <td>2019-08-06</td>\n",
       "      <td>2019-08-01</td>\n",
       "      <td>main screen</td>\n",
       "      <td>False</td>\n",
       "    </tr>\n",
       "    <tr>\n",
       "      <th>1</th>\n",
       "      <td>6909561520679493</td>\n",
       "      <td>2019-08-06 18:52:54</td>\n",
       "      <td>2019-08-06</td>\n",
       "      <td>A_two</td>\n",
       "      <td>2019-08-06</td>\n",
       "      <td>2019-08-01</td>\n",
       "      <td>payment</td>\n",
       "      <td>True</td>\n",
       "    </tr>\n",
       "    <tr>\n",
       "      <th>2</th>\n",
       "      <td>6922444491712477</td>\n",
       "      <td>2019-08-04 14:19:33</td>\n",
       "      <td>2019-08-04</td>\n",
       "      <td>A_one</td>\n",
       "      <td>2019-08-04</td>\n",
       "      <td>2019-08-01</td>\n",
       "      <td>payment</td>\n",
       "      <td>True</td>\n",
       "    </tr>\n",
       "    <tr>\n",
       "      <th>3</th>\n",
       "      <td>7435777799948366</td>\n",
       "      <td>2019-08-05 08:06:34</td>\n",
       "      <td>2019-08-05</td>\n",
       "      <td>B_test</td>\n",
       "      <td>2019-08-05</td>\n",
       "      <td>2019-08-01</td>\n",
       "      <td>main screen</td>\n",
       "      <td>False</td>\n",
       "    </tr>\n",
       "    <tr>\n",
       "      <th>4</th>\n",
       "      <td>7702139951469979</td>\n",
       "      <td>2019-08-01 04:29:54</td>\n",
       "      <td>2019-08-01</td>\n",
       "      <td>A_two</td>\n",
       "      <td>2019-08-01</td>\n",
       "      <td>2019-08-01</td>\n",
       "      <td>payment</td>\n",
       "      <td>True</td>\n",
       "    </tr>\n",
       "    <tr>\n",
       "      <th>...</th>\n",
       "      <td>...</td>\n",
       "      <td>...</td>\n",
       "      <td>...</td>\n",
       "      <td>...</td>\n",
       "      <td>...</td>\n",
       "      <td>...</td>\n",
       "      <td>...</td>\n",
       "      <td>...</td>\n",
       "    </tr>\n",
       "    <tr>\n",
       "      <th>7529</th>\n",
       "      <td>9217594193087726423</td>\n",
       "      <td>2019-08-02 09:00:57</td>\n",
       "      <td>2019-08-02</td>\n",
       "      <td>A_one</td>\n",
       "      <td>2019-08-02</td>\n",
       "      <td>2019-08-01</td>\n",
       "      <td>payment</td>\n",
       "      <td>True</td>\n",
       "    </tr>\n",
       "    <tr>\n",
       "      <th>7530</th>\n",
       "      <td>9219463515465815368</td>\n",
       "      <td>2019-08-05 05:26:26</td>\n",
       "      <td>2019-08-05</td>\n",
       "      <td>B_test</td>\n",
       "      <td>2019-08-05</td>\n",
       "      <td>2019-08-01</td>\n",
       "      <td>payment</td>\n",
       "      <td>True</td>\n",
       "    </tr>\n",
       "    <tr>\n",
       "      <th>7531</th>\n",
       "      <td>9220879493065341500</td>\n",
       "      <td>2019-08-02 17:58:48</td>\n",
       "      <td>2019-08-02</td>\n",
       "      <td>A_one</td>\n",
       "      <td>2019-08-02</td>\n",
       "      <td>2019-08-01</td>\n",
       "      <td>offer screen</td>\n",
       "      <td>False</td>\n",
       "    </tr>\n",
       "    <tr>\n",
       "      <th>7532</th>\n",
       "      <td>9221926045299980007</td>\n",
       "      <td>2019-08-01 17:30:27</td>\n",
       "      <td>2019-08-01</td>\n",
       "      <td>A_one</td>\n",
       "      <td>2019-08-01</td>\n",
       "      <td>2019-08-01</td>\n",
       "      <td>main screen</td>\n",
       "      <td>False</td>\n",
       "    </tr>\n",
       "    <tr>\n",
       "      <th>7533</th>\n",
       "      <td>9222603179720523844</td>\n",
       "      <td>2019-08-01 06:52:13</td>\n",
       "      <td>2019-08-01</td>\n",
       "      <td>B_test</td>\n",
       "      <td>2019-08-01</td>\n",
       "      <td>2019-08-01</td>\n",
       "      <td>main screen</td>\n",
       "      <td>False</td>\n",
       "    </tr>\n",
       "  </tbody>\n",
       "</table>\n",
       "<p>7534 rows × 8 columns</p>\n",
       "</div>"
      ],
      "text/plain": [
       "                       id           timestamp    first_ts   group          dt  \\\n",
       "0        6888746892508752 2019-08-06 14:06:34  2019-08-06   A_one  2019-08-06   \n",
       "1        6909561520679493 2019-08-06 18:52:54  2019-08-06   A_two  2019-08-06   \n",
       "2        6922444491712477 2019-08-04 14:19:33  2019-08-04   A_one  2019-08-04   \n",
       "3        7435777799948366 2019-08-05 08:06:34  2019-08-05  B_test  2019-08-05   \n",
       "4        7702139951469979 2019-08-01 04:29:54  2019-08-01   A_two  2019-08-01   \n",
       "...                   ...                 ...         ...     ...         ...   \n",
       "7529  9217594193087726423 2019-08-02 09:00:57  2019-08-02   A_one  2019-08-02   \n",
       "7530  9219463515465815368 2019-08-05 05:26:26  2019-08-05  B_test  2019-08-05   \n",
       "7531  9220879493065341500 2019-08-02 17:58:48  2019-08-02   A_one  2019-08-02   \n",
       "7532  9221926045299980007 2019-08-01 17:30:27  2019-08-01   A_one  2019-08-01   \n",
       "7533  9222603179720523844 2019-08-01 06:52:13  2019-08-01  B_test  2019-08-01   \n",
       "\n",
       "          month    last_event  payer  \n",
       "0    2019-08-01   main screen  False  \n",
       "1    2019-08-01       payment   True  \n",
       "2    2019-08-01       payment   True  \n",
       "3    2019-08-01   main screen  False  \n",
       "4    2019-08-01       payment   True  \n",
       "...         ...           ...    ...  \n",
       "7529 2019-08-01       payment   True  \n",
       "7530 2019-08-01       payment   True  \n",
       "7531 2019-08-01  offer screen  False  \n",
       "7532 2019-08-01   main screen  False  \n",
       "7533 2019-08-01   main screen  False  \n",
       "\n",
       "[7534 rows x 8 columns]"
      ]
     },
     "execution_count": 19,
     "metadata": {},
     "output_type": "execute_result"
    }
   ],
   "source": [
    "profiles = get_profiles(logs)\n",
    "profiles"
   ]
  },
  {
   "cell_type": "markdown",
   "id": "handmade-radical",
   "metadata": {},
   "source": [
    "После исключения наблюдений за июль в таблице остались сведения о 7534 из 7551 уникальных пользователей (99,7%). Сгруппируем данные по группам, проверим сколько пользователей попало в каждую: "
   ]
  },
  {
   "cell_type": "code",
   "execution_count": 20,
   "id": "composed-harvest",
   "metadata": {},
   "outputs": [
    {
     "data": {
      "text/html": [
       "<div>\n",
       "<style scoped>\n",
       "    .dataframe tbody tr th:only-of-type {\n",
       "        vertical-align: middle;\n",
       "    }\n",
       "\n",
       "    .dataframe tbody tr th {\n",
       "        vertical-align: top;\n",
       "    }\n",
       "\n",
       "    .dataframe thead th {\n",
       "        text-align: right;\n",
       "    }\n",
       "</style>\n",
       "<table border=\"1\" class=\"dataframe\">\n",
       "  <thead>\n",
       "    <tr style=\"text-align: right;\">\n",
       "      <th></th>\n",
       "      <th>group</th>\n",
       "      <th>id</th>\n",
       "      <th>percent</th>\n",
       "    </tr>\n",
       "  </thead>\n",
       "  <tbody>\n",
       "    <tr>\n",
       "      <th>2</th>\n",
       "      <td>B_test</td>\n",
       "      <td>2537</td>\n",
       "      <td>33.67</td>\n",
       "    </tr>\n",
       "    <tr>\n",
       "      <th>1</th>\n",
       "      <td>A_two</td>\n",
       "      <td>2513</td>\n",
       "      <td>33.36</td>\n",
       "    </tr>\n",
       "    <tr>\n",
       "      <th>0</th>\n",
       "      <td>A_one</td>\n",
       "      <td>2484</td>\n",
       "      <td>32.97</td>\n",
       "    </tr>\n",
       "  </tbody>\n",
       "</table>\n",
       "</div>"
      ],
      "text/plain": [
       "    group    id  percent\n",
       "2  B_test  2537    33.67\n",
       "1   A_two  2513    33.36\n",
       "0   A_one  2484    32.97"
      ]
     },
     "execution_count": 20,
     "metadata": {},
     "output_type": "execute_result"
    }
   ],
   "source": [
    "simple_grouper(profiles, 'group')"
   ]
  },
  {
   "cell_type": "markdown",
   "id": "forty-stanley",
   "metadata": {},
   "source": [
    "В датасете представлены три примерно равные группы, с разницей в численности каждой из групп менее 1%."
   ]
  },
  {
   "cell_type": "markdown",
   "id": "nearby-wallace",
   "metadata": {
    "tags": []
   },
   "source": [
    "&#9889; **Выводы**"
   ]
  },
  {
   "cell_type": "markdown",
   "id": "stupid-capitol",
   "metadata": {},
   "source": [
    "[В оглавление](#TOC)"
   ]
  },
  {
   "cell_type": "markdown",
   "id": "clean-board",
   "metadata": {
    "tags": []
   },
   "source": [
    "# III. Анализ поведения пользователей<a class='anchor' id='3'></a>"
   ]
  },
  {
   "cell_type": "markdown",
   "id": "structural-westminster",
   "metadata": {},
   "source": [
    "## 1) Общие сведения о поведении пользователей <a class=\"anchor\" id=\"3_1\"></a>"
   ]
  },
  {
   "cell_type": "markdown",
   "id": "expected-address",
   "metadata": {},
   "source": [
    "### - типы событий в логах, частота событый"
   ]
  },
  {
   "cell_type": "markdown",
   "id": "rough-equivalent",
   "metadata": {},
   "source": [
    "Ранее установлено, с какими событиями сталкиваются пользователи. В связи с невозможностью уточнить данные, исходим из того, что: \n",
    "- main screen - главная страница магазина,\n",
    "- offer screen - страница товара,\n",
    "- cart - корзина,\n",
    "- payment - оплата товара,\n",
    "- tutorial - обучение.\n",
    "\n",
    "Выведедем на экран шаги ранжированные по количеству неуникальных пользователей и их доле:"
   ]
  },
  {
   "cell_type": "code",
   "execution_count": 21,
   "id": "moral-timeline",
   "metadata": {},
   "outputs": [
    {
     "data": {
      "text/html": [
       "<div>\n",
       "<style scoped>\n",
       "    .dataframe tbody tr th:only-of-type {\n",
       "        vertical-align: middle;\n",
       "    }\n",
       "\n",
       "    .dataframe tbody tr th {\n",
       "        vertical-align: top;\n",
       "    }\n",
       "\n",
       "    .dataframe thead th {\n",
       "        text-align: right;\n",
       "    }\n",
       "</style>\n",
       "<table border=\"1\" class=\"dataframe\">\n",
       "  <thead>\n",
       "    <tr style=\"text-align: right;\">\n",
       "      <th></th>\n",
       "      <th>event</th>\n",
       "      <th>id</th>\n",
       "      <th>percent</th>\n",
       "    </tr>\n",
       "  </thead>\n",
       "  <tbody>\n",
       "    <tr>\n",
       "      <th>1</th>\n",
       "      <td>main screen</td>\n",
       "      <td>117328</td>\n",
       "      <td>48.71</td>\n",
       "    </tr>\n",
       "    <tr>\n",
       "      <th>2</th>\n",
       "      <td>offer screen</td>\n",
       "      <td>46333</td>\n",
       "      <td>19.23</td>\n",
       "    </tr>\n",
       "    <tr>\n",
       "      <th>0</th>\n",
       "      <td>cart</td>\n",
       "      <td>42303</td>\n",
       "      <td>17.56</td>\n",
       "    </tr>\n",
       "    <tr>\n",
       "      <th>3</th>\n",
       "      <td>payment</td>\n",
       "      <td>33918</td>\n",
       "      <td>14.08</td>\n",
       "    </tr>\n",
       "    <tr>\n",
       "      <th>4</th>\n",
       "      <td>tutorial</td>\n",
       "      <td>1005</td>\n",
       "      <td>0.42</td>\n",
       "    </tr>\n",
       "  </tbody>\n",
       "</table>\n",
       "</div>"
      ],
      "text/plain": [
       "          event      id  percent\n",
       "1   main screen  117328    48.71\n",
       "2  offer screen   46333    19.23\n",
       "0          cart   42303    17.56\n",
       "3       payment   33918    14.08\n",
       "4      tutorial    1005     0.42"
      ]
     },
     "execution_count": 21,
     "metadata": {},
     "output_type": "execute_result"
    }
   ],
   "source": [
    "events_with_all_users = simple_grouper(logs, 'event', agg_dict={'id': 'count'})\n",
    "events_with_all_users"
   ]
  },
  {
   "cell_type": "markdown",
   "id": "trained-history",
   "metadata": {},
   "source": [
    "### - число и доля пользователей по каждому событию"
   ]
  },
  {
   "cell_type": "markdown",
   "id": "legal-woman",
   "metadata": {},
   "source": [
    "Посчитаем число и долю пользователей на сокращенных данных:"
   ]
  },
  {
   "cell_type": "code",
   "execution_count": 22,
   "id": "wicked-collection",
   "metadata": {},
   "outputs": [
    {
     "data": {
      "text/html": [
       "<div>\n",
       "<style scoped>\n",
       "    .dataframe tbody tr th:only-of-type {\n",
       "        vertical-align: middle;\n",
       "    }\n",
       "\n",
       "    .dataframe tbody tr th {\n",
       "        vertical-align: top;\n",
       "    }\n",
       "\n",
       "    .dataframe thead th {\n",
       "        text-align: right;\n",
       "    }\n",
       "</style>\n",
       "<table border=\"1\" class=\"dataframe\">\n",
       "  <thead>\n",
       "    <tr style=\"text-align: right;\">\n",
       "      <th></th>\n",
       "      <th>event</th>\n",
       "      <th>unique_users</th>\n",
       "      <th>percent</th>\n",
       "    </tr>\n",
       "  </thead>\n",
       "  <tbody>\n",
       "    <tr>\n",
       "      <th>1</th>\n",
       "      <td>main screen</td>\n",
       "      <td>7419</td>\n",
       "      <td>98.47</td>\n",
       "    </tr>\n",
       "    <tr>\n",
       "      <th>2</th>\n",
       "      <td>offer screen</td>\n",
       "      <td>4593</td>\n",
       "      <td>60.96</td>\n",
       "    </tr>\n",
       "    <tr>\n",
       "      <th>0</th>\n",
       "      <td>cart</td>\n",
       "      <td>3734</td>\n",
       "      <td>49.56</td>\n",
       "    </tr>\n",
       "    <tr>\n",
       "      <th>3</th>\n",
       "      <td>payment</td>\n",
       "      <td>3539</td>\n",
       "      <td>46.97</td>\n",
       "    </tr>\n",
       "    <tr>\n",
       "      <th>4</th>\n",
       "      <td>tutorial</td>\n",
       "      <td>840</td>\n",
       "      <td>11.15</td>\n",
       "    </tr>\n",
       "  </tbody>\n",
       "</table>\n",
       "</div>"
      ],
      "text/plain": [
       "          event  unique_users  percent\n",
       "1   main screen          7419    98.47\n",
       "2  offer screen          4593    60.96\n",
       "0          cart          3734    49.56\n",
       "3       payment          3539    46.97\n",
       "4      tutorial           840    11.15"
      ]
     },
     "execution_count": 22,
     "metadata": {},
     "output_type": "execute_result"
    }
   ],
   "source": [
    "# Сохраним в переменную число уникальных пользователей\n",
    "total_users = logs['id'].nunique()\n",
    "\n",
    "# Сгруппируем таблицу по событиям, посчитаем число уникальных пользователей на каждом\n",
    "events_and_users = logs.groupby('event', as_index=False).agg({'id': 'nunique'})\n",
    "\n",
    "# Посчитаем конверсию\n",
    "events_and_users['percent'] = round(events_and_users['id'] * 100 / \n",
    "                                       total_users, 2)\n",
    "\n",
    "# Переименуем колонку с id для ясности\n",
    "events_and_users.rename(columns={'id': 'unique_users'}, inplace=True)\n",
    "events_and_users.sort_values(by='percent', ascending=False, inplace=True)\n",
    "events_and_users"
   ]
  },
  {
   "cell_type": "markdown",
   "id": "gothic-french",
   "metadata": {},
   "source": [
    "До олаты добираются почти 47% процентов пользователей. На первый взгляд (и представляется, что это не далеко от истины), что количество и доля пользователей хороший маркер для выявления последовательности событий, но, принимая во внимание, что шаг с обучением проходят всего 11.15% уникальных пользователей, а также неполную ясность назначения \"offer screen\"  - паттерн требует некоторого уточнения."
   ]
  },
  {
   "cell_type": "markdown",
   "id": "possible-update",
   "metadata": {},
   "source": [
    "### - последовательность событий в логах"
   ]
  },
  {
   "cell_type": "markdown",
   "id": "successful-virtue",
   "metadata": {},
   "source": [
    "Исходя из того, что мы выявили монотонное увеличение в дате и времени - все события последовательны. Следовательно, если предположить, что события также и взаимосвязаны, одно не может быть осуществлено без предыдущего, то можем исходить из того, что как бы пользователи не действовали - в целом, шаги будут пройдены последовательно. Следовательно, для выявления временной поседовательности событий, отсеим дубликаты в колонке с событиями, сохранив только первое появление каждого значения и дополним результат числом и долей пользователей по каждому событию:"
   ]
  },
  {
   "cell_type": "code",
   "execution_count": 23,
   "id": "stunning-prize",
   "metadata": {},
   "outputs": [
    {
     "data": {
      "text/html": [
       "<div>\n",
       "<style scoped>\n",
       "    .dataframe tbody tr th:only-of-type {\n",
       "        vertical-align: middle;\n",
       "    }\n",
       "\n",
       "    .dataframe tbody tr th {\n",
       "        vertical-align: top;\n",
       "    }\n",
       "\n",
       "    .dataframe thead th {\n",
       "        text-align: right;\n",
       "    }\n",
       "</style>\n",
       "<table border=\"1\" class=\"dataframe\">\n",
       "  <thead>\n",
       "    <tr style=\"text-align: right;\">\n",
       "      <th></th>\n",
       "      <th>event</th>\n",
       "      <th>unique_users</th>\n",
       "      <th>percent</th>\n",
       "    </tr>\n",
       "  </thead>\n",
       "  <tbody>\n",
       "    <tr>\n",
       "      <th>0</th>\n",
       "      <td>tutorial</td>\n",
       "      <td>840</td>\n",
       "      <td>11.15</td>\n",
       "    </tr>\n",
       "    <tr>\n",
       "      <th>1</th>\n",
       "      <td>main screen</td>\n",
       "      <td>7419</td>\n",
       "      <td>98.47</td>\n",
       "    </tr>\n",
       "    <tr>\n",
       "      <th>2</th>\n",
       "      <td>offer screen</td>\n",
       "      <td>4593</td>\n",
       "      <td>60.96</td>\n",
       "    </tr>\n",
       "    <tr>\n",
       "      <th>3</th>\n",
       "      <td>cart</td>\n",
       "      <td>3734</td>\n",
       "      <td>49.56</td>\n",
       "    </tr>\n",
       "    <tr>\n",
       "      <th>4</th>\n",
       "      <td>payment</td>\n",
       "      <td>3539</td>\n",
       "      <td>46.97</td>\n",
       "    </tr>\n",
       "  </tbody>\n",
       "</table>\n",
       "</div>"
      ],
      "text/plain": [
       "          event  unique_users  percent\n",
       "0      tutorial           840    11.15\n",
       "1   main screen          7419    98.47\n",
       "2  offer screen          4593    60.96\n",
       "3          cart          3734    49.56\n",
       "4       payment          3539    46.97"
      ]
     },
     "execution_count": 23,
     "metadata": {},
     "output_type": "execute_result"
    }
   ],
   "source": [
    "logs.drop_duplicates('event')[['event']].merge(events_and_users, on='event')"
   ]
  },
  {
   "cell_type": "markdown",
   "id": "classified-reliance",
   "metadata": {},
   "source": [
    "&#9889; **Выводы:**\n",
    "\n",
    "Опираясь на число и долю пользователей и повременное появление событий в таблицы - применим наивный подход для выявления последовательности событий. С некоторой осторожностью, можно утверждать, что посетители интернет-магазина до оплаты товара проходят такие шаги:\n",
    "1. Попадают на экран с обучением, \n",
    "2. Заходят на главную страницу магазина.\n",
    "3. Переходят на страницу товара.\n",
    "4. Добавляют товар в корзину.\n",
    "5. Переходят в корзину, оформляют заказ.\n",
    "6. Оплачивают заказ.\n",
    "\n",
    "Учитывая, что обучение проходят всего 11.15% уникальных пользователей и, разумно предположить, обучение не загружается каждый раз, этот шаг явялется необязательной частью взаимодействия с магазином."
   ]
  },
  {
   "cell_type": "markdown",
   "id": "split-jones",
   "metadata": {},
   "source": [
    "[В оглавление](#TOC)"
   ]
  },
  {
   "cell_type": "markdown",
   "id": "subsequent-wayne",
   "metadata": {},
   "source": [
    "## 2) Воронка событий <a class=\"anchor\" id=\"3_2\"></a>"
   ]
  },
  {
   "cell_type": "markdown",
   "id": "emotional-visitor",
   "metadata": {},
   "source": [
    "### - подготовим данные"
   ]
  },
  {
   "cell_type": "markdown",
   "id": "planned-interest",
   "metadata": {},
   "source": [
    "Исключим из числа событий обучение - tutorial. Для воронки со всеми уникальными пользователями возьмем ранее подготовленную аггрегированную таблицу events_and_users."
   ]
  },
  {
   "cell_type": "code",
   "execution_count": 24,
   "id": "metallic-indie",
   "metadata": {},
   "outputs": [
    {
     "data": {
      "text/html": [
       "<div>\n",
       "<style scoped>\n",
       "    .dataframe tbody tr th:only-of-type {\n",
       "        vertical-align: middle;\n",
       "    }\n",
       "\n",
       "    .dataframe tbody tr th {\n",
       "        vertical-align: top;\n",
       "    }\n",
       "\n",
       "    .dataframe thead th {\n",
       "        text-align: right;\n",
       "    }\n",
       "</style>\n",
       "<table border=\"1\" class=\"dataframe\">\n",
       "  <thead>\n",
       "    <tr style=\"text-align: right;\">\n",
       "      <th></th>\n",
       "      <th>event</th>\n",
       "      <th>unique_users</th>\n",
       "      <th>percent</th>\n",
       "    </tr>\n",
       "  </thead>\n",
       "  <tbody>\n",
       "    <tr>\n",
       "      <th>1</th>\n",
       "      <td>main screen</td>\n",
       "      <td>7419</td>\n",
       "      <td>98.47</td>\n",
       "    </tr>\n",
       "    <tr>\n",
       "      <th>2</th>\n",
       "      <td>offer screen</td>\n",
       "      <td>4593</td>\n",
       "      <td>60.96</td>\n",
       "    </tr>\n",
       "    <tr>\n",
       "      <th>0</th>\n",
       "      <td>cart</td>\n",
       "      <td>3734</td>\n",
       "      <td>49.56</td>\n",
       "    </tr>\n",
       "    <tr>\n",
       "      <th>3</th>\n",
       "      <td>payment</td>\n",
       "      <td>3539</td>\n",
       "      <td>46.97</td>\n",
       "    </tr>\n",
       "  </tbody>\n",
       "</table>\n",
       "</div>"
      ],
      "text/plain": [
       "          event  unique_users  percent\n",
       "1   main screen          7419    98.47\n",
       "2  offer screen          4593    60.96\n",
       "0          cart          3734    49.56\n",
       "3       payment          3539    46.97"
      ]
     },
     "execution_count": 24,
     "metadata": {},
     "output_type": "execute_result"
    }
   ],
   "source": [
    "event_without_tutorial = events_and_users.query('event != \"tutorial\"').copy()\n",
    "event_without_tutorial"
   ]
  },
  {
   "cell_type": "markdown",
   "id": "constitutional-crystal",
   "metadata": {},
   "source": [
    "Кроме того, нас интересуют как проходили воронку пользователи из разных групп. Соберем данные вместе:"
   ]
  },
  {
   "cell_type": "code",
   "execution_count": 25,
   "id": "centered-haven",
   "metadata": {},
   "outputs": [
    {
     "data": {
      "text/html": [
       "<div>\n",
       "<style scoped>\n",
       "    .dataframe tbody tr th:only-of-type {\n",
       "        vertical-align: middle;\n",
       "    }\n",
       "\n",
       "    .dataframe tbody tr th {\n",
       "        vertical-align: top;\n",
       "    }\n",
       "\n",
       "    .dataframe thead th {\n",
       "        text-align: right;\n",
       "    }\n",
       "</style>\n",
       "<table border=\"1\" class=\"dataframe\">\n",
       "  <thead>\n",
       "    <tr style=\"text-align: right;\">\n",
       "      <th></th>\n",
       "      <th>event</th>\n",
       "      <th>group</th>\n",
       "      <th>id</th>\n",
       "      <th>index</th>\n",
       "      <th>unique_users</th>\n",
       "      <th>percent</th>\n",
       "    </tr>\n",
       "  </thead>\n",
       "  <tbody>\n",
       "    <tr>\n",
       "      <th>3</th>\n",
       "      <td>main screen</td>\n",
       "      <td>A_one</td>\n",
       "      <td>2450</td>\n",
       "      <td>1</td>\n",
       "      <td>7419</td>\n",
       "      <td>98.47</td>\n",
       "    </tr>\n",
       "    <tr>\n",
       "      <th>4</th>\n",
       "      <td>main screen</td>\n",
       "      <td>A_two</td>\n",
       "      <td>2476</td>\n",
       "      <td>1</td>\n",
       "      <td>7419</td>\n",
       "      <td>98.47</td>\n",
       "    </tr>\n",
       "    <tr>\n",
       "      <th>5</th>\n",
       "      <td>main screen</td>\n",
       "      <td>B_test</td>\n",
       "      <td>2493</td>\n",
       "      <td>1</td>\n",
       "      <td>7419</td>\n",
       "      <td>98.47</td>\n",
       "    </tr>\n",
       "    <tr>\n",
       "      <th>6</th>\n",
       "      <td>offer screen</td>\n",
       "      <td>A_one</td>\n",
       "      <td>1542</td>\n",
       "      <td>2</td>\n",
       "      <td>4593</td>\n",
       "      <td>60.96</td>\n",
       "    </tr>\n",
       "    <tr>\n",
       "      <th>7</th>\n",
       "      <td>offer screen</td>\n",
       "      <td>A_two</td>\n",
       "      <td>1520</td>\n",
       "      <td>2</td>\n",
       "      <td>4593</td>\n",
       "      <td>60.96</td>\n",
       "    </tr>\n",
       "    <tr>\n",
       "      <th>8</th>\n",
       "      <td>offer screen</td>\n",
       "      <td>B_test</td>\n",
       "      <td>1531</td>\n",
       "      <td>2</td>\n",
       "      <td>4593</td>\n",
       "      <td>60.96</td>\n",
       "    </tr>\n",
       "    <tr>\n",
       "      <th>0</th>\n",
       "      <td>cart</td>\n",
       "      <td>A_one</td>\n",
       "      <td>1266</td>\n",
       "      <td>3</td>\n",
       "      <td>3734</td>\n",
       "      <td>49.56</td>\n",
       "    </tr>\n",
       "    <tr>\n",
       "      <th>1</th>\n",
       "      <td>cart</td>\n",
       "      <td>A_two</td>\n",
       "      <td>1238</td>\n",
       "      <td>3</td>\n",
       "      <td>3734</td>\n",
       "      <td>49.56</td>\n",
       "    </tr>\n",
       "    <tr>\n",
       "      <th>2</th>\n",
       "      <td>cart</td>\n",
       "      <td>B_test</td>\n",
       "      <td>1230</td>\n",
       "      <td>3</td>\n",
       "      <td>3734</td>\n",
       "      <td>49.56</td>\n",
       "    </tr>\n",
       "    <tr>\n",
       "      <th>9</th>\n",
       "      <td>payment</td>\n",
       "      <td>A_one</td>\n",
       "      <td>1200</td>\n",
       "      <td>4</td>\n",
       "      <td>3539</td>\n",
       "      <td>46.97</td>\n",
       "    </tr>\n",
       "    <tr>\n",
       "      <th>10</th>\n",
       "      <td>payment</td>\n",
       "      <td>A_two</td>\n",
       "      <td>1158</td>\n",
       "      <td>4</td>\n",
       "      <td>3539</td>\n",
       "      <td>46.97</td>\n",
       "    </tr>\n",
       "    <tr>\n",
       "      <th>11</th>\n",
       "      <td>payment</td>\n",
       "      <td>B_test</td>\n",
       "      <td>1181</td>\n",
       "      <td>4</td>\n",
       "      <td>3539</td>\n",
       "      <td>46.97</td>\n",
       "    </tr>\n",
       "  </tbody>\n",
       "</table>\n",
       "</div>"
      ],
      "text/plain": [
       "           event   group    id  index  unique_users  percent\n",
       "3    main screen   A_one  2450      1          7419    98.47\n",
       "4    main screen   A_two  2476      1          7419    98.47\n",
       "5    main screen  B_test  2493      1          7419    98.47\n",
       "6   offer screen   A_one  1542      2          4593    60.96\n",
       "7   offer screen   A_two  1520      2          4593    60.96\n",
       "8   offer screen  B_test  1531      2          4593    60.96\n",
       "0           cart   A_one  1266      3          3734    49.56\n",
       "1           cart   A_two  1238      3          3734    49.56\n",
       "2           cart  B_test  1230      3          3734    49.56\n",
       "9        payment   A_one  1200      4          3539    46.97\n",
       "10       payment   A_two  1158      4          3539    46.97\n",
       "11       payment  B_test  1181      4          3539    46.97"
      ]
     },
     "execution_count": 25,
     "metadata": {},
     "output_type": "execute_result"
    }
   ],
   "source": [
    "# Зафикисируем порядок и исключим обучение\n",
    "order = logs.drop_duplicates('event')[['event']].merge(events_and_users, on='event')\n",
    "order = order.query('event != \"tutorial\"').reset_index()\n",
    "\n",
    "# Сгруппируем логи по событиям и группам, посчитаем уникальных пользователей\n",
    "groups = logs.groupby(['event', 'group']).agg({'id': 'nunique'}).reset_index()\n",
    "\n",
    "# Объединим две таблицы и выведем результат\n",
    "groups = groups.merge(order).sort_values(by='index')\n",
    "groups"
   ]
  },
  {
   "cell_type": "markdown",
   "id": "endless-winter",
   "metadata": {},
   "source": [
    "Получили таблицу где к каждому событию привязано число пользователей из каждой группы, учтена последовательность событий. "
   ]
  },
  {
   "cell_type": "markdown",
   "id": "exposed-processing",
   "metadata": {},
   "source": [
    "### - визуализируем продуктовую воронку"
   ]
  },
  {
   "cell_type": "markdown",
   "id": "fiscal-eligibility",
   "metadata": {},
   "source": [
    "Подготовим функцию для визуализации"
   ]
  },
  {
   "cell_type": "markdown",
   "id": "alpine-abuse",
   "metadata": {},
   "source": [
    "Сначала по всем пользователям:"
   ]
  },
  {
   "cell_type": "code",
   "execution_count": 26,
   "id": "minor-tyler",
   "metadata": {},
   "outputs": [
    {
     "data": {
      "text/html": [
       "<div>\n",
       "<style scoped>\n",
       "    .dataframe tbody tr th:only-of-type {\n",
       "        vertical-align: middle;\n",
       "    }\n",
       "\n",
       "    .dataframe tbody tr th {\n",
       "        vertical-align: top;\n",
       "    }\n",
       "\n",
       "    .dataframe thead th {\n",
       "        text-align: right;\n",
       "    }\n",
       "</style>\n",
       "<table border=\"1\" class=\"dataframe\">\n",
       "  <thead>\n",
       "    <tr style=\"text-align: right;\">\n",
       "      <th></th>\n",
       "      <th>event</th>\n",
       "      <th>unique_users</th>\n",
       "      <th>percent</th>\n",
       "    </tr>\n",
       "  </thead>\n",
       "  <tbody>\n",
       "    <tr>\n",
       "      <th>1</th>\n",
       "      <td>main screen</td>\n",
       "      <td>7419</td>\n",
       "      <td>98.47</td>\n",
       "    </tr>\n",
       "    <tr>\n",
       "      <th>2</th>\n",
       "      <td>offer screen</td>\n",
       "      <td>4593</td>\n",
       "      <td>60.96</td>\n",
       "    </tr>\n",
       "    <tr>\n",
       "      <th>0</th>\n",
       "      <td>cart</td>\n",
       "      <td>3734</td>\n",
       "      <td>49.56</td>\n",
       "    </tr>\n",
       "    <tr>\n",
       "      <th>3</th>\n",
       "      <td>payment</td>\n",
       "      <td>3539</td>\n",
       "      <td>46.97</td>\n",
       "    </tr>\n",
       "  </tbody>\n",
       "</table>\n",
       "</div>"
      ],
      "text/plain": [
       "          event  unique_users  percent\n",
       "1   main screen          7419    98.47\n",
       "2  offer screen          4593    60.96\n",
       "0          cart          3734    49.56\n",
       "3       payment          3539    46.97"
      ]
     },
     "execution_count": 26,
     "metadata": {},
     "output_type": "execute_result"
    }
   ],
   "source": [
    "event_without_tutorial"
   ]
  },
  {
   "cell_type": "code",
   "execution_count": 27,
   "id": "advance-brazil",
   "metadata": {},
   "outputs": [
    {
     "data": {
      "text/html": [
       "<iframe\n",
       "    scrolling=\"no\"\n",
       "    width=\"720px\"\n",
       "    height=\"520\"\n",
       "    src=\"iframe_figures/figure_27.html\"\n",
       "    frameborder=\"0\"\n",
       "    allowfullscreen\n",
       "></iframe>\n"
      ]
     },
     "metadata": {},
     "output_type": "display_data"
    }
   ],
   "source": [
    "funnel_plot(data=event_without_tutorial, \n",
    "            groups_labels=[], \n",
    "            title='Воронка событий по всем пользователям',\n",
    "            x='unique_users')"
   ]
  },
  {
   "cell_type": "markdown",
   "id": "quiet-bibliography",
   "metadata": {},
   "source": [
    "Теперь примем во внимание группы пользователей:"
   ]
  },
  {
   "cell_type": "code",
   "execution_count": 28,
   "id": "perfect-process",
   "metadata": {},
   "outputs": [
    {
     "data": {
      "text/html": [
       "<iframe\n",
       "    scrolling=\"no\"\n",
       "    width=\"720px\"\n",
       "    height=\"520\"\n",
       "    src=\"iframe_figures/figure_28.html\"\n",
       "    frameborder=\"0\"\n",
       "    allowfullscreen\n",
       "></iframe>\n"
      ]
     },
     "metadata": {},
     "output_type": "display_data"
    }
   ],
   "source": [
    "funnel_plot(data=groups, \n",
    "            groups_labels=['A_one', 'A_two', 'B_test'], \n",
    "            title='Воронка событий по группам')"
   ]
  },
  {
   "cell_type": "markdown",
   "id": "seventh-finland",
   "metadata": {},
   "source": [
    "### - выявим шаг с наибольшей потерей, посчитаем долю пользователей прошедших от первого события до оплаты"
   ]
  },
  {
   "cell_type": "code",
   "execution_count": 29,
   "id": "arctic-frame",
   "metadata": {},
   "outputs": [
    {
     "data": {
      "text/html": [
       "<div>\n",
       "<style scoped>\n",
       "    .dataframe tbody tr th:only-of-type {\n",
       "        vertical-align: middle;\n",
       "    }\n",
       "\n",
       "    .dataframe tbody tr th {\n",
       "        vertical-align: top;\n",
       "    }\n",
       "\n",
       "    .dataframe thead th {\n",
       "        text-align: right;\n",
       "    }\n",
       "</style>\n",
       "<table border=\"1\" class=\"dataframe\">\n",
       "  <thead>\n",
       "    <tr style=\"text-align: right;\">\n",
       "      <th></th>\n",
       "      <th>event</th>\n",
       "      <th>unique_users</th>\n",
       "      <th>percent</th>\n",
       "    </tr>\n",
       "  </thead>\n",
       "  <tbody>\n",
       "    <tr>\n",
       "      <th>1</th>\n",
       "      <td>main screen</td>\n",
       "      <td>7419</td>\n",
       "      <td>98.47</td>\n",
       "    </tr>\n",
       "    <tr>\n",
       "      <th>2</th>\n",
       "      <td>offer screen</td>\n",
       "      <td>4593</td>\n",
       "      <td>60.96</td>\n",
       "    </tr>\n",
       "    <tr>\n",
       "      <th>0</th>\n",
       "      <td>cart</td>\n",
       "      <td>3734</td>\n",
       "      <td>49.56</td>\n",
       "    </tr>\n",
       "    <tr>\n",
       "      <th>3</th>\n",
       "      <td>payment</td>\n",
       "      <td>3539</td>\n",
       "      <td>46.97</td>\n",
       "    </tr>\n",
       "  </tbody>\n",
       "</table>\n",
       "</div>"
      ],
      "text/plain": [
       "          event  unique_users  percent\n",
       "1   main screen          7419    98.47\n",
       "2  offer screen          4593    60.96\n",
       "0          cart          3734    49.56\n",
       "3       payment          3539    46.97"
      ]
     },
     "execution_count": 29,
     "metadata": {},
     "output_type": "execute_result"
    }
   ],
   "source": [
    "event_without_tutorial"
   ]
  },
  {
   "cell_type": "markdown",
   "id": "sophisticated-vegetation",
   "metadata": {},
   "source": [
    "Посчитаем долю пользователей от шага к шагу:"
   ]
  },
  {
   "cell_type": "code",
   "execution_count": 30,
   "id": "alternate-warrant",
   "metadata": {},
   "outputs": [
    {
     "data": {
      "text/html": [
       "<div>\n",
       "<style scoped>\n",
       "    .dataframe tbody tr th:only-of-type {\n",
       "        vertical-align: middle;\n",
       "    }\n",
       "\n",
       "    .dataframe tbody tr th {\n",
       "        vertical-align: top;\n",
       "    }\n",
       "\n",
       "    .dataframe thead th {\n",
       "        text-align: right;\n",
       "    }\n",
       "</style>\n",
       "<table border=\"1\" class=\"dataframe\">\n",
       "  <thead>\n",
       "    <tr style=\"text-align: right;\">\n",
       "      <th></th>\n",
       "      <th>event</th>\n",
       "      <th>unique_users</th>\n",
       "      <th>percent</th>\n",
       "      <th>diff</th>\n",
       "      <th>% loss next step</th>\n",
       "    </tr>\n",
       "  </thead>\n",
       "  <tbody>\n",
       "    <tr>\n",
       "      <th>1</th>\n",
       "      <td>main screen</td>\n",
       "      <td>7419</td>\n",
       "      <td>98.47</td>\n",
       "      <td>---</td>\n",
       "      <td>---</td>\n",
       "    </tr>\n",
       "    <tr>\n",
       "      <th>2</th>\n",
       "      <td>offer screen</td>\n",
       "      <td>4593</td>\n",
       "      <td>60.96</td>\n",
       "      <td>2826.0</td>\n",
       "      <td>37.0</td>\n",
       "    </tr>\n",
       "    <tr>\n",
       "      <th>0</th>\n",
       "      <td>cart</td>\n",
       "      <td>3734</td>\n",
       "      <td>49.56</td>\n",
       "      <td>859.0</td>\n",
       "      <td>18.0</td>\n",
       "    </tr>\n",
       "    <tr>\n",
       "      <th>3</th>\n",
       "      <td>payment</td>\n",
       "      <td>3539</td>\n",
       "      <td>46.97</td>\n",
       "      <td>195.0</td>\n",
       "      <td>4.0</td>\n",
       "    </tr>\n",
       "  </tbody>\n",
       "</table>\n",
       "</div>"
      ],
      "text/plain": [
       "          event  unique_users  percent    diff % loss next step\n",
       "1   main screen          7419    98.47     ---              ---\n",
       "2  offer screen          4593    60.96  2826.0             37.0\n",
       "0          cart          3734    49.56   859.0             18.0\n",
       "3       payment          3539    46.97   195.0              4.0"
      ]
     },
     "execution_count": 30,
     "metadata": {},
     "output_type": "execute_result"
    }
   ],
   "source": [
    "event_without_tutorial['diff'] = abs(event_without_tutorial['unique_users'].diff())\n",
    "event_without_tutorial['% loss next step'] = abs(1 + round(event_without_tutorial['unique_users']\n",
    "                                                           .pct_change(), 2) * 100)\n",
    "event_without_tutorial.fillna('---', inplace=True)\n",
    "event_without_tutorial"
   ]
  },
  {
   "cell_type": "markdown",
   "id": "directed-transformation",
   "metadata": {},
   "source": [
    "Наибольшая потеря происходит при переходе на экран с предложениями товаров - 2 826 (37%) из 7 419 уникальных пользователей так и не перешли с главной страницы. Используем профили пользователей, чтобы проверить связано ли это с конкретным днем:"
   ]
  },
  {
   "cell_type": "code",
   "execution_count": 31,
   "id": "reverse-delight",
   "metadata": {},
   "outputs": [
    {
     "data": {
      "text/html": [
       "<div>\n",
       "<style scoped>\n",
       "    .dataframe tbody tr th:only-of-type {\n",
       "        vertical-align: middle;\n",
       "    }\n",
       "\n",
       "    .dataframe tbody tr th {\n",
       "        vertical-align: top;\n",
       "    }\n",
       "\n",
       "    .dataframe thead th {\n",
       "        text-align: right;\n",
       "    }\n",
       "</style>\n",
       "<table border=\"1\" class=\"dataframe\">\n",
       "  <thead>\n",
       "    <tr style=\"text-align: right;\">\n",
       "      <th></th>\n",
       "      <th>date</th>\n",
       "      <th>non_payers</th>\n",
       "      <th>payers</th>\n",
       "      <th>difference</th>\n",
       "      <th>% of diff</th>\n",
       "      <th>day_of_week</th>\n",
       "    </tr>\n",
       "  </thead>\n",
       "  <tbody>\n",
       "    <tr>\n",
       "      <th>0</th>\n",
       "      <td>2019-08-01</td>\n",
       "      <td>1715</td>\n",
       "      <td>1988</td>\n",
       "      <td>-273</td>\n",
       "      <td>0.862676</td>\n",
       "      <td>Thursday</td>\n",
       "    </tr>\n",
       "    <tr>\n",
       "      <th>1</th>\n",
       "      <td>2019-08-02</td>\n",
       "      <td>794</td>\n",
       "      <td>674</td>\n",
       "      <td>120</td>\n",
       "      <td>1.178042</td>\n",
       "      <td>Friday</td>\n",
       "    </tr>\n",
       "    <tr>\n",
       "      <th>2</th>\n",
       "      <td>2019-08-03</td>\n",
       "      <td>462</td>\n",
       "      <td>354</td>\n",
       "      <td>108</td>\n",
       "      <td>1.305085</td>\n",
       "      <td>Saturday</td>\n",
       "    </tr>\n",
       "    <tr>\n",
       "      <th>3</th>\n",
       "      <td>2019-08-04</td>\n",
       "      <td>348</td>\n",
       "      <td>220</td>\n",
       "      <td>128</td>\n",
       "      <td>1.581818</td>\n",
       "      <td>Sunday</td>\n",
       "    </tr>\n",
       "    <tr>\n",
       "      <th>4</th>\n",
       "      <td>2019-08-05</td>\n",
       "      <td>294</td>\n",
       "      <td>143</td>\n",
       "      <td>151</td>\n",
       "      <td>2.055944</td>\n",
       "      <td>Monday</td>\n",
       "    </tr>\n",
       "    <tr>\n",
       "      <th>5</th>\n",
       "      <td>2019-08-06</td>\n",
       "      <td>234</td>\n",
       "      <td>109</td>\n",
       "      <td>125</td>\n",
       "      <td>2.146789</td>\n",
       "      <td>Tuesday</td>\n",
       "    </tr>\n",
       "    <tr>\n",
       "      <th>6</th>\n",
       "      <td>2019-08-07</td>\n",
       "      <td>148</td>\n",
       "      <td>51</td>\n",
       "      <td>97</td>\n",
       "      <td>2.901961</td>\n",
       "      <td>Wednesday</td>\n",
       "    </tr>\n",
       "  </tbody>\n",
       "</table>\n",
       "</div>"
      ],
      "text/plain": [
       "         date  non_payers  payers  difference  % of diff day_of_week\n",
       "0  2019-08-01        1715    1988        -273   0.862676    Thursday\n",
       "1  2019-08-02         794     674         120   1.178042      Friday\n",
       "2  2019-08-03         462     354         108   1.305085    Saturday\n",
       "3  2019-08-04         348     220         128   1.581818      Sunday\n",
       "4  2019-08-05         294     143         151   2.055944      Monday\n",
       "5  2019-08-06         234     109         125   2.146789     Tuesday\n",
       "6  2019-08-07         148      51          97   2.901961   Wednesday"
      ]
     },
     "execution_count": 31,
     "metadata": {},
     "output_type": "execute_result"
    }
   ],
   "source": [
    "# Отберем неплательщиков и платящих, сгруппируем по дате\n",
    "non_payers = profiles.query('payer == False').groupby('dt').agg({'id': 'count'}).reset_index()\n",
    "payers = profiles.query('payer == True').groupby('dt').agg({'id': 'count'}).reset_index()\n",
    "\n",
    "# Объединим полученные таблицы и переименуем столбцы\n",
    "payer_by_day = non_payers.merge(payers, on='dt')\n",
    "payer_by_day.columns = ['date', 'non_payers', 'payers']\n",
    "\n",
    "# Посчитаем абсолютную и относительную разницу\n",
    "payer_by_day['difference'] = payer_by_day.non_payers - payer_by_day.payers\n",
    "payer_by_day['% of diff'] = payer_by_day.non_payers / payer_by_day.payers\n",
    "\n",
    "# Добавим сведения о дне неделе\n",
    "payer_by_day['day_of_week'] = payer_by_day['date'].astype('datetime64[ns]').dt.day_name()\n",
    "payer_by_day"
   ]
  },
  {
   "cell_type": "markdown",
   "id": "provincial-massage",
   "metadata": {},
   "source": [
    "Визуализируем отношение неплатящих к платящим по дням:"
   ]
  },
  {
   "cell_type": "code",
   "execution_count": 32,
   "id": "built-spread",
   "metadata": {},
   "outputs": [
    {
     "data": {
      "image/png": "[encoded data removed]",
      "text/plain": [
       "<Figure size 720x504 with 1 Axes>"
      ]
     },
     "metadata": {},
     "output_type": "display_data"
    }
   ],
   "source": [
    "# Установим стиль whitegrid из seaborn\n",
    "sns.set_style('whitegrid')\n",
    "\n",
    "# Зададим размер\n",
    "plt.figure(figsize=(10, 7))\n",
    "\n",
    "#  Построим график\n",
    "ax = plt.subplot(1, 1, 1)\n",
    "payer_by_day[['date', '% of diff']].plot(x='date', y=['% of diff'], ax=ax)\n",
    "\n",
    "# добавим легкие горизонтальные линии\n",
    "plt.grid(axis='y', alpha=0.15)\n",
    "plt.grid(axis='x', alpha=0)\n",
    "\n",
    "# спрячем лишние границы\n",
    "sns.despine(left=True, bottom=True)\n",
    "\n",
    "# Подпишем график, оси\n",
    "plt.xlabel('Дата', labelpad=15)\n",
    "plt.ylabel('Отношение')\n",
    "plt.title('Отношение неплатящих к платящим пользователям',\n",
    "          loc='left', fontsize=13, fontweight='bold', pad=30)\n",
    "plt.show();"
   ]
  },
  {
   "cell_type": "markdown",
   "id": "mathematical-acceptance",
   "metadata": {},
   "source": [
    "Любопытно - с некоторой осторожностью можно зафиксировать снижение числа платящих, нарастание числа неплатящих. В отстутвие дополнительных данных, принимая во внимание короткий период - нет достаточных оснований для резюмирущих выводов, однако локально стоит обратить внимание на отношение не платящих к платящим."
   ]
  },
  {
   "cell_type": "markdown",
   "id": "precious-turner",
   "metadata": {
    "tags": []
   },
   "source": [
    "&#9889; **Выводы**\n",
    "\n",
    "1. Из 7 419 уникальных пользователей, 2 826 так и не перешли на экран с предложениями товара.\n",
    "2. Только 46.97% (3 539) прошли от первого до последнего этапа.\n",
    "3. Из 7 419 уникальных пользователей 2 826 (37%) так и не перешли с главной страницы - это шаг с наибольшей потерей. Кроме того, при переходе с экрана предложений 859 (18%) из 4593 перешедших на экран предложений пользователей не перешли к оформлению заказа. Только 195 (4%) из 3734 так и не оплатили товар. \n",
    "4. Следовательно, половина пользователей не доходят до корзины - установить причину исходя из данных не представляется возможным, требуются сведения об устройствах, каналах привлечения, способах оплаты и так далее.\n",
    "5. Отмечаем в течение недели рост отношения в пользу неплатящих пользователей - в отсутвие данных без конкретных выводов: это повод для более широкого анализа на большем объеме данных."
   ]
  },
  {
   "cell_type": "markdown",
   "id": "lovely-ranch",
   "metadata": {},
   "source": [
    "[В оглавление](#TOC)"
   ]
  },
  {
   "cell_type": "markdown",
   "id": "naval-flush",
   "metadata": {
    "tags": []
   },
   "source": [
    "# IV. Анализ A/A/B-теста<a class='anchor' id='4'></a>"
   ]
  },
  {
   "cell_type": "markdown",
   "id": "swiss-liberia",
   "metadata": {},
   "source": [
    "### - подготовимся к анализу"
   ]
  },
  {
   "cell_type": "markdown",
   "id": "italic-occasion",
   "metadata": {},
   "source": [
    "Создадим класс для статистических тестов, подготовим несколько полезных функций:"
   ]
  },
  {
   "cell_type": "markdown",
   "id": "patent-tobago",
   "metadata": {},
   "source": [
    "Инициализируем класс:"
   ]
  },
  {
   "cell_type": "code",
   "execution_count": 33,
   "id": "auburn-porter",
   "metadata": {},
   "outputs": [],
   "source": [
    "tests = StatTest(logs)"
   ]
  },
  {
   "cell_type": "markdown",
   "id": "statutory-career",
   "metadata": {
    "tags": []
   },
   "source": [
    "## 1) Проверим корректность разбиения групп<a class=\"anchor\" id=\"4_1\"></a>"
   ]
  },
  {
   "cell_type": "markdown",
   "id": "bulgarian-jersey",
   "metadata": {},
   "source": [
    "### - проверим чиcло пользователей в каждой из групп"
   ]
  },
  {
   "cell_type": "markdown",
   "id": "necessary-patrick",
   "metadata": {},
   "source": [
    "Используем ранее полученные профили пользователей:"
   ]
  },
  {
   "cell_type": "code",
   "execution_count": 34,
   "id": "offshore-investing",
   "metadata": {},
   "outputs": [
    {
     "data": {
      "text/html": [
       "<div>\n",
       "<style scoped>\n",
       "    .dataframe tbody tr th:only-of-type {\n",
       "        vertical-align: middle;\n",
       "    }\n",
       "\n",
       "    .dataframe tbody tr th {\n",
       "        vertical-align: top;\n",
       "    }\n",
       "\n",
       "    .dataframe thead th {\n",
       "        text-align: right;\n",
       "    }\n",
       "</style>\n",
       "<table border=\"1\" class=\"dataframe\">\n",
       "  <thead>\n",
       "    <tr style=\"text-align: right;\">\n",
       "      <th></th>\n",
       "      <th>id</th>\n",
       "      <th>timestamp</th>\n",
       "      <th>first_ts</th>\n",
       "      <th>group</th>\n",
       "      <th>dt</th>\n",
       "      <th>month</th>\n",
       "      <th>last_event</th>\n",
       "      <th>payer</th>\n",
       "    </tr>\n",
       "  </thead>\n",
       "  <tbody>\n",
       "    <tr>\n",
       "      <th>0</th>\n",
       "      <td>6888746892508752</td>\n",
       "      <td>2019-08-06 14:06:34</td>\n",
       "      <td>2019-08-06</td>\n",
       "      <td>A_one</td>\n",
       "      <td>2019-08-06</td>\n",
       "      <td>2019-08-01</td>\n",
       "      <td>main screen</td>\n",
       "      <td>False</td>\n",
       "    </tr>\n",
       "    <tr>\n",
       "      <th>1</th>\n",
       "      <td>6909561520679493</td>\n",
       "      <td>2019-08-06 18:52:54</td>\n",
       "      <td>2019-08-06</td>\n",
       "      <td>A_two</td>\n",
       "      <td>2019-08-06</td>\n",
       "      <td>2019-08-01</td>\n",
       "      <td>payment</td>\n",
       "      <td>True</td>\n",
       "    </tr>\n",
       "    <tr>\n",
       "      <th>2</th>\n",
       "      <td>6922444491712477</td>\n",
       "      <td>2019-08-04 14:19:33</td>\n",
       "      <td>2019-08-04</td>\n",
       "      <td>A_one</td>\n",
       "      <td>2019-08-04</td>\n",
       "      <td>2019-08-01</td>\n",
       "      <td>payment</td>\n",
       "      <td>True</td>\n",
       "    </tr>\n",
       "    <tr>\n",
       "      <th>3</th>\n",
       "      <td>7435777799948366</td>\n",
       "      <td>2019-08-05 08:06:34</td>\n",
       "      <td>2019-08-05</td>\n",
       "      <td>B_test</td>\n",
       "      <td>2019-08-05</td>\n",
       "      <td>2019-08-01</td>\n",
       "      <td>main screen</td>\n",
       "      <td>False</td>\n",
       "    </tr>\n",
       "    <tr>\n",
       "      <th>4</th>\n",
       "      <td>7702139951469979</td>\n",
       "      <td>2019-08-01 04:29:54</td>\n",
       "      <td>2019-08-01</td>\n",
       "      <td>A_two</td>\n",
       "      <td>2019-08-01</td>\n",
       "      <td>2019-08-01</td>\n",
       "      <td>payment</td>\n",
       "      <td>True</td>\n",
       "    </tr>\n",
       "    <tr>\n",
       "      <th>...</th>\n",
       "      <td>...</td>\n",
       "      <td>...</td>\n",
       "      <td>...</td>\n",
       "      <td>...</td>\n",
       "      <td>...</td>\n",
       "      <td>...</td>\n",
       "      <td>...</td>\n",
       "      <td>...</td>\n",
       "    </tr>\n",
       "    <tr>\n",
       "      <th>7529</th>\n",
       "      <td>9217594193087726423</td>\n",
       "      <td>2019-08-02 09:00:57</td>\n",
       "      <td>2019-08-02</td>\n",
       "      <td>A_one</td>\n",
       "      <td>2019-08-02</td>\n",
       "      <td>2019-08-01</td>\n",
       "      <td>payment</td>\n",
       "      <td>True</td>\n",
       "    </tr>\n",
       "    <tr>\n",
       "      <th>7530</th>\n",
       "      <td>9219463515465815368</td>\n",
       "      <td>2019-08-05 05:26:26</td>\n",
       "      <td>2019-08-05</td>\n",
       "      <td>B_test</td>\n",
       "      <td>2019-08-05</td>\n",
       "      <td>2019-08-01</td>\n",
       "      <td>payment</td>\n",
       "      <td>True</td>\n",
       "    </tr>\n",
       "    <tr>\n",
       "      <th>7531</th>\n",
       "      <td>9220879493065341500</td>\n",
       "      <td>2019-08-02 17:58:48</td>\n",
       "      <td>2019-08-02</td>\n",
       "      <td>A_one</td>\n",
       "      <td>2019-08-02</td>\n",
       "      <td>2019-08-01</td>\n",
       "      <td>offer screen</td>\n",
       "      <td>False</td>\n",
       "    </tr>\n",
       "    <tr>\n",
       "      <th>7532</th>\n",
       "      <td>9221926045299980007</td>\n",
       "      <td>2019-08-01 17:30:27</td>\n",
       "      <td>2019-08-01</td>\n",
       "      <td>A_one</td>\n",
       "      <td>2019-08-01</td>\n",
       "      <td>2019-08-01</td>\n",
       "      <td>main screen</td>\n",
       "      <td>False</td>\n",
       "    </tr>\n",
       "    <tr>\n",
       "      <th>7533</th>\n",
       "      <td>9222603179720523844</td>\n",
       "      <td>2019-08-01 06:52:13</td>\n",
       "      <td>2019-08-01</td>\n",
       "      <td>B_test</td>\n",
       "      <td>2019-08-01</td>\n",
       "      <td>2019-08-01</td>\n",
       "      <td>main screen</td>\n",
       "      <td>False</td>\n",
       "    </tr>\n",
       "  </tbody>\n",
       "</table>\n",
       "<p>7534 rows × 8 columns</p>\n",
       "</div>"
      ],
      "text/plain": [
       "                       id           timestamp    first_ts   group          dt  \\\n",
       "0        6888746892508752 2019-08-06 14:06:34  2019-08-06   A_one  2019-08-06   \n",
       "1        6909561520679493 2019-08-06 18:52:54  2019-08-06   A_two  2019-08-06   \n",
       "2        6922444491712477 2019-08-04 14:19:33  2019-08-04   A_one  2019-08-04   \n",
       "3        7435777799948366 2019-08-05 08:06:34  2019-08-05  B_test  2019-08-05   \n",
       "4        7702139951469979 2019-08-01 04:29:54  2019-08-01   A_two  2019-08-01   \n",
       "...                   ...                 ...         ...     ...         ...   \n",
       "7529  9217594193087726423 2019-08-02 09:00:57  2019-08-02   A_one  2019-08-02   \n",
       "7530  9219463515465815368 2019-08-05 05:26:26  2019-08-05  B_test  2019-08-05   \n",
       "7531  9220879493065341500 2019-08-02 17:58:48  2019-08-02   A_one  2019-08-02   \n",
       "7532  9221926045299980007 2019-08-01 17:30:27  2019-08-01   A_one  2019-08-01   \n",
       "7533  9222603179720523844 2019-08-01 06:52:13  2019-08-01  B_test  2019-08-01   \n",
       "\n",
       "          month    last_event  payer  \n",
       "0    2019-08-01   main screen  False  \n",
       "1    2019-08-01       payment   True  \n",
       "2    2019-08-01       payment   True  \n",
       "3    2019-08-01   main screen  False  \n",
       "4    2019-08-01       payment   True  \n",
       "...         ...           ...    ...  \n",
       "7529 2019-08-01       payment   True  \n",
       "7530 2019-08-01       payment   True  \n",
       "7531 2019-08-01  offer screen  False  \n",
       "7532 2019-08-01   main screen  False  \n",
       "7533 2019-08-01   main screen  False  \n",
       "\n",
       "[7534 rows x 8 columns]"
      ]
     },
     "execution_count": 34,
     "metadata": {},
     "output_type": "execute_result"
    }
   ],
   "source": [
    "profiles"
   ]
  },
  {
   "cell_type": "markdown",
   "id": "stable-chapel",
   "metadata": {},
   "source": [
    "Посчитаем пользователей по группам:"
   ]
  },
  {
   "cell_type": "code",
   "execution_count": 35,
   "id": "enabling-memphis",
   "metadata": {},
   "outputs": [
    {
     "data": {
      "text/html": [
       "<div>\n",
       "<style scoped>\n",
       "    .dataframe tbody tr th:only-of-type {\n",
       "        vertical-align: middle;\n",
       "    }\n",
       "\n",
       "    .dataframe tbody tr th {\n",
       "        vertical-align: top;\n",
       "    }\n",
       "\n",
       "    .dataframe thead th {\n",
       "        text-align: right;\n",
       "    }\n",
       "</style>\n",
       "<table border=\"1\" class=\"dataframe\">\n",
       "  <thead>\n",
       "    <tr style=\"text-align: right;\">\n",
       "      <th></th>\n",
       "      <th>group</th>\n",
       "      <th>id</th>\n",
       "      <th>percent</th>\n",
       "    </tr>\n",
       "  </thead>\n",
       "  <tbody>\n",
       "    <tr>\n",
       "      <th>2</th>\n",
       "      <td>B_test</td>\n",
       "      <td>2537</td>\n",
       "      <td>33.67</td>\n",
       "    </tr>\n",
       "    <tr>\n",
       "      <th>1</th>\n",
       "      <td>A_two</td>\n",
       "      <td>2513</td>\n",
       "      <td>33.36</td>\n",
       "    </tr>\n",
       "    <tr>\n",
       "      <th>0</th>\n",
       "      <td>A_one</td>\n",
       "      <td>2484</td>\n",
       "      <td>32.97</td>\n",
       "    </tr>\n",
       "  </tbody>\n",
       "</table>\n",
       "</div>"
      ],
      "text/plain": [
       "    group    id  percent\n",
       "2  B_test  2537    33.67\n",
       "1   A_two  2513    33.36\n",
       "0   A_one  2484    32.97"
      ]
     },
     "execution_count": 35,
     "metadata": {},
     "output_type": "execute_result"
    }
   ],
   "source": [
    "simple_grouper(profiles, 'group')"
   ]
  },
  {
   "cell_type": "markdown",
   "id": "institutional-portland",
   "metadata": {},
   "source": [
    "Все три группы примерно одного размера, разница между группами не превышает 1%."
   ]
  },
  {
   "cell_type": "markdown",
   "id": "corresponding-japanese",
   "metadata": {},
   "source": [
    "### - проверим пересечения между группами"
   ]
  },
  {
   "cell_type": "code",
   "execution_count": 36,
   "id": "neural-symphony",
   "metadata": {},
   "outputs": [
    {
     "name": "stdout",
     "output_type": "stream",
     "text": [
      "Пересечений нет, группы изолированы.\n"
     ]
    }
   ],
   "source": [
    "intersection = get_intersections(logs, groups=['A_one', 'A_two'], test_group=['B_test'])"
   ]
  },
  {
   "cell_type": "markdown",
   "id": "conceptual-graduate",
   "metadata": {
    "tags": []
   },
   "source": [
    "&#9889; **Выводы**\n",
    "\n",
    "1. Всего в таблице три группы - две контрольных, одна тестовая: \n",
    "    - 2537 (33.67% от общего числа уникальных пользователей),\n",
    "    - 2513 (33.36% от общего числа уникальных пользователей),\n",
    "    - 2484 (32.97% от общего числа уникальных пользователей).\n",
    "2. Все три группы примерно одного размера, разница между группами не превышает 1%.\n",
    "3. Пересечений между группами нет."
   ]
  },
  {
   "cell_type": "markdown",
   "id": "downtown-morocco",
   "metadata": {},
   "source": [
    "[В оглавление](#TOC)"
   ]
  },
  {
   "cell_type": "markdown",
   "id": "dense-profession",
   "metadata": {
    "tags": []
   },
   "source": [
    "## 2) Проведем статистические тесты для контрольных групп<a class=\"anchor\" id=\"4_2\"></a>"
   ]
  },
  {
   "cell_type": "markdown",
   "id": "interim-designation",
   "metadata": {},
   "source": [
    "### - убедимся, что полученная выборка распределена нормально"
   ]
  },
  {
   "cell_type": "markdown",
   "id": "played-horse",
   "metadata": {},
   "source": [
    "Проверим гипотезу о том, что данные получены из генеральной совокупности с нормальным распределением, для чего воспользуемся критерием Шапиро-Уилка.\n",
    "\n",
    "1. Нулевую гипотезу, которую проверяет тест, сформулируем так: \"Выборка  нормально распределена\",\n",
    "2. Альтернативную гипотезу, соответственно, сформулируем так: \"Распределение выборки не нормально\",\n",
    "3. Примем уровень значимости в 5%.\n",
    "\n",
    "Подготовим параметры для теста:"
   ]
  },
  {
   "cell_type": "code",
   "execution_count": 37,
   "id": "vietnamese-infection",
   "metadata": {},
   "outputs": [],
   "source": [
    "params_of_test = {'sample_name': 'Полная выборка',\n",
    "                  'alpha': 0.05,\n",
    "                  'zero_hypothesis': 'Выборка нормально распределена',\n",
    "                  'alt_hypothesis': 'Распределение выборки не нормально',\n",
    "                  'test': 'shapiro'}"
   ]
  },
  {
   "cell_type": "markdown",
   "id": "impressive-visiting",
   "metadata": {},
   "source": [
    "Проведем тест:"
   ]
  },
  {
   "cell_type": "code",
   "execution_count": 38,
   "id": "aquatic-amazon",
   "metadata": {},
   "outputs": [
    {
     "data": {
      "text/html": [
       "<style type=\"text/css\">\n",
       "#T_cb6f9 th {\n",
       "  text-align: left;\n",
       "}\n",
       "#T_cb6f9_row0_col0, #T_cb6f9_row0_col1, #T_cb6f9_row0_col2, #T_cb6f9_row0_col3, #T_cb6f9_row0_col4, #T_cb6f9_row0_col5, #T_cb6f9_row0_col6 {\n",
       "  text-align: left;\n",
       "}\n",
       "</style>\n",
       "<table id=\"T_cb6f9\">\n",
       "  <thead>\n",
       "    <tr>\n",
       "      <th class=\"blank level0\" >&nbsp;</th>\n",
       "      <th id=\"T_cb6f9_level0_col0\" class=\"col_heading level0 col0\" >Выборка</th>\n",
       "      <th id=\"T_cb6f9_level0_col1\" class=\"col_heading level0 col1\" >Нулевая гипотеза (Н0)</th>\n",
       "      <th id=\"T_cb6f9_level0_col2\" class=\"col_heading level0 col2\" >Альтернативная гипотеза (Н1)</th>\n",
       "      <th id=\"T_cb6f9_level0_col3\" class=\"col_heading level0 col3\" >alpha</th>\n",
       "      <th id=\"T_cb6f9_level0_col4\" class=\"col_heading level0 col4\" >p-value</th>\n",
       "      <th id=\"T_cb6f9_level0_col5\" class=\"col_heading level0 col5\" >p-value < alpha</th>\n",
       "      <th id=\"T_cb6f9_level0_col6\" class=\"col_heading level0 col6\" >Н0/Н1</th>\n",
       "    </tr>\n",
       "  </thead>\n",
       "  <tbody>\n",
       "    <tr>\n",
       "      <th id=\"T_cb6f9_level0_row0\" class=\"row_heading level0 row0\" >0</th>\n",
       "      <td id=\"T_cb6f9_row0_col0\" class=\"data row0 col0\" >Полная выборка</td>\n",
       "      <td id=\"T_cb6f9_row0_col1\" class=\"data row0 col1\" >Выборка нормально распределена</td>\n",
       "      <td id=\"T_cb6f9_row0_col2\" class=\"data row0 col2\" >Распределение выборки не нормально</td>\n",
       "      <td id=\"T_cb6f9_row0_col3\" class=\"data row0 col3\" >0.05</td>\n",
       "      <td id=\"T_cb6f9_row0_col4\" class=\"data row0 col4\" >0.111245</td>\n",
       "      <td id=\"T_cb6f9_row0_col5\" class=\"data row0 col5\" >False</td>\n",
       "      <td id=\"T_cb6f9_row0_col6\" class=\"data row0 col6\" >Н0</td>\n",
       "    </tr>\n",
       "  </tbody>\n",
       "</table>\n"
      ],
      "text/plain": [
       "<pandas.io.formats.style.Styler at 0x7f7cb59c6850>"
      ]
     },
     "metadata": {},
     "output_type": "display_data"
    }
   ],
   "source": [
    "tests.test_designer(params_of_test)\n",
    "report_styler(tests.result)"
   ]
  },
  {
   "cell_type": "markdown",
   "id": "committed-sport",
   "metadata": {},
   "source": [
    "&#9889; **Выводы**\n",
    "\n",
    "В отношении распределения выборки, исходя из представленных данных, на уровне значимости 5% - нет оснований отвергнуть нулевую гипотезу в пользу альтернативы: выборка нормально распределена."
   ]
  },
  {
   "cell_type": "markdown",
   "id": "accepted-joyce",
   "metadata": {},
   "source": [
    "[В оглавление](#TOC)"
   ]
  },
  {
   "cell_type": "markdown",
   "id": "reserved-abuse",
   "metadata": {},
   "source": [
    "### - проведем статистические тесты в отношении контрольных групп"
   ]
  },
  {
   "cell_type": "markdown",
   "id": "funded-complement",
   "metadata": {},
   "source": [
    "Исходя из результов применения к выборке критерия Шапиро-Уилка на уровне значимости 5% - выборка нормально распределена. Поскольку, принимая во внимаение задачу, нужно проверить повлиял ли новый шрифт на поведение пользователей (безотносительно того как именно повлиял) - нас интересует изменилась ли пропорция пользователей от типичных события к событию в тестовой группе. Учитывая, что получена относительно большая выборка, мы можем применить Z-тест для проверки гипотезы о равенстве долей в группах.\n",
    "\n",
    "Для начала применим Z-тест к контрольным группам, чтобы убедиться в корректности разделения групп.\n",
    "\n",
    "Проверим гипотезу о том, что доли пользователей в двух контрольных группах одинаковы на кждом из шагов.\n",
    "\n",
    "1. Нулевую гипотезу, которую проверяет тест, сформулируем так: \"Между долями пользователей в контрольных группах нет статистически значимой разницы\",\n",
    "2. Альтернативную гипотезу, соответственно, сформулируем так: \"Между долями пользователей в контрольных группах есть статистически значимая разница\",\n",
    "3. Примем уровень значимости в 5%.\n",
    "\n",
    "Подготовим параметры для теста:"
   ]
  },
  {
   "cell_type": "code",
   "execution_count": 39,
   "id": "eight-oracle",
   "metadata": {},
   "outputs": [],
   "source": [
    "sample_name = 'Контрольные группы'\n",
    "params_of_test = {'sample_name': sample_name,\n",
    "                  'alpha': 0.05,\n",
    "                  'zero_hypothesis': 'Между долями пользователей нет различий',\n",
    "                  'alt_hypothesis': 'Между долями пользователей есть различия',\n",
    "                  'test': 'z_test'}"
   ]
  },
  {
   "cell_type": "markdown",
   "id": "economic-assessment",
   "metadata": {},
   "source": [
    "Проведем тест и выведем результат:"
   ]
  },
  {
   "cell_type": "code",
   "execution_count": 40,
   "id": "disciplinary-excitement",
   "metadata": {},
   "outputs": [],
   "source": [
    "tests.test_routine(params_of_test, groups_labels=[['A_one'], ['A_two']],\n",
    "                   sample_name=sample_name)"
   ]
  },
  {
   "cell_type": "markdown",
   "id": "coordinated-client",
   "metadata": {},
   "source": [
    "Выведем результат:"
   ]
  },
  {
   "cell_type": "code",
   "execution_count": 41,
   "id": "occupied-buddy",
   "metadata": {},
   "outputs": [
    {
     "data": {
      "text/html": [
       "<style type=\"text/css\">\n",
       "#T_9ccc5 th {\n",
       "  text-align: left;\n",
       "}\n",
       "#T_9ccc5_row0_col0, #T_9ccc5_row0_col1, #T_9ccc5_row0_col2, #T_9ccc5_row0_col3, #T_9ccc5_row0_col4, #T_9ccc5_row0_col5, #T_9ccc5_row0_col6, #T_9ccc5_row1_col0, #T_9ccc5_row1_col1, #T_9ccc5_row1_col2, #T_9ccc5_row1_col3, #T_9ccc5_row1_col4, #T_9ccc5_row1_col5, #T_9ccc5_row1_col6, #T_9ccc5_row2_col0, #T_9ccc5_row2_col1, #T_9ccc5_row2_col2, #T_9ccc5_row2_col3, #T_9ccc5_row2_col4, #T_9ccc5_row2_col5, #T_9ccc5_row2_col6, #T_9ccc5_row3_col0, #T_9ccc5_row3_col1, #T_9ccc5_row3_col2, #T_9ccc5_row3_col3, #T_9ccc5_row3_col4, #T_9ccc5_row3_col5, #T_9ccc5_row3_col6 {\n",
       "  text-align: left;\n",
       "}\n",
       "</style>\n",
       "<table id=\"T_9ccc5\">\n",
       "  <thead>\n",
       "    <tr>\n",
       "      <th class=\"blank level0\" >&nbsp;</th>\n",
       "      <th id=\"T_9ccc5_level0_col0\" class=\"col_heading level0 col0\" >Выборка</th>\n",
       "      <th id=\"T_9ccc5_level0_col1\" class=\"col_heading level0 col1\" >Нулевая гипотеза (Н0)</th>\n",
       "      <th id=\"T_9ccc5_level0_col2\" class=\"col_heading level0 col2\" >Альтернативная гипотеза (Н1)</th>\n",
       "      <th id=\"T_9ccc5_level0_col3\" class=\"col_heading level0 col3\" >alpha</th>\n",
       "      <th id=\"T_9ccc5_level0_col4\" class=\"col_heading level0 col4\" >p-value</th>\n",
       "      <th id=\"T_9ccc5_level0_col5\" class=\"col_heading level0 col5\" >p-value < alpha</th>\n",
       "      <th id=\"T_9ccc5_level0_col6\" class=\"col_heading level0 col6\" >Н0/Н1</th>\n",
       "    </tr>\n",
       "  </thead>\n",
       "  <tbody>\n",
       "    <tr>\n",
       "      <th id=\"T_9ccc5_level0_row0\" class=\"row_heading level0 row0\" >0</th>\n",
       "      <td id=\"T_9ccc5_row0_col0\" class=\"data row0 col0\" >Контрольные группы: main screen</td>\n",
       "      <td id=\"T_9ccc5_row0_col1\" class=\"data row0 col1\" >Между долями пользователей нет различий</td>\n",
       "      <td id=\"T_9ccc5_row0_col2\" class=\"data row0 col2\" >Между долями пользователей есть различия</td>\n",
       "      <td id=\"T_9ccc5_row0_col3\" class=\"data row0 col3\" >0.05</td>\n",
       "      <td id=\"T_9ccc5_row0_col4\" class=\"data row0 col4\" >0.757060</td>\n",
       "      <td id=\"T_9ccc5_row0_col5\" class=\"data row0 col5\" >False</td>\n",
       "      <td id=\"T_9ccc5_row0_col6\" class=\"data row0 col6\" >Н0</td>\n",
       "    </tr>\n",
       "    <tr>\n",
       "      <th id=\"T_9ccc5_level0_row1\" class=\"row_heading level0 row1\" >1</th>\n",
       "      <td id=\"T_9ccc5_row1_col0\" class=\"data row1 col0\" >Контрольные группы: offer screen</td>\n",
       "      <td id=\"T_9ccc5_row1_col1\" class=\"data row1 col1\" >Между долями пользователей нет различий</td>\n",
       "      <td id=\"T_9ccc5_row1_col2\" class=\"data row1 col2\" >Между долями пользователей есть различия</td>\n",
       "      <td id=\"T_9ccc5_row1_col3\" class=\"data row1 col3\" >0.05</td>\n",
       "      <td id=\"T_9ccc5_row1_col4\" class=\"data row1 col4\" >0.248095</td>\n",
       "      <td id=\"T_9ccc5_row1_col5\" class=\"data row1 col5\" >False</td>\n",
       "      <td id=\"T_9ccc5_row1_col6\" class=\"data row1 col6\" >Н0</td>\n",
       "    </tr>\n",
       "    <tr>\n",
       "      <th id=\"T_9ccc5_level0_row2\" class=\"row_heading level0 row2\" >2</th>\n",
       "      <td id=\"T_9ccc5_row2_col0\" class=\"data row2 col0\" >Контрольные группы: cart</td>\n",
       "      <td id=\"T_9ccc5_row2_col1\" class=\"data row2 col1\" >Между долями пользователей нет различий</td>\n",
       "      <td id=\"T_9ccc5_row2_col2\" class=\"data row2 col2\" >Между долями пользователей есть различия</td>\n",
       "      <td id=\"T_9ccc5_row2_col3\" class=\"data row2 col3\" >0.05</td>\n",
       "      <td id=\"T_9ccc5_row2_col4\" class=\"data row2 col4\" >0.228834</td>\n",
       "      <td id=\"T_9ccc5_row2_col5\" class=\"data row2 col5\" >False</td>\n",
       "      <td id=\"T_9ccc5_row2_col6\" class=\"data row2 col6\" >Н0</td>\n",
       "    </tr>\n",
       "    <tr>\n",
       "      <th id=\"T_9ccc5_level0_row3\" class=\"row_heading level0 row3\" >3</th>\n",
       "      <td id=\"T_9ccc5_row3_col0\" class=\"data row3 col0\" >Контрольные группы: payment</td>\n",
       "      <td id=\"T_9ccc5_row3_col1\" class=\"data row3 col1\" >Между долями пользователей нет различий</td>\n",
       "      <td id=\"T_9ccc5_row3_col2\" class=\"data row3 col2\" >Между долями пользователей есть различия</td>\n",
       "      <td id=\"T_9ccc5_row3_col3\" class=\"data row3 col3\" >0.05</td>\n",
       "      <td id=\"T_9ccc5_row3_col4\" class=\"data row3 col4\" >0.114567</td>\n",
       "      <td id=\"T_9ccc5_row3_col5\" class=\"data row3 col5\" >False</td>\n",
       "      <td id=\"T_9ccc5_row3_col6\" class=\"data row3 col6\" >Н0</td>\n",
       "    </tr>\n",
       "  </tbody>\n",
       "</table>\n"
      ],
      "text/plain": [
       "<pandas.io.formats.style.Styler at 0x7f7cb2a4faf0>"
      ]
     },
     "metadata": {},
     "output_type": "display_data"
    }
   ],
   "source": [
    "report_styler(tests.result)"
   ]
  },
  {
   "cell_type": "markdown",
   "id": "broken-mercury",
   "metadata": {},
   "source": [
    "&#9889; **Выводы**\n",
    "\n",
    "1. В отношении различий долей между двумя контрольными группами, исходя из представленных данных, на уровне значимости 5% - нет оснований отвергнуть нулевую гипотезу в пользу альтернативы: между долями пользователей в контрольных группах нет статистически значимой разницы.\n",
    "2. Принимая во внимание, что разница в количестве пользователей между контрольными группами не превышает 1%, между группами нет пересечений, учитывая результаты статистического теста - с некоторой осторожностью, можно утверждать, что группы разеделены корректно."
   ]
  },
  {
   "cell_type": "markdown",
   "id": "alert-howard",
   "metadata": {},
   "source": [
    "[В оглавление](#TOC)"
   ]
  },
  {
   "cell_type": "markdown",
   "id": "frozen-bottle",
   "metadata": {
    "tags": []
   },
   "source": [
    "## 3) Проведем статистические тесты для тестовой группы<a class=\"anchor\" id=\"4_3\"></a>"
   ]
  },
  {
   "cell_type": "markdown",
   "id": "overhead-relaxation",
   "metadata": {},
   "source": [
    "### - проведем статистические тесты в отношении контрольной группы А-1 и тестовой группы В"
   ]
  },
  {
   "cell_type": "markdown",
   "id": "double-claim",
   "metadata": {},
   "source": [
    "Проверим гипотезу о том, что доли пользователей в группе А-1 и группе В одинаковы на каждом из шагов.\n",
    "\n",
    "1. Нулевую гипотезу, которую проверяет тест, сформулируем так: \"Между долями пользователей в группах нет статистически значимой разницы\",\n",
    "2. Альтернативную гипотезу, соответственно, сформулируем так: \"Между долями пользователей в группах есть статистически значимая разница\",\n",
    "3. Примем уровень значимости в 5%.\n",
    "\n",
    "Подготовим параметры для теста:"
   ]
  },
  {
   "cell_type": "code",
   "execution_count": 42,
   "id": "intellectual-roulette",
   "metadata": {},
   "outputs": [],
   "source": [
    "sample_name = 'Группа А-1 и тестовая В'\n",
    "params_of_test = {'sample_name': sample_name,\n",
    "                  'alpha': 0.05,\n",
    "                  'zero_hypothesis': 'Между долями пользователей нет различий',\n",
    "                  'alt_hypothesis': 'Между долями пользователей есть различия',\n",
    "                  'test': 'z_test'}"
   ]
  },
  {
   "cell_type": "markdown",
   "id": "seven-dover",
   "metadata": {},
   "source": [
    "Проведем тест и выведем результат:"
   ]
  },
  {
   "cell_type": "code",
   "execution_count": 43,
   "id": "gothic-plymouth",
   "metadata": {},
   "outputs": [],
   "source": [
    "tests.test_routine(params_of_test, groups_labels=[['A_one'], ['B_test']],\n",
    "                   sample_name=sample_name)"
   ]
  },
  {
   "cell_type": "markdown",
   "id": "early-mambo",
   "metadata": {},
   "source": [
    "Выведем результат:"
   ]
  },
  {
   "cell_type": "code",
   "execution_count": 44,
   "id": "aquatic-mercury",
   "metadata": {},
   "outputs": [
    {
     "data": {
      "text/html": [
       "<style type=\"text/css\">\n",
       "#T_70725 th {\n",
       "  text-align: left;\n",
       "}\n",
       "#T_70725_row0_col0, #T_70725_row0_col1, #T_70725_row0_col2, #T_70725_row0_col3, #T_70725_row0_col4, #T_70725_row0_col5, #T_70725_row0_col6, #T_70725_row1_col0, #T_70725_row1_col1, #T_70725_row1_col2, #T_70725_row1_col3, #T_70725_row1_col4, #T_70725_row1_col5, #T_70725_row1_col6, #T_70725_row2_col0, #T_70725_row2_col1, #T_70725_row2_col2, #T_70725_row2_col3, #T_70725_row2_col4, #T_70725_row2_col5, #T_70725_row2_col6, #T_70725_row3_col0, #T_70725_row3_col1, #T_70725_row3_col2, #T_70725_row3_col3, #T_70725_row3_col4, #T_70725_row3_col5, #T_70725_row3_col6 {\n",
       "  text-align: left;\n",
       "}\n",
       "</style>\n",
       "<table id=\"T_70725\">\n",
       "  <thead>\n",
       "    <tr>\n",
       "      <th class=\"blank level0\" >&nbsp;</th>\n",
       "      <th id=\"T_70725_level0_col0\" class=\"col_heading level0 col0\" >Выборка</th>\n",
       "      <th id=\"T_70725_level0_col1\" class=\"col_heading level0 col1\" >Нулевая гипотеза (Н0)</th>\n",
       "      <th id=\"T_70725_level0_col2\" class=\"col_heading level0 col2\" >Альтернативная гипотеза (Н1)</th>\n",
       "      <th id=\"T_70725_level0_col3\" class=\"col_heading level0 col3\" >alpha</th>\n",
       "      <th id=\"T_70725_level0_col4\" class=\"col_heading level0 col4\" >p-value</th>\n",
       "      <th id=\"T_70725_level0_col5\" class=\"col_heading level0 col5\" >p-value < alpha</th>\n",
       "      <th id=\"T_70725_level0_col6\" class=\"col_heading level0 col6\" >Н0/Н1</th>\n",
       "    </tr>\n",
       "  </thead>\n",
       "  <tbody>\n",
       "    <tr>\n",
       "      <th id=\"T_70725_level0_row0\" class=\"row_heading level0 row0\" >4</th>\n",
       "      <td id=\"T_70725_row0_col0\" class=\"data row0 col0\" >Группа А-1 и тестовая В: main screen</td>\n",
       "      <td id=\"T_70725_row0_col1\" class=\"data row0 col1\" >Между долями пользователей нет различий</td>\n",
       "      <td id=\"T_70725_row0_col2\" class=\"data row0 col2\" >Между долями пользователей есть различия</td>\n",
       "      <td id=\"T_70725_row0_col3\" class=\"data row0 col3\" >0.05</td>\n",
       "      <td id=\"T_70725_row0_col4\" class=\"data row0 col4\" >0.294972</td>\n",
       "      <td id=\"T_70725_row0_col5\" class=\"data row0 col5\" >False</td>\n",
       "      <td id=\"T_70725_row0_col6\" class=\"data row0 col6\" >Н0</td>\n",
       "    </tr>\n",
       "    <tr>\n",
       "      <th id=\"T_70725_level0_row1\" class=\"row_heading level0 row1\" >5</th>\n",
       "      <td id=\"T_70725_row1_col0\" class=\"data row1 col0\" >Группа А-1 и тестовая В: offer screen</td>\n",
       "      <td id=\"T_70725_row1_col1\" class=\"data row1 col1\" >Между долями пользователей нет различий</td>\n",
       "      <td id=\"T_70725_row1_col2\" class=\"data row1 col2\" >Между долями пользователей есть различия</td>\n",
       "      <td id=\"T_70725_row1_col3\" class=\"data row1 col3\" >0.05</td>\n",
       "      <td id=\"T_70725_row1_col4\" class=\"data row1 col4\" >0.208362</td>\n",
       "      <td id=\"T_70725_row1_col5\" class=\"data row1 col5\" >False</td>\n",
       "      <td id=\"T_70725_row1_col6\" class=\"data row1 col6\" >Н0</td>\n",
       "    </tr>\n",
       "    <tr>\n",
       "      <th id=\"T_70725_level0_row2\" class=\"row_heading level0 row2\" >6</th>\n",
       "      <td id=\"T_70725_row2_col0\" class=\"data row2 col0\" >Группа А-1 и тестовая В: cart</td>\n",
       "      <td id=\"T_70725_row2_col1\" class=\"data row2 col1\" >Между долями пользователей нет различий</td>\n",
       "      <td id=\"T_70725_row2_col2\" class=\"data row2 col2\" >Между долями пользователей есть различия</td>\n",
       "      <td id=\"T_70725_row2_col3\" class=\"data row2 col3\" >0.05</td>\n",
       "      <td id=\"T_70725_row2_col4\" class=\"data row2 col4\" >0.078429</td>\n",
       "      <td id=\"T_70725_row2_col5\" class=\"data row2 col5\" >False</td>\n",
       "      <td id=\"T_70725_row2_col6\" class=\"data row2 col6\" >Н0</td>\n",
       "    </tr>\n",
       "    <tr>\n",
       "      <th id=\"T_70725_level0_row3\" class=\"row_heading level0 row3\" >7</th>\n",
       "      <td id=\"T_70725_row3_col0\" class=\"data row3 col0\" >Группа А-1 и тестовая В: payment</td>\n",
       "      <td id=\"T_70725_row3_col1\" class=\"data row3 col1\" >Между долями пользователей нет различий</td>\n",
       "      <td id=\"T_70725_row3_col2\" class=\"data row3 col2\" >Между долями пользователей есть различия</td>\n",
       "      <td id=\"T_70725_row3_col3\" class=\"data row3 col3\" >0.05</td>\n",
       "      <td id=\"T_70725_row3_col4\" class=\"data row3 col4\" >0.212255</td>\n",
       "      <td id=\"T_70725_row3_col5\" class=\"data row3 col5\" >False</td>\n",
       "      <td id=\"T_70725_row3_col6\" class=\"data row3 col6\" >Н0</td>\n",
       "    </tr>\n",
       "  </tbody>\n",
       "</table>\n"
      ],
      "text/plain": [
       "<pandas.io.formats.style.Styler at 0x7f7cb646e7c0>"
      ]
     },
     "metadata": {},
     "output_type": "display_data"
    }
   ],
   "source": [
    "report_styler(tests.result[tests.result['Выборка'].str.startswith('Группа А-1')])"
   ]
  },
  {
   "cell_type": "markdown",
   "id": "suffering-harbor",
   "metadata": {},
   "source": [
    "&#9889; **Выводы**\n",
    "\n",
    "В отношении различий долей между контрольной группой А-1 и тестовой группой В, исходя из представленных данных, на уровне значимости 5% - нет оснований отвергнуть нулевую гипотезу в пользу альтернативы: между долями пользователей в группе А-1 и тестовой группе В нет статистически значимой разницы."
   ]
  },
  {
   "cell_type": "markdown",
   "id": "endless-antibody",
   "metadata": {},
   "source": [
    "[В оглавление](#TOC)"
   ]
  },
  {
   "cell_type": "markdown",
   "id": "abstract-sleeping",
   "metadata": {},
   "source": [
    "### - проведем статистические тесты в отношении контрольной группы А-2 и тестовой группы В"
   ]
  },
  {
   "cell_type": "markdown",
   "id": "changing-columbia",
   "metadata": {},
   "source": [
    "Проверим гипотезу о том, что доли пользователей в группе А-2 и группе В одинаковы на каждом из шагов.\n",
    "\n",
    "1. Нулевую гипотезу, которую проверяет тест, сформулируем так: \"Между долями пользователей в группах нет статистически значимой разницы\",\n",
    "2. Альтернативную гипотезу, соответственно, сформулируем так: \"Между долями пользователей в группах есть статистически значимая разница\",\n",
    "3. Примем уровень значимости в 5%.\n",
    "\n",
    "Подготовим параметры для теста:"
   ]
  },
  {
   "cell_type": "code",
   "execution_count": 45,
   "id": "quick-heater",
   "metadata": {},
   "outputs": [],
   "source": [
    "sample_name = 'Группа А-2 и тестовая В'\n",
    "params_of_test = {'sample_name': sample_name,\n",
    "                  'alpha': 0.05,\n",
    "                  'zero_hypothesis': 'Между долями пользователей нет различий',\n",
    "                  'alt_hypothesis': 'Между долями пользователей есть различия',\n",
    "                  'test': 'z_test'}"
   ]
  },
  {
   "cell_type": "markdown",
   "id": "continent-parts",
   "metadata": {},
   "source": [
    "Проведем тест:"
   ]
  },
  {
   "cell_type": "code",
   "execution_count": 46,
   "id": "economic-carter",
   "metadata": {},
   "outputs": [],
   "source": [
    "tests.test_routine(params_of_test, groups_labels=[['A_two'], ['B_test']], sample_name=sample_name)"
   ]
  },
  {
   "cell_type": "markdown",
   "id": "sacred-faculty",
   "metadata": {},
   "source": [
    "Выведем результат:"
   ]
  },
  {
   "cell_type": "code",
   "execution_count": 47,
   "id": "sublime-trash",
   "metadata": {},
   "outputs": [
    {
     "data": {
      "text/html": [
       "<style type=\"text/css\">\n",
       "#T_b102a th {\n",
       "  text-align: left;\n",
       "}\n",
       "#T_b102a_row0_col0, #T_b102a_row0_col1, #T_b102a_row0_col2, #T_b102a_row0_col3, #T_b102a_row0_col4, #T_b102a_row0_col5, #T_b102a_row0_col6, #T_b102a_row1_col0, #T_b102a_row1_col1, #T_b102a_row1_col2, #T_b102a_row1_col3, #T_b102a_row1_col4, #T_b102a_row1_col5, #T_b102a_row1_col6, #T_b102a_row2_col0, #T_b102a_row2_col1, #T_b102a_row2_col2, #T_b102a_row2_col3, #T_b102a_row2_col4, #T_b102a_row2_col5, #T_b102a_row2_col6, #T_b102a_row3_col0, #T_b102a_row3_col1, #T_b102a_row3_col2, #T_b102a_row3_col3, #T_b102a_row3_col4, #T_b102a_row3_col5, #T_b102a_row3_col6 {\n",
       "  text-align: left;\n",
       "}\n",
       "</style>\n",
       "<table id=\"T_b102a\">\n",
       "  <thead>\n",
       "    <tr>\n",
       "      <th class=\"blank level0\" >&nbsp;</th>\n",
       "      <th id=\"T_b102a_level0_col0\" class=\"col_heading level0 col0\" >Выборка</th>\n",
       "      <th id=\"T_b102a_level0_col1\" class=\"col_heading level0 col1\" >Нулевая гипотеза (Н0)</th>\n",
       "      <th id=\"T_b102a_level0_col2\" class=\"col_heading level0 col2\" >Альтернативная гипотеза (Н1)</th>\n",
       "      <th id=\"T_b102a_level0_col3\" class=\"col_heading level0 col3\" >alpha</th>\n",
       "      <th id=\"T_b102a_level0_col4\" class=\"col_heading level0 col4\" >p-value</th>\n",
       "      <th id=\"T_b102a_level0_col5\" class=\"col_heading level0 col5\" >p-value < alpha</th>\n",
       "      <th id=\"T_b102a_level0_col6\" class=\"col_heading level0 col6\" >Н0/Н1</th>\n",
       "    </tr>\n",
       "  </thead>\n",
       "  <tbody>\n",
       "    <tr>\n",
       "      <th id=\"T_b102a_level0_row0\" class=\"row_heading level0 row0\" >8</th>\n",
       "      <td id=\"T_b102a_row0_col0\" class=\"data row0 col0\" >Группа А-2 и тестовая В: main screen</td>\n",
       "      <td id=\"T_b102a_row0_col1\" class=\"data row0 col1\" >Между долями пользователей нет различий</td>\n",
       "      <td id=\"T_b102a_row0_col2\" class=\"data row0 col2\" >Между долями пользователей есть различия</td>\n",
       "      <td id=\"T_b102a_row0_col3\" class=\"data row0 col3\" >0.05</td>\n",
       "      <td id=\"T_b102a_row0_col4\" class=\"data row0 col4\" >0.458705</td>\n",
       "      <td id=\"T_b102a_row0_col5\" class=\"data row0 col5\" >False</td>\n",
       "      <td id=\"T_b102a_row0_col6\" class=\"data row0 col6\" >Н0</td>\n",
       "    </tr>\n",
       "    <tr>\n",
       "      <th id=\"T_b102a_level0_row1\" class=\"row_heading level0 row1\" >9</th>\n",
       "      <td id=\"T_b102a_row1_col0\" class=\"data row1 col0\" >Группа А-2 и тестовая В: offer screen</td>\n",
       "      <td id=\"T_b102a_row1_col1\" class=\"data row1 col1\" >Между долями пользователей нет различий</td>\n",
       "      <td id=\"T_b102a_row1_col2\" class=\"data row1 col2\" >Между долями пользователей есть различия</td>\n",
       "      <td id=\"T_b102a_row1_col3\" class=\"data row1 col3\" >0.05</td>\n",
       "      <td id=\"T_b102a_row1_col4\" class=\"data row1 col4\" >0.919782</td>\n",
       "      <td id=\"T_b102a_row1_col5\" class=\"data row1 col5\" >False</td>\n",
       "      <td id=\"T_b102a_row1_col6\" class=\"data row1 col6\" >Н0</td>\n",
       "    </tr>\n",
       "    <tr>\n",
       "      <th id=\"T_b102a_level0_row2\" class=\"row_heading level0 row2\" >10</th>\n",
       "      <td id=\"T_b102a_row2_col0\" class=\"data row2 col0\" >Группа А-2 и тестовая В: cart</td>\n",
       "      <td id=\"T_b102a_row2_col1\" class=\"data row2 col1\" >Между долями пользователей нет различий</td>\n",
       "      <td id=\"T_b102a_row2_col2\" class=\"data row2 col2\" >Между долями пользователей есть различия</td>\n",
       "      <td id=\"T_b102a_row2_col3\" class=\"data row2 col3\" >0.05</td>\n",
       "      <td id=\"T_b102a_row2_col4\" class=\"data row2 col4\" >0.578620</td>\n",
       "      <td id=\"T_b102a_row2_col5\" class=\"data row2 col5\" >False</td>\n",
       "      <td id=\"T_b102a_row2_col6\" class=\"data row2 col6\" >Н0</td>\n",
       "    </tr>\n",
       "    <tr>\n",
       "      <th id=\"T_b102a_level0_row3\" class=\"row_heading level0 row3\" >11</th>\n",
       "      <td id=\"T_b102a_row3_col0\" class=\"data row3 col0\" >Группа А-2 и тестовая В: payment</td>\n",
       "      <td id=\"T_b102a_row3_col1\" class=\"data row3 col1\" >Между долями пользователей нет различий</td>\n",
       "      <td id=\"T_b102a_row3_col2\" class=\"data row3 col2\" >Между долями пользователей есть различия</td>\n",
       "      <td id=\"T_b102a_row3_col3\" class=\"data row3 col3\" >0.05</td>\n",
       "      <td id=\"T_b102a_row3_col4\" class=\"data row3 col4\" >0.737342</td>\n",
       "      <td id=\"T_b102a_row3_col5\" class=\"data row3 col5\" >False</td>\n",
       "      <td id=\"T_b102a_row3_col6\" class=\"data row3 col6\" >Н0</td>\n",
       "    </tr>\n",
       "  </tbody>\n",
       "</table>\n"
      ],
      "text/plain": [
       "<pandas.io.formats.style.Styler at 0x7f7cb2a09280>"
      ]
     },
     "metadata": {},
     "output_type": "display_data"
    }
   ],
   "source": [
    "report_styler(tests.result[tests.result['Выборка'].str.startswith('Группа А-2')])"
   ]
  },
  {
   "cell_type": "markdown",
   "id": "alternative-eclipse",
   "metadata": {},
   "source": [
    "&#9889; **Выводы**\n",
    "\n",
    "В отношении различий долей между контрольной группой А-2 и тестовой группой В, исходя из представленных данных, на уровне значимости 5% - нет оснований отвергнуть нулевую гипотезу в пользу альтернативы: между долями пользователей в группе А-2 и тестовой группе В нет статистически значимой разницы."
   ]
  },
  {
   "cell_type": "markdown",
   "id": "increased-surgeon",
   "metadata": {},
   "source": [
    "[В оглавление](#TOC)"
   ]
  },
  {
   "cell_type": "markdown",
   "id": "molecular-magnet",
   "metadata": {},
   "source": [
    "### - проведем статистические тесты в отношении объединенных контрольных групп и тестовой группы В"
   ]
  },
  {
   "cell_type": "markdown",
   "id": "early-bahamas",
   "metadata": {},
   "source": [
    "Проверим гипотезу о том, что доли пользователей в контрольных группах и группе В одинаковы на каждом из шагов.\n",
    "\n",
    "1. Нулевую гипотезу, которую проверяет тест, сформулируем так: \"Между долями пользователей в группах нет статистически значимой разницы\",\n",
    "2. Альтернативную гипотезу, соответственно, сформулируем так: \"Между долями пользователей в группах есть статистически значимая разница\",\n",
    "3. Примем уровень значимости в 5%.\n",
    "\n",
    "Подготовим параметры для теста:"
   ]
  },
  {
   "cell_type": "code",
   "execution_count": 48,
   "id": "miniature-trustee",
   "metadata": {},
   "outputs": [],
   "source": [
    "sample_name = 'Объединенные А и тестовая В'\n",
    "params_of_test = {'sample_name': sample_name,\n",
    "                  'alpha': 0.05,\n",
    "                  'zero_hypothesis': 'Между долями пользователей нет различий',\n",
    "                  'alt_hypothesis': 'Между долями пользователей есть различия',\n",
    "                  'test': 'z_test'}"
   ]
  },
  {
   "cell_type": "code",
   "execution_count": 49,
   "id": "trying-constitutional",
   "metadata": {},
   "outputs": [],
   "source": [
    "tests.test_routine(params_of_test, groups_labels=[['A_one', 'A_two'], ['B_test']],\n",
    "                   sample_name=sample_name, united=True)"
   ]
  },
  {
   "cell_type": "code",
   "execution_count": 50,
   "id": "ruled-recovery",
   "metadata": {},
   "outputs": [
    {
     "data": {
      "text/html": [
       "<style type=\"text/css\">\n",
       "#T_6442e th {\n",
       "  text-align: left;\n",
       "}\n",
       "#T_6442e_row0_col0, #T_6442e_row0_col1, #T_6442e_row0_col2, #T_6442e_row0_col3, #T_6442e_row0_col4, #T_6442e_row0_col5, #T_6442e_row0_col6, #T_6442e_row1_col0, #T_6442e_row1_col1, #T_6442e_row1_col2, #T_6442e_row1_col3, #T_6442e_row1_col4, #T_6442e_row1_col5, #T_6442e_row1_col6, #T_6442e_row2_col0, #T_6442e_row2_col1, #T_6442e_row2_col2, #T_6442e_row2_col3, #T_6442e_row2_col4, #T_6442e_row2_col5, #T_6442e_row2_col6, #T_6442e_row3_col0, #T_6442e_row3_col1, #T_6442e_row3_col2, #T_6442e_row3_col3, #T_6442e_row3_col4, #T_6442e_row3_col5, #T_6442e_row3_col6 {\n",
       "  text-align: left;\n",
       "}\n",
       "</style>\n",
       "<table id=\"T_6442e\">\n",
       "  <thead>\n",
       "    <tr>\n",
       "      <th class=\"blank level0\" >&nbsp;</th>\n",
       "      <th id=\"T_6442e_level0_col0\" class=\"col_heading level0 col0\" >Выборка</th>\n",
       "      <th id=\"T_6442e_level0_col1\" class=\"col_heading level0 col1\" >Нулевая гипотеза (Н0)</th>\n",
       "      <th id=\"T_6442e_level0_col2\" class=\"col_heading level0 col2\" >Альтернативная гипотеза (Н1)</th>\n",
       "      <th id=\"T_6442e_level0_col3\" class=\"col_heading level0 col3\" >alpha</th>\n",
       "      <th id=\"T_6442e_level0_col4\" class=\"col_heading level0 col4\" >p-value</th>\n",
       "      <th id=\"T_6442e_level0_col5\" class=\"col_heading level0 col5\" >p-value < alpha</th>\n",
       "      <th id=\"T_6442e_level0_col6\" class=\"col_heading level0 col6\" >Н0/Н1</th>\n",
       "    </tr>\n",
       "  </thead>\n",
       "  <tbody>\n",
       "    <tr>\n",
       "      <th id=\"T_6442e_level0_row0\" class=\"row_heading level0 row0\" >12</th>\n",
       "      <td id=\"T_6442e_row0_col0\" class=\"data row0 col0\" >Объединенные А и тестовая В: main screen</td>\n",
       "      <td id=\"T_6442e_row0_col1\" class=\"data row0 col1\" >Между долями пользователей нет различий</td>\n",
       "      <td id=\"T_6442e_row0_col2\" class=\"data row0 col2\" >Между долями пользователей есть различия</td>\n",
       "      <td id=\"T_6442e_row0_col3\" class=\"data row0 col3\" >0.05</td>\n",
       "      <td id=\"T_6442e_row0_col4\" class=\"data row0 col4\" >0.294245</td>\n",
       "      <td id=\"T_6442e_row0_col5\" class=\"data row0 col5\" >False</td>\n",
       "      <td id=\"T_6442e_row0_col6\" class=\"data row0 col6\" >Н0</td>\n",
       "    </tr>\n",
       "    <tr>\n",
       "      <th id=\"T_6442e_level0_row1\" class=\"row_heading level0 row1\" >13</th>\n",
       "      <td id=\"T_6442e_row1_col0\" class=\"data row1 col0\" >Объединенные А и тестовая В: offer screen</td>\n",
       "      <td id=\"T_6442e_row1_col1\" class=\"data row1 col1\" >Между долями пользователей нет различий</td>\n",
       "      <td id=\"T_6442e_row1_col2\" class=\"data row1 col2\" >Между долями пользователей есть различия</td>\n",
       "      <td id=\"T_6442e_row1_col3\" class=\"data row1 col3\" >0.05</td>\n",
       "      <td id=\"T_6442e_row1_col4\" class=\"data row1 col4\" >0.434255</td>\n",
       "      <td id=\"T_6442e_row1_col5\" class=\"data row1 col5\" >False</td>\n",
       "      <td id=\"T_6442e_row1_col6\" class=\"data row1 col6\" >Н0</td>\n",
       "    </tr>\n",
       "    <tr>\n",
       "      <th id=\"T_6442e_level0_row2\" class=\"row_heading level0 row2\" >14</th>\n",
       "      <td id=\"T_6442e_row2_col0\" class=\"data row2 col0\" >Объединенные А и тестовая В: cart</td>\n",
       "      <td id=\"T_6442e_row2_col1\" class=\"data row2 col1\" >Между долями пользователей нет различий</td>\n",
       "      <td id=\"T_6442e_row2_col2\" class=\"data row2 col2\" >Между долями пользователей есть различия</td>\n",
       "      <td id=\"T_6442e_row2_col3\" class=\"data row2 col3\" >0.05</td>\n",
       "      <td id=\"T_6442e_row2_col4\" class=\"data row2 col4\" >0.181759</td>\n",
       "      <td id=\"T_6442e_row2_col5\" class=\"data row2 col5\" >False</td>\n",
       "      <td id=\"T_6442e_row2_col6\" class=\"data row2 col6\" >Н0</td>\n",
       "    </tr>\n",
       "    <tr>\n",
       "      <th id=\"T_6442e_level0_row3\" class=\"row_heading level0 row3\" >15</th>\n",
       "      <td id=\"T_6442e_row3_col0\" class=\"data row3 col0\" >Объединенные А и тестовая В: payment</td>\n",
       "      <td id=\"T_6442e_row3_col1\" class=\"data row3 col1\" >Между долями пользователей нет различий</td>\n",
       "      <td id=\"T_6442e_row3_col2\" class=\"data row3 col2\" >Между долями пользователей есть различия</td>\n",
       "      <td id=\"T_6442e_row3_col3\" class=\"data row3 col3\" >0.05</td>\n",
       "      <td id=\"T_6442e_row3_col4\" class=\"data row3 col4\" >0.600429</td>\n",
       "      <td id=\"T_6442e_row3_col5\" class=\"data row3 col5\" >False</td>\n",
       "      <td id=\"T_6442e_row3_col6\" class=\"data row3 col6\" >Н0</td>\n",
       "    </tr>\n",
       "  </tbody>\n",
       "</table>\n"
      ],
      "text/plain": [
       "<pandas.io.formats.style.Styler at 0x7f7cb2a09430>"
      ]
     },
     "metadata": {},
     "output_type": "display_data"
    }
   ],
   "source": [
    "report_styler(tests.result[tests.result['Выборка'].str.startswith('Объединенные')])"
   ]
  },
  {
   "cell_type": "markdown",
   "id": "exotic-advantage",
   "metadata": {},
   "source": [
    "&#9889; **Выводы**\n",
    "\n",
    "В отношении различий долей между объединненными контрольными группами и тестовой группой В, исходя из представленных данных, на уровне значимости 5% - нет оснований отвергнуть нулевую гипотезу в пользу альтернативы: между долями пользователей в контрольных группах и тестовой группе В нет статистически значимой разницы."
   ]
  },
  {
   "cell_type": "markdown",
   "id": "asian-removal",
   "metadata": {},
   "source": [
    "[В оглавление](#TOC)"
   ]
  },
  {
   "cell_type": "markdown",
   "id": "virtual-hacker",
   "metadata": {},
   "source": [
    "### - комментарий по уровню значимости"
   ]
  },
  {
   "cell_type": "markdown",
   "id": "neither-victory",
   "metadata": {},
   "source": [
    "Было проведено шестнадцать тестов на одних и тех же данных, что должно повышать требования к уровню значимости. В каждом тесте использован уровень значимости - 5%. Можно было бы использовать поправку Бонферрони:"
   ]
  },
  {
   "cell_type": "code",
   "execution_count": 51,
   "id": "devoted-trinity",
   "metadata": {},
   "outputs": [
    {
     "data": {
      "text/plain": [
       "0.003125"
      ]
     },
     "execution_count": 51,
     "metadata": {},
     "output_type": "execute_result"
    }
   ],
   "source": [
    "alpha = 0.05\n",
    "bonferroni_alpha = alpha / 16\n",
    "bonferroni_alpha"
   ]
  },
  {
   "cell_type": "markdown",
   "id": "pleasant-distributor",
   "metadata": {},
   "source": [
    "С поправкой уровень значимости должен быть установлен на уровне 0.3%. Проверим самое низкое p-value в результатах:"
   ]
  },
  {
   "cell_type": "code",
   "execution_count": 52,
   "id": "close-converter",
   "metadata": {},
   "outputs": [
    {
     "data": {
      "text/plain": [
       "0.07842923237520125"
      ]
     },
     "execution_count": 52,
     "metadata": {},
     "output_type": "execute_result"
    }
   ],
   "source": [
    "tests.result['p-value'].min()"
   ]
  },
  {
   "cell_type": "markdown",
   "id": "banned-linux",
   "metadata": {},
   "source": [
    "Принимая во внимание, что самое низкое p-value равно 0.07 поправка уровня значимости лишена практического смысла."
   ]
  },
  {
   "cell_type": "markdown",
   "id": "alternate-tonight",
   "metadata": {},
   "source": [
    "[В оглавление](#TOC)"
   ]
  },
  {
   "cell_type": "markdown",
   "id": "nervous-xerox",
   "metadata": {
    "tags": []
   },
   "source": [
    "# Выводы<a class='anchor' id='conclusions'></a>"
   ]
  },
  {
   "cell_type": "markdown",
   "id": "medieval-accommodation",
   "metadata": {},
   "source": [
    "1. В представленных данных 244126 наблюдений за две недели: от 25 июля 2019 года до 07.08.2019 года. Данные идут последовательно, без явных пропусков, без явных проблем с типом данных.\n",
    "2. Выявлено, что за период от 25.07.2019 года до 31.07.2019 года зафиксировано чуть более 1% всех наблюдений о пользователях (2 826).\n",
    "3. После исключения полных дубликатов (413 наблюдений) и неполных данных за период от 25.07.2019 года до 31.07.2019 года – получили таблицу с 240 887 строками и 6 колонками, без пропусков и проблем с данными. \n",
    "4. Дополнительно переименовали группы и события для улучшения восприятия. Группы 246 – А_one (A-1), 247 – A_two (A-2), 248 – B_test.\n",
    "5. Всего в датасете представлено пять событий (с учетом переименования):\n",
    "    - main screen (посетило 7 439 уникальных пользователей из 7 551, 98.47%)\n",
    "    - offer screen (посетило 4613 уникальных пользователей из 7 551, 60.96%)\n",
    "    - cart (посетило 3749 уникальных пользователей из 7 551, 49.56%)\n",
    "    - payment (посетило 3547 уникальных пользователей из 7 551, 46.97%)\n",
    "    - tutorial (посетило 847 уникальных пользователей из 7 551, 11.15%)\n",
    "    - В среднем, на пользователя приходится 32.27 событий\n",
    "7. Опираясь на число и долю пользователей и повременное появление событий в таблице с некоторой осторожностью, можно утверждать, что посетители интернет-магазина до оплаты товара проходят такие шаги:\n",
    "    - Попадают на экран с обучением,\n",
    "    - Заходят на главную страницу магазина.\n",
    "    - Переходят на страницу товара.\n",
    "    - Добавляют товар в корзину.\n",
    "    - Переходят в корзину, оформляют заказ.\n",
    "    - Оплачивают заказ.\n",
    "8. Учитывая, что обучение проходят всего 11.15% уникальных пользователей и, разумно предположить, обучение не загружается каждый раз, этот шаг является необязательной частью взаимодействия с магазином. Как следствие шаг исключен при дальнейшем анализе.\n",
    "9. Только 46.97% (3 539) пользователей прошли от первого до последнего этапа.\n",
    "10. Из 7 419 уникальных пользователей 2 826 (37%) так и не перешли с главной страницы - это шаг с наибольшей потерей. Кроме того, при переходе с экрана предложений 859 (18%) из 4593 перешедших на экран предложений пользователей не перешли к оформлению заказа. Только 195 (4%) из 3734 так и не оплатили товар.\n",
    "11. Установить причину потери пользователей на каждом из шагов с разумной степенью достоверности исходя из данных не представляется возможным.\n",
    "12. Всего в таблице три группы - две контрольных, одна тестовая:\n",
    "    - 2537 (33.67% от общего числа уникальных пользователей),\n",
    "    - 2513 (33.36% от общего числа уникальных пользователей),\n",
    "    - 2484 (32.97% от общего числа уникальных пользователей).\n",
    "13. К данным был применен Z-тест для проверки гипотезы о равенстве долей в группах.\n",
    "14. Разделение групп было произведено корректно: разница в количестве пользователей менее одного процента, статистически значимых различий между контрольными группами не выявлено.\n",
    "15. По результатам статистического теста в отношении контрольных и тестовой группы, на уровне значимости 5%, не удалось опровергнуть гипотезу о равенстве долей пользователей на каждом шаге. Как следствие, следует сделать вывод о том, что изменение шрифта не повлияло на пользователей с точки зрения конверсии.\n"
   ]
  },
  {
   "cell_type": "markdown",
   "id": "documentary-polymer",
   "metadata": {},
   "source": [
    "[В оглавление](#TOC)"
   ]
  }
 ],
 "metadata": {
  "kernelspec": {
   "display_name": "venv",
   "language": "python",
   "name": "venv"
  },
  "language_info": {
   "codemirror_mode": {
    "name": "ipython",
    "version": 3
   },
   "file_extension": ".py",
   "mimetype": "text/x-python",
   "name": "python",
   "nbconvert_exporter": "python",
   "pygments_lexer": "ipython3",
   "version": "3.8.10"
  }
 },
 "nbformat": 4,
 "nbformat_minor": 5
}
